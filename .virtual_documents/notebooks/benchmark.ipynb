


import os
import glob
import json
import time
from datetime import datetime
from dateutil import tz
from pathlib import Path
import h5py

import matplotlib.pyplot as plt
import numpy as np
import h5py
import dask.array as da
import tifffile
import cv2
from icecream import ic
%matplotlib inline





#enable or disable logging
#ic.disable()
ic.enable()





path_input_file = "/data2/fpo/lbm/3mm_5mm"
files = sorted(glob.glob(path_input_file + '/*.tif', recursive=True))
# Notice how each file contains different metadata in the filename, i.e. .9mmx.9mm vs 3mm x 5mm

[f"{Path(x).name}" for x in files]





#%% Read
for file in files:

    print(f"--- Processing: {file}")
    
    metadata = {}
    with open(file, 'rb') as fh:
        metadata = tifffile.read_scanimage_metadata(fh)
        static_metadata = metadata[0]
        frame_metadata = metadata[1]['RoiGroups']['imagingRoiGroup']['rois']
    rois = [x['scanfields'] for x in frame_metadata]
    centerXY = rois[0]['centerXY']
    print(f"CenterXY: {(centerXY[0], centerXY[1])}")
    sizeXY = rois[0]['sizeXY']
    print(f"sizeXY: {(sizeXY[0], sizeXY[1])}")
    pixel_resolution_xy = rois[0]['pixelResolutionXY']
    
    num_frames = static_metadata['SI.hStackManager.framesPerSlice']
    print(f"Alleged Frames: {num_frames}")
    num_planes = len(static_metadata['SI.hChannels.channelsActive'])
    print(f"Planes: {num_planes}")
    frame_rate = static_metadata['SI.hRoiManager.scanVolumeRate']  # scanVolumeRate/scanFrameRate are the same now, but may not always be 
    print(f"Volume rate: {frame_rate} Hz")
    objective_resolution = static_metadata['SI.objectiveResolution']  # 157.5
    print(f"Objective resolution: {objective_resolution} deg/um")
    
    # Explore:
    lines_per_frame = static_metadata['SI.hRoiManager.linesPerFrame']
    print(f'{lines_per_frame} lines/frame')
    px_per_line = static_metadata['SI.hRoiManager.pixelsPerLine']
    print(f'{px_per_line} pixels/line')
    r_arr = da.from_zarr(tifffile.imread(file, aszarr=True))
    print(f"Alleged filesize: {r_arr.nbytes / 10**9} GB")
    print(f"Alleged array dims: {r_arr.shape}")
    print(f" ")
    





try:
    print(r_arr.shape)
    array_loaded = r_arr.compute()
except IndexError:
    print("Index error! Oops!")





data = tifffile.imread(file)
data = data.reshape(int(data.shape[0] / num_planes), num_planes,  data.shape[1], data.shape[2])
data = np.swapaxes(data, 1, 3)


file = Path(file)
new_name = file.name[:-16] + f"_{data.shape[0]}_{data.shape[1]}_{data.shape[2]}"
new_file = file.parent / Path(new_name).with_suffix('.h5')
new_file





# Write .tif as h5, with metadata as attributes
with h5py.File(new_file, 'w') as f:
    f.create_dataset("mov", data=)
    f.attrs.create( "metadata", str(metadata) )
    
end = time.time()
duration = f"{end-start:.2f}"
print(f"{duration_tif} seconds")
