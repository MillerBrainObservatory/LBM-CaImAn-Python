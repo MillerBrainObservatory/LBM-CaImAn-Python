


import os
import sys
import glob
import json
import time
from datetime import datetime
from dateutil import tz
from pathlib import Path
import h5py

import matplotlib.pyplot as plt
import numpy as np
import h5py
import dask.array as da
import tifffile
import cv2
from icecream import ic
from pprint import pprint
%matplotlib inline





#enable or disable logging
#ic.disable()
ic.enable()

def extract_metadata(filename):
    metadata = {}
    with open(filename, 'rb') as fh:
        metadata = tifffile.read_scanimage_metadata(fh)
    static_metadata = metadata[0]
    frame_metadata = metadata[1]['RoiGroups']['imagingRoiGroup']['rois']
    rois = [x['scanfields'] for x in frame_metadata]
    raw_arr =  da.from_zarr(tifffile.imread(filename, aszarr=True))
    return {
        'fname': filename,
        'arr': raw_arr,
        'center_xy': rois[0]['centerXY'], 
        'size_xy': rois[0]['sizeXY'],
        'pixel_resolution_xy': rois[0]['pixelResolutionXY'],
        'num_frames': static_metadata['SI.hStackManager.framesPerSlice'],
        'num_planes': len(static_metadata['SI.hChannels.channelsActive']),
        'frame_rate': static_metadata['SI.hRoiManager.scanVolumeRate'],
        'objective_resolution': static_metadata['SI.objectiveResolution'],
        'lines_per_frame': static_metadata['SI.hRoiManager.linesPerFrame'],
        'px_per_line': static_metadata['SI.hRoiManager.pixelsPerLine'],
        'file_size_gb': raw_arr.nbytes / 10**9,
        'array_dims': raw_arr.shape
    }
    
def get_slice_coordinates(arr_shape, square_size=(142, 142)):
    """Get the start and end coordinates for slicing a square from the center of a 2D array."""
    # Get the dimensions of the input array
    rows, cols = arr_shape
    
    # grab a square at the center of the array
    start_row = (rows - square_size[0]) // 2
    end_row = start_row + square_size[0]
    start_col = (cols - square_size[1]) // 2
    end_col = start_col + square_size[1]
    
    return (start_row, start_col), (end_row, end_col)    






sandbox_filepath = "/data2/fpo/lbm/sandbox/"
sandbox_files = sorted(glob.glob(sandbox_filepath + '/*.tif', recursive=True))
if len(sandbox_files)<=1: print(f"No files found in {sandbox_filepath}") 
else: print([f"{Path(x).name}" for x in sandbox_files])
# Notice how each file contains different metadata in the filename, i.e. .9mmx.9mm vs 3mm x 5mm





sandbox_metadata = extract_metadata(sandbox_files[0])
for i, filename in enumerate(sandbox_files):
    print(f'File {i+1}')
    pprint(extract_metadata(filename))
    print(' ')





# try:
#     print(r_arr.shape)
#     array_loaded = r_arr.compute()
# except IndexError:
#     print("Index error! Oops!")





# We should have 10 files, with 844 frames each, totaling 8440 frames as shown in the metadata for this file
path_sample_files = "/data2/fpo/lbm/3mm_5mm/"
sample_files = sorted(glob.glob(path_sample_files + '/*.tif', recursive=True))
if len(sample_files)<=1: print(f"No files found in {path_sample_files}") 
else: print([f"{Path(x).name}" for x in sample_files])
sample_metadata = extract_metadata(sample_files[0])


data = tifffile.imread(sample_files[0])


start, end = get_slice_coordinates((data.shape[1], data.shape[2]))
my_arr = data[:, start[0]:end[0], start[1]:end[1]]
print(my_arr.shape)


# Write .tif as h5, with metadata as attributes
file = Path(sample_files[0])
new_name = file.name[:-16] + f"_{my_arr.shape[0]}_{my_arr.shape[1]}_{my_arr.shape[2]}"
new_file = file.parent / Path(new_name).with_suffix('.h5')
new_file


with h5py.File(new_file, 'w') as f:
    f.create_dataset("mov", data=my_arr)
    f.attrs.create( "metadata", str(sample_metadata))





matfile = [x for x in Path('/data2/fpo/lbm/3mm_5mm/TMP/').glob('*.mat')]
assert matfile[0].is_file()


fh = h5py.File(matfile[0])
