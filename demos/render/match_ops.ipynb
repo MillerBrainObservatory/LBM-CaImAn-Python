{
 "cells": [
  {
   "cell_type": "code",
   "execution_count": 1,
   "id": "28d4ffcc-8a77-4723-998b-acb61c0f069b",
   "metadata": {
    "editable": true,
    "execution": {
     "iopub.execute_input": "2025-01-13T15:03:02.471961Z",
     "iopub.status.busy": "2025-01-13T15:03:02.471961Z",
     "iopub.status.idle": "2025-01-13T15:03:07.505949Z",
     "shell.execute_reply": "2025-01-13T15:03:07.505949Z",
     "shell.execute_reply.started": "2025-01-13T15:03:02.471961Z"
    },
    "slideshow": {
     "slide_type": ""
    },
    "tags": []
   },
   "outputs": [
    {
     "name": "stderr",
     "output_type": "stream",
     "text": [
      "WGPU: enumerate_adapters() is deprecated, use enumerate_adapters_sync() instead.\n",
      "WGPU: request_adapter() is deprecated, use request_adapter_sync() instead.\n"
     ]
    },
    {
     "data": {
      "application/vnd.jupyter.widget-view+json": {
       "model_id": "53f57d151c5a48f48f42f04a363d1c0e",
       "version_major": 2,
       "version_minor": 0
      },
      "text/plain": [
       "Image(value=b'\\x89PNG\\r\\n\\x1a\\n\\x00\\x00\\x00\\rIHDR\\x00\\x00\\x01,\\x00\\x00\\x007\\x08\\x06\\x00\\x00\\x00\\xb6\\x1bw\\x99\\x…"
      ]
     },
     "metadata": {},
     "output_type": "display_data"
    },
    {
     "data": {
      "text/html": [
       "<b>Available devices:</b><table><tr><th>Valid</th><th>Device</th><th>Type</th><th>Backend</th><th>Driver</th></tr><tr title=\"This adapter can be used with fastplotlib\"><td>✅ (default) </td><td>NVIDIA RTX A4000</td><td>DiscreteGPU</td><td>Vulkan</td><td>560.94</td></tr><tr title=\"This adapter can be used with fastplotlib\"><td>✅</td><td>NVIDIA RTX A4000</td><td>DiscreteGPU</td><td>D3D12</td><td></td></tr><tr title=\"CPU rendering support is limited and mainly for testing purposes\"><td>❗ limited</td><td>Microsoft Basic Render Driver</td><td>CPU</td><td>D3D12</td><td></td></tr><tr title=\"This adapter cannot be used with fastplotlib\"><td>❌</td><td>NVIDIA RTX A4000/PCIe/SSE2</td><td>Unknown</td><td>OpenGL</td><td>4.6.0 NVIDIA 560.94</td></tr></table>"
      ],
      "text/plain": [
       "<IPython.core.display.HTML object>"
      ]
     },
     "metadata": {},
     "output_type": "display_data"
    }
   ],
   "source": [
    "%load_ext autoreload\n",
    "%autoreload 2\n",
    "\n",
    "from pathlib import Path\n",
    "import os\n",
    "import pandas as pd\n",
    "\n",
    "import numpy as np\n",
    "import tifffile\n",
    "from matplotlib import pyplot as plt\n",
    "import fastplotlib as fpl\n",
    "\n",
    "import caiman as cm\n",
    "import mesmerize_core as mc\n",
    "from mesmerize_core.caiman_extensions.cnmf import cnmf_cache\n",
    "import lbm_caiman_python as lcp"
   ]
  },
  {
   "cell_type": "code",
   "execution_count": 2,
   "id": "a7910158-eb85-4790-9ff4-103f0f4085ed",
   "metadata": {
    "editable": true,
    "execution": {
     "iopub.execute_input": "2025-01-13T15:03:46.772202Z",
     "iopub.status.busy": "2025-01-13T15:03:46.772202Z",
     "iopub.status.idle": "2025-01-13T15:03:46.944109Z",
     "shell.execute_reply": "2025-01-13T15:03:46.944002Z",
     "shell.execute_reply.started": "2025-01-13T15:03:46.772202Z"
    },
    "slideshow": {
     "slide_type": ""
    },
    "tags": []
   },
   "outputs": [
    {
     "data": {
      "text/plain": [
       "WindowsPath('C:/Users/RBO/lbm_data/demo_data')"
      ]
     },
     "execution_count": 2,
     "metadata": {},
     "output_type": "execute_result"
    }
   ],
   "source": [
    "data_path = Path().home() / \"lbm_data\" / \"demo_data\"\n",
    "mc.set_parent_raw_data_path(data_path)"
   ]
  },
  {
   "cell_type": "code",
   "execution_count": 3,
   "id": "2286ee68-df0f-4cf7-b063-facc2c9107ed",
   "metadata": {
    "editable": true,
    "execution": {
     "iopub.execute_input": "2025-01-13T15:04:00.508317Z",
     "iopub.status.busy": "2025-01-13T15:04:00.508317Z",
     "iopub.status.idle": "2025-01-13T15:04:00.679071Z",
     "shell.execute_reply": "2025-01-13T15:04:00.678992Z",
     "shell.execute_reply.started": "2025-01-13T15:04:00.508317Z"
    },
    "slideshow": {
     "slide_type": ""
    },
    "tags": []
   },
   "outputs": [],
   "source": [
    "batch_path = data_path / 'batch.pickle'\n",
    "df = mc.load_batch(batch_path)"
   ]
  },
  {
   "cell_type": "code",
   "execution_count": 4,
   "id": "74096d16-4c45-4672-86a9-68364a958458",
   "metadata": {
    "execution": {
     "iopub.execute_input": "2025-01-13T15:04:04.849973Z",
     "iopub.status.busy": "2025-01-13T15:04:04.849973Z",
     "iopub.status.idle": "2025-01-13T15:04:05.030899Z",
     "shell.execute_reply": "2025-01-13T15:04:05.030899Z",
     "shell.execute_reply.started": "2025-01-13T15:04:04.849973Z"
    }
   },
   "outputs": [
    {
     "data": {
      "text/html": [
       "<div>\n",
       "<style scoped>\n",
       "    .dataframe tbody tr th:only-of-type {\n",
       "        vertical-align: middle;\n",
       "    }\n",
       "\n",
       "    .dataframe tbody tr th {\n",
       "        vertical-align: top;\n",
       "    }\n",
       "\n",
       "    .dataframe thead th {\n",
       "        text-align: right;\n",
       "    }\n",
       "</style>\n",
       "<table border=\"1\" class=\"dataframe\">\n",
       "  <thead>\n",
       "    <tr style=\"text-align: right;\">\n",
       "      <th></th>\n",
       "      <th>algo</th>\n",
       "      <th>item_name</th>\n",
       "      <th>input_movie_path</th>\n",
       "      <th>params</th>\n",
       "      <th>outputs</th>\n",
       "      <th>added_time</th>\n",
       "      <th>ran_time</th>\n",
       "      <th>algo_duration</th>\n",
       "      <th>comments</th>\n",
       "      <th>uuid</th>\n",
       "      <th>min</th>\n",
       "      <th>max</th>\n",
       "    </tr>\n",
       "  </thead>\n",
       "  <tbody>\n",
       "    <tr>\n",
       "      <th>0</th>\n",
       "      <td>mcorr</td>\n",
       "      <td>mcorr</td>\n",
       "      <td>plane_1.tiff</td>\n",
       "      <td>{'main': {'pw_rigid': True, 'max_shifts': (6, 6), 'strides': (44, 44), 'overlaps': (13, 13), 'min_mov': None, 'gSig_...</td>\n",
       "      <td>{'mean-projection-path': e2258cfb-72eb-4781-816a-c018002b1759\\e2258cfb-72eb-4781-816a-c018002b1759_mean_projection.n...</td>\n",
       "      <td>2025-01-11T19:23:44</td>\n",
       "      <td>2025-01-11T19:25:03</td>\n",
       "      <td>75.04 sec</td>\n",
       "      <td>None</td>\n",
       "      <td>e2258cfb-72eb-4781-816a-c018002b1759</td>\n",
       "      <td>NaN</td>\n",
       "      <td>NaN</td>\n",
       "    </tr>\n",
       "    <tr>\n",
       "      <th>1</th>\n",
       "      <td>mcorr</td>\n",
       "      <td>mcorr</td>\n",
       "      <td>plane_1.tiff</td>\n",
       "      <td>{'main': {'pw_rigid': True, 'max_shifts': (2, 2), 'strides': (14, 14), 'overlaps': (4, 4), 'min_mov': None, 'gSig_fi...</td>\n",
       "      <td>{'mean-projection-path': 'af30391a-61b5-47bb-b7d4-ce5b6b668465/af30391a-61b5-47bb-b7d4-ce5b6b668465_mean_projection....</td>\n",
       "      <td>2025-01-11T19:33:33</td>\n",
       "      <td>2025-01-12T19:19:31</td>\n",
       "      <td>119.57 sec</td>\n",
       "      <td>None</td>\n",
       "      <td>af30391a-61b5-47bb-b7d4-ce5b6b668465</td>\n",
       "      <td>NaN</td>\n",
       "      <td>NaN</td>\n",
       "    </tr>\n",
       "    <tr>\n",
       "      <th>2</th>\n",
       "      <td>mcorr</td>\n",
       "      <td>mcorr</td>\n",
       "      <td>plane_1.tiff</td>\n",
       "      <td>{'main': {'pw_rigid': True, 'max_shifts': (2, 2), 'strides': (14, 14), 'overlaps': (4, 4), 'min_mov': None, 'gSig_fi...</td>\n",
       "      <td>{'mean-projection-path': 'abb29c6c-7ab3-4f39-98d5-33bc19e05113/abb29c6c-7ab3-4f39-98d5-33bc19e05113_mean_projection....</td>\n",
       "      <td>2025-01-11T19:33:34</td>\n",
       "      <td>2025-01-12T19:21:31</td>\n",
       "      <td>120.22 sec</td>\n",
       "      <td>None</td>\n",
       "      <td>abb29c6c-7ab3-4f39-98d5-33bc19e05113</td>\n",
       "      <td>NaN</td>\n",
       "      <td>NaN</td>\n",
       "    </tr>\n",
       "    <tr>\n",
       "      <th>3</th>\n",
       "      <td>mcorr</td>\n",
       "      <td>mcorr</td>\n",
       "      <td>plane_1.tiff</td>\n",
       "      <td>{'main': {'pw_rigid': True, 'max_shifts': (4, 4), 'strides': (29, 29), 'overlaps': (8, 8), 'min_mov': None, 'gSig_fi...</td>\n",
       "      <td>{'mean-projection-path': 'eea7041c-308a-4b78-8dec-d6b863feae4e/eea7041c-308a-4b78-8dec-d6b863feae4e_mean_projection....</td>\n",
       "      <td>2025-01-11T19:33:34</td>\n",
       "      <td>2025-01-12T19:22:55</td>\n",
       "      <td>83.48 sec</td>\n",
       "      <td>None</td>\n",
       "      <td>eea7041c-308a-4b78-8dec-d6b863feae4e</td>\n",
       "      <td>NaN</td>\n",
       "      <td>NaN</td>\n",
       "    </tr>\n",
       "    <tr>\n",
       "      <th>4</th>\n",
       "      <td>mcorr</td>\n",
       "      <td>mcorr</td>\n",
       "      <td>plane_1.tiff</td>\n",
       "      <td>{'main': {'pw_rigid': True, 'max_shifts': (4, 4), 'strides': (29, 29), 'overlaps': (8, 8), 'min_mov': None, 'gSig_fi...</td>\n",
       "      <td>{'mean-projection-path': '2766892f-95f2-456b-8297-7709b91f0eb2/2766892f-95f2-456b-8297-7709b91f0eb2_mean_projection....</td>\n",
       "      <td>2025-01-11T19:33:35</td>\n",
       "      <td>2025-01-12T19:24:19</td>\n",
       "      <td>84.79 sec</td>\n",
       "      <td>None</td>\n",
       "      <td>2766892f-95f2-456b-8297-7709b91f0eb2</td>\n",
       "      <td>NaN</td>\n",
       "      <td>NaN</td>\n",
       "    </tr>\n",
       "    <tr>\n",
       "      <th>5</th>\n",
       "      <td>mcorr</td>\n",
       "      <td>mcorr</td>\n",
       "      <td>plane_1.tiff</td>\n",
       "      <td>{'main': {'pw_rigid': True, 'max_shifts': (9, 9), 'strides': (58, 58), 'overlaps': (17, 17), 'min_mov': None, 'gSig_...</td>\n",
       "      <td>{'mean-projection-path': '3e684596-7809-4b54-9dab-fbf8f8ab2264/3e684596-7809-4b54-9dab-fbf8f8ab2264_mean_projection....</td>\n",
       "      <td>2025-01-11T19:33:35</td>\n",
       "      <td>2025-01-12T19:25:31</td>\n",
       "      <td>71.17 sec</td>\n",
       "      <td>None</td>\n",
       "      <td>3e684596-7809-4b54-9dab-fbf8f8ab2264</td>\n",
       "      <td>NaN</td>\n",
       "      <td>NaN</td>\n",
       "    </tr>\n",
       "    <tr>\n",
       "      <th>6</th>\n",
       "      <td>mcorr</td>\n",
       "      <td>mcorr</td>\n",
       "      <td>plane_1.tiff</td>\n",
       "      <td>{'main': {'pw_rigid': True, 'max_shifts': (9, 9), 'strides': (58, 58), 'overlaps': (17, 17), 'min_mov': None, 'gSig_...</td>\n",
       "      <td>{'mean-projection-path': '48e84d2d-e29d-4fd2-a1a3-5e1887499994/48e84d2d-e29d-4fd2-a1a3-5e1887499994_mean_projection....</td>\n",
       "      <td>2025-01-11T19:33:35</td>\n",
       "      <td>2025-01-12T19:26:44</td>\n",
       "      <td>73.41 sec</td>\n",
       "      <td>None</td>\n",
       "      <td>48e84d2d-e29d-4fd2-a1a3-5e1887499994</td>\n",
       "      <td>NaN</td>\n",
       "      <td>NaN</td>\n",
       "    </tr>\n",
       "  </tbody>\n",
       "</table>\n",
       "</div>"
      ],
      "text/plain": [
       "    algo item_name input_movie_path  \\\n",
       "0  mcorr     mcorr     plane_1.tiff   \n",
       "1  mcorr     mcorr     plane_1.tiff   \n",
       "2  mcorr     mcorr     plane_1.tiff   \n",
       "3  mcorr     mcorr     plane_1.tiff   \n",
       "4  mcorr     mcorr     plane_1.tiff   \n",
       "5  mcorr     mcorr     plane_1.tiff   \n",
       "6  mcorr     mcorr     plane_1.tiff   \n",
       "\n",
       "                                                                                                                    params  \\\n",
       "0  {'main': {'pw_rigid': True, 'max_shifts': (6, 6), 'strides': (44, 44), 'overlaps': (13, 13), 'min_mov': None, 'gSig_...   \n",
       "1  {'main': {'pw_rigid': True, 'max_shifts': (2, 2), 'strides': (14, 14), 'overlaps': (4, 4), 'min_mov': None, 'gSig_fi...   \n",
       "2  {'main': {'pw_rigid': True, 'max_shifts': (2, 2), 'strides': (14, 14), 'overlaps': (4, 4), 'min_mov': None, 'gSig_fi...   \n",
       "3  {'main': {'pw_rigid': True, 'max_shifts': (4, 4), 'strides': (29, 29), 'overlaps': (8, 8), 'min_mov': None, 'gSig_fi...   \n",
       "4  {'main': {'pw_rigid': True, 'max_shifts': (4, 4), 'strides': (29, 29), 'overlaps': (8, 8), 'min_mov': None, 'gSig_fi...   \n",
       "5  {'main': {'pw_rigid': True, 'max_shifts': (9, 9), 'strides': (58, 58), 'overlaps': (17, 17), 'min_mov': None, 'gSig_...   \n",
       "6  {'main': {'pw_rigid': True, 'max_shifts': (9, 9), 'strides': (58, 58), 'overlaps': (17, 17), 'min_mov': None, 'gSig_...   \n",
       "\n",
       "                                                                                                                   outputs  \\\n",
       "0  {'mean-projection-path': e2258cfb-72eb-4781-816a-c018002b1759\\e2258cfb-72eb-4781-816a-c018002b1759_mean_projection.n...   \n",
       "1  {'mean-projection-path': 'af30391a-61b5-47bb-b7d4-ce5b6b668465/af30391a-61b5-47bb-b7d4-ce5b6b668465_mean_projection....   \n",
       "2  {'mean-projection-path': 'abb29c6c-7ab3-4f39-98d5-33bc19e05113/abb29c6c-7ab3-4f39-98d5-33bc19e05113_mean_projection....   \n",
       "3  {'mean-projection-path': 'eea7041c-308a-4b78-8dec-d6b863feae4e/eea7041c-308a-4b78-8dec-d6b863feae4e_mean_projection....   \n",
       "4  {'mean-projection-path': '2766892f-95f2-456b-8297-7709b91f0eb2/2766892f-95f2-456b-8297-7709b91f0eb2_mean_projection....   \n",
       "5  {'mean-projection-path': '3e684596-7809-4b54-9dab-fbf8f8ab2264/3e684596-7809-4b54-9dab-fbf8f8ab2264_mean_projection....   \n",
       "6  {'mean-projection-path': '48e84d2d-e29d-4fd2-a1a3-5e1887499994/48e84d2d-e29d-4fd2-a1a3-5e1887499994_mean_projection....   \n",
       "\n",
       "            added_time             ran_time algo_duration comments  \\\n",
       "0  2025-01-11T19:23:44  2025-01-11T19:25:03     75.04 sec     None   \n",
       "1  2025-01-11T19:33:33  2025-01-12T19:19:31    119.57 sec     None   \n",
       "2  2025-01-11T19:33:34  2025-01-12T19:21:31    120.22 sec     None   \n",
       "3  2025-01-11T19:33:34  2025-01-12T19:22:55     83.48 sec     None   \n",
       "4  2025-01-11T19:33:35  2025-01-12T19:24:19     84.79 sec     None   \n",
       "5  2025-01-11T19:33:35  2025-01-12T19:25:31     71.17 sec     None   \n",
       "6  2025-01-11T19:33:35  2025-01-12T19:26:44     73.41 sec     None   \n",
       "\n",
       "                                   uuid  min  max  \n",
       "0  e2258cfb-72eb-4781-816a-c018002b1759  NaN  NaN  \n",
       "1  af30391a-61b5-47bb-b7d4-ce5b6b668465  NaN  NaN  \n",
       "2  abb29c6c-7ab3-4f39-98d5-33bc19e05113  NaN  NaN  \n",
       "3  eea7041c-308a-4b78-8dec-d6b863feae4e  NaN  NaN  \n",
       "4  2766892f-95f2-456b-8297-7709b91f0eb2  NaN  NaN  \n",
       "5  3e684596-7809-4b54-9dab-fbf8f8ab2264  NaN  NaN  \n",
       "6  48e84d2d-e29d-4fd2-a1a3-5e1887499994  NaN  NaN  "
      ]
     },
     "execution_count": 4,
     "metadata": {},
     "output_type": "execute_result"
    }
   ],
   "source": [
    "df"
   ]
  },
  {
   "cell_type": "code",
   "execution_count": 5,
   "id": "2d095b6c-4a69-4c2e-bec4-bfaf153ecd04",
   "metadata": {
    "execution": {
     "iopub.execute_input": "2025-01-13T15:04:42.751020Z",
     "iopub.status.busy": "2025-01-13T15:04:42.751020Z",
     "iopub.status.idle": "2025-01-13T15:04:42.930094Z",
     "shell.execute_reply": "2025-01-13T15:04:42.930094Z",
     "shell.execute_reply.started": "2025-01-13T15:04:42.751020Z"
    }
   },
   "outputs": [],
   "source": [
    "ops = lcp.default_ops()"
   ]
  },
  {
   "cell_type": "code",
   "execution_count": 8,
   "id": "fe2526ff-9e1f-4fb3-b868-a1bd9a45124b",
   "metadata": {
    "execution": {
     "iopub.execute_input": "2025-01-13T15:05:30.834620Z",
     "iopub.status.busy": "2025-01-13T15:05:30.834620Z",
     "iopub.status.idle": "2025-01-13T15:05:31.027118Z",
     "shell.execute_reply": "2025-01-13T15:05:31.027118Z",
     "shell.execute_reply.started": "2025-01-13T15:05:30.834620Z"
    }
   },
   "outputs": [
    {
     "data": {
      "text/plain": [
       "{'image_height': 2478,\n",
       " 'image_width': 145,\n",
       " 'num_pages': 51900,\n",
       " 'ndim': 3,\n",
       " 'dtype': 'uint16',\n",
       " 'size': 18648189000,\n",
       " 'shape': [51900, 2478, 145],\n",
       " 'num_planes': 30,\n",
       " 'num_rois': 4,\n",
       " 'num_frames': 1730.0,\n",
       " 'frame_rate': 9.60806,\n",
       " 'fov': [150, 600],\n",
       " 'pixel_resolution': [1.04, 1.0],\n",
       " 'roi_width_px': 144,\n",
       " 'roi_height_px': 600,\n",
       " 'sample_format': 'int16',\n",
       " 'num_lines_between_scanfields': 24,\n",
       " 'center_xy': [-1.428571429, 0],\n",
       " 'line_period': 4.15652e-05,\n",
       " 'size_xy': [0.9523809524, 3.80952381],\n",
       " 'objective_resolution': 157.5}"
      ]
     },
     "execution_count": 8,
     "metadata": {},
     "output_type": "execute_result"
    }
   ],
   "source": [
    "metadata = lcp.get_metadata(list(data_path.glob('*.tif*'))[0])\n",
    "metadata"
   ]
  },
  {
   "cell_type": "code",
   "execution_count": null,
   "id": "86246864-afa4-48f9-b7a2-0e3f6dc843e1",
   "metadata": {},
   "outputs": [],
   "source": []
  }
 ],
 "metadata": {
  "kernelspec": {
   "display_name": "Python 3 (ipykernel)",
   "language": "python",
   "name": "python3"
  },
  "language_info": {
   "codemirror_mode": {
    "name": "ipython",
    "version": 3
   },
   "file_extension": ".py",
   "mimetype": "text/x-python",
   "name": "python",
   "nbconvert_exporter": "python",
   "pygments_lexer": "ipython3",
   "version": "3.10.8"
  }
 },
 "nbformat": 4,
 "nbformat_minor": 5
}
