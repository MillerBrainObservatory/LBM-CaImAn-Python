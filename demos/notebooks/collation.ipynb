{
 "cells": [
  {
   "cell_type": "markdown",
   "metadata": {},
   "source": [
    "# LBM Step 4: Collate Planes"
   ]
  },
  {
   "cell_type": "code",
   "execution_count": 8,
   "metadata": {},
   "outputs": [],
   "source": [
    "import sys\n",
    "from pathlib import Path\n",
    "import os\n",
    "import numpy as np\n",
    "import zarr\n",
    "import napari\n",
    "\n",
    "import logging\n",
    "import matplotlib.pyplot as plt\n",
    "\n",
    "# Importing this WONT WORK withotu adding to the path\n",
    "sys.path.append('../..')  # TODO: Take this out when we upload to pypi\n",
    "import lbm_caiman_python as lcp\n",
    "\n",
    "import mesmerize_core as mc\n",
    "from mesmerize_core.caiman_extensions.cnmf import cnmf_cache\n",
    "\n",
    "try:\n",
    "    import cv2\n",
    "    cv2.setNumThreads(0)\n",
    "except():\n",
    "    pass\n",
    "\n",
    "logging.basicConfig()\n",
    "\n",
    "os.environ[\"CONDA_PREFIX_1\"] = \"\"\n",
    "if os.name == \"nt\":\n",
    "    # disable the cache on windows, this will be automatic in a future version\n",
    "    cnmf_cache.set_maxsize(0)"
   ]
  },
  {
   "cell_type": "code",
   "execution_count": 5,
   "metadata": {},
   "outputs": [],
   "source": [
    "parent_path = Path().home() / \"caiman_data\" / 'animal_01' / \"session_01\""
   ]
  },
  {
   "cell_type": "code",
   "execution_count": 6,
   "metadata": {},
   "outputs": [
    {
     "data": {
      "text/plain": [
       "WindowsPath('C:/Users/RBO/caiman_data/animal_01/session_01')"
      ]
     },
     "execution_count": 6,
     "metadata": {},
     "output_type": "execute_result"
    }
   ],
   "source": [
    "batch_path = parent_path / 'batch.pickle'\n",
    "mc.set_parent_raw_data_path(str(parent_path))"
   ]
  },
  {
   "cell_type": "code",
   "execution_count": 7,
   "metadata": {},
   "outputs": [
    {
     "data": {
      "text/html": [
       "<div>\n",
       "<style scoped>\n",
       "    .dataframe tbody tr th:only-of-type {\n",
       "        vertical-align: middle;\n",
       "    }\n",
       "\n",
       "    .dataframe tbody tr th {\n",
       "        vertical-align: top;\n",
       "    }\n",
       "\n",
       "    .dataframe thead th {\n",
       "        text-align: right;\n",
       "    }\n",
       "</style>\n",
       "<table border=\"1\" class=\"dataframe\">\n",
       "  <thead>\n",
       "    <tr style=\"text-align: right;\">\n",
       "      <th></th>\n",
       "      <th>algo</th>\n",
       "      <th>item_name</th>\n",
       "      <th>input_movie_path</th>\n",
       "      <th>params</th>\n",
       "      <th>outputs</th>\n",
       "      <th>added_time</th>\n",
       "      <th>ran_time</th>\n",
       "      <th>algo_duration</th>\n",
       "      <th>comments</th>\n",
       "      <th>uuid</th>\n",
       "    </tr>\n",
       "  </thead>\n",
       "  <tbody>\n",
       "    <tr>\n",
       "      <th>0</th>\n",
       "      <td>mcorr</td>\n",
       "      <td>session_01</td>\n",
       "      <td>mov</td>\n",
       "      <td>{'main': {'var_name_hdf5': 'mov', 'max_shifts'...</td>\n",
       "      <td>{'success': False, 'traceback': 'Traceback (mo...</td>\n",
       "      <td>2024-09-25T20:23:56</td>\n",
       "      <td>2024-09-25T20:24:05</td>\n",
       "      <td>0.16 sec</td>\n",
       "      <td>None</td>\n",
       "      <td>995691a6-26b8-410d-b6bb-010c4e3c8281</td>\n",
       "    </tr>\n",
       "    <tr>\n",
       "      <th>1</th>\n",
       "      <td>mcorr</td>\n",
       "      <td>extracted_plane_1</td>\n",
       "      <td>tiff\\extracted_plane_1.tif</td>\n",
       "      <td>{'main': {'var_name_hdf5': 'mov', 'max_shifts'...</td>\n",
       "      <td>{'mean-projection-path': b32f41bf-a9a5-4965-be...</td>\n",
       "      <td>2024-09-26T11:56:54</td>\n",
       "      <td>2024-09-26T12:02:55</td>\n",
       "      <td>77.3 sec</td>\n",
       "      <td>None</td>\n",
       "      <td>b32f41bf-a9a5-4965-be7c-e6779e854328</td>\n",
       "    </tr>\n",
       "    <tr>\n",
       "      <th>2</th>\n",
       "      <td>cnmf</td>\n",
       "      <td>cnmf_1</td>\n",
       "      <td>b32f41bf-a9a5-4965-be7c-e6779e854328\\b32f41bf-...</td>\n",
       "      <td>{'main': {'fr': 9.62, 'dxy': (1.0, 1.0), 'deca...</td>\n",
       "      <td>{'mean-projection-path': a057e39e-a2df-41d3-82...</td>\n",
       "      <td>2024-09-26T16:26:20</td>\n",
       "      <td>2024-09-26T16:28:48</td>\n",
       "      <td>143.18 sec</td>\n",
       "      <td>None</td>\n",
       "      <td>a057e39e-a2df-41d3-8217-83c9cd7ffb6d</td>\n",
       "    </tr>\n",
       "  </tbody>\n",
       "</table>\n",
       "</div>"
      ],
      "text/plain": [
       "    algo          item_name  \\\n",
       "0  mcorr         session_01   \n",
       "1  mcorr  extracted_plane_1   \n",
       "2   cnmf             cnmf_1   \n",
       "\n",
       "                                    input_movie_path  \\\n",
       "0                                                mov   \n",
       "1                         tiff\\extracted_plane_1.tif   \n",
       "2  b32f41bf-a9a5-4965-be7c-e6779e854328\\b32f41bf-...   \n",
       "\n",
       "                                              params  \\\n",
       "0  {'main': {'var_name_hdf5': 'mov', 'max_shifts'...   \n",
       "1  {'main': {'var_name_hdf5': 'mov', 'max_shifts'...   \n",
       "2  {'main': {'fr': 9.62, 'dxy': (1.0, 1.0), 'deca...   \n",
       "\n",
       "                                             outputs           added_time  \\\n",
       "0  {'success': False, 'traceback': 'Traceback (mo...  2024-09-25T20:23:56   \n",
       "1  {'mean-projection-path': b32f41bf-a9a5-4965-be...  2024-09-26T11:56:54   \n",
       "2  {'mean-projection-path': a057e39e-a2df-41d3-82...  2024-09-26T16:26:20   \n",
       "\n",
       "              ran_time algo_duration comments  \\\n",
       "0  2024-09-25T20:24:05      0.16 sec     None   \n",
       "1  2024-09-26T12:02:55      77.3 sec     None   \n",
       "2  2024-09-26T16:28:48    143.18 sec     None   \n",
       "\n",
       "                                   uuid  \n",
       "0  995691a6-26b8-410d-b6bb-010c4e3c8281  \n",
       "1  b32f41bf-a9a5-4965-be7c-e6779e854328  \n",
       "2  a057e39e-a2df-41d3-8217-83c9cd7ffb6d  "
      ]
     },
     "execution_count": 7,
     "metadata": {},
     "output_type": "execute_result"
    }
   ],
   "source": [
    "# create a new batch\n",
    "try:\n",
    "    df = mc.load_batch(batch_path)\n",
    "except (IsADirectoryError, FileNotFoundError):\n",
    "    df = mc.create_batch(batch_path)\n",
    "\n",
    "df=df.caiman.reload_from_disk()\n",
    "df"
   ]
  },
  {
   "cell_type": "code",
   "execution_count": 11,
   "metadata": {},
   "outputs": [
    {
     "data": {
      "text/plain": [
       "(4629, 1730)"
      ]
     },
     "execution_count": 11,
     "metadata": {},
     "output_type": "execute_result"
    }
   ],
   "source": [
    "traces = df.iloc[-1].cnmf.get_temporal()\n",
    "traces.shape"
   ]
  },
  {
   "cell_type": "code",
   "execution_count": 12,
   "metadata": {},
   "outputs": [
    {
     "data": {
      "text/plain": [
       "-1346.7363421255025"
      ]
     },
     "execution_count": 12,
     "metadata": {},
     "output_type": "execute_result"
    }
   ],
   "source": [
    "traces[0,0]"
   ]
  }
 ],
 "metadata": {
  "kernelspec": {
   "display_name": "mbo-caiman",
   "language": "python",
   "name": "python3"
  },
  "language_info": {
   "codemirror_mode": {
    "name": "ipython",
    "version": 3
   },
   "file_extension": ".py",
   "mimetype": "text/x-python",
   "name": "python",
   "nbconvert_exporter": "python",
   "pygments_lexer": "ipython3",
   "version": "3.10.8"
  }
 },
 "nbformat": 4,
 "nbformat_minor": 2
}
