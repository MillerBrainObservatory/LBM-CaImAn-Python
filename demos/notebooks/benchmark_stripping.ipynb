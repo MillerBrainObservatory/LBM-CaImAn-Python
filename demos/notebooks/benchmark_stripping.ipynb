{
 "cells": [
  {
   "cell_type": "markdown",
   "id": "13f397e1-a6ab-448b-90fb-fa1c11b6a112",
   "metadata": {
    "execution": {
     "iopub.execute_input": "2024-05-02T04:09:21.951898Z",
     "iopub.status.busy": "2024-05-02T04:09:21.951329Z",
     "iopub.status.idle": "2024-05-02T04:09:22.081278Z",
     "shell.execute_reply": "2024-05-02T04:09:22.080475Z",
     "shell.execute_reply.started": "2024-05-02T04:09:21.951834Z"
    }
   },
   "source": [
    "## LBM: Demo Pixel Trimming"
   ]
  },
  {
   "cell_type": "code",
   "execution_count": null,
   "id": "91da1896-5101-45a8-8597-913d5844dc9c",
   "metadata": {
    "execution": {
     "execution_failed": "2024-05-23T17:59:58.095Z"
    }
   },
   "outputs": [],
   "source": [
    "import os\n",
    "import sys\n",
    "import time\n",
    "from pathlib import Path\n",
    "\n",
    "import cv2\n",
    "import numpy as np\n",
    "import pandas as pd\n",
    "import psutil\n",
    "\n",
    "# Give this notebook access to the root package\n",
    "sys.path.append('../../')  # TODO: Take this out when we upload to pypi\n",
    "print(sys.path[0])\n",
    "\n",
    "import core.io\n",
    "import scanreader\n",
    "\n",
    "import zarr\n",
    "import bokeh.plotting as bpl\n",
    "import holoviews as hv\n",
    "import panel as pn\n",
    "from IPython import get_ipython\n",
    "import logging\n",
    "import matplotlib.pyplot as plt\n",
    "\n",
    "try:\n",
    "    import dask.array as da\n",
    "    has_dask = True\n",
    "except ImportError:\n",
    "    has_dask = False\n",
    "\n",
    "try:\n",
    "    cv2.setNumThreads(0)\n",
    "except():\n",
    "    pass\n",
    "\n",
    "try:\n",
    "    if __IPYTHON__:\n",
    "        get_ipython().run_line_magic('load_ext', 'autoreload')\n",
    "        get_ipython().run_line_magic('autoreload', '2')\n",
    "except NameError:\n",
    "    pass\n",
    "\n",
    "bpl.output_notebook()\n",
    "hv.notebook_extension('bokeh')\n",
    "\n",
    "# logging\n",
    "logging.basicConfig(format=\"{asctime} - {levelname} - [{filename} {funcName}() {lineno}] - pid {process} - {message}\",\n",
    "                    filename=None, \n",
    "                    level=logging.WARNING, style=\"{\") # this shows you just errors that can harm your program\n",
    "                    # level=logging.DEBUG, style=\"{\") # this shows you general information that developers use to trakc their program \n",
    "                    # (be careful when playing movies, there will be a lot of debug messages)\n",
    "\n",
    "# set env variables \n",
    "os.environ[\"MKL_NUM_THREADS\"] = \"1\"\n",
    "os.environ[\"OPENBLAS_NUM_THREADS\"] = \"1\"\n",
    "os.environ[\"VECLIB_MAXIMUM_THREADS\"] = \"1\"\n",
    "\n",
    "# this session had output planes ordered differently, we need to reorder them\n",
    "chan_order = np.array([ 1, 5, 6, 7, 8, 9, 2, 10, 11, 12, 13, 14, 15, 16, 17, 3, 18, 19, 20, 21, 22, 23, 4, 24, 25, 26, 27, 28, 29, 30])  # this is specific to our dataset\n",
    "chan_order = [x-1 for x in chan_order]  # convert to 0-based indexing"
   ]
  },
  {
   "cell_type": "code",
   "execution_count": null,
   "id": "555a7ee4-89eb-460c-a66d-aedce0fae6d1",
   "metadata": {},
   "outputs": [],
   "source": [
    "overwrite = False                                 # flag to re-extract tiffs with extracted data\n",
    "\n",
    "datapath = Path('/data2/fpo/data/raw/high_res/')   # string pointing to directory containing your data\n",
    "savepath = Path('/data2/fpo/data/extraction/')           # string pointing to directory containing your data\n",
    "savepath.mkdir(exist_ok=True, parents=True)\n",
    "\n",
    "htiffs = [x for x in datapath.glob('*.tif')]      # this accumulates a list of every filepath which contains a .tif file\n",
    "reader = scanreader.read_scan(str(htiffs[0]), join_contiguous=True, lbm=True, x_cut=(6,6), y_cut=(17,0))  # this should take < 2s, no actual data is being read yet"
   ]
  },
  {
   "cell_type": "code",
   "execution_count": null,
   "id": "7f7a04bd-3d55-4fa6-9818-b43b20eaf81b",
   "metadata": {},
   "outputs": [],
   "source": [
    "data_plane = reader[:, :, :, :, :]\n",
    "data_plane"
   ]
  },
  {
   "cell_type": "markdown",
   "id": "2babec3c-1782-46d6-9104-97f168da1f1b",
   "metadata": {},
   "source": [
    "### Leverage zarr directory storage to compare pixel trimming\n",
    "\n",
    "- `zarr.open` is a convenience method that handles chunking and compression for persistant storage.\n",
    "- We want to keep this data as `16 bit` integers because no calculations should be done yet.\n",
    "\n",
    "In general, we want this value to be `~1Mb` to optimize write speed. \n",
    "\n",
    "```python\n",
    "name = '/path/to/folder'\n",
    "chunksize=[300,300,1,1]\n",
    "z1 = zarr.open(f'{name}', mode='w', shape=(data.shape),chunks=chunksize, dtype='int16')\n",
    "```"
   ]
  },
  {
   "cell_type": "code",
   "execution_count": 19,
   "id": "ccfacfb9-33e4-489b-831f-bd9fc6a7b649",
   "metadata": {
    "execution": {
     "iopub.execute_input": "2024-05-23T15:42:42.160623Z",
     "iopub.status.busy": "2024-05-23T15:42:42.160225Z",
     "iopub.status.idle": "2024-05-23T15:45:52.665128Z",
     "shell.execute_reply": "2024-05-23T15:45:52.664422Z",
     "shell.execute_reply.started": "2024-05-23T15:42:42.160603Z"
    }
   },
   "outputs": [
    {
     "data": {
      "text/plain": [
       "(583, 528)"
      ]
     },
     "execution_count": 19,
     "metadata": {},
     "output_type": "execute_result"
    }
   ],
   "source": [
    "data_plane = reader[:, :, :, :, :]"
   ]
  },
  {
   "cell_type": "code",
   "execution_count": null,
   "id": "b2dd1636-d5a1-4aa2-9ca7-075156841a8d",
   "metadata": {},
   "outputs": [],
   "source": [
    "px_save_dir = savepath / \"pixel_trims\"\n",
    "px_save_dir.mkdir(exist_ok=True, parents=True)\n",
    "\n",
    "# create a zarr dataset with a variable number of cut pixels\n",
    "x_pixels_to_cut = range(1, 6)\n",
    "for i in x_pixels_to_cut:\n",
    "    # check for the existence of this file before any data is read\n",
    "    px_save_str = px_save_dir / f'px_{i}.zarr'\n",
    "    store = zarr.DirectoryStore(px_save_str)  # save data to persistent disk storage\n",
    "    \n",
    "    reader = scanreader.read_scan(str(htiffs[0]), join_contiguous=True, lbm=True, x_cut=(1,i))  # this should take < 2s, no actual data is being read yet\n",
    "    data = reader[0]                                         # here, data is being read\n",
    "    \n",
    "    z = zarr.zeros(data.shape, chunks=(data.shape[0], data.shape[1], 1, data.shape[3]), dtype='int16', store=store, overwrite=True)\n",
    "    z[:] = data             # this will auto-chunk based on the specified chunks in 'open'"
   ]
  },
  {
   "cell_type": "code",
   "execution_count": 11,
   "id": "dc5aceb5-38ab-47ef-ae23-a4098a315372",
   "metadata": {
    "execution": {
     "iopub.execute_input": "2024-05-22T17:35:17.109429Z",
     "iopub.status.busy": "2024-05-22T17:35:17.108696Z",
     "iopub.status.idle": "2024-05-22T17:35:22.495821Z",
     "shell.execute_reply": "2024-05-22T17:35:22.494667Z",
     "shell.execute_reply.started": "2024-05-22T17:35:17.109357Z"
    }
   },
   "outputs": [],
   "source": [
    "# helpful command to print the directory content. \n",
    "# place the output of the above cell, your savepath, without the quotes\n",
    "!tree -L 1 /data2/fpo/data/extracted/raw.zarr"
   ]
  },
  {
   "cell_type": "markdown",
   "id": "a455cfad-2ca4-41b7-95a5-192f23b0cf36",
   "metadata": {},
   "source": [
    "## Visualize Initial Pixel Cuts\n",
    "\n",
    "We can see that there is a `name_N.zarr` with a variable number of X pixels trimmed on each ROI.\n",
    "\n",
    "Using [HoloViews](https://holoviews.org/getting_started/), we can create an interactive plot to compare the different numbers of pixels cut on each ROI."
   ]
  },
  {
   "cell_type": "code",
   "execution_count": null,
   "id": "41a2828f",
   "metadata": {
    "execution": {
     "iopub.status.busy": "2024-05-22T17:24:28.076457Z",
     "iopub.status.idle": "2024-05-22T17:24:28.076874Z",
     "shell.execute_reply": "2024-05-22T17:24:28.076674Z",
     "shell.execute_reply.started": "2024-05-22T17:24:28.076650Z"
    }
   },
   "outputs": [],
   "source": [
    "@pn.cache\n",
    "def get_plot(i):\n",
    "    arr = zarr.open(str(px_save_dir / f'px_{i}.zarr'), mode='r')\n",
    "    return hv.Image(arr[:,:,5,400]).opts(\n",
    "                width=600,\n",
    "                height=600,\n",
    "                title=f\"pixels_cut: {i}\",\n",
    "                cmap='gray', \n",
    "                tools=['wheel_zoom'],\n",
    "            )\n",
    "\n",
    "# Widgets\n",
    "image_widget = pn.widgets.IntSlider(name=\"Number of cut pixels: \", value=1, start=1, end=6)\n",
    "bound_plot = pn.bind(get_plot, i=image_widget) \n",
    "\n",
    "# Layout of widgets and plot\n",
    "    pn.Row(image_widget, sizing_mode=\"fixed\", width=500),\n",
    "    bound_plot\n",
    ")\n",
    "\n",
    "# Display the layout\n",
    "layout.servable()"
   ]
  }
 ],
 "metadata": {
  "kernelspec": {
   "display_name": "Python 3 (ipykernel)",
   "language": "python",
   "name": "python3"
  },
  "language_info": {
   "codemirror_mode": {
    "name": "ipython",
    "version": 3
   },
   "file_extension": ".py",
   "mimetype": "text/x-python",
   "name": "python",
   "nbconvert_exporter": "python",
   "pygments_lexer": "ipython3",
   "version": "3.11.9"
  },
  "widgets": {
   "application/vnd.jupyter.widget-state+json": {
    "state": {},
    "version_major": 2,
    "version_minor": 0
   }
  }
 },
 "nbformat": 4,
 "nbformat_minor": 5
}
