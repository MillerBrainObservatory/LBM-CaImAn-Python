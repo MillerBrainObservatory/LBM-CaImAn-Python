{
 "cells": [
  {
   "cell_type": "markdown",
   "id": "e8a6308f-0c88-446f-ba0e-f8ee2e745f48",
   "metadata": {},
   "source": [
    "# LBM : Benchmark Chunk Sizes with Zarr"
   ]
  },
  {
   "cell_type": "markdown",
   "id": "a80d5af3",
   "metadata": {},
   "source": [
    "## Data Storage: Zarr\n",
    "\n",
    "[Zarr documentation](https://zarr.readthedocs.io/en/stable/tutorial.html)\n",
    "\n",
    "Deciding how to save data on a host operating system is far from straight foreward.\n",
    "Read/write operations will vary widely between data saved in a **single file**\n",
    "structure vs smaller chunks, e.g. one image per file, one image per epoch, etc. \n",
    " \n",
    "The former strategy is clean/consice and easy to handle but is *not* feasable with large (>10GB) datasets. \n",
    "\n",
    "The latter strategy of spreading files acrossed nested groups of directories, each with their own metadata/attributes has been widely adopted as the more sensible approach. HDF5 has \n",
    "been the frontrunner in scientific data I/O but suffers from widely inconsistent within academia.  \n",
    "\n",
    "- Zarr, similar to H5, is a heirarchical data storage specification (or in non-alien speak: \"rules of how data is stored on disk\").\n",
    "- Zarr nicely hides the complexities inherent in linking filesystem heirarchy with efficient data I/O.\n"
   ]
  },
  {
   "cell_type": "code",
   "id": "adf6ddd3",
   "metadata": {
    "jupyter": {
     "is_executing": true
    }
   },
   "source": [
    "import scanreader\n",
    "import os\n",
    "import sys\n",
    "from pathlib import Path\n",
    "\n",
    "import cv2\n",
    "import numpy as np\n",
    "import zarr\n",
    "\n",
    "# Give this notebook access to the root package\n",
    "sys.path.append('../../')  # TODO: Take this out when we upload to pypi\n",
    "print(sys.path[0])\n",
    "\n",
    "import bokeh.plotting as bpl\n",
    "import holoviews as hv\n",
    "from IPython import get_ipython\n",
    "import logging\n",
    "import matplotlib.pyplot as plt\n",
    "\n",
    "try:\n",
    "    import dask.array as da\n",
    "    has_dask = True\n",
    "except ImportError:\n",
    "    has_dask = False\n",
    "\n",
    "try:\n",
    "    cv2.setNumThreads(0)\n",
    "except():\n",
    "    pass\n",
    "\n",
    "try:\n",
    "    if __IPYTHON__:\n",
    "        get_ipython().run_line_magic('load_ext', 'autoreload')\n",
    "        get_ipython().run_line_magic('autoreload', '2')\n",
    "except NameError:\n",
    "    pass\n",
    "\n",
    "bpl.output_notebook()\n",
    "hv.notebook_extension('bokeh')\n",
    "\n",
    "# logging\n",
    "logging.basicConfig(format=\"{asctime} - {levelname} - [{filename} {funcName}() {lineno}] - pid {process} - {message}\",\n",
    "                    filename=None,\n",
    "                    level=logging.WARNING, style=\"{\") # this shows you just errors that can harm your program\n",
    "# level=logging.DEBUG, style=\"{\") # this shows you general information that developers use to trakc their program \n",
    "# (be careful when playing movies, there will be a lot of debug messages)\n",
    "\n",
    "# set env variables \n",
    "os.environ[\"MKL_NUM_THREADS\"] = \"1\"\n",
    "os.environ[\"OPENBLAS_NUM_THREADS\"] = \"1\"\n",
    "os.environ[\"VECLIB_MAXIMUM_THREADS\"] = \"1\"\n"
   ],
   "outputs": [],
   "execution_count": null
  },
  {
   "cell_type": "code",
   "id": "2b10ec59-6f3d-4bad-9553-f4be07d02797",
   "metadata": {
    "jupyter": {
     "is_executing": true
    }
   },
   "source": [
    "datapath = Path().home() / 'Documents' / 'data'\n",
    "savepath = datapath / 'save' # string pointing to directory containing\n",
    "savepath.mkdir(exist_ok=True, parents=True)\n",
    "\n",
    "htiffs = [str(x) for x in datapath.glob('*.tif')]      # this accumulates a list of every filepath which contains a .tif file"
   ],
   "outputs": [],
   "execution_count": null
  },
  {
   "cell_type": "code",
   "id": "994f7513",
   "metadata": {
    "ExecuteTime": {
     "end_time": "2024-07-18T20:12:54.639487Z",
     "start_time": "2024-07-18T20:12:43.306141Z"
    }
   },
   "source": [
    "reader = scanreader.read_scan(htiffs, join_contiguous=True)\n",
    "scan = reader[:,:,:,0,5:605].squeeze()\n",
    "scan.shape"
   ],
   "outputs": [
    {
     "data": {
      "text/plain": [
       "(600, 576, 600)"
      ]
     },
     "execution_count": 4,
     "metadata": {},
     "output_type": "execute_result"
    }
   ],
   "execution_count": 4
  },
  {
   "metadata": {
    "ExecuteTime": {
     "end_time": "2024-07-18T20:13:48.555522Z",
     "start_time": "2024-07-18T20:13:48.393214Z"
    }
   },
   "cell_type": "code",
   "source": [
    "import dask.array as da\n",
    "arr = da.array(scan)\n",
    "arr"
   ],
   "id": "e727c84614cff17f",
   "outputs": [
    {
     "data": {
      "text/plain": [
       "dask.array<array, shape=(600, 576, 600), dtype=int16, chunksize=(406, 406, 406), chunktype=numpy.ndarray>"
      ],
      "text/html": [
       "<table>\n",
       "    <tr>\n",
       "        <td>\n",
       "            <table style=\"border-collapse: collapse;\">\n",
       "                <thead>\n",
       "                    <tr>\n",
       "                        <td> </td>\n",
       "                        <th> Array </th>\n",
       "                        <th> Chunk </th>\n",
       "                    </tr>\n",
       "                </thead>\n",
       "                <tbody>\n",
       "                    \n",
       "                    <tr>\n",
       "                        <th> Bytes </th>\n",
       "                        <td> 395.51 MiB </td>\n",
       "                        <td> 127.65 MiB </td>\n",
       "                    </tr>\n",
       "                    \n",
       "                    <tr>\n",
       "                        <th> Shape </th>\n",
       "                        <td> (600, 576, 600) </td>\n",
       "                        <td> (406, 406, 406) </td>\n",
       "                    </tr>\n",
       "                    <tr>\n",
       "                        <th> Dask graph </th>\n",
       "                        <td colspan=\"2\"> 8 chunks in 1 graph layer </td>\n",
       "                    </tr>\n",
       "                    <tr>\n",
       "                        <th> Data type </th>\n",
       "                        <td colspan=\"2\"> int16 numpy.ndarray </td>\n",
       "                    </tr>\n",
       "                </tbody>\n",
       "            </table>\n",
       "        </td>\n",
       "        <td>\n",
       "        <svg width=\"250\" height=\"235\" style=\"stroke:rgb(0,0,0);stroke-width:1\" >\n",
       "\n",
       "  <!-- Horizontal lines -->\n",
       "  <line x1=\"10\" y1=\"0\" x2=\"80\" y2=\"70\" style=\"stroke-width:2\" />\n",
       "  <line x1=\"10\" y1=\"81\" x2=\"80\" y2=\"151\" />\n",
       "  <line x1=\"10\" y1=\"115\" x2=\"80\" y2=\"185\" style=\"stroke-width:2\" />\n",
       "\n",
       "  <!-- Vertical lines -->\n",
       "  <line x1=\"10\" y1=\"0\" x2=\"10\" y2=\"115\" style=\"stroke-width:2\" />\n",
       "  <line x1=\"57\" y1=\"47\" x2=\"57\" y2=\"162\" />\n",
       "  <line x1=\"80\" y1=\"70\" x2=\"80\" y2=\"185\" style=\"stroke-width:2\" />\n",
       "\n",
       "  <!-- Colored Rectangle -->\n",
       "  <polygon points=\"10.0,0.0 80.58823529411765,70.58823529411765 80.58823529411765,185.78823529411764 10.0,115.19999999999999\" style=\"fill:#ECB172A0;stroke-width:0\"/>\n",
       "\n",
       "  <!-- Horizontal lines -->\n",
       "  <line x1=\"10\" y1=\"0\" x2=\"130\" y2=\"0\" style=\"stroke-width:2\" />\n",
       "  <line x1=\"57\" y1=\"47\" x2=\"177\" y2=\"47\" />\n",
       "  <line x1=\"80\" y1=\"70\" x2=\"200\" y2=\"70\" style=\"stroke-width:2\" />\n",
       "\n",
       "  <!-- Vertical lines -->\n",
       "  <line x1=\"10\" y1=\"0\" x2=\"80\" y2=\"70\" style=\"stroke-width:2\" />\n",
       "  <line x1=\"91\" y1=\"0\" x2=\"161\" y2=\"70\" />\n",
       "  <line x1=\"130\" y1=\"0\" x2=\"200\" y2=\"70\" style=\"stroke-width:2\" />\n",
       "\n",
       "  <!-- Colored Rectangle -->\n",
       "  <polygon points=\"10.0,0.0 130.0,0.0 200.58823529411765,70.58823529411765 80.58823529411765,70.58823529411765\" style=\"fill:#ECB172A0;stroke-width:0\"/>\n",
       "\n",
       "  <!-- Horizontal lines -->\n",
       "  <line x1=\"80\" y1=\"70\" x2=\"200\" y2=\"70\" style=\"stroke-width:2\" />\n",
       "  <line x1=\"80\" y1=\"151\" x2=\"200\" y2=\"151\" />\n",
       "  <line x1=\"80\" y1=\"185\" x2=\"200\" y2=\"185\" style=\"stroke-width:2\" />\n",
       "\n",
       "  <!-- Vertical lines -->\n",
       "  <line x1=\"80\" y1=\"70\" x2=\"80\" y2=\"185\" style=\"stroke-width:2\" />\n",
       "  <line x1=\"161\" y1=\"70\" x2=\"161\" y2=\"185\" />\n",
       "  <line x1=\"200\" y1=\"70\" x2=\"200\" y2=\"185\" style=\"stroke-width:2\" />\n",
       "\n",
       "  <!-- Colored Rectangle -->\n",
       "  <polygon points=\"80.58823529411765,70.58823529411765 200.58823529411765,70.58823529411765 200.58823529411765,185.78823529411764 80.58823529411765,185.78823529411764\" style=\"fill:#ECB172A0;stroke-width:0\"/>\n",
       "\n",
       "  <!-- Text -->\n",
       "  <text x=\"140.588235\" y=\"205.788235\" font-size=\"1.0rem\" font-weight=\"100\" text-anchor=\"middle\" >600</text>\n",
       "  <text x=\"220.588235\" y=\"128.188235\" font-size=\"1.0rem\" font-weight=\"100\" text-anchor=\"middle\" transform=\"rotate(-90,220.588235,128.188235)\">576</text>\n",
       "  <text x=\"35.294118\" y=\"170.494118\" font-size=\"1.0rem\" font-weight=\"100\" text-anchor=\"middle\" transform=\"rotate(45,35.294118,170.494118)\">600</text>\n",
       "</svg>\n",
       "        </td>\n",
       "    </tr>\n",
       "</table>"
      ]
     },
     "execution_count": 7,
     "metadata": {},
     "output_type": "execute_result"
    }
   ],
   "execution_count": 7
  },
  {
   "metadata": {
    "ExecuteTime": {
     "end_time": "2024-07-18T20:13:51.011007Z",
     "start_time": "2024-07-18T20:13:50.389963Z"
    }
   },
   "cell_type": "code",
   "source": "da.to_hdf5(\"/home/rbo/caiman_data/test.h5\",\"/mov\",arr)",
   "id": "1a812d60093d7825",
   "outputs": [],
   "execution_count": 8
  },
  {
   "metadata": {
    "ExecuteTime": {
     "end_time": "2024-07-18T19:39:37.992560Z",
     "start_time": "2024-07-18T19:39:37.607046Z"
    }
   },
   "cell_type": "code",
   "source": [
    "savepath = Path(\"/home/rbo/caiman_data/mbo\")\n",
    "store = zarr.DirectoryStore(str(savepath.with_suffix(\".zarr\")))  # save data to persistent disk storage\n",
    "z = zarr.zeros(arr.shape, dtype='int16', store=store, overwrite=True)\n",
    "\n",
    "if hasattr(arr, 'compute'):\n",
    "    z[:] = arr.compute()             # this will auto-chunk based on the specified chunks in 'open'\n",
    "else:\n",
    "    z[:] = arr"
   ],
   "id": "8cfe3090537a9238",
   "outputs": [],
   "execution_count": 56
  },
  {
   "metadata": {},
   "cell_type": "code",
   "outputs": [],
   "execution_count": null,
   "source": "",
   "id": "4263b8bb616795ab"
  }
 ],
 "metadata": {
  "kernelspec": {
   "display_name": "Python 3 (ipykernel)",
   "language": "python",
   "name": "python3"
  },
  "language_info": {
   "codemirror_mode": {
    "name": "ipython",
    "version": 3
   },
   "file_extension": ".py",
   "mimetype": "text/x-python",
   "name": "python",
   "nbconvert_exporter": "python",
   "pygments_lexer": "ipython3",
   "version": "3.10.8"
  },
  "widgets": {
   "application/vnd.jupyter.widget-state+json": {
    "state": {},
    "version_major": 2,
    "version_minor": 0
   }
  }
 },
 "nbformat": 4,
 "nbformat_minor": 5
}
