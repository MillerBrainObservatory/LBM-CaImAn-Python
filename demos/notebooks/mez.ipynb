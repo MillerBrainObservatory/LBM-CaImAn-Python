{
 "cells": [
  {
   "cell_type": "code",
   "id": "004c5716-78b6-4ccc-829e-ccb21faf0d19",
   "metadata": {
    "editable": true,
    "slideshow": {
     "slide_type": ""
    },
    "tags": [],
    "ExecuteTime": {
     "end_time": "2024-07-22T19:50:37.038676Z",
     "start_time": "2024-07-22T19:50:36.981598Z"
    }
   },
   "source": [
    "import os\n",
    "import sys\n",
    "from copy import deepcopy\n",
    "import warnings\n",
    "\n",
    "from pathlib import Path\n",
    "\n",
    "import napari\n",
    "import scanreader\n",
    "from tifffile import imwrite, imread\n",
    "\n",
    "import pandas as pd\n",
    "import mesmerize_core as mc\n",
    "import numpy as np\n",
    "import dask.array as da\n",
    "import zarr\n",
    "from napari import Viewer, gui_qt\n",
    "import numpy as np\n",
    "try:\n",
    "    if __IPYTHON__:\n",
    "        get_ipython().run_line_magic('load_ext', 'autoreload')\n",
    "        get_ipython().run_line_magic('autoreload', '2')\n",
    "except NameError:\n",
    "    pass\n",
    "from mesmerize_core.caiman_extensions.cnmf import cnmf_cache\n",
    "\n",
    "if os.name == \"nt\":\n",
    "    # disable the cache on windows\n",
    "    cnmf_cache.set_maxsize(0)\n",
    "\n",
    "sys.path.append(\"../../\")\n",
    "warnings.filterwarnings(\"ignore\")\n",
    "os.environ[\"CONDA_PREFIX_1\"] = \"\"\n",
    "\n",
    "pd.options.display.max_colwidth = 120"
   ],
   "outputs": [],
   "execution_count": 72
  },
  {
   "cell_type": "markdown",
   "id": "5afac97a-e977-47aa-8943-1c9930e7f604",
   "metadata": {},
   "source": [
    "### Set up data and save-paths"
   ]
  },
  {
   "cell_type": "code",
   "id": "0abc4ddc-a970-46c0-8ef4-c2f7af2b7c52",
   "metadata": {
    "ExecuteTime": {
     "end_time": "2024-07-22T20:18:46.816545Z",
     "start_time": "2024-07-22T20:18:46.610290Z"
    }
   },
   "source": [
    "parent = Path('/home/rbo/caiman_data')\n",
    "mc.set_parent_raw_data_path(parent)\n",
    "batch_path = mc.get_parent_raw_data_path().joinpath(\"mesmerize-batch/batch.pickle\")\n",
    "raw_tiff_name = parent / 'high_res.tif'\n",
    "reader = scanreader.read_scan(str(raw_tiff_name), join_contiguous=True)"
   ],
   "outputs": [],
   "execution_count": 83
  },
  {
   "cell_type": "code",
   "id": "2a1f14d9-f345-41a7-b503-1db59717c2ef",
   "metadata": {
    "ExecuteTime": {
     "end_time": "2024-07-22T20:18:49.597473Z",
     "start_time": "2024-07-22T20:18:49.558837Z"
    }
   },
   "source": [
    "def trim(scan, amounts_x):\n",
    "    new_slice_x = [slice(s.start + amounts_x[0], s.stop - amounts_x[1]) for s in scan.fields[0].output_xslices]\n",
    "    return [i for s in new_slice_x for i in range(s.start, s.stop)]"
   ],
   "outputs": [],
   "execution_count": 84
  },
  {
   "cell_type": "code",
   "id": "4de3b15b-79d5-46e5-b985-da63fa13e6e4",
   "metadata": {
    "ExecuteTime": {
     "end_time": "2024-07-22T19:59:28.239848Z",
     "start_time": "2024-07-22T19:59:28.045603Z"
    }
   },
   "source": [
    "from util import fix_scan_phase, return_scan_offset\n",
    "savep = parent / \"tiff\" \n",
    "savep.mkdir(exist_ok=True)\n",
    "\n",
    "def sp(reader, plane):\n",
    "    idx = plane - 1\n",
    "    savename = savep / f\"extracted_plane_{plane}_v1.tiff\"\n",
    "    trim_x = trim(reader, (4,4))\n",
    "    image_og = reader[:, :, :, idx, 2]\n",
    "    image_trim = reader[:, :, trim_x, idx, 2]\n",
    "    viewer.add_image(image_og, contrast=[0,1], name=f\"image_{plane}\", rgb=False)\n",
    "    viewer.add_image(image_trim, contrast=[0,1], name=f\"image_{plane}\", rgb=False)\n",
    "    # offset = return_scan_offset(image_og, 1)\n",
    "    # corrected = fix_scan_phase(reader[:, trim_y, trim_x, idx, :], offset, 1)\n",
    "    # imwrite(savename, corrected.squeeze().transpose(2,0,1), photometric='minisblack')\n",
    "\n",
    "sp(reader, 1)"
   ],
   "outputs": [],
   "execution_count": 82
  },
  {
   "metadata": {
    "ExecuteTime": {
     "end_time": "2024-07-22T20:29:06.996980Z",
     "start_time": "2024-07-22T20:29:06.401496Z"
    }
   },
   "cell_type": "code",
   "source": [
    "import scanreader\n",
    "from magicgui import magicgui\n",
    "from napari import Viewer, gui_qt\n",
    "\n",
    "# Define the trim function\n",
    "def trim(scan, amounts_x):\n",
    "    new_slice_x = [slice(s.start + amounts_x[0], s.stop - amounts_x[1]) for s in scan.fields[0].output_xslices]\n",
    "    return [i for s in new_slice_x for i in range(s.start, s.stop)]\n",
    "\n",
    "# Initialize Napari viewer\n",
    "with gui_qt():\n",
    "    reader = scanreader.read_scan(str(raw_tiff_name), join_contiguous=True)\n",
    "    viewer = Viewer()\n",
    "\n",
    "    @magicgui(\n",
    "        amounts_x_start={\"label\": \"Trim Start\", \"widget_type\": \"IntSlider\", \"min\": 0, \"max\": 100},\n",
    "        amounts_x_end={\"label\": \"Trim End\", \"widget_type\": \"IntSlider\", \"min\": 0, \"max\": 100}\n",
    "    )\n",
    "    def update_image(amounts_x_start: int = 0, amounts_x_end: int = 0):\n",
    "        # Load and trim the image\n",
    "        tx = trim(reader, (amounts_x_start, amounts_x_end))\n",
    "        trimmed = reader[:, :, tx, 0, 2]\n",
    "\n",
    "        # Update the viewer with the new image data\n",
    "        if 'trimmed_image' in viewer.layers:\n",
    "            viewer.layers['trimmed_image'].data = trimmed\n",
    "        else:\n",
    "            viewer.add_image(trimmed, name='trimmed_image', colormap='gray')\n",
    "\n",
    "    # Connect the sliders to the update function directly\n",
    "    update_image.amounts_x_start.changed.connect(lambda event: update_image())\n",
    "    update_image.amounts_x_end.changed.connect(lambda event: update_image())\n",
    "\n",
    "    # Add the widget to the viewer\n",
    "    viewer.window.add_dock_widget(update_image, area='right')\n",
    "\n",
    "    # Initial update\n",
    "    update_image()"
   ],
   "id": "dcf9c8df86aa7111",
   "outputs": [],
   "execution_count": 90
  },
  {
   "metadata": {
    "ExecuteTime": {
     "end_time": "2024-07-22T20:27:13.032141Z",
     "start_time": "2024-07-22T20:27:12.959258Z"
    }
   },
   "cell_type": "code",
   "source": "viewer.close()",
   "id": "3a12594ed18762d0",
   "outputs": [],
   "execution_count": 88
  },
  {
   "cell_type": "markdown",
   "id": "89c184bf-265a-4e2b-a16b-d9e6ec38586e",
   "metadata": {},
   "source": [
    "### Save as a multi-page tiff"
   ]
  },
  {
   "cell_type": "code",
   "execution_count": 19,
   "id": "e4ad11e8-346d-4bf7-ac67-c09ae1b535cf",
   "metadata": {
    "ExecuteTime": {
     "end_time": "2024-07-22T17:16:40.885219Z",
     "start_time": "2024-07-22T17:16:40.880668Z"
    }
   },
   "outputs": [],
   "source": [
    "for idx, plane in enumerate(range(1, reader.num_channels+1)):\n",
    "    savename = parent / f\"extracted_plane_{plane}.tiff\"\n",
    "    trim_x, trim_y = trim(reader, (4,4), (17,0))\n",
    "    imwrite(savename, reader[:,16:,trim_x,idx,:].squeeze().transpose(2,0,1), photometric='minisblack')\n"
   ]
  },
  {
   "cell_type": "markdown",
   "id": "6abeaf69-5472-41a4-85c7-c0f7751c3079",
   "metadata": {},
   "source": [
    "Preview trim result"
   ]
  },
  {
   "cell_type": "code",
   "execution_count": 20,
   "id": "cf8d6533-56ab-48df-ae0b-41d6e19203d8",
   "metadata": {},
   "outputs": [],
   "source": [
    "with gui_qt():\n",
    "    viewer = Viewer()\n",
    "    # viewer.add_image(df.iloc[0].caiman.get_input_movie(), name='input', colormap='gray')\n",
    "    viewer.add_image(imread(savename),name='output', colormap='gray')"
   ]
  },
  {
   "cell_type": "markdown",
   "id": "31f7a679-b508-4765-b88a-fef916525282",
   "metadata": {},
   "source": [
    "### Save as a zarr store"
   ]
  },
  {
   "cell_type": "code",
   "execution_count": null,
   "id": "a6144725-ee7e-4653-86fe-f05848754507",
   "metadata": {
    "ExecuteTime": {
     "end_time": "2024-07-22T17:16:40.948476Z",
     "start_time": "2024-07-22T17:16:40.934558Z"
    }
   },
   "outputs": [],
   "source": [
    "# create a new batch\n",
    "try:\n",
    "    df = mc.create_batch(batch_path)\n",
    "except FileExistsError:\n",
    "    df = mc.load_batch(batch_path)\n",
    "    \n",
    "movie_path = savename"
   ]
  },
  {
   "cell_type": "code",
   "execution_count": null,
   "id": "4c303529-4406-4bef-bc32-567a200701a3",
   "metadata": {
    "ExecuteTime": {
     "end_time": "2024-07-22T17:16:40.995465Z",
     "start_time": "2024-07-22T17:16:40.966114Z"
    },
    "editable": true,
    "jupyter": {
     "source_hidden": true
    },
    "slideshow": {
     "slide_type": ""
    },
    "tags": []
   },
   "outputs": [],
   "source": [
    "mcorr_params2 =\\\n",
    "{\n",
    "  'main':\n",
    "    {\n",
    "        'max_shifts': [4, 4],\n",
    "        'strides': [48, 48],\n",
    "        'overlaps': [24, 24],\n",
    "        'max_deviation_rigid': 3,\n",
    "        'border_nan': 'copy',\n",
    "        'pw_rigid': True,\n",
    "        'gSig_filt': None\n",
    "    },\n",
    "}\n",
    "\n",
    "# add other param variant to the batch\n",
    "df.caiman.add_item(\n",
    "  algo='mcorr',\n",
    "  item_name=movie_path.stem,\n",
    "  input_movie_path=movie_path,\n",
    "  params=mcorr_params2\n",
    ")\n",
    "\n",
    "df"
   ]
  },
  {
   "cell_type": "code",
   "execution_count": null,
   "id": "ce11d41f-2308-486f-9c35-160f1196a657",
   "metadata": {
    "ExecuteTime": {
     "end_time": "2024-07-22T17:16:41.009248Z",
     "start_time": "2024-07-22T17:16:40.997422Z"
    },
    "editable": true,
    "jupyter": {
     "source_hidden": true
    },
    "slideshow": {
     "slide_type": ""
    },
    "tags": []
   },
   "outputs": [],
   "source": [
    "# copy the mcorr_params2 dict to make some changes\n",
    "new_params = deepcopy(mcorr_params2)\n",
    "\n",
    "# some variants of max_shifts\n",
    "for shifts in [2, 32]: \n",
    "    for strides in [12, 24, 64]:\n",
    "        overlaps = int(strides / 2)\n",
    "        # deep copy is the safest way to copy dicts\n",
    "        new_params = deepcopy(new_params)\n",
    "\n",
    "        # assign the \"max_shifts\"\n",
    "        new_params[\"main\"][\"max_shifts\"] = (shifts, shifts)\n",
    "        new_params[\"main\"][\"strides\"] = (strides, strides)\n",
    "        new_params[\"main\"][\"overlaps\"] = (overlaps, overlaps)\n",
    "\n",
    "        df.caiman.add_item(\n",
    "          algo='mcorr',\n",
    "          item_name=movie_path.stem,\n",
    "          input_movie_path=movie_path,\n",
    "          params=new_params\n",
    "        )"
   ]
  },
  {
   "cell_type": "code",
   "execution_count": null,
   "id": "1127f085-952c-40b7-924d-51c8dc055a59",
   "metadata": {
    "ExecuteTime": {
     "end_time": "2024-07-22T17:16:41.044867Z",
     "start_time": "2024-07-22T17:16:41.011229Z"
    },
    "editable": true,
    "jupyter": {
     "source_hidden": true
    },
    "slideshow": {
     "slide_type": ""
    },
    "tags": []
   },
   "outputs": [],
   "source": [
    "diffs = df.caiman.get_params_diffs(algo=\"mcorr\", item_name=df.iloc[0][\"item_name\"])\n",
    "diffs"
   ]
  },
  {
   "cell_type": "code",
   "execution_count": null,
   "id": "e912f841-026d-449c-8d42-e1d27104f98e",
   "metadata": {
    "ExecuteTime": {
     "end_time": "2024-07-22T17:31:39.356295Z",
     "start_time": "2024-07-22T17:16:41.046087Z"
    },
    "editable": true,
    "jupyter": {
     "source_hidden": true
    },
    "slideshow": {
     "slide_type": ""
    },
    "tags": []
   },
   "outputs": [],
   "source": [
    "for i, row in df.iterrows():\n",
    "    if row[\"outputs\"] is not None: # item has already been run\n",
    "        continue # skip\n",
    "        \n",
    "    process = row.caiman.run()\n",
    "    \n",
    "    # on Windows you MUST reload the batch dataframe after every iteration because it uses the `local` backend.\n",
    "    # this is unnecessary on Linux & Mac\n",
    "    # \"DummyProcess\" is used for local backend so this is automatic\n",
    "    if process.__class__.__name__ == \"DummyProcess\":\n",
    "        df = df.caiman.reload_from_disk()"
   ]
  },
  {
   "cell_type": "code",
   "execution_count": null,
   "id": "b04cc25e-c063-440d-a021-89e65e5cbbe6",
   "metadata": {
    "ExecuteTime": {
     "end_time": "2024-07-22T17:37:18.910991Z",
     "start_time": "2024-07-22T17:37:18.879738Z"
    },
    "editable": true,
    "jupyter": {
     "source_hidden": true
    },
    "scrolled": true,
    "slideshow": {
     "slide_type": ""
    },
    "tags": []
   },
   "outputs": [],
   "source": [
    "df = df.caiman.reload_from_disk()\n",
    "df"
   ]
  },
  {
   "cell_type": "code",
   "execution_count": null,
   "id": "3e758765efca7663",
   "metadata": {
    "ExecuteTime": {
     "end_time": "2024-07-22T17:51:02.674513Z",
     "start_time": "2024-07-22T17:51:02.659219Z"
    }
   },
   "outputs": [],
   "source": [
    "movie = df.iloc[6].caiman.get_input_movie()\n",
    "mean = [df.iloc[6].caiman.get_projection(\"mean\")]"
   ]
  },
  {
   "cell_type": "code",
   "execution_count": null,
   "id": "cc3908ad-58db-41d2-85ff-214cf5b0c227",
   "metadata": {},
   "outputs": [],
   "source": [
    "df"
   ]
  },
  {
   "cell_type": "code",
   "execution_count": null,
   "id": "c5e13045-d588-43b4-84f3-a80213eb6ba8",
   "metadata": {},
   "outputs": [],
   "source": [
    "\n",
    "# first item is just the raw movie\n",
    "movies = [df.iloc[0].caiman.get_input_movie()]\n",
    "\n",
    "# subplot titles\n",
    "subplot_names = [\"raw\"]\n",
    "\n",
    "# we will use the mean images later\n",
    "means = [df.iloc[0].caiman.get_projection(\"mean\")]\n",
    "\n",
    "# get the param diffs to set plot titles\n",
    "param_diffs = df.caiman.get_params_diffs(\"mcorr\", item_name=df.iloc[0][\"item_name\"])\n",
    "\n",
    "# add all the mcorr outputs to the list\n",
    "for i, row in df.iterrows():\n",
    "    # add to the list of movies to plot\n",
    "    movies.append(row.mcorr.get_output())\n",
    "\n",
    "    max_shifts = param_diffs.iloc[i][\"max_shifts\"][0]\n",
    "    strides = param_diffs.iloc[i][\"strides\"][0]\n",
    "    overlaps = param_diffs.iloc[i][\"overlaps\"][0]\n",
    "    \n",
    "    # subplot title to show dataframe index\n",
    "    subplot_names.append(f\"ix {i}: max_sh: {max_shifts}, str: {strides}, ove: {overlaps}\")\n",
    "    \n",
    "    # mean images which we'll use later\n",
    "    means.append(row.caiman.get_projection(\"mean\"))\n",
    "\n",
    "# stack movies using Dask\n",
    "stacked_movies = da.stack([da.from_array(movie) for movie in movies])\n",
    "\n"
   ]
  },
  {
   "cell_type": "markdown",
   "id": "8ee049d6-8a26-40ea-bb08-f482bbd4c8ae",
   "metadata": {},
   "source": [
    "View an example movie"
   ]
  },
  {
   "cell_type": "code",
   "execution_count": null,
   "id": "3d9033b8-a3ec-4e8e-bd0d-eb217c974363",
   "metadata": {},
   "outputs": [],
   "source": [
    "# create the viewer\n",
    "viewer = Viewer()\n",
    "# viewer.add_image(df.iloc[0].caiman.get_input_movie(), name='input', colormap='gray')\n",
    "viewer.add_image(df.iloc[0].mcorr.get_output(), name='output', colormap='gray')"
   ]
  },
  {
   "cell_type": "code",
   "execution_count": 23,
   "id": "1ca23d5c-c505-4a7e-913a-677de2d0c7dd",
   "metadata": {},
   "outputs": [],
   "source": [
    "shifts = df.iloc[0].mcorr.get_shifts()"
   ]
  },
  {
   "cell_type": "code",
   "execution_count": 25,
   "id": "bf0ff7e7-45f7-431d-a43a-ebe2aa4df998",
   "metadata": {},
   "outputs": [
    {
     "data": {
      "text/plain": [
       "[array([0., 2.])]"
      ]
     },
     "execution_count": 25,
     "metadata": {},
     "output_type": "execute_result"
    }
   ],
   "source": []
  },
  {
   "cell_type": "code",
   "execution_count": null,
   "id": "e7d3769c-5b06-4865-b83c-36e7942d6fae",
   "metadata": {},
   "outputs": [],
   "source": []
  }
 ],
 "metadata": {
  "kernelspec": {
   "display_name": "Python 3 (ipykernel)",
   "language": "python",
   "name": "python3"
  },
  "language_info": {
   "codemirror_mode": {
    "name": "ipython",
    "version": 3
   },
   "file_extension": ".py",
   "mimetype": "text/x-python",
   "name": "python",
   "nbconvert_exporter": "python",
   "pygments_lexer": "ipython3",
   "version": "3.10.14"
  }
 },
 "nbformat": 4,
 "nbformat_minor": 5
}
