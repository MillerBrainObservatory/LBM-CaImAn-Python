{
 "cells": [
  {
   "cell_type": "code",
   "execution_count": 1,
   "id": "004c5716-78b6-4ccc-829e-ccb21faf0d19",
   "metadata": {
    "editable": true,
    "slideshow": {
     "slide_type": ""
    },
    "tags": []
   },
   "outputs": [
    {
     "name": "stderr",
     "output_type": "stream",
     "text": [
      "2024-07-18 21:57:58.270966: E external/local_xla/xla/stream_executor/cuda/cuda_dnn.cc:9261] Unable to register cuDNN factory: Attempting to register factory for plugin cuDNN when one has already been registered\n",
      "2024-07-18 21:57:58.271001: E external/local_xla/xla/stream_executor/cuda/cuda_fft.cc:607] Unable to register cuFFT factory: Attempting to register factory for plugin cuFFT when one has already been registered\n"
     ]
    }
   ],
   "source": [
    "from copy import deepcopy\n",
    "import os\n",
    "import warnings\n",
    "\n",
    "import numpy as np\n",
    "import pandas as pd\n",
    "from matplotlib import pyplot as plt\n",
    "import fastplotlib as fpl\n",
    "\n",
    "import mesmerize_core as mc\n",
    "import mesmerize_viz"
   ]
  },
  {
   "cell_type": "code",
   "execution_count": 2,
   "id": "af40a4a7-8f7b-41b9-acd3-dc4c25fdae8b",
   "metadata": {},
   "outputs": [],
   "source": [
    "def is_saved_tiff(tiff_path):\n",
    "    if Path(tiff_path).is_file():\n",
    "        return True\n",
    "    else:\n",
    "        return False"
   ]
  },
  {
   "cell_type": "code",
   "execution_count": 3,
   "id": "1b4947fe-6f24-428e-a673-971e265e1cc1",
   "metadata": {
    "editable": true,
    "slideshow": {
     "slide_type": ""
    },
    "tags": []
   },
   "outputs": [],
   "source": [
    "from mesmerize_core.caiman_extensions.cnmf import cnmf_cache\n",
    "if os.name == \"nt\":\n",
    "    # disable the cache on windows\n",
    "    cnmf_cache.set_maxsize(0)"
   ]
  },
  {
   "cell_type": "code",
   "execution_count": 4,
   "id": "3d483e25-3654-48a7-b17e-892e8b557c86",
   "metadata": {
    "editable": true,
    "slideshow": {
     "slide_type": ""
    },
    "tags": []
   },
   "outputs": [],
   "source": [
    "pd.options.display.max_colwidth = 120"
   ]
  },
  {
   "cell_type": "code",
   "execution_count": 6,
   "id": "61f94806-21a4-4e89-ac94-c37c6f8d497e",
   "metadata": {},
   "outputs": [],
   "source": [
    "from pathlib import Path\n",
    "import scanreader\n",
    "from tifffile import imwrite\n"
   ]
  },
  {
   "cell_type": "markdown",
   "id": "5afac97a-e977-47aa-8943-1c9930e7f604",
   "metadata": {},
   "source": [
    "### Set up data and save-paths"
   ]
  },
  {
   "cell_type": "code",
   "execution_count": 7,
   "id": "0abc4ddc-a970-46c0-8ef4-c2f7af2b7c52",
   "metadata": {},
   "outputs": [],
   "source": [
    "parent = Path('/home/rbo/caiman_data')\n",
    "raw_tiff_name = parent / 'high_res.tif'\n",
    "\n",
    "save =  parent / 'v1'\n",
    "savename = save / 'extracted_plane_1.tif'\n",
    "\n",
    "reader = scanreader.read_scan(str(raw_tiff_name), join_contiguous=True)"
   ]
  },
  {
   "cell_type": "markdown",
   "id": "89c184bf-265a-4e2b-a16b-d9e6ec38586e",
   "metadata": {},
   "source": [
    "### Save as a multi-page tiff"
   ]
  },
  {
   "cell_type": "code",
   "execution_count": null,
   "id": "e4ad11e8-346d-4bf7-ac67-c09ae1b535cf",
   "metadata": {},
   "outputs": [],
   "source": [
    "for plane in range(0, reader.num_channels):\n",
    "    savename = save / f\"extracted_plane_{plane + 1}.tiff\"\n",
    "    print(savename)\n",
    "    if not savename.is_file():\n",
    "        print(f\"Saving: {savename}\\n\")\n",
    "        imwrite(savename, reader[:,:,:,plane,:].squeeze().transpose(2,0,1), photometric='minisblack')\n",
    "    else:\n",
    "        print(f\"This file already exists in save path: {savename}\\n\")"
   ]
  },
  {
   "cell_type": "code",
   "execution_count": 11,
   "id": "03caa0e3-41c3-45c8-8263-791ee3883695",
   "metadata": {},
   "outputs": [
    {
     "data": {
      "text/plain": [
       "PosixPath('/home/rbo/caiman_data/v1')"
      ]
     },
     "execution_count": 11,
     "metadata": {},
     "output_type": "execute_result"
    }
   ],
   "source": [
    "mc.set_parent_raw_data_path(\"/home/rbo/caiman_data/v1/\")"
   ]
  },
  {
   "cell_type": "code",
   "execution_count": 12,
   "id": "5a87e162-6262-48cb-8c34-6f4f34c0a5be",
   "metadata": {},
   "outputs": [],
   "source": [
    "batch_path = mc.get_parent_raw_data_path().joinpath(\"mesmerize-batch/batch.pickle\")"
   ]
  },
  {
   "cell_type": "code",
   "execution_count": 13,
   "id": "a6144725-ee7e-4653-86fe-f05848754507",
   "metadata": {},
   "outputs": [],
   "source": [
    "# create a new batch\n",
    "try:\n",
    "    df = mc.create_batch(batch_path)\n",
    "except FileExistsError:\n",
    "    df = mc.load_batch(batch_path)"
   ]
  },
  {
   "cell_type": "code",
   "execution_count": 14,
   "id": "6c6ed653-00bf-45fe-9506-a09b2e689221",
   "metadata": {
    "editable": true,
    "slideshow": {
     "slide_type": ""
    },
    "tags": []
   },
   "outputs": [],
   "source": [
    "movie_path = mc.get_parent_raw_data_path().joinpath(\"extracted_plane_0.tiff\")"
   ]
  },
  {
   "cell_type": "code",
   "execution_count": 15,
   "id": "11d43024-6a52-4b0e-8b7f-3525dbacde36",
   "metadata": {},
   "outputs": [],
   "source": [
    "mcorr_params1 =\\\n",
    "{\n",
    "  'main': # this key is necessary for specifying that these are the \"main\" params for the algorithm\n",
    "    {\n",
    "        'max_shifts': [6, 6],\n",
    "        'strides': [48, 48],\n",
    "        'overlaps': [24, 24],\n",
    "        'max_deviation_rigid': 3,\n",
    "        'border_nan': 'copy',\n",
    "        'pw_rigid': True,\n",
    "        'gSig_filt': None\n",
    "    },\n",
    "}"
   ]
  },
  {
   "cell_type": "code",
   "execution_count": 16,
   "id": "627a540e-3757-4862-baf6-c79249715fe5",
   "metadata": {},
   "outputs": [
    {
     "data": {
      "text/html": [
       "<div>\n",
       "<style scoped>\n",
       "    .dataframe tbody tr th:only-of-type {\n",
       "        vertical-align: middle;\n",
       "    }\n",
       "\n",
       "    .dataframe tbody tr th {\n",
       "        vertical-align: top;\n",
       "    }\n",
       "\n",
       "    .dataframe thead th {\n",
       "        text-align: right;\n",
       "    }\n",
       "</style>\n",
       "<table border=\"1\" class=\"dataframe\">\n",
       "  <thead>\n",
       "    <tr style=\"text-align: right;\">\n",
       "      <th></th>\n",
       "      <th>algo</th>\n",
       "      <th>item_name</th>\n",
       "      <th>input_movie_path</th>\n",
       "      <th>params</th>\n",
       "      <th>outputs</th>\n",
       "      <th>added_time</th>\n",
       "      <th>ran_time</th>\n",
       "      <th>algo_duration</th>\n",
       "      <th>comments</th>\n",
       "      <th>uuid</th>\n",
       "    </tr>\n",
       "  </thead>\n",
       "  <tbody>\n",
       "    <tr>\n",
       "      <th>0</th>\n",
       "      <td>mcorr</td>\n",
       "      <td>extracted_plane_0</td>\n",
       "      <td>extracted_plane_0.tiff</td>\n",
       "      <td>{'main': {'max_shifts': (6, 6), 'strides': (48, 48), 'overlaps': (24, 24), 'max_deviation_rigid': 3, 'border_nan': '...</td>\n",
       "      <td>{'mean-projection-path': d70fc97b-b414-4f50-b83c-57365d8a11e4/d70fc97b-b414-4f50-b83c-57365d8a11e4_mean_projection.n...</td>\n",
       "      <td>2024-07-18T21:43:39</td>\n",
       "      <td>2024-07-18T21:45:12</td>\n",
       "      <td>43.55 sec</td>\n",
       "      <td>None</td>\n",
       "      <td>d70fc97b-b414-4f50-b83c-57365d8a11e4</td>\n",
       "    </tr>\n",
       "    <tr>\n",
       "      <th>1</th>\n",
       "      <td>mcorr</td>\n",
       "      <td>extracted_plane_0</td>\n",
       "      <td>extracted_plane_0.tiff</td>\n",
       "      <td>{'main': {'max_shifts': (6, 6), 'strides': (48, 48), 'overlaps': (24, 24), 'max_deviation_rigid': 3, 'border_nan': '...</td>\n",
       "      <td>None</td>\n",
       "      <td>2024-07-18T21:58:49</td>\n",
       "      <td>None</td>\n",
       "      <td>None</td>\n",
       "      <td>None</td>\n",
       "      <td>b1182bfa-f176-4d84-bf2a-bd8874005189</td>\n",
       "    </tr>\n",
       "  </tbody>\n",
       "</table>\n",
       "</div>"
      ],
      "text/plain": [
       "    algo          item_name        input_movie_path  \\\n",
       "0  mcorr  extracted_plane_0  extracted_plane_0.tiff   \n",
       "1  mcorr  extracted_plane_0  extracted_plane_0.tiff   \n",
       "\n",
       "                                                                                                                    params  \\\n",
       "0  {'main': {'max_shifts': (6, 6), 'strides': (48, 48), 'overlaps': (24, 24), 'max_deviation_rigid': 3, 'border_nan': '...   \n",
       "1  {'main': {'max_shifts': (6, 6), 'strides': (48, 48), 'overlaps': (24, 24), 'max_deviation_rigid': 3, 'border_nan': '...   \n",
       "\n",
       "                                                                                                                   outputs  \\\n",
       "0  {'mean-projection-path': d70fc97b-b414-4f50-b83c-57365d8a11e4/d70fc97b-b414-4f50-b83c-57365d8a11e4_mean_projection.n...   \n",
       "1                                                                                                                     None   \n",
       "\n",
       "            added_time             ran_time algo_duration comments  \\\n",
       "0  2024-07-18T21:43:39  2024-07-18T21:45:12     43.55 sec     None   \n",
       "1  2024-07-18T21:58:49                 None          None     None   \n",
       "\n",
       "                                   uuid  \n",
       "0  d70fc97b-b414-4f50-b83c-57365d8a11e4  \n",
       "1  b1182bfa-f176-4d84-bf2a-bd8874005189  "
      ]
     },
     "execution_count": 16,
     "metadata": {},
     "output_type": "execute_result"
    }
   ],
   "source": [
    "# add an item to the DataFrame\n",
    "df.caiman.add_item(\n",
    "    algo='mcorr',\n",
    "    input_movie_path=movie_path,\n",
    "    params=mcorr_params1,\n",
    "    item_name=movie_path.stem,  # filename of the movie, but can be anything\n",
    ")\n",
    "\n",
    "df"
   ]
  },
  {
   "cell_type": "code",
   "execution_count": 17,
   "id": "75849400-4363-47cb-b41f-04e95efa6534",
   "metadata": {},
   "outputs": [
    {
     "name": "stdout",
     "output_type": "stream",
     "text": [
      "starting mc\n"
     ]
    },
    {
     "data": {
      "text/plain": [
       "<Popen: returncode: 0 args: '/home/rbo/caiman_data/v1/mesmerize-batch/d70fc9...>"
      ]
     },
     "execution_count": 17,
     "metadata": {},
     "output_type": "execute_result"
    }
   ],
   "source": [
    "df.iloc[0].caiman.run()"
   ]
  },
  {
   "cell_type": "code",
   "execution_count": 18,
   "id": "c370a3a2-83d3-4a5d-8c70-1ebb9c6c67c8",
   "metadata": {},
   "outputs": [
    {
     "data": {
      "text/html": [
       "<div>\n",
       "<style scoped>\n",
       "    .dataframe tbody tr th:only-of-type {\n",
       "        vertical-align: middle;\n",
       "    }\n",
       "\n",
       "    .dataframe tbody tr th {\n",
       "        vertical-align: top;\n",
       "    }\n",
       "\n",
       "    .dataframe thead th {\n",
       "        text-align: right;\n",
       "    }\n",
       "</style>\n",
       "<table border=\"1\" class=\"dataframe\">\n",
       "  <thead>\n",
       "    <tr style=\"text-align: right;\">\n",
       "      <th></th>\n",
       "      <th>algo</th>\n",
       "      <th>item_name</th>\n",
       "      <th>input_movie_path</th>\n",
       "      <th>params</th>\n",
       "      <th>outputs</th>\n",
       "      <th>added_time</th>\n",
       "      <th>ran_time</th>\n",
       "      <th>algo_duration</th>\n",
       "      <th>comments</th>\n",
       "      <th>uuid</th>\n",
       "    </tr>\n",
       "  </thead>\n",
       "  <tbody>\n",
       "    <tr>\n",
       "      <th>0</th>\n",
       "      <td>mcorr</td>\n",
       "      <td>extracted_plane_0</td>\n",
       "      <td>extracted_plane_0.tiff</td>\n",
       "      <td>{'main': {'max_shifts': (6, 6), 'strides': (48, 48), 'overlaps': (24, 24), 'max_deviation_rigid': 3, 'border_nan': '...</td>\n",
       "      <td>{'mean-projection-path': d70fc97b-b414-4f50-b83c-57365d8a11e4/d70fc97b-b414-4f50-b83c-57365d8a11e4_mean_projection.n...</td>\n",
       "      <td>2024-07-18T21:43:39</td>\n",
       "      <td>2024-07-18T21:59:32</td>\n",
       "      <td>40.22 sec</td>\n",
       "      <td>None</td>\n",
       "      <td>d70fc97b-b414-4f50-b83c-57365d8a11e4</td>\n",
       "    </tr>\n",
       "    <tr>\n",
       "      <th>1</th>\n",
       "      <td>mcorr</td>\n",
       "      <td>extracted_plane_0</td>\n",
       "      <td>extracted_plane_0.tiff</td>\n",
       "      <td>{'main': {'max_shifts': (6, 6), 'strides': (48, 48), 'overlaps': (24, 24), 'max_deviation_rigid': 3, 'border_nan': '...</td>\n",
       "      <td>None</td>\n",
       "      <td>2024-07-18T21:58:49</td>\n",
       "      <td>None</td>\n",
       "      <td>None</td>\n",
       "      <td>None</td>\n",
       "      <td>b1182bfa-f176-4d84-bf2a-bd8874005189</td>\n",
       "    </tr>\n",
       "  </tbody>\n",
       "</table>\n",
       "</div>"
      ],
      "text/plain": [
       "    algo          item_name        input_movie_path  \\\n",
       "0  mcorr  extracted_plane_0  extracted_plane_0.tiff   \n",
       "1  mcorr  extracted_plane_0  extracted_plane_0.tiff   \n",
       "\n",
       "                                                                                                                    params  \\\n",
       "0  {'main': {'max_shifts': (6, 6), 'strides': (48, 48), 'overlaps': (24, 24), 'max_deviation_rigid': 3, 'border_nan': '...   \n",
       "1  {'main': {'max_shifts': (6, 6), 'strides': (48, 48), 'overlaps': (24, 24), 'max_deviation_rigid': 3, 'border_nan': '...   \n",
       "\n",
       "                                                                                                                   outputs  \\\n",
       "0  {'mean-projection-path': d70fc97b-b414-4f50-b83c-57365d8a11e4/d70fc97b-b414-4f50-b83c-57365d8a11e4_mean_projection.n...   \n",
       "1                                                                                                                     None   \n",
       "\n",
       "            added_time             ran_time algo_duration comments  \\\n",
       "0  2024-07-18T21:43:39  2024-07-18T21:59:32     40.22 sec     None   \n",
       "1  2024-07-18T21:58:49                 None          None     None   \n",
       "\n",
       "                                   uuid  \n",
       "0  d70fc97b-b414-4f50-b83c-57365d8a11e4  \n",
       "1  b1182bfa-f176-4d84-bf2a-bd8874005189  "
      ]
     },
     "execution_count": 18,
     "metadata": {},
     "output_type": "execute_result"
    }
   ],
   "source": [
    "df = df.caiman.reload_from_disk()\n",
    "df"
   ]
  },
  {
   "cell_type": "code",
   "execution_count": 19,
   "id": "e3abaa9e-9a07-4b06-8be8-1ac03b770e78",
   "metadata": {
    "editable": true,
    "slideshow": {
     "slide_type": ""
    },
    "tags": []
   },
   "outputs": [
    {
     "data": {
      "text/plain": [
       "(1730, 600, 576)"
      ]
     },
     "execution_count": 19,
     "metadata": {},
     "output_type": "execute_result"
    }
   ],
   "source": [
    "index = 0 # we will fetch stuff from index 0 which we just ran\n",
    "\n",
    "# get the motion corrected movie memmap\n",
    "mcorr_movie = df.iloc[0].mcorr.get_output()\n",
    "mcorr_movie.shape\n",
    "\n",
    "# path to the mcorr memmap if you ever need it\n",
    "mcorr_memmap_path = df.iloc[0].mcorr.get_output_path()\n",
    "mcorr_memmap_path\n",
    "\n",
    "# mean projection, max and std projections are also available\n",
    "mean_proj = df.iloc[0].caiman.get_projection(\"mean\")\n",
    "mean_proj.shape\n",
    "\n",
    "# the input movie, note that we use `.caiman` here instead of `.mcorr`\n",
    "input_movie = df.iloc[0].caiman.get_input_movie()\n",
    "input_movie.shape"
   ]
  },
  {
   "cell_type": "code",
   "execution_count": null,
   "id": "03f61ea0-9334-4f61-ac1f-58876ad8bb31",
   "metadata": {},
   "outputs": [],
   "source": [
    "plt.imshow(mean_proj)\n",
    "plt.show()"
   ]
  },
  {
   "cell_type": "code",
   "execution_count": null,
   "id": "ea26f5ad-ee49-4c8a-ad6c-f9bc38acfda3",
   "metadata": {},
   "outputs": [],
   "source": [
    "for name, value in os.environ.items():\n",
    "    print(\"{0}: {1}\".format(name, value))"
   ]
  },
  {
   "cell_type": "code",
   "execution_count": 20,
   "id": "184ecde4-399a-4315-94eb-6900c27fe949",
   "metadata": {},
   "outputs": [
    {
     "name": "stderr",
     "output_type": "stream",
     "text": [
      "/home/rbo/miniconda3/envs/caiman/lib/python3.11/site-packages/ipydatagrid/datagrid.py:512: UserWarning: Index name of 'index' is not round-trippable.\n",
      "  schema = pd.io.json.build_table_schema(dataframe)\n"
     ]
    },
    {
     "data": {
      "application/vnd.jupyter.widget-view+json": {
       "model_id": "9ab7e555d505458baa752fb972f6a80e",
       "version_major": 2,
       "version_minor": 0
      },
      "text/plain": [
       "RFBOutputContext()"
      ]
     },
     "metadata": {},
     "output_type": "display_data"
    },
    {
     "name": "stderr",
     "output_type": "stream",
     "text": [
      "/home/rbo/miniconda3/envs/caiman/lib/python3.11/site-packages/fastplotlib/graphics/_features/_base.py:34: UserWarning: converting float64 array to float32\n",
      "  warn(f\"converting {array.dtype} array to float32\")\n"
     ]
    }
   ],
   "source": [
    "viz = df.mcorr.viz(data_options=[\"input\", \"mcorr\", \"mean\", \"corr\"])"
   ]
  },
  {
   "cell_type": "code",
   "execution_count": null,
   "id": "da1e60d0-dcea-470a-863c-38f4782ecf7a",
   "metadata": {
    "editable": true,
    "slideshow": {
     "slide_type": ""
    },
    "tags": []
   },
   "outputs": [],
   "source": [
    "viz.close()"
   ]
  },
  {
   "cell_type": "code",
   "execution_count": null,
   "id": "4c303529-4406-4bef-bc32-567a200701a3",
   "metadata": {
    "editable": true,
    "slideshow": {
     "slide_type": ""
    },
    "tags": []
   },
   "outputs": [],
   "source": [
    "mcorr_params2 =\\\n",
    "{\n",
    "  'main':\n",
    "    {\n",
    "        'max_shifts': [4, 4],\n",
    "        'strides': [48, 48],\n",
    "        'overlaps': [24, 24],\n",
    "        'max_deviation_rigid': 3,\n",
    "        'border_nan': 'copy',\n",
    "        'pw_rigid': True,\n",
    "        'gSig_filt': None\n",
    "    },\n",
    "}\n",
    "\n",
    "# add other param variant to the batch\n",
    "df.caiman.add_item(\n",
    "  algo='mcorr',\n",
    "  item_name=movie_path.stem,\n",
    "  input_movie_path=movie_path,\n",
    "  params=mcorr_params2\n",
    ")\n",
    "\n",
    "df"
   ]
  },
  {
   "cell_type": "code",
   "execution_count": null,
   "id": "ce11d41f-2308-486f-9c35-160f1196a657",
   "metadata": {
    "editable": true,
    "slideshow": {
     "slide_type": ""
    },
    "tags": []
   },
   "outputs": [],
   "source": [
    "# copy the mcorr_params2 dict to make some changes\n",
    "new_params = deepcopy(mcorr_params2)\n",
    "\n",
    "# some variants of max_shifts\n",
    "for shifts in [2, 32]: \n",
    "    for strides in [12, 24, 64]:\n",
    "        overlaps = int(strides / 2)\n",
    "        # deep copy is the safest way to copy dicts\n",
    "        new_params = deepcopy(new_params)\n",
    "\n",
    "        # assign the \"max_shifts\"\n",
    "        new_params[\"main\"][\"max_shifts\"] = (shifts, shifts)\n",
    "        new_params[\"main\"][\"strides\"] = (strides, strides)\n",
    "        new_params[\"main\"][\"overlaps\"] = (overlaps, overlaps)\n",
    "\n",
    "        df.caiman.add_item(\n",
    "          algo='mcorr',\n",
    "          item_name=movie_path.stem,\n",
    "          input_movie_path=movie_path,\n",
    "          params=new_params\n",
    "        )"
   ]
  },
  {
   "cell_type": "code",
   "execution_count": null,
   "id": "1127f085-952c-40b7-924d-51c8dc055a59",
   "metadata": {
    "editable": true,
    "slideshow": {
     "slide_type": ""
    },
    "tags": []
   },
   "outputs": [],
   "source": [
    "diffs = df.caiman.get_params_diffs(algo=\"mcorr\", item_name=df.iloc[0][\"item_name\"])\n",
    "diffs"
   ]
  },
  {
   "cell_type": "code",
   "execution_count": null,
   "id": "e912f841-026d-449c-8d42-e1d27104f98e",
   "metadata": {
    "editable": true,
    "slideshow": {
     "slide_type": ""
    },
    "tags": []
   },
   "outputs": [],
   "source": [
    "for i, row in df.iterrows():\n",
    "    if row[\"outputs\"] is not None: # item has already been run\n",
    "        continue # skip\n",
    "        \n",
    "    process = row.caiman.run()\n",
    "    \n",
    "    # on Windows you MUST reload the batch dataframe after every iteration because it uses the `local` backend.\n",
    "    # this is unnecessary on Linux & Mac\n",
    "    # \"DummyProcess\" is used for local backend so this is automatic\n",
    "    if process.__class__.__name__ == \"DummyProcess\":\n",
    "        df = df.caiman.reload_from_disk()"
   ]
  },
  {
   "cell_type": "code",
   "execution_count": null,
   "id": "b04cc25e-c063-440d-a021-89e65e5cbbe6",
   "metadata": {
    "editable": true,
    "slideshow": {
     "slide_type": ""
    },
    "tags": []
   },
   "outputs": [],
   "source": [
    "df = df.caiman.reload_from_disk()"
   ]
  },
  {
   "cell_type": "code",
   "execution_count": null,
   "id": "707e55b4-1445-4645-805c-217c608e4f27",
   "metadata": {
    "editable": true,
    "slideshow": {
     "slide_type": ""
    },
    "tags": []
   },
   "outputs": [],
   "source": [
    "%gui qt"
   ]
  },
  {
   "cell_type": "code",
   "execution_count": null,
   "id": "61a1d484-17ae-4b44-8872-c828b94aa038",
   "metadata": {
    "editable": true,
    "slideshow": {
     "slide_type": ""
    },
    "tags": []
   },
   "outputs": [],
   "source": []
  }
 ],
 "metadata": {
  "kernelspec": {
   "display_name": "Python 3 (ipykernel)",
   "language": "python",
   "name": "python3"
  },
  "language_info": {
   "codemirror_mode": {
    "name": "ipython",
    "version": 3
   },
   "file_extension": ".py",
   "mimetype": "text/x-python",
   "name": "python",
   "nbconvert_exporter": "python",
   "pygments_lexer": "ipython3",
   "version": "3.11.9"
  }
 },
 "nbformat": 4,
 "nbformat_minor": 5
}
