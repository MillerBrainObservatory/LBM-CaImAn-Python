{
 "cells": [
  {
   "cell_type": "markdown",
   "metadata": {
    "execution": {
     "iopub.execute_input": "2024-05-02T04:09:21.951898Z",
     "iopub.status.busy": "2024-05-02T04:09:21.951329Z",
     "iopub.status.idle": "2024-05-02T04:09:22.081278Z",
     "shell.execute_reply": "2024-05-02T04:09:22.080475Z",
     "shell.execute_reply.started": "2024-05-02T04:09:21.951834Z"
    }
   },
   "source": [
    "# Light Beads Microscopy: Exploration \n"
   ]
  },
  {
   "cell_type": "raw",
   "metadata": {
    "execution": {
     "iopub.execute_input": "2024-05-25T04:11:01.161663Z",
     "iopub.status.busy": "2024-05-25T04:11:01.161162Z",
     "iopub.status.idle": "2024-05-25T04:11:01.387638Z",
     "shell.execute_reply": "2024-05-25T04:11:01.386818Z",
     "shell.execute_reply.started": "2024-05-25T04:11:01.161602Z"
    }
   },
   "source": [
    "import sys\n",
    "import os\n",
    "from pathlib import Path\n",
    "import numpy as np\n",
    "import cv2\n",
    "sys.path.append('../../util/')  # TODO: Take this out when we upload to pypi\n",
    "sys.path.append('../../exclude/')  # TODO: Take this out when we upload to pypi\n",
    "import scanreader\n",
    "import util\n",
    "\n",
    "import bokeh.plotting as bpl\n",
    "import holoviews as hv\n",
    "from IPython import get_ipython\n",
    "import logging\n",
    "import matplotlib.pyplot as plt\n",
    "\n",
    "try:\n",
    "    cv2.setNumThreads(0)\n",
    "except():\n",
    "    pass\n",
    "\n",
    "try:\n",
    "    if __IPYTHON__:\n",
    "        get_ipython().run_line_magic('load_ext', 'autoreload')\n",
    "        get_ipython().run_line_magic('autoreload', '2')\n",
    "except NameError:\n",
    "    pass\n",
    "\n",
    "import caiman as cm\n",
    "\n",
    "bpl.output_notebook()\n",
    "hv.notebook_extension('bokeh')\n",
    "%matplotlib inline\n",
    "\n",
    "datapath = Path('/data2/fpo/data/raw/high_res/')"
   ]
  },
  {
   "cell_type": "code",
   "execution_count": 1,
   "metadata": {
    "execution": {
     "iopub.execute_input": "2024-05-25T04:11:24.340442Z",
     "iopub.status.busy": "2024-05-25T04:11:24.339680Z",
     "iopub.status.idle": "2024-05-25T04:11:24.427373Z",
     "shell.execute_reply": "2024-05-25T04:11:24.426634Z",
     "shell.execute_reply.started": "2024-05-25T04:11:24.340376Z"
    }
   },
   "outputs": [
    {
     "ename": "NameError",
     "evalue": "name 'datapath' is not defined",
     "output_type": "error",
     "traceback": [
      "\u001b[0;31m---------------------------------------------------------------------------\u001b[0m",
      "\u001b[0;31mNameError\u001b[0m                                 Traceback (most recent call last)",
      "Cell \u001b[0;32mIn[1], line 1\u001b[0m\n\u001b[0;32m----> 1\u001b[0m tiffs \u001b[38;5;241m=\u001b[39m [x \u001b[38;5;28;01mfor\u001b[39;00m x \u001b[38;5;129;01min\u001b[39;00m \u001b[43mdatapath\u001b[49m\u001b[38;5;241m.\u001b[39mglob(\u001b[38;5;124m'\u001b[39m\u001b[38;5;124m*.tif*\u001b[39m\u001b[38;5;124m'\u001b[39m)]      \u001b[38;5;66;03m# this accumulates a list of every filepath which contains a .tif file\u001b[39;00m\n\u001b[1;32m      2\u001b[0m \u001b[38;5;28mlen\u001b[39m(tiffs)\n",
      "\u001b[0;31mNameError\u001b[0m: name 'datapath' is not defined"
     ]
    }
   ],
   "source": [
    "tiffs = [x for x in datapath.glob('*.tif*')]      # this accumulates a list of every filepath which contains a .tif file\n",
    "len(tiffs)"
   ]
  },
  {
   "cell_type": "code",
   "execution_count": null,
   "metadata": {
    "execution": {
     "iopub.execute_input": "2024-05-25T04:10:04.692372Z",
     "iopub.status.busy": "2024-05-25T04:10:04.690970Z",
     "iopub.status.idle": "2024-05-25T04:10:04.914981Z",
     "shell.execute_reply": "2024-05-25T04:10:04.913457Z",
     "shell.execute_reply.started": "2024-05-25T04:10:04.692223Z"
    }
   },
   "outputs": [
    {
     "ename": "IndexError",
     "evalue": "list index out of range",
     "output_type": "error",
     "traceback": [
      "\u001b[0;31m---------------------------------------------------------------------------\u001b[0m",
      "\u001b[0;31mIndexError\u001b[0m                                Traceback (most recent call last)",
      "Cell \u001b[0;32mIn[3], line 3\u001b[0m\n\u001b[1;32m      1\u001b[0m tiffs \u001b[38;5;241m=\u001b[39m [x \u001b[38;5;28;01mfor\u001b[39;00m x \u001b[38;5;129;01min\u001b[39;00m datapath\u001b[38;5;241m.\u001b[39mglob(\u001b[38;5;124m'\u001b[39m\u001b[38;5;124m*.tif*\u001b[39m\u001b[38;5;124m'\u001b[39m)]      \u001b[38;5;66;03m# this accumulates a list of every filepath which contains a .tif file\u001b[39;00m\n\u001b[0;32m----> 3\u001b[0m reader \u001b[38;5;241m=\u001b[39m scanreader\u001b[38;5;241m.\u001b[39mread_scan(\u001b[38;5;28mstr\u001b[39m(\u001b[43mtiffs\u001b[49m\u001b[43m[\u001b[49m\u001b[38;5;241;43m0\u001b[39;49m\u001b[43m]\u001b[49m), join_contiguous\u001b[38;5;241m=\u001b[39m\u001b[38;5;28;01mTrue\u001b[39;00m, lbm\u001b[38;5;241m=\u001b[39m\u001b[38;5;28;01mTrue\u001b[39;00m, x_cut\u001b[38;5;241m=\u001b[39m(\u001b[38;5;241m5\u001b[39m,\u001b[38;5;241m5\u001b[39m))\n",
      "\u001b[0;31mIndexError\u001b[0m: list index out of range"
     ]
    }
   ],
   "source": [
    "reader = scanreader.read_scan(str(tiffs[0]), join_contiguous=True, lbm=True, x_cut=(5,5))"
   ]
  },
  {
   "cell_type": "code",
   "execution_count": 6,
   "metadata": {
    "execution": {
     "iopub.execute_input": "2024-05-10T16:11:38.692199Z",
     "iopub.status.busy": "2024-05-10T16:11:38.691965Z",
     "iopub.status.idle": "2024-05-10T16:11:38.750784Z",
     "shell.execute_reply": "2024-05-10T16:11:38.749638Z",
     "shell.execute_reply.started": "2024-05-10T16:11:38.692180Z"
    }
   },
   "outputs": [],
   "source": [
    "def linear_stitch(left, right, expected_delta_x, minimum_overlap=10):\n",
    "    \"\"\"Compute offsets to stitch two side-by-side volumes via cross-correlation.\n",
    "\n",
    "    Subpixel shifts are calculated per depth and the median is returned.\n",
    "\n",
    "    Arguments:\n",
    "    :param left: Slice (height x width) to be stitched in the left.\n",
    "    :param right: Slice (height x width) to be stitched in the right.\n",
    "    :param float expected_delta_x: Expected distance between center of left to right.\n",
    "    :param float minimum_overlap: Minimum overlap after stitching.\n",
    "\n",
    "    :returns: (delta_y, delta_x). Distance between center of right ROI and left ROI after\n",
    "        stitching (right_center - left_center)\n",
    "    \"\"\"\n",
    "    # Get some params\n",
    "    right_height, right_width = right.shape\n",
    "    left_height, left_width = left.shape\n",
    "    expected_overlap = left_width / 2 + right_width / 2 - expected_delta_x\n",
    "\n",
    "    # Drop some rows, columns to avoid artifacts\n",
    "    skip_columns = int(round(0.05 * expected_overlap))  # 5% of expected overlap\n",
    "    skip_rows = int(\n",
    "        round(0.05 * min(right_height, left_height))\n",
    "    )  # 5% of top and bottom rows\n",
    "    left = left[skip_rows:-skip_rows, :-skip_columns]\n",
    "    right = right[skip_rows:-skip_rows, skip_columns:]\n",
    "    expected_overlap = int(round(expected_overlap - 2 * skip_columns))\n",
    "\n",
    "    # Cut strips of expected overlap (plus some padding on the sides)\n",
    "    min_height = min(left.shape[0], right.shape[0])\n",
    "    pad_pixels = int(round(expected_overlap * 0.5 - minimum_overlap))\n",
    "    left_strip = np.zeros([min_height, expected_overlap + 2 * pad_pixels])\n",
    "    right_strip = np.zeros([min_height, expected_overlap + 2 * pad_pixels])\n",
    "    left_strip[:, : expected_overlap + pad_pixels] = left[\n",
    "        :min_height, -(expected_overlap + pad_pixels) :\n",
    "    ]\n",
    "    right_strip[:, -(expected_overlap + pad_pixels) :] = right[\n",
    "        :min_height, : expected_overlap + pad_pixels\n",
    "    ]\n",
    "\n",
    "    # Compute best match\n",
    "    y_shifts, x_shifts = util.compute_motion_shifts(right_strip, left_strip, in_place=False)\n",
    "    y_shift, x_shift = y_shifts[0], x_shifts[0]\n",
    "\n",
    "    # Compute right_center minus left_center\n",
    "    right_ycenter = right_height / 2 - y_shift  # original + offset\n",
    "    right_xcenter = (\n",
    "        right_width / 2 + (left_width - expected_overlap - 2 * skip_columns) - x_shift\n",
    "    )  # original + repositioning + offset\n",
    "    delta_y = right_ycenter - left_height / 2  # negative to change direction of y axis\n",
    "    delta_x = right_xcenter - left_width / 2\n",
    "\n",
    "    return delta_y, delta_x"
   ]
  },
  {
   "cell_type": "code",
   "execution_count": 7,
   "metadata": {
    "execution": {
     "iopub.execute_input": "2024-05-10T16:11:40.683071Z",
     "iopub.status.busy": "2024-05-10T16:11:40.682561Z",
     "iopub.status.idle": "2024-05-10T16:11:40.776712Z",
     "shell.execute_reply": "2024-05-10T16:11:40.776008Z",
     "shell.execute_reply.started": "2024-05-10T16:11:40.683045Z"
    }
   },
   "outputs": [],
   "source": [
    "x = linear_stitch(roi_1[:, :, 5, 5], roi_2[:, :, 5, 5], 0.5)"
   ]
  },
  {
   "cell_type": "code",
   "execution_count": null,
   "metadata": {},
   "outputs": [],
   "source": [
    "slice_plane = roi_1[:,:,5,:]\n",
    "phase_angle =  util.compute_raster_phase(slice_plane[:,:, 400], reader.temporal_fill_fraction)\n",
    "corrected_li = util.correct_raster(slice_plane, phase_angle, reader.temporal_fill_fraction)"
   ]
  }
 ],
 "metadata": {
  "kernelspec": {
   "display_name": "Python 3 (ipykernel)",
   "language": "python",
   "name": "python3"
  },
  "language_info": {
   "codemirror_mode": {
    "name": "ipython",
    "version": 3
   },
   "file_extension": ".py",
   "mimetype": "text/x-python",
   "name": "python",
   "nbconvert_exporter": "python",
   "pygments_lexer": "ipython3",
   "version": "3.8.19"
  },
  "widgets": {
   "application/vnd.jupyter.widget-state+json": {
    "state": {},
    "version_major": 2,
    "version_minor": 0
   }
  }
 },
 "nbformat": 4,
 "nbformat_minor": 4
}
