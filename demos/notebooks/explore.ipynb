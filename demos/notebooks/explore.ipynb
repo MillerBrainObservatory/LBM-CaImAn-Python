{
 "cells": [
  {
   "cell_type": "markdown",
   "metadata": {
    "execution": {
     "iopub.execute_input": "2024-05-02T04:09:21.951898Z",
     "iopub.status.busy": "2024-05-02T04:09:21.951329Z",
     "iopub.status.idle": "2024-05-02T04:09:22.081278Z",
     "shell.execute_reply": "2024-05-02T04:09:22.080475Z",
     "shell.execute_reply.started": "2024-05-02T04:09:21.951834Z"
    }
   },
   "source": [
    "# Light Beads Microscopy: Exploration \n"
   ]
  },
  {
   "cell_type": "code",
   "execution_count": 9,
   "metadata": {
    "execution": {
     "iopub.execute_input": "2024-05-10T16:12:45.015054Z",
     "iopub.status.busy": "2024-05-10T16:12:45.014815Z",
     "iopub.status.idle": "2024-05-10T16:13:26.041131Z",
     "shell.execute_reply": "2024-05-10T16:13:26.040148Z",
     "shell.execute_reply.started": "2024-05-10T16:12:45.015034Z"
    }
   },
   "outputs": [],
   "source": [
    "import sys\n",
    "import os\n",
    "from pathlib import Path\n",
    "import numpy as np\n",
    "import cv2\n",
    "sys.path.append('../../util/')  # TODO: Take this out when we upload to pypi\n",
    "sys.path.append('../../exclude/')  # TODO: Take this out when we upload to pypi\n",
    "import scanreader\n",
    "import util\n",
    "\n",
    "import bokeh.plotting as bpl\n",
    "import holoviews as hv\n",
    "from IPython import get_ipython\n",
    "import logging\n",
    "import matplotlib.pyplot as plt\n",
    "\n",
    "try:\n",
    "    cv2.setNumThreads(0)\n",
    "except():\n",
    "    pass\n",
    "\n",
    "try:\n",
    "    if __IPYTHON__:\n",
    "        get_ipython().run_line_magic('load_ext', 'autoreload')\n",
    "        get_ipython().run_line_magic('autoreload', '2')\n",
    "except NameError:\n",
    "    pass\n",
    "\n",
    "import caiman as cm\n",
    "\n",
    "bpl.output_notebook()\n",
    "hv.notebook_extension('bokeh')\n",
    "%matplotlib inline\n",
    "\n",
    "datapath = Path('/data2/fpo/data/')                 # string pointing to directory containing your data\n",
    "tiffs = [x for x in datapath.glob('*.tif')]         # this accumulates a list of every filepath which contains a .tif file\n",
    "reader = scanreader.read_scan(str(tiffs[0]), join_contiguous=True, lbm=True, x_cut=(5,5))\n",
    "data = reader[0]"
   ]
  },
  {
   "cell_type": "code",
   "execution_count": 6,
   "metadata": {
    "execution": {
     "iopub.execute_input": "2024-05-10T16:11:38.692199Z",
     "iopub.status.busy": "2024-05-10T16:11:38.691965Z",
     "iopub.status.idle": "2024-05-10T16:11:38.750784Z",
     "shell.execute_reply": "2024-05-10T16:11:38.749638Z",
     "shell.execute_reply.started": "2024-05-10T16:11:38.692180Z"
    }
   },
   "outputs": [],
   "source": [
    "def linear_stitch(left, right, expected_delta_x, minimum_overlap=10):\n",
    "    \"\"\"Compute offsets to stitch two side-by-side volumes via cross-correlation.\n",
    "\n",
    "    Subpixel shifts are calculated per depth and the median is returned.\n",
    "\n",
    "    Arguments:\n",
    "    :param left: Slice (height x width) to be stitched in the left.\n",
    "    :param right: Slice (height x width) to be stitched in the right.\n",
    "    :param float expected_delta_x: Expected distance between center of left to right.\n",
    "    :param float minimum_overlap: Minimum overlap after stitching.\n",
    "\n",
    "    :returns: (delta_y, delta_x). Distance between center of right ROI and left ROI after\n",
    "        stitching (right_center - left_center)\n",
    "    \"\"\"\n",
    "    # Get some params\n",
    "    right_height, right_width = right.shape\n",
    "    left_height, left_width = left.shape\n",
    "    expected_overlap = left_width / 2 + right_width / 2 - expected_delta_x\n",
    "\n",
    "    # Drop some rows, columns to avoid artifacts\n",
    "    skip_columns = int(round(0.05 * expected_overlap))  # 5% of expected overlap\n",
    "    skip_rows = int(\n",
    "        round(0.05 * min(right_height, left_height))\n",
    "    )  # 5% of top and bottom rows\n",
    "    left = left[skip_rows:-skip_rows, :-skip_columns]\n",
    "    right = right[skip_rows:-skip_rows, skip_columns:]\n",
    "    expected_overlap = int(round(expected_overlap - 2 * skip_columns))\n",
    "\n",
    "    # Cut strips of expected overlap (plus some padding on the sides)\n",
    "    min_height = min(left.shape[0], right.shape[0])\n",
    "    pad_pixels = int(round(expected_overlap * 0.5 - minimum_overlap))\n",
    "    left_strip = np.zeros([min_height, expected_overlap + 2 * pad_pixels])\n",
    "    right_strip = np.zeros([min_height, expected_overlap + 2 * pad_pixels])\n",
    "    left_strip[:, : expected_overlap + pad_pixels] = left[\n",
    "        :min_height, -(expected_overlap + pad_pixels) :\n",
    "    ]\n",
    "    right_strip[:, -(expected_overlap + pad_pixels) :] = right[\n",
    "        :min_height, : expected_overlap + pad_pixels\n",
    "    ]\n",
    "\n",
    "    # Compute best match\n",
    "    y_shifts, x_shifts = util.compute_motion_shifts(right_strip, left_strip, in_place=False)\n",
    "    y_shift, x_shift = y_shifts[0], x_shifts[0]\n",
    "\n",
    "    # Compute right_center minus left_center\n",
    "    right_ycenter = right_height / 2 - y_shift  # original + offset\n",
    "    right_xcenter = (\n",
    "        right_width / 2 + (left_width - expected_overlap - 2 * skip_columns) - x_shift\n",
    "    )  # original + repositioning + offset\n",
    "    delta_y = right_ycenter - left_height / 2  # negative to change direction of y axis\n",
    "    delta_x = right_xcenter - left_width / 2\n",
    "\n",
    "    return delta_y, delta_x"
   ]
  },
  {
   "cell_type": "code",
   "execution_count": 7,
   "metadata": {
    "execution": {
     "iopub.execute_input": "2024-05-10T16:11:40.683071Z",
     "iopub.status.busy": "2024-05-10T16:11:40.682561Z",
     "iopub.status.idle": "2024-05-10T16:11:40.776712Z",
     "shell.execute_reply": "2024-05-10T16:11:40.776008Z",
     "shell.execute_reply.started": "2024-05-10T16:11:40.683045Z"
    }
   },
   "outputs": [],
   "source": [
    "x = linear_stitch(roi_1[:, :, 5, 5], roi_2[:, :, 5, 5], 0.5)"
   ]
  },
  {
   "cell_type": "code",
   "execution_count": null,
   "metadata": {},
   "outputs": [],
   "source": [
    "slice_plane = roi_1[:,:,5,:]\n",
    "phase_angle =  util.compute_raster_phase(slice_plane[:,:, 400], reader.temporal_fill_fraction)\n",
    "corrected_li = util.correct_raster(slice_plane, phase_angle, reader.temporal_fill_fraction)"
   ]
  }
 ],
 "metadata": {
  "kernelspec": {
   "display_name": "Python 3 (ipykernel)",
   "language": "python",
   "name": "python3"
  },
  "language_info": {
   "codemirror_mode": {
    "name": "ipython",
    "version": 3
   },
   "file_extension": ".py",
   "mimetype": "text/x-python",
   "name": "python",
   "nbconvert_exporter": "python",
   "pygments_lexer": "ipython3",
   "version": "3.11.9"
  },
  "widgets": {
   "application/vnd.jupyter.widget-state+json": {
    "state": {},
    "version_major": 2,
    "version_minor": 0
   }
  }
 },
 "nbformat": 4,
 "nbformat_minor": 4
}
