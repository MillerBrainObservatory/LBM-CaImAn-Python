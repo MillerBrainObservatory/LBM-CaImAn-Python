{
 "cells": [
  {
   "cell_type": "markdown",
   "id": "3f221a4a-8930-4fbf-85a1-aaa6b959bf54",
   "metadata": {},
   "source": [
    "# Running this notebook\n",
    "\n",
    "**The visualizations in this notebook will run in [jupyter lab](https://github.com/jupyterlab/jupyterlab#installation), not jupyter notebook. Google colab is not supported either. VS Code notebooks _might_ work but that has not been tested.** See the fastplotlib supported frameworks for more info: https://github.com/fastplotlib/fastplotlib/#supported-frameworks "
   ]
  },
  {
   "cell_type": "code",
   "id": "175ae92b-73fa-44d8-ab75-fb3399f68e12",
   "metadata": {
    "pycharm": {
     "name": "#%%\n"
    },
    "tags": [],
    "ExecuteTime": {
     "end_time": "2024-08-17T23:31:03.024771Z",
     "start_time": "2024-08-17T23:30:59.439172Z"
    }
   },
   "source": [
    "from copy import deepcopy\n",
    "from pathlib import Path\n",
    "import os\n",
    "\n",
    "import numpy as np\n",
    "import pandas as pd\n",
    "\n",
    "from matplotlib import pyplot as plt\n",
    "import fastplotlib as fpl\n",
    "\n",
    "import mesmerize_core as mc\n",
    "import mesmerize_viz\n",
    "\n",
    "if os.name == \"nt\":\n",
    "    # disable the cache on windows, this will be automatic in a future version\n",
    "    cnmf_cache.set_maxsize(0)\n",
    "\n",
    "# Mac users!\n",
    "# temporary patch for Mac, won't be necessary in next release\n",
    "# Thanks Ryan Ly for the PR! :D I need to dig into it more before merging\n",
    "# conda_prefix_1_str = os.environ['CONDA_PREFIX'].replace(os.path.join(' ', 'envs', 'mescore')[1:], '')\n",
    "# os.environ['CONDA_PREFIX_1'] = conda_prefix_1_str\n",
    "\n",
    "# This is just a pandas table display formatting option\n",
    "pd.options.display.max_colwidth = 120\n",
    "\n",
    "home_path = Path(os.environ.get(\"HOME\", Path().home()))\n",
    "f\"Home Path: {home_path}\""
   ],
   "outputs": [
    {
     "name": "stderr",
     "output_type": "stream",
     "text": [
      "2024-08-17 19:31:01.340462: E external/local_xla/xla/stream_executor/cuda/cuda_dnn.cc:9261] Unable to register cuDNN factory: Attempting to register factory for plugin cuDNN when one has already been registered\n",
      "2024-08-17 19:31:01.340494: E external/local_xla/xla/stream_executor/cuda/cuda_fft.cc:607] Unable to register cuFFT factory: Attempting to register factory for plugin cuFFT when one has already been registered\n",
      "2024-08-17 19:31:01.340871: E external/local_xla/xla/stream_executor/cuda/cuda_blas.cc:1515] Unable to register cuBLAS factory: Attempting to register factory for plugin cuBLAS when one has already been registered\n",
      "2024-08-17 19:31:01.344354: I tensorflow/core/platform/cpu_feature_guard.cc:182] This TensorFlow binary is optimized to use available CPU instructions in performance-critical operations.\n",
      "To enable the following instructions: SSE4.1 SSE4.2 AVX AVX2 FMA, in other operations, rebuild TensorFlow with the appropriate compiler flags.\n"
     ]
    },
    {
     "data": {
      "text/plain": [
       "'Home Path: /home/mbo'"
      ]
     },
     "execution_count": 1,
     "metadata": {},
     "output_type": "execute_result"
    }
   ],
   "execution_count": 1
  },
  {
   "cell_type": "code",
   "id": "dbfceadc-8ef2-4c76-83e2-941be9bf4514",
   "metadata": {
    "tags": [],
    "ExecuteTime": {
     "end_time": "2024-08-17T23:31:34.277414Z",
     "start_time": "2024-08-17T23:31:34.274437Z"
    }
   },
   "source": [
    "from mesmerize_core.caiman_extensions.cnmf import cnmf_cache\n",
    "\n",
    "raw_tiff_path = home_path / 'caiman_data' / 'high_res' / 'final'\n",
    "raw_tiff_name = home_path / 'extracted_plane_1.tif'\n",
    "\n",
    "mc.set_parent_raw_data_path(raw_tiff_path.expanduser())\n",
    "print(f\"Files: {[str(x) for x in raw_tiff_path.glob('*.tif*')]}\")"
   ],
   "outputs": [
    {
     "name": "stdout",
     "output_type": "stream",
     "text": [
      "Files: ['/home/mbo/caiman_data/high_res/final/extracted_plane_1.tif']\n"
     ]
    }
   ],
   "execution_count": 2
  },
  {
   "cell_type": "code",
   "id": "f2320f39",
   "metadata": {
    "scrolled": true,
    "ExecuteTime": {
     "end_time": "2024-08-17T23:31:38.151987Z",
     "start_time": "2024-08-17T23:31:37.949328Z"
    }
   },
   "source": [
    "!ls -la /home/mbo/caiman_data/high_res/final/batch"
   ],
   "outputs": [
    {
     "name": "stdout",
     "output_type": "stream",
     "text": [
      "Sourcing .zshenv...\r\n",
      "total 60\r\n",
      "drwxr-xr-x 4 mbo mbo 4096 Aug 17 18:19 .\r\n",
      "drwxr-xr-x 4 mbo mbo 4096 Aug 16 11:44 ..\r\n",
      "-rwxr--r-- 1 mbo mbo  457 Aug 16 11:49 07e78cfc-4f38-4bc0-aafb-5ba718f65406.runfile\r\n",
      "-rwxr--r-- 1 mbo mbo  457 Aug 16 11:45 262786b6-857b-4c67-a4e4-10912567920b.runfile\r\n",
      "drwxr-xr-x 2 mbo mbo 4096 Aug 16 14:05 455f1a04-d06e-447b-b73f-64ff9affd62d\r\n",
      "-rwxr--r-- 1 mbo mbo  457 Aug 16 14:04 455f1a04-d06e-447b-b73f-64ff9affd62d.runfile\r\n",
      "drwxr-xr-x 2 mbo mbo 4096 Aug 16 11:45 56dfceb9-059b-46c7-a656-f0bea5d93b65\r\n",
      "-rwxr--r-- 1 mbo mbo  457 Aug 16 11:45 56dfceb9-059b-46c7-a656-f0bea5d93b65.runfile\r\n",
      "-rwxr--r-- 1 mbo mbo  457 Aug 16 11:47 639ca972-9bd3-4373-8553-1818f123bb6f.runfile\r\n",
      "-rwxr--r-- 1 mbo mbo  457 Aug 16 11:48 8a21cd28-8f0a-4796-8847-8f026daedc47.runfile\r\n",
      "-rwxr--r-- 1 mbo mbo  457 Aug 16 11:47 c8d10552-3171-45b9-9ea7-a6752bf24029.runfile\r\n",
      "-rw-r--r-- 1 mbo mbo 2015 Aug 16 14:05 cnmf\r\n",
      "-rwxr--r-- 1 mbo mbo  456 Aug 16 13:52 f2f5479a-d1b9-4d95-bf1c-cef979f67cf0.runfile\r\n",
      "-rwxr--r-- 1 mbo mbo  457 Aug 16 11:46 f9dea974-9356-41b2-b3e4-288cda41e860.runfile\r\n",
      "-rw-r--r-- 1 mbo mbo 1721 Aug 17 18:19 reg\r\n"
     ]
    }
   ],
   "execution_count": 3
  },
  {
   "cell_type": "markdown",
   "id": "c16f235f-703b-4004-9cde-46794cafcf4a",
   "metadata": {
    "pycharm": {
     "name": "#%% md\n"
    },
    "tags": []
   },
   "source": [
    "# Paths\n",
    "\n",
    "`mesmerize-core` helps manage the outputs of caiman algorithms and organizes \"parameter variants\" - the output of a given combination of input data and algorithm parameters. In order to run the algorithms you must tell `mesmerize-core` where your _input data_ are located and decide on a **top level raw data directory**. For example consider the following directory structure of experimental data (you may organize your raw data however you wish, this is just an example). We can see that all the experimental data lies under `/data/group_name/my_name/exp_data`. Therefore we can use this `exp_data` dir as a `parent raw data path`. `mesmerize-core` will then only store the _relative_ paths to the raw data files, this allows you to move datasets between computers and filesystems. `mesmerize-core` does not store any hard file paths, only relative paths.\n",
    "\n",
    "```\n",
    "/data/group_name/my_name\n",
    "                        └── exp_data\n",
    "                            ├── axonal_imaging\n",
    "                            │   ├── mouse_1\n",
    "                            │   │   ├── exp_a.tiff\n",
    "                            │   │   ├── exp_b.tiff\n",
    "                            │   │   └── exp_c.tiff\n",
    "                            │   ├── mouse_2\n",
    "                            │   │   ├── exp_a.tiff\n",
    "                            │   │   └── exp_b.tiff\n",
    "                            │   └── mouse_3\n",
    "                            └── hippocampus_imaging\n",
    "                                ├── mouse_1\n",
    "                                │   ├── exp_a.tiff\n",
    "                                │   ├── exp_b.tiff\n",
    "                                │   └── exp_c.tiff\n",
    "                                ├── mouse_2\n",
    "                                └── mouse_3\n",
    "```\n",
    "\n",
    "**For this demo set the `caiman_data` dir as the parent raw data path**\n",
    "\n",
    "Sidenote: We recommend using [pathlib](https://docs.python.org/3/library/pathlib.html) instead of manually managing paths as strings. `pathlib` is just a part of the Python standard library, it makes it much easier to deal with paths and saves a lot of time in the long-run! It also makes your paths compatible across operating systems. Therefore even if you are on Windows you can use the regular `/` for paths, you do not have to worry about the strangeness of `\\\\` and `\\`"
   ]
  },
  {
   "cell_type": "markdown",
   "id": "af643600-187a-4812-8fab-d277542aae45",
   "metadata": {},
   "source": [
    "### Batch path, this is where caiman outputs will be organized\n",
    "\n",
    "This can be anywhere, it does not need to be under the parent raw data path."
   ]
  },
  {
   "cell_type": "code",
   "execution_count": 8,
   "id": "97455d84-91d8-4b3b-88d8-c8772d03c736",
   "metadata": {
    "pycharm": {
     "name": "#%%\n"
    }
   },
   "outputs": [],
   "source": [
    "batch_path = mc.get_parent_raw_data_path().joinpath(\"batch/reg\")"
   ]
  },
  {
   "cell_type": "markdown",
   "id": "c78dbc4e-fda3-48b5-a736-3777ab727648",
   "metadata": {},
   "source": [
    "# Create a new batch\n",
    "\n",
    "This creates a new pandas `DataFrame` with the columns that are necessary for mesmerize. In mesmerize we call this the **batch DataFrame**. You can add additional columns relevant to your experiment, but do not modify columns used by mesmerize.\n",
    "\n",
    "Note that when you create a DataFrame you will need to use `load_batch()` to load it later. You cannot use `create_batch()` to overwrite an existing batch DataFrame"
   ]
  },
  {
   "cell_type": "code",
   "execution_count": 9,
   "id": "ee720c3f-6eab-4552-bee4-01357d38e3cd",
   "metadata": {
    "pycharm": {
     "name": "#%%\n"
    }
   },
   "outputs": [],
   "source": [
    "# create a new batch\n",
    "#df = mc.create_batch(batch_path)\n",
    "\n",
    "# to load existing batches use `load_batch()`\n",
    "df = mc.load_batch(batch_path)"
   ]
  },
  {
   "cell_type": "markdown",
   "id": "363200f1-07ac-496d-9530-debbcd78e6f8",
   "metadata": {},
   "source": [
    "# View the dataframe\n",
    "\n",
    "It is empty and has the required columns for mesmerize"
   ]
  },
  {
   "cell_type": "code",
   "execution_count": 10,
   "id": "9b488891-0314-4d64-9f53-73e2cd8c6288",
   "metadata": {},
   "outputs": [
    {
     "data": {
      "text/html": [
       "<div>\n",
       "<style scoped>\n",
       "    .dataframe tbody tr th:only-of-type {\n",
       "        vertical-align: middle;\n",
       "    }\n",
       "\n",
       "    .dataframe tbody tr th {\n",
       "        vertical-align: top;\n",
       "    }\n",
       "\n",
       "    .dataframe thead th {\n",
       "        text-align: right;\n",
       "    }\n",
       "</style>\n",
       "<table border=\"1\" class=\"dataframe\">\n",
       "  <thead>\n",
       "    <tr style=\"text-align: right;\">\n",
       "      <th></th>\n",
       "      <th>algo</th>\n",
       "      <th>item_name</th>\n",
       "      <th>input_movie_path</th>\n",
       "      <th>params</th>\n",
       "      <th>outputs</th>\n",
       "      <th>added_time</th>\n",
       "      <th>ran_time</th>\n",
       "      <th>algo_duration</th>\n",
       "      <th>comments</th>\n",
       "      <th>uuid</th>\n",
       "    </tr>\n",
       "  </thead>\n",
       "  <tbody>\n",
       "    <tr>\n",
       "      <th>0</th>\n",
       "      <td>mcorr</td>\n",
       "      <td>extracted_plane_1</td>\n",
       "      <td>extracted_plane_1.tif</td>\n",
       "      <td>{'main': {'max_shifts': (4, 4), 'strides': (48, 48), 'overlaps': (24, 24), 'max_deviation_rigid': 3, 'border_nan': '...</td>\n",
       "      <td>{'mean-projection-path': 56dfceb9-059b-46c7-a656-f0bea5d93b65/56dfceb9-059b-46c7-a656-f0bea5d93b65_mean_projection.n...</td>\n",
       "      <td>2024-08-16T11:45:16</td>\n",
       "      <td>2024-08-16T11:45:54</td>\n",
       "      <td>22.55 sec</td>\n",
       "      <td>None</td>\n",
       "      <td>56dfceb9-059b-46c7-a656-f0bea5d93b65</td>\n",
       "    </tr>\n",
       "  </tbody>\n",
       "</table>\n",
       "</div>"
      ],
      "text/plain": [
       "    algo          item_name       input_movie_path  \\\n",
       "0  mcorr  extracted_plane_1  extracted_plane_1.tif   \n",
       "\n",
       "                                                                                                                    params  \\\n",
       "0  {'main': {'max_shifts': (4, 4), 'strides': (48, 48), 'overlaps': (24, 24), 'max_deviation_rigid': 3, 'border_nan': '...   \n",
       "\n",
       "                                                                                                                   outputs  \\\n",
       "0  {'mean-projection-path': 56dfceb9-059b-46c7-a656-f0bea5d93b65/56dfceb9-059b-46c7-a656-f0bea5d93b65_mean_projection.n...   \n",
       "\n",
       "            added_time             ran_time algo_duration comments  \\\n",
       "0  2024-08-16T11:45:16  2024-08-16T11:45:54     22.55 sec     None   \n",
       "\n",
       "                                   uuid  \n",
       "0  56dfceb9-059b-46c7-a656-f0bea5d93b65  "
      ]
     },
     "execution_count": 10,
     "metadata": {},
     "output_type": "execute_result"
    }
   ],
   "source": [
    "df"
   ]
  },
  {
   "cell_type": "markdown",
   "id": "f175707a-810e-4b5b-831c-bb1285707710",
   "metadata": {},
   "source": [
    "# Let's add stuff to the DataFrame!\n",
    "\n",
    "First get an input movie. An input movie must be somewhere under `parent raw data path`. It does not have to be directly under `parent raw data path`, it can be deeply nested anywhere under it."
   ]
  },
  {
   "cell_type": "markdown",
   "id": "a87d4f17-600e-4820-ae3f-384157a56e5e",
   "metadata": {
    "pycharm": {
     "name": "#%% md\n"
    }
   },
   "source": [
    "# Motion correction parameters\n",
    "\n",
    "The parameters are passed **directly** to `caiman`, this means you need to use the same exact names for the parameters and you can use all the parameters that you can use with `caiman` - because it's just passing them to `caiman`.\n",
    "\n",
    "\n",
    "The parameters dict for a mesmerize batch item must have the following structure. Put all the parameters in a dict under a key called **main**. The **main** dict is then fed directly to `caiman`.\n",
    "\n",
    "```python\n",
    "{\"main\": {... params directly passed to caiman}}\n",
    "```"
   ]
  },
  {
   "cell_type": "code",
   "execution_count": 13,
   "id": "28396502-0758-49cb-a135-38430a2aa085",
   "metadata": {
    "pycharm": {
     "name": "#%%\n"
    }
   },
   "outputs": [],
   "source": [
    "# We will start with one version of parameters\n",
    "mcorr_params =\\\n",
    "{\n",
    "  'main': # this key is necessary for specifying that these are the \"main\" params for the algorithm\n",
    "    {\n",
    "        'max_shifts': [20, 20],\n",
    "        'strides': [64, 64],\n",
    "        'overlaps': [24, 24],\n",
    "        'max_deviation_rigid': 3,\n",
    "        'border_nan': 'copy',\n",
    "        'pw_rigid': True,\n",
    "    },\n",
    "}"
   ]
  },
  {
   "cell_type": "markdown",
   "id": "14af1f0f-bec8-42c6-b565-8fc5516df8db",
   "metadata": {
    "pycharm": {
     "name": "#%% md\n"
    }
   },
   "source": [
    "# Add a \"batch item\" to the DataFrame this is the combination of:\n",
    "* algorithm to run, `algo`\n",
    "* input movie to run the algorithm on, `input_movie_path`\n",
    "* parameters for the specified algorithm, `params`\n",
    "* a name for you to keep track of things, usually the same as the movie filename, `item_name`"
   ]
  },
  {
   "cell_type": "raw",
   "id": "50b496a5-c21c-4eb7-84eb-9a58acd4a206",
   "metadata": {
    "pycharm": {
     "name": "#%%\n"
    }
   },
   "source": [
    "# add an item to the DataFrame\n",
    "df.caiman.add_item(\n",
    "    algo='mcorr',\n",
    "    input_movie_path=Path(,\n",
    "    params=mcorr_params1,\n",
    "    item_name=movie_path.stem,  # filename of the movie, but can be anything\n",
    ")\n",
    "\n",
    "df"
   ]
  },
  {
   "cell_type": "markdown",
   "id": "e32d04e0-1068-4583-a5d8-952db01e989b",
   "metadata": {
    "pycharm": {
     "name": "#%% md\n"
    }
   },
   "source": [
    "We can now see that there is one item in the DataFrame. What we called a \"item\" in `mesmerize-core` DataFrames is technically called a pandas `Series` or row."
   ]
  },
  {
   "cell_type": "markdown",
   "id": "0f243905-f970-443d-a106-9512c8cdeb6b",
   "metadata": {},
   "source": [
    "# Run an item\n",
    "\n",
    "There is only one item in this DataFrame and it is located at index `0`. You can run a row using `df.iloc[index].caiman.run()`\n",
    "\n",
    "Technical notes: On Linux & Mac it will run in subprocess but on Windows it will run in the local kernel."
   ]
  },
  {
   "cell_type": "code",
   "execution_count": null,
   "id": "797963a0-77d1-4479-a7c1-2cb58d314eb3",
   "metadata": {
    "tags": []
   },
   "outputs": [],
   "source": [
    "df.iloc[0].caiman.run()"
   ]
  },
  {
   "cell_type": "markdown",
   "id": "61bcf313-60e0-43ee-9533-c317e67a5082",
   "metadata": {},
   "source": [
    "# Reload DataFrame from disk\n",
    "\n",
    "After running one or any number of items in `mesmerize-core` you must call `df = df.caiman.reload_from_disk()`. This loads the DataFrame with references to the output files in the batch directory."
   ]
  },
  {
   "cell_type": "code",
   "execution_count": 44,
   "id": "07680c27-ce48-4592-88af-70073f05cbf4",
   "metadata": {
    "tags": []
   },
   "outputs": [],
   "source": [
    "df = df.caiman.reload_from_disk()"
   ]
  },
  {
   "cell_type": "code",
   "execution_count": 45,
   "id": "b4cfdd3a-a9d4-436f-b5c1-8b0537919609",
   "metadata": {
    "scrolled": true,
    "tags": []
   },
   "outputs": [
    {
     "data": {
      "text/html": [
       "<div>\n",
       "<style scoped>\n",
       "    .dataframe tbody tr th:only-of-type {\n",
       "        vertical-align: middle;\n",
       "    }\n",
       "\n",
       "    .dataframe tbody tr th {\n",
       "        vertical-align: top;\n",
       "    }\n",
       "\n",
       "    .dataframe thead th {\n",
       "        text-align: right;\n",
       "    }\n",
       "</style>\n",
       "<table border=\"1\" class=\"dataframe\">\n",
       "  <thead>\n",
       "    <tr style=\"text-align: right;\">\n",
       "      <th></th>\n",
       "      <th>algo</th>\n",
       "      <th>item_name</th>\n",
       "      <th>input_movie_path</th>\n",
       "      <th>params</th>\n",
       "      <th>outputs</th>\n",
       "      <th>added_time</th>\n",
       "      <th>ran_time</th>\n",
       "      <th>algo_duration</th>\n",
       "      <th>comments</th>\n",
       "      <th>uuid</th>\n",
       "    </tr>\n",
       "  </thead>\n",
       "  <tbody>\n",
       "    <tr>\n",
       "      <th>0</th>\n",
       "      <td>mcorr</td>\n",
       "      <td>extracted_plane_1</td>\n",
       "      <td>extracted_plane_1.tif</td>\n",
       "      <td>{'main': {'max_shifts': (4, 4), 'strides': (48, 48), 'overlaps': (24, 24), 'max_deviation_rigid': 3, 'border_nan': '...</td>\n",
       "      <td>{'mean-projection-path': 56dfceb9-059b-46c7-a656-f0bea5d93b65/56dfceb9-059b-46c7-a656-f0bea5d93b65_mean_projection.n...</td>\n",
       "      <td>2024-08-16T11:45:16</td>\n",
       "      <td>2024-08-16T11:45:54</td>\n",
       "      <td>22.55 sec</td>\n",
       "      <td>None</td>\n",
       "      <td>56dfceb9-059b-46c7-a656-f0bea5d93b65</td>\n",
       "    </tr>\n",
       "    <tr>\n",
       "      <th>1</th>\n",
       "      <td>mcorr</td>\n",
       "      <td>extracted_plane_1</td>\n",
       "      <td>extracted_plane_1.tif</td>\n",
       "      <td>{'main': {'max_shifts': (2, 2), 'strides': (12, 12), 'overlaps': (6, 6), 'max_deviation_rigid': 3, 'border_nan': 'co...</td>\n",
       "      <td>{'mean-projection-path': 262786b6-857b-4c67-a4e4-10912567920b/262786b6-857b-4c67-a4e4-10912567920b_mean_projection.n...</td>\n",
       "      <td>2024-08-16T11:45:24</td>\n",
       "      <td>2024-08-16T11:46:48</td>\n",
       "      <td>50.65 sec</td>\n",
       "      <td>None</td>\n",
       "      <td>262786b6-857b-4c67-a4e4-10912567920b</td>\n",
       "    </tr>\n",
       "    <tr>\n",
       "      <th>2</th>\n",
       "      <td>mcorr</td>\n",
       "      <td>extracted_plane_1</td>\n",
       "      <td>extracted_plane_1.tif</td>\n",
       "      <td>{'main': {'max_shifts': (2, 2), 'strides': (24, 24), 'overlaps': (12, 12), 'max_deviation_rigid': 3, 'border_nan': '...</td>\n",
       "      <td>{'mean-projection-path': f9dea974-9356-41b2-b3e4-288cda41e860/f9dea974-9356-41b2-b3e4-288cda41e860_mean_projection.n...</td>\n",
       "      <td>2024-08-16T11:45:24</td>\n",
       "      <td>2024-08-16T11:47:19</td>\n",
       "      <td>28.08 sec</td>\n",
       "      <td>None</td>\n",
       "      <td>f9dea974-9356-41b2-b3e4-288cda41e860</td>\n",
       "    </tr>\n",
       "    <tr>\n",
       "      <th>3</th>\n",
       "      <td>mcorr</td>\n",
       "      <td>extracted_plane_1</td>\n",
       "      <td>extracted_plane_1.tif</td>\n",
       "      <td>{'main': {'max_shifts': (2, 2), 'strides': (64, 64), 'overlaps': (32, 32), 'max_deviation_rigid': 3, 'border_nan': '...</td>\n",
       "      <td>{'mean-projection-path': c8d10552-3171-45b9-9ea7-a6752bf24029/c8d10552-3171-45b9-9ea7-a6752bf24029_mean_projection.n...</td>\n",
       "      <td>2024-08-16T11:45:24</td>\n",
       "      <td>2024-08-16T11:47:46</td>\n",
       "      <td>22.99 sec</td>\n",
       "      <td>None</td>\n",
       "      <td>c8d10552-3171-45b9-9ea7-a6752bf24029</td>\n",
       "    </tr>\n",
       "    <tr>\n",
       "      <th>4</th>\n",
       "      <td>mcorr</td>\n",
       "      <td>extracted_plane_1</td>\n",
       "      <td>extracted_plane_1.tif</td>\n",
       "      <td>{'main': {'max_shifts': (32, 32), 'strides': (12, 12), 'overlaps': (6, 6), 'max_deviation_rigid': 3, 'border_nan': '...</td>\n",
       "      <td>{'mean-projection-path': 639ca972-9bd3-4373-8553-1818f123bb6f/639ca972-9bd3-4373-8553-1818f123bb6f_mean_projection.n...</td>\n",
       "      <td>2024-08-16T11:45:24</td>\n",
       "      <td>2024-08-16T11:48:39</td>\n",
       "      <td>50.48 sec</td>\n",
       "      <td>None</td>\n",
       "      <td>639ca972-9bd3-4373-8553-1818f123bb6f</td>\n",
       "    </tr>\n",
       "    <tr>\n",
       "      <th>5</th>\n",
       "      <td>mcorr</td>\n",
       "      <td>extracted_plane_1</td>\n",
       "      <td>extracted_plane_1.tif</td>\n",
       "      <td>{'main': {'max_shifts': (32, 32), 'strides': (24, 24), 'overlaps': (12, 12), 'max_deviation_rigid': 3, 'border_nan':...</td>\n",
       "      <td>{'mean-projection-path': 8a21cd28-8f0a-4796-8847-8f026daedc47/8a21cd28-8f0a-4796-8847-8f026daedc47_mean_projection.n...</td>\n",
       "      <td>2024-08-16T11:45:24</td>\n",
       "      <td>2024-08-16T11:49:11</td>\n",
       "      <td>28.62 sec</td>\n",
       "      <td>None</td>\n",
       "      <td>8a21cd28-8f0a-4796-8847-8f026daedc47</td>\n",
       "    </tr>\n",
       "    <tr>\n",
       "      <th>6</th>\n",
       "      <td>mcorr</td>\n",
       "      <td>extracted_plane_1</td>\n",
       "      <td>extracted_plane_1.tif</td>\n",
       "      <td>{'main': {'max_shifts': (32, 32), 'strides': (64, 64), 'overlaps': (32, 32), 'max_deviation_rigid': 3, 'border_nan':...</td>\n",
       "      <td>{'mean-projection-path': 07e78cfc-4f38-4bc0-aafb-5ba718f65406/07e78cfc-4f38-4bc0-aafb-5ba718f65406_mean_projection.n...</td>\n",
       "      <td>2024-08-16T11:45:24</td>\n",
       "      <td>2024-08-16T11:49:38</td>\n",
       "      <td>23.19 sec</td>\n",
       "      <td>None</td>\n",
       "      <td>07e78cfc-4f38-4bc0-aafb-5ba718f65406</td>\n",
       "    </tr>\n",
       "    <tr>\n",
       "      <th>7</th>\n",
       "      <td>cnmf</td>\n",
       "      <td>extracted_plane_1</td>\n",
       "      <td>07e78cfc-4f38-4bc0-aafb-5ba718f65406/07e78cfc-4f38-4bc0-aafb-5ba718f65406-extracted_plane_1_els__d1_583_d2_544_d3_1_...</td>\n",
       "      <td>{'main': {'fr': 30, 'p': 1, 'nb': 2, 'merge_thr': 0.85, 'rf': 15, 'stride': 6, 'K': 4, 'gSig': (4, 4), 'ssub': 1, 't...</td>\n",
       "      <td>{'success': False, 'traceback': 'Traceback (most recent call last):\n",
       "  File \"/home/mbo/miniconda3/envs/mescore/lib/py...</td>\n",
       "      <td>2024-08-16T13:52:01</td>\n",
       "      <td>2024-08-16T13:53:21</td>\n",
       "      <td>49.73 sec</td>\n",
       "      <td>None</td>\n",
       "      <td>f2f5479a-d1b9-4d95-bf1c-cef979f67cf0</td>\n",
       "    </tr>\n",
       "  </tbody>\n",
       "</table>\n",
       "</div>"
      ],
      "text/plain": [
       "    algo          item_name  \\\n",
       "0  mcorr  extracted_plane_1   \n",
       "1  mcorr  extracted_plane_1   \n",
       "2  mcorr  extracted_plane_1   \n",
       "3  mcorr  extracted_plane_1   \n",
       "4  mcorr  extracted_plane_1   \n",
       "5  mcorr  extracted_plane_1   \n",
       "6  mcorr  extracted_plane_1   \n",
       "7   cnmf  extracted_plane_1   \n",
       "\n",
       "                                                                                                          input_movie_path  \\\n",
       "0                                                                                                    extracted_plane_1.tif   \n",
       "1                                                                                                    extracted_plane_1.tif   \n",
       "2                                                                                                    extracted_plane_1.tif   \n",
       "3                                                                                                    extracted_plane_1.tif   \n",
       "4                                                                                                    extracted_plane_1.tif   \n",
       "5                                                                                                    extracted_plane_1.tif   \n",
       "6                                                                                                    extracted_plane_1.tif   \n",
       "7  07e78cfc-4f38-4bc0-aafb-5ba718f65406/07e78cfc-4f38-4bc0-aafb-5ba718f65406-extracted_plane_1_els__d1_583_d2_544_d3_1_...   \n",
       "\n",
       "                                                                                                                    params  \\\n",
       "0  {'main': {'max_shifts': (4, 4), 'strides': (48, 48), 'overlaps': (24, 24), 'max_deviation_rigid': 3, 'border_nan': '...   \n",
       "1  {'main': {'max_shifts': (2, 2), 'strides': (12, 12), 'overlaps': (6, 6), 'max_deviation_rigid': 3, 'border_nan': 'co...   \n",
       "2  {'main': {'max_shifts': (2, 2), 'strides': (24, 24), 'overlaps': (12, 12), 'max_deviation_rigid': 3, 'border_nan': '...   \n",
       "3  {'main': {'max_shifts': (2, 2), 'strides': (64, 64), 'overlaps': (32, 32), 'max_deviation_rigid': 3, 'border_nan': '...   \n",
       "4  {'main': {'max_shifts': (32, 32), 'strides': (12, 12), 'overlaps': (6, 6), 'max_deviation_rigid': 3, 'border_nan': '...   \n",
       "5  {'main': {'max_shifts': (32, 32), 'strides': (24, 24), 'overlaps': (12, 12), 'max_deviation_rigid': 3, 'border_nan':...   \n",
       "6  {'main': {'max_shifts': (32, 32), 'strides': (64, 64), 'overlaps': (32, 32), 'max_deviation_rigid': 3, 'border_nan':...   \n",
       "7  {'main': {'fr': 30, 'p': 1, 'nb': 2, 'merge_thr': 0.85, 'rf': 15, 'stride': 6, 'K': 4, 'gSig': (4, 4), 'ssub': 1, 't...   \n",
       "\n",
       "                                                                                                                   outputs  \\\n",
       "0  {'mean-projection-path': 56dfceb9-059b-46c7-a656-f0bea5d93b65/56dfceb9-059b-46c7-a656-f0bea5d93b65_mean_projection.n...   \n",
       "1  {'mean-projection-path': 262786b6-857b-4c67-a4e4-10912567920b/262786b6-857b-4c67-a4e4-10912567920b_mean_projection.n...   \n",
       "2  {'mean-projection-path': f9dea974-9356-41b2-b3e4-288cda41e860/f9dea974-9356-41b2-b3e4-288cda41e860_mean_projection.n...   \n",
       "3  {'mean-projection-path': c8d10552-3171-45b9-9ea7-a6752bf24029/c8d10552-3171-45b9-9ea7-a6752bf24029_mean_projection.n...   \n",
       "4  {'mean-projection-path': 639ca972-9bd3-4373-8553-1818f123bb6f/639ca972-9bd3-4373-8553-1818f123bb6f_mean_projection.n...   \n",
       "5  {'mean-projection-path': 8a21cd28-8f0a-4796-8847-8f026daedc47/8a21cd28-8f0a-4796-8847-8f026daedc47_mean_projection.n...   \n",
       "6  {'mean-projection-path': 07e78cfc-4f38-4bc0-aafb-5ba718f65406/07e78cfc-4f38-4bc0-aafb-5ba718f65406_mean_projection.n...   \n",
       "7  {'success': False, 'traceback': 'Traceback (most recent call last):\n",
       "  File \"/home/mbo/miniconda3/envs/mescore/lib/py...   \n",
       "\n",
       "            added_time             ran_time algo_duration comments  \\\n",
       "0  2024-08-16T11:45:16  2024-08-16T11:45:54     22.55 sec     None   \n",
       "1  2024-08-16T11:45:24  2024-08-16T11:46:48     50.65 sec     None   \n",
       "2  2024-08-16T11:45:24  2024-08-16T11:47:19     28.08 sec     None   \n",
       "3  2024-08-16T11:45:24  2024-08-16T11:47:46     22.99 sec     None   \n",
       "4  2024-08-16T11:45:24  2024-08-16T11:48:39     50.48 sec     None   \n",
       "5  2024-08-16T11:45:24  2024-08-16T11:49:11     28.62 sec     None   \n",
       "6  2024-08-16T11:45:24  2024-08-16T11:49:38     23.19 sec     None   \n",
       "7  2024-08-16T13:52:01  2024-08-16T13:53:21     49.73 sec     None   \n",
       "\n",
       "                                   uuid  \n",
       "0  56dfceb9-059b-46c7-a656-f0bea5d93b65  \n",
       "1  262786b6-857b-4c67-a4e4-10912567920b  \n",
       "2  f9dea974-9356-41b2-b3e4-288cda41e860  \n",
       "3  c8d10552-3171-45b9-9ea7-a6752bf24029  \n",
       "4  639ca972-9bd3-4373-8553-1818f123bb6f  \n",
       "5  8a21cd28-8f0a-4796-8847-8f026daedc47  \n",
       "6  07e78cfc-4f38-4bc0-aafb-5ba718f65406  \n",
       "7  f2f5479a-d1b9-4d95-bf1c-cef979f67cf0  "
      ]
     },
     "execution_count": 45,
     "metadata": {},
     "output_type": "execute_result"
    }
   ],
   "source": [
    "df"
   ]
  },
  {
   "cell_type": "markdown",
   "id": "7c8891f9-83a9-4c5b-bb73-8031afad9087",
   "metadata": {},
   "source": [
    "# Outputs\n",
    "\n",
    "We can see that the outputs column has been populated. The entries in this column do not have to be accessed directly. The `mesmerize-core` API allows you to fetch these outputs."
   ]
  },
  {
   "cell_type": "code",
   "execution_count": 46,
   "id": "38723db4-3ac4-494f-ba01-0e315f66e174",
   "metadata": {
    "tags": []
   },
   "outputs": [
    {
     "data": {
      "text/plain": [
       "(800, 583, 544)"
      ]
     },
     "execution_count": 46,
     "metadata": {},
     "output_type": "execute_result"
    }
   ],
   "source": [
    "index = 0 # we will fetch stuff from index 0 which we just ran\n",
    "\n",
    "# get the motion corrected movie memmap\n",
    "mcorr_movie = df.iloc[0].mcorr.get_output()\n",
    "mcorr_movie.shape"
   ]
  },
  {
   "cell_type": "code",
   "execution_count": 47,
   "id": "fa2331c6-e190-4f05-88bc-0022d02a375a",
   "metadata": {
    "tags": []
   },
   "outputs": [
    {
     "data": {
      "text/plain": [
       "PosixPath('/home/mbo/caiman_data/high_res/final/batch/56dfceb9-059b-46c7-a656-f0bea5d93b65/56dfceb9-059b-46c7-a656-f0bea5d93b65-extracted_plane_1_els__d1_583_d2_544_d3_1_order_F_frames_800.mmap')"
      ]
     },
     "execution_count": 47,
     "metadata": {},
     "output_type": "execute_result"
    }
   ],
   "source": [
    "# path to the mcorr memmap if you ever need it\n",
    "mcorr_memmap_path = df.iloc[0].mcorr.get_output_path()\n",
    "mcorr_memmap_path"
   ]
  },
  {
   "cell_type": "code",
   "execution_count": 48,
   "id": "85708edb-fafa-42ff-b3bb-ce046d5528db",
   "metadata": {
    "tags": []
   },
   "outputs": [
    {
     "data": {
      "text/plain": [
       "(583, 544)"
      ]
     },
     "execution_count": 48,
     "metadata": {},
     "output_type": "execute_result"
    }
   ],
   "source": [
    "# mean projection, max and std projections are also available\n",
    "mean_proj = df.iloc[0].caiman.get_projection(\"mean\")\n",
    "mean_proj.shape"
   ]
  },
  {
   "cell_type": "code",
   "execution_count": 49,
   "id": "f82e27e1-a566-4693-91fc-da04606f2159",
   "metadata": {
    "tags": []
   },
   "outputs": [
    {
     "data": {
      "text/plain": [
       "(800, 583, 544)"
      ]
     },
     "execution_count": 49,
     "metadata": {},
     "output_type": "execute_result"
    }
   ],
   "source": [
    "# the input movie, note that we use `.caiman` here instead of `.mcorr`\n",
    "input_movie = df.iloc[0].caiman.get_input_movie()\n",
    "input_movie.shape"
   ]
  },
  {
   "cell_type": "code",
   "execution_count": 62,
   "id": "da9d27a4",
   "metadata": {},
   "outputs": [],
   "source": [
    "df.drop(0, inplace=True)"
   ]
  },
  {
   "cell_type": "markdown",
   "id": "4f0316b3-770c-44a5-994a-e3aca6c26939",
   "metadata": {
    "tags": []
   },
   "source": [
    "## Note on input movies\n",
    "\n",
    "`get_input_movie()` will automatically work with most tiff files and memmaps. If you want to load other file types, you will need to pass it a function (see examples below) that returns a lazy-loadable array, or a numpy array if you have enough RAM. \n",
    "\n",
    "\n",
    "### tiff files\n",
    "\n",
    "`get_input_movie()` wil try to use `tifffile.memmap` to lazy-load tiff files. This works for some tiff files. If `tifffile.memmap` fails, `mesmerize-core` has its own `LazyTiff` implementation that it will try to fallback on. However, some not every tiff file can be lazy-loaded so it is not gaurenteed that `LazyTiff` will work. The implementation of `LazyTiff` is quite simple and you might be able to subclass it for your specific type of tiff file: https://github.com/nel-lab/mesmerize-core/blob/master/mesmerize_core/arrays/_tiff.py \n",
    "\n",
    "### hdf5 files\n",
    "\n",
    "```python\n",
    "import h5py\n",
    "\n",
    "def hdf5_reader(path):\n",
    "    f = h5py.File(path)\n",
    "    return f[\"your-key\"]\n",
    "\n",
    "input_movie = df.iloc[index].caiman.get_input_movie(hdf5_reader)\n",
    "```\n",
    "\n",
    "### avi files\n",
    "    \n",
    "```python\n",
    "from mesmerize_core.arrays import LazyVideo\n",
    "\n",
    "def video_reader(path):\n",
    "    a = LazyVideo(path)  # you can use the other args if you want\n",
    "    return a\n",
    "\n",
    "input_movie = df.iloc[index].caiman.get_input_movie(video_reader)\n",
    "```"
   ]
  },
  {
   "cell_type": "markdown",
   "id": "b44371ad-f0e8-4958-bec4-fb84a8ea43ed",
   "metadata": {},
   "source": [
    "# Visualize with mesmerize-viz!\n",
    "\n",
    "- Random-access frames\n",
    "- Slider for frame averaging over a window - useful for quality control\n",
    "- adjust cmap, vmin vmax, etc."
   ]
  },
  {
   "cell_type": "code",
   "execution_count": 43,
   "id": "6820a07d-5632-474e-9fae-eb7825a9cfce",
   "metadata": {
    "scrolled": true,
    "tags": []
   },
   "outputs": [
    {
     "name": "stderr",
     "output_type": "stream",
     "text": [
      "/home/mbo/miniconda3/envs/mescore/lib/python3.11/site-packages/ipydatagrid/datagrid.py:512: UserWarning: Index name of 'index' is not round-trippable.\n",
      "  schema = pd.io.json.build_table_schema(dataframe)\n"
     ]
    },
    {
     "data": {
      "application/vnd.jupyter.widget-view+json": {
       "model_id": "01c7ab2641d14b07b81fa7f4e4fa21c8",
       "version_major": 2,
       "version_minor": 0
      },
      "text/plain": [
       "RFBOutputContext()"
      ]
     },
     "metadata": {},
     "output_type": "display_data"
    },
    {
     "name": "stderr",
     "output_type": "stream",
     "text": [
      "/home/mbo/miniconda3/envs/mescore/lib/python3.11/site-packages/fastplotlib/graphics/_features/_base.py:34: UserWarning: converting float64 array to float32\n",
      "  warn(f\"converting {array.dtype} array to float32\")\n"
     ]
    },
    {
     "data": {
      "application/vnd.jupyter.widget-view+json": {
       "model_id": "6d0cb6341e394601a6db38dd42e956b1",
       "version_major": 2,
       "version_minor": 0
      },
      "text/plain": [
       "VBox(children=(HBox(children=(DataGrid(auto_fit_params={'area': 'all', 'padding': 30, 'numCols': None}, base_r…"
      ]
     },
     "execution_count": 43,
     "metadata": {},
     "output_type": "execute_result"
    }
   ],
   "source": [
    "viz = df.mcorr.viz()\n",
    "viz.show()"
   ]
  },
  {
   "cell_type": "code",
   "execution_count": 53,
   "id": "f22162f4-c57d-4086-bd60-25cec9a34e5d",
   "metadata": {
    "tags": []
   },
   "outputs": [],
   "source": [
    "viz.close()"
   ]
  },
  {
   "cell_type": "markdown",
   "id": "df5fd794-0337-48dc-a205-a13051ab3c9a",
   "metadata": {},
   "source": [
    "# Visualizations are customizable\n",
    "\n",
    "Hint: use `Shift` + `Tab` to bring up the docstring for `mcorr.viz()`."
   ]
  },
  {
   "cell_type": "code",
   "execution_count": 15,
   "id": "15745885-4933-4379-b9ff-5da580143b77",
   "metadata": {
    "collapsed": true,
    "jupyter": {
     "outputs_hidden": true
    },
    "scrolled": true,
    "tags": []
   },
   "outputs": [
    {
     "name": "stderr",
     "output_type": "stream",
     "text": [
      "/home/mbo/miniconda3/envs/mestest/lib/python3.11/site-packages/ipydatagrid/datagrid.py:512: UserWarning: Index name of 'index' is not round-trippable.\n",
      "  schema = pd.io.json.build_table_schema(dataframe)\n"
     ]
    },
    {
     "data": {
      "application/vnd.jupyter.widget-view+json": {
       "model_id": "464838e82b3e4511ba94a8105f137c6b",
       "version_major": 2,
       "version_minor": 0
      },
      "text/plain": [
       "RFBOutputContext()"
      ]
     },
     "metadata": {},
     "output_type": "display_data"
    },
    {
     "name": "stderr",
     "output_type": "stream",
     "text": [
      "/home/mbo/miniconda3/envs/mestest/lib/python3.11/site-packages/fastplotlib/graphics/_features/_base.py:34: UserWarning: converting float64 array to float32\n",
      "  warn(f\"converting {array.dtype} array to float32\")\n"
     ]
    },
    {
     "ename": "AttributeError",
     "evalue": "'GlyphSlot' object has no attribute 'render'",
     "output_type": "error",
     "traceback": [
      "\u001B[0;31m---------------------------------------------------------------------------\u001B[0m",
      "\u001B[0;31mAttributeError\u001B[0m                            Traceback (most recent call last)",
      "Cell \u001B[0;32mIn[15], line 1\u001B[0m\n\u001B[0;32m----> 1\u001B[0m viz \u001B[38;5;241m=\u001B[39m \u001B[43mdf\u001B[49m\u001B[38;5;241;43m.\u001B[39;49m\u001B[43mmcorr\u001B[49m\u001B[38;5;241;43m.\u001B[39;49m\u001B[43mviz\u001B[49m\u001B[43m(\u001B[49m\n\u001B[1;32m      2\u001B[0m \u001B[43m    \u001B[49m\u001B[43mdata_options\u001B[49m\u001B[38;5;241;43m=\u001B[39;49m\u001B[43m[\u001B[49m\u001B[38;5;124;43m\"\u001B[39;49m\u001B[38;5;124;43minput\u001B[39;49m\u001B[38;5;124;43m\"\u001B[39;49m\u001B[43m,\u001B[49m\u001B[43m \u001B[49m\u001B[38;5;124;43m\"\u001B[39;49m\u001B[38;5;124;43mmcorr\u001B[39;49m\u001B[38;5;124;43m\"\u001B[39;49m\u001B[43m]\u001B[49m\u001B[43m,\u001B[49m\n\u001B[1;32m      3\u001B[0m \u001B[43m    \u001B[49m\u001B[43mimage_widget_kwargs\u001B[49m\u001B[38;5;241;43m=\u001B[39;49m\u001B[43m{\u001B[49m\u001B[38;5;124;43m\"\u001B[39;49m\u001B[38;5;124;43mgrid_plot_kwargs\u001B[39;49m\u001B[38;5;124;43m\"\u001B[39;49m\u001B[43m:\u001B[49m\u001B[43m \u001B[49m\u001B[43m{\u001B[49m\u001B[38;5;124;43m\"\u001B[39;49m\u001B[38;5;124;43msize\u001B[39;49m\u001B[38;5;124;43m\"\u001B[39;49m\u001B[43m:\u001B[49m\u001B[43m \u001B[49m\u001B[43m(\u001B[49m\u001B[38;5;241;43m800\u001B[39;49m\u001B[43m,\u001B[49m\u001B[43m \u001B[49m\u001B[38;5;241;43m400\u001B[39;49m\u001B[43m)\u001B[49m\u001B[43m}\u001B[49m\u001B[43m}\u001B[49m\u001B[43m,\u001B[49m\n\u001B[1;32m      4\u001B[0m \u001B[43m)\u001B[49m\n\u001B[1;32m      5\u001B[0m viz\u001B[38;5;241m.\u001B[39mshow(sidecar\u001B[38;5;241m=\u001B[39m\u001B[38;5;28;01mTrue\u001B[39;00m)  \u001B[38;5;66;03m# show in sidecar\u001B[39;00m\n",
      "File \u001B[0;32m~/miniconda3/envs/mestest/lib/python3.11/site-packages/mesmerize_viz/_mcorr.py:446\u001B[0m, in \u001B[0;36mMCorrDataFrameVizExtension.viz\u001B[0;34m(self, data_options, start_index, reset_timepoint_on_change, input_movie_kwargs, image_widget_kwargs, data_grid_kwargs)\u001B[0m\n\u001B[1;32m    396\u001B[0m \u001B[38;5;28;01mdef\u001B[39;00m \u001B[38;5;21mviz\u001B[39m(\n\u001B[1;32m    397\u001B[0m         \u001B[38;5;28mself\u001B[39m,\n\u001B[1;32m    398\u001B[0m         data_options: List[\u001B[38;5;28mstr\u001B[39m] \u001B[38;5;241m=\u001B[39m \u001B[38;5;28;01mNone\u001B[39;00m,\n\u001B[0;32m   (...)\u001B[0m\n\u001B[1;32m    403\u001B[0m         data_grid_kwargs: \u001B[38;5;28mdict\u001B[39m \u001B[38;5;241m=\u001B[39m \u001B[38;5;28;01mNone\u001B[39;00m,\n\u001B[1;32m    404\u001B[0m ):\n\u001B[1;32m    405\u001B[0m \u001B[38;5;250m    \u001B[39m\u001B[38;5;124;03m\"\"\"\u001B[39;00m\n\u001B[1;32m    406\u001B[0m \u001B[38;5;124;03m    Visualize motion correction output.\u001B[39;00m\n\u001B[1;32m    407\u001B[0m \n\u001B[0;32m   (...)\u001B[0m\n\u001B[1;32m    443\u001B[0m \u001B[38;5;124;03m        widget that contains the DataGrid, params text box and ImageWidget\u001B[39;00m\n\u001B[1;32m    444\u001B[0m \u001B[38;5;124;03m    \"\"\"\u001B[39;00m\n\u001B[0;32m--> 446\u001B[0m     container \u001B[38;5;241m=\u001B[39m \u001B[43mMcorrVizContainer\u001B[49m\u001B[43m(\u001B[49m\n\u001B[1;32m    447\u001B[0m \u001B[43m        \u001B[49m\u001B[43mdataframe\u001B[49m\u001B[38;5;241;43m=\u001B[39;49m\u001B[38;5;28;43mself\u001B[39;49m\u001B[38;5;241;43m.\u001B[39;49m\u001B[43m_dataframe\u001B[49m\u001B[43m,\u001B[49m\n\u001B[1;32m    448\u001B[0m \u001B[43m        \u001B[49m\u001B[43mdata_options\u001B[49m\u001B[38;5;241;43m=\u001B[39;49m\u001B[43mdata_options\u001B[49m\u001B[43m,\u001B[49m\n\u001B[1;32m    449\u001B[0m \u001B[43m        \u001B[49m\u001B[43mstart_index\u001B[49m\u001B[38;5;241;43m=\u001B[39;49m\u001B[43mstart_index\u001B[49m\u001B[43m,\u001B[49m\n\u001B[1;32m    450\u001B[0m \u001B[43m        \u001B[49m\u001B[43mreset_timepoint_on_change\u001B[49m\u001B[38;5;241;43m=\u001B[39;49m\u001B[43mreset_timepoint_on_change\u001B[49m\u001B[43m,\u001B[49m\n\u001B[1;32m    451\u001B[0m \u001B[43m        \u001B[49m\u001B[43minput_movie_kwargs\u001B[49m\u001B[38;5;241;43m=\u001B[39;49m\u001B[43minput_movie_kwargs\u001B[49m\u001B[43m,\u001B[49m\n\u001B[1;32m    452\u001B[0m \u001B[43m        \u001B[49m\u001B[43mimage_widget_kwargs\u001B[49m\u001B[38;5;241;43m=\u001B[39;49m\u001B[43mimage_widget_kwargs\u001B[49m\u001B[43m,\u001B[49m\n\u001B[1;32m    453\u001B[0m \u001B[43m        \u001B[49m\u001B[43mdata_grid_kwargs\u001B[49m\u001B[38;5;241;43m=\u001B[39;49m\u001B[43mdata_grid_kwargs\u001B[49m\n\u001B[1;32m    454\u001B[0m \u001B[43m    \u001B[49m\u001B[43m)\u001B[49m\n\u001B[1;32m    456\u001B[0m     \u001B[38;5;28;01mreturn\u001B[39;00m container\n",
      "File \u001B[0;32m~/miniconda3/envs/mestest/lib/python3.11/site-packages/mesmerize_viz/_mcorr.py:218\u001B[0m, in \u001B[0;36mMcorrVizContainer.__init__\u001B[0;34m(self, dataframe, data_options, start_index, reset_timepoint_on_change, input_movie_kwargs, image_widget_kwargs, data_grid_kwargs)\u001B[0m\n\u001B[1;32m    215\u001B[0m \u001B[38;5;66;03m# set the initial widget state with the start index\u001B[39;00m\n\u001B[1;32m    216\u001B[0m data_arrays \u001B[38;5;241m=\u001B[39m \u001B[38;5;28mself\u001B[39m\u001B[38;5;241m.\u001B[39m_get_row_data(index\u001B[38;5;241m=\u001B[39mstart_index)\n\u001B[0;32m--> 218\u001B[0m \u001B[38;5;28mself\u001B[39m\u001B[38;5;241m.\u001B[39m_image_widget \u001B[38;5;241m=\u001B[39m \u001B[43mImageWidget\u001B[49m\u001B[43m(\u001B[49m\n\u001B[1;32m    219\u001B[0m \u001B[43m    \u001B[49m\u001B[43mdata\u001B[49m\u001B[38;5;241;43m=\u001B[39;49m\u001B[43mdata_arrays\u001B[49m\u001B[43m,\u001B[49m\n\u001B[1;32m    220\u001B[0m \u001B[43m    \u001B[49m\u001B[43mnames\u001B[49m\u001B[38;5;241;43m=\u001B[39;49m\u001B[38;5;28;43mself\u001B[39;49m\u001B[38;5;241;43m.\u001B[39;49m\u001B[43m_data_options\u001B[49m\u001B[43m,\u001B[49m\n\u001B[1;32m    221\u001B[0m \u001B[43m    \u001B[49m\u001B[38;5;241;43m*\u001B[39;49m\u001B[38;5;241;43m*\u001B[39;49m\u001B[38;5;28;43mself\u001B[39;49m\u001B[38;5;241;43m.\u001B[39;49m\u001B[43mimage_widget_kwargs\u001B[49m\n\u001B[1;32m    222\u001B[0m \u001B[43m\u001B[49m\u001B[43m)\u001B[49m\n\u001B[1;32m    224\u001B[0m \u001B[38;5;66;03m# mean window slider\u001B[39;00m\n\u001B[1;32m    225\u001B[0m \u001B[38;5;28mself\u001B[39m\u001B[38;5;241m.\u001B[39m_slider_mean_window \u001B[38;5;241m=\u001B[39m IntSlider(\n\u001B[1;32m    226\u001B[0m     \u001B[38;5;28mmin\u001B[39m\u001B[38;5;241m=\u001B[39m\u001B[38;5;241m1\u001B[39m,\n\u001B[1;32m    227\u001B[0m     step\u001B[38;5;241m=\u001B[39m\u001B[38;5;241m2\u001B[39m,\n\u001B[0;32m   (...)\u001B[0m\n\u001B[1;32m    231\u001B[0m     description_tooltip\u001B[38;5;241m=\u001B[39m\u001B[38;5;124m\"\u001B[39m\u001B[38;5;124mset a mean rolling window\u001B[39m\u001B[38;5;124m\"\u001B[39m\n\u001B[1;32m    232\u001B[0m )\n",
      "File \u001B[0;32m~/miniconda3/envs/mestest/lib/python3.11/site-packages/fastplotlib/widgets/image.py:573\u001B[0m, in \u001B[0;36mImageWidget.__init__\u001B[0;34m(self, data, dims_order, slider_dims, window_funcs, frame_apply, grid_shape, names, grid_plot_kwargs, histogram_widget, **kwargs)\u001B[0m\n\u001B[1;32m    571\u001B[0m ig \u001B[38;5;241m=\u001B[39m ImageGraphic(frame, name\u001B[38;5;241m=\u001B[39m\u001B[38;5;124m\"\u001B[39m\u001B[38;5;124mimage_widget_managed\u001B[39m\u001B[38;5;124m\"\u001B[39m, \u001B[38;5;241m*\u001B[39m\u001B[38;5;241m*\u001B[39mkwargs)\n\u001B[1;32m    572\u001B[0m subplot\u001B[38;5;241m.\u001B[39madd_graphic(ig)\n\u001B[0;32m--> 573\u001B[0m \u001B[43msubplot\u001B[49m\u001B[38;5;241;43m.\u001B[39;49m\u001B[43mname\u001B[49m \u001B[38;5;241m=\u001B[39m name\n\u001B[1;32m    574\u001B[0m subplot\u001B[38;5;241m.\u001B[39mset_title(name)\n\u001B[1;32m    576\u001B[0m \u001B[38;5;28;01mif\u001B[39;00m histogram_widget:\n",
      "File \u001B[0;32m~/miniconda3/envs/mestest/lib/python3.11/site-packages/fastplotlib/layouts/_subplot.py:121\u001B[0m, in \u001B[0;36mSubplot.name\u001B[0;34m(self, name)\u001B[0m\n\u001B[1;32m    118\u001B[0m \u001B[38;5;129m@name\u001B[39m\u001B[38;5;241m.\u001B[39msetter\n\u001B[1;32m    119\u001B[0m \u001B[38;5;28;01mdef\u001B[39;00m \u001B[38;5;21mname\u001B[39m(\u001B[38;5;28mself\u001B[39m, name: Any):\n\u001B[1;32m    120\u001B[0m     \u001B[38;5;28mself\u001B[39m\u001B[38;5;241m.\u001B[39m_name \u001B[38;5;241m=\u001B[39m name\n\u001B[0;32m--> 121\u001B[0m     \u001B[38;5;28;43mself\u001B[39;49m\u001B[38;5;241;43m.\u001B[39;49m\u001B[43mset_title\u001B[49m\u001B[43m(\u001B[49m\u001B[43mname\u001B[49m\u001B[43m)\u001B[49m\n",
      "File \u001B[0;32m~/miniconda3/envs/mestest/lib/python3.11/site-packages/fastplotlib/layouts/_subplot.py:147\u001B[0m, in \u001B[0;36mSubplot.set_title\u001B[0;34m(self, text)\u001B[0m\n\u001B[1;32m    145\u001B[0m     \u001B[38;5;28mself\u001B[39m\u001B[38;5;241m.\u001B[39m_title_graphic\u001B[38;5;241m.\u001B[39mtext \u001B[38;5;241m=\u001B[39m text\n\u001B[1;32m    146\u001B[0m \u001B[38;5;28;01melse\u001B[39;00m:\n\u001B[0;32m--> 147\u001B[0m     tg \u001B[38;5;241m=\u001B[39m \u001B[43mTextGraphic\u001B[49m\u001B[43m(\u001B[49m\u001B[43mtext\u001B[49m\u001B[38;5;241;43m=\u001B[39;49m\u001B[43mtext\u001B[49m\u001B[43m,\u001B[49m\u001B[43m \u001B[49m\u001B[43msize\u001B[49m\u001B[38;5;241;43m=\u001B[39;49m\u001B[38;5;241;43m18\u001B[39;49m\u001B[43m)\u001B[49m\n\u001B[1;32m    148\u001B[0m     \u001B[38;5;28mself\u001B[39m\u001B[38;5;241m.\u001B[39m_title_graphic \u001B[38;5;241m=\u001B[39m tg\n\u001B[1;32m    150\u001B[0m     \u001B[38;5;28mself\u001B[39m\u001B[38;5;241m.\u001B[39mdocks[\u001B[38;5;124m\"\u001B[39m\u001B[38;5;124mtop\u001B[39m\u001B[38;5;124m\"\u001B[39m]\u001B[38;5;241m.\u001B[39msize \u001B[38;5;241m=\u001B[39m \u001B[38;5;241m35\u001B[39m\n",
      "File \u001B[0;32m~/miniconda3/envs/mestest/lib/python3.11/site-packages/fastplotlib/graphics/text.py:63\u001B[0m, in \u001B[0;36mTextGraphic.__init__\u001B[0;34m(self, text, position, size, face_color, outline_color, outline_thickness, screen_space, anchor, *args, **kwargs)\u001B[0m\n\u001B[1;32m     58\u001B[0m \u001B[38;5;28msuper\u001B[39m(TextGraphic, \u001B[38;5;28mself\u001B[39m)\u001B[38;5;241m.\u001B[39m\u001B[38;5;21m__init__\u001B[39m(\u001B[38;5;241m*\u001B[39margs, \u001B[38;5;241m*\u001B[39m\u001B[38;5;241m*\u001B[39mkwargs)\n\u001B[1;32m     60\u001B[0m \u001B[38;5;28mself\u001B[39m\u001B[38;5;241m.\u001B[39m_text \u001B[38;5;241m=\u001B[39m text\n\u001B[1;32m     62\u001B[0m world_object \u001B[38;5;241m=\u001B[39m pygfx\u001B[38;5;241m.\u001B[39mText(\n\u001B[0;32m---> 63\u001B[0m     \u001B[43mpygfx\u001B[49m\u001B[38;5;241;43m.\u001B[39;49m\u001B[43mTextGeometry\u001B[49m\u001B[43m(\u001B[49m\n\u001B[1;32m     64\u001B[0m \u001B[43m        \u001B[49m\u001B[43mtext\u001B[49m\u001B[38;5;241;43m=\u001B[39;49m\u001B[38;5;28;43mstr\u001B[39;49m\u001B[43m(\u001B[49m\u001B[43mtext\u001B[49m\u001B[43m)\u001B[49m\u001B[43m,\u001B[49m\n\u001B[1;32m     65\u001B[0m \u001B[43m        \u001B[49m\u001B[43mfont_size\u001B[49m\u001B[38;5;241;43m=\u001B[39;49m\u001B[43msize\u001B[49m\u001B[43m,\u001B[49m\n\u001B[1;32m     66\u001B[0m \u001B[43m        \u001B[49m\u001B[43mscreen_space\u001B[49m\u001B[38;5;241;43m=\u001B[39;49m\u001B[43mscreen_space\u001B[49m\u001B[43m,\u001B[49m\n\u001B[1;32m     67\u001B[0m \u001B[43m        \u001B[49m\u001B[43manchor\u001B[49m\u001B[38;5;241;43m=\u001B[39;49m\u001B[43manchor\u001B[49m\u001B[43m,\u001B[49m\n\u001B[1;32m     68\u001B[0m \u001B[43m    \u001B[49m\u001B[43m)\u001B[49m,\n\u001B[1;32m     69\u001B[0m     pygfx\u001B[38;5;241m.\u001B[39mTextMaterial(\n\u001B[1;32m     70\u001B[0m         color\u001B[38;5;241m=\u001B[39mface_color,\n\u001B[1;32m     71\u001B[0m         outline_color\u001B[38;5;241m=\u001B[39moutline_color,\n\u001B[1;32m     72\u001B[0m         outline_thickness\u001B[38;5;241m=\u001B[39moutline_thickness,\n\u001B[1;32m     73\u001B[0m     ),\n\u001B[1;32m     74\u001B[0m )\n\u001B[1;32m     76\u001B[0m \u001B[38;5;28mself\u001B[39m\u001B[38;5;241m.\u001B[39m_set_world_object(world_object)\n\u001B[1;32m     78\u001B[0m \u001B[38;5;28mself\u001B[39m\u001B[38;5;241m.\u001B[39mworld_object\u001B[38;5;241m.\u001B[39mposition \u001B[38;5;241m=\u001B[39m position\n",
      "File \u001B[0;32m~/miniconda3/envs/mestest/lib/python3.11/site-packages/pygfx/geometries/_text.py:213\u001B[0m, in \u001B[0;36mTextGeometry.__init__\u001B[0;34m(self, text, markdown, screen_space, font_size, anchor, max_width, line_height, text_align, family, direction)\u001B[0m\n\u001B[1;32m    211\u001B[0m \u001B[38;5;66;03m# Process input\u001B[39;00m\n\u001B[1;32m    212\u001B[0m \u001B[38;5;28;01mif\u001B[39;00m text \u001B[38;5;129;01mis\u001B[39;00m \u001B[38;5;129;01mnot\u001B[39;00m \u001B[38;5;28;01mNone\u001B[39;00m:\n\u001B[0;32m--> 213\u001B[0m     \u001B[38;5;28;43mself\u001B[39;49m\u001B[38;5;241;43m.\u001B[39;49m\u001B[43mset_text\u001B[49m\u001B[43m(\u001B[49m\u001B[43mtext\u001B[49m\u001B[43m,\u001B[49m\u001B[43m \u001B[49m\u001B[43mfamily\u001B[49m\u001B[38;5;241;43m=\u001B[39;49m\u001B[43mfamily\u001B[49m\u001B[43m)\u001B[49m\n\u001B[1;32m    214\u001B[0m \u001B[38;5;28;01melif\u001B[39;00m markdown \u001B[38;5;129;01mis\u001B[39;00m \u001B[38;5;129;01mnot\u001B[39;00m \u001B[38;5;28;01mNone\u001B[39;00m:\n\u001B[1;32m    215\u001B[0m     \u001B[38;5;28mself\u001B[39m\u001B[38;5;241m.\u001B[39mset_markdown(markdown, family\u001B[38;5;241m=\u001B[39mfamily)\n",
      "File \u001B[0;32m~/miniconda3/envs/mestest/lib/python3.11/site-packages/pygfx/geometries/_text.py:403\u001B[0m, in \u001B[0;36mTextGeometry.set_text\u001B[0;34m(self, text, family, style, weight)\u001B[0m\n\u001B[1;32m    400\u001B[0m \u001B[38;5;28;01mif\u001B[39;00m items \u001B[38;5;129;01mand\u001B[39;00m pending_whitespace:\n\u001B[1;32m    401\u001B[0m     items[\u001B[38;5;241m0\u001B[39m]\u001B[38;5;241m.\u001B[39m_ws_before \u001B[38;5;241m+\u001B[39m\u001B[38;5;241m=\u001B[39m pending_whitespace\n\u001B[0;32m--> 403\u001B[0m \u001B[38;5;28;43mself\u001B[39;49m\u001B[38;5;241;43m.\u001B[39;49m\u001B[43mset_text_items\u001B[49m\u001B[43m(\u001B[49m\u001B[43mitems\u001B[49m\u001B[43m)\u001B[49m\n\u001B[1;32m    404\u001B[0m \u001B[38;5;28;01mreturn\u001B[39;00m \u001B[38;5;28mself\u001B[39m\n",
      "File \u001B[0;32m~/miniconda3/envs/mestest/lib/python3.11/site-packages/pygfx/geometries/_text.py:289\u001B[0m, in \u001B[0;36mTextGeometry.set_text_items\u001B[0;34m(self, text_items)\u001B[0m\n\u001B[1;32m    287\u001B[0m \u001B[38;5;28;01mfor\u001B[39;00m text, font \u001B[38;5;129;01min\u001B[39;00m text_pieces:\n\u001B[1;32m    288\u001B[0m     glyph_indices, positions, meta \u001B[38;5;241m=\u001B[39m \u001B[38;5;28mself\u001B[39m\u001B[38;5;241m.\u001B[39m_shape_text(text, font\u001B[38;5;241m.\u001B[39mfilename)\n\u001B[0;32m--> 289\u001B[0m     atlas_indices \u001B[38;5;241m=\u001B[39m \u001B[38;5;28;43mself\u001B[39;49m\u001B[38;5;241;43m.\u001B[39;49m\u001B[43m_generate_glyph\u001B[49m\u001B[43m(\u001B[49m\u001B[43mglyph_indices\u001B[49m\u001B[43m,\u001B[49m\u001B[43m \u001B[49m\u001B[43mfont\u001B[49m\u001B[38;5;241;43m.\u001B[39;49m\u001B[43mfilename\u001B[49m\u001B[43m)\u001B[49m\n\u001B[1;32m    290\u001B[0m     \u001B[38;5;28mself\u001B[39m\u001B[38;5;241m.\u001B[39m_encode_font_props_in_atlas_indices(\n\u001B[1;32m    291\u001B[0m         atlas_indices, item\u001B[38;5;241m.\u001B[39mfont_props, font\n\u001B[1;32m    292\u001B[0m     )\n\u001B[1;32m    293\u001B[0m     glyph_items\u001B[38;5;241m.\u001B[39mappend(GlyphItem(positions, atlas_indices, meta))\n",
      "File \u001B[0;32m~/miniconda3/envs/mestest/lib/python3.11/site-packages/pygfx/geometries/_text.py:530\u001B[0m, in \u001B[0;36mTextGeometry._generate_glyph\u001B[0;34m(self, glyph_indices, font_filename)\u001B[0m\n\u001B[1;32m    526\u001B[0m \u001B[38;5;28;01mdef\u001B[39;00m \u001B[38;5;21m_generate_glyph\u001B[39m(\u001B[38;5;28mself\u001B[39m, glyph_indices, font_filename):\n\u001B[1;32m    527\u001B[0m \u001B[38;5;250m    \u001B[39m\u001B[38;5;124;03m\"\"\"The glyph generation step. Returns an array with atlas indices.\u001B[39;00m\n\u001B[1;32m    528\u001B[0m \u001B[38;5;124;03m    Can be overloaded for custom behavior.\u001B[39;00m\n\u001B[1;32m    529\u001B[0m \u001B[38;5;124;03m    \"\"\"\u001B[39;00m\n\u001B[0;32m--> 530\u001B[0m     \u001B[38;5;28;01mreturn\u001B[39;00m \u001B[43mtextmodule\u001B[49m\u001B[38;5;241;43m.\u001B[39;49m\u001B[43mgenerate_glyph\u001B[49m\u001B[43m(\u001B[49m\u001B[43mglyph_indices\u001B[49m\u001B[43m,\u001B[49m\u001B[43m \u001B[49m\u001B[43mfont_filename\u001B[49m\u001B[43m)\u001B[49m\n",
      "File \u001B[0;32m~/miniconda3/envs/mestest/lib/python3.11/site-packages/pygfx/utils/text/_sdf.py:53\u001B[0m, in \u001B[0;36mgenerate_glyph\u001B[0;34m(glyph_indices, font_filename)\u001B[0m\n\u001B[1;32m     51\u001B[0m index \u001B[38;5;241m=\u001B[39m glyph_atlas\u001B[38;5;241m.\u001B[39mget_index_from_hash(glyph_hash)\n\u001B[1;32m     52\u001B[0m \u001B[38;5;28;01mif\u001B[39;00m index \u001B[38;5;129;01mis\u001B[39;00m \u001B[38;5;28;01mNone\u001B[39;00m:\n\u001B[0;32m---> 53\u001B[0m     glyph, offset \u001B[38;5;241m=\u001B[39m \u001B[43m_generate_sdf\u001B[49m\u001B[43m(\u001B[49m\u001B[43mface\u001B[49m\u001B[43m,\u001B[49m\u001B[43m \u001B[49m\u001B[43mglyph_index\u001B[49m\u001B[43m)\u001B[49m\n\u001B[1;32m     54\u001B[0m     index \u001B[38;5;241m=\u001B[39m glyph_atlas\u001B[38;5;241m.\u001B[39mstore_region_with_hash(glyph_hash, glyph, offset)\n\u001B[1;32m     55\u001B[0m atlas_indices[i] \u001B[38;5;241m=\u001B[39m index\n",
      "File \u001B[0;32m~/miniconda3/envs/mestest/lib/python3.11/site-packages/pygfx/utils/text/_sdf.py:86\u001B[0m, in \u001B[0;36m_generate_sdf\u001B[0;34m(face, glyph_index)\u001B[0m\n\u001B[1;32m     83\u001B[0m face\u001B[38;5;241m.\u001B[39mload_glyph(glyph_index, freetype\u001B[38;5;241m.\u001B[39mFT_LOAD_DEFAULT)\n\u001B[1;32m     85\u001B[0m \u001B[38;5;66;03m# Render bitmap. This forces the SDF to be based off the bitmap, being more stable\u001B[39;00m\n\u001B[0;32m---> 86\u001B[0m \u001B[43mface\u001B[49m\u001B[38;5;241;43m.\u001B[39;49m\u001B[43mglyph\u001B[49m\u001B[38;5;241;43m.\u001B[39;49m\u001B[43mrender\u001B[49m(freetype\u001B[38;5;241m.\u001B[39mFT_RENDER_MODE_NORMAL)\n\u001B[1;32m     88\u001B[0m \u001B[38;5;66;03m# Render SDF\u001B[39;00m\n\u001B[1;32m     89\u001B[0m \u001B[38;5;28;01mtry\u001B[39;00m:\n",
      "\u001B[0;31mAttributeError\u001B[0m: 'GlyphSlot' object has no attribute 'render'"
     ]
    }
   ],
   "source": [
    "viz = df.mcorr.viz(\n",
    "    data_options=[\"input\", \"mcorr\"],\n",
    "    image_widget_kwargs={\"grid_plot_kwargs\": {\"size\": (800, 400)}},\n",
    ")\n",
    "viz.show(sidecar=True)  # show in sidecar"
   ]
  },
  {
   "cell_type": "markdown",
   "id": "e99bd8cd-c3fd-400e-9adc-ca24114e2efa",
   "metadata": {},
   "source": [
    "# Customization\n",
    "\n",
    "We call `viz` a \"Viz Container\". The `McorrVizContainer` has a fastplotlib `ImageWidget` that you can access."
   ]
  },
  {
   "cell_type": "code",
   "execution_count": 21,
   "id": "aa1e1764-1bb1-4ce1-98e1-9240fbb853cb",
   "metadata": {},
   "outputs": [
    {
     "data": {
      "text/plain": [
       "<mesmerize_viz._mcorr.McorrVizContainer at 0x7f6909b7a050>"
      ]
     },
     "execution_count": 21,
     "metadata": {},
     "output_type": "execute_result"
    }
   ],
   "source": [
    "viz"
   ]
  },
  {
   "cell_type": "markdown",
   "id": "ff9587b8-c0bf-41a5-a580-bd61fb8118fd",
   "metadata": {},
   "source": [
    "**Use tab completion to see public methods and attributes**\n",
    "\n",
    "``viz.<Tab>``"
   ]
  },
  {
   "cell_type": "code",
   "execution_count": 22,
   "id": "9b2b6224-9a5e-40a0-ac60-459260e9eb83",
   "metadata": {
    "tags": []
   },
   "outputs": [
    {
     "data": {
      "text/plain": [
       "<fastplotlib.widgets.image.ImageWidget at 0x7f6909bc16d0>"
      ]
     },
     "execution_count": 22,
     "metadata": {},
     "output_type": "execute_result"
    }
   ],
   "source": [
    "viz.image_widget"
   ]
  },
  {
   "cell_type": "markdown",
   "id": "c1c74746-dc5d-4bd3-8d27-19945b07978c",
   "metadata": {},
   "source": [
    "Change colormaps"
   ]
  },
  {
   "cell_type": "code",
   "execution_count": 23,
   "id": "b4f7c050-cfb4-462b-adca-95a4c534974f",
   "metadata": {
    "tags": []
   },
   "outputs": [],
   "source": [
    "viz.image_widget.cmap = \"gray\""
   ]
  },
  {
   "cell_type": "code",
   "execution_count": null,
   "id": "9ae4afc0-dac6-49f8-82b2-14d68f7f0182",
   "metadata": {
    "tags": []
   },
   "outputs": [],
   "source": [
    "viz.image_widget.cmap = \"viridis\""
   ]
  },
  {
   "cell_type": "markdown",
   "id": "33b8dce5-0164-4b4c-8bfd-5d3b64507af5",
   "metadata": {},
   "source": [
    "Access subplots, graphics, etc. The full suite of the `fastplotlib` API"
   ]
  },
  {
   "cell_type": "code",
   "execution_count": null,
   "id": "5fcc9a47-4127-42ef-bd10-4206ede0a890",
   "metadata": {
    "tags": []
   },
   "outputs": [],
   "source": [
    "viz.image_widget.gridplot[\"mcorr\"]"
   ]
  },
  {
   "cell_type": "code",
   "execution_count": null,
   "id": "b1ce3994-cd29-4de8-9652-de4e9b91bc67",
   "metadata": {
    "tags": []
   },
   "outputs": [],
   "source": [
    "viz.image_widget.gridplot[\"mcorr\"][\"image_widget_managed\"].cmap.vmax"
   ]
  },
  {
   "cell_type": "code",
   "execution_count": 24,
   "id": "2ff31184-4f97-456e-b8a6-c95def9a303c",
   "metadata": {
    "tags": []
   },
   "outputs": [],
   "source": [
    "viz.image_widget.gridplot[\"mcorr\"][\"image_widget_managed\"].cmap.vmax = 250"
   ]
  },
  {
   "cell_type": "markdown",
   "id": "0fa56fd3-4a52-42a1-bc2e-a2b609e56f0d",
   "metadata": {},
   "source": [
    "# Close visualization when we are done"
   ]
  },
  {
   "cell_type": "code",
   "execution_count": 25,
   "id": "070cb879-776f-493c-85b3-4a9d9244ee8f",
   "metadata": {
    "tags": []
   },
   "outputs": [],
   "source": [
    "viz.close()"
   ]
  },
  {
   "cell_type": "markdown",
   "id": "c3b1329a-56e0-4a18-bf8e-7570371d77e4",
   "metadata": {},
   "source": [
    "# Parameter variants - this is the purpose of mesmerize-core!\n",
    "\n",
    "Let's add another row to the DataFrame. We will use the same input movie but different parameters. This is the basis of how we can perform a _parameter gridsearch_."
   ]
  },
  {
   "cell_type": "code",
   "execution_count": null,
   "id": "5f5d0785-da70-41ed-b31c-418a407ef6ad",
   "metadata": {},
   "outputs": [],
   "source": [
    "mcorr_params2 =\\\n",
    "{\n",
    "  'main':\n",
    "    {\n",
    "        'max_shifts': [4, 4],\n",
    "        'strides': [48, 48],\n",
    "        'overlaps': [24, 24],\n",
    "        'max_deviation_rigid': 3,\n",
    "        'border_nan': 'copy',\n",
    "        'pw_rigid': True,\n",
    "        'gSig_filt': None\n",
    "    },\n",
    "}\n",
    "\n",
    "# add other param variant to the batch\n",
    "df.caiman.add_item(\n",
    "  algo='mcorr',\n",
    "  item_name=movie_path.stem,\n",
    "  input_movie_path=movie_path,\n",
    "  params=mcorr_params2\n",
    ")\n",
    "\n",
    "df"
   ]
  },
  {
   "cell_type": "markdown",
   "id": "26480466-d5a7-422e-a9e7-ded165ad6fcc",
   "metadata": {
    "tags": []
   },
   "source": [
    "We can see that there are two batch items for the same input movie."
   ]
  },
  {
   "cell_type": "markdown",
   "id": "1596fa77-e09e-4df5-aab9-c06dd5b93c24",
   "metadata": {},
   "source": [
    "# Parameter Gridsearch\n",
    "\n",
    "Use a `for` loop to add multiple different parameter variants more efficiently."
   ]
  },
  {
   "cell_type": "code",
   "execution_count": null,
   "id": "8b66724d-8164-4c9f-996d-fe3d2e592900",
   "metadata": {},
   "outputs": [],
   "source": [
    "# copy the mcorr_params2 dict to make some changes\n",
    "new_params = deepcopy(mcorr_params2)\n",
    "\n",
    "# some variants of max_shifts\n",
    "for shifts in [2, 32]: \n",
    "    for strides in [12, 24, 64]:\n",
    "        overlaps = int(strides / 2)\n",
    "        # deep copy is the safest way to copy dicts\n",
    "        new_params = deepcopy(new_params)\n",
    "\n",
    "        # assign the \"max_shifts\"\n",
    "        new_params[\"main\"][\"max_shifts\"] = (shifts, shifts)\n",
    "        new_params[\"main\"][\"strides\"] = (strides, strides)\n",
    "        new_params[\"main\"][\"overlaps\"] = (overlaps, overlaps)\n",
    "\n",
    "        df.caiman.add_item(\n",
    "          algo='mcorr',\n",
    "          item_name=movie_path.stem,\n",
    "          input_movie_path=movie_path,\n",
    "          params=new_params\n",
    "        )"
   ]
  },
  {
   "cell_type": "code",
   "execution_count": null,
   "id": "e990f5d5-5d20-48c8-a39a-ef6f7e4d9862",
   "metadata": {},
   "outputs": [],
   "source": [
    "df"
   ]
  },
  {
   "cell_type": "markdown",
   "id": "d8912227-b00e-461f-a61d-9d572a42313f",
   "metadata": {},
   "source": [
    "# Distinguishing parameter variants\n",
    "\n",
    "We can see that there are many parameter variants, but it is not easy to see the differences in parameters between the rows that have the same `item_name`.\n",
    "\n",
    "We can use the `caiman.get_params_diffs()` to see the unique parameters between rows with the same `item_name`"
   ]
  },
  {
   "cell_type": "code",
   "execution_count": 42,
   "id": "6398946b-ced7-4ef2-9614-f062b7a65ad5",
   "metadata": {},
   "outputs": [
    {
     "data": {
      "text/html": [
       "<div>\n",
       "<style scoped>\n",
       "    .dataframe tbody tr th:only-of-type {\n",
       "        vertical-align: middle;\n",
       "    }\n",
       "\n",
       "    .dataframe tbody tr th {\n",
       "        vertical-align: top;\n",
       "    }\n",
       "\n",
       "    .dataframe thead th {\n",
       "        text-align: right;\n",
       "    }\n",
       "</style>\n",
       "<table border=\"1\" class=\"dataframe\">\n",
       "  <thead>\n",
       "    <tr style=\"text-align: right;\">\n",
       "      <th></th>\n",
       "    </tr>\n",
       "  </thead>\n",
       "  <tbody>\n",
       "    <tr>\n",
       "      <th>0</th>\n",
       "    </tr>\n",
       "  </tbody>\n",
       "</table>\n",
       "</div>"
      ],
      "text/plain": [
       "Empty DataFrame\n",
       "Columns: []\n",
       "Index: [0]"
      ]
     },
     "execution_count": 42,
     "metadata": {},
     "output_type": "execute_result"
    }
   ],
   "source": [
    "diffs = df.caiman.get_params_diffs(algo=\"mcorr\", item_name=df.iloc[0][\"item_name\"])\n",
    "diffs"
   ]
  },
  {
   "cell_type": "markdown",
   "id": "1e5bf8fd-bda7-45b5-9cd7-00ea6c0bac38",
   "metadata": {},
   "source": [
    "# Run multiple batch items.\n",
    "\n",
    "`df.iterrows()` iterates through rows and returns the numerical index and row for each iteration"
   ]
  },
  {
   "cell_type": "code",
   "execution_count": null,
   "id": "406aa80b-ea16-4e0b-8447-1c091cabde68",
   "metadata": {
    "tags": []
   },
   "outputs": [],
   "source": [
    "for i, row in df.iterrows():\n",
    "    if row[\"outputs\"] is not None: # item has already been run\n",
    "        continue # skip\n",
    "        \n",
    "    process = row.caiman.run()\n",
    "    \n",
    "    # on Windows you MUST reload the batch dataframe after every iteration because it uses the `local` backend.\n",
    "    # this is unnecessary on Linux & Mac\n",
    "    # \"DummyProcess\" is used for local backend so this is automatic\n",
    "    if process.__class__.__name__ == \"DummyProcess\":\n",
    "        df = df.caiman.reload_from_disk()"
   ]
  },
  {
   "cell_type": "markdown",
   "id": "ffc9a52c-eae1-49f1-a8ba-a79b92e897e4",
   "metadata": {
    "pycharm": {
     "name": "#%% md\n"
    },
    "tags": []
   },
   "source": [
    "# Outputs\n",
    "\n",
    "Load the output information into the DataFrame"
   ]
  },
  {
   "cell_type": "code",
   "execution_count": 38,
   "id": "ab1bfbb4-2737-4aea-9e2f-673cf539279d",
   "metadata": {},
   "outputs": [],
   "source": [
    "df = df.caiman.reload_from_disk()"
   ]
  },
  {
   "cell_type": "code",
   "execution_count": 39,
   "id": "fc41f7a8-e80b-4262-890a-58cfb621f017",
   "metadata": {
    "pycharm": {
     "name": "#%%\n"
    }
   },
   "outputs": [
    {
     "data": {
      "text/html": [
       "<div>\n",
       "<style scoped>\n",
       "    .dataframe tbody tr th:only-of-type {\n",
       "        vertical-align: middle;\n",
       "    }\n",
       "\n",
       "    .dataframe tbody tr th {\n",
       "        vertical-align: top;\n",
       "    }\n",
       "\n",
       "    .dataframe thead th {\n",
       "        text-align: right;\n",
       "    }\n",
       "</style>\n",
       "<table border=\"1\" class=\"dataframe\">\n",
       "  <thead>\n",
       "    <tr style=\"text-align: right;\">\n",
       "      <th></th>\n",
       "      <th>algo</th>\n",
       "      <th>item_name</th>\n",
       "      <th>input_movie_path</th>\n",
       "      <th>params</th>\n",
       "      <th>outputs</th>\n",
       "      <th>added_time</th>\n",
       "      <th>ran_time</th>\n",
       "      <th>algo_duration</th>\n",
       "      <th>comments</th>\n",
       "      <th>uuid</th>\n",
       "    </tr>\n",
       "  </thead>\n",
       "  <tbody>\n",
       "    <tr>\n",
       "      <th>0</th>\n",
       "      <td>mcorr</td>\n",
       "      <td>extracted_plane_1</td>\n",
       "      <td>extracted_plane_1.tif</td>\n",
       "      <td>{'main': {'max_shifts': (4, 4), 'strides': (48, 48), 'overlaps': (24, 24), 'max_deviation_rigid': 3, 'border_nan': '...</td>\n",
       "      <td>{'mean-projection-path': 56dfceb9-059b-46c7-a656-f0bea5d93b65/56dfceb9-059b-46c7-a656-f0bea5d93b65_mean_projection.n...</td>\n",
       "      <td>2024-08-16T11:45:16</td>\n",
       "      <td>2024-08-16T11:45:54</td>\n",
       "      <td>22.55 sec</td>\n",
       "      <td>None</td>\n",
       "      <td>56dfceb9-059b-46c7-a656-f0bea5d93b65</td>\n",
       "    </tr>\n",
       "  </tbody>\n",
       "</table>\n",
       "</div>"
      ],
      "text/plain": [
       "    algo          item_name       input_movie_path  \\\n",
       "0  mcorr  extracted_plane_1  extracted_plane_1.tif   \n",
       "\n",
       "                                                                                                                    params  \\\n",
       "0  {'main': {'max_shifts': (4, 4), 'strides': (48, 48), 'overlaps': (24, 24), 'max_deviation_rigid': 3, 'border_nan': '...   \n",
       "\n",
       "                                                                                                                   outputs  \\\n",
       "0  {'mean-projection-path': 56dfceb9-059b-46c7-a656-f0bea5d93b65/56dfceb9-059b-46c7-a656-f0bea5d93b65_mean_projection.n...   \n",
       "\n",
       "            added_time             ran_time algo_duration comments  \\\n",
       "0  2024-08-16T11:45:16  2024-08-16T11:45:54     22.55 sec     None   \n",
       "\n",
       "                                   uuid  \n",
       "0  56dfceb9-059b-46c7-a656-f0bea5d93b65  "
      ]
     },
     "execution_count": 39,
     "metadata": {},
     "output_type": "execute_result"
    }
   ],
   "source": [
    "df"
   ]
  },
  {
   "cell_type": "markdown",
   "id": "069ddc1e-50fc-4e67-bd68-ef1faf439e6e",
   "metadata": {},
   "source": [
    "# Visualization using `mesmerize-viz` "
   ]
  },
  {
   "cell_type": "code",
   "execution_count": 40,
   "id": "78708874-f58f-4508-b1f5-b07cce0203f8",
   "metadata": {
    "tags": []
   },
   "outputs": [
    {
     "name": "stderr",
     "output_type": "stream",
     "text": [
      "/home/mbo/miniconda3/envs/mescore/lib/python3.11/site-packages/ipydatagrid/datagrid.py:512: UserWarning: Index name of 'index' is not round-trippable.\n",
      "  schema = pd.io.json.build_table_schema(dataframe)\n"
     ]
    },
    {
     "data": {
      "application/vnd.jupyter.widget-view+json": {
       "model_id": "1ddda7de47294c029a546d9f8ef10b2c",
       "version_major": 2,
       "version_minor": 0
      },
      "text/plain": [
       "RFBOutputContext()"
      ]
     },
     "metadata": {},
     "output_type": "display_data"
    },
    {
     "name": "stderr",
     "output_type": "stream",
     "text": [
      "/home/mbo/miniconda3/envs/mescore/lib/python3.11/site-packages/fastplotlib/graphics/_features/_base.py:34: UserWarning: converting float64 array to float32\n",
      "  warn(f\"converting {array.dtype} array to float32\")\n"
     ]
    },
    {
     "data": {
      "application/vnd.jupyter.widget-view+json": {
       "model_id": "8349ef3928654901a866cead91dc2b8d",
       "version_major": 2,
       "version_minor": 0
      },
      "text/plain": [
       "VBox(children=(HBox(children=(DataGrid(auto_fit_params={'area': 'all', 'padding': 30, 'numCols': None}, base_r…"
      ]
     },
     "execution_count": 40,
     "metadata": {},
     "output_type": "execute_result"
    }
   ],
   "source": [
    "mcorr_viz = df.mcorr.viz(\n",
    "    data_options=[\"input\", \"mcorr\"], \n",
    "    image_widget_kwargs={\"grid_plot_kwargs\": {\"size\": (1000, 500)}}  # you can also pass kwargs to the ImageWidget that is created\n",
    ")\n",
    "mcorr_viz.show()"
   ]
  },
  {
   "cell_type": "code",
   "execution_count": 41,
   "id": "390fe3a8-27bd-4710-b6ec-5419c13a4611",
   "metadata": {},
   "outputs": [],
   "source": [
    "# close when done\n",
    "mcorr_viz.close()"
   ]
  },
  {
   "attachments": {},
   "cell_type": "markdown",
   "id": "bdbf763e-8aed-4513-834b-a9b5cb361a65",
   "metadata": {},
   "source": [
    "# Build your own visualizations using `fastplotlib`\n",
    "\n",
    "# Use `ImageWidget` to view multiple mcorr results simultaneously\n",
    "\n",
    "This type of visualization usually requires your files to be lazy-loadble, and the performance will depend on your hard drive's capabilities."
   ]
  },
  {
   "cell_type": "code",
   "execution_count": 37,
   "id": "d0351fcd-58ef-47cf-9f72-6a6a116da929",
   "metadata": {},
   "outputs": [
    {
     "ename": "KeyError",
     "evalue": "'max_shifts'",
     "output_type": "error",
     "traceback": [
      "\u001B[0;31m---------------------------------------------------------------------------\u001B[0m",
      "\u001B[0;31mKeyError\u001B[0m                                  Traceback (most recent call last)",
      "File \u001B[0;32m~/miniconda3/envs/mescore/lib/python3.11/site-packages/pandas/core/indexes/base.py:3805\u001B[0m, in \u001B[0;36mIndex.get_loc\u001B[0;34m(self, key)\u001B[0m\n\u001B[1;32m   3804\u001B[0m \u001B[38;5;28;01mtry\u001B[39;00m:\n\u001B[0;32m-> 3805\u001B[0m     \u001B[38;5;28;01mreturn\u001B[39;00m \u001B[38;5;28;43mself\u001B[39;49m\u001B[38;5;241;43m.\u001B[39;49m\u001B[43m_engine\u001B[49m\u001B[38;5;241;43m.\u001B[39;49m\u001B[43mget_loc\u001B[49m\u001B[43m(\u001B[49m\u001B[43mcasted_key\u001B[49m\u001B[43m)\u001B[49m\n\u001B[1;32m   3806\u001B[0m \u001B[38;5;28;01mexcept\u001B[39;00m \u001B[38;5;167;01mKeyError\u001B[39;00m \u001B[38;5;28;01mas\u001B[39;00m err:\n",
      "File \u001B[0;32mindex.pyx:167\u001B[0m, in \u001B[0;36mpandas._libs.index.IndexEngine.get_loc\u001B[0;34m()\u001B[0m\n",
      "File \u001B[0;32mindex.pyx:196\u001B[0m, in \u001B[0;36mpandas._libs.index.IndexEngine.get_loc\u001B[0;34m()\u001B[0m\n",
      "File \u001B[0;32mpandas/_libs/hashtable_class_helper.pxi:7081\u001B[0m, in \u001B[0;36mpandas._libs.hashtable.PyObjectHashTable.get_item\u001B[0;34m()\u001B[0m\n",
      "File \u001B[0;32mpandas/_libs/hashtable_class_helper.pxi:7089\u001B[0m, in \u001B[0;36mpandas._libs.hashtable.PyObjectHashTable.get_item\u001B[0;34m()\u001B[0m\n",
      "\u001B[0;31mKeyError\u001B[0m: 'max_shifts'",
      "\nThe above exception was the direct cause of the following exception:\n",
      "\u001B[0;31mKeyError\u001B[0m                                  Traceback (most recent call last)",
      "Cell \u001B[0;32mIn[37], line 18\u001B[0m\n\u001B[1;32m     14\u001B[0m \u001B[38;5;28;01mfor\u001B[39;00m i, row \u001B[38;5;129;01min\u001B[39;00m df\u001B[38;5;241m.\u001B[39miterrows():\n\u001B[1;32m     15\u001B[0m     \u001B[38;5;66;03m# add to the list of movies to plot\u001B[39;00m\n\u001B[1;32m     16\u001B[0m     movies\u001B[38;5;241m.\u001B[39mappend(row\u001B[38;5;241m.\u001B[39mmcorr\u001B[38;5;241m.\u001B[39mget_output())\n\u001B[0;32m---> 18\u001B[0m     max_shifts \u001B[38;5;241m=\u001B[39m \u001B[43mparam_diffs\u001B[49m\u001B[38;5;241;43m.\u001B[39;49m\u001B[43miloc\u001B[49m\u001B[43m[\u001B[49m\u001B[43mi\u001B[49m\u001B[43m]\u001B[49m\u001B[43m[\u001B[49m\u001B[38;5;124;43m\"\u001B[39;49m\u001B[38;5;124;43mmax_shifts\u001B[39;49m\u001B[38;5;124;43m\"\u001B[39;49m\u001B[43m]\u001B[49m[\u001B[38;5;241m0\u001B[39m]\n\u001B[1;32m     19\u001B[0m     strides \u001B[38;5;241m=\u001B[39m param_diffs\u001B[38;5;241m.\u001B[39miloc[i][\u001B[38;5;124m\"\u001B[39m\u001B[38;5;124mstrides\u001B[39m\u001B[38;5;124m\"\u001B[39m][\u001B[38;5;241m0\u001B[39m]\n\u001B[1;32m     20\u001B[0m     overlaps \u001B[38;5;241m=\u001B[39m param_diffs\u001B[38;5;241m.\u001B[39miloc[i][\u001B[38;5;124m\"\u001B[39m\u001B[38;5;124moverlaps\u001B[39m\u001B[38;5;124m\"\u001B[39m][\u001B[38;5;241m0\u001B[39m]\n",
      "File \u001B[0;32m~/miniconda3/envs/mescore/lib/python3.11/site-packages/pandas/core/series.py:1121\u001B[0m, in \u001B[0;36mSeries.__getitem__\u001B[0;34m(self, key)\u001B[0m\n\u001B[1;32m   1118\u001B[0m     \u001B[38;5;28;01mreturn\u001B[39;00m \u001B[38;5;28mself\u001B[39m\u001B[38;5;241m.\u001B[39m_values[key]\n\u001B[1;32m   1120\u001B[0m \u001B[38;5;28;01melif\u001B[39;00m key_is_scalar:\n\u001B[0;32m-> 1121\u001B[0m     \u001B[38;5;28;01mreturn\u001B[39;00m \u001B[38;5;28;43mself\u001B[39;49m\u001B[38;5;241;43m.\u001B[39;49m\u001B[43m_get_value\u001B[49m\u001B[43m(\u001B[49m\u001B[43mkey\u001B[49m\u001B[43m)\u001B[49m\n\u001B[1;32m   1123\u001B[0m \u001B[38;5;66;03m# Convert generator to list before going through hashable part\u001B[39;00m\n\u001B[1;32m   1124\u001B[0m \u001B[38;5;66;03m# (We will iterate through the generator there to check for slices)\u001B[39;00m\n\u001B[1;32m   1125\u001B[0m \u001B[38;5;28;01mif\u001B[39;00m is_iterator(key):\n",
      "File \u001B[0;32m~/miniconda3/envs/mescore/lib/python3.11/site-packages/pandas/core/series.py:1237\u001B[0m, in \u001B[0;36mSeries._get_value\u001B[0;34m(self, label, takeable)\u001B[0m\n\u001B[1;32m   1234\u001B[0m     \u001B[38;5;28;01mreturn\u001B[39;00m \u001B[38;5;28mself\u001B[39m\u001B[38;5;241m.\u001B[39m_values[label]\n\u001B[1;32m   1236\u001B[0m \u001B[38;5;66;03m# Similar to Index.get_value, but we do not fall back to positional\u001B[39;00m\n\u001B[0;32m-> 1237\u001B[0m loc \u001B[38;5;241m=\u001B[39m \u001B[38;5;28;43mself\u001B[39;49m\u001B[38;5;241;43m.\u001B[39;49m\u001B[43mindex\u001B[49m\u001B[38;5;241;43m.\u001B[39;49m\u001B[43mget_loc\u001B[49m\u001B[43m(\u001B[49m\u001B[43mlabel\u001B[49m\u001B[43m)\u001B[49m\n\u001B[1;32m   1239\u001B[0m \u001B[38;5;28;01mif\u001B[39;00m is_integer(loc):\n\u001B[1;32m   1240\u001B[0m     \u001B[38;5;28;01mreturn\u001B[39;00m \u001B[38;5;28mself\u001B[39m\u001B[38;5;241m.\u001B[39m_values[loc]\n",
      "File \u001B[0;32m~/miniconda3/envs/mescore/lib/python3.11/site-packages/pandas/core/indexes/base.py:3812\u001B[0m, in \u001B[0;36mIndex.get_loc\u001B[0;34m(self, key)\u001B[0m\n\u001B[1;32m   3807\u001B[0m     \u001B[38;5;28;01mif\u001B[39;00m \u001B[38;5;28misinstance\u001B[39m(casted_key, \u001B[38;5;28mslice\u001B[39m) \u001B[38;5;129;01mor\u001B[39;00m (\n\u001B[1;32m   3808\u001B[0m         \u001B[38;5;28misinstance\u001B[39m(casted_key, abc\u001B[38;5;241m.\u001B[39mIterable)\n\u001B[1;32m   3809\u001B[0m         \u001B[38;5;129;01mand\u001B[39;00m \u001B[38;5;28many\u001B[39m(\u001B[38;5;28misinstance\u001B[39m(x, \u001B[38;5;28mslice\u001B[39m) \u001B[38;5;28;01mfor\u001B[39;00m x \u001B[38;5;129;01min\u001B[39;00m casted_key)\n\u001B[1;32m   3810\u001B[0m     ):\n\u001B[1;32m   3811\u001B[0m         \u001B[38;5;28;01mraise\u001B[39;00m InvalidIndexError(key)\n\u001B[0;32m-> 3812\u001B[0m     \u001B[38;5;28;01mraise\u001B[39;00m \u001B[38;5;167;01mKeyError\u001B[39;00m(key) \u001B[38;5;28;01mfrom\u001B[39;00m \u001B[38;5;21;01merr\u001B[39;00m\n\u001B[1;32m   3813\u001B[0m \u001B[38;5;28;01mexcept\u001B[39;00m \u001B[38;5;167;01mTypeError\u001B[39;00m:\n\u001B[1;32m   3814\u001B[0m     \u001B[38;5;66;03m# If we have a listlike key, _check_indexing_error will raise\u001B[39;00m\n\u001B[1;32m   3815\u001B[0m     \u001B[38;5;66;03m#  InvalidIndexError. Otherwise we fall through and re-raise\u001B[39;00m\n\u001B[1;32m   3816\u001B[0m     \u001B[38;5;66;03m#  the TypeError.\u001B[39;00m\n\u001B[1;32m   3817\u001B[0m     \u001B[38;5;28mself\u001B[39m\u001B[38;5;241m.\u001B[39m_check_indexing_error(key)\n",
      "\u001B[0;31mKeyError\u001B[0m: 'max_shifts'"
     ]
    }
   ],
   "source": [
    "# first item is just the raw movie\n",
    "movies = [df.iloc[0].caiman.get_input_movie()]\n",
    "\n",
    "# subplot titles\n",
    "subplot_names = [\"raw\"]\n",
    "\n",
    "# we will use the mean images later\n",
    "means = [df.iloc[0].caiman.get_projection(\"mean\")]\n",
    "\n",
    "# get the param diffs to set plot titles\n",
    "param_diffs = df.caiman.get_params_diffs(\"mcorr\", item_name=df.iloc[0][\"item_name\"])\n",
    "\n",
    "# add all the mcorr outputs to the list\n",
    "for i, row in df.iterrows():\n",
    "    # add to the list of movies to plot\n",
    "    movies.append(row.mcorr.get_output())\n",
    "\n",
    "    max_shifts = param_diffs.iloc[i][\"max_shifts\"][0]\n",
    "    strides = param_diffs.iloc[i][\"strides\"][0]\n",
    "    overlaps = param_diffs.iloc[i][\"overlaps\"][0]\n",
    "    \n",
    "    # subplot title to show dataframe index\n",
    "    subplot_names.append(f\"ix {i}: max_sh: {max_shifts}, str: {strides}, ove: {overlaps}\")\n",
    "    \n",
    "    # mean images which we'll use later\n",
    "    means.append(row.caiman.get_projection(\"mean\"))\n",
    "\n",
    "# create the widget\n",
    "mcorr_iw_multiple = fpl.ImageWidget(\n",
    "    data=movies,  # list of movies\n",
    "    window_funcs={\"t\": (np.mean, 17)}, # window functions as a kwarg, this is what the slider was used for in the ready-made viz\n",
    "    grid_plot_kwargs={\"size\": (900, 700)},\n",
    "    names=subplot_names,  # subplot names used for titles\n",
    "    cmap=\"gnuplot2\"\n",
    ")\n",
    "\n",
    "mcorr_iw_multiple.show()"
   ]
  },
  {
   "cell_type": "markdown",
   "id": "fae7e4f4-76a4-4fd9-a717-cd4deb901fb0",
   "metadata": {},
   "source": [
    "Optionally hide the histogram LUT tool"
   ]
  },
  {
   "cell_type": "code",
   "execution_count": null,
   "id": "a374e83e-16e3-49bc-ab26-2f158c1cefa6",
   "metadata": {},
   "outputs": [],
   "source": [
    "for subplot in mcorr_iw_multiple.gridplot:\n",
    "    subplot.docks[\"right\"].size = 0"
   ]
  },
  {
   "cell_type": "markdown",
   "id": "0f0f40f5-3f92-4d6d-a372-667e8bfb5672",
   "metadata": {},
   "source": [
    "Modify the `window_funcs` at any time. This is what the slider in `mesmerize-viz` does."
   ]
  },
  {
   "cell_type": "code",
   "execution_count": null,
   "id": "cec3c2bf-e211-49fb-b7c8-bae5ceca99eb",
   "metadata": {},
   "outputs": [],
   "source": [
    "mcorr_iw_multiple.window_funcs[\"t\"].window_size = 43"
   ]
  },
  {
   "cell_type": "code",
   "execution_count": null,
   "id": "0016f010-2f47-4e13-8b4a-574aadb2b525",
   "metadata": {},
   "outputs": [],
   "source": [
    "mcorr_iw_multiple.close()"
   ]
  },
  {
   "cell_type": "markdown",
   "id": "de6b4f8f-b168-486a-9237-f31412b19ca8",
   "metadata": {},
   "source": [
    "# Optional, cleanup DataFrame\n",
    "\n",
    "ix `6` seems to work the best so we will cleanup the DataFrame and remove all other items.\n",
    "\n",
    "Remove batch items (i.e. rows) using `df.caiman.remove_item(<item_uuid>)`. This also cleans up the output data in the batch directory."
   ]
  },
  {
   "cell_type": "code",
   "execution_count": 34,
   "id": "cc1fb4fd-4cb3-41ca-9ec1-a62c15711afa",
   "metadata": {},
   "outputs": [
    {
     "data": {
      "text/plain": [
       "['56dfceb9-059b-46c7-a656-f0bea5d93b65']"
      ]
     },
     "execution_count": 34,
     "metadata": {},
     "output_type": "execute_result"
    }
   ],
   "source": [
    "# make a list of rows we want to keep using the uuids\n",
    "rows_keep = [df.iloc[0].uuid]\n",
    "rows_keep"
   ]
  },
  {
   "cell_type": "markdown",
   "id": "820304a4-a1bb-4719-9ae7-a69f6752f329",
   "metadata": {},
   "source": [
    "**Note:** On windows calling `remove_item()` will raise a `PermissionError` if you have the memmap file open. The workaround is to shutdown the current kernel and then use `df.caiman.remove_item()`. For example, you can keep another notebook that you use just for cleaning unwanted mcorr items.\n",
    "\n",
    "There is currently no way to close a `numpy.memmap`: https://github.com/numpy/numpy/issues/13510"
   ]
  },
  {
   "cell_type": "code",
   "execution_count": 36,
   "id": "0985f784-9ef1-4718-91ee-61c6c5b931c0",
   "metadata": {},
   "outputs": [
    {
     "data": {
      "text/html": [
       "<div>\n",
       "<style scoped>\n",
       "    .dataframe tbody tr th:only-of-type {\n",
       "        vertical-align: middle;\n",
       "    }\n",
       "\n",
       "    .dataframe tbody tr th {\n",
       "        vertical-align: top;\n",
       "    }\n",
       "\n",
       "    .dataframe thead th {\n",
       "        text-align: right;\n",
       "    }\n",
       "</style>\n",
       "<table border=\"1\" class=\"dataframe\">\n",
       "  <thead>\n",
       "    <tr style=\"text-align: right;\">\n",
       "      <th></th>\n",
       "      <th>algo</th>\n",
       "      <th>item_name</th>\n",
       "      <th>input_movie_path</th>\n",
       "      <th>params</th>\n",
       "      <th>outputs</th>\n",
       "      <th>added_time</th>\n",
       "      <th>ran_time</th>\n",
       "      <th>algo_duration</th>\n",
       "      <th>comments</th>\n",
       "      <th>uuid</th>\n",
       "    </tr>\n",
       "  </thead>\n",
       "  <tbody>\n",
       "    <tr>\n",
       "      <th>0</th>\n",
       "      <td>mcorr</td>\n",
       "      <td>extracted_plane_1</td>\n",
       "      <td>extracted_plane_1.tif</td>\n",
       "      <td>{'main': {'max_shifts': (4, 4), 'strides': (48, 48), 'overlaps': (24, 24), 'max_deviation_rigid': 3, 'border_nan': '...</td>\n",
       "      <td>{'mean-projection-path': 56dfceb9-059b-46c7-a656-f0bea5d93b65/56dfceb9-059b-46c7-a656-f0bea5d93b65_mean_projection.n...</td>\n",
       "      <td>2024-08-16T11:45:16</td>\n",
       "      <td>2024-08-16T11:45:54</td>\n",
       "      <td>22.55 sec</td>\n",
       "      <td>None</td>\n",
       "      <td>56dfceb9-059b-46c7-a656-f0bea5d93b65</td>\n",
       "    </tr>\n",
       "  </tbody>\n",
       "</table>\n",
       "</div>"
      ],
      "text/plain": [
       "    algo          item_name       input_movie_path  \\\n",
       "0  mcorr  extracted_plane_1  extracted_plane_1.tif   \n",
       "\n",
       "                                                                                                                    params  \\\n",
       "0  {'main': {'max_shifts': (4, 4), 'strides': (48, 48), 'overlaps': (24, 24), 'max_deviation_rigid': 3, 'border_nan': '...   \n",
       "\n",
       "                                                                                                                   outputs  \\\n",
       "0  {'mean-projection-path': 56dfceb9-059b-46c7-a656-f0bea5d93b65/56dfceb9-059b-46c7-a656-f0bea5d93b65_mean_projection.n...   \n",
       "\n",
       "            added_time             ran_time algo_duration comments  \\\n",
       "0  2024-08-16T11:45:16  2024-08-16T11:45:54     22.55 sec     None   \n",
       "\n",
       "                                   uuid  \n",
       "0  56dfceb9-059b-46c7-a656-f0bea5d93b65  "
      ]
     },
     "execution_count": 36,
     "metadata": {},
     "output_type": "execute_result"
    }
   ],
   "source": [
    "for i, row in df.iterrows():\n",
    "    if row.uuid not in rows_keep:\n",
    "        df.caiman.remove_item(row.uuid, safe_removal=False)\n",
    "\n",
    "df"
   ]
  },
  {
   "cell_type": "markdown",
   "id": "147fe036-370c-4b40-ad74-c74cc62fb380",
   "metadata": {},
   "source": [
    "Indices are always reset when you use `caiman.remove_item()`. UUIDs are always preserved."
   ]
  },
  {
   "cell_type": "markdown",
   "id": "6dc1260b-634c-49cc-b99b-10c44b3af72d",
   "metadata": {
    "pycharm": {
     "name": "#%% md\n"
    }
   },
   "source": [
    "# CNMF\n",
    "\n",
    "Perform CNMF using the mcorr output.\n",
    "\n",
    "Similar to mcorr, put the CNMF params within the `main` key. The `refit` key will perform a second iteration, as shown in the `caiman` `demo_pipeline.ipynb` notebook."
   ]
  },
  {
   "cell_type": "code",
   "execution_count": 3,
   "id": "cc283595-b82a-4270-a51b-f1d9cdc78d19",
   "metadata": {
    "pycharm": {
     "name": "#%%\n"
    }
   },
   "outputs": [],
   "source": [
    "# some params for CNMF\n",
    "params_cnmf = {\n",
    "    'main': # indicates that these are the \"main\" params for the CNMF algo\n",
    "        {\n",
    "            'fr': 30, # framerate, very important!\n",
    "            'p': 1,\n",
    "            'nb': 2,\n",
    "            'merge_thr': 0.85,\n",
    "            'rf': 15,\n",
    "            'stride': 6, # \"stride\" for cnmf, \"strides\" for mcorr\n",
    "            'K': 4,\n",
    "            'gSig': [4, 4],\n",
    "            'ssub': 1,\n",
    "            'tsub': 1,\n",
    "            'method_init': 'greedy_roi',\n",
    "            'min_SNR': 2.0,\n",
    "            'rval_thr': 0.7,\n",
    "            'use_cnn': True,\n",
    "            'min_cnn_thr': 0.8,\n",
    "            'cnn_lowest': 0.1,\n",
    "            'decay_time': 0.4,\n",
    "        },\n",
    "    'refit': True, # If `True`, run a second iteration of CNMF\n",
    "}"
   ]
  },
  {
   "cell_type": "markdown",
   "id": "31ba4f19-8764-446f-895d-7ff59912f604",
   "metadata": {},
   "source": [
    "# Add CNMF item\n",
    "\n",
    "You can provide the mcorr item row to `input_movie_path` and it will resolve the path of the input movie from the entry in the DataFrame."
   ]
  },
  {
   "cell_type": "code",
   "execution_count": null,
   "id": "29c48dd1-0eb5-48e5-96ab-0b2633983b88",
   "metadata": {
    "pycharm": {
     "name": "#%%\n"
    }
   },
   "outputs": [],
   "source": [
    "good_mcorr_index = 6\n",
    "\n",
    "# add a batch item\n",
    "df.caiman.add_item(\n",
    "    algo='cnmf', # algo is cnmf\n",
    "    input_movie_path=df.iloc[good_mcorr_index],  # use mcorr output from a completed batch item\n",
    "    params=params_cnmf,\n",
    "    item_name=df.iloc[good_mcorr_index][\"item_name\"], # use the same item name\n",
    ")"
   ]
  },
  {
   "cell_type": "markdown",
   "id": "0d34b4eb-e6da-46e8-9899-e322cd64b5f1",
   "metadata": {
    "tags": []
   },
   "source": [
    "See the cnmf item at the bottom of the dataframe"
   ]
  },
  {
   "cell_type": "code",
   "execution_count": null,
   "id": "10308894-6c71-4471-8cb9-d585a8adf0ea",
   "metadata": {},
   "outputs": [],
   "source": [
    "df"
   ]
  },
  {
   "cell_type": "markdown",
   "id": "2b2c7c16-24a1-4893-976e-e52e7430a9c7",
   "metadata": {},
   "source": [
    "# Run CNMF\n",
    "\n",
    "The API is identical to running mcorr"
   ]
  },
  {
   "cell_type": "code",
   "execution_count": null,
   "id": "ba02626d-c9cc-4313-93d6-5ea84dc6b6e5",
   "metadata": {},
   "outputs": [],
   "source": [
    "index = -1  # most recently added item\n",
    "df.iloc[index].caiman.run()"
   ]
  },
  {
   "cell_type": "markdown",
   "id": "bc44542f-d653-40b1-821e-6ba68df6826e",
   "metadata": {},
   "source": [
    "# Reload dataframe"
   ]
  },
  {
   "cell_type": "code",
   "execution_count": null,
   "id": "83bcc946-d5b1-4986-86df-b67d15ed9102",
   "metadata": {},
   "outputs": [],
   "source": [
    "df = df.caiman.reload_from_disk()\n",
    "df"
   ]
  },
  {
   "cell_type": "markdown",
   "id": "c1128142-282d-43f7-83c2-0408066b5f66",
   "metadata": {},
   "source": [
    "# CNMF outputs\n",
    "\n",
    "Similar to mcorr, you can use the `mesmerize-core` API to fetch the outputs. The API reference for CNMF is here: https://mesmerize-core.readthedocs.io/en/latest/api/cnmf.html"
   ]
  },
  {
   "cell_type": "code",
   "execution_count": null,
   "id": "34e7f7de-6a70-4d5d-b999-611509953437",
   "metadata": {},
   "outputs": [],
   "source": [
    "index = -1  # index of the cnmf item, last item in the dataframe\n",
    "\n",
    "# temporal components\n",
    "temporal = df.iloc[index].cnmf.get_temporal()"
   ]
  },
  {
   "cell_type": "code",
   "execution_count": null,
   "id": "9f46abe9-ddcf-4a72-b7b2-3664cb3cbccb",
   "metadata": {},
   "outputs": [],
   "source": [
    "temporal.shape"
   ]
  },
  {
   "cell_type": "markdown",
   "id": "75e4d6de-f397-4142-a152-26cb63bf8b55",
   "metadata": {},
   "source": [
    "Many of the cnmf functions take a rich set of arguments"
   ]
  },
  {
   "cell_type": "code",
   "execution_count": null,
   "id": "1e3a23d5-e26d-49b2-962c-fc3eefc5a80f",
   "metadata": {},
   "outputs": [],
   "source": [
    "# get accepted or rejected components\n",
    "temporal_good = df.iloc[index].cnmf.get_temporal(\"good\")\n",
    "\n",
    "# shape is [n_components, n_frames]\n",
    "temporal_good.shape"
   ]
  },
  {
   "cell_type": "code",
   "execution_count": null,
   "id": "f23f01a8-45c4-4dc6-8e58-f50ef534f035",
   "metadata": {},
   "outputs": [],
   "source": [
    "# get specific components\n",
    "df.iloc[index].cnmf.get_temporal(np.array([1, 5, 9]))"
   ]
  },
  {
   "cell_type": "code",
   "execution_count": null,
   "id": "48b6cad9-f7f4-498b-81b7-856dd1b97613",
   "metadata": {},
   "outputs": [],
   "source": [
    "# get temporal with the residuals, i.e. C + YrA\n",
    "temporal_with_residuals = df.iloc[index].cnmf.get_temporal(add_residuals=True)"
   ]
  },
  {
   "cell_type": "code",
   "execution_count": null,
   "id": "0a6963c9-81f8-4922-8bc3-a2ce468052a4",
   "metadata": {},
   "outputs": [],
   "source": [
    "# get contours\n",
    "contours = df.iloc[index].cnmf.get_contours()"
   ]
  },
  {
   "cell_type": "markdown",
   "id": "cff3ce6e-78ce-4a54-85e5-45caaeb9476f",
   "metadata": {},
   "source": [
    "Returns: `(list of np.ndarray of contour coordinates, list of center of mass)`"
   ]
  },
  {
   "cell_type": "code",
   "execution_count": null,
   "id": "f3d1f01a-7366-4073-9f50-051ee38e0097",
   "metadata": {},
   "outputs": [],
   "source": [
    "print(f\"contour 0 coordinates:\\n\\n{contours[0][0]}\\n\\n com: {contours[1][0]}\")"
   ]
  },
  {
   "cell_type": "code",
   "execution_count": null,
   "id": "67f45923-e273-4c54-8a36-5d609e04c880",
   "metadata": {},
   "outputs": [],
   "source": [
    "len(contours)"
   ]
  },
  {
   "cell_type": "code",
   "execution_count": null,
   "id": "3543a94a-5c07-4ff5-b117-cdbf12fc3b6b",
   "metadata": {},
   "outputs": [],
   "source": [
    "# get_contours() also takes arguments\n",
    "contours_good = df.iloc[index].cnmf.get_contours(\"good\")"
   ]
  },
  {
   "cell_type": "code",
   "execution_count": null,
   "id": "fce4858e-d632-4a98-99f4-d10d67dfb94c",
   "metadata": {},
   "outputs": [],
   "source": [
    "len(contours_good[0]) # number of contours"
   ]
  },
  {
   "cell_type": "markdown",
   "id": "1e0af648-f80c-4b71-9164-4aca607e09da",
   "metadata": {},
   "source": [
    "swap_dim"
   ]
  },
  {
   "cell_type": "code",
   "execution_count": null,
   "id": "0bba44b2-644b-4691-a0af-bd820fdac683",
   "metadata": {
    "tags": []
   },
   "outputs": [],
   "source": [
    "# get the first contour using swap_dim=True (default)\n",
    "swap_dim_true = df.iloc[index].cnmf.get_contours()[0][0]"
   ]
  },
  {
   "cell_type": "code",
   "execution_count": null,
   "id": "286bf44b-7b5d-43b5-9741-7ac0e5e21852",
   "metadata": {},
   "outputs": [],
   "source": [
    "# get the first contour  with swap_dim=False\n",
    "swap_dim_false = df.iloc[index].cnmf.get_contours(swap_dim=False)[0][0]"
   ]
  },
  {
   "cell_type": "code",
   "execution_count": null,
   "id": "9231593d-7069-455f-b0d1-409a61d26ccb",
   "metadata": {},
   "outputs": [],
   "source": [
    "plt.plot(\n",
    "    swap_dim_true[:, 0], \n",
    "    swap_dim_true[:, 1], \n",
    "    label=\"swap_dim=True\"\n",
    ")\n",
    "plt.plot(\n",
    "    swap_dim_false[:, 0], \n",
    "    swap_dim_false[:, 1], \n",
    "    label=\"swap_dim=False\"\n",
    ")\n",
    "plt.legend()"
   ]
  },
  {
   "cell_type": "code",
   "execution_count": null,
   "id": "944252d3-d654-4394-acb7-c620ccb01f85",
   "metadata": {},
   "outputs": [],
   "source": [
    "# swap_dim swaps the x and y dims\n",
    "plt.plot(\n",
    "    swap_dim_true[:, 0], \n",
    "    swap_dim_true[:, 1], \n",
    "    linewidth=30\n",
    ")\n",
    "plt.plot(\n",
    "    swap_dim_false[:, 1], \n",
    "    swap_dim_false[:, 0], \n",
    "    linewidth=10\n",
    ")"
   ]
  },
  {
   "cell_type": "markdown",
   "id": "5c6c8e98-13fd-45c6-9afe-7fc3193ed3de",
   "metadata": {},
   "source": [
    "# Reconstructed movie - `A * C`\n",
    "# Reconstructed background - `b * f`\n",
    "# Residuals - `Y - AC - bf` \n",
    "\n",
    "Mesmerize-core provides these outputs as lazy arrays. This allows you to work with arrays that would otherwise be hundreds of gigabytes or terabytes in size."
   ]
  },
  {
   "cell_type": "code",
   "execution_count": null,
   "id": "c58ce87d-4e75-4026-840c-81b826245ba3",
   "metadata": {},
   "outputs": [],
   "source": [
    "rcm = df.iloc[index].cnmf.get_rcm()\n",
    "rcm"
   ]
  },
  {
   "cell_type": "markdown",
   "id": "2722d48c-e433-4a73-8eec-9e37e053f651",
   "metadata": {},
   "source": [
    "LazyArrays behave like numpy arrays"
   ]
  },
  {
   "cell_type": "code",
   "execution_count": null,
   "id": "1b3de689-d734-4534-b36b-4ffb7f061d7a",
   "metadata": {},
   "outputs": [],
   "source": [
    "rcm[42]"
   ]
  },
  {
   "cell_type": "code",
   "execution_count": null,
   "id": "980b03b1-c2d3-44dc-a741-d43dd689abca",
   "metadata": {},
   "outputs": [],
   "source": [
    "rcm[10:20].shape"
   ]
  },
  {
   "cell_type": "markdown",
   "id": "c6fe2ca3-0255-43fd-9ae2-c635b2d0355a",
   "metadata": {},
   "source": [
    "# Using LazyArrays"
   ]
  },
  {
   "cell_type": "code",
   "execution_count": null,
   "id": "cf4f70d3-badc-4339-92f8-1ac0351e64b6",
   "metadata": {},
   "outputs": [],
   "source": [
    "rcm_accepted = df.iloc[index].cnmf.get_rcm(\"good\")\n",
    "rcm_rejected = df.iloc[index].cnmf.get_rcm(\"bad\")"
   ]
  },
  {
   "cell_type": "code",
   "execution_count": null,
   "id": "96b638ee-ce7e-4c58-a2e5-3d46b986d04a",
   "metadata": {},
   "outputs": [],
   "source": [
    "iw_max = fpl.ImageWidget(\n",
    "    data=[rcm_accepted.max_image, rcm_rejected.max_image],\n",
    "    names=[\"accepted\", \"rejected\"],\n",
    "    grid_plot_kwargs={\"size\": (900, 450)},\n",
    "    cmap=\"gnuplot2\"\n",
    ")\n",
    "iw_max.show()"
   ]
  },
  {
   "cell_type": "code",
   "execution_count": null,
   "id": "0517f807-bb71-4152-b1ad-ad785d4108cc",
   "metadata": {},
   "outputs": [],
   "source": [
    "iw_rcm_separated = fpl.ImageWidget(\n",
    "    data=[rcm_accepted, rcm_rejected],\n",
    "    names=[\"accepted\", \"rejected\"],\n",
    "    grid_plot_kwargs={\"size\": (900, 450)},\n",
    "    cmap=\"gnuplot2\"\n",
    ")\n",
    "iw_rcm_separated.show()"
   ]
  },
  {
   "cell_type": "markdown",
   "id": "934dc203-fa0c-4c1e-b8e9-0c6dba91ef3d",
   "metadata": {},
   "source": [
    "# All CNMF LazyArrays"
   ]
  },
  {
   "cell_type": "code",
   "execution_count": null,
   "id": "6e2acd69-bd4b-455e-85fd-b55c588e3057",
   "metadata": {},
   "outputs": [],
   "source": [
    "rcb = df.iloc[index].cnmf.get_rcb()\n",
    "residuals = df.iloc[index].cnmf.get_residuals()\n",
    "input_movie = df.iloc[index].caiman.get_input_movie()"
   ]
  },
  {
   "cell_type": "markdown",
   "id": "fe635528-550a-43cd-b343-931a9a0410b8",
   "metadata": {},
   "source": [
    "`ImageWidget` accepts arrays that are sufficiently numpy-like"
   ]
  },
  {
   "cell_type": "code",
   "execution_count": null,
   "id": "9b3efeec-3578-4863-bff4-0100cc489ccb",
   "metadata": {},
   "outputs": [],
   "source": [
    "iw_rcm = fpl.ImageWidget(\n",
    "    data=[input_movie, rcm, rcb, residuals], \n",
    "    grid_plot_kwargs={\"size\": (800, 600)}, \n",
    "    cmap=\"gnuplot2\"\n",
    ")\n",
    "iw_rcm.show()"
   ]
  },
  {
   "cell_type": "code",
   "execution_count": null,
   "id": "0cbc13a6-11a0-4f98-bc4d-a3c7bb25fc53",
   "metadata": {},
   "outputs": [],
   "source": [
    "iw_rcm.close()"
   ]
  },
  {
   "cell_type": "markdown",
   "id": "d449a312-2af9-423e-94c2-a3ab4fa374e7",
   "metadata": {},
   "source": [
    "# Visualize everything with `mesmerize-viz`"
   ]
  },
  {
   "cell_type": "code",
   "execution_count": null,
   "id": "d4ec1b2f-e992-42b7-902c-14cc78ba8d99",
   "metadata": {},
   "outputs": [],
   "source": [
    "viz_cnmf = df.cnmf.viz()\n",
    "viz_cnmf.show()"
   ]
  },
  {
   "cell_type": "code",
   "execution_count": null,
   "id": "db8c98a1-2d21-400c-9bba-fcd3e450e5da",
   "metadata": {},
   "outputs": [],
   "source": [
    "viz_cnmf.close()"
   ]
  },
  {
   "cell_type": "markdown",
   "id": "ae1b2d80-1d6f-403b-b98a-3471c96f57d6",
   "metadata": {},
   "source": [
    "# Parameter Gridsearch\n",
    "\n",
    "As shown for motion correction, the purpose of `mesmerize-core` is to perform parameter searches"
   ]
  },
  {
   "cell_type": "code",
   "execution_count": null,
   "id": "fc7684d2-3d2c-43ac-9064-ba3997f7a1c8",
   "metadata": {},
   "outputs": [],
   "source": [
    "# itertools.product makes it easy to loop through parameter variants\n",
    "# basically, it's easier to read that deeply nested for loops\n",
    "from itertools import product\n",
    "\n",
    "# variants of several parameters\n",
    "gSig_variants = [4, 6]\n",
    "K_variants = [4, 8]\n",
    "merge_thr_variants = [0.8, 0.95]\n",
    "\n",
    "# always use deepcopy like before\n",
    "new_params_cnmf = deepcopy(params_cnmf)\n",
    "\n",
    "# create a parameter grid\n",
    "parameter_grid = product(gSig_variants, K_variants, merge_thr_variants)\n",
    "\n",
    "# a single for loop to go through all the various parameter combinations\n",
    "for gSig, K, merge_thr in parameter_grid:\n",
    "    # deep copy params dict just like before\n",
    "    new_params_cnmf = deepcopy(new_params_cnmf)\n",
    "    \n",
    "    new_params_cnmf[\"main\"][\"gSig\"] = [gSig, gSig]\n",
    "    new_params_cnmf[\"main\"][\"K\"] = K\n",
    "    new_params_cnmf[\"main\"][\"merge_thr\"] = merge_thr\n",
    "    \n",
    "    # add param combination variant to batch\n",
    "    df.caiman.add_item(\n",
    "        algo=\"cnmf\",\n",
    "        item_name=df.iloc[good_mcorr_index][\"item_name\"],  # good mcorr item\n",
    "        input_movie_path=df.iloc[good_mcorr_index],\n",
    "        params=new_params_cnmf\n",
    "    )"
   ]
  },
  {
   "cell_type": "markdown",
   "id": "5cb21a8e-709d-4888-bbd9-42653f700240",
   "metadata": {},
   "source": [
    "We now have lot of cnmf items"
   ]
  },
  {
   "cell_type": "code",
   "execution_count": null,
   "id": "0fb3f94d-34d2-4eef-ad2d-b4f6db89fa72",
   "metadata": {},
   "outputs": [],
   "source": [
    "df"
   ]
  },
  {
   "cell_type": "markdown",
   "id": "9bf8dce3-b0f7-43b0-b719-774673b6cb25",
   "metadata": {},
   "source": [
    "View the diffs"
   ]
  },
  {
   "cell_type": "code",
   "execution_count": null,
   "id": "80b98249-b3b5-4481-a4e2-dbdcbf8d1ed9",
   "metadata": {},
   "outputs": [],
   "source": [
    "df.caiman.get_params_diffs(algo=\"cnmf\", item_name=df.iloc[-1][\"item_name\"])"
   ]
  },
  {
   "cell_type": "markdown",
   "id": "628a194f-39c3-45a7-a029-53925763cc1e",
   "metadata": {},
   "source": [
    "# Run the `cnmf` batch items"
   ]
  },
  {
   "cell_type": "code",
   "execution_count": null,
   "id": "ee0b9ac5-f66d-4370-842c-8655f5469286",
   "metadata": {},
   "outputs": [],
   "source": [
    "for i, row in df.iterrows():\n",
    "    if row[\"outputs\"] is not None: # item has already been run\n",
    "        continue # skip\n",
    "        \n",
    "    process = row.caiman.run()\n",
    "    \n",
    "    # on Windows you MUST reload the batch dataframe after every iteration because it uses the `local` backend.\n",
    "    # this is unnecessary on Linux & Mac\n",
    "    # \"DummyProcess\" is used for local backend so this is automatic\n",
    "    if process.__class__.__name__ == \"DummyProcess\":\n",
    "        df = df.caiman.reload_from_disk()"
   ]
  },
  {
   "cell_type": "markdown",
   "id": "348d0757-675d-4a2d-a024-559507830e31",
   "metadata": {},
   "source": [
    "# Load outputs"
   ]
  },
  {
   "cell_type": "code",
   "execution_count": null,
   "id": "80f3eca7-916a-4e4e-a109-5906b4c91c7d",
   "metadata": {},
   "outputs": [],
   "source": [
    "df = df.caiman.reload_from_disk()"
   ]
  },
  {
   "cell_type": "code",
   "execution_count": null,
   "id": "c2981938-0583-4407-8035-12d11d1535bc",
   "metadata": {},
   "outputs": [],
   "source": [
    "df"
   ]
  },
  {
   "cell_type": "markdown",
   "id": "597b900e-e47a-4e48-b101-63f9ebf909cd",
   "metadata": {},
   "source": [
    "# Visualize with `mesmerize-viz`"
   ]
  },
  {
   "cell_type": "code",
   "execution_count": null,
   "id": "d4fb527d-0444-4fb4-a703-e9d12f03cfd9",
   "metadata": {},
   "outputs": [],
   "source": [
    "viz_cnmf = df.cnmf.viz()\n",
    "viz_cnmf.show(sidecar=True)"
   ]
  },
  {
   "cell_type": "markdown",
   "id": "b3df8f51-dcc7-4e45-b968-f38147e1e415",
   "metadata": {},
   "source": [
    "# Caiman docs on component eval\n",
    "\n",
    "https://caiman.readthedocs.io/en/latest/Getting_Started.html#component-evaluation\n",
    "\n",
    "> The quality of detected components is evaluated with three parameters:\n",
    ">\n",
    "> Spatial footprint consistency (rval): The spatial footprint of the component is compared with the frames where this component is active. Other component’s signals are subtracted from these frames, and the resulting raw data is correlated against the spatial component. This ensures that the raw data at the spatial footprint aligns with the extracted trace.\n",
    ">\n",
    "> Trace signal-noise-ratio (SNR): Peak SNR is calculated from strong calcium transients and the noise estimate.\n",
    ">\n",
    "> CNN-based classifier (cnn): The shape of components is evaluated by a 4-layered convolutional neural network trained on a manually annotated dataset. The CNN assigns a value of 0-1 to each component depending on its resemblance to a neuronal soma.\n",
    "> \n",
    "> Each parameter has a low threshold:\n",
    "> - (rval_lowest (default -1), SNR_lowest (default 0.5), cnn_lowest (default 0.1))\n",
    ">\n",
    "> and high threshold\n",
    "> \n",
    "> - (rval_thr (default 0.8), min_SNR (default 2.5), min_cnn_thr (default 0.9))\n",
    "> \n",
    "> A component has to exceed ALL low thresholds as well as ONE high threshold to be accepted."
   ]
  },
  {
   "cell_type": "markdown",
   "id": "97566a87-2182-496d-9dfb-83ede10ab95f",
   "metadata": {},
   "source": [
    "# This rich visualization is still customizable!\n",
    "\n",
    "Public attributes:\n",
    "\n",
    "- `image_widget`: the `ImageWidget` in the visualization\n",
    "- `plot_temporal`: the `Plot` with the temporal\n",
    "- `plot_heatmap`: the `Plot` with the heatmap\n",
    "- `cnmf_obj`: The cnmf object currently being visualized. This object gets saved to disk when you click the \"Save Eval to disk\" button.\n",
    "- `component_index`: current component index, `int`\n",
    "\n",
    "A few public methods:\n",
    "- `show()` show the visualization\n",
    "- `set_component_index(index: int)` manually set the component index"
   ]
  },
  {
   "cell_type": "code",
   "execution_count": null,
   "id": "6d8d70d0-eaa4-4ce2-a9f4-e5c0fc9474ed",
   "metadata": {},
   "outputs": [],
   "source": [
    "viz_cnmf.image_widget.cmap = \"gray\""
   ]
  },
  {
   "cell_type": "code",
   "execution_count": null,
   "id": "778a211b-a4a3-4b36-b441-32c9b367a5ce",
   "metadata": {},
   "outputs": [],
   "source": [
    "viz_cnmf.plot_heatmap"
   ]
  },
  {
   "cell_type": "code",
   "execution_count": null,
   "id": "e53a507c-a274-4b41-be16-99530de5006d",
   "metadata": {},
   "outputs": [],
   "source": [
    "viz_cnmf.plot_heatmap[\"heatmap\"].cmap = \"viridis\""
   ]
  },
  {
   "cell_type": "code",
   "execution_count": null,
   "id": "bb2db848-272d-4001-92cc-369e9d2d62b6",
   "metadata": {},
   "outputs": [],
   "source": [
    "viz_cnmf.plot_heatmap[\"heatmap\"].cmap.vmax"
   ]
  },
  {
   "cell_type": "code",
   "execution_count": null,
   "id": "33758ab0-b355-450f-8edc-dc9fa5b7364f",
   "metadata": {},
   "outputs": [],
   "source": [
    "viz_cnmf.plot_heatmap[\"heatmap\"].cmap.vmax = 2_000"
   ]
  },
  {
   "cell_type": "markdown",
   "id": "b60a5224-9945-4f15-9ecb-99d448745942",
   "metadata": {},
   "source": [
    "Customize contours"
   ]
  },
  {
   "cell_type": "code",
   "execution_count": null,
   "id": "7668b133-0431-464e-af1d-0ce353628e6e",
   "metadata": {},
   "outputs": [],
   "source": [
    "for subplot in viz_cnmf.image_widget.gridplot:\n",
    "    subplot[\"contours\"][:].thickness = 1.0"
   ]
  },
  {
   "cell_type": "code",
   "execution_count": null,
   "id": "4e238b53-9f20-44b3-ab99-94332f93b949",
   "metadata": {},
   "outputs": [],
   "source": [
    "for subplot in viz_cnmf.image_widget.gridplot:\n",
    "    subplot[\"contours\"].visible = False"
   ]
  },
  {
   "cell_type": "code",
   "execution_count": null,
   "id": "61508674-8ed6-4ae2-a232-44a55bd4c646",
   "metadata": {},
   "outputs": [],
   "source": [
    "for subplot in viz_cnmf.image_widget.gridplot:\n",
    "    subplot[\"contours\"].visible = True"
   ]
  },
  {
   "cell_type": "code",
   "execution_count": null,
   "id": "29abcc5a-7ecc-4e95-8532-f1a4dcc3e1f2",
   "metadata": {},
   "outputs": [],
   "source": [
    "viz_cnmf.plot_temporal[\"line\"].thickness()"
   ]
  },
  {
   "cell_type": "code",
   "execution_count": null,
   "id": "14ae170b-096c-421d-b47d-13042ab8e4cf",
   "metadata": {},
   "outputs": [],
   "source": [
    "viz_cnmf.plot_temporal[\"line\"].thickness = 1"
   ]
  },
  {
   "cell_type": "markdown",
   "id": "31dd4191-9781-45b4-84cb-35a62597fb6c",
   "metadata": {},
   "source": [
    "# Visualize fewer things"
   ]
  },
  {
   "cell_type": "code",
   "execution_count": null,
   "id": "6581e60e-8827-490d-af5f-3ff8b5308680",
   "metadata": {},
   "outputs": [],
   "source": [
    "viz_simple = df.cnmf.viz(\n",
    "    image_data_options=[\"input\", \"rcm\"],\n",
    ")\n",
    "viz_simple.show(sidecar=True)"
   ]
  },
  {
   "cell_type": "markdown",
   "id": "a5479abd-2f34-4e6e-bd64-702720e25ff4",
   "metadata": {},
   "source": [
    "# More customization of kwargs"
   ]
  },
  {
   "cell_type": "code",
   "execution_count": null,
   "id": "20845bb1-5f27-4c60-8638-2d17a03cff99",
   "metadata": {
    "tags": []
   },
   "outputs": [],
   "source": [
    "viz_more_custom = df.cnmf.viz(\n",
    "    image_data_options=[\"input\", \"rcm\", \"rcm-max\", \"corr\"],\n",
    "    temporal_kwargs={\"add_residuals\": True},\n",
    ")"
   ]
  },
  {
   "cell_type": "code",
   "execution_count": null,
   "id": "1e8f57c5-9f9e-495a-aa44-86f18c886eed",
   "metadata": {},
   "outputs": [],
   "source": [
    "viz_more_custom.show(sidecar=True)"
   ]
  }
 ],
 "metadata": {
  "kernelspec": {
   "display_name": "Python 3 (ipykernel)",
   "language": "python",
   "name": "python3"
  },
  "language_info": {
   "codemirror_mode": {
    "name": "ipython",
    "version": 3
   },
   "file_extension": ".py",
   "mimetype": "text/x-python",
   "name": "python",
   "nbconvert_exporter": "python",
   "pygments_lexer": "ipython3",
   "version": "3.11.9"
  }
 },
 "nbformat": 4,
 "nbformat_minor": 5
}
