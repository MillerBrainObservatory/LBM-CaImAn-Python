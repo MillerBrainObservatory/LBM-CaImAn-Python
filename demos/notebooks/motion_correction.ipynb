{
 "cells": [
  {
   "cell_type": "markdown",
   "id": "dbb6bb2d-6a7e-4578-bc24-d93aa638c7e3",
   "metadata": {},
   "source": [
    "# LBM Step 2: Registration\n",
    "\n",
    "## Registration: Correct for rigid/non-rigid movement\n",
    "\n",
    "- Apply the nonrigid motion correction (NoRMCorre) algorithm for motion correction.\n",
    "- View pre/most correction movie\n",
    "- Use quality metrics to evaluate registration quality"
   ]
  },
  {
   "cell_type": "code",
   "execution_count": 1,
   "id": "8aa5aa21-1f82-4d37-b2ad-1c0239d1d38f",
   "metadata": {
    "ExecuteTime": {
     "end_time": "2024-09-26T18:47:07.425605Z",
     "start_time": "2024-09-26T18:47:02.424798Z"
    }
   },
   "outputs": [],
   "source": [
    "from pathlib import Path\n",
    "import os\n",
    "import sys\n",
    "import numpy as np\n",
    "# import zarr\n",
    "import pandas as pd\n",
    "\n",
    "import logging\n",
    "import mesmerize_core as mc\n",
    "from mesmerize_viz import *\n",
    "\n",
    "from mesmerize_core.caiman_extensions.cnmf import cnmf_cache\n",
    "from caiman.summary_images import correlation_pnr\n",
    "\n",
    "# import napari\n",
    "\n",
    "# import matplotlib.pyplot as plt\n",
    "\n",
    "sys.path.append('../..')  # TODO: Take this out when we upload to pypi\n",
    "# import lbm_caiman_python as lcp\n",
    "\n",
    "# try:\n",
    "#     import cv2\n",
    "#     cv2.setNumThreads(0)\n",
    "# except():\n",
    "#     pass\n",
    "\n",
    "# logging.basicConfig()\n",
    "\n",
    "# os.environ['WAYLAND_DISPLAY'] = ''\n",
    "# os.environ['RUST_LOG'] = 'info'\n",
    "# os.environ['WINIT_UNIX_BACKEND'] = 'x11'\n",
    "\n",
    "# os.environ[\"QT_PLATFORM_PLUGIN\"] = \"xcb\"\n",
    "# os.environ[\"CONDA_PREFIX_1\"] = \"\"\n",
    "\n",
    "if os.name == \"nt\":\n",
    "    # disable the cache on windows, this will be automatic in a future version\n",
    "    cnmf_cache.set_maxsize(0)\n",
    "\n",
    "pd.options.display.max_colwidth = 120"
   ]
  },
  {
   "cell_type": "code",
   "execution_count": 7,
   "id": "7d7e2684",
   "metadata": {},
   "outputs": [],
   "source": [
    "from mesmerize_core import *\n",
    "import tifffile\n",
    "import numpy as np\n",
    "from matplotlib import pyplot as plt\n",
    "import seaborn as sns\n",
    "from copy import deepcopy\n",
    "import pandas as pd"
   ]
  },
  {
   "cell_type": "markdown",
   "id": "a14b429a",
   "metadata": {},
   "source": [
    "## Logging"
   ]
  },
  {
   "cell_type": "code",
   "execution_count": 2,
   "id": "d579452a",
   "metadata": {
    "ExecuteTime": {
     "end_time": "2024-09-26T17:13:21.339092Z",
     "start_time": "2024-09-26T17:13:21.331092Z"
    }
   },
   "outputs": [],
   "source": [
    "# set up logging\n",
    "debug = True\n",
    "\n",
    "logger = logging.getLogger(\"caiman\")\n",
    "logger.setLevel(logging.WARNING)\n",
    "handler = logging.StreamHandler()\n",
    "log_format = logging.Formatter(\"%(relativeCreated)12d [%(filename)s:%(funcName)10s():%(lineno)s] [%(process)d] %(message)s\")\n",
    "handler.setFormatter(log_format)\n",
    "logger.addHandler(handler)\n",
    "\n",
    "# set env variables\n",
    "os.environ[\"MKL_NUM_THREADS\"] = \"1\"\n",
    "os.environ[\"OPENBLAS_NUM_THREADS\"] = \"1\"\n",
    "os.environ[\"VECLIB_MAXIMUM_THREADS\"] = \"1\"\n",
    "\n",
    "if debug:\n",
    "   logging.getLogger(\"caiman\").setLevel(logging.DEBUG)"
   ]
  },
  {
   "cell_type": "markdown",
   "id": "f3d31d51",
   "metadata": {},
   "source": [
    "## (optional): View hardware information"
   ]
  },
  {
   "cell_type": "code",
   "execution_count": 3,
   "id": "1de17a08-4caf-4748-becb-468cb65958f7",
   "metadata": {
    "ExecuteTime": {
     "end_time": "2024-09-26T16:48:53.486986Z",
     "start_time": "2024-09-26T16:48:52.676479Z"
    }
   },
   "outputs": [
    {
     "name": "stdout",
     "output_type": "stream",
     "text": [
      "*** No help on # dont forget to call it after the install as it sets some defaults\n",
      "+------------------+----------------------------------------------------------------------------------------------+\n",
      "| Attribute        | Value                                                                                        |\n",
      "+------------------+----------------------------------------------------------------------------------------------+\n",
      "| cpu              |                                                                                              |\n",
      "| cpu_cores        | 24                                                                                           |\n",
      "| cpu_count        | 32                                                                                           |\n",
      "| cpu_threads      | 32                                                                                           |\n",
      "| date             | 2024-09-26 12:48:53.444986                                                                   |\n",
      "| frequency        | scpufreq(current=3200.0, min=0.0, max=3200.0)                                                |\n",
      "| mem.available    | 97.5 GiB                                                                                     |\n",
      "| mem.free         | 97.5 GiB                                                                                     |\n",
      "| mem.percent      | 23.7 %                                                                                       |\n",
      "| mem.total        | 127.8 GiB                                                                                    |\n",
      "| mem.used         | 30.3 GiB                                                                                     |\n",
      "| platform.version | ('10', '10.0.19045', 'SP0', 'Multiprocessor Free')                                           |\n",
      "| python           | 3.10.8 | packaged by conda-forge | (main, Nov 22 2022, 08:16:53) [MSC v.1929 64 bit (AMD64)] |\n",
      "| python.pip       | 24.0                                                                                         |\n",
      "| python.version   | 3.10.8                                                                                       |\n",
      "| sys.platform     | win32                                                                                        |\n",
      "| uname.machine    | AMD64                                                                                        |\n",
      "| uname.node       | RBO-C2                                                                                       |\n",
      "| uname.processor  | Intel64 Family 6 Model 183 Stepping 1, GenuineIntel                                          |\n",
      "| uname.release    | 10                                                                                           |\n",
      "| uname.system     | Windows                                                                                      |\n",
      "| uname.version    | 10.0.19045                                                                                   |\n",
      "| user             | RBO                                                                                          |\n",
      "+------------------+----------------------------------------------------------------------------------------------+\n"
     ]
    }
   ],
   "source": [
    "# !pip install cloudmesh-cmd5\n",
    "!cms help # dont forget to call it after the install as it sets some defaults\n",
    "!cms sysinfo"
   ]
  },
  {
   "cell_type": "markdown",
   "id": "c9c56ef1-7536-45c0-ba27-06de0f66242c",
   "metadata": {},
   "source": [
    "## User input: input data path and plane number\n",
    "\n",
    "the same path as [pre_processing](./pre_processing.ipynb)\n",
    "parent_dir = Path().home() / 'caiman_data' / 'animal_01' / 'session_01'"
   ]
  },
  {
   "cell_type": "code",
   "execution_count": 8,
   "id": "3fbe7569",
   "metadata": {
    "ExecuteTime": {
     "end_time": "2024-09-26T18:46:30.654324Z",
     "start_time": "2024-09-26T18:46:30.636324Z"
    }
   },
   "outputs": [
    {
     "data": {
      "text/html": [
       "<div>\n",
       "<style scoped>\n",
       "    .dataframe tbody tr th:only-of-type {\n",
       "        vertical-align: middle;\n",
       "    }\n",
       "\n",
       "    .dataframe tbody tr th {\n",
       "        vertical-align: top;\n",
       "    }\n",
       "\n",
       "    .dataframe thead th {\n",
       "        text-align: right;\n",
       "    }\n",
       "</style>\n",
       "<table border=\"1\" class=\"dataframe\">\n",
       "  <thead>\n",
       "    <tr style=\"text-align: right;\">\n",
       "      <th></th>\n",
       "      <th>algo</th>\n",
       "      <th>item_name</th>\n",
       "      <th>input_movie_path</th>\n",
       "      <th>params</th>\n",
       "      <th>outputs</th>\n",
       "      <th>added_time</th>\n",
       "      <th>ran_time</th>\n",
       "      <th>algo_duration</th>\n",
       "      <th>comments</th>\n",
       "      <th>uuid</th>\n",
       "    </tr>\n",
       "  </thead>\n",
       "  <tbody>\n",
       "    <tr>\n",
       "      <th>0</th>\n",
       "      <td>mcorr</td>\n",
       "      <td>session_01</td>\n",
       "      <td>mov</td>\n",
       "      <td>{'main': {'var_name_hdf5': 'mov', 'max_shifts': (10, 10), 'strides': (48, 48), 'overlaps': (24, 24), 'max_deviation_...</td>\n",
       "      <td>{'success': False, 'traceback': 'Traceback (most recent call last):\n",
       "  File \"c:\\Users\\RBO\\miniconda3\\envs\\mbo-caiman\\...</td>\n",
       "      <td>2024-09-25T20:23:56</td>\n",
       "      <td>2024-09-25T20:24:05</td>\n",
       "      <td>0.16 sec</td>\n",
       "      <td>None</td>\n",
       "      <td>995691a6-26b8-410d-b6bb-010c4e3c8281</td>\n",
       "    </tr>\n",
       "    <tr>\n",
       "      <th>1</th>\n",
       "      <td>mcorr</td>\n",
       "      <td>extracted_plane_1</td>\n",
       "      <td>tiff\\extracted_plane_1.tif</td>\n",
       "      <td>{'main': {'var_name_hdf5': 'mov', 'max_shifts': (10, 10), 'strides': (48, 48), 'overlaps': (24, 24), 'max_deviation_...</td>\n",
       "      <td>{'mean-projection-path': b32f41bf-a9a5-4965-be7c-e6779e854328\\b32f41bf-a9a5-4965-be7c-e6779e854328_mean_projection.n...</td>\n",
       "      <td>2024-09-26T11:56:54</td>\n",
       "      <td>2024-09-26T12:02:55</td>\n",
       "      <td>77.3 sec</td>\n",
       "      <td>None</td>\n",
       "      <td>b32f41bf-a9a5-4965-be7c-e6779e854328</td>\n",
       "    </tr>\n",
       "  </tbody>\n",
       "</table>\n",
       "</div>"
      ],
      "text/plain": [
       "    algo          item_name            input_movie_path  \\\n",
       "0  mcorr         session_01                         mov   \n",
       "1  mcorr  extracted_plane_1  tiff\\extracted_plane_1.tif   \n",
       "\n",
       "                                                                                                                    params  \\\n",
       "0  {'main': {'var_name_hdf5': 'mov', 'max_shifts': (10, 10), 'strides': (48, 48), 'overlaps': (24, 24), 'max_deviation_...   \n",
       "1  {'main': {'var_name_hdf5': 'mov', 'max_shifts': (10, 10), 'strides': (48, 48), 'overlaps': (24, 24), 'max_deviation_...   \n",
       "\n",
       "                                                                                                                   outputs  \\\n",
       "0  {'success': False, 'traceback': 'Traceback (most recent call last):\n",
       "  File \"c:\\Users\\RBO\\miniconda3\\envs\\mbo-caiman\\...   \n",
       "1  {'mean-projection-path': b32f41bf-a9a5-4965-be7c-e6779e854328\\b32f41bf-a9a5-4965-be7c-e6779e854328_mean_projection.n...   \n",
       "\n",
       "            added_time             ran_time algo_duration comments  \\\n",
       "0  2024-09-25T20:23:56  2024-09-25T20:24:05      0.16 sec     None   \n",
       "1  2024-09-26T11:56:54  2024-09-26T12:02:55      77.3 sec     None   \n",
       "\n",
       "                                   uuid  \n",
       "0  995691a6-26b8-410d-b6bb-010c4e3c8281  \n",
       "1  b32f41bf-a9a5-4965-be7c-e6779e854328  "
      ]
     },
     "execution_count": 8,
     "metadata": {},
     "output_type": "execute_result"
    }
   ],
   "source": [
    "# File locations:\n",
    "# - batch.pickle parent directory\n",
    "# - input movie\n",
    "\n",
    "# parent_path = Path().home() / \"caiman_data_org\"\n",
    "parent_path = Path().home() / \"caiman_data\" / 'animal_01' / 'session_01'\n",
    "save_path = parent_path / 'motion_correction'\n",
    "\n",
    "# for TIFF\n",
    "# tiff_path = parent_path / 'tiff'\n",
    "# tiff_files = [x for x in Path(tiff_path).glob('*.tif*')]\n",
    "\n",
    "# for ZARR\n",
    "movie_path = parent_path \n",
    "movie = zarr.open(movie_path)['mov']\n",
    "\n",
    "reg_batch_path = parent_path / 'batch.pickle'\n",
    "df = mc.load_batch(reg_batch_path)\n",
    "# df = lcp.lbm_load_batch(reg_batch_path, overwrite=False)\n",
    "\n",
    "df=df.caiman.reload_from_disk()\n",
    "df"
   ]
  },
  {
   "cell_type": "code",
   "execution_count": 6,
   "id": "73806510",
   "metadata": {
    "ExecuteTime": {
     "end_time": "2024-09-26T16:49:33.718379Z",
     "start_time": "2024-09-26T16:49:33.699378Z"
    }
   },
   "outputs": [
    {
     "data": {
      "text/plain": [
       "[WindowsPath('C:/Users/RBO/caiman_data/animal_01/session_01/tiff/extracted_plane_1.tif'),\n",
       " WindowsPath('C:/Users/RBO/caiman_data/animal_01/session_01/tiff/extracted_plane_10.tif'),\n",
       " WindowsPath('C:/Users/RBO/caiman_data/animal_01/session_01/tiff/extracted_plane_11.tif'),\n",
       " WindowsPath('C:/Users/RBO/caiman_data/animal_01/session_01/tiff/extracted_plane_12.tif'),\n",
       " WindowsPath('C:/Users/RBO/caiman_data/animal_01/session_01/tiff/extracted_plane_13.tif'),\n",
       " WindowsPath('C:/Users/RBO/caiman_data/animal_01/session_01/tiff/extracted_plane_14.tif'),\n",
       " WindowsPath('C:/Users/RBO/caiman_data/animal_01/session_01/tiff/extracted_plane_15.tif'),\n",
       " WindowsPath('C:/Users/RBO/caiman_data/animal_01/session_01/tiff/extracted_plane_16.tif'),\n",
       " WindowsPath('C:/Users/RBO/caiman_data/animal_01/session_01/tiff/extracted_plane_17.tif'),\n",
       " WindowsPath('C:/Users/RBO/caiman_data/animal_01/session_01/tiff/extracted_plane_18.tif'),\n",
       " WindowsPath('C:/Users/RBO/caiman_data/animal_01/session_01/tiff/extracted_plane_19.tif'),\n",
       " WindowsPath('C:/Users/RBO/caiman_data/animal_01/session_01/tiff/extracted_plane_2.tif'),\n",
       " WindowsPath('C:/Users/RBO/caiman_data/animal_01/session_01/tiff/extracted_plane_20.tif'),\n",
       " WindowsPath('C:/Users/RBO/caiman_data/animal_01/session_01/tiff/extracted_plane_21.tif'),\n",
       " WindowsPath('C:/Users/RBO/caiman_data/animal_01/session_01/tiff/extracted_plane_22.tif'),\n",
       " WindowsPath('C:/Users/RBO/caiman_data/animal_01/session_01/tiff/extracted_plane_23.tif'),\n",
       " WindowsPath('C:/Users/RBO/caiman_data/animal_01/session_01/tiff/extracted_plane_24.tif'),\n",
       " WindowsPath('C:/Users/RBO/caiman_data/animal_01/session_01/tiff/extracted_plane_25.tif'),\n",
       " WindowsPath('C:/Users/RBO/caiman_data/animal_01/session_01/tiff/extracted_plane_26.tif'),\n",
       " WindowsPath('C:/Users/RBO/caiman_data/animal_01/session_01/tiff/extracted_plane_27.tif'),\n",
       " WindowsPath('C:/Users/RBO/caiman_data/animal_01/session_01/tiff/extracted_plane_28.tif'),\n",
       " WindowsPath('C:/Users/RBO/caiman_data/animal_01/session_01/tiff/extracted_plane_29.tif'),\n",
       " WindowsPath('C:/Users/RBO/caiman_data/animal_01/session_01/tiff/extracted_plane_3.tif'),\n",
       " WindowsPath('C:/Users/RBO/caiman_data/animal_01/session_01/tiff/extracted_plane_30.tif'),\n",
       " WindowsPath('C:/Users/RBO/caiman_data/animal_01/session_01/tiff/extracted_plane_4.tif'),\n",
       " WindowsPath('C:/Users/RBO/caiman_data/animal_01/session_01/tiff/extracted_plane_5.tif'),\n",
       " WindowsPath('C:/Users/RBO/caiman_data/animal_01/session_01/tiff/extracted_plane_6.tif'),\n",
       " WindowsPath('C:/Users/RBO/caiman_data/animal_01/session_01/tiff/extracted_plane_7.tif'),\n",
       " WindowsPath('C:/Users/RBO/caiman_data/animal_01/session_01/tiff/extracted_plane_8.tif'),\n",
       " WindowsPath('C:/Users/RBO/caiman_data/animal_01/session_01/tiff/extracted_plane_9.tif')]"
      ]
     },
     "execution_count": 6,
     "metadata": {},
     "output_type": "execute_result"
    }
   ],
   "source": [
    "sorted(tiff_files)"
   ]
  },
  {
   "cell_type": "markdown",
   "id": "dfa456bf",
   "metadata": {},
   "source": [
    "# Default registration parameters\n",
    "\n",
    "The parameters are passed **directly** to `caiman`, this means you need to use the same exact names for the parameters and you can use all the parameters that you can use with `caiman` - because it's just passing them to `caiman`.\n",
    "\n",
    "The parameters dict for a mesmerize batch item must have the following structure. Put all the parameters in a dict under a key called **main**. The **main** dict is then fed directly to `caiman`.\n",
    "\n",
    "```python\n",
    "{\"main\": {... params directly passed to caiman}}\n",
    "```"
   ]
  },
  {
   "cell_type": "code",
   "execution_count": 6,
   "id": "aea4b016",
   "metadata": {},
   "outputs": [],
   "source": [
    "pix_res = 1\n",
    "\n",
    "mx = 10/pix_res\n",
    "max_shifts = (int(mx), int(mx))       # maximum allowed rigid shift in pixels (view the movie to get a sense of motion)\n",
    "max_deviation_rigid = 3               # maximum deviation allowed for patch with respect to rigid shifts\n",
    "pw_rigid = True                # flag for performing rigid or piecewise rigid motion correction\n",
    "shifts_opencv = True        # flag for correcting motion using bicubic interpolation (otherwise FFT interpolation is used)\n",
    "border_nan = 'copy'                   # replicate values along the boundary (if True, fill in with NaN)\n",
    "\n",
    "mcorr_params = {\n",
    "    'main':  # this key is necessary for specifying that these are the \"main\" params for the algorithm\n",
    "    {\n",
    "        'var_name_hdf5': 'mov',\n",
    "        'max_shifts': max_shifts,\n",
    "        'strides': [48, 48],\n",
    "        'overlaps': [24, 24],\n",
    "        'max_deviation_rigid': 3,\n",
    "        'border_nan':border_nan,\n",
    "        'pw_rigid': pw_rigid,\n",
    "        'gSig_filt': None\n",
    "    },\n",
    "}\n",
    "\n",
    "# # Add a \"batch item\" to the DataFrame this is the combination of:\n",
    "# * algorithm to run, `algo`\n",
    "# * input movie to run the algorithm on, `input_movie_path`\n",
    "# * parameters for the specified algorithm, `params`\n",
    "# * a name for you to keep track of things, usually the same as the movie filename, `item_name`\n",
    "df.caiman.add_item(\n",
    "    algo='mcorr',\n",
    "    input_movie_path=movie_path / 'mov',\n",
    "    params=mcorr_params,\n",
    "    item_name=movie_path.stem,  # filename of the movie, but can be anything\n",
    ")"
   ]
  },
  {
   "cell_type": "code",
   "execution_count": 8,
   "id": "8feff9c7",
   "metadata": {
    "ExecuteTime": {
     "end_time": "2024-09-26T18:46:37.176674Z",
     "start_time": "2024-09-26T18:46:37.159674Z"
    }
   },
   "outputs": [
    {
     "data": {
      "text/html": [
       "<div>\n",
       "<style scoped>\n",
       "    .dataframe tbody tr th:only-of-type {\n",
       "        vertical-align: middle;\n",
       "    }\n",
       "\n",
       "    .dataframe tbody tr th {\n",
       "        vertical-align: top;\n",
       "    }\n",
       "\n",
       "    .dataframe thead th {\n",
       "        text-align: right;\n",
       "    }\n",
       "</style>\n",
       "<table border=\"1\" class=\"dataframe\">\n",
       "  <thead>\n",
       "    <tr style=\"text-align: right;\">\n",
       "      <th></th>\n",
       "      <th>algo</th>\n",
       "      <th>item_name</th>\n",
       "      <th>input_movie_path</th>\n",
       "      <th>params</th>\n",
       "      <th>outputs</th>\n",
       "      <th>added_time</th>\n",
       "      <th>ran_time</th>\n",
       "      <th>algo_duration</th>\n",
       "      <th>comments</th>\n",
       "      <th>uuid</th>\n",
       "    </tr>\n",
       "  </thead>\n",
       "  <tbody>\n",
       "    <tr>\n",
       "      <th>0</th>\n",
       "      <td>mcorr</td>\n",
       "      <td>session_01</td>\n",
       "      <td>mov</td>\n",
       "      <td>{'main': {'var_name_hdf5': 'mov', 'max_shifts': (10, 10), 'strides': (48, 48), 'overlaps': (24, 24), 'max_deviation_...</td>\n",
       "      <td>{'success': False, 'traceback': 'Traceback (most recent call last):\n",
       "  File \"c:\\Users\\RBO\\miniconda3\\envs\\mbo-caiman\\...</td>\n",
       "      <td>2024-09-25T20:23:56</td>\n",
       "      <td>2024-09-25T20:24:05</td>\n",
       "      <td>0.16 sec</td>\n",
       "      <td>None</td>\n",
       "      <td>995691a6-26b8-410d-b6bb-010c4e3c8281</td>\n",
       "    </tr>\n",
       "    <tr>\n",
       "      <th>1</th>\n",
       "      <td>mcorr</td>\n",
       "      <td>extracted_plane_1</td>\n",
       "      <td>tiff\\extracted_plane_1.tif</td>\n",
       "      <td>{'main': {'var_name_hdf5': 'mov', 'max_shifts': (10, 10), 'strides': (48, 48), 'overlaps': (24, 24), 'max_deviation_...</td>\n",
       "      <td>{'mean-projection-path': b32f41bf-a9a5-4965-be7c-e6779e854328\\b32f41bf-a9a5-4965-be7c-e6779e854328_mean_projection.n...</td>\n",
       "      <td>2024-09-26T11:56:54</td>\n",
       "      <td>2024-09-26T12:02:55</td>\n",
       "      <td>77.3 sec</td>\n",
       "      <td>None</td>\n",
       "      <td>b32f41bf-a9a5-4965-be7c-e6779e854328</td>\n",
       "    </tr>\n",
       "  </tbody>\n",
       "</table>\n",
       "</div>"
      ],
      "text/plain": [
       "    algo          item_name            input_movie_path  \\\n",
       "0  mcorr         session_01                         mov   \n",
       "1  mcorr  extracted_plane_1  tiff\\extracted_plane_1.tif   \n",
       "\n",
       "                                                                                                                    params  \\\n",
       "0  {'main': {'var_name_hdf5': 'mov', 'max_shifts': (10, 10), 'strides': (48, 48), 'overlaps': (24, 24), 'max_deviation_...   \n",
       "1  {'main': {'var_name_hdf5': 'mov', 'max_shifts': (10, 10), 'strides': (48, 48), 'overlaps': (24, 24), 'max_deviation_...   \n",
       "\n",
       "                                                                                                                   outputs  \\\n",
       "0  {'success': False, 'traceback': 'Traceback (most recent call last):\n",
       "  File \"c:\\Users\\RBO\\miniconda3\\envs\\mbo-caiman\\...   \n",
       "1  {'mean-projection-path': b32f41bf-a9a5-4965-be7c-e6779e854328\\b32f41bf-a9a5-4965-be7c-e6779e854328_mean_projection.n...   \n",
       "\n",
       "            added_time             ran_time algo_duration comments  \\\n",
       "0  2024-09-25T20:23:56  2024-09-25T20:24:05      0.16 sec     None   \n",
       "1  2024-09-26T11:56:54  2024-09-26T12:02:55      77.3 sec     None   \n",
       "\n",
       "                                   uuid  \n",
       "0  995691a6-26b8-410d-b6bb-010c4e3c8281  \n",
       "1  b32f41bf-a9a5-4965-be7c-e6779e854328  "
      ]
     },
     "execution_count": 8,
     "metadata": {},
     "output_type": "execute_result"
    }
   ],
   "source": [
    "df=df.caiman.reload_from_disk()\n",
    "df"
   ]
  },
  {
   "cell_type": "markdown",
   "id": "7a72602b",
   "metadata": {},
   "source": [
    "# First registration run: preset with good defaults\n",
    "\n",
    "Technical notes: On Linux & Mac it will run in subprocess but on Windows it will run in the local kernel."
   ]
  },
  {
   "cell_type": "code",
   "execution_count": 9,
   "id": "e78e33a7",
   "metadata": {},
   "outputs": [
    {
     "name": "stdout",
     "output_type": "stream",
     "text": [
      "Running b32f41bf-a9a5-4965-be7c-e6779e854328 with local backend\n",
      "starting mc\n"
     ]
    },
    {
     "name": "stderr",
     "output_type": "stream",
     "text": [
      "      838959 [cluster.py:setup_cluster():225] [10504] The local backend is an alias for the multiprocessing backend, and the alias may be removed in some future version of Caiman\n",
      "WARNING:caiman.cluster:The local backend is an alias for the multiprocessing backend, and the alias may be removed in some future version of Caiman\n",
      "WARNING:root:In setting CNMFParams, non-pathed parameters were used; this is deprecated. In some future version of Caiman, allow_legacy will default to False (and eventually will be removed)\n",
      "ERROR:tifffile:<tifffile.TiffFile 'extracted_plane_1.tif'> shaped series axes do not match shape\n",
      "ERROR:tifffile:<tifffile.TiffFile 'extracted_plane_1.tif'> shaped series axes do not match shape\n",
      "ERROR:tifffile:<tifffile.TiffFile 'extracted_plane_1.tif'> shaped series axes do not match shape\n",
      "ERROR:tifffile:<tifffile.TiffFile 'extracted_plane_1.tif'> shaped series axes do not match shape\n",
      "ERROR:tifffile:<tifffile.TiffFile 'extracted_plane_1.tif'> shaped series axes do not match shape\n"
     ]
    },
    {
     "name": "stdout",
     "output_type": "stream",
     "text": [
      "mc finished successfully!\n",
      "computing projections\n",
      "Computing correlation image\n"
     ]
    },
    {
     "name": "stderr",
     "output_type": "stream",
     "text": [
      "      916256 [cluster.py:stop_server():177] [10504] stop_cluster(): done\n"
     ]
    },
    {
     "name": "stdout",
     "output_type": "stream",
     "text": [
      "finished computing correlation image\n"
     ]
    },
    {
     "name": "stderr",
     "output_type": "stream",
     "text": [
      "INFO:caiman.cluster:stop_cluster(): done\n"
     ]
    },
    {
     "data": {
      "text/plain": [
       "<mesmerize_core.caiman_extensions.common.DummyProcess at 0x15a2c71f250>"
      ]
     },
     "execution_count": 9,
     "metadata": {},
     "output_type": "execute_result"
    }
   ],
   "source": [
    "df.iloc[1].caiman.run()"
   ]
  },
  {
   "cell_type": "markdown",
   "id": "b99cb86f",
   "metadata": {},
   "source": [
    "## Preview Motion Correction\n",
    "\n",
    "Before running a grid search for the best parameter set, preview your registration results"
   ]
  },
  {
   "cell_type": "code",
   "execution_count": 3,
   "id": "90ef50fd",
   "metadata": {
    "ExecuteTime": {
     "end_time": "2024-09-26T18:46:48.521977Z",
     "start_time": "2024-09-26T18:46:48.445458Z"
    }
   },
   "outputs": [
    {
     "name": "stderr",
     "output_type": "stream",
     "text": [
      "c:\\Users\\RBO\\anaconda3\\envs\\mescore\\lib\\site-packages\\ipydatagrid\\datagrid.py:512: UserWarning: Index name of 'index' is not round-trippable.\n",
      "  schema = pd.io.json.build_table_schema(dataframe)\n",
      "<tifffile.TiffFile 'extracted_plane_1.tif'> shaped series axes do not match shape\n"
     ]
    },
    {
     "data": {
      "application/vnd.jupyter.widget-view+json": {
       "model_id": "6c4cd3130c0c4e9b924968a0cb86cb93",
       "version_major": 2,
       "version_minor": 0
      },
      "text/plain": [
       "RFBOutputContext()"
      ]
     },
     "metadata": {},
     "output_type": "display_data"
    },
    {
     "name": "stderr",
     "output_type": "stream",
     "text": [
      "c:\\Users\\RBO\\anaconda3\\envs\\mescore\\lib\\site-packages\\fastplotlib\\graphics\\_features\\_base.py:34: UserWarning: converting float64 array to float32\n",
      "  warn(f\"converting {array.dtype} array to float32\")\n"
     ]
    },
    {
     "data": {
      "application/vnd.jupyter.widget-view+json": {
       "model_id": "a5a13182c1b9437696c132eba1e580a0",
       "version_major": 2,
       "version_minor": 0
      },
      "text/plain": [
       "VBox(children=(HBox(children=(DataGrid(auto_fit_params={'area': 'all', 'padding': 30, 'numCols': None}, base_r…"
      ]
     },
     "execution_count": 3,
     "metadata": {},
     "output_type": "execute_result"
    },
    {
     "name": "stderr",
     "output_type": "stream",
     "text": [
      "c:\\Users\\RBO\\anaconda3\\envs\\mescore\\lib\\site-packages\\fastplotlib\\widgets\\image.py:78: UserWarning: Invalid 'window size' value for function: <function mean at 0x0000014720A30280>, setting 'window size' = None for this function. Valid values are integers >= 3.\n",
      "  warn(\n"
     ]
    }
   ],
   "source": [
    "viz = df.mcorr.viz(data_options=[\"input\", \"mcorr\", \"mean\", \"corr\"], start_index=1)\n",
    "viz.show()"
   ]
  },
  {
   "cell_type": "code",
   "execution_count": null,
   "id": "43b8d28a",
   "metadata": {},
   "outputs": [],
   "source": [
    "viewer = napari.Viewer()\n",
    "viewer.add_image(mcorr_movie, name=f'plane_2_a')\n",
    "viewer.add_image(mcorr_movie2, name=f'plane_2_b')"
   ]
  },
  {
   "cell_type": "markdown",
   "id": "26c8bbdc",
   "metadata": {},
   "source": [
    "# Registration Grid Search (if you need it!)\n",
    "\n",
    "More runs with varying parameters, stored on disk in the dataframe batch.pickle"
   ]
  },
  {
   "cell_type": "code",
   "execution_count": 37,
   "id": "6f736309",
   "metadata": {},
   "outputs": [
    {
     "data": {
      "text/html": [
       "<div>\n",
       "<style scoped>\n",
       "    .dataframe tbody tr th:only-of-type {\n",
       "        vertical-align: middle;\n",
       "    }\n",
       "\n",
       "    .dataframe tbody tr th {\n",
       "        vertical-align: top;\n",
       "    }\n",
       "\n",
       "    .dataframe thead th {\n",
       "        text-align: right;\n",
       "    }\n",
       "</style>\n",
       "<table border=\"1\" class=\"dataframe\">\n",
       "  <thead>\n",
       "    <tr style=\"text-align: right;\">\n",
       "      <th></th>\n",
       "      <th>algo</th>\n",
       "      <th>item_name</th>\n",
       "      <th>input_movie_path</th>\n",
       "      <th>params</th>\n",
       "      <th>outputs</th>\n",
       "      <th>added_time</th>\n",
       "      <th>ran_time</th>\n",
       "      <th>algo_duration</th>\n",
       "      <th>comments</th>\n",
       "      <th>uuid</th>\n",
       "    </tr>\n",
       "  </thead>\n",
       "  <tbody>\n",
       "    <tr>\n",
       "      <th>0</th>\n",
       "      <td>mcorr</td>\n",
       "      <td>extracted_plane_1</td>\n",
       "      <td>tiff/extracted_plane_1.tif</td>\n",
       "      <td>{'main': {'var_name_hdf5': 'mov', 'max_shifts': (10, 10), 'strides': [48, 48], 'overlaps': [24, 24], 'max_deviation_...</td>\n",
       "      <td>{'mean-projection-path': 'e7d6ee76-b236-4fdc-a978-da72abb5b6cd/e7d6ee76-b236-4fdc-a978-da72abb5b6cd_mean_projection....</td>\n",
       "      <td>2024-09-12T17:38:56</td>\n",
       "      <td>2024-09-13T00:40:44</td>\n",
       "      <td>41.1 sec</td>\n",
       "      <td>None</td>\n",
       "      <td>e7d6ee76-b236-4fdc-a978-da72abb5b6cd</td>\n",
       "    </tr>\n",
       "    <tr>\n",
       "      <th>1</th>\n",
       "      <td>mcorr</td>\n",
       "      <td>extracted_plane_1</td>\n",
       "      <td>tiff/extracted_plane_1.tif</td>\n",
       "      <td>{'main': {'var_name_hdf5': 'mov', 'max_shifts': (2, 2), 'strides': (12, 12), 'overlaps': (6, 6), 'max_deviation_rigi...</td>\n",
       "      <td>None</td>\n",
       "      <td>2024-09-13T00:53:41</td>\n",
       "      <td>None</td>\n",
       "      <td>None</td>\n",
       "      <td>None</td>\n",
       "      <td>1ea42667-276d-486f-a63e-0cbbf0744ca8</td>\n",
       "    </tr>\n",
       "    <tr>\n",
       "      <th>2</th>\n",
       "      <td>mcorr</td>\n",
       "      <td>extracted_plane_1</td>\n",
       "      <td>tiff/extracted_plane_1.tif</td>\n",
       "      <td>{'main': {'var_name_hdf5': 'mov', 'max_shifts': (2, 2), 'strides': (64, 64), 'overlaps': (32, 32), 'max_deviation_ri...</td>\n",
       "      <td>None</td>\n",
       "      <td>2024-09-13T00:53:41</td>\n",
       "      <td>None</td>\n",
       "      <td>None</td>\n",
       "      <td>None</td>\n",
       "      <td>9aa2b5f3-14f0-4fbb-bfed-907c50969918</td>\n",
       "    </tr>\n",
       "    <tr>\n",
       "      <th>3</th>\n",
       "      <td>mcorr</td>\n",
       "      <td>extracted_plane_1</td>\n",
       "      <td>tiff/extracted_plane_1.tif</td>\n",
       "      <td>{'main': {'var_name_hdf5': 'mov', 'max_shifts': (32, 32), 'strides': (12, 12), 'overlaps': (6, 6), 'max_deviation_ri...</td>\n",
       "      <td>None</td>\n",
       "      <td>2024-09-13T00:53:41</td>\n",
       "      <td>None</td>\n",
       "      <td>None</td>\n",
       "      <td>None</td>\n",
       "      <td>703926de-8926-4613-a9e6-abe5c0cbedeb</td>\n",
       "    </tr>\n",
       "    <tr>\n",
       "      <th>4</th>\n",
       "      <td>mcorr</td>\n",
       "      <td>extracted_plane_1</td>\n",
       "      <td>tiff/extracted_plane_1.tif</td>\n",
       "      <td>{'main': {'var_name_hdf5': 'mov', 'max_shifts': (32, 32), 'strides': (64, 64), 'overlaps': (32, 32), 'max_deviation_...</td>\n",
       "      <td>None</td>\n",
       "      <td>2024-09-13T00:53:41</td>\n",
       "      <td>None</td>\n",
       "      <td>None</td>\n",
       "      <td>None</td>\n",
       "      <td>c0685366-5d8c-4dec-b607-44265f5033cc</td>\n",
       "    </tr>\n",
       "  </tbody>\n",
       "</table>\n",
       "</div>"
      ],
      "text/plain": [
       "    algo          item_name            input_movie_path  \\\n",
       "0  mcorr  extracted_plane_1  tiff/extracted_plane_1.tif   \n",
       "1  mcorr  extracted_plane_1  tiff/extracted_plane_1.tif   \n",
       "2  mcorr  extracted_plane_1  tiff/extracted_plane_1.tif   \n",
       "3  mcorr  extracted_plane_1  tiff/extracted_plane_1.tif   \n",
       "4  mcorr  extracted_plane_1  tiff/extracted_plane_1.tif   \n",
       "\n",
       "                                                                                                                    params  \\\n",
       "0  {'main': {'var_name_hdf5': 'mov', 'max_shifts': (10, 10), 'strides': [48, 48], 'overlaps': [24, 24], 'max_deviation_...   \n",
       "1  {'main': {'var_name_hdf5': 'mov', 'max_shifts': (2, 2), 'strides': (12, 12), 'overlaps': (6, 6), 'max_deviation_rigi...   \n",
       "2  {'main': {'var_name_hdf5': 'mov', 'max_shifts': (2, 2), 'strides': (64, 64), 'overlaps': (32, 32), 'max_deviation_ri...   \n",
       "3  {'main': {'var_name_hdf5': 'mov', 'max_shifts': (32, 32), 'strides': (12, 12), 'overlaps': (6, 6), 'max_deviation_ri...   \n",
       "4  {'main': {'var_name_hdf5': 'mov', 'max_shifts': (32, 32), 'strides': (64, 64), 'overlaps': (32, 32), 'max_deviation_...   \n",
       "\n",
       "                                                                                                                   outputs  \\\n",
       "0  {'mean-projection-path': 'e7d6ee76-b236-4fdc-a978-da72abb5b6cd/e7d6ee76-b236-4fdc-a978-da72abb5b6cd_mean_projection....   \n",
       "1                                                                                                                     None   \n",
       "2                                                                                                                     None   \n",
       "3                                                                                                                     None   \n",
       "4                                                                                                                     None   \n",
       "\n",
       "            added_time             ran_time algo_duration comments  \\\n",
       "0  2024-09-12T17:38:56  2024-09-13T00:40:44      41.1 sec     None   \n",
       "1  2024-09-13T00:53:41                 None          None     None   \n",
       "2  2024-09-13T00:53:41                 None          None     None   \n",
       "3  2024-09-13T00:53:41                 None          None     None   \n",
       "4  2024-09-13T00:53:41                 None          None     None   \n",
       "\n",
       "                                   uuid  \n",
       "0  e7d6ee76-b236-4fdc-a978-da72abb5b6cd  \n",
       "1  1ea42667-276d-486f-a63e-0cbbf0744ca8  \n",
       "2  9aa2b5f3-14f0-4fbb-bfed-907c50969918  \n",
       "3  703926de-8926-4613-a9e6-abe5c0cbedeb  \n",
       "4  c0685366-5d8c-4dec-b607-44265f5033cc  "
      ]
     },
     "execution_count": 37,
     "metadata": {},
     "output_type": "execute_result"
    }
   ],
   "source": [
    "# copy the mcorr_params2 dict to make some changes\n",
    "# some variants of max_shifts\n",
    "from copy import deepcopy\n",
    "\n",
    "for shifts in [2,32]:\n",
    "    for strides in [12,64]:\n",
    "        overlaps = int(strides / 2)\n",
    "        # deep copy is the safest way to copy dicts\n",
    "        new_params = deepcopy(mcorr_params)\n",
    "\n",
    "        # assign the \"max_shifts\"\n",
    "        new_params[\"main\"][\"pw_rigid\"] = True\n",
    "        new_params[\"main\"][\"max_shifts\"] = (shifts, shifts)\n",
    "        new_params[\"main\"][\"strides\"] = (strides, strides)\n",
    "        new_params[\"main\"][\"overlaps\"] = (overlaps, overlaps)\n",
    "\n",
    "        df.caiman.add_item(\n",
    "            algo='mcorr',\n",
    "            input_movie_path=tiff_files[0],\n",
    "            params=new_params,\n",
    "            item_name=tiff_files[0].stem,  # filename of the movie, but can be anything\n",
    "        )\n",
    "\n",
    "df.caiman.reload_from_disk()"
   ]
  },
  {
   "cell_type": "code",
   "execution_count": 38,
   "id": "5a8878b8",
   "metadata": {},
   "outputs": [
    {
     "name": "stdout",
     "output_type": "stream",
     "text": [
      "/home/mbo/caiman_data_org/animal_01/session_01/1ea42667-276d-486f-a63e-0cbbf0744ca8.runfile\n",
      "starting mc\n",
      "MotionCorrect() called.\n",
      "/home/mbo/caiman_data_org/animal_01/session_01/tiff/extracted_plane_1.tif\n",
      "mov\n",
      "/home/mbo/caiman_data_org/animal_01/session_01/tiff/extracted_plane_1.tif\n",
      "mov\n",
      "mc finished successfully!\n",
      "computing projections\n",
      "Computing correlation image\n",
      "finished computing correlation image\n",
      "\n",
      "/home/mbo/caiman_data_org/animal_01/session_01/9aa2b5f3-14f0-4fbb-bfed-907c50969918.runfile\n"
     ]
    },
    {
     "name": "stderr",
     "output_type": "stream",
     "text": [
      "2024-09-13 00:53:48.814012: E external/local_xla/xla/stream_executor/cuda/cuda_dnn.cc:9261] Unable to register cuDNN factory: Attempting to register factory for plugin cuDNN when one has already been registered\n",
      "2024-09-13 00:53:48.814044: E external/local_xla/xla/stream_executor/cuda/cuda_fft.cc:607] Unable to register cuFFT factory: Attempting to register factory for plugin cuFFT when one has already been registered\n",
      "2024-09-13 00:53:48.814390: E external/local_xla/xla/stream_executor/cuda/cuda_blas.cc:1515] Unable to register cuBLAS factory: Attempting to register factory for plugin cuBLAS when one has already been registered\n",
      "2024-09-13 00:53:48.817005: I tensorflow/core/platform/cpu_feature_guard.cc:182] This TensorFlow binary is optimized to use available CPU instructions in performance-critical operations.\n",
      "To enable the following instructions: SSE4.1 SSE4.2 AVX AVX2 FMA, in other operations, rebuild TensorFlow with the appropriate compiler flags.\n",
      "The local backend is an alias for the multiprocessing backend, and the alias may be removed in some future version of Caiman\n",
      "In setting CNMFParams, non-pathed parameters were used; this is deprecated. In some future version of Caiman, allow_legacy will default to False (and eventually will be removed)\n",
      "<tifffile.TiffFile 'extracted_plane_1.tif'> shaped series axes do not match shape\n",
      "<tifffile.TiffFile 'extracted_plane_1.tif'> shaped series axes do not match shape\n",
      "<tifffile.TiffFile 'extracted_plane_1.tif'> shaped series axes do not match shape\n",
      "<tifffile.TiffFile 'extracted_plane_1.tif'> shaped series axes do not match shape\n",
      "<tifffile.TiffFile 'extracted_plane_1.tif'> shaped series axes do not match shape\n",
      "<tifffile.TiffFile 'extracted_plane_1.tif'> shaped series axes do not match shape\n",
      "<tifffile.TiffFile 'extracted_plane_1.tif'> shaped series axes do not match shape\n",
      "<tifffile.TiffFile 'extracted_plane_1.tif'> shaped series axes do not match shape\n",
      "<tifffile.TiffFile 'extracted_plane_1.tif'> shaped series axes do not match shape\n",
      "<tifffile.TiffFile 'extracted_plane_1.tif'> shaped series axes do not match shape\n",
      "<tifffile.TiffFile 'extracted_plane_1.tif'> shaped series axes do not match shape\n",
      "<tifffile.TiffFile 'extracted_plane_1.tif'> shaped series axes do not match shape\n",
      "<tifffile.TiffFile 'extracted_plane_1.tif'> shaped series axes do not match shape\n",
      "<tifffile.TiffFile 'extracted_plane_1.tif'> shaped series axes do not match shape\n",
      "<tifffile.TiffFile 'extracted_plane_1.tif'> shaped series axes do not match shape\n",
      "<tifffile.TiffFile 'extracted_plane_1.tif'> shaped series axes do not match shape\n",
      "<tifffile.TiffFile 'extracted_plane_1.tif'> shaped series axes do not match shape\n",
      "<tifffile.TiffFile 'extracted_plane_1.tif'> shaped series axes do not match shape\n",
      "<tifffile.TiffFile 'extracted_plane_1.tif'> shaped series axes do not match shape\n",
      "<tifffile.TiffFile 'extracted_plane_1.tif'> shaped series axes do not match shape\n",
      "<tifffile.TiffFile 'extracted_plane_1.tif'> shaped series axes do not match shape\n",
      "<tifffile.TiffFile 'extracted_plane_1.tif'> shaped series axes do not match shape\n",
      "<tifffile.TiffFile 'extracted_plane_1.tif'> shaped series axes do not match shape\n",
      "<tifffile.TiffFile 'extracted_plane_1.tif'> shaped series axes do not match shape\n",
      "<tifffile.TiffFile 'extracted_plane_1.tif'> shaped series axes do not match shape\n",
      "<tifffile.TiffFile 'extracted_plane_1.tif'> shaped series axes do not match shape\n",
      "<tifffile.TiffFile 'extracted_plane_1.tif'> shaped series axes do not match shape\n",
      "<tifffile.TiffFile 'extracted_plane_1.tif'> shaped series axes do not match shape\n",
      "<tifffile.TiffFile 'extracted_plane_1.tif'> shaped series axes do not match shape\n",
      "<tifffile.TiffFile 'extracted_plane_1.tif'> shaped series axes do not match shape\n",
      "<tifffile.TiffFile 'extracted_plane_1.tif'> shaped series axes do not match shape\n",
      "<tifffile.TiffFile 'extracted_plane_1.tif'> shaped series axes do not match shape\n",
      "<tifffile.TiffFile 'extracted_plane_1.tif'> shaped series axes do not match shape\n",
      "\n",
      "  0%|          | 0/1 [00:00<?, ?it/s]\n",
      "  0%|          | 0/1 [00:00<?, ?it/s]\n",
      "100%|██████████| 1/1 [00:00<00:00,  1.44it/s]\n",
      "100%|██████████| 1/1 [00:00<00:00,  1.44it/s]\n",
      "\n",
      "100%|██████████| 1/1 [00:00<00:00,  1.44it/s]\n",
      "100%|██████████| 1/1 [00:00<00:00,  1.44it/s]\n",
      "\n"
     ]
    },
    {
     "name": "stdout",
     "output_type": "stream",
     "text": [
      "starting mc\n",
      "MotionCorrect() called.\n",
      "/home/mbo/caiman_data_org/animal_01/session_01/tiff/extracted_plane_1.tif\n",
      "mov\n",
      "/home/mbo/caiman_data_org/animal_01/session_01/tiff/extracted_plane_1.tif\n",
      "mov\n",
      "mc finished successfully!\n",
      "computing projections\n",
      "Computing correlation image\n",
      "finished computing correlation image\n",
      "\n",
      "/home/mbo/caiman_data_org/animal_01/session_01/703926de-8926-4613-a9e6-abe5c0cbedeb.runfile\n"
     ]
    },
    {
     "name": "stderr",
     "output_type": "stream",
     "text": [
      "2024-09-13 00:55:32.175065: E external/local_xla/xla/stream_executor/cuda/cuda_dnn.cc:9261] Unable to register cuDNN factory: Attempting to register factory for plugin cuDNN when one has already been registered\n",
      "2024-09-13 00:55:32.175096: E external/local_xla/xla/stream_executor/cuda/cuda_fft.cc:607] Unable to register cuFFT factory: Attempting to register factory for plugin cuFFT when one has already been registered\n",
      "2024-09-13 00:55:32.175457: E external/local_xla/xla/stream_executor/cuda/cuda_blas.cc:1515] Unable to register cuBLAS factory: Attempting to register factory for plugin cuBLAS when one has already been registered\n",
      "2024-09-13 00:55:32.178227: I tensorflow/core/platform/cpu_feature_guard.cc:182] This TensorFlow binary is optimized to use available CPU instructions in performance-critical operations.\n",
      "To enable the following instructions: SSE4.1 SSE4.2 AVX AVX2 FMA, in other operations, rebuild TensorFlow with the appropriate compiler flags.\n",
      "The local backend is an alias for the multiprocessing backend, and the alias may be removed in some future version of Caiman\n",
      "In setting CNMFParams, non-pathed parameters were used; this is deprecated. In some future version of Caiman, allow_legacy will default to False (and eventually will be removed)\n",
      "<tifffile.TiffFile 'extracted_plane_1.tif'> shaped series axes do not match shape\n",
      "<tifffile.TiffFile 'extracted_plane_1.tif'> shaped series axes do not match shape\n",
      "<tifffile.TiffFile 'extracted_plane_1.tif'> shaped series axes do not match shape\n",
      "<tifffile.TiffFile 'extracted_plane_1.tif'> shaped series axes do not match shape\n",
      "<tifffile.TiffFile 'extracted_plane_1.tif'> shaped series axes do not match shape\n",
      "<tifffile.TiffFile 'extracted_plane_1.tif'> shaped series axes do not match shape\n",
      "<tifffile.TiffFile 'extracted_plane_1.tif'> shaped series axes do not match shape\n",
      "<tifffile.TiffFile 'extracted_plane_1.tif'> shaped series axes do not match shape\n",
      "<tifffile.TiffFile 'extracted_plane_1.tif'> shaped series axes do not match shape\n",
      "<tifffile.TiffFile 'extracted_plane_1.tif'> shaped series axes do not match shape\n",
      "<tifffile.TiffFile 'extracted_plane_1.tif'> shaped series axes do not match shape\n",
      "<tifffile.TiffFile 'extracted_plane_1.tif'> shaped series axes do not match shape\n",
      "<tifffile.TiffFile 'extracted_plane_1.tif'> shaped series axes do not match shape\n",
      "<tifffile.TiffFile 'extracted_plane_1.tif'> shaped series axes do not match shape\n",
      "<tifffile.TiffFile 'extracted_plane_1.tif'> shaped series axes do not match shape\n",
      "<tifffile.TiffFile 'extracted_plane_1.tif'> shaped series axes do not match shape\n",
      "<tifffile.TiffFile 'extracted_plane_1.tif'> shaped series axes do not match shape\n",
      "<tifffile.TiffFile 'extracted_plane_1.tif'> shaped series axes do not match shape\n",
      "<tifffile.TiffFile 'extracted_plane_1.tif'> shaped series axes do not match shape\n",
      "<tifffile.TiffFile 'extracted_plane_1.tif'> shaped series axes do not match shape\n",
      "<tifffile.TiffFile 'extracted_plane_1.tif'> shaped series axes do not match shape\n",
      "<tifffile.TiffFile 'extracted_plane_1.tif'> shaped series axes do not match shape\n",
      "<tifffile.TiffFile 'extracted_plane_1.tif'> shaped series axes do not match shape\n",
      "<tifffile.TiffFile 'extracted_plane_1.tif'> shaped series axes do not match shape\n",
      "<tifffile.TiffFile 'extracted_plane_1.tif'> shaped series axes do not match shape\n",
      "<tifffile.TiffFile 'extracted_plane_1.tif'> shaped series axes do not match shape\n",
      "<tifffile.TiffFile 'extracted_plane_1.tif'> shaped series axes do not match shape\n",
      "<tifffile.TiffFile 'extracted_plane_1.tif'> shaped series axes do not match shape\n",
      "<tifffile.TiffFile 'extracted_plane_1.tif'> shaped series axes do not match shape\n",
      "<tifffile.TiffFile 'extracted_plane_1.tif'> shaped series axes do not match shape\n",
      "<tifffile.TiffFile 'extracted_plane_1.tif'> shaped series axes do not match shape\n",
      "<tifffile.TiffFile 'extracted_plane_1.tif'> shaped series axes do not match shape\n",
      "<tifffile.TiffFile 'extracted_plane_1.tif'> shaped series axes do not match shape\n",
      "\n",
      "  0%|          | 0/1 [00:00<?, ?it/s]\n",
      "  0%|          | 0/1 [00:00<?, ?it/s]\n",
      "100%|██████████| 1/1 [00:00<00:00,  1.63it/s]\n",
      "100%|██████████| 1/1 [00:00<00:00,  1.63it/s]\n",
      "\n",
      "100%|██████████| 1/1 [00:00<00:00,  1.62it/s]\n",
      "100%|██████████| 1/1 [00:00<00:00,  1.62it/s]\n",
      "\n"
     ]
    },
    {
     "name": "stdout",
     "output_type": "stream",
     "text": [
      "starting mc\n",
      "MotionCorrect() called.\n",
      "/home/mbo/caiman_data_org/animal_01/session_01/tiff/extracted_plane_1.tif\n",
      "mov\n",
      "/home/mbo/caiman_data_org/animal_01/session_01/tiff/extracted_plane_1.tif\n",
      "mov\n",
      "mc finished successfully!\n",
      "computing projections\n",
      "Computing correlation image\n",
      "finished computing correlation image\n",
      "\n",
      "/home/mbo/caiman_data_org/animal_01/session_01/c0685366-5d8c-4dec-b607-44265f5033cc.runfile\n"
     ]
    },
    {
     "name": "stderr",
     "output_type": "stream",
     "text": [
      "2024-09-13 00:56:14.293577: E external/local_xla/xla/stream_executor/cuda/cuda_dnn.cc:9261] Unable to register cuDNN factory: Attempting to register factory for plugin cuDNN when one has already been registered\n",
      "2024-09-13 00:56:14.293616: E external/local_xla/xla/stream_executor/cuda/cuda_fft.cc:607] Unable to register cuFFT factory: Attempting to register factory for plugin cuFFT when one has already been registered\n",
      "2024-09-13 00:56:14.294074: E external/local_xla/xla/stream_executor/cuda/cuda_blas.cc:1515] Unable to register cuBLAS factory: Attempting to register factory for plugin cuBLAS when one has already been registered\n",
      "2024-09-13 00:56:14.297998: I tensorflow/core/platform/cpu_feature_guard.cc:182] This TensorFlow binary is optimized to use available CPU instructions in performance-critical operations.\n",
      "To enable the following instructions: SSE4.1 SSE4.2 AVX AVX2 FMA, in other operations, rebuild TensorFlow with the appropriate compiler flags.\n",
      "The local backend is an alias for the multiprocessing backend, and the alias may be removed in some future version of Caiman\n",
      "In setting CNMFParams, non-pathed parameters were used; this is deprecated. In some future version of Caiman, allow_legacy will default to False (and eventually will be removed)\n",
      "<tifffile.TiffFile 'extracted_plane_1.tif'> shaped series axes do not match shape\n",
      "<tifffile.TiffFile 'extracted_plane_1.tif'> shaped series axes do not match shape\n",
      "<tifffile.TiffFile 'extracted_plane_1.tif'> shaped series axes do not match shape\n",
      "<tifffile.TiffFile 'extracted_plane_1.tif'> shaped series axes do not match shape\n",
      "<tifffile.TiffFile 'extracted_plane_1.tif'> shaped series axes do not match shape\n",
      "<tifffile.TiffFile 'extracted_plane_1.tif'> shaped series axes do not match shape\n",
      "<tifffile.TiffFile 'extracted_plane_1.tif'> shaped series axes do not match shape\n",
      "<tifffile.TiffFile 'extracted_plane_1.tif'> shaped series axes do not match shape\n",
      "<tifffile.TiffFile 'extracted_plane_1.tif'> shaped series axes do not match shape\n",
      "<tifffile.TiffFile 'extracted_plane_1.tif'> shaped series axes do not match shape\n",
      "<tifffile.TiffFile 'extracted_plane_1.tif'> shaped series axes do not match shape\n",
      "<tifffile.TiffFile 'extracted_plane_1.tif'> shaped series axes do not match shape\n",
      "<tifffile.TiffFile 'extracted_plane_1.tif'> shaped series axes do not match shape\n",
      "<tifffile.TiffFile 'extracted_plane_1.tif'> shaped series axes do not match shape\n",
      "<tifffile.TiffFile 'extracted_plane_1.tif'> shaped series axes do not match shape\n",
      "<tifffile.TiffFile 'extracted_plane_1.tif'> shaped series axes do not match shape\n",
      "<tifffile.TiffFile 'extracted_plane_1.tif'> shaped series axes do not match shape\n",
      "<tifffile.TiffFile 'extracted_plane_1.tif'> shaped series axes do not match shape\n",
      "<tifffile.TiffFile 'extracted_plane_1.tif'> shaped series axes do not match shape\n",
      "<tifffile.TiffFile 'extracted_plane_1.tif'> shaped series axes do not match shape\n",
      "<tifffile.TiffFile 'extracted_plane_1.tif'> shaped series axes do not match shape\n",
      "<tifffile.TiffFile 'extracted_plane_1.tif'> shaped series axes do not match shape\n",
      "<tifffile.TiffFile 'extracted_plane_1.tif'> shaped series axes do not match shape\n",
      "<tifffile.TiffFile 'extracted_plane_1.tif'> shaped series axes do not match shape\n",
      "<tifffile.TiffFile 'extracted_plane_1.tif'> shaped series axes do not match shape\n",
      "<tifffile.TiffFile 'extracted_plane_1.tif'> shaped series axes do not match shape\n",
      "<tifffile.TiffFile 'extracted_plane_1.tif'> shaped series axes do not match shape\n",
      "<tifffile.TiffFile 'extracted_plane_1.tif'> shaped series axes do not match shape\n",
      "<tifffile.TiffFile 'extracted_plane_1.tif'> shaped series axes do not match shape\n",
      "<tifffile.TiffFile 'extracted_plane_1.tif'> shaped series axes do not match shape\n",
      "<tifffile.TiffFile 'extracted_plane_1.tif'> shaped series axes do not match shape\n",
      "<tifffile.TiffFile 'extracted_plane_1.tif'> shaped series axes do not match shape\n",
      "<tifffile.TiffFile 'extracted_plane_1.tif'> shaped series axes do not match shape\n",
      "\n",
      "  0%|          | 0/1 [00:00<?, ?it/s]\n",
      "  0%|          | 0/1 [00:00<?, ?it/s]\n",
      "100%|██████████| 1/1 [00:00<00:00,  1.65it/s]\n",
      "100%|██████████| 1/1 [00:00<00:00,  1.65it/s]\n",
      "\n",
      "100%|██████████| 1/1 [00:00<00:00,  1.65it/s]\n",
      "100%|██████████| 1/1 [00:00<00:00,  1.65it/s]\n",
      "\n"
     ]
    },
    {
     "name": "stdout",
     "output_type": "stream",
     "text": [
      "starting mc\n",
      "MotionCorrect() called.\n",
      "/home/mbo/caiman_data_org/animal_01/session_01/tiff/extracted_plane_1.tif\n",
      "mov\n",
      "/home/mbo/caiman_data_org/animal_01/session_01/tiff/extracted_plane_1.tif\n",
      "mov\n",
      "mc finished successfully!\n",
      "computing projections\n",
      "Computing correlation image\n",
      "finished computing correlation image\n",
      "\n"
     ]
    },
    {
     "name": "stderr",
     "output_type": "stream",
     "text": [
      "2024-09-13 00:58:00.267324: E external/local_xla/xla/stream_executor/cuda/cuda_dnn.cc:9261] Unable to register cuDNN factory: Attempting to register factory for plugin cuDNN when one has already been registered\n",
      "2024-09-13 00:58:00.267357: E external/local_xla/xla/stream_executor/cuda/cuda_fft.cc:607] Unable to register cuFFT factory: Attempting to register factory for plugin cuFFT when one has already been registered\n",
      "2024-09-13 00:58:00.267712: E external/local_xla/xla/stream_executor/cuda/cuda_blas.cc:1515] Unable to register cuBLAS factory: Attempting to register factory for plugin cuBLAS when one has already been registered\n",
      "2024-09-13 00:58:00.270576: I tensorflow/core/platform/cpu_feature_guard.cc:182] This TensorFlow binary is optimized to use available CPU instructions in performance-critical operations.\n",
      "To enable the following instructions: SSE4.1 SSE4.2 AVX AVX2 FMA, in other operations, rebuild TensorFlow with the appropriate compiler flags.\n",
      "The local backend is an alias for the multiprocessing backend, and the alias may be removed in some future version of Caiman\n",
      "In setting CNMFParams, non-pathed parameters were used; this is deprecated. In some future version of Caiman, allow_legacy will default to False (and eventually will be removed)\n",
      "<tifffile.TiffFile 'extracted_plane_1.tif'> shaped series axes do not match shape\n",
      "<tifffile.TiffFile 'extracted_plane_1.tif'> shaped series axes do not match shape\n",
      "<tifffile.TiffFile 'extracted_plane_1.tif'> shaped series axes do not match shape\n",
      "<tifffile.TiffFile 'extracted_plane_1.tif'> shaped series axes do not match shape\n",
      "<tifffile.TiffFile 'extracted_plane_1.tif'> shaped series axes do not match shape\n",
      "<tifffile.TiffFile 'extracted_plane_1.tif'> shaped series axes do not match shape\n",
      "<tifffile.TiffFile 'extracted_plane_1.tif'> shaped series axes do not match shape\n",
      "<tifffile.TiffFile 'extracted_plane_1.tif'> shaped series axes do not match shape\n",
      "<tifffile.TiffFile 'extracted_plane_1.tif'> shaped series axes do not match shape\n",
      "<tifffile.TiffFile 'extracted_plane_1.tif'> shaped series axes do not match shape\n",
      "<tifffile.TiffFile 'extracted_plane_1.tif'> shaped series axes do not match shape\n",
      "<tifffile.TiffFile 'extracted_plane_1.tif'> shaped series axes do not match shape\n",
      "<tifffile.TiffFile 'extracted_plane_1.tif'> shaped series axes do not match shape\n",
      "<tifffile.TiffFile 'extracted_plane_1.tif'> shaped series axes do not match shape\n",
      "<tifffile.TiffFile 'extracted_plane_1.tif'> shaped series axes do not match shape\n",
      "<tifffile.TiffFile 'extracted_plane_1.tif'> shaped series axes do not match shape\n",
      "<tifffile.TiffFile 'extracted_plane_1.tif'> shaped series axes do not match shape\n",
      "<tifffile.TiffFile 'extracted_plane_1.tif'> shaped series axes do not match shape\n",
      "<tifffile.TiffFile 'extracted_plane_1.tif'> shaped series axes do not match shape\n",
      "<tifffile.TiffFile 'extracted_plane_1.tif'> shaped series axes do not match shape\n",
      "<tifffile.TiffFile 'extracted_plane_1.tif'> shaped series axes do not match shape\n",
      "<tifffile.TiffFile 'extracted_plane_1.tif'> shaped series axes do not match shape\n",
      "<tifffile.TiffFile 'extracted_plane_1.tif'> shaped series axes do not match shape\n",
      "<tifffile.TiffFile 'extracted_plane_1.tif'> shaped series axes do not match shape\n",
      "<tifffile.TiffFile 'extracted_plane_1.tif'> shaped series axes do not match shape\n",
      "<tifffile.TiffFile 'extracted_plane_1.tif'> shaped series axes do not match shape\n",
      "<tifffile.TiffFile 'extracted_plane_1.tif'> shaped series axes do not match shape\n",
      "<tifffile.TiffFile 'extracted_plane_1.tif'> shaped series axes do not match shape\n",
      "<tifffile.TiffFile 'extracted_plane_1.tif'> shaped series axes do not match shape\n",
      "<tifffile.TiffFile 'extracted_plane_1.tif'> shaped series axes do not match shape\n",
      "<tifffile.TiffFile 'extracted_plane_1.tif'> shaped series axes do not match shape\n",
      "<tifffile.TiffFile 'extracted_plane_1.tif'> shaped series axes do not match shape\n",
      "<tifffile.TiffFile 'extracted_plane_1.tif'> shaped series axes do not match shape\n",
      "\n",
      "  0%|          | 0/1 [00:00<?, ?it/s]\n",
      "  0%|          | 0/1 [00:00<?, ?it/s]\n",
      "100%|██████████| 1/1 [00:00<00:00,  1.61it/s]\n",
      "100%|██████████| 1/1 [00:00<00:00,  1.61it/s]\n",
      "\n",
      "100%|██████████| 1/1 [00:00<00:00,  1.58it/s]\n",
      "100%|██████████| 1/1 [00:00<00:00,  1.58it/s]\n",
      "\n"
     ]
    }
   ],
   "source": [
    "for i, row in df.iterrows():\n",
    "    if row[\"outputs\"] is not None: # item has already been run\n",
    "        continue # skip\n",
    "\n",
    "    process = row.caiman.run()\n",
    "\n",
    "    # on Windows you MUST reload the batch dataframe after every iteration because it uses the `local` backend.\n",
    "    # this is unnecessary on Linux & Mac\n",
    "    # \"DummyProcess\" is used for local backend so this is automatic\n",
    "    if process.__class__.__name__ == \"DummyProcess\":\n",
    "        df = df.caiman.reload_from_disk()"
   ]
  },
  {
   "cell_type": "markdown",
   "id": "cf7a3329",
   "metadata": {},
   "source": [
    "\n",
    "# Distinguishing parameter variants\n",
    "\n",
    "We can see that there are many parameter variants, but it is not easy to see the differences in parameters between the rows that have the same `item_name`.\n",
    "\n",
    "We can use the `caiman.get_params_diffs()` to see the unique parameters between rows with the same `item_name`"
   ]
  },
  {
   "cell_type": "code",
   "execution_count": 7,
   "id": "09903b29",
   "metadata": {},
   "outputs": [
    {
     "data": {
      "text/html": [
       "<div>\n",
       "<style scoped>\n",
       "    .dataframe tbody tr th:only-of-type {\n",
       "        vertical-align: middle;\n",
       "    }\n",
       "\n",
       "    .dataframe tbody tr th {\n",
       "        vertical-align: top;\n",
       "    }\n",
       "\n",
       "    .dataframe thead th {\n",
       "        text-align: right;\n",
       "    }\n",
       "</style>\n",
       "<table border=\"1\" class=\"dataframe\">\n",
       "  <thead>\n",
       "    <tr style=\"text-align: right;\">\n",
       "      <th></th>\n",
       "      <th>overlaps</th>\n",
       "      <th>max_shifts</th>\n",
       "      <th>strides</th>\n",
       "    </tr>\n",
       "  </thead>\n",
       "  <tbody>\n",
       "    <tr>\n",
       "      <th>0</th>\n",
       "      <td>[24, 24]</td>\n",
       "      <td>(10, 10)</td>\n",
       "      <td>[48, 48]</td>\n",
       "    </tr>\n",
       "    <tr>\n",
       "      <th>1</th>\n",
       "      <td>(6, 6)</td>\n",
       "      <td>(2, 2)</td>\n",
       "      <td>(12, 12)</td>\n",
       "    </tr>\n",
       "    <tr>\n",
       "      <th>2</th>\n",
       "      <td>(32, 32)</td>\n",
       "      <td>(2, 2)</td>\n",
       "      <td>(64, 64)</td>\n",
       "    </tr>\n",
       "    <tr>\n",
       "      <th>3</th>\n",
       "      <td>(6, 6)</td>\n",
       "      <td>(32, 32)</td>\n",
       "      <td>(12, 12)</td>\n",
       "    </tr>\n",
       "    <tr>\n",
       "      <th>4</th>\n",
       "      <td>(32, 32)</td>\n",
       "      <td>(32, 32)</td>\n",
       "      <td>(64, 64)</td>\n",
       "    </tr>\n",
       "  </tbody>\n",
       "</table>\n",
       "</div>"
      ],
      "text/plain": [
       "   overlaps max_shifts   strides\n",
       "0  [24, 24]   (10, 10)  [48, 48]\n",
       "1    (6, 6)     (2, 2)  (12, 12)\n",
       "2  (32, 32)     (2, 2)  (64, 64)\n",
       "3    (6, 6)   (32, 32)  (12, 12)\n",
       "4  (32, 32)   (32, 32)  (64, 64)"
      ]
     },
     "execution_count": 7,
     "metadata": {},
     "output_type": "execute_result"
    }
   ],
   "source": [
    "diffs = df.caiman.get_params_diffs(algo=\"mcorr\", item_name=df.iloc[0][\"item_name\"])\n",
    "diffs"
   ]
  },
  {
   "cell_type": "markdown",
   "id": "b62ca34d",
   "metadata": {},
   "source": [
    "# Use the varients to organize results to run multiple batch items.\n",
    "\n",
    "`df.iterrows()` iterates through rows and returns the numerical index and row for each iteration"
   ]
  },
  {
   "cell_type": "code",
   "execution_count": 11,
   "id": "17637deb",
   "metadata": {},
   "outputs": [
    {
     "name": "stderr",
     "output_type": "stream",
     "text": [
      "ERROR:tifffile:<tifffile.TiffFile 'extracted_plane_1.tif'> shaped series axes do not match shape\n"
     ]
    }
   ],
   "source": [
    "plane = 1\n",
    "\n",
    "df = df.caiman.reload_from_disk()\n",
    "\n",
    "# first item is just the raw movie\n",
    "\n",
    "movies = [df.iloc[0].caiman.get_input_movie()]\n",
    "\n",
    "subplot_names = [\"raw\"]\n",
    "\n",
    "means = [df.iloc[0].caiman.get_projection(\"mean\")]\n",
    "\n",
    "# get the param diffs to set plot titles\n",
    "param_diffs = df.caiman.get_params_diffs(\"mcorr\", item_name=df.iloc[0][\"item_name\"])\n",
    "\n",
    "# add all the mcorr outputs to the list\n",
    "for i, row in df.iterrows():\n",
    "\n",
    "    if row.algo != 'mcorr':\n",
    "        continue\n",
    "\n",
    "    # add to the list of movies to plot\n",
    "    movies.append(row.mcorr.get_output())\n",
    "\n",
    "    max_shifts = param_diffs.iloc[i][\"max_shifts\"][0]\n",
    "    strides = param_diffs.iloc[i][\"strides\"][0]\n",
    "    overlaps = param_diffs.iloc[i][\"overlaps\"][0]\n",
    "\n",
    "    # subplot title to show dataframe index\n",
    "    subplot_names.append(f\"ix {i}: max_sh: {max_shifts}, str: {strides}, ove: {overlaps}\")\n",
    "\n",
    "    # mean images which we'll use later\n",
    "    means.append(row.caiman.get_projection(\"mean\"))"
   ]
  },
  {
   "cell_type": "code",
   "execution_count": 15,
   "id": "41b76a18",
   "metadata": {},
   "outputs": [
    {
     "data": {
      "application/vnd.jupyter.widget-view+json": {
       "model_id": "ad86781d3eba49c98f3e9db0114c28a1",
       "version_major": 2,
       "version_minor": 0
      },
      "text/plain": [
       "RFBOutputContext()"
      ]
     },
     "metadata": {},
     "output_type": "display_data"
    },
    {
     "name": "stderr",
     "output_type": "stream",
     "text": [
      "/home/mbo/miniconda3/envs/mbo-caiman/lib/python3.11/site-packages/fastplotlib/graphics/_features/_base.py:34: UserWarning: converting float64 array to float32\n",
      "  | attribute  | type        | description                                   |\n"
     ]
    },
    {
     "data": {
      "application/vnd.jupyter.widget-view+json": {
       "model_id": "fa480025393144ed99da820de1269230",
       "version_major": 2,
       "version_minor": 0
      },
      "text/plain": [
       "JupyterOutputContext(children=(JupyterWgpuCanvas(), IpywidgetToolBar(children=(Button(icon='expand-arrows-alt'…"
      ]
     },
     "execution_count": 15,
     "metadata": {},
     "output_type": "execute_result"
    },
    {
     "name": "stderr",
     "output_type": "stream",
     "text": [
      "ERROR:wgpu:Draw error: Validation Error (7)\n",
      "ERROR:wgpu:Present error: present() is called without a preceeding call to get_c… (7)\n",
      "ERROR:wgpu:Draw error: Validation Error (8)\n",
      "ERROR:wgpu:Present error: present() is called without a preceeding call to get_c… (8)\n",
      "/home/mbo/miniconda3/envs/mbo-caiman/lib/python3.11/site-packages/fastplotlib/graphics/_features/_base.py:34: UserWarning: converting float64 array to float32\n",
      "  | attribute  | type        | description                                   |\n"
     ]
    }
   ],
   "source": [
    "iw_zfish = fpl.ImageWidget(\n",
    "    data=[movies[0], movies[1]],\n",
    "    names=['Raw', 'Corrected'],\n",
    "    cmap=\"gray\",\n",
    "    histogram_widget=False\n",
    ")\n",
    "iw_zfish.show()"
   ]
  },
  {
   "cell_type": "code",
   "execution_count": 23,
   "id": "fc65a79b",
   "metadata": {},
   "outputs": [
    {
     "data": {
      "text/plain": [
       "Viewer(camera=Camera(center=(0.0, 299.5, 279.5), zoom=1.3079464285714284, angles=(0.0, 0.0, 90.0), perspective=0.0, mouse_pan=True, mouse_zoom=True), cursor=Cursor(position=(864.0, 1.0, 0.0), scaled=True, style=<CursorStyle.STANDARD: 'standard'>, size=1.0), dims=Dims(ndim=3, ndisplay=2, order=(0, 1, 2), axis_labels=('0', '1', '2'), rollable=(True, True, True), range=(RangeTuple(start=0.0, stop=1729.0, step=1.0), RangeTuple(start=0.0, stop=599.0, step=1.0), RangeTuple(start=0.0, stop=559.0, step=1.0)), margin_left=(0.0, 0.0, 0.0), margin_right=(0.0, 0.0, 0.0), point=(864.0, 299.0, 279.0), last_used=0), grid=GridCanvas(stride=1, shape=(-1, -1), enabled=False), layers=[<Image layer 'raw' at 0x7f202c877f50>], help='use <2> for transform', status='Ready', tooltip=Tooltip(visible=False, text=''), theme='dark', title='napari', mouse_over_canvas=False, mouse_move_callbacks=[], mouse_drag_callbacks=[], mouse_double_click_callbacks=[], mouse_wheel_callbacks=[<function dims_scroll at 0x7f22ca409da0>], _persisted_mouse_event={}, _mouse_drag_gen={}, _mouse_wheel_gen={}, _keymap={})"
      ]
     },
     "execution_count": 23,
     "metadata": {},
     "output_type": "execute_result"
    }
   ],
   "source": [
    "napari.view_image(movies[0], name=subplot_names[0])\n",
    "\n",
    "\n",
    "# mcorr_movie = df.iloc[0].mcorr.get_output()\n",
    "# mcorr_movie2 = df.iloc[-1].mcorr.get_output()\n",
    "# corr, pnr = correlation_pnr(mcorr_movie, swap_dim=False)\n",
    "# corr2, pnr2 = correlation_pnr(mcorr_movie2, swap_dim=False)"
   ]
  },
  {
   "cell_type": "code",
   "execution_count": 47,
   "id": "1ee19a36",
   "metadata": {},
   "outputs": [
    {
     "data": {
      "text/plain": [
       "<Image layer 'Mean Correlation2' at 0x7fe77fe5cad0>"
      ]
     },
     "execution_count": 47,
     "metadata": {},
     "output_type": "execute_result"
    }
   ],
   "source": [
    "import napari\n",
    "viewer = napari.Viewer()\n",
    "viewer.add_image(mcorr_movie, name=f'plane_2_a')\n",
    "viewer.add_image(mcorr_movie2, name=f'plane_2_b')\n",
    "viewer.add_image(corr, name=\"Mean Correlation\")\n",
    "viewer.add_image(corr2, name=\"Mean Correlation2\")"
   ]
  },
  {
   "cell_type": "code",
   "execution_count": null,
   "id": "9e690b7b",
   "metadata": {},
   "outputs": [
    {
     "name": "stderr",
     "output_type": "stream",
     "text": [
      "ERROR:tifffile:<tifffile.TiffFile 'extracted_plane_21.tif'> shaped series axes do not match shape\n"
     ]
    },
    {
     "data": {
      "text/plain": [
       "<Image layer 'pnr' at 0x7f4cd3c0cc10>"
      ]
     },
     "metadata": {},
     "output_type": "display_data"
    }
   ],
   "source": [
    "napari.view_image(df.iloc[0].mcorr.get_output()[::2, ...])\n",
    "napari.current_viewer().add_image(df.iloc[0].caiman.get_input_movie()[::2, ...])"
   ]
  },
  {
   "cell_type": "markdown",
   "id": "4c8e971b",
   "metadata": {},
   "source": [
    "## Correlation metrics\n",
    "\n",
    "Create a couple of summary images of the movie, including:\n",
    "- maximum projection (the maximum value of each pixel) \n",
    "- correlation image (how correlated each pixel is with its neighbors)\n",
    "\n",
    "If a pixel comes from an active neural component it will tend to be highly correlated with its neighbors."
   ]
  },
  {
   "cell_type": "code",
   "execution_count": 5,
   "id": "1d47519c",
   "metadata": {},
   "outputs": [
    {
     "ename": "NameError",
     "evalue": "name 'i' is not defined",
     "output_type": "error",
     "traceback": [
      "\u001b[0;31m---------------------------------------------------------------------------\u001b[0m",
      "\u001b[0;31mNameError\u001b[0m                                 Traceback (most recent call last)",
      "Cell \u001b[0;32mIn[5], line 1\u001b[0m\n\u001b[0;32m----> 1\u001b[0m row_index \u001b[38;5;241m=\u001b[39m \u001b[43mi\u001b[49m\n\u001b[1;32m      3\u001b[0m mean_proj \u001b[38;5;241m=\u001b[39m df\u001b[38;5;241m.\u001b[39miloc[i]\u001b[38;5;241m.\u001b[39mcaiman\u001b[38;5;241m.\u001b[39mget_projection(\u001b[38;5;124m\"\u001b[39m\u001b[38;5;124mmean\u001b[39m\u001b[38;5;124m\"\u001b[39m)\n\u001b[1;32m      4\u001b[0m max_proj \u001b[38;5;241m=\u001b[39m df\u001b[38;5;241m.\u001b[39miloc[i]\u001b[38;5;241m.\u001b[39mcaiman\u001b[38;5;241m.\u001b[39mget_projection(\u001b[38;5;124m\"\u001b[39m\u001b[38;5;124mmax\u001b[39m\u001b[38;5;124m\"\u001b[39m)\n",
      "\u001b[0;31mNameError\u001b[0m: name 'i' is not defined"
     ]
    }
   ],
   "source": [
    "row_index = i\n",
    "\n",
    "mean_proj = df.iloc[i].caiman.get_projection(\"mean\")\n",
    "max_proj = df.iloc[i].caiman.get_projection(\"max\")\n",
    "std_proj = df.iloc[i].caiman.get_projection(\"std\")\n",
    "corr_image = df.iloc[i].caiman.get_corr_image()\n",
    "# viewer.add_image(mcorr_movie, rgb=False, multiscale=False)\n",
    "# viewer.add_image(input_movie['plane_1'], rgb=False, multiscale=False)\n",
    "\n",
    "viewer = napari.Viewer()\n",
    "viewer.add_image(mean_proj)\n",
    "viewer.add_image(std_proj)\n",
    "viewer.add_image(max_proj)\n",
    "viewer.add_image(corr_image)"
   ]
  },
  {
   "cell_type": "markdown",
   "id": "55468684",
   "metadata": {},
   "source": [
    "## Pixel Shifts"
   ]
  },
  {
   "cell_type": "code",
   "execution_count": 6,
   "id": "8666a389",
   "metadata": {},
   "outputs": [
    {
     "data": {
      "image/png": "[encoded data removed]",
      "text/plain": [
       "<Figure size 640x480 with 1 Axes>"
      ]
     },
     "metadata": {},
     "output_type": "display_data"
    }
   ],
   "source": [
    "row_idx = 0\n",
    "\n",
    "shifts = df.iloc[row_idx].mcorr.get_shifts()\n",
    "shifts = shifts[1]\n",
    "shiftsx = [x[0] for x in shifts]\n",
    "shiftsy = [x[1] for x in shifts]\n",
    "shiftsx_mean = [np.mean(x) for x in shiftsx]\n",
    "shiftsy_mean = [np.mean(y) for y in shiftsy]\n",
    "##%%\n",
    "xr = list(range(1730))\n",
    "plt.plot(xr, shiftsx_mean)\n",
    "plt.title('Mean X-Shifts') # TODO: std error bars, napari layer\n",
    "plt.xlabel(\"timestep (frames)\")\n",
    "plt.ylabel(\"# pixels shufted in X dimension\")\n",
    "plt.show()"
   ]
  },
  {
   "cell_type": "code",
   "execution_count": 7,
   "id": "74f2e629",
   "metadata": {},
   "outputs": [
    {
     "data": {
      "text/plain": [
       "[<matplotlib.lines.Line2D at 0x7fd709740b50>]"
      ]
     },
     "execution_count": 7,
     "metadata": {},
     "output_type": "execute_result"
    },
    {
     "data": {
      "image/png": "[encoded data removed]",
      "text/plain": [
       "<Figure size 640x480 with 1 Axes>"
      ]
     },
     "metadata": {},
     "output_type": "display_data"
    }
   ],
   "source": [
    "xr = list(range(1730))\n",
    "\n",
    "plt.title('Mean Y-Shifts') # TODO: std error bars, napari layer\n",
    "plt.xlabel(\"timestep (frames)\")\n",
    "plt.ylabel(\"# pixels shufted in Y dimension\")\n",
    "plt.plot(xr, shiftsy_mean)"
   ]
  },
  {
   "cell_type": "markdown",
   "id": "05afae81",
   "metadata": {},
   "source": [
    "# Optional, cleanup DataFrame\n",
    "\n",
    "Use the index that works best and all other items.\n",
    "\n",
    "Remove batch items (i.e. rows) using `df.caiman.remove_item(<item_uuid>)`. This also cleans up the output data in the batch directory.\n",
    "\n",
    "**Note:** On windows calling `remove_item()` will raise a `PermissionError` if you have the memmap file open. The workaround is to shutdown the current kernel and then use `df.caiman.remove_item()`. For example, you can keep another notebook that you use just for cleaning unwanted mcorr items.\n",
    "\n",
    "There is currently no way to close a `numpy.memmap`: https://github.com/numpy/numpy/issues/13510"
   ]
  },
  {
   "cell_type": "markdown",
   "id": "4c7bb2c6",
   "metadata": {},
   "source": [
    "Indices are always reset when you use `caiman.remove_item()`. UUIDs are always preserved."
   ]
  },
  {
   "cell_type": "code",
   "execution_count": 14,
   "id": "ead35f63",
   "metadata": {},
   "outputs": [
    {
     "data": {
      "text/html": [
       "<div>\n",
       "<style scoped>\n",
       "    .dataframe tbody tr th:only-of-type {\n",
       "        vertical-align: middle;\n",
       "    }\n",
       "\n",
       "    .dataframe tbody tr th {\n",
       "        vertical-align: top;\n",
       "    }\n",
       "\n",
       "    .dataframe thead th {\n",
       "        text-align: right;\n",
       "    }\n",
       "</style>\n",
       "<table border=\"1\" class=\"dataframe\">\n",
       "  <thead>\n",
       "    <tr style=\"text-align: right;\">\n",
       "      <th></th>\n",
       "      <th>algo</th>\n",
       "      <th>item_name</th>\n",
       "      <th>input_movie_path</th>\n",
       "      <th>params</th>\n",
       "      <th>outputs</th>\n",
       "      <th>added_time</th>\n",
       "      <th>ran_time</th>\n",
       "      <th>algo_duration</th>\n",
       "      <th>comments</th>\n",
       "      <th>uuid</th>\n",
       "    </tr>\n",
       "  </thead>\n",
       "  <tbody>\n",
       "    <tr>\n",
       "      <th>0</th>\n",
       "      <td>mcorr</td>\n",
       "      <td>plane_1</td>\n",
       "      <td>animal_01/session_01/plane_1.zarr</td>\n",
       "      <td>{'main': {'var_name_hdf5': 'mov', 'max_shifts': (10, 10), 'strides': (48, 48), 'overlaps': (24, 24), 'max_deviation_...</td>\n",
       "      <td>{'mean-projection-path': '5ed9532f-a5d9-4ecb-bdae-f14b37fc2ef2/5ed9532f-a5d9-4ecb-bdae-f14b37fc2ef2_mean_projection....</td>\n",
       "      <td>2024-09-09T14:50:33</td>\n",
       "      <td>2024-09-10T09:55:53</td>\n",
       "      <td>42.42 sec</td>\n",
       "      <td>None</td>\n",
       "      <td>5ed9532f-a5d9-4ecb-bdae-f14b37fc2ef2</td>\n",
       "    </tr>\n",
       "    <tr>\n",
       "      <th>1</th>\n",
       "      <td>mcorr</td>\n",
       "      <td>plane_1</td>\n",
       "      <td>animal_01/session_01/plane_1.zarr</td>\n",
       "      <td>{'main': {'var_name_hdf5': 'mov', 'max_shifts': (10, 10), 'strides': (48, 48), 'overlaps': (24, 24), 'max_deviation_...</td>\n",
       "      <td>{'mean-projection-path': 'aab79e23-ebcc-45cb-a12b-6f7e3eae935c/aab79e23-ebcc-45cb-a12b-6f7e3eae935c_mean_projection....</td>\n",
       "      <td>2024-09-09T14:50:49</td>\n",
       "      <td>2024-09-10T09:57:13</td>\n",
       "      <td>42.87 sec</td>\n",
       "      <td>None</td>\n",
       "      <td>aab79e23-ebcc-45cb-a12b-6f7e3eae935c</td>\n",
       "    </tr>\n",
       "    <tr>\n",
       "      <th>2</th>\n",
       "      <td>mcorr</td>\n",
       "      <td>plane_1</td>\n",
       "      <td>animal_01/session_01/plane_1.zarr</td>\n",
       "      <td>{'main': {'var_name_hdf5': 'mov', 'max_shifts': (10, 10), 'strides': (48, 48), 'overlaps': (24, 24), 'max_deviation_...</td>\n",
       "      <td>{'mean-projection-path': '247620be-d14b-46da-b6ba-6c73bf607b02/247620be-d14b-46da-b6ba-6c73bf607b02_mean_projection....</td>\n",
       "      <td>2024-09-09T14:55:09</td>\n",
       "      <td>2024-09-10T09:57:59</td>\n",
       "      <td>42.13 sec</td>\n",
       "      <td>None</td>\n",
       "      <td>247620be-d14b-46da-b6ba-6c73bf607b02</td>\n",
       "    </tr>\n",
       "    <tr>\n",
       "      <th>3</th>\n",
       "      <td>mcorr</td>\n",
       "      <td>plane_1</td>\n",
       "      <td>animal_01/session_01/plane_1.zarr</td>\n",
       "      <td>{'main': {'var_name_hdf5': 'mov', 'max_shifts': (10, 10), 'strides': [48, 48], 'overlaps': [24, 24], 'max_deviation_...</td>\n",
       "      <td>None</td>\n",
       "      <td>2024-09-10T10:46:06</td>\n",
       "      <td>None</td>\n",
       "      <td>None</td>\n",
       "      <td>None</td>\n",
       "      <td>00dc740c-7cf4-4cbb-b239-4cd8fc0439a2</td>\n",
       "    </tr>\n",
       "    <tr>\n",
       "      <th>4</th>\n",
       "      <td>mcorr</td>\n",
       "      <td>plane_1</td>\n",
       "      <td>animal_01/session_01/plane_1.zarr</td>\n",
       "      <td>{'main': {'var_name_hdf5': 'mov', 'max_shifts': (10, 10), 'strides': [48, 48], 'overlaps': [24, 24], 'max_deviation_...</td>\n",
       "      <td>None</td>\n",
       "      <td>2024-09-10T11:05:25</td>\n",
       "      <td>None</td>\n",
       "      <td>None</td>\n",
       "      <td>None</td>\n",
       "      <td>0b04ece1-0bf1-4d76-8688-f4091e06ca2b</td>\n",
       "    </tr>\n",
       "  </tbody>\n",
       "</table>\n",
       "</div>"
      ],
      "text/plain": [
       "    algo item_name                   input_movie_path  \\\n",
       "0  mcorr   plane_1  animal_01/session_01/plane_1.zarr   \n",
       "1  mcorr   plane_1  animal_01/session_01/plane_1.zarr   \n",
       "2  mcorr   plane_1  animal_01/session_01/plane_1.zarr   \n",
       "3  mcorr   plane_1  animal_01/session_01/plane_1.zarr   \n",
       "4  mcorr   plane_1  animal_01/session_01/plane_1.zarr   \n",
       "\n",
       "                                                                                                                    params  \\\n",
       "0  {'main': {'var_name_hdf5': 'mov', 'max_shifts': (10, 10), 'strides': (48, 48), 'overlaps': (24, 24), 'max_deviation_...   \n",
       "1  {'main': {'var_name_hdf5': 'mov', 'max_shifts': (10, 10), 'strides': (48, 48), 'overlaps': (24, 24), 'max_deviation_...   \n",
       "2  {'main': {'var_name_hdf5': 'mov', 'max_shifts': (10, 10), 'strides': (48, 48), 'overlaps': (24, 24), 'max_deviation_...   \n",
       "3  {'main': {'var_name_hdf5': 'mov', 'max_shifts': (10, 10), 'strides': [48, 48], 'overlaps': [24, 24], 'max_deviation_...   \n",
       "4  {'main': {'var_name_hdf5': 'mov', 'max_shifts': (10, 10), 'strides': [48, 48], 'overlaps': [24, 24], 'max_deviation_...   \n",
       "\n",
       "                                                                                                                   outputs  \\\n",
       "0  {'mean-projection-path': '5ed9532f-a5d9-4ecb-bdae-f14b37fc2ef2/5ed9532f-a5d9-4ecb-bdae-f14b37fc2ef2_mean_projection....   \n",
       "1  {'mean-projection-path': 'aab79e23-ebcc-45cb-a12b-6f7e3eae935c/aab79e23-ebcc-45cb-a12b-6f7e3eae935c_mean_projection....   \n",
       "2  {'mean-projection-path': '247620be-d14b-46da-b6ba-6c73bf607b02/247620be-d14b-46da-b6ba-6c73bf607b02_mean_projection....   \n",
       "3                                                                                                                     None   \n",
       "4                                                                                                                     None   \n",
       "\n",
       "            added_time             ran_time algo_duration comments  \\\n",
       "0  2024-09-09T14:50:33  2024-09-10T09:55:53     42.42 sec     None   \n",
       "1  2024-09-09T14:50:49  2024-09-10T09:57:13     42.87 sec     None   \n",
       "2  2024-09-09T14:55:09  2024-09-10T09:57:59     42.13 sec     None   \n",
       "3  2024-09-10T10:46:06                 None          None     None   \n",
       "4  2024-09-10T11:05:25                 None          None     None   \n",
       "\n",
       "                                   uuid  \n",
       "0  5ed9532f-a5d9-4ecb-bdae-f14b37fc2ef2  \n",
       "1  aab79e23-ebcc-45cb-a12b-6f7e3eae935c  \n",
       "2  247620be-d14b-46da-b6ba-6c73bf607b02  \n",
       "3  00dc740c-7cf4-4cbb-b239-4cd8fc0439a2  \n",
       "4  0b04ece1-0bf1-4d76-8688-f4091e06ca2b  "
      ]
     },
     "execution_count": 14,
     "metadata": {},
     "output_type": "execute_result"
    }
   ],
   "source": [
    "df=df.caiman.reload_from_disk()\n",
    "df"
   ]
  },
  {
   "cell_type": "code",
   "execution_count": 15,
   "id": "4704176d",
   "metadata": {},
   "outputs": [
    {
     "data": {
      "text/html": [
       "<div>\n",
       "<style scoped>\n",
       "    .dataframe tbody tr th:only-of-type {\n",
       "        vertical-align: middle;\n",
       "    }\n",
       "\n",
       "    .dataframe tbody tr th {\n",
       "        vertical-align: top;\n",
       "    }\n",
       "\n",
       "    .dataframe thead th {\n",
       "        text-align: right;\n",
       "    }\n",
       "</style>\n",
       "<table border=\"1\" class=\"dataframe\">\n",
       "  <thead>\n",
       "    <tr style=\"text-align: right;\">\n",
       "      <th></th>\n",
       "      <th>algo</th>\n",
       "      <th>item_name</th>\n",
       "      <th>input_movie_path</th>\n",
       "      <th>params</th>\n",
       "      <th>outputs</th>\n",
       "      <th>added_time</th>\n",
       "      <th>ran_time</th>\n",
       "      <th>algo_duration</th>\n",
       "      <th>comments</th>\n",
       "      <th>uuid</th>\n",
       "    </tr>\n",
       "  </thead>\n",
       "  <tbody>\n",
       "    <tr>\n",
       "      <th>0</th>\n",
       "      <td>mcorr</td>\n",
       "      <td>plane_1</td>\n",
       "      <td>animal_01/session_01/plane_1.zarr</td>\n",
       "      <td>{'main': {'var_name_hdf5': 'mov', 'max_shifts': (10, 10), 'strides': (48, 48), 'overlaps': (24, 24), 'max_deviation_...</td>\n",
       "      <td>{'mean-projection-path': '247620be-d14b-46da-b6ba-6c73bf607b02/247620be-d14b-46da-b6ba-6c73bf607b02_mean_projection....</td>\n",
       "      <td>2024-09-09T14:55:09</td>\n",
       "      <td>2024-09-10T09:57:59</td>\n",
       "      <td>42.13 sec</td>\n",
       "      <td>None</td>\n",
       "      <td>247620be-d14b-46da-b6ba-6c73bf607b02</td>\n",
       "    </tr>\n",
       "  </tbody>\n",
       "</table>\n",
       "</div>"
      ],
      "text/plain": [
       "    algo item_name                   input_movie_path  \\\n",
       "0  mcorr   plane_1  animal_01/session_01/plane_1.zarr   \n",
       "\n",
       "                                                                                                                    params  \\\n",
       "0  {'main': {'var_name_hdf5': 'mov', 'max_shifts': (10, 10), 'strides': (48, 48), 'overlaps': (24, 24), 'max_deviation_...   \n",
       "\n",
       "                                                                                                                   outputs  \\\n",
       "0  {'mean-projection-path': '247620be-d14b-46da-b6ba-6c73bf607b02/247620be-d14b-46da-b6ba-6c73bf607b02_mean_projection....   \n",
       "\n",
       "            added_time             ran_time algo_duration comments  \\\n",
       "0  2024-09-09T14:55:09  2024-09-10T09:57:59     42.13 sec     None   \n",
       "\n",
       "                                   uuid  \n",
       "0  247620be-d14b-46da-b6ba-6c73bf607b02  "
      ]
     },
     "execution_count": 15,
     "metadata": {},
     "output_type": "execute_result"
    }
   ],
   "source": [
    "rows_keep = [2]\n",
    "for i, row in df.iterrows():\n",
    "    if i not in rows_keep:\n",
    "        df.caiman.remove_item(row.uuid, safe_removal=False)\n",
    "df"
   ]
  },
  {
   "cell_type": "code",
   "execution_count": 16,
   "id": "3b18c653",
   "metadata": {},
   "outputs": [],
   "source": [
    "df.caiman.save_to_disk()"
   ]
  },
  {
   "cell_type": "code",
   "execution_count": 18,
   "id": "a75ff004",
   "metadata": {},
   "outputs": [
    {
     "data": {
      "text/html": [
       "<table class=\"zarr-info\"><tbody><tr><th style=\"text-align: left\">Name</th><td style=\"text-align: left\">/mov</td></tr><tr><th style=\"text-align: left\">Type</th><td style=\"text-align: left\">zarr.core.Array</td></tr><tr><th style=\"text-align: left\">Data type</th><td style=\"text-align: left\">float64</td></tr><tr><th style=\"text-align: left\">Shape</th><td style=\"text-align: left\">(1730, 584, 544)</td></tr><tr><th style=\"text-align: left\">Chunk shape</th><td style=\"text-align: left\">(52, 584, 544)</td></tr><tr><th style=\"text-align: left\">Order</th><td style=\"text-align: left\">C</td></tr><tr><th style=\"text-align: left\">Read-only</th><td style=\"text-align: left\">False</td></tr><tr><th style=\"text-align: left\">Compressor</th><td style=\"text-align: left\">Blosc(cname='lz4', clevel=5, shuffle=SHUFFLE, blocksize=0)</td></tr><tr><th style=\"text-align: left\">Store type</th><td style=\"text-align: left\">zarr.storage.DirectoryStore</td></tr><tr><th style=\"text-align: left\">No. bytes</th><td style=\"text-align: left\">4396912640 (4.1G)</td></tr><tr><th style=\"text-align: left\">No. bytes stored</th><td style=\"text-align: left\">1118784685 (1.0G)</td></tr><tr><th style=\"text-align: left\">Storage ratio</th><td style=\"text-align: left\">3.9</td></tr><tr><th style=\"text-align: left\">Chunks initialized</th><td style=\"text-align: left\">34/34</td></tr></tbody></table>"
      ],
      "text/plain": [
       "Name               : /mov\n",
       "Type               : zarr.core.Array\n",
       "Data type          : float64\n",
       "Shape              : (1730, 584, 544)\n",
       "Chunk shape        : (52, 584, 544)\n",
       "Order              : C\n",
       "Read-only          : False\n",
       "Compressor         : Blosc(cname='lz4', clevel=5, shuffle=SHUFFLE, blocksize=0)\n",
       "Store type         : zarr.storage.DirectoryStore\n",
       "No. bytes          : 4396912640 (4.1G)\n",
       "No. bytes stored   : 1118784685 (1.0G)\n",
       "Storage ratio      : 3.9\n",
       "Chunks initialized : 34/34"
      ]
     },
     "execution_count": 18,
     "metadata": {},
     "output_type": "execute_result"
    }
   ],
   "source": []
  },
  {
   "cell_type": "markdown",
   "id": "935f1bba",
   "metadata": {},
   "source": [
    "## Evaluate Results: Optical Flow"
   ]
  },
  {
   "cell_type": "code",
   "execution_count": 20,
   "id": "9dd8cff2",
   "metadata": {},
   "outputs": [],
   "source": [
    "import caiman as cm"
   ]
  },
  {
   "cell_type": "code",
   "execution_count": 9,
   "id": "dd773085",
   "metadata": {},
   "outputs": [
    {
     "ename": "NameError",
     "evalue": "name 'movie' is not defined",
     "output_type": "error",
     "traceback": [
      "\u001b[0;31m---------------------------------------------------------------------------\u001b[0m",
      "\u001b[0;31mNameError\u001b[0m                                 Traceback (most recent call last)",
      "Cell \u001b[0;32mIn[9], line 7\u001b[0m\n\u001b[1;32m      4\u001b[0m fnames_rig \u001b[38;5;241m=\u001b[39m \u001b[38;5;28mstr\u001b[39m(df\u001b[38;5;241m.\u001b[39miloc[\u001b[38;5;241m0\u001b[39m]\u001b[38;5;241m.\u001b[39mmcorr\u001b[38;5;241m.\u001b[39mget_output_path())\n\u001b[1;32m      6\u001b[0m \u001b[38;5;66;03m#% compute metrics for the results (TAKES TIME!!)\u001b[39;00m\n\u001b[0;32m----> 7\u001b[0m final_size \u001b[38;5;241m=\u001b[39m np\u001b[38;5;241m.\u001b[39msubtract(\u001b[43mmovie\u001b[49m[\u001b[38;5;241m1\u001b[39m,:,:]\u001b[38;5;241m.\u001b[39mshape, \u001b[38;5;241m2\u001b[39m \u001b[38;5;241m*\u001b[39m \u001b[38;5;241m2\u001b[39m) \u001b[38;5;66;03m# remove pixels in the boundaries\u001b[39;00m\n\u001b[1;32m      8\u001b[0m winsize \u001b[38;5;241m=\u001b[39m \u001b[38;5;241m100\u001b[39m\n\u001b[1;32m      9\u001b[0m swap_dim \u001b[38;5;241m=\u001b[39m \u001b[38;5;28;01mFalse\u001b[39;00m\n",
      "\u001b[0;31mNameError\u001b[0m: name 'movie' is not defined"
     ]
    }
   ],
   "source": [
    "# fnames = [df.iloc[0].mcorr.get_]\n",
    "# fnames = [str(df.iloc[0].mcorr.get_output_path())]\n",
    "fnames = str(movie_path)\n",
    "fnames_rig = str(df.iloc[0].mcorr.get_output_path())\n",
    "\n",
    "#% compute metrics for the results (TAKES TIME!!)\n",
    "final_size = np.subtract(movie[1,:,:].shape, 2 * 2) # remove pixels in the boundaries\n",
    "winsize = 100\n",
    "swap_dim = False\n",
    "resize_fact_flow = .2    # downsample for computing ROF"
   ]
  },
  {
   "cell_type": "code",
   "execution_count": 27,
   "id": "65e11488",
   "metadata": {},
   "outputs": [],
   "source": [
    "%%capture\n",
    "\n",
    "tmpl_orig, correlations_orig, flows_orig, norms_orig, crispness_orig = cm.motion_correction.compute_metrics_motion_correction(\n",
    "    fnames[0], final_size[0], final_size[1], swap_dim, winsize=winsize, play_flow=False, resize_fact_flow=resize_fact_flow)\n"
   ]
  },
  {
   "cell_type": "code",
   "execution_count": 30,
   "id": "775621c0",
   "metadata": {},
   "outputs": [],
   "source": [
    "tmpl_rig, correlations_rig, flows_rig, norms_rig, crispness_rig = cm.motion_correction.compute_metrics_motion_correction(\n",
    "    fnames_rig[0], final_size[0], final_size[1],\n",
    "    swap_dim, winsize=winsize, play_flow=False, resize_fact_flow=resize_fact_flow)\n",
    "\n",
    "# tmpl_els, correlations_els, flows_els, norms_els, crispness_els = cm.motion_correction.compute_metrics_motion_correction(\n",
    "#     mc.fname_tot_els[0], final_size[0], final_size[1],\n",
    "#     swap_dim, winsize=winsize, play_flow=False, resize_fact_flow=resize_fact_flow)"
   ]
  },
  {
   "cell_type": "code",
   "execution_count": 62,
   "id": "12bfc676",
   "metadata": {},
   "outputs": [
    {
     "data": {
      "text/plain": [
       "'/home/mbo/caiman_data_org/animal_01/session_01/plane_1_metrics.npz'"
      ]
     },
     "execution_count": 62,
     "metadata": {},
     "output_type": "execute_result"
    }
   ],
   "source": [
    "fpath = cm.paths.fname_derived_presuffix(str(fnames), 'metrics', swapsuffix='npz')\n",
    "fpath"
   ]
  },
  {
   "cell_type": "code",
   "execution_count": 8,
   "id": "96ac980d",
   "metadata": {},
   "outputs": [
    {
     "ename": "NameError",
     "evalue": "name 'cm' is not defined",
     "output_type": "error",
     "traceback": [
      "\u001b[0;31m---------------------------------------------------------------------------\u001b[0m",
      "\u001b[0;31mNameError\u001b[0m                                 Traceback (most recent call last)",
      "Cell \u001b[0;32mIn[8], line 2\u001b[0m\n\u001b[1;32m      1\u001b[0m \u001b[38;5;66;03m##%% plot the results of Residual Optical Flow\u001b[39;00m\n\u001b[0;32m----> 2\u001b[0m fls \u001b[38;5;241m=\u001b[39m [\u001b[43mcm\u001b[49m\u001b[38;5;241m.\u001b[39mpaths\u001b[38;5;241m.\u001b[39mfname_derived_presuffix(\u001b[38;5;28mstr\u001b[39m(fnames), \u001b[38;5;124m'\u001b[39m\u001b[38;5;124mmetrics\u001b[39m\u001b[38;5;124m'\u001b[39m, swapsuffix\u001b[38;5;241m=\u001b[39m\u001b[38;5;124m'\u001b[39m\u001b[38;5;124mnpz\u001b[39m\u001b[38;5;124m'\u001b[39m), cm\u001b[38;5;241m.\u001b[39mpaths\u001b[38;5;241m.\u001b[39mfname_derived_presuffix(\u001b[38;5;28mstr\u001b[39m(fnames_rig), \u001b[38;5;124m'\u001b[39m\u001b[38;5;124mmetrics\u001b[39m\u001b[38;5;124m'\u001b[39m, swapsuffix\u001b[38;5;241m=\u001b[39m\u001b[38;5;124m'\u001b[39m\u001b[38;5;124mnpz\u001b[39m\u001b[38;5;124m'\u001b[39m)]\n\u001b[1;32m      4\u001b[0m plt\u001b[38;5;241m.\u001b[39mfigure(figsize \u001b[38;5;241m=\u001b[39m (\u001b[38;5;241m20\u001b[39m,\u001b[38;5;241m10\u001b[39m))\n\u001b[1;32m      5\u001b[0m \u001b[38;5;28;01mfor\u001b[39;00m cnt, fl, metr \u001b[38;5;129;01min\u001b[39;00m \u001b[38;5;28mzip\u001b[39m(\u001b[38;5;28mrange\u001b[39m(\u001b[38;5;28mlen\u001b[39m(fls)), fls, [\u001b[38;5;124m'\u001b[39m\u001b[38;5;124mraw\u001b[39m\u001b[38;5;124m'\u001b[39m,\u001b[38;5;124m'\u001b[39m\u001b[38;5;124mcorrected\u001b[39m\u001b[38;5;124m'\u001b[39m,]):\n",
      "\u001b[0;31mNameError\u001b[0m: name 'cm' is not defined"
     ]
    }
   ],
   "source": [
    "##%% plot the results of Residual Optical Flow\n",
    "fls = [cm.paths.fname_derived_presuffix(str(fnames), 'metrics', swapsuffix='npz'), cm.paths.fname_derived_presuffix(str(fnames_rig), 'metrics', swapsuffix='npz')]\n",
    "\n",
    "plt.figure(figsize = (20,10))\n",
    "for cnt, fl, metr in zip(range(len(fls)), fls, ['raw','corrected',]):\n",
    "    print('fl')\n",
    "    if Path(fl).suffix == '.npz':\n",
    "        with np.load(str(fl)) as ld:\n",
    "            print(str(np.mean(ld['norms'])) + '+/-' + str(np.std(ld['norms'])) +\n",
    "                ' ; ' + str(ld['smoothness']) + ' ; ' + str(ld['smoothness_corr']))\n",
    "            plt.subplot(len(fls), 3, 1 + 3 * cnt)\n",
    "            plt.ylabel(metr)\n",
    "            try:\n",
    "                mean_img = np.mean(cm.load(fl[:-12] + '.tif'))[12:-12, 12:-12]\n",
    "            except:\n",
    "                try:\n",
    "                    mean_img = np.mean(\n",
    "                        cm.load(fl[:-12] + '.tif'), 0)[12:-12, 12:-12]\n",
    "                except:\n",
    "                    try:\n",
    "                        mean_img = np.mean(\n",
    "                            cm.load(fl[:-12] + '.hdf5'), 0)[12:-12, 12:-12]\n",
    "                    except:\n",
    "                        try:\n",
    "                            mean_img = np.mean(cm.load(fl[:-12] + '.zarr'), 0)[12:-12, 12:-12]\n",
    "                        except:\n",
    "                            print(fl[:-12] + '.zarr')\n",
    "\n",
    "\n",
    "\n",
    "            lq, hq = np.nanpercentile(mean_img, [.5, 99.5])\n",
    "            plt.imshow(mean_img, vmin=lq, vmax=hq)\n",
    "            plt.title('Mean Optical Flow')\n",
    "            plt.subplot(len(fls), 3, 3 * cnt + 2)\n",
    "            plt.imshow(ld['img_corr'], vmin=0, vmax=.35)\n",
    "            plt.title('Corr image')\n",
    "            plt.subplot(len(fls), 3, 3 * cnt + 3)\n",
    "            flows = ld['flows']\n",
    "            plt.imshow(np.mean(\n",
    "            np.sqrt(flows[:, :, :, 0]**2 + flows[:, :, :, 1]**2), 0), vmin=0, vmax=0.3)\n",
    "            plt.colorbar()\n",
    "\n",
    "\n",
    "            lq, hq = np.nanpercentile(mean_img, [.5, 99.5])\n",
    "            plt.imshow(mean_img, vmin=lq, vmax=hq)\n",
    "            plt.title('Mean Optical Flow')\n",
    "            plt.subplot(len(fls), 3, 3 * cnt + 2)\n",
    "            plt.imshow(ld['img_corr'], vmin=0, vmax=.35)\n",
    "            plt.title('Corr image')\n",
    "            plt.subplot(len(fls), 3, 3 * cnt + 3)\n",
    "            flows = ld['flows']\n",
    "            plt.imshow(np.mean(\n",
    "            np.sqrt(flows[:, :, :, 0]**2 + flows[:, :, :, 1]**2), 0), vmin=0, vmax=0.3)\n",
    "            plt.colorbar()"
   ]
  },
  {
   "cell_type": "code",
   "execution_count": 71,
   "id": "3d53596b",
   "metadata": {},
   "outputs": [
    {
     "data": {
      "image/png": "[encoded data removed]",
      "text/plain": [
       "<Figure size 2000x2000 with 2 Axes>"
      ]
     },
     "metadata": {},
     "output_type": "display_data"
    }
   ],
   "source": [
    "plt.figure(figsize = (20,20))\n",
    "plt.subplot(211); plt.plot(correlations_orig); plt.plot(correlations_rig);\n",
    "plt.legend(['Original','Rigid','PW-Rigid'])\n",
    "plt.subplot(223); plt.scatter(correlations_orig, correlations_rig); plt.xlabel('Original');\n",
    "plt.ylabel('Rigid'); plt.plot([0.3,0.7],[0.3,0.7],'r--')\n",
    "axes = plt.gca(); axes.set_xlim([0.3,0.7]); axes.set_ylim([0.3,0.7]); plt.axis('square');"
   ]
  },
  {
   "cell_type": "code",
   "execution_count": null,
   "id": "9beac7fa",
   "metadata": {},
   "outputs": [],
   "source": []
  }
 ],
 "metadata": {
  "kernelspec": {
   "display_name": "Python 3 (ipykernel)",
   "language": "python",
   "name": "python3"
  },
  "language_info": {
   "codemirror_mode": {
    "name": "ipython",
    "version": 3
   },
   "file_extension": ".py",
   "mimetype": "text/x-python",
   "name": "python",
   "nbconvert_exporter": "python",
   "pygments_lexer": "ipython3",
   "version": "3.10.8"
  },
  "widgets": {
   "application/vnd.jupyter.widget-state+json": {
    "state": {},
    "version_major": 2,
    "version_minor": 0
   }
  }
 },
 "nbformat": 4,
 "nbformat_minor": 5
}
