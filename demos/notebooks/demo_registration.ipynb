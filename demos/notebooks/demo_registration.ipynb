{
 "cells": [
  {
   "cell_type": "markdown",
   "id": "dbb6bb2d-6a7e-4578-bc24-d93aa638c7e3",
   "metadata": {},
   "source": [
    "# LBM: Demo Registration"
   ]
  },
  {
   "cell_type": "code",
   "id": "8aa5aa21-1f82-4d37-b2ad-1c0239d1d38f",
   "metadata": {
    "execution": {
     "iopub.execute_input": "2024-05-25T04:23:50.439658Z",
     "iopub.status.busy": "2024-05-25T04:23:50.439225Z",
     "iopub.status.idle": "2024-05-25T04:23:58.647432Z",
     "shell.execute_reply": "2024-05-25T04:23:58.646924Z",
     "shell.execute_reply.started": "2024-05-25T04:23:50.439631Z"
    },
    "jupyter": {
     "is_executing": true
    }
   },
   "source": [
    "import sys\n",
    "from pathlib import Path\n",
    "import os\n",
    "from pathlib import Path\n",
    "import numpy as np\n",
    "import cv2\n",
    "\n",
    "sys.path.append('../../util/')  # TODO: Take this out when we upload to pypi\n",
    "sys.path.append('../../exclude/')  # TODO: Take this out when we upload to pypi\n",
    "sys.path.append('../..')  # TODO: Take this out when we upload to pypi\n",
    "\n",
    "import bokeh.plotting as bpl\n",
    "import holoviews as hv\n",
    "from IPython import get_ipython\n",
    "import logging\n",
    "import matplotlib.pyplot as plt\n",
    "\n",
    "try:\n",
    "    cv2.setNumThreads(0)\n",
    "except():\n",
    "    pass\n",
    "\n",
    "bpl.output_notebook()\n",
    "hv.notebook_extension('bokeh')\n",
    "%matplotlib inline"
   ],
   "outputs": [],
   "execution_count": null
  },
  {
   "cell_type": "code",
   "execution_count": 2,
   "id": "1de17a08-4caf-4748-becb-468cb65958f7",
   "metadata": {
    "execution": {
     "iopub.execute_input": "2024-05-25T04:52:27.753189Z",
     "iopub.status.busy": "2024-05-25T04:52:27.752679Z",
     "iopub.status.idle": "2024-05-25T04:52:28.268488Z",
     "shell.execute_reply": "2024-05-25T04:52:28.267808Z",
     "shell.execute_reply.started": "2024-05-25T04:52:27.753133Z"
    }
   },
   "outputs": [
    {
     "name": "stdout",
     "output_type": "stream",
     "text": [
      "*** No help on # dont forget to call it after the install as it sets some defaults\n",
      "+------------------+----------------------------------------------------------------------------------------------+\n",
      "| Attribute        | Value                                                                                        |\n",
      "+------------------+----------------------------------------------------------------------------------------------+\n",
      "| cpu              |                                                                                              |\n",
      "| cpu_cores        | 24                                                                                           |\n",
      "| cpu_count        | 32                                                                                           |\n",
      "| cpu_threads      | 32                                                                                           |\n",
      "| date             | 2024-07-14 09:27:51.602620                                                                   |\n",
      "| frequency        | scpufreq(current=3200.0, min=0.0, max=3200.0)                                                |\n",
      "| mem.available    | 41.9 GiB                                                                                     |\n",
      "| mem.free         | 41.9 GiB                                                                                     |\n",
      "| mem.percent      | 67.2 %                                                                                       |\n",
      "| mem.total        | 127.8 GiB                                                                                    |\n",
      "| mem.used         | 85.9 GiB                                                                                     |\n",
      "| platform.version | ('10', '10.0.19045', 'SP0', 'Multiprocessor Free')                                           |\n",
      "| python           | 3.10.8 | packaged by conda-forge | (main, Nov 22 2022, 08:16:53) [MSC v.1929 64 bit (AMD64)] |\n",
      "| python.pip       | 24.0                                                                                         |\n",
      "| python.version   | 3.10.8                                                                                       |\n",
      "| sys.platform     | win32                                                                                        |\n",
      "| uname.machine    | AMD64                                                                                        |\n",
      "| uname.node       | RBO-C2                                                                                       |\n",
      "| uname.processor  | Intel64 Family 6 Model 183 Stepping 1, GenuineIntel                                          |\n",
      "| uname.release    | 10                                                                                           |\n",
      "| uname.system     | Windows                                                                                      |\n",
      "| uname.version    | 10.0.19045                                                                                   |\n",
      "| user             | RBO                                                                                          |\n",
      "+------------------+----------------------------------------------------------------------------------------------+\n"
     ]
    }
   ],
   "source": [
    "# !pip install cloudmesh-cmd5\n",
    "!cms help # dont forget to call it after the install as it sets some defaults\n",
    "!cms sysinfo"
   ]
  },
  {
   "cell_type": "markdown",
   "id": "c9c56ef1-7536-45c0-ba27-06de0f66242c",
   "metadata": {},
   "source": [
    "## Motion Correction: CaImAn - NORMCorre\n",
    "\n",
    "Load pre-processed data as a CaImAn `movie`"
   ]
  },
  {
   "cell_type": "code",
   "execution_count": 3,
   "id": "f37bd042",
   "metadata": {
    "execution": {
     "iopub.execute_input": "2024-05-24T04:42:18.056151Z",
     "iopub.status.busy": "2024-05-24T04:42:18.055479Z",
     "iopub.status.idle": "2024-05-24T04:42:18.189438Z",
     "shell.execute_reply": "2024-05-24T04:42:18.187283Z",
     "shell.execute_reply.started": "2024-05-24T04:42:18.056079Z"
    }
   },
   "outputs": [],
   "source": [
    "import caiman as cm\n",
    "from caiman.motion_correction import MotionCorrect, tile_and_correct, motion_correction_piecewise\n",
    "from caiman.source_extraction.cnmf import cnmf, params\n",
    "from caiman.utils.utils import download_demo\n",
    "from caiman.utils.visualization import plot_contours, nb_view_patches, nb_plot_contour\n",
    "from caiman.utils.visualization import view_quilt"
   ]
  },
  {
   "cell_type": "code",
   "execution_count": 18,
   "id": "275ff214",
   "metadata": {},
   "outputs": [
    {
     "data": {
      "text/plain": [
       "528"
      ]
     },
     "execution_count": 18,
     "metadata": {},
     "output_type": "execute_result"
    }
   ],
   "source": [
    "import scanreader as sr\n",
    "data_path = Path().home() / 'Documents' / 'data' / 'high_res'\n",
    "raw = [x for x in data_path.glob(f'*.tif*')][0]\n",
    "ext = \"tif\"\n",
    "reader = sr.read_scan(str(raw), join_contiguous=True, lbm=True, x_cut=(6,6), y_cut=(17,0))\n",
    "reader.field_widths[0]"
   ],
   "outputs": [],
   "execution_count": null
  },
  {
   "cell_type": "code",
   "execution_count": 19,
   "id": "bdfd7c81",
   "metadata": {
    "execution": {
     "iopub.execute_input": "2024-05-24T05:26:30.570470Z",
     "iopub.status.busy": "2024-05-24T05:26:30.569697Z",
     "iopub.status.idle": "2024-05-24T05:26:32.443920Z",
     "shell.execute_reply": "2024-05-24T05:26:32.442902Z",
     "shell.execute_reply.started": "2024-05-24T05:26:30.570372Z"
    }
   },
   "outputs": [],
   "source": [
    "##%% start the cluster (if a cluster already exists terminate it)\n",
    "if 'dview' in locals():\n",
    "    cm.stop_server(dview=dview)\n",
    "c, dview, n_processes = cm.cluster.setup_cluster(\n",
    "    backend='multiprocessing', n_processes=None, single_thread=False)"
   ]
  },
  {
   "cell_type": "code",
   "execution_count": 20,
   "id": "dcd16373-ba18-400f-b620-7232ad7687b1",
   "metadata": {
    "execution": {
     "execution_failed": "2024-05-24T04:14:47.847Z",
     "iopub.execute_input": "2024-05-24T04:14:47.389001Z",
     "iopub.status.busy": "2024-05-24T04:14:47.388500Z"
    }
   },
   "outputs": [
    {
     "data": {
      "text/plain": [
       "[WindowsPath('C:/Users/RBO/Documents/data/high_res/MH70_0p6mm_FOV_50_550um_depth_som_stim_199mW_3min_M1_00001_00001.tif'),\n",
       " WindowsPath('C:/Users/RBO/Documents/data/high_res/raw_p1.tif'),\n",
       " WindowsPath('C:/Users/RBO/Documents/data/high_res/raw_p1_tp.tif')]"
      ]
     },
     "execution_count": 20,
     "metadata": {},
     "output_type": "execute_result"
    }
   ],
   "source": [
    "files = [x for x in data_path.glob(f\"*.{ext}\")]\n",
    "files"
   ]
  },
  {
   "cell_type": "code",
   "execution_count": 7,
   "id": "1a7ef3d3",
   "metadata": {},
   "outputs": [],
   "source": [
    "plane = reader[:,:,:,0,1:400].squeeze()\n",
    "plane = np.transpose(plane, (2,0,1))"
   ]
  },
  {
   "cell_type": "code",
   "execution_count": 8,
   "id": "25bc8f0b",
   "metadata": {},
   "outputs": [],
   "source": [
    "movie = cm.movie(plane, start_time=2,fr=reader.fps)\n",
    "downsampling_ratio = 0.2 # subsample 5x\n",
    "movie.resize(fz=downsampling_ratio).play(q_max=99.5, fr=reader.fps, magnification=2)"
   ]
  },
  {
   "cell_type": "code",
   "execution_count": 9,
   "id": "b6992c8a-f471-4c90-b69f-fd6ca7660e33",
   "metadata": {
    "execution": {
     "iopub.execute_input": "2024-05-24T04:39:04.885286Z",
     "iopub.status.busy": "2024-05-24T04:39:04.884492Z",
     "iopub.status.idle": "2024-05-24T04:39:05.031454Z",
     "shell.execute_reply": "2024-05-24T04:39:05.025816Z",
     "shell.execute_reply.started": "2024-05-24T04:39:04.885180Z"
    }
   },
   "outputs": [],
   "source": [
    "pix_res = 1\n",
    "mx = 10/pix_res\n",
    "\n",
    "max_shifts = (mx, mx)       # maximum allowed rigid shift in pixels (view the movie to get a sense of motion)\n",
    "max_deviation_rigid = 3     # maximum deviation allowed for patch with respect to rigid shifts\n",
    "pw_rigid = True  # flag for performing rigid or piecewise rigid motion correction\n",
    "shifts_opencv = True  # flag for correcting motion using bicubic interpolation (otherwise FFT interpolation is used)\n",
    "border_nan = 'copy'  # replicate values along the boundary (if True, fill in with NaN)"
   ]
  },
  {
   "cell_type": "code",
   "execution_count": 10,
   "id": "da40bf2b-003b-4b2f-b795-7c72ed25feaf",
   "metadata": {
    "execution": {
     "iopub.execute_input": "2024-05-24T05:26:35.985029Z",
     "iopub.status.busy": "2024-05-24T05:26:35.983925Z"
    }
   },
   "outputs": [
    {
     "name": "stderr",
     "output_type": "stream",
     "text": [
      "WARNING:root:No file saved\n"
     ]
    },
    {
     "data": {
      "text/plain": [
       "<caiman.motion_correction.MotionCorrect at 0x280271b3c70>"
      ]
     },
     "execution_count": 10,
     "metadata": {},
     "output_type": "execute_result"
    }
   ],
   "source": [
    "# Set parameters for rigid motion correction\n",
    "options_rigid = {\n",
    "    # 'max_shifts': max_shifts,       # max shift in pixels\n",
    "    # 'strides': (48, 48),        # create a new patch every x pixels for pw-rigid correction\n",
    "    # 'overlaps': (24, 24),       # overlap between patches (size of patch strides+overlaps)\n",
    "    # 'max_deviation_rigid': 3,   # maximum deviation allowed for patch with respect to rigid shifts\n",
    "    # 'pw_rigid': False,          # flag for performing rigid or piecewise rigid motion correction\n",
    "    # 'shifts_opencv': True,      # flag for correcting motion using bicubic interpolation (otherwise FFT interpolation is used)\n",
    "    # 'border_nan': 'copy',       # replicate values along the boundary (if True, fill in with NaN)\n",
    "    # 'nonneg_movie': False        \n",
    "}\n",
    "# Run rigid motion correction\n",
    "mc_rigid = MotionCorrect(movie, dview=dview, **options_rigid)\n",
    "mc_rigid.motion_correct(save_movie=True)"
   ]
  },
  {
   "cell_type": "code",
   "execution_count": 17,
   "id": "2eb5ddf5-0798-4b27-8771-69abdc5d1a40",
   "metadata": {},
   "outputs": [
    {
     "data": {
      "text/plain": [
       "<caiman.motion_correction.MotionCorrect at 0x280271b3c70>"
      ]
     },
     "execution_count": 17,
     "metadata": {},
     "output_type": "execute_result"
    }
   ],
   "source": [
    "mc_file = Path().home() / 'Documents' / 'data' / 'high_res' / 'raw_p1_tp.tif'\n",
    "# M1 = mc_rigid.apply_shifts_movie(mc_file)\n",
    "mc_rigid"
   ]
  },
  {
   "cell_type": "markdown",
   "id": "2de2ca80-79bd-4d2b-b688-d7851981bbf2",
   "metadata": {},
   "source": [
    "### View rigid template"
   ]
  },
  {
   "cell_type": "code",
   "execution_count": null,
   "id": "1764276b-63bb-4622-a0c9-6c324ae8f5fc",
   "metadata": {},
   "outputs": [],
   "source": [
    "# load motion corrected movie\n",
    "m_rig = cm.load(mc_rigid.mmap_file)\n",
    "bord_px_rig = np.ceil(np.max(mc_rigid.shifts_rig)).astype(int)\n",
    "##%% visualize templates\n",
    "plt.figure(figsize = (20,10))\n",
    "plt.imshow(mc_rigid.total_template_rig, cmap = 'gray');"
   ]
  },
  {
   "cell_type": "markdown",
   "id": "539577b4-b2c9-4c73-8e4b-4e875c2aed3c",
   "metadata": {},
   "source": [
    "Rigid-corrected movie"
   ]
  },
  {
   "cell_type": "code",
   "execution_count": null,
   "id": "156cfa3d-9b85-4573-a303-d51a033134fc",
   "metadata": {},
   "outputs": [],
   "source": [
    "##%% inspect movie\n",
    "m_rig.resize(1, 1, downsample_ratio).play(\n",
    "    q_max=99.5, fr=30, magnification=2, bord_px = 0*bord_px_rig) # press q to exit"
   ]
  },
  {
   "cell_type": "markdown",
   "id": "108adc2c-2eab-4642-90ac-9f419e2dc664",
   "metadata": {},
   "source": [
    "Rigid Template shifts"
   ]
  },
  {
   "cell_type": "code",
   "execution_count": null,
   "id": "26c15518-000b-41cc-b1d5-10dceb66ad87",
   "metadata": {
    "execution": {
     "iopub.execute_input": "2024-05-24T05:24:54.182119Z",
     "iopub.status.busy": "2024-05-24T05:24:54.181095Z",
     "iopub.status.idle": "2024-05-24T05:24:55.226221Z",
     "shell.execute_reply": "2024-05-24T05:24:55.224854Z",
     "shell.execute_reply.started": "2024-05-24T05:24:54.181972Z"
    }
   },
   "outputs": [],
   "source": [
    "##%% plot rigid shifts\n",
    "plt.close()\n",
    "plt.figure(figsize = (20,10))\n",
    "plt.plot(mc_rigid.shifts_rig)\n",
    "plt.legend(['x shifts','y shifts'])\n",
    "plt.xlabel('frames')\n",
    "plt.ylabel('pixels');"
   ]
  },
  {
   "cell_type": "code",
   "execution_count": null,
   "id": "0b8c02e6",
   "metadata": {
    "execution": {
     "iopub.execute_input": "2024-05-24T01:26:18.589089Z",
     "iopub.status.busy": "2024-05-24T01:26:18.587920Z",
     "iopub.status.idle": "2024-05-24T01:26:19.924979Z",
     "shell.execute_reply": "2024-05-24T01:26:19.924050Z",
     "shell.execute_reply.started": "2024-05-24T01:26:18.588939Z"
    },
    "scrolled": true
   },
   "outputs": [],
   "source": [
    "# correct for rigid motion correction and save the file (in memory mapped form)\n",
    "mc.motion_correct(save_movie=True)"
   ]
  },
  {
   "cell_type": "markdown",
   "id": "b1f6aa2f-0219-4961-bde1-59dc425bb09d",
   "metadata": {},
   "source": [
    "\n",
    "## Piecewise rigid registration\n",
    "\n",
    "While rigid registration corrected for a lot of the movement, there is still non-uniform motion present in the registered file.\n",
    "\n",
    "- To correct for that we can use piece-wise rigid registration directly in the original file by setting mc.pw_rigid=True.\n",
    "- As before the registered file is saved in a memory mapped format in the location given by mc.mmap_file.\n"
   ]
  },
  {
   "cell_type": "code",
   "execution_count": null,
   "id": "e3df52d6-a545-452f-a197-f273723550eb",
   "metadata": {},
   "outputs": [],
   "source": [
    "%%capture\n",
    "##%% motion correct piecewise rigid\n",
    "mc.pw_rigid = True  # turn the flag to True for pw-rigid motion correction\n",
    "mc.template = mc.mmap_file  # use the template obtained before to save in computation (optional)\n",
    "\n",
    "mc.motion_correct(save_movie=True, template=mc.total_template_rig)\n",
    "m_els = cm.load(mc.fname_tot_els)\n",
    "m_els.resize(1, 1, downsample_ratio).play(\n",
    "    q_max=99.5, fr=30, magnification=2,bord_px = bord_px_rig)"
   ]
  },
  {
   "cell_type": "markdown",
   "id": "5db37b4f-f3a8-466c-aac5-02078e4c909b",
   "metadata": {},
   "source": [
    "visualize non-rigid shifts for the entire FOV\n",
    "\n",
    "TODO: Interactively visualize rigid+non-rigid shifts independantly"
   ]
  },
  {
   "cell_type": "code",
   "execution_count": null,
   "id": "8c9cb191-fa95-4e92-96c2-ffb9b9fc008d",
   "metadata": {},
   "outputs": [],
   "source": [
    "plt.close()\n",
    "plt.figure(figsize = (20,10))\n",
    "plt.subplot(2, 1, 1)\n",
    "plt.plot(mc.x_shifts_els)\n",
    "plt.ylabel('x shifts (pixels)')\n",
    "plt.subplot(2, 1, 2)\n",
    "plt.plot(mc.y_shifts_els)\n",
    "plt.ylabel('y_shifts (pixels)')\n",
    "plt.xlabel('frames')\n",
    "##%% compute borders to exclude\n",
    "bord_px_els = np.ceil(np.maximum(np.max(np.abs(mc.x_shifts_els)),\n",
    "                                 np.max(np.abs(mc.y_shifts_els)))).astype(int)"
   ]
  },
  {
   "cell_type": "markdown",
   "id": "53b7c3cc-fd30-4ce0-9366-ff2b0356573f",
   "metadata": {},
   "source": [
    "## Motion Corretion: Optical Flow"
   ]
  },
  {
   "cell_type": "code",
   "execution_count": null,
   "id": "d74be0b7-41fe-4d4f-a415-184da72283e2",
   "metadata": {},
   "outputs": [],
   "source": [
    "##%% plot the results of Residual Optical Flow\n",
    "fls = [cm.paths.fname_derived_presuffix(mc.fname_tot_els[0], 'metrics', swapsuffix='npz'),\n",
    "       cm.paths.fname_derived_presuffix(mc.fname_tot_rig[0], 'metrics', swapsuffix='npz'),\n",
    "       cm.paths.fname_derived_presuffix(mc.fname[0],         'metrics', swapsuffix='npz'),\n",
    "      ]\n",
    "\n",
    "plt.figure(figsize = (20,10))\n",
    "for cnt, fl, metr in zip(range(len(fls)), fls, ['pw_rigid','rigid','raw']):\n",
    "    with np.load(fl) as ld:\n",
    "        print(ld.keys())\n",
    "        print(fl)\n",
    "        print(str(np.mean(ld['norms'])) + '+/-' + str(np.std(ld['norms'])) +\n",
    "              ' ; ' + str(ld['smoothness']) + ' ; ' + str(ld['smoothness_corr']))\n",
    "        \n",
    "        plt.subplot(len(fls), 3, 1 + 3 * cnt)\n",
    "        plt.ylabel(metr)\n",
    "        print(f\"Loading data with base {fl[:-12]}\")\n",
    "        try:\n",
    "            mean_img = np.mean(\n",
    "            cm.load(fl[:-12] + '.mmap'), 0)[12:-12, 12:-12]\n",
    "        except:\n",
    "            try:\n",
    "                mean_img = np.mean(\n",
    "                    cm.load(fl[:-12] + '.tif'), 0)[12:-12, 12:-12]\n",
    "            except:\n",
    "                mean_img = np.mean(\n",
    "                    cm.load(fl[:-12] + 'hdf5'), 0)[12:-12, 12:-12]\n",
    "                    \n",
    "        lq, hq = np.nanpercentile(mean_img, [.5, 99.5])\n",
    "        plt.imshow(mean_img, vmin=lq, vmax=hq)\n",
    "        plt.title('Mean')\n",
    "        plt.subplot(len(fls), 3, 3 * cnt + 2)\n",
    "        plt.imshow(ld['img_corr'], vmin=0, vmax=.35)\n",
    "        plt.title('Corr image')\n",
    "        plt.subplot(len(fls), 3, 3 * cnt + 3)\n",
    "        flows = ld['flows']\n",
    "        plt.imshow(np.mean(\n",
    "        np.sqrt(flows[:, :, :, 0]**2 + flows[:, :, :, 1]**2), 0), vmin=0, vmax=0.3)\n",
    "        plt.colorbar()\n",
    "        plt.title('Mean optical flow');  "
   ]
  },
  {
   "cell_type": "markdown",
   "id": "760aeaa6-1aeb-45d9-89a9-f5a6c1555ebe",
   "metadata": {},
   "source": [
    "# Cleanup\n",
    "\n",
    "Make sure our parallel cluster is shut down."
   ]
  },
  {
   "cell_type": "code",
   "execution_count": null,
   "id": "d99671c6",
   "metadata": {
    "scrolled": true
   },
   "outputs": [],
   "source": [
    "if 'dview' in locals():\n",
    "    cm.stop_server(dview=dview)\n",
    "elif 'cluster' in locals():\n",
    "    cm.stop_server(dview=cluster)"
   ]
  }
 ],
 "metadata": {
  "kernelspec": {
   "display_name": "Python 3 (ipykernel)",
   "language": "python",
   "name": "python3"
  },
  "language_info": {
   "codemirror_mode": {
    "name": "ipython",
    "version": 3
   },
   "file_extension": ".py",
   "mimetype": "text/x-python",
   "name": "python",
   "nbconvert_exporter": "python",
   "pygments_lexer": "ipython3",
   "version": "3.10.8"
  },
  "widgets": {
   "application/vnd.jupyter.widget-state+json": {
    "state": {},
    "version_major": 2,
    "version_minor": 0
   }
  }
 },
 "nbformat": 4,
 "nbformat_minor": 5
}
