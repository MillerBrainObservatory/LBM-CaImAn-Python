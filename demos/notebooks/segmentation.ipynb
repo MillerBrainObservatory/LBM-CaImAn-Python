{
 "cells": [
  {
   "cell_type": "markdown",
   "id": "1acd06e5",
   "metadata": {},
   "source": [
    "# LBM Step 3: Segmentation\n",
    "\n",
    "## Segmentation: Extract neuronal locations and planar time-traces.\n",
    "\n",
    "- Apply the constrained nonnegative matrix factorization (CNMF) source separation algorithm to extract initial estimates of neuronal spatial footprints and calcium traces.\n",
    "- Apply quality control metrics to evaluate the initial estimates, and narrow down to the final set of estimates."
   ]
  },
  {
   "cell_type": "markdown",
   "id": "ffcdc48d",
   "metadata": {},
   "source": [
    "# Caiman docs on component eval\n",
    "\n",
    "https://caiman.readthedocs.io/en/latest/Getting_Started.html#component-evaluation\n",
    "\n",
    "> The quality of detected components is evaluated with three parameters:\n",
    ">\n",
    "> Spatial footprint consistency (rval): The spatial footprint of the component is compared with the frames where this component is active. Other component’s signals are subtracted from these frames, and the resulting raw data is correlated against the spatial component. This ensures that the raw data at the spatial footprint aligns with the extracted trace.\n",
    ">\n",
    "> Trace signal-noise-ratio (SNR): Peak SNR is calculated from strong calcium transients and the noise estimate.\n",
    ">\n",
    "> CNN-based classifier (cnn): The shape of components is evaluated by a 4-layered convolutional neural network trained on a manually annotated dataset. The CNN assigns a value of 0-1 to each component depending on its resemblance to a neuronal soma.\n",
    "> \n",
    "> Each parameter has a low threshold:\n",
    "> - (rval_lowest (default -1), SNR_lowest (default 0.5), cnn_lowest (default 0.1))\n",
    ">\n",
    "> and high threshold\n",
    "> \n",
    "> - (rval_thr (default 0.8), min_SNR (default 2.5), min_cnn_thr (default 0.9))\n",
    "> \n",
    "> A component has to exceed ALL low thresholds as well as ONE high threshold to be accepted."
   ]
  },
  {
   "cell_type": "code",
   "execution_count": 10,
   "id": "09288483",
   "metadata": {
    "execution": {
     "iopub.execute_input": "2024-09-09T14:08:39.224758Z",
     "iopub.status.busy": "2024-09-09T14:08:39.223758Z",
     "iopub.status.idle": "2024-09-09T14:08:39.240444Z",
     "shell.execute_reply": "2024-09-09T14:08:39.240444Z",
     "shell.execute_reply.started": "2024-09-09T14:08:39.224758Z"
    }
   },
   "outputs": [],
   "source": [
    "import os\n",
    "\n",
    "import mesmerize_core as mc\n",
    "from mesmerize_core.caiman_extensions.cnmf import cnmf_cache\n",
    "from caiman.source_extraction.cnmf import cnmf, params\n",
    "\n",
    "# os.environ['WGPU_BACKEND_TYPE']='OpenGL'\n",
    "# os.environ[\"CONDA_PREFIX_1\"] = \"\"\n",
    "os.environ[\"QT_PLATFORM_PLUGIN\"] = \"xcb\"\n",
    "\n",
    "import logging\n",
    "import pprint\n",
    "\n",
    "#import napari\n",
    "\n",
    "from pathlib import Path\n",
    "import os\n",
    "\n",
    "import matplotlib.pyplot as plt\n",
    "import pandas as pd\n",
    "import numpy as np\n",
    "import numpy as np\n",
    "import zarr\n",
    "\n",
    "\n",
    "try:\n",
    "    import cv2\n",
    "    cv2.setNumThreads(0)\n",
    "except():\n",
    "    pass\n",
    "\n",
    "if os.name == \"nt\":\n",
    "    # disable the cache on windows, this will be automatic in a future version\n",
    "    cnmf_cache.set_maxsize(0)\n",
    "\n",
    "raw_data_path = Path().home() / \"caiman_data_org\"\n",
    "movie_path = raw_data_path / 'animal_01' / \"session_01\" / 'plane_1'\n",
    "\n",
    "pd.options.display.max_colwidth = 120"
   ]
  },
  {
   "cell_type": "code",
   "execution_count": 11,
   "id": "afb8cf18",
   "metadata": {},
   "outputs": [],
   "source": [
    "# set up logging\n",
    "debug = True\n",
    "\n",
    "logger = logging.getLogger(\"caiman\")\n",
    "logger.setLevel(logging.DEBUG)\n",
    "handler = logging.StreamHandler()\n",
    "log_format = logging.Formatter(\"%(relativeCreated)12d [%(filename)s:%(funcName)10s():%(lineno)s] [%(process)d] %(message)s\")\n",
    "handler.setFormatter(log_format)\n",
    "logger.addHandler(handler)\n",
    "\n",
    "if debug:\n",
    "   logging.getLogger(\"caiman\").setLevel(logging.DEBUG)"
   ]
  },
  {
   "cell_type": "code",
   "execution_count": 12,
   "id": "107f965f",
   "metadata": {},
   "outputs": [
    {
     "data": {
      "text/html": [
       "<table class=\"zarr-info\"><tbody><tr><th style=\"text-align: left\">Name</th><td style=\"text-align: left\">/</td></tr><tr><th style=\"text-align: left\">Type</th><td style=\"text-align: left\">zarr.hierarchy.Group</td></tr><tr><th style=\"text-align: left\">Read-only</th><td style=\"text-align: left\">False</td></tr><tr><th style=\"text-align: left\">Store type</th><td style=\"text-align: left\">zarr.storage.DirectoryStore</td></tr><tr><th style=\"text-align: left\">No. members</th><td style=\"text-align: left\">0</td></tr><tr><th style=\"text-align: left\">No. arrays</th><td style=\"text-align: left\">0</td></tr><tr><th style=\"text-align: left\">No. groups</th><td style=\"text-align: left\">0</td></tr></tbody></table>"
      ],
      "text/plain": [
       "Name        : /\n",
       "Type        : zarr.hierarchy.Group\n",
       "Read-only   : False\n",
       "Store type  : zarr.storage.DirectoryStore\n",
       "No. members : 0\n",
       "No. arrays  : 0\n",
       "No. groups  : 0"
      ]
     },
     "execution_count": 12,
     "metadata": {},
     "output_type": "execute_result"
    }
   ],
   "source": [
    "movie = zarr.open(movie_path)\n",
    "movie.info"
   ]
  },
  {
   "cell_type": "markdown",
   "id": "c16f235f-703b-4004-9cde-46794cafcf4a",
   "metadata": {
    "pycharm": {
     "name": "#%% md\n"
    },
    "tags": []
   },
   "source": [
    "# Paths (TODO)\n",
    "\n",
    "```\n",
    "/ raw_data_path/\n",
    "    └── session_01\n",
    "        ├── animal_01\n",
    "        │   ├── pre_processed/\n",
    "        │   │   ├── plane_1/\n",
    "        │   │   ├── plane_1/\n",
    "        │   │   ├── plane_2/\n",
    "        │   │   └── plane_N/\n",
    "        │   └── batch_dataframe.pickle\n",
    "```\n",
    "\n",
    "**For this demo set the `caiman_data` dir as the parent raw data path**"
   ]
  },
  {
   "cell_type": "markdown",
   "id": "af643600-187a-4812-8fab-d277542aae45",
   "metadata": {},
   "source": [
    "### Batch path, this is where caiman outputs will be organized, same as the previous step\n",
    "\n",
    "This can be anywhere, it does not need to be under the parent raw data path."
   ]
  },
  {
   "cell_type": "code",
   "execution_count": 13,
   "id": "d65b3a8e",
   "metadata": {},
   "outputs": [
    {
     "data": {
      "text/html": [
       "<div>\n",
       "<style scoped>\n",
       "    .dataframe tbody tr th:only-of-type {\n",
       "        vertical-align: middle;\n",
       "    }\n",
       "\n",
       "    .dataframe tbody tr th {\n",
       "        vertical-align: top;\n",
       "    }\n",
       "\n",
       "    .dataframe thead th {\n",
       "        text-align: right;\n",
       "    }\n",
       "</style>\n",
       "<table border=\"1\" class=\"dataframe\">\n",
       "  <thead>\n",
       "    <tr style=\"text-align: right;\">\n",
       "      <th></th>\n",
       "      <th>algo</th>\n",
       "      <th>item_name</th>\n",
       "      <th>input_movie_path</th>\n",
       "      <th>params</th>\n",
       "      <th>outputs</th>\n",
       "      <th>added_time</th>\n",
       "      <th>ran_time</th>\n",
       "      <th>algo_duration</th>\n",
       "      <th>comments</th>\n",
       "      <th>uuid</th>\n",
       "    </tr>\n",
       "  </thead>\n",
       "  <tbody>\n",
       "    <tr>\n",
       "      <th>0</th>\n",
       "      <td>mcorr</td>\n",
       "      <td>plane_1</td>\n",
       "      <td>animal_01/session_01/plane_1.zarr</td>\n",
       "      <td>{'main': {'var_name_hdf5': 'mov', 'max_shifts': (10, 10), 'strides': (48, 48), 'overlaps': (24, 24), 'max_deviation_...</td>\n",
       "      <td>{'mean-projection-path': '5ed9532f-a5d9-4ecb-bdae-f14b37fc2ef2/5ed9532f-a5d9-4ecb-bdae-f14b37fc2ef2_mean_projection....</td>\n",
       "      <td>2024-09-09T14:50:33</td>\n",
       "      <td>2024-09-10T09:55:53</td>\n",
       "      <td>42.42 sec</td>\n",
       "      <td>None</td>\n",
       "      <td>5ed9532f-a5d9-4ecb-bdae-f14b37fc2ef2</td>\n",
       "    </tr>\n",
       "    <tr>\n",
       "      <th>1</th>\n",
       "      <td>mcorr</td>\n",
       "      <td>plane_1</td>\n",
       "      <td>animal_01/session_01/plane_1.zarr</td>\n",
       "      <td>{'main': {'var_name_hdf5': 'mov', 'max_shifts': (10, 10), 'strides': (48, 48), 'overlaps': (24, 24), 'max_deviation_...</td>\n",
       "      <td>{'mean-projection-path': 'aab79e23-ebcc-45cb-a12b-6f7e3eae935c/aab79e23-ebcc-45cb-a12b-6f7e3eae935c_mean_projection....</td>\n",
       "      <td>2024-09-09T14:50:49</td>\n",
       "      <td>2024-09-10T09:57:13</td>\n",
       "      <td>42.87 sec</td>\n",
       "      <td>None</td>\n",
       "      <td>aab79e23-ebcc-45cb-a12b-6f7e3eae935c</td>\n",
       "    </tr>\n",
       "    <tr>\n",
       "      <th>2</th>\n",
       "      <td>mcorr</td>\n",
       "      <td>plane_1</td>\n",
       "      <td>animal_01/session_01/plane_1.zarr</td>\n",
       "      <td>{'main': {'var_name_hdf5': 'mov', 'max_shifts': (10, 10), 'strides': (48, 48), 'overlaps': (24, 24), 'max_deviation_...</td>\n",
       "      <td>{'mean-projection-path': '247620be-d14b-46da-b6ba-6c73bf607b02/247620be-d14b-46da-b6ba-6c73bf607b02_mean_projection....</td>\n",
       "      <td>2024-09-09T14:55:09</td>\n",
       "      <td>2024-09-10T09:57:59</td>\n",
       "      <td>42.13 sec</td>\n",
       "      <td>None</td>\n",
       "      <td>247620be-d14b-46da-b6ba-6c73bf607b02</td>\n",
       "    </tr>\n",
       "    <tr>\n",
       "      <th>3</th>\n",
       "      <td>mcorr</td>\n",
       "      <td>plane_1</td>\n",
       "      <td>animal_01/session_01/plane_1.zarr</td>\n",
       "      <td>{'main': {'var_name_hdf5': 'mov', 'max_shifts': (10, 10), 'strides': [48, 48], 'overlaps': [24, 24], 'max_deviation_...</td>\n",
       "      <td>None</td>\n",
       "      <td>2024-09-10T10:46:06</td>\n",
       "      <td>None</td>\n",
       "      <td>None</td>\n",
       "      <td>None</td>\n",
       "      <td>00dc740c-7cf4-4cbb-b239-4cd8fc0439a2</td>\n",
       "    </tr>\n",
       "  </tbody>\n",
       "</table>\n",
       "</div>"
      ],
      "text/plain": [
       "    algo item_name                   input_movie_path  \\\n",
       "0  mcorr   plane_1  animal_01/session_01/plane_1.zarr   \n",
       "1  mcorr   plane_1  animal_01/session_01/plane_1.zarr   \n",
       "2  mcorr   plane_1  animal_01/session_01/plane_1.zarr   \n",
       "3  mcorr   plane_1  animal_01/session_01/plane_1.zarr   \n",
       "\n",
       "                                                                                                                    params  \\\n",
       "0  {'main': {'var_name_hdf5': 'mov', 'max_shifts': (10, 10), 'strides': (48, 48), 'overlaps': (24, 24), 'max_deviation_...   \n",
       "1  {'main': {'var_name_hdf5': 'mov', 'max_shifts': (10, 10), 'strides': (48, 48), 'overlaps': (24, 24), 'max_deviation_...   \n",
       "2  {'main': {'var_name_hdf5': 'mov', 'max_shifts': (10, 10), 'strides': (48, 48), 'overlaps': (24, 24), 'max_deviation_...   \n",
       "3  {'main': {'var_name_hdf5': 'mov', 'max_shifts': (10, 10), 'strides': [48, 48], 'overlaps': [24, 24], 'max_deviation_...   \n",
       "\n",
       "                                                                                                                   outputs  \\\n",
       "0  {'mean-projection-path': '5ed9532f-a5d9-4ecb-bdae-f14b37fc2ef2/5ed9532f-a5d9-4ecb-bdae-f14b37fc2ef2_mean_projection....   \n",
       "1  {'mean-projection-path': 'aab79e23-ebcc-45cb-a12b-6f7e3eae935c/aab79e23-ebcc-45cb-a12b-6f7e3eae935c_mean_projection....   \n",
       "2  {'mean-projection-path': '247620be-d14b-46da-b6ba-6c73bf607b02/247620be-d14b-46da-b6ba-6c73bf607b02_mean_projection....   \n",
       "3                                                                                                                     None   \n",
       "\n",
       "            added_time             ran_time algo_duration comments  \\\n",
       "0  2024-09-09T14:50:33  2024-09-10T09:55:53     42.42 sec     None   \n",
       "1  2024-09-09T14:50:49  2024-09-10T09:57:13     42.87 sec     None   \n",
       "2  2024-09-09T14:55:09  2024-09-10T09:57:59     42.13 sec     None   \n",
       "3  2024-09-10T10:46:06                 None          None     None   \n",
       "\n",
       "                                   uuid  \n",
       "0  5ed9532f-a5d9-4ecb-bdae-f14b37fc2ef2  \n",
       "1  aab79e23-ebcc-45cb-a12b-6f7e3eae935c  \n",
       "2  247620be-d14b-46da-b6ba-6c73bf607b02  \n",
       "3  00dc740c-7cf4-4cbb-b239-4cd8fc0439a2  "
      ]
     },
     "execution_count": 13,
     "metadata": {},
     "output_type": "execute_result"
    }
   ],
   "source": [
    "batch_path = raw_data_path / 'batch.pickle'\n",
    "mc.set_parent_raw_data_path(str(raw_data_path))\n",
    "\n",
    "# you could alos load the registration batch and \n",
    "# save this patch in a new dataframe (saved to disk automatically)\n",
    "try:\n",
    "    df = mc.load_batch(batch_path)\n",
    "except (IsADirectoryError, FileNotFoundError):\n",
    "    df = mc.create_batch(batch_path)\n",
    "\n",
    "df=df.caiman.reload_from_disk()\n",
    "df"
   ]
  },
  {
   "cell_type": "markdown",
   "id": "6dc1260b-634c-49cc-b99b-10c44b3af72d",
   "metadata": {
    "pycharm": {
     "name": "#%% md\n"
    }
   },
   "source": [
    "# CNMF\n",
    "\n",
    "Perform CNMF using the mcorr output.\n",
    "\n",
    "Similar to mcorr, put the CNMF params within the `main` key. The `refit` key will perform a second iteration, as shown in the `caiman` `demo_pipeline.ipynb` notebook."
   ]
  },
  {
   "cell_type": "markdown",
   "id": "4628d805",
   "metadata": {},
   "source": [
    "## Initial parameters\n",
    "In general in Caiman, estimators are first initialized with a set of parameters, and then they are fit against actual data in a separate step. In this section, we'll define a `parameters` object that will subsequently be used to initialize our different estimators. \n",
    "\n",
    "The parameters are divided into different categories. We will not discuss them in detail in this section, but will go over them when needed (and note that in this notebook we will mostly focus on CNMF and later steps):\n",
    "\n",
    "- fnames: List of paths to the file(s) to be analysed. Memmap and hdf5 result files will be saved in the same directory.\n",
    "- fr: Imaging frame rate in frames per second.\n",
    "- decay_time: Length of a typical transient in seconds. decay_time is an approximation of the time scale over which to expect a significant shift in the calcium signal during a transient. It defaults to 0.4, which is appropriate for fast indicators (GCaMP6f), slow indicators might use 1 or even more. However, decay_time does not have to precisely fit the data, approximations are enough.\n",
    "- p: Order of the autoregressive model. p = 0 turns deconvolution off. If transients in your data rise instantaneously, set p = 1 (occurs at low sample rate or slow indicator). If transients have visible rise time, set p = 2. If the wrong order is chosen, spikes are extracted unreliably.\n",
    "- nb: Number of global background components. This is a measure of the complexity of your background noise. Defaults to nb = 2, assuming a relatively homogeneous background. nb = 3 might fit for more complex noise, nb = 1 is usually too low. If nb is set too low, extracted traces appear too noisy, if nb is set too high, neuronal signal starts getting absorbed into the background reduction, resulting in reduced transients.\n",
    "- merge_thr: Merging threshold of components after initialization. If two components are correlated more than this value (e.g. when during initialization a neuron was split in two components), they are merged and treated as one.\n",
    "- rf: Half-size of the patches in pixels. Should be at least 3 to 4 times larger than the expected neuron size to capture the complete neuron and its local background. Larger patches lead to less parallelization.\n",
    "- stride: Overlap between patches in pixels. This should be roughly the neuron diameter. Larger overlap increases computational load, but yields better results during reconstruction/denoising of the data.\n",
    "- K : Number of (expected) components per patch. Adapt to rf and estimated component density.\n",
    "- gSig: Expected half-size of neurons in pixels [rows X columns]. CRUCIAL parameter for proper component detection.\n",
    "- method_init: Initialization method, depends mainly on the recording method. Use greedy_roi for 2p data, corr_pnr for 1p data, and sparse_nmf for dendritic/axonal data.\n",
    "- ssub/tsub: Spatial and temporal subsampling during initialization. Defaults to 1 (no compression). Can be set to 2 or even higher to save resources, but might impair detection/extraction quality."
   ]
  },
  {
   "cell_type": "code",
   "execution_count": 14,
   "id": "27f63e30",
   "metadata": {},
   "outputs": [],
   "source": [
    "# general dataset-dependent parameters\n",
    "fr = 9.62                   # imaging rate in frames per second\n",
    "decay_time = 0.4            # length of a typical transient in seconds\n",
    "dxy = (1., 1.)              # spatial resolution in x and y in (um per pixel)\n",
    "\n",
    "# motion correction parameters\n",
    "strides = (48, 48)          # start a new patch for pw-rigid motion correction every x pixels\n",
    "overlaps = (24, 24)         # overlap between patches (width of patch = strides+overlaps)\n",
    "max_shifts = (6,6)          # maximum allowed rigid shifts (in pixels)\n",
    "max_deviation_rigid = 3     # maximum shifts deviation allowed for patch with respect to rigid shifts\n",
    "pw_rigid = True             # flag for performing non-rigid motion correction\n",
    "\n",
    "# CNMF parameters for source extraction and deconvolution\n",
    "p = 2                       # order of the autoregressive system (set p=2 if there is visible rise time in data)\n",
    "gnb = 1                     # number of global background components (set to 1 or 2)\n",
    "merge_thr = 0.80            # merging threshold, max correlation allowed\n",
    "bas_nonneg = True           # enforce nonnegativity constraint on calcium traces (technically on baseline)\n",
    "rf = 40                     # half-size of the patches in pixels (patch width is rf*2 + 1)\n",
    "stride_cnmf = 10            # amount of overlap between the patches in pixels (overlap is stride_cnmf+1) \n",
    "# K = 780                       # number of components per patch\n",
    "gSig = np.array([6, 6])     # expected half-width of neurons in pixels (Gaussian kernel standard deviation)\n",
    "gSiz = None #2*gSig + 1     # Gaussian kernel width and hight\n",
    "method_init = 'greedy_roi'  # initialization method (if analyzing dendritic data see demo_dendritic.ipynb)\n",
    "ssub = 1                    # spatial subsampling during initialization \n",
    "tsub = 1                    # temporal subsampling during intialization\n",
    "\n",
    "# parameters for component evaluation\n",
    "min_SNR = 1.5               # signal to noise ratio for accepting a component\n",
    "rval_thr = 0.80             # space correlation threshold for accepting a component"
   ]
  },
  {
   "cell_type": "code",
   "execution_count": 16,
   "id": "f0522a99",
   "metadata": {},
   "outputs": [],
   "source": [
    "params_cnmf = {\n",
    "    'main': {\n",
    "        'fnames': [movie_path],\n",
    "        'var_name_hdf5': 'plane_2',\n",
    "        'fr': fr,\n",
    "        'dxy': dxy,\n",
    "        'decay_time': decay_time,\n",
    "        'strides': strides,\n",
    "        'overlaps': overlaps,\n",
    "        'max_shifts': max_shifts,\n",
    "        'max_deviation_rigid': max_deviation_rigid,\n",
    "        'pw_rigid': pw_rigid,\n",
    "        'p': p,\n",
    "        'nb': gnb,\n",
    "        'rf': rf,\n",
    "        # 'K': K, \n",
    "        'gSig': gSig,\n",
    "        'gSiz': gSiz,\n",
    "        'stride': stride_cnmf,\n",
    "        'method_init': method_init,\n",
    "        'rolling_sum': True,\n",
    "        'only_init': True,\n",
    "        'use_cnn': False,\n",
    "        'ssub': ssub,\n",
    "        'tsub': tsub,\n",
    "        'merge_thr': merge_thr, \n",
    "        'bas_nonneg': bas_nonneg,\n",
    "        'min_SNR': min_SNR,\n",
    "        'rval_thr': rval_thr,\n",
    "    },\n",
    "    'refit': True\n",
    "}"
   ]
  },
  {
   "cell_type": "markdown",
   "id": "2b2c7c16-24a1-4893-976e-e52e7430a9c7",
   "metadata": {},
   "source": [
    "# Run CNMF\n",
    "\n",
    "The API is identical to running mcorr.\n",
    "\n",
    "You can provide the mcorr item row to `input_movie_path` and it will resolve the path of the input movie from the entry in the DataFrame."
   ]
  },
  {
   "cell_type": "code",
   "execution_count": 9,
   "id": "d0b7517b",
   "metadata": {},
   "outputs": [
    {
     "data": {
      "text/html": [
       "<div>\n",
       "<style scoped>\n",
       "    .dataframe tbody tr th:only-of-type {\n",
       "        vertical-align: middle;\n",
       "    }\n",
       "\n",
       "    .dataframe tbody tr th {\n",
       "        vertical-align: top;\n",
       "    }\n",
       "\n",
       "    .dataframe thead th {\n",
       "        text-align: right;\n",
       "    }\n",
       "</style>\n",
       "<table border=\"1\" class=\"dataframe\">\n",
       "  <thead>\n",
       "    <tr style=\"text-align: right;\">\n",
       "      <th></th>\n",
       "      <th>algo</th>\n",
       "      <th>item_name</th>\n",
       "      <th>input_movie_path</th>\n",
       "      <th>params</th>\n",
       "      <th>outputs</th>\n",
       "      <th>added_time</th>\n",
       "      <th>ran_time</th>\n",
       "      <th>algo_duration</th>\n",
       "      <th>comments</th>\n",
       "      <th>uuid</th>\n",
       "    </tr>\n",
       "  </thead>\n",
       "  <tbody>\n",
       "    <tr>\n",
       "      <th>0</th>\n",
       "      <td>mcorr</td>\n",
       "      <td>plane_1</td>\n",
       "      <td>animal_01/session_01/plane_1.zarr</td>\n",
       "      <td>{'main': {'var_name_hdf5': 'mov', 'max_shifts': (10, 10), 'strides': (48, 48), 'overlaps': (24, 24), 'max_deviation_...</td>\n",
       "      <td>{'mean-projection-path': '5ed9532f-a5d9-4ecb-bdae-f14b37fc2ef2/5ed9532f-a5d9-4ecb-bdae-f14b37fc2ef2_mean_projection....</td>\n",
       "      <td>2024-09-09T14:50:33</td>\n",
       "      <td>2024-09-10T09:55:53</td>\n",
       "      <td>42.42 sec</td>\n",
       "      <td>None</td>\n",
       "      <td>5ed9532f-a5d9-4ecb-bdae-f14b37fc2ef2</td>\n",
       "    </tr>\n",
       "    <tr>\n",
       "      <th>1</th>\n",
       "      <td>mcorr</td>\n",
       "      <td>plane_1</td>\n",
       "      <td>animal_01/session_01/plane_1.zarr</td>\n",
       "      <td>{'main': {'var_name_hdf5': 'mov', 'max_shifts': (10, 10), 'strides': (48, 48), 'overlaps': (24, 24), 'max_deviation_...</td>\n",
       "      <td>{'mean-projection-path': 'aab79e23-ebcc-45cb-a12b-6f7e3eae935c/aab79e23-ebcc-45cb-a12b-6f7e3eae935c_mean_projection....</td>\n",
       "      <td>2024-09-09T14:50:49</td>\n",
       "      <td>2024-09-10T09:57:13</td>\n",
       "      <td>42.87 sec</td>\n",
       "      <td>None</td>\n",
       "      <td>aab79e23-ebcc-45cb-a12b-6f7e3eae935c</td>\n",
       "    </tr>\n",
       "    <tr>\n",
       "      <th>2</th>\n",
       "      <td>mcorr</td>\n",
       "      <td>plane_1</td>\n",
       "      <td>animal_01/session_01/plane_1.zarr</td>\n",
       "      <td>{'main': {'var_name_hdf5': 'mov', 'max_shifts': (10, 10), 'strides': (48, 48), 'overlaps': (24, 24), 'max_deviation_...</td>\n",
       "      <td>{'mean-projection-path': '247620be-d14b-46da-b6ba-6c73bf607b02/247620be-d14b-46da-b6ba-6c73bf607b02_mean_projection....</td>\n",
       "      <td>2024-09-09T14:55:09</td>\n",
       "      <td>2024-09-10T09:57:59</td>\n",
       "      <td>42.13 sec</td>\n",
       "      <td>None</td>\n",
       "      <td>247620be-d14b-46da-b6ba-6c73bf607b02</td>\n",
       "    </tr>\n",
       "    <tr>\n",
       "      <th>3</th>\n",
       "      <td>mcorr</td>\n",
       "      <td>plane_1</td>\n",
       "      <td>animal_01/session_01/plane_1.zarr</td>\n",
       "      <td>{'main': {'var_name_hdf5': 'mov', 'max_shifts': (10, 10), 'strides': [48, 48], 'overlaps': [24, 24], 'max_deviation_...</td>\n",
       "      <td>None</td>\n",
       "      <td>2024-09-10T10:46:06</td>\n",
       "      <td>None</td>\n",
       "      <td>None</td>\n",
       "      <td>None</td>\n",
       "      <td>00dc740c-7cf4-4cbb-b239-4cd8fc0439a2</td>\n",
       "    </tr>\n",
       "  </tbody>\n",
       "</table>\n",
       "</div>"
      ],
      "text/plain": [
       "    algo item_name                   input_movie_path  \\\n",
       "0  mcorr   plane_1  animal_01/session_01/plane_1.zarr   \n",
       "1  mcorr   plane_1  animal_01/session_01/plane_1.zarr   \n",
       "2  mcorr   plane_1  animal_01/session_01/plane_1.zarr   \n",
       "3  mcorr   plane_1  animal_01/session_01/plane_1.zarr   \n",
       "\n",
       "                                                                                                                    params  \\\n",
       "0  {'main': {'var_name_hdf5': 'mov', 'max_shifts': (10, 10), 'strides': (48, 48), 'overlaps': (24, 24), 'max_deviation_...   \n",
       "1  {'main': {'var_name_hdf5': 'mov', 'max_shifts': (10, 10), 'strides': (48, 48), 'overlaps': (24, 24), 'max_deviation_...   \n",
       "2  {'main': {'var_name_hdf5': 'mov', 'max_shifts': (10, 10), 'strides': (48, 48), 'overlaps': (24, 24), 'max_deviation_...   \n",
       "3  {'main': {'var_name_hdf5': 'mov', 'max_shifts': (10, 10), 'strides': [48, 48], 'overlaps': [24, 24], 'max_deviation_...   \n",
       "\n",
       "                                                                                                                   outputs  \\\n",
       "0  {'mean-projection-path': '5ed9532f-a5d9-4ecb-bdae-f14b37fc2ef2/5ed9532f-a5d9-4ecb-bdae-f14b37fc2ef2_mean_projection....   \n",
       "1  {'mean-projection-path': 'aab79e23-ebcc-45cb-a12b-6f7e3eae935c/aab79e23-ebcc-45cb-a12b-6f7e3eae935c_mean_projection....   \n",
       "2  {'mean-projection-path': '247620be-d14b-46da-b6ba-6c73bf607b02/247620be-d14b-46da-b6ba-6c73bf607b02_mean_projection....   \n",
       "3                                                                                                                     None   \n",
       "\n",
       "            added_time             ran_time algo_duration comments  \\\n",
       "0  2024-09-09T14:50:33  2024-09-10T09:55:53     42.42 sec     None   \n",
       "1  2024-09-09T14:50:49  2024-09-10T09:57:13     42.87 sec     None   \n",
       "2  2024-09-09T14:55:09  2024-09-10T09:57:59     42.13 sec     None   \n",
       "3  2024-09-10T10:46:06                 None          None     None   \n",
       "\n",
       "                                   uuid  \n",
       "0  5ed9532f-a5d9-4ecb-bdae-f14b37fc2ef2  \n",
       "1  aab79e23-ebcc-45cb-a12b-6f7e3eae935c  \n",
       "2  247620be-d14b-46da-b6ba-6c73bf607b02  \n",
       "3  00dc740c-7cf4-4cbb-b239-4cd8fc0439a2  "
      ]
     },
     "execution_count": 9,
     "metadata": {},
     "output_type": "execute_result"
    }
   ],
   "source": [
    "df=df.caiman.reload_from_disk()\n",
    "df"
   ]
  },
  {
   "cell_type": "code",
   "execution_count": 17,
   "id": "a8ad5edb",
   "metadata": {},
   "outputs": [
    {
     "data": {
      "text/plain": [
       "'Traceback (most recent call last):\\n  File \"/home/mbo/miniconda3/envs/mbo-caiman/lib/python3.11/site-packages/mesmerize_core/algorithms/mcorr.py\", line 66, in run_algo\\n    mc.motion_correct(save_movie=True)\\n  File \"/home/mbo/miniconda3/envs/mbo-caiman/lib/python3.11/site-packages/caiman/motion_correction.py\", line 234, in motion_correct\\n    mi = min(mi, next(iterator).min()[()])\\n                 ^^^^^^^^^^^^^^\\n  File \"/home/mbo/miniconda3/envs/mbo-caiman/lib/python3.11/site-packages/caiman/base/movies.py\", line 1914, in load_iter\\n    for y in load(file_name, var_name_hdf5=var_name_hdf5,\\n             ^^^^^^^^^^^^^^^^^^^^^^^^^^^^^^^^^^^^^^^^^^^^\\n  File \"/home/mbo/miniconda3/envs/mbo-caiman/lib/python3.11/site-packages/caiman/base/movies.py\", line 1516, in load\\n    raise Exception(\\'Unknown file type\\')\\nException: Unknown file type\\n'"
      ]
     },
     "execution_count": 17,
     "metadata": {},
     "output_type": "execute_result"
    }
   ],
   "source": [
    "item1 = df.iloc[0]\n",
    "item1.outputs['traceback']"
   ]
  },
  {
   "cell_type": "code",
   "execution_count": 12,
   "id": "ba02626d-c9cc-4313-93d6-5ea84dc6b6e5",
   "metadata": {},
   "outputs": [
    {
     "name": "stdout",
     "output_type": "stream",
     "text": [
      "/home/mbo/caiman_data_org/247620be-d14b-46da-b6ba-6c73bf607b02.runfile\n",
      "starting mc\n",
      "mc failed, stored traceback in output\n",
      "\n"
     ]
    },
    {
     "name": "stderr",
     "output_type": "stream",
     "text": [
      "2024-09-09 16:21:40.811481: E external/local_xla/xla/stream_executor/cuda/cuda_dnn.cc:9261] Unable to register cuDNN factory: Attempting to register factory for plugin cuDNN when one has already been registered\n",
      "2024-09-09 16:21:40.811510: E external/local_xla/xla/stream_executor/cuda/cuda_fft.cc:607] Unable to register cuFFT factory: Attempting to register factory for plugin cuFFT when one has already been registered\n",
      "2024-09-09 16:21:40.811841: E external/local_xla/xla/stream_executor/cuda/cuda_blas.cc:1515] Unable to register cuBLAS factory: Attempting to register factory for plugin cuBLAS when one has already been registered\n",
      "2024-09-09 16:21:40.814678: I tensorflow/core/platform/cpu_feature_guard.cc:182] This TensorFlow binary is optimized to use available CPU instructions in performance-critical operations.\n",
      "To enable the following instructions: SSE4.1 SSE4.2 AVX AVX2 FMA, in other operations, rebuild TensorFlow with the appropriate compiler flags.\n",
      "The local backend is an alias for the multiprocessing backend, and the alias may be removed in some future version of Caiman\n",
      "In setting CNMFParams, non-pathed parameters were used; this is deprecated. In some future version of Caiman, allow_legacy will default to False (and eventually will be removed)\n",
      "\n"
     ]
    }
   ],
   "source": [
    "run_last_item_flag = True\n",
    "if run_last_item_flag:\n",
    "    index = -1  # most recently added item\n",
    "    df.iloc[index].caiman.run()"
   ]
  },
  {
   "cell_type": "markdown",
   "id": "bc44542f-d653-40b1-821e-6ba68df6826e",
   "metadata": {},
   "source": [
    "# Reload dataframe"
   ]
  },
  {
   "cell_type": "code",
   "execution_count": 58,
   "id": "83bcc946-d5b1-4986-86df-b67d15ed9102",
   "metadata": {},
   "outputs": [],
   "source": [
    "df = df.caiman.reload_from_disk()\n",
    "\n",
    "df.caiman.add_item(\n",
    "    algo='cnmf',\n",
    "    input_movie_path=df.iloc[0],\n",
    "    params=params_cnmf,\n",
    "    item_name='caiman_phys',\n",
    ")"
   ]
  },
  {
   "cell_type": "code",
   "execution_count": 59,
   "id": "28c11091",
   "metadata": {},
   "outputs": [
    {
     "name": "stderr",
     "output_type": "stream",
     "text": [
      "2024-09-06 17:20:30.749621: E external/local_xla/xla/stream_executor/cuda/cuda_dnn.cc:9261] Unable to register cuDNN factory: Attempting to register factory for plugin cuDNN when one has already been registered\n",
      "2024-09-06 17:20:30.749650: E external/local_xla/xla/stream_executor/cuda/cuda_fft.cc:607] Unable to register cuFFT factory: Attempting to register factory for plugin cuFFT when one has already been registered\n",
      "2024-09-06 17:20:30.750016: E external/local_xla/xla/stream_executor/cuda/cuda_blas.cc:1515] Unable to register cuBLAS factory: Attempting to register factory for plugin cuBLAS when one has already been registered\n"
     ]
    },
    {
     "name": "stdout",
     "output_type": "stream",
     "text": [
      "************************************************************************\n",
      "\n",
      "Starting CNMF item:\n",
      "algo                                                             cnmf\n",
      "item_name                                                 caiman_phys\n",
      "input_movie_path    9781250d-22cb-4ebc-9de1-ad97e101ddee/9781250d-...\n",
      "params              {'main': {'fnames': (/home/mbo/caiman_data/ani...\n",
      "outputs                                                          None\n",
      "added_time                                        2024-09-06T17:20:27\n",
      "ran_time                                                         None\n",
      "algo_duration                                                    None\n",
      "comments                                                         None\n",
      "uuid                             46e6535a-9489-4fd6-8520-1d2f3bb9f11c\n",
      "Name: 16, dtype: object\n",
      "With params:{'main': {'fnames': (PosixPath('/home/mbo/caiman_data/animal_01/session_01/save_gui.zarr'),), 'var_name_hdf5': 'plane_2', 'fr': 9.62, 'dxy': (1.0, 1.0), 'decay_time': 0.4, 'strides': (48, 48), 'overlaps': (24, 24), 'max_shifts': (6, 6), 'max_deviation_rigid': 3, 'pw_rigid': True, 'p': 2, 'nb': 1, 'rf': 15, 'K': 780, 'gSig': array([6, 6]), 'gSiz': None, 'stride': 10, 'method_init': 'greedy_roi', 'rolling_sum': True, 'only_init': True, 'use_cnn': False, 'ssub': 1, 'tsub': 1, 'merge_thr': 0.8, 'bas_nonneg': True, 'min_SNR': 1.5, 'rval_thr': 0.2}, 'refit': True}\n"
     ]
    },
    {
     "name": "stderr",
     "output_type": "stream",
     "text": [
      "The local backend is an alias for the multiprocessing backend, and the alias may be removed in some future version of Caiman\n",
      "WARNING:root:In setting CNMFParams, non-pathed parameters were used; this is deprecated. In some future version of Caiman, allow_legacy will default to False (and eventually will be removed)\n"
     ]
    },
    {
     "name": "stdout",
     "output_type": "stream",
     "text": [
      "making memmap\n"
     ]
    },
    {
     "name": "stderr",
     "output_type": "stream",
     "text": [
      "WARNING:caiman.cluster:The local backend is an alias for the multiprocessing backend, and the alias may be removed in some future version of Caiman\n"
     ]
    },
    {
     "name": "stdout",
     "output_type": "stream",
     "text": [
      "performing CNMF\n",
      "fitting images\n"
     ]
    },
    {
     "name": "stderr",
     "output_type": "stream",
     "text": [
      "/home/mbo/miniconda3/envs/mbo-caiman/lib/python3.11/site-packages/scipy/ndimage/_measurements.py:1541: RuntimeWarning: invalid value encountered in scalar divide\n",
      "  results = [sum(input * grids[dir].astype(float), labels, index) / normalizer\n",
      "/home/mbo/miniconda3/envs/mbo-caiman/lib/python3.11/site-packages/scipy/ndimage/_measurements.py:1541: RuntimeWarning: invalid value encountered in scalar divide\n",
      "  results = [sum(input * grids[dir].astype(float), labels, index) / normalizer\n",
      "/home/mbo/miniconda3/envs/mbo-caiman/lib/python3.11/site-packages/scipy/ndimage/_measurements.py:1541: RuntimeWarning: invalid value encountered in scalar divide\n",
      "  results = [sum(input * grids[dir].astype(float), labels, index) / normalizer\n",
      "/home/mbo/miniconda3/envs/mbo-caiman/lib/python3.11/site-packages/scipy/ndimage/_measurements.py:1541: RuntimeWarning: invalid value encountered in scalar divide\n",
      "  results = [sum(input * grids[dir].astype(float), labels, index) / normalizer\n"
     ]
    }
   ],
   "source": [
    "df.iloc[-1].caiman.run()"
   ]
  },
  {
   "cell_type": "markdown",
   "id": "c1128142-282d-43f7-83c2-0408066b5f66",
   "metadata": {},
   "source": [
    "# CNMF outputs\n",
    "\n",
    "Similar to mcorr, you can use the `mesmerize-core` API to fetch the outputs.\n",
    "\n",
    "[API reference for mesmerize-CNMF](https://mesmerize-core.readthedocs.io/en/latest/api/cnmf.html)\n",
    "[API reference for caiman-CNMF](https://caiman.readthedocs.io/en/latest/Getting_Started.html#parameters)\n",
    "\n"
   ]
  },
  {
   "cell_type": "markdown",
   "id": "7443e540",
   "metadata": {},
   "source": [
    "## CNMF Object"
   ]
  },
  {
   "cell_type": "code",
   "execution_count": 9,
   "id": "973144db",
   "metadata": {},
   "outputs": [],
   "source": [
    "cnmf_model = df.iloc[-1].cnmf.get_output()\n",
    "correlation_image = df.iloc[-1].caiman.get_corr_image()"
   ]
  },
  {
   "cell_type": "code",
   "execution_count": 14,
   "id": "e0ec2eed",
   "metadata": {},
   "outputs": [
    {
     "data": {
      "text/plain": [
       "CNMFParams:\n",
       "\n",
       "data:\n",
       "\n",
       "{'caiman_version': '1.11.0',\n",
       " 'decay_time': 0.4,\n",
       " 'dims': b'NoneType',\n",
       " 'dxy': (1, 1),\n",
       " 'fnames': None,\n",
       " 'fr': 30,\n",
       " 'last_commit': 'FILE-1723487462',\n",
       " 'var_name_hdf5': 'mov'}\n",
       "\n",
       "init:\n",
       "\n",
       "{'K': 8,\n",
       " 'SC_kernel': 'heat',\n",
       " 'SC_nnn': 20,\n",
       " 'SC_normalize': True,\n",
       " 'SC_sigma': 1,\n",
       " 'SC_thr': 0,\n",
       " 'SC_use_NN': False,\n",
       " 'alpha_snmf': 0.5,\n",
       " 'center_psf': False,\n",
       " 'gSig': array([6, 6]),\n",
       " 'gSiz': array([13, 13]),\n",
       " 'init_iter': 2,\n",
       " 'kernel': None,\n",
       " 'lambda_gnmf': 1,\n",
       " 'maxIter': 5,\n",
       " 'max_iter_snmf': 500,\n",
       " 'method_init': 'greedy_roi',\n",
       " 'min_corr': 0.85,\n",
       " 'min_pnr': 20,\n",
       " 'nIter': 5,\n",
       " 'nb': 2,\n",
       " 'normalize_init': True,\n",
       " 'options_local_NMF': None,\n",
       " 'perc_baseline_snmf': 20,\n",
       " 'ring_size_factor': 1.5,\n",
       " 'rolling_length': 100,\n",
       " 'rolling_sum': True,\n",
       " 'seed_method': 'auto',\n",
       " 'sigma_smooth_snmf': (0.5, 0.5, 0.5),\n",
       " 'ssub': 1,\n",
       " 'ssub_B': 2,\n",
       " 'tsub': 1}\n",
       "\n",
       "merging:\n",
       "\n",
       "{'do_merge': True, 'merge_parallel': False, 'merge_thr': 0.95}\n",
       "\n",
       "motion:\n",
       "\n",
       "{'border_nan': 'copy',\n",
       " 'gSig_filt': None,\n",
       " 'indices': array([b'slice(None, None, None)', b'slice(None, None, None)'],\n",
       "      dtype='|S32'),\n",
       " 'is3D': False,\n",
       " 'max_deviation_rigid': 3,\n",
       " 'max_shifts': (6, 6),\n",
       " 'min_mov': None,\n",
       " 'niter_rig': 1,\n",
       " 'nonneg_movie': True,\n",
       " 'num_frames_split': 80,\n",
       " 'num_splits_to_process_els': None,\n",
       " 'num_splits_to_process_rig': None,\n",
       " 'overlaps': (32, 32),\n",
       " 'pw_rigid': False,\n",
       " 'shifts_opencv': True,\n",
       " 'splits_els': 14,\n",
       " 'splits_rig': 14,\n",
       " 'strides': (96, 96),\n",
       " 'upsample_factor_grid': 4,\n",
       " 'use_cuda': False}\n",
       "\n",
       "online:\n",
       "\n",
       "{'N_samples_exceptionality': 12,\n",
       " 'W_update_factor': 1,\n",
       " 'batch_update_suff_stat': False,\n",
       " 'dist_shape_update': False,\n",
       " 'ds_factor': 1,\n",
       " 'epochs': 1,\n",
       " 'expected_comps': 500,\n",
       " 'full_XXt': False,\n",
       " 'init_batch': 1730,\n",
       " 'init_method': 'bare',\n",
       " 'iters_shape': 5,\n",
       " 'max_comp_update_shape': inf,\n",
       " 'max_num_added': 5,\n",
       " 'max_shifts_online': 10,\n",
       " 'min_SNR': 2.0,\n",
       " 'min_num_trial': 5,\n",
       " 'minibatch_shape': 100,\n",
       " 'minibatch_suff_stat': 5,\n",
       " 'motion_correct': True,\n",
       " 'movie_name_online': 'online_movie.mp4',\n",
       " 'n_refit': 0,\n",
       " 'normalize': False,\n",
       " 'num_times_comp_updated': inf,\n",
       " 'opencv_codec': 'H264',\n",
       " 'path_to_model': '/home/mbo/caiman_data/model/cnn_model_online.h5',\n",
       " 'ring_CNN': False,\n",
       " 'rval_thr': 0.7,\n",
       " 'save_online_movie': False,\n",
       " 'show_movie': False,\n",
       " 'simultaneously': False,\n",
       " 'sniper_mode': False,\n",
       " 'stop_detection': False,\n",
       " 'test_both': False,\n",
       " 'thresh_CNN_noisy': 0.5,\n",
       " 'thresh_fitness_delta': -50,\n",
       " 'thresh_fitness_raw': -45.39821200418438,\n",
       " 'thresh_overlap': 0.5,\n",
       " 'update_freq': 200,\n",
       " 'update_num_comps': True,\n",
       " 'use_corr_img': False,\n",
       " 'use_dense': True,\n",
       " 'use_peak_max': True}\n",
       "\n",
       "patch:\n",
       "\n",
       "{'border_pix': 0,\n",
       " 'del_duplicates': False,\n",
       " 'in_memory': True,\n",
       " 'low_rank_background': True,\n",
       " 'memory_fact': 1,\n",
       " 'n_processes': 31,\n",
       " 'nb_patch': 1,\n",
       " 'only_init': False,\n",
       " 'p_patch': 0,\n",
       " 'p_ssub': 2,\n",
       " 'p_tsub': 2,\n",
       " 'remove_very_bad_comps': False,\n",
       " 'rf': None,\n",
       " 'skip_refinement': False,\n",
       " 'stride': 6}\n",
       "\n",
       "preprocess:\n",
       "\n",
       "{'check_nan': True,\n",
       " 'compute_g': False,\n",
       " 'include_noise': False,\n",
       " 'lags': 5,\n",
       " 'max_num_samples_fft': 3072,\n",
       " 'n_pixels_per_process': 10838,\n",
       " 'noise_method': 'mean',\n",
       " 'noise_range': array([0.25, 0.5 ]),\n",
       " 'p': 1,\n",
       " 'pixels': None,\n",
       " 'sn': None}\n",
       "\n",
       "ring_CNN:\n",
       "\n",
       "{'loss_fn': 'pct',\n",
       " 'lr': 0.001,\n",
       " 'lr_scheduler': None,\n",
       " 'max_epochs': 100,\n",
       " 'n_channels': 2,\n",
       " 'path_to_model': None,\n",
       " 'patience': 3,\n",
       " 'pct': 0.01,\n",
       " 'remove_activity': False,\n",
       " 'reuse_model': False,\n",
       " 'use_add': False,\n",
       " 'use_bias': False,\n",
       " 'width': 5}\n",
       "\n",
       "quality:\n",
       "\n",
       "{'SNR_lowest': 0.5,\n",
       " 'cnn_lowest': 0.1,\n",
       " 'gSig_range': None,\n",
       " 'max_ecc': 3,\n",
       " 'min_SNR': 2.0,\n",
       " 'min_cnn_thr': 0.9,\n",
       " 'rval_lowest': -1,\n",
       " 'rval_thr': 0.7,\n",
       " 'use_cnn': False,\n",
       " 'use_ecc': False}\n",
       "\n",
       "spatial:\n",
       "\n",
       "{'dist': 3,\n",
       " 'expandCore': array([[0, 0, 1, 0, 0],\n",
       "       [0, 1, 1, 1, 0],\n",
       "       [1, 1, 1, 1, 1],\n",
       "       [0, 1, 1, 1, 0],\n",
       "       [0, 0, 1, 0, 0]]),\n",
       " 'extract_cc': True,\n",
       " 'maxthr': 0.1,\n",
       " 'medw': b'NoneType',\n",
       " 'method_exp': 'dilate',\n",
       " 'method_ls': 'lasso_lars',\n",
       " 'n_pixels_per_process': 10838,\n",
       " 'nb': 2,\n",
       " 'normalize_yyt_one': True,\n",
       " 'nrgthr': 0.9999,\n",
       " 'num_blocks_per_run_spat': 20,\n",
       " 'se': None,\n",
       " 'ss': None,\n",
       " 'thr_method': 'nrg',\n",
       " 'update_background_components': True}\n",
       "\n",
       "temporal:\n",
       "\n",
       "{'ITER': 2,\n",
       " 'bas_nonneg': False,\n",
       " 'block_size_temp': 5000,\n",
       " 'fudge_factor': 0.96,\n",
       " 'lags': 5,\n",
       " 'method_deconvolution': 'oasis',\n",
       " 'nb': 2,\n",
       " 'noise_method': 'mean',\n",
       " 'noise_range': array([0.25, 0.5 ]),\n",
       " 'num_blocks_per_run_temp': 20,\n",
       " 'optimize_g': False,\n",
       " 'p': 1,\n",
       " 's_min': None,\n",
       " 'solvers': array([b'ECOS', b'SCS'], dtype='|S4'),\n",
       " 'verbosity': False}"
      ]
     },
     "execution_count": 14,
     "metadata": {},
     "output_type": "execute_result"
    }
   ],
   "source": [
    "cnmf_model.params"
   ]
  },
  {
   "cell_type": "code",
   "execution_count": 19,
   "id": "185a2abf",
   "metadata": {},
   "outputs": [
    {
     "data": {
      "image/png": "[encoded data removed]",
      "text/plain": [
       "<Figure size 640x480 with 1 Axes>"
      ]
     },
     "metadata": {},
     "output_type": "display_data"
    }
   ],
   "source": [
    "# dim order: txy[,z]\n",
    "plt.plot(cnmf_model.estimates.C[0,:])\n",
    "plt.show()"
   ]
  },
  {
   "cell_type": "code",
   "execution_count": 22,
   "id": "1d425ed2",
   "metadata": {},
   "outputs": [
    {
     "ename": "TypeError",
     "evalue": "unsupported operand type(s) for *: 'NoneType' and 'int'",
     "output_type": "error",
     "traceback": [
      "\u001b[0;31m---------------------------------------------------------------------------\u001b[0m",
      "\u001b[0;31mTypeError\u001b[0m                                 Traceback (most recent call last)",
      "Cell \u001b[0;32mIn[22], line 2\u001b[0m\n\u001b[1;32m      1\u001b[0m \u001b[38;5;66;03m# calculate stride and overlap from parameters\u001b[39;00m\n\u001b[0;32m----> 2\u001b[0m cnmf_patch_width \u001b[38;5;241m=\u001b[39m \u001b[43mcnmf_model\u001b[49m\u001b[38;5;241;43m.\u001b[39;49m\u001b[43mparams\u001b[49m\u001b[38;5;241;43m.\u001b[39;49m\u001b[43mpatch\u001b[49m\u001b[43m[\u001b[49m\u001b[38;5;124;43m'\u001b[39;49m\u001b[38;5;124;43mrf\u001b[39;49m\u001b[38;5;124;43m'\u001b[39;49m\u001b[43m]\u001b[49m\u001b[38;5;241;43m*\u001b[39;49m\u001b[38;5;241;43m2\u001b[39;49m \u001b[38;5;241m+\u001b[39m \u001b[38;5;241m1\u001b[39m\n\u001b[1;32m      3\u001b[0m cnmf_patch_overlap \u001b[38;5;241m=\u001b[39m cnmf_model\u001b[38;5;241m.\u001b[39mparams\u001b[38;5;241m.\u001b[39mpatch[\u001b[38;5;124m'\u001b[39m\u001b[38;5;124mstride\u001b[39m\u001b[38;5;124m'\u001b[39m] \u001b[38;5;241m+\u001b[39m \u001b[38;5;241m1\u001b[39m\n\u001b[1;32m      4\u001b[0m cnmf_patch_stride \u001b[38;5;241m=\u001b[39m cnmf_patch_width \u001b[38;5;241m-\u001b[39m cnmf_patch_overlap\n",
      "\u001b[0;31mTypeError\u001b[0m: unsupported operand type(s) for *: 'NoneType' and 'int'"
     ]
    }
   ],
   "source": [
    "# calculate stride and overlap from parameters\n",
    "cnmf_patch_width = cnmf_model.params.patch['rf']*2 + 1\n",
    "cnmf_patch_overlap = cnmf_model.params.patch['stride'] + 1\n",
    "cnmf_patch_stride = cnmf_patch_width - cnmf_patch_overlap\n",
    "print(f'Patch width: {cnmf_patch_width} , Stride: {cnmf_patch_stride}, Overlap: {cnmf_patch_overlap}');"
   ]
  },
  {
   "cell_type": "code",
   "execution_count": 9,
   "id": "34e7f7de-6a70-4d5d-b999-611509953437",
   "metadata": {},
   "outputs": [],
   "source": [
    "index = -1  # index of the cnmf item, last item in the dataframe\n",
    "\n",
    "# temporal components\n",
    "temporal = df.iloc[index].cnmf.get_temporal()"
   ]
  },
  {
   "cell_type": "code",
   "execution_count": 10,
   "id": "9f46abe9-ddcf-4a72-b7b2-3664cb3cbccb",
   "metadata": {},
   "outputs": [
    {
     "data": {
      "text/plain": [
       "(4629, 1730)"
      ]
     },
     "execution_count": 10,
     "metadata": {},
     "output_type": "execute_result"
    }
   ],
   "source": [
    "temporal.shape"
   ]
  },
  {
   "cell_type": "markdown",
   "id": "75e4d6de-f397-4142-a152-26cb63bf8b55",
   "metadata": {},
   "source": [
    "Many of the cnmf functions take a rich set of arguments"
   ]
  },
  {
   "cell_type": "code",
   "execution_count": 11,
   "id": "1e3a23d5-e26d-49b2-962c-fc3eefc5a80f",
   "metadata": {},
   "outputs": [
    {
     "data": {
      "text/plain": [
       "(273, 1730)"
      ]
     },
     "execution_count": 11,
     "metadata": {},
     "output_type": "execute_result"
    }
   ],
   "source": [
    "# get accepted or rejected components\n",
    "temporal_good = df.iloc[index].cnmf.get_temporal(\"good\")\n",
    "\n",
    "# shape is [n_components, n_frames]\n",
    "temporal_good.shape"
   ]
  },
  {
   "cell_type": "markdown",
   "id": "83b1c2b2",
   "metadata": {},
   "source": [
    "### Get specific components"
   ]
  },
  {
   "cell_type": "code",
   "execution_count": 8,
   "id": "f23f01a8-45c4-4dc6-8e58-f50ef534f035",
   "metadata": {},
   "outputs": [
    {
     "data": {
      "text/plain": [
       "array([[-1164.26197784,   482.41381104,   524.05762701, ...,\n",
       "          146.58582648,  -103.30837119,  -305.56385525],\n",
       "       [ -976.41859592,  1333.52341395,   895.44232658, ...,\n",
       "           40.63645868,  -152.24833724,  -308.55249443],\n",
       "       [ -291.12191069,   811.46900584,   886.63938853, ...,\n",
       "         -177.02657974,  -193.8651116 ,  -208.21858463]])"
      ]
     },
     "execution_count": 8,
     "metadata": {},
     "output_type": "execute_result"
    }
   ],
   "source": [
    "df.iloc[-1].cnmf.get_temporal(np.array([1, 5, 9]))"
   ]
  },
  {
   "cell_type": "markdown",
   "id": "a3b7efcd",
   "metadata": {},
   "source": [
    "### add risiduals / contours"
   ]
  },
  {
   "cell_type": "code",
   "execution_count": 29,
   "id": "48b6cad9-f7f4-498b-81b7-856dd1b97613",
   "metadata": {},
   "outputs": [],
   "source": [
    "# get temporal with the residuals, i.e. C + YrA\n",
    "temporal_with_residuals = df.iloc[index].cnmf.get_temporal(add_residuals=True)"
   ]
  },
  {
   "cell_type": "code",
   "execution_count": 30,
   "id": "0a6963c9-81f8-4922-8bc3-a2ce468052a4",
   "metadata": {},
   "outputs": [],
   "source": [
    "# get contours\n",
    "contours = df.iloc[index].cnmf.get_contours()"
   ]
  },
  {
   "cell_type": "markdown",
   "id": "cff3ce6e-78ce-4a54-85e5-45caaeb9476f",
   "metadata": {},
   "source": [
    "Returns: `(list of np.ndarray of contour coordinates, list of center of mass)`"
   ]
  },
  {
   "cell_type": "code",
   "execution_count": 31,
   "id": "f3d1f01a-7366-4073-9f50-051ee38e0097",
   "metadata": {},
   "outputs": [
    {
     "name": "stdout",
     "output_type": "stream",
     "text": [
      "contour 0 coordinates:\n",
      "\n",
      "[[20.         25.01558346]\n",
      " [19.         25.60646128]\n",
      " [18.         25.2845259 ]\n",
      " [17.5524056  25.        ]\n",
      " [17.         24.57330747]\n",
      " [16.         24.46959915]\n",
      " [15.59287146 25.        ]\n",
      " [15.         25.62280392]\n",
      " [14.         25.49757361]\n",
      " [13.         25.22684176]\n",
      " [12.6570361  25.        ]\n",
      " [12.         24.48841853]\n",
      " [11.45336193 24.        ]\n",
      " [11.         23.66266051]\n",
      " [10.         23.51538548]\n",
      " [ 9.19089959 23.        ]\n",
      " [ 9.         22.78334966]\n",
      " [ 8.73803854 22.        ]\n",
      " [ 8.11875789 21.        ]\n",
      " [ 8.         20.59387852]\n",
      " [ 7.6882345  20.        ]\n",
      " [ 7.16678103 19.        ]\n",
      " [ 7.1318453  18.        ]\n",
      " [ 7.08960039 17.        ]\n",
      " [ 7.         16.5785856 ]\n",
      " [ 6.65247425 16.        ]\n",
      " [ 6.50517672 15.        ]\n",
      " [ 6.40926157 14.        ]\n",
      " [ 6.28386307 13.        ]\n",
      " [ 6.55689294 12.        ]\n",
      " [ 7.         11.52766769]\n",
      " [ 7.5171354  11.        ]\n",
      " [ 8.         10.51930536]\n",
      " [ 8.54780523 11.        ]\n",
      " [ 9.         11.36939161]\n",
      " [10.         11.35715476]\n",
      " [11.         11.35153216]\n",
      " [12.         11.03064103]\n",
      " [13.         11.00854588]\n",
      " [14.         11.02571915]\n",
      " [14.34952749 11.        ]\n",
      " [15.         10.79452696]\n",
      " [15.40180053 11.        ]\n",
      " [16.         11.3518985 ]\n",
      " [16.39945443 12.        ]\n",
      " [17.         12.34943993]\n",
      " [18.         12.78497559]\n",
      " [18.24409519 13.        ]\n",
      " [18.         13.64381587]\n",
      " [17.92463677 14.        ]\n",
      " [18.         14.73769567]\n",
      " [18.13685712 15.        ]\n",
      " [18.         15.14635433]\n",
      " [17.21156075 16.        ]\n",
      " [17.17511485 17.        ]\n",
      " [17.70396354 18.        ]\n",
      " [17.7771694  19.        ]\n",
      " [18.         19.24768402]\n",
      " [18.71145103 20.        ]\n",
      " [19.         20.29612122]\n",
      " [19.97657659 21.        ]\n",
      " [20.         21.04714443]\n",
      " [20.99147443 22.        ]\n",
      " [20.34822847 23.        ]\n",
      " [20.27876753 24.        ]\n",
      " [20.01558346 25.        ]\n",
      " [20.         25.01558346]]\n",
      "\n",
      " com: [13.75371199 18.06752496]\n"
     ]
    }
   ],
   "source": [
    "print(f\"contour 0 coordinates:\\n\\n{contours[0][0]}\\n\\n com: {contours[1][0]}\")"
   ]
  },
  {
   "cell_type": "code",
   "execution_count": 1,
   "id": "67f45923-e273-4c54-8a36-5d609e04c880",
   "metadata": {},
   "outputs": [
    {
     "ename": "NameError",
     "evalue": "name 'contours' is not defined",
     "output_type": "error",
     "traceback": [
      "\u001b[0;31m---------------------------------------------------------------------------\u001b[0m",
      "\u001b[0;31mNameError\u001b[0m                                 Traceback (most recent call last)",
      "Cell \u001b[0;32mIn[1], line 1\u001b[0m\n\u001b[0;32m----> 1\u001b[0m \u001b[38;5;28mlen\u001b[39m(\u001b[43mcontours\u001b[49m)\n",
      "\u001b[0;31mNameError\u001b[0m: name 'contours' is not defined"
     ]
    }
   ],
   "source": [
    "len(contours)"
   ]
  },
  {
   "cell_type": "code",
   "execution_count": 33,
   "id": "3543a94a-5c07-4ff5-b117-cdbf12fc3b6b",
   "metadata": {},
   "outputs": [],
   "source": [
    "# get_contours() also takes arguments\n",
    "contours_good = df.iloc[index].cnmf.get_contours(\"good\")"
   ]
  },
  {
   "cell_type": "code",
   "execution_count": 34,
   "id": "fce4858e-d632-4a98-99f4-d10d67dfb94c",
   "metadata": {},
   "outputs": [
    {
     "data": {
      "text/plain": [
       "161"
      ]
     },
     "execution_count": 34,
     "metadata": {},
     "output_type": "execute_result"
    }
   ],
   "source": [
    "len(contours_good[0]) # number of contours"
   ]
  },
  {
   "cell_type": "markdown",
   "id": "1e0af648-f80c-4b71-9164-4aca607e09da",
   "metadata": {},
   "source": [
    "swap_dim"
   ]
  },
  {
   "cell_type": "code",
   "execution_count": 12,
   "id": "0bba44b2-644b-4691-a0af-bd820fdac683",
   "metadata": {
    "tags": []
   },
   "outputs": [],
   "source": [
    "# get the first contour using swap_dim=True (default)\n",
    "swap_dim_true = df.iloc[index].cnmf.get_contours()[0][0]"
   ]
  },
  {
   "cell_type": "code",
   "execution_count": 13,
   "id": "286bf44b-7b5d-43b5-9741-7ac0e5e21852",
   "metadata": {},
   "outputs": [],
   "source": [
    "# get the first contour  with swap_dim=False\n",
    "swap_dim_false = df.iloc[index].cnmf.get_contours(swap_dim=False)[0][0]"
   ]
  },
  {
   "cell_type": "code",
   "execution_count": 37,
   "id": "9231593d-7069-455f-b0d1-409a61d26ccb",
   "metadata": {},
   "outputs": [
    {
     "data": {
      "text/plain": [
       "<matplotlib.legend.Legend at 0x7f74093bfd50>"
      ]
     },
     "execution_count": 37,
     "metadata": {},
     "output_type": "execute_result"
    },
    {
     "data": {
      "image/png": "[encoded data removed]",
      "text/plain": [
       "<Figure size 640x480 with 1 Axes>"
      ]
     },
     "metadata": {},
     "output_type": "display_data"
    }
   ],
   "source": [
    "plt.plot(\n",
    "    swap_dim_true[:, 0], \n",
    "    swap_dim_true[:, 1], \n",
    "    label=\"swap_dim=True\"\n",
    ")\n",
    "plt.plot(\n",
    "    swap_dim_false[:, 0], \n",
    "    swap_dim_false[:, 1], \n",
    "    label=\"swap_dim=False\"\n",
    ")\n",
    "plt.legend()"
   ]
  },
  {
   "cell_type": "code",
   "execution_count": 38,
   "id": "944252d3-d654-4394-acb7-c620ccb01f85",
   "metadata": {},
   "outputs": [
    {
     "data": {
      "text/plain": [
       "[<matplotlib.lines.Line2D at 0x7f74098bb010>]"
      ]
     },
     "execution_count": 38,
     "metadata": {},
     "output_type": "execute_result"
    },
    {
     "data": {
      "image/png": "[encoded data removed]",
      "text/plain": [
       "<Figure size 640x480 with 1 Axes>"
      ]
     },
     "metadata": {},
     "output_type": "display_data"
    }
   ],
   "source": [
    "# swap_dim swaps the x and y dims\n",
    "plt.plot(\n",
    "    swap_dim_true[:, 0], \n",
    "    swap_dim_true[:, 1], \n",
    "    linewidth=30\n",
    ")\n",
    "plt.plot(\n",
    "    swap_dim_false[:, 1], \n",
    "    swap_dim_false[:, 0], \n",
    "    linewidth=10\n",
    ")"
   ]
  },
  {
   "cell_type": "markdown",
   "id": "5c6c8e98-13fd-45c6-9afe-7fc3193ed3de",
   "metadata": {},
   "source": [
    "# Reconstructed movie - `A * C`\n",
    "# Reconstructed background - `b * f`\n",
    "# Residuals - `Y - AC - bf` \n",
    "\n",
    "Mesmerize-core provides these outputs as lazy arrays. This allows you to work with arrays that would otherwise be hundreds of gigabytes or terabytes in size."
   ]
  },
  {
   "cell_type": "code",
   "execution_count": 14,
   "id": "c58ce87d-4e75-4026-840c-81b826245ba3",
   "metadata": {},
   "outputs": [
    {
     "data": {
      "text/plain": [
       "LazyArrayRCM @0x7f5373a07910\n",
       "LazyArray for reconstructed movie, i.e. A ⊗ C\n",
       "Frames are computed only upon indexing\n",
       "shape [frames, x, y]: (1730, 600, 560)\n",
       "n_components: 4629"
      ]
     },
     "execution_count": 14,
     "metadata": {},
     "output_type": "execute_result"
    }
   ],
   "source": [
    "rcm = df.iloc[index].cnmf.get_rcm()\n",
    "rcm"
   ]
  },
  {
   "cell_type": "markdown",
   "id": "2722d48c-e433-4a73-8eec-9e37e053f651",
   "metadata": {},
   "source": [
    "LazyArrays behave like numpy arrays"
   ]
  },
  {
   "cell_type": "code",
   "execution_count": 15,
   "id": "1b3de689-d734-4534-b36b-4ffb7f061d7a",
   "metadata": {},
   "outputs": [
    {
     "data": {
      "text/plain": [
       "array([[ 0.        ,  0.        ,  0.        , ...,  0.        ,\n",
       "         0.        ,  0.        ],\n",
       "       [ 0.        , -3.802735  ,  6.63209673, ...,  0.        ,\n",
       "         0.        ,  0.        ],\n",
       "       [ 0.        ,  6.89688434,  8.99901868, ...,  0.        ,\n",
       "         0.        ,  0.        ],\n",
       "       ...,\n",
       "       [ 0.        , -0.30221454, -0.41923418, ...,  0.        ,\n",
       "         0.        ,  0.        ],\n",
       "       [ 0.        , -0.3223725 , -0.41923418, ...,  0.        ,\n",
       "         0.        ,  0.        ],\n",
       "       [ 0.        ,  0.        ,  0.        , ...,  0.        ,\n",
       "         0.        ,  0.        ]])"
      ]
     },
     "execution_count": 15,
     "metadata": {},
     "output_type": "execute_result"
    }
   ],
   "source": [
    "rcm[42]"
   ]
  },
  {
   "cell_type": "code",
   "execution_count": 16,
   "id": "980b03b1-c2d3-44dc-a741-d43dd689abca",
   "metadata": {},
   "outputs": [
    {
     "data": {
      "text/plain": [
       "(10, 600, 560)"
      ]
     },
     "execution_count": 16,
     "metadata": {},
     "output_type": "execute_result"
    }
   ],
   "source": [
    "rcm[10:20].shape"
   ]
  },
  {
   "cell_type": "markdown",
   "id": "c6fe2ca3-0255-43fd-9ae2-c635b2d0355a",
   "metadata": {},
   "source": [
    "# Using LazyArrays"
   ]
  },
  {
   "cell_type": "code",
   "execution_count": 42,
   "id": "cf4f70d3-badc-4339-92f8-1ac0351e64b6",
   "metadata": {},
   "outputs": [],
   "source": [
    "rcm_accepted = df.iloc[index].cnmf.get_rcm(\"good\")\n",
    "rcm_rejected = df.iloc[index].cnmf.get_rcm(\"bad\")"
   ]
  },
  {
   "cell_type": "markdown",
   "id": "934dc203-fa0c-4c1e-b8e9-0c6dba91ef3d",
   "metadata": {},
   "source": [
    "# All CNMF LazyArrays"
   ]
  },
  {
   "cell_type": "code",
   "execution_count": 17,
   "id": "6e2acd69-bd4b-455e-85fd-b55c588e3057",
   "metadata": {},
   "outputs": [],
   "source": [
    "rcb = df.iloc[index].cnmf.get_rcb()\n",
    "residuals = df.iloc[index].cnmf.get_residuals()\n",
    "input_movie = df.iloc[index].caiman.get_input_movie()"
   ]
  },
  {
   "cell_type": "code",
   "execution_count": 22,
   "id": "86772385",
   "metadata": {},
   "outputs": [
    {
     "data": {
      "text/plain": [
       "(1730, 600, 560)"
      ]
     },
     "execution_count": 22,
     "metadata": {},
     "output_type": "execute_result"
    }
   ],
   "source": [
    "rcb.shape"
   ]
  },
  {
   "cell_type": "code",
   "execution_count": 23,
   "id": "ec3ef0e9",
   "metadata": {},
   "outputs": [
    {
     "data": {
      "text/plain": [
       "Viewer(camera=Camera(center=(0.0, 299.5, 279.5), zoom=1.3079464285714284, angles=(0.0, 0.0, 90.0), perspective=0.0, mouse_pan=True, mouse_zoom=True), cursor=Cursor(position=(864.0, 1.0, 0.0), scaled=True, style=<CursorStyle.STANDARD: 'standard'>, size=1.0), dims=Dims(ndim=3, ndisplay=2, order=(0, 1, 2), axis_labels=('0', '1', '2'), rollable=(True, True, True), range=(RangeTuple(start=0.0, stop=1729.0, step=1.0), RangeTuple(start=0.0, stop=599.0, step=1.0), RangeTuple(start=0.0, stop=559.0, step=1.0)), margin_left=(0.0, 0.0, 0.0), margin_right=(0.0, 0.0, 0.0), point=(864.0, 299.0, 279.0), last_used=0), grid=GridCanvas(stride=1, shape=(-1, -1), enabled=False), layers=[<Image layer 'rcb' at 0x7f53578a7f50>], help='use <2> for transform', status='Ready', tooltip=Tooltip(visible=False, text=''), theme='dark', title='napari', mouse_over_canvas=False, mouse_move_callbacks=[], mouse_drag_callbacks=[], mouse_double_click_callbacks=[], mouse_wheel_callbacks=[<function dims_scroll at 0x7f53560702c0>], _persisted_mouse_event={}, _mouse_drag_gen={}, _mouse_wheel_gen={}, _keymap={})"
      ]
     },
     "execution_count": 23,
     "metadata": {},
     "output_type": "execute_result"
    },
    {
     "ename": "",
     "evalue": "",
     "output_type": "error",
     "traceback": [
      "\u001b[1;31mThe Kernel crashed while executing code in the current cell or a previous cell. \n",
      "\u001b[1;31mPlease review the code in the cell(s) to identify a possible cause of the failure. \n",
      "\u001b[1;31mClick <a href='https://aka.ms/vscodeJupyterKernelCrash'>here</a> for more info. \n",
      "\u001b[1;31mView Jupyter <a href='command:jupyter.viewOutput'>log</a> for further details."
     ]
    }
   ],
   "source": [
    "napari.view_image(rcb)"
   ]
  },
  {
   "cell_type": "markdown",
   "id": "ae1b2d80-1d6f-403b-b98a-3471c96f57d6",
   "metadata": {},
   "source": [
    "# Parameter Gridsearch\n",
    "\n",
    "As shown for motion correction, the purpose of `mesmerize-core` is to perform parameter searches"
   ]
  },
  {
   "cell_type": "code",
   "execution_count": 46,
   "id": "fc7684d2-3d2c-43ac-9064-ba3997f7a1c8",
   "metadata": {},
   "outputs": [],
   "source": [
    "# itertools.product makes it easy to loop through parameter variants\n",
    "# basically, it's easier to read that deeply nested for loops\n",
    "from copy import deepcopy\n",
    "from itertools import product\n",
    "\n",
    "# variants of several parameters\n",
    "gSig_variants = [4, 6]\n",
    "K_variants = [4, 8]\n",
    "merge_thr_variants = [0.8, 0.95]\n",
    "\n",
    "# always use deepcopy like before\n",
    "new_params_cnmf = deepcopy(params_cnmf)\n",
    "\n",
    "# create a parameter grid\n",
    "parameter_grid = product(gSig_variants, K_variants, merge_thr_variants)\n",
    "\n",
    "# a single for loop to go through all the various parameter combinations\n",
    "for gSig, K, merge_thr in parameter_grid:\n",
    "    # deep copy params dict just like before\n",
    "    new_params_cnmf = deepcopy(new_params_cnmf)\n",
    "    \n",
    "    new_params_cnmf[\"main\"][\"gSig\"] = [gSig, gSig]\n",
    "    new_params_cnmf[\"main\"][\"K\"] = K\n",
    "    new_params_cnmf[\"main\"][\"merge_thr\"] = merge_thr\n",
    "    \n",
    "    # add param combination variant to batch\n",
    "    df.caiman.add_item(\n",
    "        algo=\"cnmf\",\n",
    "        item_name=df.iloc[good_mcorr_index][\"item_name\"],  # good mcorr item\n",
    "        input_movie_path=df.iloc[good_mcorr_index],\n",
    "        params=new_params_cnmf\n",
    "    )"
   ]
  },
  {
   "cell_type": "markdown",
   "id": "5cb21a8e-709d-4888-bbd9-42653f700240",
   "metadata": {},
   "source": [
    "We now have lot of cnmf items"
   ]
  },
  {
   "cell_type": "code",
   "execution_count": null,
   "id": "0fb3f94d-34d2-4eef-ad2d-b4f6db89fa72",
   "metadata": {},
   "outputs": [],
   "source": [
    "df"
   ]
  },
  {
   "cell_type": "markdown",
   "id": "9bf8dce3-b0f7-43b0-b719-774673b6cb25",
   "metadata": {},
   "source": [
    "View the diffs"
   ]
  },
  {
   "cell_type": "code",
   "execution_count": 9,
   "id": "80b98249-b3b5-4481-a4e2-dbdcbf8d1ed9",
   "metadata": {},
   "outputs": [
    {
     "data": {
      "text/html": [
       "<div>\n",
       "<style scoped>\n",
       "    .dataframe tbody tr th:only-of-type {\n",
       "        vertical-align: middle;\n",
       "    }\n",
       "\n",
       "    .dataframe tbody tr th {\n",
       "        vertical-align: top;\n",
       "    }\n",
       "\n",
       "    .dataframe thead th {\n",
       "        text-align: right;\n",
       "    }\n",
       "</style>\n",
       "<table border=\"1\" class=\"dataframe\">\n",
       "  <thead>\n",
       "    <tr style=\"text-align: right;\">\n",
       "      <th></th>\n",
       "      <th>merge_thr</th>\n",
       "      <th>K</th>\n",
       "      <th>gSig</th>\n",
       "    </tr>\n",
       "  </thead>\n",
       "  <tbody>\n",
       "    <tr>\n",
       "      <th>4</th>\n",
       "      <td>0.85</td>\n",
       "      <td>4</td>\n",
       "      <td>(4, 4)</td>\n",
       "    </tr>\n",
       "    <tr>\n",
       "      <th>5</th>\n",
       "      <td>0.8</td>\n",
       "      <td>4</td>\n",
       "      <td>(4, 4)</td>\n",
       "    </tr>\n",
       "    <tr>\n",
       "      <th>6</th>\n",
       "      <td>0.95</td>\n",
       "      <td>4</td>\n",
       "      <td>(4, 4)</td>\n",
       "    </tr>\n",
       "    <tr>\n",
       "      <th>7</th>\n",
       "      <td>0.8</td>\n",
       "      <td>8</td>\n",
       "      <td>(4, 4)</td>\n",
       "    </tr>\n",
       "    <tr>\n",
       "      <th>8</th>\n",
       "      <td>0.95</td>\n",
       "      <td>8</td>\n",
       "      <td>(4, 4)</td>\n",
       "    </tr>\n",
       "    <tr>\n",
       "      <th>9</th>\n",
       "      <td>0.8</td>\n",
       "      <td>4</td>\n",
       "      <td>(6, 6)</td>\n",
       "    </tr>\n",
       "    <tr>\n",
       "      <th>10</th>\n",
       "      <td>0.95</td>\n",
       "      <td>4</td>\n",
       "      <td>(6, 6)</td>\n",
       "    </tr>\n",
       "    <tr>\n",
       "      <th>11</th>\n",
       "      <td>0.8</td>\n",
       "      <td>8</td>\n",
       "      <td>(6, 6)</td>\n",
       "    </tr>\n",
       "    <tr>\n",
       "      <th>12</th>\n",
       "      <td>0.95</td>\n",
       "      <td>8</td>\n",
       "      <td>(6, 6)</td>\n",
       "    </tr>\n",
       "  </tbody>\n",
       "</table>\n",
       "</div>"
      ],
      "text/plain": [
       "   merge_thr  K    gSig\n",
       "4       0.85  4  (4, 4)\n",
       "5        0.8  4  (4, 4)\n",
       "6       0.95  4  (4, 4)\n",
       "7        0.8  8  (4, 4)\n",
       "8       0.95  8  (4, 4)\n",
       "9        0.8  4  (6, 6)\n",
       "10      0.95  4  (6, 6)\n",
       "11       0.8  8  (6, 6)\n",
       "12      0.95  8  (6, 6)"
      ]
     },
     "execution_count": 9,
     "metadata": {},
     "output_type": "execute_result"
    }
   ],
   "source": [
    "df.caiman.get_params_diffs(algo=\"cnmf\", item_name=df.iloc[-1][\"item_name\"])"
   ]
  },
  {
   "cell_type": "markdown",
   "id": "628a194f-39c3-45a7-a029-53925763cc1e",
   "metadata": {},
   "source": [
    "# Run the `cnmf` batch items"
   ]
  },
  {
   "cell_type": "code",
   "execution_count": 49,
   "id": "ee0b9ac5-f66d-4370-842c-8655f5469286",
   "metadata": {},
   "outputs": [
    {
     "name": "stderr",
     "output_type": "stream",
     "text": [
      "2024-09-06 02:55:39.193366: E external/local_xla/xla/stream_executor/cuda/cuda_dnn.cc:9261] Unable to register cuDNN factory: Attempting to register factory for plugin cuDNN when one has already been registered\n",
      "2024-09-06 02:55:39.193397: E external/local_xla/xla/stream_executor/cuda/cuda_fft.cc:607] Unable to register cuFFT factory: Attempting to register factory for plugin cuFFT when one has already been registered\n",
      "2024-09-06 02:55:39.193775: E external/local_xla/xla/stream_executor/cuda/cuda_blas.cc:1515] Unable to register cuBLAS factory: Attempting to register factory for plugin cuBLAS when one has already been registered\n"
     ]
    },
    {
     "name": "stdout",
     "output_type": "stream",
     "text": [
      "************************************************************************\n",
      "\n",
      "Starting CNMF item:\n",
      "algo                                                             cnmf\n",
      "item_name                                                    save_gui\n",
      "input_movie_path    8cb260f3-ced8-4433-b9bf-fd6116b20964/8cb260f3-...\n",
      "params              {'main': {'fr': 30, 'p': 1, 'nb': 2, 'merge_th...\n",
      "outputs                                                          None\n",
      "added_time                                        2024-09-06T02:55:26\n",
      "ran_time                                                         None\n",
      "algo_duration                                                    None\n",
      "comments                                                         None\n",
      "uuid                             796af0f5-678c-4a73-9991-d8d462e9d66a\n",
      "Name: 5, dtype: object\n",
      "With params:{'main': {'fr': 30, 'p': 1, 'nb': 2, 'merge_thr': 0.8, 'rf': 15, 'stride': 6, 'K': 4, 'gSig': (4, 4), 'ssub': 1, 'tsub': 1, 'method_init': 'greedy_roi', 'min_SNR': 2.0, 'rval_thr': 0.7, 'use_cnn': False, 'decay_time': 0.4}, 'refit': True}\n"
     ]
    },
    {
     "name": "stderr",
     "output_type": "stream",
     "text": [
      "The local backend is an alias for the multiprocessing backend, and the alias may be removed in some future version of Caiman\n",
      "WARNING:root:In setting CNMFParams, non-pathed parameters were used; this is deprecated. In some future version of Caiman, allow_legacy will default to False (and eventually will be removed)\n"
     ]
    },
    {
     "name": "stdout",
     "output_type": "stream",
     "text": [
      "making memmap\n"
     ]
    },
    {
     "name": "stderr",
     "output_type": "stream",
     "text": [
      "WARNING:caiman.cluster:The local backend is an alias for the multiprocessing backend, and the alias may be removed in some future version of Caiman\n"
     ]
    },
    {
     "name": "stdout",
     "output_type": "stream",
     "text": [
      "performing CNMF\n",
      "fitting images\n",
      "refitting\n",
      "performing eval\n"
     ]
    },
    {
     "name": "stderr",
     "output_type": "stream",
     "text": [
      "WARNING:root:Component 10 is only active jointly with neighboring components. Space correlation calculation might be unreliable.\n",
      "WARNING:root:Component 10 is only active jointly with neighboring components. Space correlation calculation might be unreliable.\n",
      "WARNING:root:Component 20 is only active jointly with neighboring components. Space correlation calculation might be unreliable.\n",
      "2024-09-06 02:57:23.219120: E external/local_xla/xla/stream_executor/cuda/cuda_dnn.cc:9261] Unable to register cuDNN factory: Attempting to register factory for plugin cuDNN when one has already been registered\n",
      "2024-09-06 02:57:23.219154: E external/local_xla/xla/stream_executor/cuda/cuda_fft.cc:607] Unable to register cuFFT factory: Attempting to register factory for plugin cuFFT when one has already been registered\n",
      "2024-09-06 02:57:23.219536: E external/local_xla/xla/stream_executor/cuda/cuda_blas.cc:1515] Unable to register cuBLAS factory: Attempting to register factory for plugin cuBLAS when one has already been registered\n"
     ]
    },
    {
     "name": "stdout",
     "output_type": "stream",
     "text": [
      "************************************************************************\n",
      "\n",
      "Starting CNMF item:\n",
      "algo                                                             cnmf\n",
      "item_name                                                    save_gui\n",
      "input_movie_path    8cb260f3-ced8-4433-b9bf-fd6116b20964/8cb260f3-...\n",
      "params              {'main': {'fr': 30, 'p': 1, 'nb': 2, 'merge_th...\n",
      "outputs                                                          None\n",
      "added_time                                        2024-09-06T02:55:26\n",
      "ran_time                                                         None\n",
      "algo_duration                                                    None\n",
      "comments                                                         None\n",
      "uuid                             e58bb527-8bd1-4652-82dd-bca82327a018\n",
      "Name: 6, dtype: object\n",
      "With params:{'main': {'fr': 30, 'p': 1, 'nb': 2, 'merge_thr': 0.95, 'rf': 15, 'stride': 6, 'K': 4, 'gSig': (4, 4), 'ssub': 1, 'tsub': 1, 'method_init': 'greedy_roi', 'min_SNR': 2.0, 'rval_thr': 0.7, 'use_cnn': False, 'decay_time': 0.4}, 'refit': True}\n"
     ]
    },
    {
     "name": "stderr",
     "output_type": "stream",
     "text": [
      "The local backend is an alias for the multiprocessing backend, and the alias may be removed in some future version of Caiman\n",
      "WARNING:root:In setting CNMFParams, non-pathed parameters were used; this is deprecated. In some future version of Caiman, allow_legacy will default to False (and eventually will be removed)\n"
     ]
    },
    {
     "name": "stdout",
     "output_type": "stream",
     "text": [
      "making memmap\n"
     ]
    },
    {
     "name": "stderr",
     "output_type": "stream",
     "text": [
      "WARNING:caiman.cluster:The local backend is an alias for the multiprocessing backend, and the alias may be removed in some future version of Caiman\n"
     ]
    },
    {
     "name": "stdout",
     "output_type": "stream",
     "text": [
      "performing CNMF\n",
      "fitting images\n",
      "refitting\n",
      "performing eval\n"
     ]
    },
    {
     "name": "stderr",
     "output_type": "stream",
     "text": [
      "WARNING:root:Component 22 is only active jointly with neighboring components. Space correlation calculation might be unreliable.\n",
      "WARNING:root:Component 26 is only active jointly with neighboring components. Space correlation calculation might be unreliable.\n",
      "WARNING:root:Component 4 is only active jointly with neighboring components. Space correlation calculation might be unreliable.\n",
      "WARNING:root:Component 46 is only active jointly with neighboring components. Space correlation calculation might be unreliable.\n",
      "WARNING:root:Component 30 is only active jointly with neighboring components. Space correlation calculation might be unreliable.\n",
      "WARNING:root:Component 6 is only active jointly with neighboring components. Space correlation calculation might be unreliable.\n",
      "WARNING:root:Component 44 is only active jointly with neighboring components. Space correlation calculation might be unreliable.\n",
      "WARNING:root:Component 25 is only active jointly with neighboring components. Space correlation calculation might be unreliable.\n",
      "WARNING:root:Component 3 is only active jointly with neighboring components. Space correlation calculation might be unreliable.\n",
      "WARNING:root:Component 25 is only active jointly with neighboring components. Space correlation calculation might be unreliable.\n",
      "WARNING:root:Component 40 is only active jointly with neighboring components. Space correlation calculation might be unreliable.\n",
      "WARNING:root:Component 15 is only active jointly with neighboring components. Space correlation calculation might be unreliable.\n",
      "WARNING:root:Component 27 is only active jointly with neighboring components. Space correlation calculation might be unreliable.\n",
      "WARNING:root:Component 9 is only active jointly with neighboring components. Space correlation calculation might be unreliable.\n",
      "WARNING:root:Component 31 is only active jointly with neighboring components. Space correlation calculation might be unreliable.\n",
      "WARNING:root:Component 20 is only active jointly with neighboring components. Space correlation calculation might be unreliable.\n",
      "WARNING:root:Component 15 is only active jointly with neighboring components. Space correlation calculation might be unreliable.\n",
      "WARNING:root:Component 40 is only active jointly with neighboring components. Space correlation calculation might be unreliable.\n",
      "WARNING:root:Component 23 is only active jointly with neighboring components. Space correlation calculation might be unreliable.\n",
      "WARNING:root:Component 31 is only active jointly with neighboring components. Space correlation calculation might be unreliable.\n",
      "WARNING:root:Component 24 is only active jointly with neighboring components. Space correlation calculation might be unreliable.\n",
      "2024-09-06 02:59:09.123700: E external/local_xla/xla/stream_executor/cuda/cuda_dnn.cc:9261] Unable to register cuDNN factory: Attempting to register factory for plugin cuDNN when one has already been registered\n",
      "2024-09-06 02:59:09.123733: E external/local_xla/xla/stream_executor/cuda/cuda_fft.cc:607] Unable to register cuFFT factory: Attempting to register factory for plugin cuFFT when one has already been registered\n",
      "2024-09-06 02:59:09.124122: E external/local_xla/xla/stream_executor/cuda/cuda_blas.cc:1515] Unable to register cuBLAS factory: Attempting to register factory for plugin cuBLAS when one has already been registered\n"
     ]
    },
    {
     "name": "stdout",
     "output_type": "stream",
     "text": [
      "************************************************************************\n",
      "\n",
      "Starting CNMF item:\n",
      "algo                                                             cnmf\n",
      "item_name                                                    save_gui\n",
      "input_movie_path    8cb260f3-ced8-4433-b9bf-fd6116b20964/8cb260f3-...\n",
      "params              {'main': {'fr': 30, 'p': 1, 'nb': 2, 'merge_th...\n",
      "outputs                                                          None\n",
      "added_time                                        2024-09-06T02:55:26\n",
      "ran_time                                                         None\n",
      "algo_duration                                                    None\n",
      "comments                                                         None\n",
      "uuid                             4ae126bc-4bb1-4277-946d-dbe472fde572\n",
      "Name: 7, dtype: object\n",
      "With params:{'main': {'fr': 30, 'p': 1, 'nb': 2, 'merge_thr': 0.8, 'rf': 15, 'stride': 6, 'K': 8, 'gSig': (4, 4), 'ssub': 1, 'tsub': 1, 'method_init': 'greedy_roi', 'min_SNR': 2.0, 'rval_thr': 0.7, 'use_cnn': False, 'decay_time': 0.4}, 'refit': True}\n"
     ]
    },
    {
     "name": "stderr",
     "output_type": "stream",
     "text": [
      "The local backend is an alias for the multiprocessing backend, and the alias may be removed in some future version of Caiman\n",
      "WARNING:root:In setting CNMFParams, non-pathed parameters were used; this is deprecated. In some future version of Caiman, allow_legacy will default to False (and eventually will be removed)\n"
     ]
    },
    {
     "name": "stdout",
     "output_type": "stream",
     "text": [
      "making memmap\n"
     ]
    },
    {
     "name": "stderr",
     "output_type": "stream",
     "text": [
      "WARNING:caiman.cluster:The local backend is an alias for the multiprocessing backend, and the alias may be removed in some future version of Caiman\n"
     ]
    },
    {
     "name": "stdout",
     "output_type": "stream",
     "text": [
      "performing CNMF\n",
      "fitting images\n",
      "refitting\n",
      "performing eval\n"
     ]
    },
    {
     "name": "stderr",
     "output_type": "stream",
     "text": [
      "WARNING:root:Component 6 is only active jointly with neighboring components. Space correlation calculation might be unreliable.\n",
      "WARNING:root:Component 24 is only active jointly with neighboring components. Space correlation calculation might be unreliable.\n",
      "WARNING:root:Component 10 is only active jointly with neighboring components. Space correlation calculation might be unreliable.\n",
      "WARNING:root:Component 16 is only active jointly with neighboring components. Space correlation calculation might be unreliable.\n",
      "WARNING:root:Component 26 is only active jointly with neighboring components. Space correlation calculation might be unreliable.\n",
      "WARNING:root:Component 16 is only active jointly with neighboring components. Space correlation calculation might be unreliable.\n",
      "WARNING:root:Component 26 is only active jointly with neighboring components. Space correlation calculation might be unreliable.\n",
      "WARNING:root:Component 39 is only active jointly with neighboring components. Space correlation calculation might be unreliable.\n",
      "WARNING:root:Component 40 is only active jointly with neighboring components. Space correlation calculation might be unreliable.\n",
      "WARNING:root:Component 31 is only active jointly with neighboring components. Space correlation calculation might be unreliable.\n",
      "WARNING:root:Component 30 is only active jointly with neighboring components. Space correlation calculation might be unreliable.\n",
      "WARNING:root:Component 1 is only active jointly with neighboring components. Space correlation calculation might be unreliable.\n",
      "WARNING:root:Component 21 is only active jointly with neighboring components. Space correlation calculation might be unreliable.\n",
      "WARNING:root:Component 15 is only active jointly with neighboring components. Space correlation calculation might be unreliable.\n",
      "WARNING:root:Component 37 is only active jointly with neighboring components. Space correlation calculation might be unreliable.\n",
      "WARNING:root:Component 24 is only active jointly with neighboring components. Space correlation calculation might be unreliable.\n",
      "WARNING:root:Component 5 is only active jointly with neighboring components. Space correlation calculation might be unreliable.\n",
      "WARNING:root:Component 1 is only active jointly with neighboring components. Space correlation calculation might be unreliable.\n",
      "WARNING:root:Component 44 is only active jointly with neighboring components. Space correlation calculation might be unreliable.\n",
      "WARNING:root:Component 23 is only active jointly with neighboring components. Space correlation calculation might be unreliable.\n",
      "WARNING:root:Component 16 is only active jointly with neighboring components. Space correlation calculation might be unreliable.\n",
      "WARNING:root:Component 28 is only active jointly with neighboring components. Space correlation calculation might be unreliable.\n",
      "WARNING:root:Component 5 is only active jointly with neighboring components. Space correlation calculation might be unreliable.\n",
      "WARNING:root:Component 10 is only active jointly with neighboring components. Space correlation calculation might be unreliable.\n",
      "WARNING:root:Component 6 is only active jointly with neighboring components. Space correlation calculation might be unreliable.\n",
      "WARNING:root:Component 39 is only active jointly with neighboring components. Space correlation calculation might be unreliable.\n",
      "WARNING:root:Component 29 is only active jointly with neighboring components. Space correlation calculation might be unreliable.\n",
      "WARNING:root:Component 35 is only active jointly with neighboring components. Space correlation calculation might be unreliable.\n",
      "WARNING:root:Component 40 is only active jointly with neighboring components. Space correlation calculation might be unreliable.\n",
      "WARNING:root:Component 37 is only active jointly with neighboring components. Space correlation calculation might be unreliable.\n",
      "WARNING:root:Component 30 is only active jointly with neighboring components. Space correlation calculation might be unreliable.\n",
      "2024-09-06 03:01:50.415064: E external/local_xla/xla/stream_executor/cuda/cuda_dnn.cc:9261] Unable to register cuDNN factory: Attempting to register factory for plugin cuDNN when one has already been registered\n",
      "2024-09-06 03:01:50.415100: E external/local_xla/xla/stream_executor/cuda/cuda_fft.cc:607] Unable to register cuFFT factory: Attempting to register factory for plugin cuFFT when one has already been registered\n",
      "2024-09-06 03:01:50.415485: E external/local_xla/xla/stream_executor/cuda/cuda_blas.cc:1515] Unable to register cuBLAS factory: Attempting to register factory for plugin cuBLAS when one has already been registered\n"
     ]
    },
    {
     "name": "stdout",
     "output_type": "stream",
     "text": [
      "************************************************************************\n",
      "\n",
      "Starting CNMF item:\n",
      "algo                                                             cnmf\n",
      "item_name                                                    save_gui\n",
      "input_movie_path    8cb260f3-ced8-4433-b9bf-fd6116b20964/8cb260f3-...\n",
      "params              {'main': {'fr': 30, 'p': 1, 'nb': 2, 'merge_th...\n",
      "outputs                                                          None\n",
      "added_time                                        2024-09-06T02:55:26\n",
      "ran_time                                                         None\n",
      "algo_duration                                                    None\n",
      "comments                                                         None\n",
      "uuid                             cf20ff30-e1cb-45ff-912a-c99b4a5939a3\n",
      "Name: 8, dtype: object\n",
      "With params:{'main': {'fr': 30, 'p': 1, 'nb': 2, 'merge_thr': 0.95, 'rf': 15, 'stride': 6, 'K': 8, 'gSig': (4, 4), 'ssub': 1, 'tsub': 1, 'method_init': 'greedy_roi', 'min_SNR': 2.0, 'rval_thr': 0.7, 'use_cnn': False, 'decay_time': 0.4}, 'refit': True}\n"
     ]
    },
    {
     "name": "stderr",
     "output_type": "stream",
     "text": [
      "The local backend is an alias for the multiprocessing backend, and the alias may be removed in some future version of Caiman\n",
      "WARNING:root:In setting CNMFParams, non-pathed parameters were used; this is deprecated. In some future version of Caiman, allow_legacy will default to False (and eventually will be removed)\n"
     ]
    },
    {
     "name": "stdout",
     "output_type": "stream",
     "text": [
      "making memmap\n"
     ]
    },
    {
     "name": "stderr",
     "output_type": "stream",
     "text": [
      "WARNING:caiman.cluster:The local backend is an alias for the multiprocessing backend, and the alias may be removed in some future version of Caiman\n"
     ]
    },
    {
     "name": "stdout",
     "output_type": "stream",
     "text": [
      "performing CNMF\n",
      "fitting images\n",
      "refitting\n",
      "performing eval\n"
     ]
    },
    {
     "name": "stderr",
     "output_type": "stream",
     "text": [
      "WARNING:root:Component 19 is only active jointly with neighboring components. Space correlation calculation might be unreliable.\n",
      "WARNING:root:Component 11 is only active jointly with neighboring components. Space correlation calculation might be unreliable.\n",
      "WARNING:root:Component 7 is only active jointly with neighboring components. Space correlation calculation might be unreliable.\n",
      "WARNING:root:Component 15 is only active jointly with neighboring components. Space correlation calculation might be unreliable.\n",
      "WARNING:root:Component 23 is only active jointly with neighboring components. Space correlation calculation might be unreliable.\n",
      "WARNING:root:Component 2 is only active jointly with neighboring components. Space correlation calculation might be unreliable.\n",
      "WARNING:root:Component 9 is only active jointly with neighboring components. Space correlation calculation might be unreliable.\n",
      "WARNING:root:Component 10 is only active jointly with neighboring components. Space correlation calculation might be unreliable.\n",
      "WARNING:root:Component 8 is only active jointly with neighboring components. Space correlation calculation might be unreliable.\n",
      "WARNING:root:Component 21 is only active jointly with neighboring components. Space correlation calculation might be unreliable.\n",
      "WARNING:root:Component 4 is only active jointly with neighboring components. Space correlation calculation might be unreliable.\n",
      "WARNING:root:Component 5 is only active jointly with neighboring components. Space correlation calculation might be unreliable.\n",
      "WARNING:root:Component 28 is only active jointly with neighboring components. Space correlation calculation might be unreliable.\n",
      "WARNING:root:Component 13 is only active jointly with neighboring components. Space correlation calculation might be unreliable.\n",
      "WARNING:root:Component 40 is only active jointly with neighboring components. Space correlation calculation might be unreliable.\n",
      "WARNING:root:Component 24 is only active jointly with neighboring components. Space correlation calculation might be unreliable.\n",
      "WARNING:root:Component 9 is only active jointly with neighboring components. Space correlation calculation might be unreliable.\n",
      "WARNING:root:Component 36 is only active jointly with neighboring components. Space correlation calculation might be unreliable.\n",
      "WARNING:root:Component 34 is only active jointly with neighboring components. Space correlation calculation might be unreliable.\n",
      "WARNING:root:Component 24 is only active jointly with neighboring components. Space correlation calculation might be unreliable.\n",
      "WARNING:root:Component 6 is only active jointly with neighboring components. Space correlation calculation might be unreliable.\n",
      "WARNING:root:Component 36 is only active jointly with neighboring components. Space correlation calculation might be unreliable.\n",
      "WARNING:root:Component 44 is only active jointly with neighboring components. Space correlation calculation might be unreliable.\n",
      "WARNING:root:Component 39 is only active jointly with neighboring components. Space correlation calculation might be unreliable.\n",
      "WARNING:root:Component 21 is only active jointly with neighboring components. Space correlation calculation might be unreliable.\n",
      "WARNING:root:Component 27 is only active jointly with neighboring components. Space correlation calculation might be unreliable.\n",
      "WARNING:root:Component 36 is only active jointly with neighboring components. Space correlation calculation might be unreliable.\n",
      "WARNING:root:Component 32 is only active jointly with neighboring components. Space correlation calculation might be unreliable.\n",
      "WARNING:root:Component 28 is only active jointly with neighboring components. Space correlation calculation might be unreliable.\n",
      "WARNING:root:Component 25 is only active jointly with neighboring components. Space correlation calculation might be unreliable.\n",
      "WARNING:root:Component 45 is only active jointly with neighboring components. Space correlation calculation might be unreliable.\n",
      "WARNING:root:Component 0 is only active jointly with neighboring components. Space correlation calculation might be unreliable.\n",
      "WARNING:root:Component 26 is only active jointly with neighboring components. Space correlation calculation might be unreliable.\n",
      "WARNING:root:Component 6 is only active jointly with neighboring components. Space correlation calculation might be unreliable.\n",
      "WARNING:root:Component 24 is only active jointly with neighboring components. Space correlation calculation might be unreliable.\n",
      "WARNING:root:Component 30 is only active jointly with neighboring components. Space correlation calculation might be unreliable.\n",
      "WARNING:root:Component 17 is only active jointly with neighboring components. Space correlation calculation might be unreliable.\n",
      "WARNING:root:Component 13 is only active jointly with neighboring components. Space correlation calculation might be unreliable.\n",
      "WARNING:root:Component 41 is only active jointly with neighboring components. Space correlation calculation might be unreliable.\n",
      "WARNING:root:Component 35 is only active jointly with neighboring components. Space correlation calculation might be unreliable.\n",
      "WARNING:root:Component 21 is only active jointly with neighboring components. Space correlation calculation might be unreliable.\n",
      "WARNING:root:Component 4 is only active jointly with neighboring components. Space correlation calculation might be unreliable.\n",
      "WARNING:root:Component 15 is only active jointly with neighboring components. Space correlation calculation might be unreliable.\n",
      "WARNING:root:Component 28 is only active jointly with neighboring components. Space correlation calculation might be unreliable.\n",
      "WARNING:root:Component 32 is only active jointly with neighboring components. Space correlation calculation might be unreliable.\n",
      "WARNING:root:Component 4 is only active jointly with neighboring components. Space correlation calculation might be unreliable.\n",
      "WARNING:root:Component 16 is only active jointly with neighboring components. Space correlation calculation might be unreliable.\n",
      "WARNING:root:Component 32 is only active jointly with neighboring components. Space correlation calculation might be unreliable.\n",
      "WARNING:root:Component 20 is only active jointly with neighboring components. Space correlation calculation might be unreliable.\n",
      "WARNING:root:Component 2 is only active jointly with neighboring components. Space correlation calculation might be unreliable.\n",
      "WARNING:root:Component 23 is only active jointly with neighboring components. Space correlation calculation might be unreliable.\n",
      "WARNING:root:Component 19 is only active jointly with neighboring components. Space correlation calculation might be unreliable.\n",
      "WARNING:root:Component 24 is only active jointly with neighboring components. Space correlation calculation might be unreliable.\n",
      "WARNING:root:Component 5 is only active jointly with neighboring components. Space correlation calculation might be unreliable.\n",
      "WARNING:root:Component 18 is only active jointly with neighboring components. Space correlation calculation might be unreliable.\n",
      "WARNING:root:Component 1 is only active jointly with neighboring components. Space correlation calculation might be unreliable.\n",
      "WARNING:root:Component 24 is only active jointly with neighboring components. Space correlation calculation might be unreliable.\n",
      "WARNING:root:Component 16 is only active jointly with neighboring components. Space correlation calculation might be unreliable.\n",
      "WARNING:root:Component 6 is only active jointly with neighboring components. Space correlation calculation might be unreliable.\n",
      "WARNING:root:Component 12 is only active jointly with neighboring components. Space correlation calculation might be unreliable.\n",
      "WARNING:root:Component 39 is only active jointly with neighboring components. Space correlation calculation might be unreliable.\n",
      "WARNING:root:Component 39 is only active jointly with neighboring components. Space correlation calculation might be unreliable.\n",
      "WARNING:root:Component 0 is only active jointly with neighboring components. Space correlation calculation might be unreliable.\n",
      "WARNING:root:Component 20 is only active jointly with neighboring components. Space correlation calculation might be unreliable.\n",
      "WARNING:root:Component 19 is only active jointly with neighboring components. Space correlation calculation might be unreliable.\n",
      "WARNING:root:Component 20 is only active jointly with neighboring components. Space correlation calculation might be unreliable.\n",
      "WARNING:root:Component 18 is only active jointly with neighboring components. Space correlation calculation might be unreliable.\n",
      "WARNING:root:Component 9 is only active jointly with neighboring components. Space correlation calculation might be unreliable.\n",
      "WARNING:root:Component 22 is only active jointly with neighboring components. Space correlation calculation might be unreliable.\n",
      "WARNING:root:Component 22 is only active jointly with neighboring components. Space correlation calculation might be unreliable.\n",
      "WARNING:root:Component 33 is only active jointly with neighboring components. Space correlation calculation might be unreliable.\n",
      "WARNING:root:Component 27 is only active jointly with neighboring components. Space correlation calculation might be unreliable.\n",
      "WARNING:root:Component 37 is only active jointly with neighboring components. Space correlation calculation might be unreliable.\n",
      "WARNING:root:Component 42 is only active jointly with neighboring components. Space correlation calculation might be unreliable.\n",
      "2024-09-06 03:04:39.929497: E external/local_xla/xla/stream_executor/cuda/cuda_dnn.cc:9261] Unable to register cuDNN factory: Attempting to register factory for plugin cuDNN when one has already been registered\n",
      "2024-09-06 03:04:39.929529: E external/local_xla/xla/stream_executor/cuda/cuda_fft.cc:607] Unable to register cuFFT factory: Attempting to register factory for plugin cuFFT when one has already been registered\n",
      "2024-09-06 03:04:39.929936: E external/local_xla/xla/stream_executor/cuda/cuda_blas.cc:1515] Unable to register cuBLAS factory: Attempting to register factory for plugin cuBLAS when one has already been registered\n"
     ]
    },
    {
     "name": "stdout",
     "output_type": "stream",
     "text": [
      "************************************************************************\n",
      "\n",
      "Starting CNMF item:\n",
      "algo                                                             cnmf\n",
      "item_name                                                    save_gui\n",
      "input_movie_path    8cb260f3-ced8-4433-b9bf-fd6116b20964/8cb260f3-...\n",
      "params              {'main': {'fr': 30, 'p': 1, 'nb': 2, 'merge_th...\n",
      "outputs                                                          None\n",
      "added_time                                        2024-09-06T02:55:26\n",
      "ran_time                                                         None\n",
      "algo_duration                                                    None\n",
      "comments                                                         None\n",
      "uuid                             72001e65-2c76-4271-bbd6-72b95ec8673e\n",
      "Name: 9, dtype: object\n",
      "With params:{'main': {'fr': 30, 'p': 1, 'nb': 2, 'merge_thr': 0.8, 'rf': 15, 'stride': 6, 'K': 4, 'gSig': (6, 6), 'ssub': 1, 'tsub': 1, 'method_init': 'greedy_roi', 'min_SNR': 2.0, 'rval_thr': 0.7, 'use_cnn': False, 'decay_time': 0.4}, 'refit': True}\n"
     ]
    },
    {
     "name": "stderr",
     "output_type": "stream",
     "text": [
      "The local backend is an alias for the multiprocessing backend, and the alias may be removed in some future version of Caiman\n",
      "WARNING:root:In setting CNMFParams, non-pathed parameters were used; this is deprecated. In some future version of Caiman, allow_legacy will default to False (and eventually will be removed)\n"
     ]
    },
    {
     "name": "stdout",
     "output_type": "stream",
     "text": [
      "making memmap\n"
     ]
    },
    {
     "name": "stderr",
     "output_type": "stream",
     "text": [
      "WARNING:caiman.cluster:The local backend is an alias for the multiprocessing backend, and the alias may be removed in some future version of Caiman\n"
     ]
    },
    {
     "name": "stdout",
     "output_type": "stream",
     "text": [
      "performing CNMF\n",
      "fitting images\n",
      "refitting\n",
      "performing eval\n"
     ]
    },
    {
     "name": "stderr",
     "output_type": "stream",
     "text": [
      "WARNING:root:Component 0 is only active jointly with neighboring components. Space correlation calculation might be unreliable.\n",
      "WARNING:root:Component 6 is only active jointly with neighboring components. Space correlation calculation might be unreliable.\n",
      "WARNING:root:Component 7 is only active jointly with neighboring components. Space correlation calculation might be unreliable.\n",
      "WARNING:root:Component 34 is only active jointly with neighboring components. Space correlation calculation might be unreliable.\n",
      "WARNING:root:Component 8 is only active jointly with neighboring components. Space correlation calculation might be unreliable.\n",
      "WARNING:root:Component 22 is only active jointly with neighboring components. Space correlation calculation might be unreliable.\n",
      "WARNING:root:Component 23 is only active jointly with neighboring components. Space correlation calculation might be unreliable.\n",
      "WARNING:root:Component 17 is only active jointly with neighboring components. Space correlation calculation might be unreliable.\n",
      "WARNING:root:Component 42 is only active jointly with neighboring components. Space correlation calculation might be unreliable.\n",
      "WARNING:root:Component 26 is only active jointly with neighboring components. Space correlation calculation might be unreliable.\n",
      "WARNING:root:Component 20 is only active jointly with neighboring components. Space correlation calculation might be unreliable.\n",
      "WARNING:root:Component 43 is only active jointly with neighboring components. Space correlation calculation might be unreliable.\n",
      "WARNING:root:Component 45 is only active jointly with neighboring components. Space correlation calculation might be unreliable.\n",
      "2024-09-06 03:06:34.969998: E external/local_xla/xla/stream_executor/cuda/cuda_dnn.cc:9261] Unable to register cuDNN factory: Attempting to register factory for plugin cuDNN when one has already been registered\n",
      "2024-09-06 03:06:34.970033: E external/local_xla/xla/stream_executor/cuda/cuda_fft.cc:607] Unable to register cuFFT factory: Attempting to register factory for plugin cuFFT when one has already been registered\n",
      "2024-09-06 03:06:34.970431: E external/local_xla/xla/stream_executor/cuda/cuda_blas.cc:1515] Unable to register cuBLAS factory: Attempting to register factory for plugin cuBLAS when one has already been registered\n"
     ]
    },
    {
     "name": "stdout",
     "output_type": "stream",
     "text": [
      "************************************************************************\n",
      "\n",
      "Starting CNMF item:\n",
      "algo                                                             cnmf\n",
      "item_name                                                    save_gui\n",
      "input_movie_path    8cb260f3-ced8-4433-b9bf-fd6116b20964/8cb260f3-...\n",
      "params              {'main': {'fr': 30, 'p': 1, 'nb': 2, 'merge_th...\n",
      "outputs                                                          None\n",
      "added_time                                        2024-09-06T02:55:26\n",
      "ran_time                                                         None\n",
      "algo_duration                                                    None\n",
      "comments                                                         None\n",
      "uuid                             c960003a-aacf-47f7-853f-995538f72a4d\n",
      "Name: 10, dtype: object\n",
      "With params:{'main': {'fr': 30, 'p': 1, 'nb': 2, 'merge_thr': 0.95, 'rf': 15, 'stride': 6, 'K': 4, 'gSig': (6, 6), 'ssub': 1, 'tsub': 1, 'method_init': 'greedy_roi', 'min_SNR': 2.0, 'rval_thr': 0.7, 'use_cnn': False, 'decay_time': 0.4}, 'refit': True}\n"
     ]
    },
    {
     "name": "stderr",
     "output_type": "stream",
     "text": [
      "The local backend is an alias for the multiprocessing backend, and the alias may be removed in some future version of Caiman\n",
      "WARNING:root:In setting CNMFParams, non-pathed parameters were used; this is deprecated. In some future version of Caiman, allow_legacy will default to False (and eventually will be removed)\n"
     ]
    },
    {
     "name": "stdout",
     "output_type": "stream",
     "text": [
      "making memmap\n"
     ]
    },
    {
     "name": "stderr",
     "output_type": "stream",
     "text": [
      "WARNING:caiman.cluster:The local backend is an alias for the multiprocessing backend, and the alias may be removed in some future version of Caiman\n"
     ]
    },
    {
     "name": "stdout",
     "output_type": "stream",
     "text": [
      "performing CNMF\n",
      "fitting images\n",
      "refitting\n",
      "performing eval\n"
     ]
    },
    {
     "name": "stderr",
     "output_type": "stream",
     "text": [
      "WARNING:root:Component 0 is only active jointly with neighboring components. Space correlation calculation might be unreliable.\n",
      "WARNING:root:Component 21 is only active jointly with neighboring components. Space correlation calculation might be unreliable.\n",
      "WARNING:root:Component 7 is only active jointly with neighboring components. Space correlation calculation might be unreliable.\n",
      "WARNING:root:Component 26 is only active jointly with neighboring components. Space correlation calculation might be unreliable.\n",
      "WARNING:root:Component 38 is only active jointly with neighboring components. Space correlation calculation might be unreliable.\n",
      "WARNING:root:Component 39 is only active jointly with neighboring components. Space correlation calculation might be unreliable.\n",
      "WARNING:root:Component 28 is only active jointly with neighboring components. Space correlation calculation might be unreliable.\n",
      "WARNING:root:Component 33 is only active jointly with neighboring components. Space correlation calculation might be unreliable.\n",
      "WARNING:root:Component 34 is only active jointly with neighboring components. Space correlation calculation might be unreliable.\n",
      "WARNING:root:Component 26 is only active jointly with neighboring components. Space correlation calculation might be unreliable.\n",
      "WARNING:root:Component 8 is only active jointly with neighboring components. Space correlation calculation might be unreliable.\n",
      "WARNING:root:Component 9 is only active jointly with neighboring components. Space correlation calculation might be unreliable.\n",
      "WARNING:root:Component 3 is only active jointly with neighboring components. Space correlation calculation might be unreliable.\n",
      "WARNING:root:Component 22 is only active jointly with neighboring components. Space correlation calculation might be unreliable.\n",
      "WARNING:root:Component 4 is only active jointly with neighboring components. Space correlation calculation might be unreliable.\n",
      "WARNING:root:Component 42 is only active jointly with neighboring components. Space correlation calculation might be unreliable.\n",
      "WARNING:root:Component 17 is only active jointly with neighboring components. Space correlation calculation might be unreliable.\n",
      "WARNING:root:Component 14 is only active jointly with neighboring components. Space correlation calculation might be unreliable.\n",
      "WARNING:root:Component 38 is only active jointly with neighboring components. Space correlation calculation might be unreliable.\n",
      "WARNING:root:Component 20 is only active jointly with neighboring components. Space correlation calculation might be unreliable.\n",
      "WARNING:root:Component 33 is only active jointly with neighboring components. Space correlation calculation might be unreliable.\n",
      "WARNING:root:Component 27 is only active jointly with neighboring components. Space correlation calculation might be unreliable.\n",
      "WARNING:root:Component 8 is only active jointly with neighboring components. Space correlation calculation might be unreliable.\n",
      "WARNING:root:Component 20 is only active jointly with neighboring components. Space correlation calculation might be unreliable.\n",
      "WARNING:root:Component 32 is only active jointly with neighboring components. Space correlation calculation might be unreliable.\n",
      "WARNING:root:Component 46 is only active jointly with neighboring components. Space correlation calculation might be unreliable.\n",
      "WARNING:root:Component 28 is only active jointly with neighboring components. Space correlation calculation might be unreliable.\n",
      "WARNING:root:Component 42 is only active jointly with neighboring components. Space correlation calculation might be unreliable.\n",
      "2024-09-06 03:08:30.864889: E external/local_xla/xla/stream_executor/cuda/cuda_dnn.cc:9261] Unable to register cuDNN factory: Attempting to register factory for plugin cuDNN when one has already been registered\n",
      "2024-09-06 03:08:30.864924: E external/local_xla/xla/stream_executor/cuda/cuda_fft.cc:607] Unable to register cuFFT factory: Attempting to register factory for plugin cuFFT when one has already been registered\n",
      "2024-09-06 03:08:30.865327: E external/local_xla/xla/stream_executor/cuda/cuda_blas.cc:1515] Unable to register cuBLAS factory: Attempting to register factory for plugin cuBLAS when one has already been registered\n"
     ]
    },
    {
     "name": "stdout",
     "output_type": "stream",
     "text": [
      "************************************************************************\n",
      "\n",
      "Starting CNMF item:\n",
      "algo                                                             cnmf\n",
      "item_name                                                    save_gui\n",
      "input_movie_path    8cb260f3-ced8-4433-b9bf-fd6116b20964/8cb260f3-...\n",
      "params              {'main': {'fr': 30, 'p': 1, 'nb': 2, 'merge_th...\n",
      "outputs                                                          None\n",
      "added_time                                        2024-09-06T02:55:26\n",
      "ran_time                                                         None\n",
      "algo_duration                                                    None\n",
      "comments                                                         None\n",
      "uuid                             0faa6a15-f3ee-4c34-b8cd-ce183161006a\n",
      "Name: 11, dtype: object\n",
      "With params:{'main': {'fr': 30, 'p': 1, 'nb': 2, 'merge_thr': 0.8, 'rf': 15, 'stride': 6, 'K': 8, 'gSig': (6, 6), 'ssub': 1, 'tsub': 1, 'method_init': 'greedy_roi', 'min_SNR': 2.0, 'rval_thr': 0.7, 'use_cnn': False, 'decay_time': 0.4}, 'refit': True}\n"
     ]
    },
    {
     "name": "stderr",
     "output_type": "stream",
     "text": [
      "The local backend is an alias for the multiprocessing backend, and the alias may be removed in some future version of Caiman\n",
      "WARNING:root:In setting CNMFParams, non-pathed parameters were used; this is deprecated. In some future version of Caiman, allow_legacy will default to False (and eventually will be removed)\n"
     ]
    },
    {
     "name": "stdout",
     "output_type": "stream",
     "text": [
      "making memmap\n"
     ]
    },
    {
     "name": "stderr",
     "output_type": "stream",
     "text": [
      "WARNING:caiman.cluster:The local backend is an alias for the multiprocessing backend, and the alias may be removed in some future version of Caiman\n"
     ]
    },
    {
     "name": "stdout",
     "output_type": "stream",
     "text": [
      "performing CNMF\n",
      "fitting images\n",
      "refitting\n",
      "performing eval\n"
     ]
    },
    {
     "name": "stderr",
     "output_type": "stream",
     "text": [
      "WARNING:root:Component 15 is only active jointly with neighboring components. Space correlation calculation might be unreliable.\n",
      "WARNING:root:Component 30 is only active jointly with neighboring components. Space correlation calculation might be unreliable.\n",
      "WARNING:root:Component 11 is only active jointly with neighboring components. Space correlation calculation might be unreliable.\n",
      "WARNING:root:Component 10 is only active jointly with neighboring components. Space correlation calculation might be unreliable.\n",
      "WARNING:root:Component 36 is only active jointly with neighboring components. Space correlation calculation might be unreliable.\n",
      "WARNING:root:Component 1 is only active jointly with neighboring components. Space correlation calculation might be unreliable.\n",
      "WARNING:root:Component 3 is only active jointly with neighboring components. Space correlation calculation might be unreliable.\n",
      "WARNING:root:Component 12 is only active jointly with neighboring components. Space correlation calculation might be unreliable.\n",
      "WARNING:root:Component 0 is only active jointly with neighboring components. Space correlation calculation might be unreliable.\n",
      "WARNING:root:Component 25 is only active jointly with neighboring components. Space correlation calculation might be unreliable.\n",
      "WARNING:root:Component 8 is only active jointly with neighboring components. Space correlation calculation might be unreliable.\n",
      "WARNING:root:Component 37 is only active jointly with neighboring components. Space correlation calculation might be unreliable.\n",
      "WARNING:root:Component 24 is only active jointly with neighboring components. Space correlation calculation might be unreliable.\n",
      "WARNING:root:Component 43 is only active jointly with neighboring components. Space correlation calculation might be unreliable.\n",
      "WARNING:root:Component 23 is only active jointly with neighboring components. Space correlation calculation might be unreliable.\n",
      "WARNING:root:Component 3 is only active jointly with neighboring components. Space correlation calculation might be unreliable.\n",
      "WARNING:root:Component 39 is only active jointly with neighboring components. Space correlation calculation might be unreliable.\n",
      "WARNING:root:Component 20 is only active jointly with neighboring components. Space correlation calculation might be unreliable.\n",
      "WARNING:root:Component 36 is only active jointly with neighboring components. Space correlation calculation might be unreliable.\n",
      "WARNING:root:Component 1 is only active jointly with neighboring components. Space correlation calculation might be unreliable.\n",
      "WARNING:root:Component 20 is only active jointly with neighboring components. Space correlation calculation might be unreliable.\n",
      "WARNING:root:Component 9 is only active jointly with neighboring components. Space correlation calculation might be unreliable.\n",
      "WARNING:root:Component 29 is only active jointly with neighboring components. Space correlation calculation might be unreliable.\n",
      "WARNING:root:Component 30 is only active jointly with neighboring components. Space correlation calculation might be unreliable.\n",
      "WARNING:root:Component 33 is only active jointly with neighboring components. Space correlation calculation might be unreliable.\n",
      "WARNING:root:Component 3 is only active jointly with neighboring components. Space correlation calculation might be unreliable.\n",
      "WARNING:root:Component 32 is only active jointly with neighboring components. Space correlation calculation might be unreliable.\n",
      "WARNING:root:Component 9 is only active jointly with neighboring components. Space correlation calculation might be unreliable.\n",
      "WARNING:root:Component 14 is only active jointly with neighboring components. Space correlation calculation might be unreliable.\n",
      "WARNING:root:Component 17 is only active jointly with neighboring components. Space correlation calculation might be unreliable.\n",
      "WARNING:root:Component 41 is only active jointly with neighboring components. Space correlation calculation might be unreliable.\n",
      "WARNING:root:Component 26 is only active jointly with neighboring components. Space correlation calculation might be unreliable.\n",
      "2024-09-06 03:11:37.623624: E external/local_xla/xla/stream_executor/cuda/cuda_dnn.cc:9261] Unable to register cuDNN factory: Attempting to register factory for plugin cuDNN when one has already been registered\n",
      "2024-09-06 03:11:37.623657: E external/local_xla/xla/stream_executor/cuda/cuda_fft.cc:607] Unable to register cuFFT factory: Attempting to register factory for plugin cuFFT when one has already been registered\n",
      "2024-09-06 03:11:37.624016: E external/local_xla/xla/stream_executor/cuda/cuda_blas.cc:1515] Unable to register cuBLAS factory: Attempting to register factory for plugin cuBLAS when one has already been registered\n"
     ]
    },
    {
     "name": "stdout",
     "output_type": "stream",
     "text": [
      "************************************************************************\n",
      "\n",
      "Starting CNMF item:\n",
      "algo                                                             cnmf\n",
      "item_name                                                    save_gui\n",
      "input_movie_path    8cb260f3-ced8-4433-b9bf-fd6116b20964/8cb260f3-...\n",
      "params              {'main': {'fr': 30, 'p': 1, 'nb': 2, 'merge_th...\n",
      "outputs                                                          None\n",
      "added_time                                        2024-09-06T02:55:26\n",
      "ran_time                                                         None\n",
      "algo_duration                                                    None\n",
      "comments                                                         None\n",
      "uuid                             7d6c0c06-3222-4b26-be5c-578b66e2e532\n",
      "Name: 12, dtype: object\n",
      "With params:{'main': {'fr': 30, 'p': 1, 'nb': 2, 'merge_thr': 0.95, 'rf': 15, 'stride': 6, 'K': 8, 'gSig': (6, 6), 'ssub': 1, 'tsub': 1, 'method_init': 'greedy_roi', 'min_SNR': 2.0, 'rval_thr': 0.7, 'use_cnn': False, 'decay_time': 0.4}, 'refit': True}\n"
     ]
    },
    {
     "name": "stderr",
     "output_type": "stream",
     "text": [
      "The local backend is an alias for the multiprocessing backend, and the alias may be removed in some future version of Caiman\n",
      "WARNING:root:In setting CNMFParams, non-pathed parameters were used; this is deprecated. In some future version of Caiman, allow_legacy will default to False (and eventually will be removed)\n"
     ]
    },
    {
     "name": "stdout",
     "output_type": "stream",
     "text": [
      "making memmap\n"
     ]
    },
    {
     "name": "stderr",
     "output_type": "stream",
     "text": [
      "WARNING:caiman.cluster:The local backend is an alias for the multiprocessing backend, and the alias may be removed in some future version of Caiman\n"
     ]
    },
    {
     "name": "stdout",
     "output_type": "stream",
     "text": [
      "performing CNMF\n",
      "fitting images\n",
      "refitting\n",
      "performing eval\n"
     ]
    },
    {
     "name": "stderr",
     "output_type": "stream",
     "text": [
      "WARNING:root:Component 0 is only active jointly with neighboring components. Space correlation calculation might be unreliable.\n",
      "WARNING:root:Component 22 is only active jointly with neighboring components. Space correlation calculation might be unreliable.\n",
      "WARNING:root:Component 21 is only active jointly with neighboring components. Space correlation calculation might be unreliable.\n",
      "WARNING:root:Component 24 is only active jointly with neighboring components. Space correlation calculation might be unreliable.\n",
      "WARNING:root:Component 18 is only active jointly with neighboring components. Space correlation calculation might be unreliable.\n",
      "WARNING:root:Component 14 is only active jointly with neighboring components. Space correlation calculation might be unreliable.\n",
      "WARNING:root:Component 33 is only active jointly with neighboring components. Space correlation calculation might be unreliable.\n",
      "WARNING:root:Component 6 is only active jointly with neighboring components. Space correlation calculation might be unreliable.\n",
      "WARNING:root:Component 34 is only active jointly with neighboring components. Space correlation calculation might be unreliable.\n",
      "WARNING:root:Component 0 is only active jointly with neighboring components. Space correlation calculation might be unreliable.\n",
      "WARNING:root:Component 26 is only active jointly with neighboring components. Space correlation calculation might be unreliable.\n",
      "WARNING:root:Component 8 is only active jointly with neighboring components. Space correlation calculation might be unreliable.\n",
      "WARNING:root:Component 38 is only active jointly with neighboring components. Space correlation calculation might be unreliable.\n",
      "WARNING:root:Component 24 is only active jointly with neighboring components. Space correlation calculation might be unreliable.\n",
      "WARNING:root:Component 23 is only active jointly with neighboring components. Space correlation calculation might be unreliable.\n",
      "WARNING:root:Component 33 is only active jointly with neighboring components. Space correlation calculation might be unreliable.\n",
      "WARNING:root:Component 33 is only active jointly with neighboring components. Space correlation calculation might be unreliable.\n",
      "WARNING:root:Component 12 is only active jointly with neighboring components. Space correlation calculation might be unreliable.\n",
      "WARNING:root:Component 7 is only active jointly with neighboring components. Space correlation calculation might be unreliable.\n",
      "WARNING:root:Component 36 is only active jointly with neighboring components. Space correlation calculation might be unreliable.\n",
      "WARNING:root:Component 2 is only active jointly with neighboring components. Space correlation calculation might be unreliable.\n",
      "WARNING:root:Component 30 is only active jointly with neighboring components. Space correlation calculation might be unreliable.\n",
      "WARNING:root:Component 34 is only active jointly with neighboring components. Space correlation calculation might be unreliable.\n",
      "WARNING:root:Component 38 is only active jointly with neighboring components. Space correlation calculation might be unreliable.\n",
      "WARNING:root:Component 41 is only active jointly with neighboring components. Space correlation calculation might be unreliable.\n",
      "WARNING:root:Component 5 is only active jointly with neighboring components. Space correlation calculation might be unreliable.\n",
      "WARNING:root:Component 22 is only active jointly with neighboring components. Space correlation calculation might be unreliable.\n",
      "WARNING:root:Component 23 is only active jointly with neighboring components. Space correlation calculation might be unreliable.\n",
      "WARNING:root:Component 1 is only active jointly with neighboring components. Space correlation calculation might be unreliable.\n",
      "WARNING:root:Component 12 is only active jointly with neighboring components. Space correlation calculation might be unreliable.\n",
      "WARNING:root:Component 46 is only active jointly with neighboring components. Space correlation calculation might be unreliable.\n",
      "WARNING:root:Component 26 is only active jointly with neighboring components. Space correlation calculation might be unreliable.\n",
      "WARNING:root:Component 5 is only active jointly with neighboring components. Space correlation calculation might be unreliable.\n",
      "WARNING:root:Component 36 is only active jointly with neighboring components. Space correlation calculation might be unreliable.\n",
      "WARNING:root:Component 19 is only active jointly with neighboring components. Space correlation calculation might be unreliable.\n",
      "WARNING:root:Component 47 is only active jointly with neighboring components. Space correlation calculation might be unreliable.\n",
      "WARNING:root:Component 22 is only active jointly with neighboring components. Space correlation calculation might be unreliable.\n",
      "WARNING:root:Component 31 is only active jointly with neighboring components. Space correlation calculation might be unreliable.\n",
      "WARNING:root:Component 44 is only active jointly with neighboring components. Space correlation calculation might be unreliable.\n",
      "WARNING:root:Component 19 is only active jointly with neighboring components. Space correlation calculation might be unreliable.\n",
      "WARNING:root:Component 13 is only active jointly with neighboring components. Space correlation calculation might be unreliable.\n",
      "WARNING:root:Component 14 is only active jointly with neighboring components. Space correlation calculation might be unreliable.\n",
      "WARNING:root:Component 20 is only active jointly with neighboring components. Space correlation calculation might be unreliable.\n",
      "WARNING:root:Component 30 is only active jointly with neighboring components. Space correlation calculation might be unreliable.\n",
      "WARNING:root:Component 30 is only active jointly with neighboring components. Space correlation calculation might be unreliable.\n",
      "WARNING:root:Component 47 is only active jointly with neighboring components. Space correlation calculation might be unreliable.\n",
      "WARNING:root:Component 45 is only active jointly with neighboring components. Space correlation calculation might be unreliable.\n",
      "WARNING:root:Component 11 is only active jointly with neighboring components. Space correlation calculation might be unreliable.\n",
      "WARNING:root:Component 13 is only active jointly with neighboring components. Space correlation calculation might be unreliable.\n",
      "WARNING:root:Component 42 is only active jointly with neighboring components. Space correlation calculation might be unreliable.\n",
      "WARNING:root:Component 16 is only active jointly with neighboring components. Space correlation calculation might be unreliable.\n",
      "WARNING:root:Component 5 is only active jointly with neighboring components. Space correlation calculation might be unreliable.\n",
      "WARNING:root:Component 1 is only active jointly with neighboring components. Space correlation calculation might be unreliable.\n",
      "WARNING:root:Component 33 is only active jointly with neighboring components. Space correlation calculation might be unreliable.\n",
      "WARNING:root:Component 44 is only active jointly with neighboring components. Space correlation calculation might be unreliable.\n",
      "WARNING:root:Component 31 is only active jointly with neighboring components. Space correlation calculation might be unreliable.\n",
      "WARNING:root:Component 27 is only active jointly with neighboring components. Space correlation calculation might be unreliable.\n",
      "WARNING:root:Component 4 is only active jointly with neighboring components. Space correlation calculation might be unreliable.\n",
      "WARNING:root:Component 46 is only active jointly with neighboring components. Space correlation calculation might be unreliable.\n",
      "WARNING:root:Component 39 is only active jointly with neighboring components. Space correlation calculation might be unreliable.\n",
      "WARNING:root:Component 12 is only active jointly with neighboring components. Space correlation calculation might be unreliable.\n",
      "WARNING:root:Component 14 is only active jointly with neighboring components. Space correlation calculation might be unreliable.\n",
      "WARNING:root:Component 6 is only active jointly with neighboring components. Space correlation calculation might be unreliable.\n",
      "WARNING:root:Component 7 is only active jointly with neighboring components. Space correlation calculation might be unreliable.\n",
      "WARNING:root:Component 13 is only active jointly with neighboring components. Space correlation calculation might be unreliable.\n",
      "WARNING:root:Component 8 is only active jointly with neighboring components. Space correlation calculation might be unreliable.\n",
      "WARNING:root:Component 19 is only active jointly with neighboring components. Space correlation calculation might be unreliable.\n",
      "WARNING:root:Component 40 is only active jointly with neighboring components. Space correlation calculation might be unreliable.\n",
      "WARNING:root:Component 16 is only active jointly with neighboring components. Space correlation calculation might be unreliable.\n",
      "WARNING:root:Component 23 is only active jointly with neighboring components. Space correlation calculation might be unreliable.\n",
      "WARNING:root:Component 13 is only active jointly with neighboring components. Space correlation calculation might be unreliable.\n",
      "WARNING:root:Component 0 is only active jointly with neighboring components. Space correlation calculation might be unreliable.\n",
      "WARNING:root:Component 4 is only active jointly with neighboring components. Space correlation calculation might be unreliable.\n",
      "WARNING:root:Component 33 is only active jointly with neighboring components. Space correlation calculation might be unreliable.\n",
      "WARNING:root:Component 30 is only active jointly with neighboring components. Space correlation calculation might be unreliable.\n",
      "WARNING:root:Component 20 is only active jointly with neighboring components. Space correlation calculation might be unreliable.\n",
      "WARNING:root:Component 41 is only active jointly with neighboring components. Space correlation calculation might be unreliable.\n",
      "WARNING:root:Component 10 is only active jointly with neighboring components. Space correlation calculation might be unreliable.\n",
      "WARNING:root:Component 17 is only active jointly with neighboring components. Space correlation calculation might be unreliable.\n",
      "WARNING:root:Component 18 is only active jointly with neighboring components. Space correlation calculation might be unreliable.\n",
      "WARNING:root:Component 26 is only active jointly with neighboring components. Space correlation calculation might be unreliable.\n",
      "WARNING:root:Component 12 is only active jointly with neighboring components. Space correlation calculation might be unreliable.\n",
      "WARNING:root:Component 23 is only active jointly with neighboring components. Space correlation calculation might be unreliable.\n",
      "WARNING:root:Component 32 is only active jointly with neighboring components. Space correlation calculation might be unreliable.\n",
      "WARNING:root:Component 26 is only active jointly with neighboring components. Space correlation calculation might be unreliable.\n",
      "WARNING:root:Component 25 is only active jointly with neighboring components. Space correlation calculation might be unreliable.\n",
      "WARNING:root:Component 39 is only active jointly with neighboring components. Space correlation calculation might be unreliable.\n",
      "WARNING:root:Component 23 is only active jointly with neighboring components. Space correlation calculation might be unreliable.\n",
      "WARNING:root:Component 24 is only active jointly with neighboring components. Space correlation calculation might be unreliable.\n",
      "WARNING:root:Component 33 is only active jointly with neighboring components. Space correlation calculation might be unreliable.\n",
      "WARNING:root:Component 34 is only active jointly with neighboring components. Space correlation calculation might be unreliable.\n",
      "WARNING:root:Component 27 is only active jointly with neighboring components. Space correlation calculation might be unreliable.\n",
      "WARNING:root:Component 38 is only active jointly with neighboring components. Space correlation calculation might be unreliable.\n",
      "WARNING:root:Component 25 is only active jointly with neighboring components. Space correlation calculation might be unreliable.\n",
      "WARNING:root:Component 30 is only active jointly with neighboring components. Space correlation calculation might be unreliable.\n",
      "WARNING:root:Component 17 is only active jointly with neighboring components. Space correlation calculation might be unreliable.\n",
      "WARNING:root:Component 31 is only active jointly with neighboring components. Space correlation calculation might be unreliable.\n",
      "WARNING:root:Component 25 is only active jointly with neighboring components. Space correlation calculation might be unreliable.\n",
      "WARNING:root:Component 20 is only active jointly with neighboring components. Space correlation calculation might be unreliable.\n",
      "WARNING:root:Component 21 is only active jointly with neighboring components. Space correlation calculation might be unreliable.\n",
      "WARNING:root:Component 45 is only active jointly with neighboring components. Space correlation calculation might be unreliable.\n",
      "WARNING:root:Component 16 is only active jointly with neighboring components. Space correlation calculation might be unreliable.\n",
      "WARNING:root:Component 27 is only active jointly with neighboring components. Space correlation calculation might be unreliable.\n",
      "WARNING:root:Component 25 is only active jointly with neighboring components. Space correlation calculation might be unreliable.\n",
      "WARNING:root:Component 33 is only active jointly with neighboring components. Space correlation calculation might be unreliable.\n",
      "WARNING:root:Component 32 is only active jointly with neighboring components. Space correlation calculation might be unreliable.\n",
      "WARNING:root:Component 33 is only active jointly with neighboring components. Space correlation calculation might be unreliable.\n",
      "WARNING:root:Component 14 is only active jointly with neighboring components. Space correlation calculation might be unreliable.\n",
      "WARNING:root:Component 26 is only active jointly with neighboring components. Space correlation calculation might be unreliable.\n",
      "WARNING:root:Component 35 is only active jointly with neighboring components. Space correlation calculation might be unreliable.\n",
      "WARNING:root:Component 30 is only active jointly with neighboring components. Space correlation calculation might be unreliable.\n",
      "WARNING:root:Component 37 is only active jointly with neighboring components. Space correlation calculation might be unreliable.\n",
      "WARNING:root:Component 38 is only active jointly with neighboring components. Space correlation calculation might be unreliable.\n",
      "WARNING:root:Component 31 is only active jointly with neighboring components. Space correlation calculation might be unreliable.\n",
      "WARNING:root:Component 40 is only active jointly with neighboring components. Space correlation calculation might be unreliable.\n"
     ]
    }
   ],
   "source": [
    "for i, row in df.iterrows():\n",
    "    if row[\"outputs\"] is not None: # item has already been run\n",
    "        continue # skip\n",
    "        \n",
    "    process = row.caiman.run()\n",
    "    \n",
    "    # on Windows you MUST reload the batch dataframe after every iteration because it uses the `local` backend.\n",
    "    # this is unnecessary on Linux & Mac\n",
    "    # \"DummyProcess\" is used for local backend so this is automatic\n",
    "    if process.__class__.__name__ == \"DummyProcess\":\n",
    "        df = df.caiman.reload_from_disk()"
   ]
  },
  {
   "cell_type": "markdown",
   "id": "348d0757-675d-4a2d-a024-559507830e31",
   "metadata": {},
   "source": [
    "# Load outputs"
   ]
  },
  {
   "cell_type": "code",
   "execution_count": 1,
   "id": "80f3eca7-916a-4e4e-a109-5906b4c91c7d",
   "metadata": {},
   "outputs": [
    {
     "ename": "NameError",
     "evalue": "name 'df' is not defined",
     "output_type": "error",
     "traceback": [
      "\u001b[0;31m---------------------------------------------------------------------------\u001b[0m",
      "\u001b[0;31mNameError\u001b[0m                                 Traceback (most recent call last)",
      "Cell \u001b[0;32mIn[1], line 1\u001b[0m\n\u001b[0;32m----> 1\u001b[0m df \u001b[38;5;241m=\u001b[39m \u001b[43mdf\u001b[49m\u001b[38;5;241m.\u001b[39mcaiman\u001b[38;5;241m.\u001b[39mreload_from_disk()\n\u001b[1;32m      2\u001b[0m df\n",
      "\u001b[0;31mNameError\u001b[0m: name 'df' is not defined"
     ]
    }
   ],
   "source": [
    "df = df.caiman.reload_from_disk()\n",
    "df"
   ]
  }
 ],
 "metadata": {
  "kernelspec": {
   "display_name": "Python 3 (ipykernel)",
   "language": "python",
   "name": "python3"
  },
  "language_info": {
   "codemirror_mode": {
    "name": "ipython",
    "version": 3
   },
   "file_extension": ".py",
   "mimetype": "text/x-python",
   "name": "python",
   "nbconvert_exporter": "python",
   "pygments_lexer": "ipython3",
   "version": "3.11.9"
  }
 },
 "nbformat": 4,
 "nbformat_minor": 5
}
