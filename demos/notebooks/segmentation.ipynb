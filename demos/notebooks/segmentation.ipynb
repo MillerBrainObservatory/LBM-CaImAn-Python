{
 "cells": [
  {
   "cell_type": "markdown",
   "id": "1acd06e5",
   "metadata": {},
   "source": [
    "# Segmentation\n",
    "\n",
    "Extract neuronal locations and planar time-traces.\n",
    "\n",
    "- Apply the constrained nonnegative matrix factorization (CNMF) source separation algorithm to extract initial estimates of neuronal spatial footprints and calcium traces.\n",
    "- Apply quality control metrics to evaluate the initial estimates, and narrow down to the final set of estimates.\n",
    "\n",
    "We will use the same strategy as for motion correction. That is, to evaluate parameter sets for a single z-plane before applying those parameters to subsequent z-planes."
   ]
  },
  {
   "cell_type": "code",
   "execution_count": 31,
   "id": "09288483",
   "metadata": {
    "ExecuteTime": {
     "end_time": "2024-12-02T14:33:51.517880Z",
     "start_time": "2024-12-02T14:33:47.980886Z"
    },
    "execution": {
     "iopub.execute_input": "2024-12-07T19:24:09.221481Z",
     "iopub.status.busy": "2024-12-07T19:24:09.221481Z",
     "iopub.status.idle": "2024-12-07T19:24:09.236726Z",
     "shell.execute_reply": "2024-12-07T19:24:09.236726Z",
     "shell.execute_reply.started": "2024-12-07T19:24:09.221481Z"
    },
    "scrolled": true
   },
   "outputs": [],
   "source": [
    "import os\n",
    "from pathlib import Path\n",
    "import logging\n",
    "\n",
    "import mesmerize_core as mc\n",
    "from mesmerize_core.caiman_extensions.cnmf import cnmf_cache\n",
    "\n",
    "from caiman.source_extraction.cnmf import cnmf, params\n",
    "from caiman.motion_correction import high_pass_filter_space\n",
    "from caiman.summary_images import correlation_pnr\n",
    "from caiman.utils.visualization import nb_view_quilt\n",
    "from lbm_caiman_python import get_metadata\n",
    "\n",
    "import matplotlib.pyplot as plt\n",
    "import pandas as pd\n",
    "import numpy as np\n",
    "import zarr\n",
    "from ipywidgets import IntSlider, VBox\n",
    "from sidecar import Sidecar\n",
    "\n",
    "try:\n",
    "    import cv2\n",
    "    cv2.setNumThreads(0)\n",
    "except():\n",
    "    pass\n",
    "\n",
    "if os.name == \"nt\":\n",
    "    # disable the cache on windows, this will be automatic in a future version\n",
    "    cnmf_cache.set_maxsize(0)\n",
    "\n",
    "pd.options.display.max_colwidth = 120\n",
    "\n",
    "# Unneeded in newer versions of mesmerize-core\n",
    "os.environ['CONDA_PYTHON_EXE'] = \"/home/flynn/miniforge3/bin/python\"\n",
    "os.environ['CONDA_PREFIX_1'] = \"lcp\"\n",
    "\n",
    "logger = logging.getLogger(\"caiman\")\n",
    "logger.setLevel(logging.DEBUG)\n",
    "handler = logging.StreamHandler()\n",
    "log_format = logging.Formatter(\"%(relativeCreated)12d [%(filename)s:%(funcName)10s():%(lineno)s] [%(process)d] %(message)s\")\n",
    "handler.setFormatter(log_format)\n",
    "logger.addHandler(handler)\n",
    "\n",
    "logging.getLogger(\"caiman\").setLevel(logging.WARNING)"
   ]
  },
  {
   "cell_type": "markdown",
   "id": "73aca9be",
   "metadata": {},
   "source": [
    "## Data path setup\n",
    "\n",
    "Data setup is similar to [motion_correction notebook](./motion_correction.ipynb).\n",
    "\n",
    "- you can use the **same batch path** and simply add onto the end of it.\n",
    "- you can define a **completely new** batch path to store these items separately.\n",
    "\n",
    "Here, to keep data organized, we will:\n",
    "1. define our previous analaysis path as `mcorr_batch_path`\n",
    "2. create a new 'cnmf.pickle` to save our cnmf results."
   ]
  },
  {
   "cell_type": "code",
   "execution_count": 32,
   "id": "d65b3a8e",
   "metadata": {
    "ExecuteTime": {
     "end_time": "2024-12-02T14:34:11.478450Z",
     "start_time": "2024-12-02T14:34:11.460448Z"
    },
    "execution": {
     "iopub.execute_input": "2024-12-07T19:24:41.193363Z",
     "iopub.status.busy": "2024-12-07T19:24:41.193363Z",
     "iopub.status.idle": "2024-12-07T19:24:41.267836Z",
     "shell.execute_reply": "2024-12-07T19:24:41.267836Z",
     "shell.execute_reply.started": "2024-12-07T19:24:41.193363Z"
    },
    "scrolled": true
   },
   "outputs": [
    {
     "data": {
      "text/html": [
       "<div>\n",
       "<style scoped>\n",
       "    .dataframe tbody tr th:only-of-type {\n",
       "        vertical-align: middle;\n",
       "    }\n",
       "\n",
       "    .dataframe tbody tr th {\n",
       "        vertical-align: top;\n",
       "    }\n",
       "\n",
       "    .dataframe thead th {\n",
       "        text-align: right;\n",
       "    }\n",
       "</style>\n",
       "<table border=\"1\" class=\"dataframe\">\n",
       "  <thead>\n",
       "    <tr style=\"text-align: right;\">\n",
       "      <th></th>\n",
       "      <th>algo</th>\n",
       "      <th>item_name</th>\n",
       "      <th>input_movie_path</th>\n",
       "      <th>params</th>\n",
       "      <th>outputs</th>\n",
       "      <th>added_time</th>\n",
       "      <th>ran_time</th>\n",
       "      <th>algo_duration</th>\n",
       "      <th>comments</th>\n",
       "      <th>uuid</th>\n",
       "    </tr>\n",
       "  </thead>\n",
       "  <tbody>\n",
       "    <tr>\n",
       "      <th>0</th>\n",
       "      <td>mcorr</td>\n",
       "      <td>mcorr</td>\n",
       "      <td>plane_10.tiff</td>\n",
       "      <td>{'main': {'dxy': (1.04, 1.0), 'fr': 9.60806, 'max_shifts': (2, 2), 'strides': (12, 12), 'overlaps': (6, 6), 'max_dev...</td>\n",
       "      <td>{'mean-projection-path': d2323217-2056-4681-9656-2ddebc721ac4\\d2323217-2056-4681-9656-2ddebc721ac4_mean_projection.n...</td>\n",
       "      <td>2024-12-06T12:49:01</td>\n",
       "      <td>2024-12-06T12:57:02</td>\n",
       "      <td>248.16 sec</td>\n",
       "      <td>None</td>\n",
       "      <td>d2323217-2056-4681-9656-2ddebc721ac4</td>\n",
       "    </tr>\n",
       "    <tr>\n",
       "      <th>1</th>\n",
       "      <td>mcorr</td>\n",
       "      <td>plane_1.tiff</td>\n",
       "      <td>plane_1.tiff</td>\n",
       "      <td>{'main': {'dxy': (1.04, 1.0), 'fr': 9.60806, 'max_shifts': (2, 2), 'strides': (12, 12), 'overlaps': (6, 6), 'max_dev...</td>\n",
       "      <td>{'mean-projection-path': 61304ca6-5926-40ee-a769-77cc7baef155\\61304ca6-5926-40ee-a769-77cc7baef155_mean_projection.n...</td>\n",
       "      <td>2024-12-06T14:59:55</td>\n",
       "      <td>2024-12-06T15:04:08</td>\n",
       "      <td>246.5 sec</td>\n",
       "      <td>None</td>\n",
       "      <td>61304ca6-5926-40ee-a769-77cc7baef155</td>\n",
       "    </tr>\n",
       "    <tr>\n",
       "      <th>2</th>\n",
       "      <td>mcorr</td>\n",
       "      <td>plane_11.tiff</td>\n",
       "      <td>plane_11.tiff</td>\n",
       "      <td>{'main': {'dxy': (1.04, 1.0), 'fr': 9.60806, 'max_shifts': (2, 2), 'strides': (12, 12), 'overlaps': (6, 6), 'max_dev...</td>\n",
       "      <td>{'mean-projection-path': f8e52582-bdbc-40cd-aeee-b21742053d3e\\f8e52582-bdbc-40cd-aeee-b21742053d3e_mean_projection.n...</td>\n",
       "      <td>2024-12-06T14:59:55</td>\n",
       "      <td>2024-12-06T15:08:19</td>\n",
       "      <td>250.41 sec</td>\n",
       "      <td>None</td>\n",
       "      <td>f8e52582-bdbc-40cd-aeee-b21742053d3e</td>\n",
       "    </tr>\n",
       "    <tr>\n",
       "      <th>3</th>\n",
       "      <td>mcorr</td>\n",
       "      <td>plane_12.tiff</td>\n",
       "      <td>plane_12.tiff</td>\n",
       "      <td>{'main': {'dxy': (1.04, 1.0), 'fr': 9.60806, 'max_shifts': (2, 2), 'strides': (12, 12), 'overlaps': (6, 6), 'max_dev...</td>\n",
       "      <td>{'mean-projection-path': 4879bb5f-b35f-4f83-83f3-5fe74515bcae\\4879bb5f-b35f-4f83-83f3-5fe74515bcae_mean_projection.n...</td>\n",
       "      <td>2024-12-06T14:59:55</td>\n",
       "      <td>2024-12-06T15:12:31</td>\n",
       "      <td>252.04 sec</td>\n",
       "      <td>None</td>\n",
       "      <td>4879bb5f-b35f-4f83-83f3-5fe74515bcae</td>\n",
       "    </tr>\n",
       "    <tr>\n",
       "      <th>4</th>\n",
       "      <td>mcorr</td>\n",
       "      <td>plane_13.tiff</td>\n",
       "      <td>plane_13.tiff</td>\n",
       "      <td>{'main': {'dxy': (1.04, 1.0), 'fr': 9.60806, 'max_shifts': (2, 2), 'strides': (12, 12), 'overlaps': (6, 6), 'max_dev...</td>\n",
       "      <td>{'mean-projection-path': d7a820f6-3838-4faf-9e1d-25a5caa9345d\\d7a820f6-3838-4faf-9e1d-25a5caa9345d_mean_projection.n...</td>\n",
       "      <td>2024-12-06T14:59:55</td>\n",
       "      <td>2024-12-06T15:16:44</td>\n",
       "      <td>252.66 sec</td>\n",
       "      <td>None</td>\n",
       "      <td>d7a820f6-3838-4faf-9e1d-25a5caa9345d</td>\n",
       "    </tr>\n",
       "    <tr>\n",
       "      <th>5</th>\n",
       "      <td>mcorr</td>\n",
       "      <td>plane_14.tiff</td>\n",
       "      <td>plane_14.tiff</td>\n",
       "      <td>{'main': {'dxy': (1.04, 1.0), 'fr': 9.60806, 'max_shifts': (2, 2), 'strides': (12, 12), 'overlaps': (6, 6), 'max_dev...</td>\n",
       "      <td>{'mean-projection-path': 707fa711-d8e1-457f-be19-ae530dbf6320\\707fa711-d8e1-457f-be19-ae530dbf6320_mean_projection.n...</td>\n",
       "      <td>2024-12-06T14:59:55</td>\n",
       "      <td>2024-12-06T15:20:57</td>\n",
       "      <td>253.18 sec</td>\n",
       "      <td>None</td>\n",
       "      <td>707fa711-d8e1-457f-be19-ae530dbf6320</td>\n",
       "    </tr>\n",
       "    <tr>\n",
       "      <th>6</th>\n",
       "      <td>mcorr</td>\n",
       "      <td>plane_15.tiff</td>\n",
       "      <td>plane_15.tiff</td>\n",
       "      <td>{'main': {'dxy': (1.04, 1.0), 'fr': 9.60806, 'max_shifts': (2, 2), 'strides': (12, 12), 'overlaps': (6, 6), 'max_dev...</td>\n",
       "      <td>{'mean-projection-path': c32aa81d-e6d2-41a6-9206-eeed2dfd033a\\c32aa81d-e6d2-41a6-9206-eeed2dfd033a_mean_projection.n...</td>\n",
       "      <td>2024-12-06T14:59:55</td>\n",
       "      <td>2024-12-06T15:25:09</td>\n",
       "      <td>250.99 sec</td>\n",
       "      <td>None</td>\n",
       "      <td>c32aa81d-e6d2-41a6-9206-eeed2dfd033a</td>\n",
       "    </tr>\n",
       "    <tr>\n",
       "      <th>7</th>\n",
       "      <td>mcorr</td>\n",
       "      <td>plane_16.tiff</td>\n",
       "      <td>plane_16.tiff</td>\n",
       "      <td>{'main': {'dxy': (1.04, 1.0), 'fr': 9.60806, 'max_shifts': (2, 2), 'strides': (12, 12), 'overlaps': (6, 6), 'max_dev...</td>\n",
       "      <td>{'mean-projection-path': 676e935b-15e3-49ae-bbac-575e0e52dac6\\676e935b-15e3-49ae-bbac-575e0e52dac6_mean_projection.n...</td>\n",
       "      <td>2024-12-06T14:59:55</td>\n",
       "      <td>2024-12-06T15:29:21</td>\n",
       "      <td>251.84 sec</td>\n",
       "      <td>None</td>\n",
       "      <td>676e935b-15e3-49ae-bbac-575e0e52dac6</td>\n",
       "    </tr>\n",
       "    <tr>\n",
       "      <th>8</th>\n",
       "      <td>mcorr</td>\n",
       "      <td>plane_17.tiff</td>\n",
       "      <td>plane_17.tiff</td>\n",
       "      <td>{'main': {'dxy': (1.04, 1.0), 'fr': 9.60806, 'max_shifts': (2, 2), 'strides': (12, 12), 'overlaps': (6, 6), 'max_dev...</td>\n",
       "      <td>{'mean-projection-path': aef5cb01-b47a-4308-9110-0b16b16b8440\\aef5cb01-b47a-4308-9110-0b16b16b8440_mean_projection.n...</td>\n",
       "      <td>2024-12-06T14:59:55</td>\n",
       "      <td>2024-12-06T15:33:30</td>\n",
       "      <td>248.93 sec</td>\n",
       "      <td>None</td>\n",
       "      <td>aef5cb01-b47a-4308-9110-0b16b16b8440</td>\n",
       "    </tr>\n",
       "    <tr>\n",
       "      <th>9</th>\n",
       "      <td>mcorr</td>\n",
       "      <td>plane_18.tiff</td>\n",
       "      <td>plane_18.tiff</td>\n",
       "      <td>{'main': {'dxy': (1.04, 1.0), 'fr': 9.60806, 'max_shifts': (2, 2), 'strides': (12, 12), 'overlaps': (6, 6), 'max_dev...</td>\n",
       "      <td>{'mean-projection-path': 6b973436-e9db-40e5-be52-882fe29efc75\\6b973436-e9db-40e5-be52-882fe29efc75_mean_projection.n...</td>\n",
       "      <td>2024-12-06T14:59:55</td>\n",
       "      <td>2024-12-06T15:37:39</td>\n",
       "      <td>248.9 sec</td>\n",
       "      <td>None</td>\n",
       "      <td>6b973436-e9db-40e5-be52-882fe29efc75</td>\n",
       "    </tr>\n",
       "    <tr>\n",
       "      <th>10</th>\n",
       "      <td>mcorr</td>\n",
       "      <td>plane_19.tiff</td>\n",
       "      <td>plane_19.tiff</td>\n",
       "      <td>{'main': {'dxy': (1.04, 1.0), 'fr': 9.60806, 'max_shifts': (2, 2), 'strides': (12, 12), 'overlaps': (6, 6), 'max_dev...</td>\n",
       "      <td>{'mean-projection-path': 312445b1-0369-469e-8524-a99caac1c0b8\\312445b1-0369-469e-8524-a99caac1c0b8_mean_projection.n...</td>\n",
       "      <td>2024-12-06T14:59:55</td>\n",
       "      <td>2024-12-06T15:41:47</td>\n",
       "      <td>248.39 sec</td>\n",
       "      <td>None</td>\n",
       "      <td>312445b1-0369-469e-8524-a99caac1c0b8</td>\n",
       "    </tr>\n",
       "    <tr>\n",
       "      <th>11</th>\n",
       "      <td>mcorr</td>\n",
       "      <td>plane_2.tiff</td>\n",
       "      <td>plane_2.tiff</td>\n",
       "      <td>{'main': {'dxy': (1.04, 1.0), 'fr': 9.60806, 'max_shifts': (2, 2), 'strides': (12, 12), 'overlaps': (6, 6), 'max_dev...</td>\n",
       "      <td>{'mean-projection-path': 94be9b15-10f5-4703-b3c6-0bef6ec2c781\\94be9b15-10f5-4703-b3c6-0bef6ec2c781_mean_projection.n...</td>\n",
       "      <td>2024-12-06T14:59:55</td>\n",
       "      <td>2024-12-06T15:45:59</td>\n",
       "      <td>251.17 sec</td>\n",
       "      <td>None</td>\n",
       "      <td>94be9b15-10f5-4703-b3c6-0bef6ec2c781</td>\n",
       "    </tr>\n",
       "    <tr>\n",
       "      <th>12</th>\n",
       "      <td>mcorr</td>\n",
       "      <td>plane_20.tiff</td>\n",
       "      <td>plane_20.tiff</td>\n",
       "      <td>{'main': {'dxy': (1.04, 1.0), 'fr': 9.60806, 'max_shifts': (2, 2), 'strides': (12, 12), 'overlaps': (6, 6), 'max_dev...</td>\n",
       "      <td>{'mean-projection-path': 04716ea4-067d-44ed-b3f8-f359417ae2cf\\04716ea4-067d-44ed-b3f8-f359417ae2cf_mean_projection.n...</td>\n",
       "      <td>2024-12-06T14:59:55</td>\n",
       "      <td>2024-12-06T15:50:10</td>\n",
       "      <td>251.53 sec</td>\n",
       "      <td>None</td>\n",
       "      <td>04716ea4-067d-44ed-b3f8-f359417ae2cf</td>\n",
       "    </tr>\n",
       "    <tr>\n",
       "      <th>13</th>\n",
       "      <td>mcorr</td>\n",
       "      <td>plane_21.tiff</td>\n",
       "      <td>plane_21.tiff</td>\n",
       "      <td>{'main': {'dxy': (1.04, 1.0), 'fr': 9.60806, 'max_shifts': (2, 2), 'strides': (12, 12), 'overlaps': (6, 6), 'max_dev...</td>\n",
       "      <td>{'mean-projection-path': 2ea94922-c6c2-497f-8711-61351d378d64\\2ea94922-c6c2-497f-8711-61351d378d64_mean_projection.n...</td>\n",
       "      <td>2024-12-06T14:59:55</td>\n",
       "      <td>2024-12-06T15:54:21</td>\n",
       "      <td>249.86 sec</td>\n",
       "      <td>None</td>\n",
       "      <td>2ea94922-c6c2-497f-8711-61351d378d64</td>\n",
       "    </tr>\n",
       "    <tr>\n",
       "      <th>14</th>\n",
       "      <td>mcorr</td>\n",
       "      <td>plane_22.tiff</td>\n",
       "      <td>plane_22.tiff</td>\n",
       "      <td>{'main': {'dxy': (1.04, 1.0), 'fr': 9.60806, 'max_shifts': (2, 2), 'strides': (12, 12), 'overlaps': (6, 6), 'max_dev...</td>\n",
       "      <td>{'mean-projection-path': 5e7d157a-f0be-433c-a88d-da4fd63102bf\\5e7d157a-f0be-433c-a88d-da4fd63102bf_mean_projection.n...</td>\n",
       "      <td>2024-12-06T14:59:55</td>\n",
       "      <td>2024-12-06T15:58:31</td>\n",
       "      <td>250.51 sec</td>\n",
       "      <td>None</td>\n",
       "      <td>5e7d157a-f0be-433c-a88d-da4fd63102bf</td>\n",
       "    </tr>\n",
       "    <tr>\n",
       "      <th>15</th>\n",
       "      <td>mcorr</td>\n",
       "      <td>plane_23.tiff</td>\n",
       "      <td>plane_23.tiff</td>\n",
       "      <td>{'main': {'dxy': (1.04, 1.0), 'fr': 9.60806, 'max_shifts': (2, 2), 'strides': (12, 12), 'overlaps': (6, 6), 'max_dev...</td>\n",
       "      <td>{'mean-projection-path': 2273528d-2105-4296-8344-7a6ccb1f0fd8\\2273528d-2105-4296-8344-7a6ccb1f0fd8_mean_projection.n...</td>\n",
       "      <td>2024-12-06T14:59:55</td>\n",
       "      <td>2024-12-06T16:01:55</td>\n",
       "      <td>203.93 sec</td>\n",
       "      <td>None</td>\n",
       "      <td>2273528d-2105-4296-8344-7a6ccb1f0fd8</td>\n",
       "    </tr>\n",
       "    <tr>\n",
       "      <th>16</th>\n",
       "      <td>mcorr</td>\n",
       "      <td>plane_24.tiff</td>\n",
       "      <td>plane_24.tiff</td>\n",
       "      <td>{'main': {'dxy': (1.04, 1.0), 'fr': 9.60806, 'max_shifts': (2, 2), 'strides': (12, 12), 'overlaps': (6, 6), 'max_dev...</td>\n",
       "      <td>{'mean-projection-path': bc4d7d6c-681d-488f-8903-99e94436215c\\bc4d7d6c-681d-488f-8903-99e94436215c_mean_projection.n...</td>\n",
       "      <td>2024-12-06T14:59:55</td>\n",
       "      <td>2024-12-06T16:04:21</td>\n",
       "      <td>145.62 sec</td>\n",
       "      <td>None</td>\n",
       "      <td>bc4d7d6c-681d-488f-8903-99e94436215c</td>\n",
       "    </tr>\n",
       "    <tr>\n",
       "      <th>17</th>\n",
       "      <td>mcorr</td>\n",
       "      <td>plane_25.tiff</td>\n",
       "      <td>plane_25.tiff</td>\n",
       "      <td>{'main': {'dxy': (1.04, 1.0), 'fr': 9.60806, 'max_shifts': (2, 2), 'strides': (12, 12), 'overlaps': (6, 6), 'max_dev...</td>\n",
       "      <td>{'mean-projection-path': 28fef4c2-2348-44d1-99a7-8d95ea1f0ffa\\28fef4c2-2348-44d1-99a7-8d95ea1f0ffa_mean_projection.n...</td>\n",
       "      <td>2024-12-06T14:59:55</td>\n",
       "      <td>2024-12-06T16:06:47</td>\n",
       "      <td>145.61 sec</td>\n",
       "      <td>None</td>\n",
       "      <td>28fef4c2-2348-44d1-99a7-8d95ea1f0ffa</td>\n",
       "    </tr>\n",
       "    <tr>\n",
       "      <th>18</th>\n",
       "      <td>mcorr</td>\n",
       "      <td>plane_26.tiff</td>\n",
       "      <td>plane_26.tiff</td>\n",
       "      <td>{'main': {'dxy': (1.04, 1.0), 'fr': 9.60806, 'max_shifts': (2, 2), 'strides': (12, 12), 'overlaps': (6, 6), 'max_dev...</td>\n",
       "      <td>{'mean-projection-path': 48b854f6-1cf7-4856-a39b-e9de924621a1\\48b854f6-1cf7-4856-a39b-e9de924621a1_mean_projection.n...</td>\n",
       "      <td>2024-12-06T14:59:55</td>\n",
       "      <td>2024-12-06T16:09:46</td>\n",
       "      <td>179.33 sec</td>\n",
       "      <td>None</td>\n",
       "      <td>48b854f6-1cf7-4856-a39b-e9de924621a1</td>\n",
       "    </tr>\n",
       "    <tr>\n",
       "      <th>19</th>\n",
       "      <td>mcorr</td>\n",
       "      <td>plane_27.tiff</td>\n",
       "      <td>plane_27.tiff</td>\n",
       "      <td>{'main': {'dxy': (1.04, 1.0), 'fr': 9.60806, 'max_shifts': (2, 2), 'strides': (12, 12), 'overlaps': (6, 6), 'max_dev...</td>\n",
       "      <td>{'mean-projection-path': 4057efb4-757e-4de9-8d86-a5c7eff85980\\4057efb4-757e-4de9-8d86-a5c7eff85980_mean_projection.n...</td>\n",
       "      <td>2024-12-06T14:59:55</td>\n",
       "      <td>2024-12-06T16:13:57</td>\n",
       "      <td>250.85 sec</td>\n",
       "      <td>None</td>\n",
       "      <td>4057efb4-757e-4de9-8d86-a5c7eff85980</td>\n",
       "    </tr>\n",
       "    <tr>\n",
       "      <th>20</th>\n",
       "      <td>mcorr</td>\n",
       "      <td>plane_28.tiff</td>\n",
       "      <td>plane_28.tiff</td>\n",
       "      <td>{'main': {'dxy': (1.04, 1.0), 'fr': 9.60806, 'max_shifts': (2, 2), 'strides': (12, 12), 'overlaps': (6, 6), 'max_dev...</td>\n",
       "      <td>{'mean-projection-path': 51e3b733-e54d-4f8a-96fa-3f840499669a\\51e3b733-e54d-4f8a-96fa-3f840499669a_mean_projection.n...</td>\n",
       "      <td>2024-12-06T14:59:55</td>\n",
       "      <td>2024-12-06T16:18:06</td>\n",
       "      <td>248.78 sec</td>\n",
       "      <td>None</td>\n",
       "      <td>51e3b733-e54d-4f8a-96fa-3f840499669a</td>\n",
       "    </tr>\n",
       "    <tr>\n",
       "      <th>21</th>\n",
       "      <td>mcorr</td>\n",
       "      <td>plane_29.tiff</td>\n",
       "      <td>plane_29.tiff</td>\n",
       "      <td>{'main': {'dxy': (1.04, 1.0), 'fr': 9.60806, 'max_shifts': (2, 2), 'strides': (12, 12), 'overlaps': (6, 6), 'max_dev...</td>\n",
       "      <td>{'mean-projection-path': 3bdd13ae-6c35-41e2-aaa1-7fc9e997e348\\3bdd13ae-6c35-41e2-aaa1-7fc9e997e348_mean_projection.n...</td>\n",
       "      <td>2024-12-06T14:59:55</td>\n",
       "      <td>2024-12-06T16:22:18</td>\n",
       "      <td>251.44 sec</td>\n",
       "      <td>None</td>\n",
       "      <td>3bdd13ae-6c35-41e2-aaa1-7fc9e997e348</td>\n",
       "    </tr>\n",
       "    <tr>\n",
       "      <th>22</th>\n",
       "      <td>mcorr</td>\n",
       "      <td>plane_3.tiff</td>\n",
       "      <td>plane_3.tiff</td>\n",
       "      <td>{'main': {'dxy': (1.04, 1.0), 'fr': 9.60806, 'max_shifts': (2, 2), 'strides': (12, 12), 'overlaps': (6, 6), 'max_dev...</td>\n",
       "      <td>{'mean-projection-path': bfe3daab-04d2-4ec6-b0ae-85836c7cef41\\bfe3daab-04d2-4ec6-b0ae-85836c7cef41_mean_projection.n...</td>\n",
       "      <td>2024-12-06T14:59:55</td>\n",
       "      <td>2024-12-06T16:26:31</td>\n",
       "      <td>252.54 sec</td>\n",
       "      <td>None</td>\n",
       "      <td>bfe3daab-04d2-4ec6-b0ae-85836c7cef41</td>\n",
       "    </tr>\n",
       "    <tr>\n",
       "      <th>23</th>\n",
       "      <td>mcorr</td>\n",
       "      <td>plane_30.tiff</td>\n",
       "      <td>plane_30.tiff</td>\n",
       "      <td>{'main': {'dxy': (1.04, 1.0), 'fr': 9.60806, 'max_shifts': (2, 2), 'strides': (12, 12), 'overlaps': (6, 6), 'max_dev...</td>\n",
       "      <td>{'mean-projection-path': 71ccc02b-b081-4951-a97d-5f546262d3d7\\71ccc02b-b081-4951-a97d-5f546262d3d7_mean_projection.n...</td>\n",
       "      <td>2024-12-06T14:59:55</td>\n",
       "      <td>2024-12-06T16:30:42</td>\n",
       "      <td>251.3 sec</td>\n",
       "      <td>None</td>\n",
       "      <td>71ccc02b-b081-4951-a97d-5f546262d3d7</td>\n",
       "    </tr>\n",
       "    <tr>\n",
       "      <th>24</th>\n",
       "      <td>mcorr</td>\n",
       "      <td>plane_4.tiff</td>\n",
       "      <td>plane_4.tiff</td>\n",
       "      <td>{'main': {'dxy': (1.04, 1.0), 'fr': 9.60806, 'max_shifts': (2, 2), 'strides': (12, 12), 'overlaps': (6, 6), 'max_dev...</td>\n",
       "      <td>{'mean-projection-path': 2151a11f-203b-4c87-94fd-6110581f3ccb\\2151a11f-203b-4c87-94fd-6110581f3ccb_mean_projection.n...</td>\n",
       "      <td>2024-12-06T14:59:55</td>\n",
       "      <td>2024-12-06T16:34:54</td>\n",
       "      <td>252.09 sec</td>\n",
       "      <td>None</td>\n",
       "      <td>2151a11f-203b-4c87-94fd-6110581f3ccb</td>\n",
       "    </tr>\n",
       "    <tr>\n",
       "      <th>25</th>\n",
       "      <td>mcorr</td>\n",
       "      <td>plane_5.tiff</td>\n",
       "      <td>plane_5.tiff</td>\n",
       "      <td>{'main': {'dxy': (1.04, 1.0), 'fr': 9.60806, 'max_shifts': (2, 2), 'strides': (12, 12), 'overlaps': (6, 6), 'max_dev...</td>\n",
       "      <td>{'mean-projection-path': 24f69565-ecde-4a39-9230-f05bd6a2a4cc\\24f69565-ecde-4a39-9230-f05bd6a2a4cc_mean_projection.n...</td>\n",
       "      <td>2024-12-06T14:59:55</td>\n",
       "      <td>2024-12-06T16:39:05</td>\n",
       "      <td>250.53 sec</td>\n",
       "      <td>None</td>\n",
       "      <td>24f69565-ecde-4a39-9230-f05bd6a2a4cc</td>\n",
       "    </tr>\n",
       "    <tr>\n",
       "      <th>26</th>\n",
       "      <td>mcorr</td>\n",
       "      <td>plane_6.tiff</td>\n",
       "      <td>plane_6.tiff</td>\n",
       "      <td>{'main': {'dxy': (1.04, 1.0), 'fr': 9.60806, 'max_shifts': (2, 2), 'strides': (12, 12), 'overlaps': (6, 6), 'max_dev...</td>\n",
       "      <td>{'mean-projection-path': 3ad2b11c-a274-44dd-9755-1f66a84ee15f\\3ad2b11c-a274-44dd-9755-1f66a84ee15f_mean_projection.n...</td>\n",
       "      <td>2024-12-06T14:59:55</td>\n",
       "      <td>2024-12-06T16:43:14</td>\n",
       "      <td>248.37 sec</td>\n",
       "      <td>None</td>\n",
       "      <td>3ad2b11c-a274-44dd-9755-1f66a84ee15f</td>\n",
       "    </tr>\n",
       "    <tr>\n",
       "      <th>27</th>\n",
       "      <td>mcorr</td>\n",
       "      <td>plane_7.tiff</td>\n",
       "      <td>plane_7.tiff</td>\n",
       "      <td>{'main': {'dxy': (1.04, 1.0), 'fr': 9.60806, 'max_shifts': (2, 2), 'strides': (12, 12), 'overlaps': (6, 6), 'max_dev...</td>\n",
       "      <td>{'mean-projection-path': df5e2804-5a8c-4a0d-9acd-53165f1ffe12\\df5e2804-5a8c-4a0d-9acd-53165f1ffe12_mean_projection.n...</td>\n",
       "      <td>2024-12-06T14:59:55</td>\n",
       "      <td>2024-12-06T16:47:23</td>\n",
       "      <td>249.31 sec</td>\n",
       "      <td>None</td>\n",
       "      <td>df5e2804-5a8c-4a0d-9acd-53165f1ffe12</td>\n",
       "    </tr>\n",
       "    <tr>\n",
       "      <th>28</th>\n",
       "      <td>mcorr</td>\n",
       "      <td>plane_8.tiff</td>\n",
       "      <td>plane_8.tiff</td>\n",
       "      <td>{'main': {'dxy': (1.04, 1.0), 'fr': 9.60806, 'max_shifts': (2, 2), 'strides': (12, 12), 'overlaps': (6, 6), 'max_dev...</td>\n",
       "      <td>{'mean-projection-path': 2721a961-88d8-41cd-ab46-8b291aa6f92c\\2721a961-88d8-41cd-ab46-8b291aa6f92c_mean_projection.n...</td>\n",
       "      <td>2024-12-06T14:59:55</td>\n",
       "      <td>2024-12-06T16:51:32</td>\n",
       "      <td>248.92 sec</td>\n",
       "      <td>None</td>\n",
       "      <td>2721a961-88d8-41cd-ab46-8b291aa6f92c</td>\n",
       "    </tr>\n",
       "    <tr>\n",
       "      <th>29</th>\n",
       "      <td>mcorr</td>\n",
       "      <td>plane_9.tiff</td>\n",
       "      <td>plane_9.tiff</td>\n",
       "      <td>{'main': {'dxy': (1.04, 1.0), 'fr': 9.60806, 'max_shifts': (2, 2), 'strides': (12, 12), 'overlaps': (6, 6), 'max_dev...</td>\n",
       "      <td>{'mean-projection-path': ce4a07ed-7b9d-4cb4-a5e9-23e75e97e0f2\\ce4a07ed-7b9d-4cb4-a5e9-23e75e97e0f2_mean_projection.n...</td>\n",
       "      <td>2024-12-06T14:59:55</td>\n",
       "      <td>2024-12-06T16:55:44</td>\n",
       "      <td>251.19 sec</td>\n",
       "      <td>None</td>\n",
       "      <td>ce4a07ed-7b9d-4cb4-a5e9-23e75e97e0f2</td>\n",
       "    </tr>\n",
       "  </tbody>\n",
       "</table>\n",
       "</div>"
      ],
      "text/plain": [
       "     algo      item_name input_movie_path  \\\n",
       "0   mcorr          mcorr    plane_10.tiff   \n",
       "1   mcorr   plane_1.tiff     plane_1.tiff   \n",
       "2   mcorr  plane_11.tiff    plane_11.tiff   \n",
       "3   mcorr  plane_12.tiff    plane_12.tiff   \n",
       "4   mcorr  plane_13.tiff    plane_13.tiff   \n",
       "5   mcorr  plane_14.tiff    plane_14.tiff   \n",
       "6   mcorr  plane_15.tiff    plane_15.tiff   \n",
       "7   mcorr  plane_16.tiff    plane_16.tiff   \n",
       "8   mcorr  plane_17.tiff    plane_17.tiff   \n",
       "9   mcorr  plane_18.tiff    plane_18.tiff   \n",
       "10  mcorr  plane_19.tiff    plane_19.tiff   \n",
       "11  mcorr   plane_2.tiff     plane_2.tiff   \n",
       "12  mcorr  plane_20.tiff    plane_20.tiff   \n",
       "13  mcorr  plane_21.tiff    plane_21.tiff   \n",
       "14  mcorr  plane_22.tiff    plane_22.tiff   \n",
       "15  mcorr  plane_23.tiff    plane_23.tiff   \n",
       "16  mcorr  plane_24.tiff    plane_24.tiff   \n",
       "17  mcorr  plane_25.tiff    plane_25.tiff   \n",
       "18  mcorr  plane_26.tiff    plane_26.tiff   \n",
       "19  mcorr  plane_27.tiff    plane_27.tiff   \n",
       "20  mcorr  plane_28.tiff    plane_28.tiff   \n",
       "21  mcorr  plane_29.tiff    plane_29.tiff   \n",
       "22  mcorr   plane_3.tiff     plane_3.tiff   \n",
       "23  mcorr  plane_30.tiff    plane_30.tiff   \n",
       "24  mcorr   plane_4.tiff     plane_4.tiff   \n",
       "25  mcorr   plane_5.tiff     plane_5.tiff   \n",
       "26  mcorr   plane_6.tiff     plane_6.tiff   \n",
       "27  mcorr   plane_7.tiff     plane_7.tiff   \n",
       "28  mcorr   plane_8.tiff     plane_8.tiff   \n",
       "29  mcorr   plane_9.tiff     plane_9.tiff   \n",
       "\n",
       "                                                                                                                     params  \\\n",
       "0   {'main': {'dxy': (1.04, 1.0), 'fr': 9.60806, 'max_shifts': (2, 2), 'strides': (12, 12), 'overlaps': (6, 6), 'max_dev...   \n",
       "1   {'main': {'dxy': (1.04, 1.0), 'fr': 9.60806, 'max_shifts': (2, 2), 'strides': (12, 12), 'overlaps': (6, 6), 'max_dev...   \n",
       "2   {'main': {'dxy': (1.04, 1.0), 'fr': 9.60806, 'max_shifts': (2, 2), 'strides': (12, 12), 'overlaps': (6, 6), 'max_dev...   \n",
       "3   {'main': {'dxy': (1.04, 1.0), 'fr': 9.60806, 'max_shifts': (2, 2), 'strides': (12, 12), 'overlaps': (6, 6), 'max_dev...   \n",
       "4   {'main': {'dxy': (1.04, 1.0), 'fr': 9.60806, 'max_shifts': (2, 2), 'strides': (12, 12), 'overlaps': (6, 6), 'max_dev...   \n",
       "5   {'main': {'dxy': (1.04, 1.0), 'fr': 9.60806, 'max_shifts': (2, 2), 'strides': (12, 12), 'overlaps': (6, 6), 'max_dev...   \n",
       "6   {'main': {'dxy': (1.04, 1.0), 'fr': 9.60806, 'max_shifts': (2, 2), 'strides': (12, 12), 'overlaps': (6, 6), 'max_dev...   \n",
       "7   {'main': {'dxy': (1.04, 1.0), 'fr': 9.60806, 'max_shifts': (2, 2), 'strides': (12, 12), 'overlaps': (6, 6), 'max_dev...   \n",
       "8   {'main': {'dxy': (1.04, 1.0), 'fr': 9.60806, 'max_shifts': (2, 2), 'strides': (12, 12), 'overlaps': (6, 6), 'max_dev...   \n",
       "9   {'main': {'dxy': (1.04, 1.0), 'fr': 9.60806, 'max_shifts': (2, 2), 'strides': (12, 12), 'overlaps': (6, 6), 'max_dev...   \n",
       "10  {'main': {'dxy': (1.04, 1.0), 'fr': 9.60806, 'max_shifts': (2, 2), 'strides': (12, 12), 'overlaps': (6, 6), 'max_dev...   \n",
       "11  {'main': {'dxy': (1.04, 1.0), 'fr': 9.60806, 'max_shifts': (2, 2), 'strides': (12, 12), 'overlaps': (6, 6), 'max_dev...   \n",
       "12  {'main': {'dxy': (1.04, 1.0), 'fr': 9.60806, 'max_shifts': (2, 2), 'strides': (12, 12), 'overlaps': (6, 6), 'max_dev...   \n",
       "13  {'main': {'dxy': (1.04, 1.0), 'fr': 9.60806, 'max_shifts': (2, 2), 'strides': (12, 12), 'overlaps': (6, 6), 'max_dev...   \n",
       "14  {'main': {'dxy': (1.04, 1.0), 'fr': 9.60806, 'max_shifts': (2, 2), 'strides': (12, 12), 'overlaps': (6, 6), 'max_dev...   \n",
       "15  {'main': {'dxy': (1.04, 1.0), 'fr': 9.60806, 'max_shifts': (2, 2), 'strides': (12, 12), 'overlaps': (6, 6), 'max_dev...   \n",
       "16  {'main': {'dxy': (1.04, 1.0), 'fr': 9.60806, 'max_shifts': (2, 2), 'strides': (12, 12), 'overlaps': (6, 6), 'max_dev...   \n",
       "17  {'main': {'dxy': (1.04, 1.0), 'fr': 9.60806, 'max_shifts': (2, 2), 'strides': (12, 12), 'overlaps': (6, 6), 'max_dev...   \n",
       "18  {'main': {'dxy': (1.04, 1.0), 'fr': 9.60806, 'max_shifts': (2, 2), 'strides': (12, 12), 'overlaps': (6, 6), 'max_dev...   \n",
       "19  {'main': {'dxy': (1.04, 1.0), 'fr': 9.60806, 'max_shifts': (2, 2), 'strides': (12, 12), 'overlaps': (6, 6), 'max_dev...   \n",
       "20  {'main': {'dxy': (1.04, 1.0), 'fr': 9.60806, 'max_shifts': (2, 2), 'strides': (12, 12), 'overlaps': (6, 6), 'max_dev...   \n",
       "21  {'main': {'dxy': (1.04, 1.0), 'fr': 9.60806, 'max_shifts': (2, 2), 'strides': (12, 12), 'overlaps': (6, 6), 'max_dev...   \n",
       "22  {'main': {'dxy': (1.04, 1.0), 'fr': 9.60806, 'max_shifts': (2, 2), 'strides': (12, 12), 'overlaps': (6, 6), 'max_dev...   \n",
       "23  {'main': {'dxy': (1.04, 1.0), 'fr': 9.60806, 'max_shifts': (2, 2), 'strides': (12, 12), 'overlaps': (6, 6), 'max_dev...   \n",
       "24  {'main': {'dxy': (1.04, 1.0), 'fr': 9.60806, 'max_shifts': (2, 2), 'strides': (12, 12), 'overlaps': (6, 6), 'max_dev...   \n",
       "25  {'main': {'dxy': (1.04, 1.0), 'fr': 9.60806, 'max_shifts': (2, 2), 'strides': (12, 12), 'overlaps': (6, 6), 'max_dev...   \n",
       "26  {'main': {'dxy': (1.04, 1.0), 'fr': 9.60806, 'max_shifts': (2, 2), 'strides': (12, 12), 'overlaps': (6, 6), 'max_dev...   \n",
       "27  {'main': {'dxy': (1.04, 1.0), 'fr': 9.60806, 'max_shifts': (2, 2), 'strides': (12, 12), 'overlaps': (6, 6), 'max_dev...   \n",
       "28  {'main': {'dxy': (1.04, 1.0), 'fr': 9.60806, 'max_shifts': (2, 2), 'strides': (12, 12), 'overlaps': (6, 6), 'max_dev...   \n",
       "29  {'main': {'dxy': (1.04, 1.0), 'fr': 9.60806, 'max_shifts': (2, 2), 'strides': (12, 12), 'overlaps': (6, 6), 'max_dev...   \n",
       "\n",
       "                                                                                                                    outputs  \\\n",
       "0   {'mean-projection-path': d2323217-2056-4681-9656-2ddebc721ac4\\d2323217-2056-4681-9656-2ddebc721ac4_mean_projection.n...   \n",
       "1   {'mean-projection-path': 61304ca6-5926-40ee-a769-77cc7baef155\\61304ca6-5926-40ee-a769-77cc7baef155_mean_projection.n...   \n",
       "2   {'mean-projection-path': f8e52582-bdbc-40cd-aeee-b21742053d3e\\f8e52582-bdbc-40cd-aeee-b21742053d3e_mean_projection.n...   \n",
       "3   {'mean-projection-path': 4879bb5f-b35f-4f83-83f3-5fe74515bcae\\4879bb5f-b35f-4f83-83f3-5fe74515bcae_mean_projection.n...   \n",
       "4   {'mean-projection-path': d7a820f6-3838-4faf-9e1d-25a5caa9345d\\d7a820f6-3838-4faf-9e1d-25a5caa9345d_mean_projection.n...   \n",
       "5   {'mean-projection-path': 707fa711-d8e1-457f-be19-ae530dbf6320\\707fa711-d8e1-457f-be19-ae530dbf6320_mean_projection.n...   \n",
       "6   {'mean-projection-path': c32aa81d-e6d2-41a6-9206-eeed2dfd033a\\c32aa81d-e6d2-41a6-9206-eeed2dfd033a_mean_projection.n...   \n",
       "7   {'mean-projection-path': 676e935b-15e3-49ae-bbac-575e0e52dac6\\676e935b-15e3-49ae-bbac-575e0e52dac6_mean_projection.n...   \n",
       "8   {'mean-projection-path': aef5cb01-b47a-4308-9110-0b16b16b8440\\aef5cb01-b47a-4308-9110-0b16b16b8440_mean_projection.n...   \n",
       "9   {'mean-projection-path': 6b973436-e9db-40e5-be52-882fe29efc75\\6b973436-e9db-40e5-be52-882fe29efc75_mean_projection.n...   \n",
       "10  {'mean-projection-path': 312445b1-0369-469e-8524-a99caac1c0b8\\312445b1-0369-469e-8524-a99caac1c0b8_mean_projection.n...   \n",
       "11  {'mean-projection-path': 94be9b15-10f5-4703-b3c6-0bef6ec2c781\\94be9b15-10f5-4703-b3c6-0bef6ec2c781_mean_projection.n...   \n",
       "12  {'mean-projection-path': 04716ea4-067d-44ed-b3f8-f359417ae2cf\\04716ea4-067d-44ed-b3f8-f359417ae2cf_mean_projection.n...   \n",
       "13  {'mean-projection-path': 2ea94922-c6c2-497f-8711-61351d378d64\\2ea94922-c6c2-497f-8711-61351d378d64_mean_projection.n...   \n",
       "14  {'mean-projection-path': 5e7d157a-f0be-433c-a88d-da4fd63102bf\\5e7d157a-f0be-433c-a88d-da4fd63102bf_mean_projection.n...   \n",
       "15  {'mean-projection-path': 2273528d-2105-4296-8344-7a6ccb1f0fd8\\2273528d-2105-4296-8344-7a6ccb1f0fd8_mean_projection.n...   \n",
       "16  {'mean-projection-path': bc4d7d6c-681d-488f-8903-99e94436215c\\bc4d7d6c-681d-488f-8903-99e94436215c_mean_projection.n...   \n",
       "17  {'mean-projection-path': 28fef4c2-2348-44d1-99a7-8d95ea1f0ffa\\28fef4c2-2348-44d1-99a7-8d95ea1f0ffa_mean_projection.n...   \n",
       "18  {'mean-projection-path': 48b854f6-1cf7-4856-a39b-e9de924621a1\\48b854f6-1cf7-4856-a39b-e9de924621a1_mean_projection.n...   \n",
       "19  {'mean-projection-path': 4057efb4-757e-4de9-8d86-a5c7eff85980\\4057efb4-757e-4de9-8d86-a5c7eff85980_mean_projection.n...   \n",
       "20  {'mean-projection-path': 51e3b733-e54d-4f8a-96fa-3f840499669a\\51e3b733-e54d-4f8a-96fa-3f840499669a_mean_projection.n...   \n",
       "21  {'mean-projection-path': 3bdd13ae-6c35-41e2-aaa1-7fc9e997e348\\3bdd13ae-6c35-41e2-aaa1-7fc9e997e348_mean_projection.n...   \n",
       "22  {'mean-projection-path': bfe3daab-04d2-4ec6-b0ae-85836c7cef41\\bfe3daab-04d2-4ec6-b0ae-85836c7cef41_mean_projection.n...   \n",
       "23  {'mean-projection-path': 71ccc02b-b081-4951-a97d-5f546262d3d7\\71ccc02b-b081-4951-a97d-5f546262d3d7_mean_projection.n...   \n",
       "24  {'mean-projection-path': 2151a11f-203b-4c87-94fd-6110581f3ccb\\2151a11f-203b-4c87-94fd-6110581f3ccb_mean_projection.n...   \n",
       "25  {'mean-projection-path': 24f69565-ecde-4a39-9230-f05bd6a2a4cc\\24f69565-ecde-4a39-9230-f05bd6a2a4cc_mean_projection.n...   \n",
       "26  {'mean-projection-path': 3ad2b11c-a274-44dd-9755-1f66a84ee15f\\3ad2b11c-a274-44dd-9755-1f66a84ee15f_mean_projection.n...   \n",
       "27  {'mean-projection-path': df5e2804-5a8c-4a0d-9acd-53165f1ffe12\\df5e2804-5a8c-4a0d-9acd-53165f1ffe12_mean_projection.n...   \n",
       "28  {'mean-projection-path': 2721a961-88d8-41cd-ab46-8b291aa6f92c\\2721a961-88d8-41cd-ab46-8b291aa6f92c_mean_projection.n...   \n",
       "29  {'mean-projection-path': ce4a07ed-7b9d-4cb4-a5e9-23e75e97e0f2\\ce4a07ed-7b9d-4cb4-a5e9-23e75e97e0f2_mean_projection.n...   \n",
       "\n",
       "             added_time             ran_time algo_duration comments  \\\n",
       "0   2024-12-06T12:49:01  2024-12-06T12:57:02    248.16 sec     None   \n",
       "1   2024-12-06T14:59:55  2024-12-06T15:04:08     246.5 sec     None   \n",
       "2   2024-12-06T14:59:55  2024-12-06T15:08:19    250.41 sec     None   \n",
       "3   2024-12-06T14:59:55  2024-12-06T15:12:31    252.04 sec     None   \n",
       "4   2024-12-06T14:59:55  2024-12-06T15:16:44    252.66 sec     None   \n",
       "5   2024-12-06T14:59:55  2024-12-06T15:20:57    253.18 sec     None   \n",
       "6   2024-12-06T14:59:55  2024-12-06T15:25:09    250.99 sec     None   \n",
       "7   2024-12-06T14:59:55  2024-12-06T15:29:21    251.84 sec     None   \n",
       "8   2024-12-06T14:59:55  2024-12-06T15:33:30    248.93 sec     None   \n",
       "9   2024-12-06T14:59:55  2024-12-06T15:37:39     248.9 sec     None   \n",
       "10  2024-12-06T14:59:55  2024-12-06T15:41:47    248.39 sec     None   \n",
       "11  2024-12-06T14:59:55  2024-12-06T15:45:59    251.17 sec     None   \n",
       "12  2024-12-06T14:59:55  2024-12-06T15:50:10    251.53 sec     None   \n",
       "13  2024-12-06T14:59:55  2024-12-06T15:54:21    249.86 sec     None   \n",
       "14  2024-12-06T14:59:55  2024-12-06T15:58:31    250.51 sec     None   \n",
       "15  2024-12-06T14:59:55  2024-12-06T16:01:55    203.93 sec     None   \n",
       "16  2024-12-06T14:59:55  2024-12-06T16:04:21    145.62 sec     None   \n",
       "17  2024-12-06T14:59:55  2024-12-06T16:06:47    145.61 sec     None   \n",
       "18  2024-12-06T14:59:55  2024-12-06T16:09:46    179.33 sec     None   \n",
       "19  2024-12-06T14:59:55  2024-12-06T16:13:57    250.85 sec     None   \n",
       "20  2024-12-06T14:59:55  2024-12-06T16:18:06    248.78 sec     None   \n",
       "21  2024-12-06T14:59:55  2024-12-06T16:22:18    251.44 sec     None   \n",
       "22  2024-12-06T14:59:55  2024-12-06T16:26:31    252.54 sec     None   \n",
       "23  2024-12-06T14:59:55  2024-12-06T16:30:42     251.3 sec     None   \n",
       "24  2024-12-06T14:59:55  2024-12-06T16:34:54    252.09 sec     None   \n",
       "25  2024-12-06T14:59:55  2024-12-06T16:39:05    250.53 sec     None   \n",
       "26  2024-12-06T14:59:55  2024-12-06T16:43:14    248.37 sec     None   \n",
       "27  2024-12-06T14:59:55  2024-12-06T16:47:23    249.31 sec     None   \n",
       "28  2024-12-06T14:59:55  2024-12-06T16:51:32    248.92 sec     None   \n",
       "29  2024-12-06T14:59:55  2024-12-06T16:55:44    251.19 sec     None   \n",
       "\n",
       "                                    uuid  \n",
       "0   d2323217-2056-4681-9656-2ddebc721ac4  \n",
       "1   61304ca6-5926-40ee-a769-77cc7baef155  \n",
       "2   f8e52582-bdbc-40cd-aeee-b21742053d3e  \n",
       "3   4879bb5f-b35f-4f83-83f3-5fe74515bcae  \n",
       "4   d7a820f6-3838-4faf-9e1d-25a5caa9345d  \n",
       "5   707fa711-d8e1-457f-be19-ae530dbf6320  \n",
       "6   c32aa81d-e6d2-41a6-9206-eeed2dfd033a  \n",
       "7   676e935b-15e3-49ae-bbac-575e0e52dac6  \n",
       "8   aef5cb01-b47a-4308-9110-0b16b16b8440  \n",
       "9   6b973436-e9db-40e5-be52-882fe29efc75  \n",
       "10  312445b1-0369-469e-8524-a99caac1c0b8  \n",
       "11  94be9b15-10f5-4703-b3c6-0bef6ec2c781  \n",
       "12  04716ea4-067d-44ed-b3f8-f359417ae2cf  \n",
       "13  2ea94922-c6c2-497f-8711-61351d378d64  \n",
       "14  5e7d157a-f0be-433c-a88d-da4fd63102bf  \n",
       "15  2273528d-2105-4296-8344-7a6ccb1f0fd8  \n",
       "16  bc4d7d6c-681d-488f-8903-99e94436215c  \n",
       "17  28fef4c2-2348-44d1-99a7-8d95ea1f0ffa  \n",
       "18  48b854f6-1cf7-4856-a39b-e9de924621a1  \n",
       "19  4057efb4-757e-4de9-8d86-a5c7eff85980  \n",
       "20  51e3b733-e54d-4f8a-96fa-3f840499669a  \n",
       "21  3bdd13ae-6c35-41e2-aaa1-7fc9e997e348  \n",
       "22  bfe3daab-04d2-4ec6-b0ae-85836c7cef41  \n",
       "23  71ccc02b-b081-4951-a97d-5f546262d3d7  \n",
       "24  2151a11f-203b-4c87-94fd-6110581f3ccb  \n",
       "25  24f69565-ecde-4a39-9230-f05bd6a2a4cc  \n",
       "26  3ad2b11c-a274-44dd-9755-1f66a84ee15f  \n",
       "27  df5e2804-5a8c-4a0d-9acd-53165f1ffe12  \n",
       "28  2721a961-88d8-41cd-ab46-8b291aa6f92c  \n",
       "29  ce4a07ed-7b9d-4cb4-a5e9-23e75e97e0f2  "
      ]
     },
     "execution_count": 32,
     "metadata": {},
     "output_type": "execute_result"
    }
   ],
   "source": [
    "# Load MCORR batch and set raw data path\n",
    "\n",
    "parent_path = Path().home() / \"caiman_data\"\n",
    "data_path = parent_path / 'out'                # where the output files from the assembly step are located\n",
    "mcorr_batch_path = data_path / 'batch.pickle'  # same as motion correction \n",
    "\n",
    "mc.set_parent_raw_data_path(str(parent_path))\n",
    "\n",
    "mcorr_df = mc.load_batch(mcorr_batch_path)\n",
    "mcorr_df"
   ]
  },
  {
   "cell_type": "code",
   "execution_count": 33,
   "id": "d38548f9-60f4-438a-b225-f5436dd92ae2",
   "metadata": {
    "execution": {
     "iopub.execute_input": "2024-12-07T19:24:48.611922Z",
     "iopub.status.busy": "2024-12-07T19:24:48.611922Z",
     "iopub.status.idle": "2024-12-07T19:24:48.622935Z",
     "shell.execute_reply": "2024-12-07T19:24:48.622935Z",
     "shell.execute_reply.started": "2024-12-07T19:24:48.611922Z"
    }
   },
   "outputs": [],
   "source": [
    "# Now create/load a new CNMF batch\n",
    "cnmf_df_path = data_path / 'cnmf_batch.pickle'\n",
    "if not cnmf_df_path.exists():\n",
    "    print(f'creating batch: {cnmf_df_path}')\n",
    "    cnmf_df = mc.create_batch(cnmf_df_path)\n",
    "else:\n",
    "    cnmf_df = mc.load_batch(cnmf_df_path)"
   ]
  },
  {
   "cell_type": "code",
   "execution_count": 34,
   "id": "cbabb219-5c9d-418e-8c28-126b6f489083",
   "metadata": {
    "execution": {
     "iopub.execute_input": "2024-12-07T19:24:55.893313Z",
     "iopub.status.busy": "2024-12-07T19:24:55.893313Z",
     "iopub.status.idle": "2024-12-07T19:24:55.909025Z",
     "shell.execute_reply": "2024-12-07T19:24:55.909025Z",
     "shell.execute_reply.started": "2024-12-07T19:24:55.893313Z"
    }
   },
   "outputs": [
    {
     "data": {
      "text/html": [
       "<div>\n",
       "<style scoped>\n",
       "    .dataframe tbody tr th:only-of-type {\n",
       "        vertical-align: middle;\n",
       "    }\n",
       "\n",
       "    .dataframe tbody tr th {\n",
       "        vertical-align: top;\n",
       "    }\n",
       "\n",
       "    .dataframe thead th {\n",
       "        text-align: right;\n",
       "    }\n",
       "</style>\n",
       "<table border=\"1\" class=\"dataframe\">\n",
       "  <thead>\n",
       "    <tr style=\"text-align: right;\">\n",
       "      <th></th>\n",
       "      <th>algo</th>\n",
       "      <th>item_name</th>\n",
       "      <th>input_movie_path</th>\n",
       "      <th>params</th>\n",
       "      <th>outputs</th>\n",
       "      <th>added_time</th>\n",
       "      <th>ran_time</th>\n",
       "      <th>algo_duration</th>\n",
       "      <th>comments</th>\n",
       "      <th>uuid</th>\n",
       "    </tr>\n",
       "  </thead>\n",
       "  <tbody>\n",
       "  </tbody>\n",
       "</table>\n",
       "</div>"
      ],
      "text/plain": [
       "Empty DataFrame\n",
       "Columns: [algo, item_name, input_movie_path, params, outputs, added_time, ran_time, algo_duration, comments, uuid]\n",
       "Index: []"
      ]
     },
     "execution_count": 34,
     "metadata": {},
     "output_type": "execute_result"
    }
   ],
   "source": [
    "cnmf_df"
   ]
  },
  {
   "cell_type": "markdown",
   "id": "a6f4ffc0",
   "metadata": {},
   "source": [
    "- [get_input_movie_path()](https://mesmerize-core.readthedocs.io/en/latest/api/common.html#mesmerize_core.CaimanSeriesExtensions.get_input_movie_path) allows us to easily get filepaths to our raw files"
   ]
  },
  {
   "cell_type": "code",
   "execution_count": 35,
   "id": "8533001c",
   "metadata": {
    "ExecuteTime": {
     "end_time": "2024-12-02T14:39:08.999594Z",
     "start_time": "2024-12-02T14:39:08.949428Z"
    },
    "execution": {
     "iopub.execute_input": "2024-12-07T19:25:04.071169Z",
     "iopub.status.busy": "2024-12-07T19:25:04.064656Z",
     "iopub.status.idle": "2024-12-07T19:25:04.097263Z",
     "shell.execute_reply": "2024-12-07T19:25:04.097263Z",
     "shell.execute_reply.started": "2024-12-07T19:25:04.071169Z"
    }
   },
   "outputs": [],
   "source": [
    "# we get metadata from our raw files\n",
    "tiff_files = [mcorr_df.iloc[i].caiman.get_input_movie_path() for i in mcorr_df.index]\n",
    "metadata = get_metadata(tiff_files[0])"
   ]
  },
  {
   "cell_type": "markdown",
   "id": "6dc1260b-634c-49cc-b99b-10c44b3af72d",
   "metadata": {
    "pycharm": {
     "name": "#%% md\n"
    }
   },
   "source": [
    "# CNMF\n",
    "\n",
    "Run the CaImAn `CNMF` algorithm using the mcorr output obtained in the last processing step."
   ]
  },
  {
   "cell_type": "markdown",
   "id": "4628d805",
   "metadata": {},
   "source": [
    "## Parameters\n",
    "In general in Caiman, estimators are first initialized with a set of parameters, and then they are fit against actual data in a separate step.\n",
    "\n",
    "In this section, we'll define a `parameters` object that will subsequently be used to initialize our different estimators. "
   ]
  },
  {
   "cell_type": "markdown",
   "id": "273aee5b",
   "metadata": {},
   "source": [
    "| Parameter       | Description                                                                                                                                                                                                                                                                             | Default/Typical Value                        |\n",
    "|------------------|-----------------------------------------------------------------------------------------------------------------------------------------------------------------------------------------------------------------------------------------------------------------------------------------|---------------------------------------------|\n",
    "| `decay_time`    | Length of a typical transient in seconds. Approximation of the time scale for significant shifts in calcium signal. Defaults to `0.4` for fast indicators (e.g., GCaMP6f). Use `1` or more for slow indicators. Precise fitting is not necessary.                                       | 0.4 (fast indicators)                       |\n",
    "| `p`             | Order of the autoregressive model. Use `p=0` to turn off deconvolution. Set `p=1` for instantaneous transients (e.g., low sample rate or slow indicator). Set `p=2` for visible rise time transients. Incorrect order leads to unreliable spike extraction.                              | 1 (slow), 2 (visible rise time)             |\n",
    "| `nb`            | Number of global background components. Defaults to `2` for relatively homogeneous backgrounds. Use `3` for more complex noise, `1` is usually too low. Too low `nb` causes noisy traces; too high absorbs neuronal signals, reducing transients.                                       | 2                                           |\n",
    "| `merge_thr`     | Merging threshold for components after initialization. Components correlated above this threshold are merged, useful for splitting neurons during initialization.                                                                                                                       | Typically between 0.7 and 0.9               |\n",
    "| `rf`            | Half-size of patches in pixels. Should be at least 3–4 times larger than neuron size to capture the neuron and local background. Larger patches reduce parallelization.                                                                                                                | 3–4 × expected neuron size                  |\n",
    "| `stride`        | Overlap between patches in pixels. Typically set to neuron diameter. Larger values increase computational load but improve reconstruction/denoising.                                                                                                                                | Neuron diameter (~10–20 pixels)             |\n",
    "| `K`             | Expected number of components per patch. Adjust based on patch size (`rf`) and component density.                                                                                                                                                                                     | Varies based on data                        |\n",
    "| `gSig`          | Expected half-size of neurons in pixels `[rows X columns]`. This is a **crucial** parameter for accurate component detection.                                                                                                                                                        | Typically matches neuron half-size          |\n",
    "| `method_init`   | Initialization method. Depends on the recording method: use `greedy_roi` for 2p data, `corr_pnr` for 1p data, and `sparse_nmf` for dendritic/axonal data.                                                                                                                              | `greedy_roi`, `corr_pnr`, `sparse_nmf`      |\n",
    "| `ssub/tsub`     | Spatial and temporal subsampling during initialization. Defaults to `1` (no compression). Increase (e.g., `2` or more) to save resources but at the potential cost of impaired detection/extraction quality.                                                                           | 1 (no compression), 2+ (for resource saving)|"
   ]
  },
  {
   "cell_type": "markdown",
   "id": "d0e12efa",
   "metadata": {},
   "source": [
    "[Decay times](https://www.janelia.org/jgcamp8-calcium-indicators)\n",
    "\n",
    "| Protein            | Max dF/F   | Half-rise time (ms)   | Time to peak (ms)   | Half-decay time (ms)   |\n",
    "|:-------------------|:-----------|:----------------------|:--------------------|:-----------------------|\n",
    "| jGCaMP7f (control) | 0.21±0.1   | 24.8±6.6              | 99.5±30.2           | 181.9±76.0             |\n",
    "| jGCaMP8f           | 0.41±0.12  | 7.1±0.74              | 24.8±6.1            | 67.4±11.2              |\n",
    "| jGCaMP8m           | 0.76±0.22  | 7.1±0.61              | 29.0±11.2           | 118.3±13.2             |\n",
    "| jGCaMP8s           | 1.11±0.22  | 10.1±0.86             | 57.0±12.9           | 306.7±32.2             |\n",
    "| jGCaMP8.712*       | 0.66±0.18  | 10.9±1.24             | 41.6±8.1            | 94.8±13.3              |"
   ]
  },
  {
   "cell_type": "markdown",
   "id": "b3c91f8c",
   "metadata": {},
   "source": [
    "```{note} A note on strides and overlaps\n",
    "\n",
    "For registration, the `strides` and `overlaps` have influence on the quality of the results as each patch is processed individually and merged.\n",
    "\n",
    "For segmentation, the equivalent `stride` and `rf` parameters (yes, confusing) only influence the processing time and not the qualty of the result.\n",
    "```"
   ]
  },
  {
   "cell_type": "markdown",
   "id": "e6bdd4bb",
   "metadata": {},
   "source": [
    "## The most important step\n",
    "\n",
    "We need to tell CaImAn our neuron size, and how many neurons to expect.\n",
    "\n",
    "- `gSig`: Your neurons *half-size*, in `um`.\n",
    "\n",
    "    - if your typical neuron is `14um`, `gSig` should be around 6-10.\n",
    "\n",
    "- `K` : How many neurons should CaImAn expect, **PER PATCH**\n"
   ]
  },
  {
   "cell_type": "code",
   "execution_count": 36,
   "id": "fa374d6d-2c46-405e-8368-88c783bc9a66",
   "metadata": {
    "ExecuteTime": {
     "end_time": "2024-12-02T14:40:29.280538Z",
     "start_time": "2024-12-02T14:40:29.276620Z"
    },
    "execution": {
     "iopub.execute_input": "2024-12-07T19:25:29.837185Z",
     "iopub.status.busy": "2024-12-07T19:25:29.837185Z",
     "iopub.status.idle": "2024-12-07T19:25:29.846523Z",
     "shell.execute_reply": "2024-12-07T19:25:29.846402Z",
     "shell.execute_reply.started": "2024-12-07T19:25:29.837185Z"
    }
   },
   "outputs": [],
   "source": [
    "gSig = 7  # Set this to half the size of your neuron, so 7 um for an approximate neuron size of 12-15um. See motion_correction.ipynb for a visualization helping you determine this value.\n",
    "rf = 30\n",
    "stride = 12"
   ]
  },
  {
   "cell_type": "code",
   "execution_count": 37,
   "id": "f33c6406-cd89-4b92-9216-49dc932f581f",
   "metadata": {
    "execution": {
     "iopub.execute_input": "2024-12-07T19:25:34.002572Z",
     "iopub.status.busy": "2024-12-07T19:25:34.002572Z",
     "iopub.status.idle": "2024-12-07T19:25:34.035978Z",
     "shell.execute_reply": "2024-12-07T19:25:34.035978Z",
     "shell.execute_reply.started": "2024-12-07T19:25:34.002572Z"
    }
   },
   "outputs": [],
   "source": [
    "movie = mcorr_df.iloc[0].caiman.get_input_movie()"
   ]
  },
  {
   "cell_type": "code",
   "execution_count": 38,
   "id": "deb6e33a-16df-459e-bcdd-4c8449b1fa9d",
   "metadata": {
    "execution": {
     "iopub.execute_input": "2024-12-07T19:25:36.895347Z",
     "iopub.status.busy": "2024-12-07T19:25:36.895347Z",
     "iopub.status.idle": "2024-12-07T19:25:37.561729Z",
     "shell.execute_reply": "2024-12-07T19:25:37.561729Z",
     "shell.execute_reply.started": "2024-12-07T19:25:36.895347Z"
    }
   },
   "outputs": [],
   "source": [
    "cnmf_patch_width = rf*2 + 1\n",
    "cnmf_patch_overlap = stride + 1\n",
    "cnmf_patch_stride = cnmf_patch_width - cnmf_patch_overlap\n",
    "\n",
    "# plot the patches\n",
    "patch_ax = nb_view_quilt(np.max(movie, axis=0), rf, stride) "
   ]
  },
  {
   "cell_type": "code",
   "execution_count": 39,
   "id": "8a73dfc9-43fe-4ed3-8b8c-c1a99c4d25fa",
   "metadata": {
    "ExecuteTime": {
     "end_time": "2024-12-02T14:40:29.280538Z",
     "start_time": "2024-12-02T14:40:29.276620Z"
    },
    "execution": {
     "iopub.execute_input": "2024-12-07T19:25:52.854193Z",
     "iopub.status.busy": "2024-12-07T19:25:52.854193Z",
     "iopub.status.idle": "2024-12-07T19:25:52.870122Z",
     "shell.execute_reply": "2024-12-07T19:25:52.869992Z",
     "shell.execute_reply.started": "2024-12-07T19:25:52.854193Z"
    }
   },
   "outputs": [],
   "source": [
    "# parameters for component evaluation\n",
    "min_SNR = 1.5               # signal to noise ratio for accepting a component\n",
    "rval_thr = 0.80             # space correlation threshold for accepting a component\n",
    "\n",
    "params_cnmf =\\\n",
    "{\n",
    "    \"main\":\n",
    "    {\n",
    "        'fr': metadata['frame_rate'],\n",
    "        'use_cnn': False,                       # Will error if you set this to True without downloading the CNN model via caimanmanager install\n",
    "        'dxy': metadata['pixel_resolution'],\n",
    "        'method_init': 'greedy_roi',  # could also try 'corr_pnr'\n",
    "        'K': K,\n",
    "        'gSig': (gSig, gSig),\n",
    "        'gSiz': (2 * gSig + 1, 2 * gSig + 1),\n",
    "        'merge_thr': 0.7,\n",
    "        'p': 2,\n",
    "        'tsub': 1,\n",
    "        'ssub': 1,\n",
    "        'rf': rf,\n",
    "        'stride': stride,\n",
    "        'method_deconvolution': 'oasis',       # could use 'cvxpy' alternatively\n",
    "        'low_rank_background': None,\n",
    "        'update_background_components': True,  # defaults true, sometimes setting to False improve the results\n",
    "        # 'ring_size_factor': 1.4,             # if attempting CNMFE, this is the radius of ring (*gSig) for computing background during corr_pnr\n",
    "        'del_duplicates': True,                # whether to remove duplicates from initialization\n",
    "        'min_SNR': min_SNR,\n",
    "        'rval_thr': rval_thr,\n",
    "    }\n",
    "}"
   ]
  },
  {
   "cell_type": "markdown",
   "id": "32f7345d",
   "metadata": {},
   "source": [
    "`min_SNR` and `rval_thr` can be tuned with `mesmerize-viz` after processing is complete."
   ]
  },
  {
   "cell_type": "markdown",
   "id": "2b2c7c16-24a1-4893-976e-e52e7430a9c7",
   "metadata": {},
   "source": [
    "# Run CNMF\n",
    "\n",
    "The API is identical to running mcorr.\n",
    "\n",
    "You can provide the mcorr item row to `input_movie_path` and it will resolve the path of the input movie from the entry in the DataFrame."
   ]
  },
  {
   "cell_type": "code",
   "execution_count": 40,
   "id": "83bcc946-d5b1-4986-86df-b67d15ed9102",
   "metadata": {
    "ExecuteTime": {
     "end_time": "2024-12-02T14:41:03.768083Z",
     "start_time": "2024-12-02T14:41:03.761498Z"
    },
    "execution": {
     "iopub.execute_input": "2024-12-07T19:25:59.368349Z",
     "iopub.status.busy": "2024-12-07T19:25:59.368349Z",
     "iopub.status.idle": "2024-12-07T19:25:59.377809Z",
     "shell.execute_reply": "2024-12-07T19:25:59.377809Z",
     "shell.execute_reply.started": "2024-12-07T19:25:59.368349Z"
    }
   },
   "outputs": [],
   "source": [
    "cnmf_df = cnmf_df.caiman.reload_from_disk()\n",
    "\n",
    "cnmf_df.caiman.add_item(\n",
    "    algo='cnmf',\n",
    "    input_movie_path=mcorr_df.iloc[0], # our registration results row\n",
    "    params=params_cnmf,\n",
    "    item_name=f'{mcorr_df.iloc[0].item_name}_cnmf',\n",
    ")"
   ]
  },
  {
   "cell_type": "code",
   "execution_count": 42,
   "id": "581552a51a476726",
   "metadata": {
    "ExecuteTime": {
     "end_time": "2024-12-02T14:41:09.760331Z",
     "start_time": "2024-12-02T14:41:09.752489Z"
    },
    "execution": {
     "iopub.execute_input": "2024-12-07T19:26:30.856116Z",
     "iopub.status.busy": "2024-12-07T19:26:30.856116Z",
     "iopub.status.idle": "2024-12-07T19:26:30.884559Z",
     "shell.execute_reply": "2024-12-07T19:26:30.884559Z",
     "shell.execute_reply.started": "2024-12-07T19:26:30.856116Z"
    }
   },
   "outputs": [
    {
     "data": {
      "text/html": [
       "<div>\n",
       "<style scoped>\n",
       "    .dataframe tbody tr th:only-of-type {\n",
       "        vertical-align: middle;\n",
       "    }\n",
       "\n",
       "    .dataframe tbody tr th {\n",
       "        vertical-align: top;\n",
       "    }\n",
       "\n",
       "    .dataframe thead th {\n",
       "        text-align: right;\n",
       "    }\n",
       "</style>\n",
       "<table border=\"1\" class=\"dataframe\">\n",
       "  <thead>\n",
       "    <tr style=\"text-align: right;\">\n",
       "      <th></th>\n",
       "      <th>algo</th>\n",
       "      <th>item_name</th>\n",
       "      <th>input_movie_path</th>\n",
       "      <th>params</th>\n",
       "      <th>outputs</th>\n",
       "      <th>added_time</th>\n",
       "      <th>ran_time</th>\n",
       "      <th>algo_duration</th>\n",
       "      <th>comments</th>\n",
       "      <th>uuid</th>\n",
       "    </tr>\n",
       "  </thead>\n",
       "  <tbody>\n",
       "    <tr>\n",
       "      <th>0</th>\n",
       "      <td>cnmf</td>\n",
       "      <td>mcorr_cnmf</td>\n",
       "      <td>d2323217-2056-4681-9656-2ddebc721ac4\\d2323217-2056-4681-9656-2ddebc721ac4-plane_10_els__d1_600_d2_576_d3_1_order_F_f...</td>\n",
       "      <td>{'main': {'fr': 9.60806, 'use_cnn': False, 'dxy': (1.04, 1.0), 'method_init': 'greedy_roi', 'K': 50, 'gSig': (7, 7),...</td>\n",
       "      <td>None</td>\n",
       "      <td>2024-12-07T14:25:59</td>\n",
       "      <td>None</td>\n",
       "      <td>None</td>\n",
       "      <td>None</td>\n",
       "      <td>a5c2f791-6d1b-4712-a66f-2c92adde5d61</td>\n",
       "    </tr>\n",
       "  </tbody>\n",
       "</table>\n",
       "</div>"
      ],
      "text/plain": [
       "   algo   item_name  \\\n",
       "0  cnmf  mcorr_cnmf   \n",
       "\n",
       "                                                                                                          input_movie_path  \\\n",
       "0  d2323217-2056-4681-9656-2ddebc721ac4\\d2323217-2056-4681-9656-2ddebc721ac4-plane_10_els__d1_600_d2_576_d3_1_order_F_f...   \n",
       "\n",
       "                                                                                                                    params  \\\n",
       "0  {'main': {'fr': 9.60806, 'use_cnn': False, 'dxy': (1.04, 1.0), 'method_init': 'greedy_roi', 'K': 50, 'gSig': (7, 7),...   \n",
       "\n",
       "  outputs           added_time ran_time algo_duration comments  \\\n",
       "0    None  2024-12-07T14:25:59     None          None     None   \n",
       "\n",
       "                                   uuid  \n",
       "0  a5c2f791-6d1b-4712-a66f-2c92adde5d61  "
      ]
     },
     "execution_count": 42,
     "metadata": {},
     "output_type": "execute_result"
    }
   ],
   "source": [
    "cnmf_df"
   ]
  },
  {
   "cell_type": "markdown",
   "id": "0de7f5c3-4a17-4f6f-bce8-b5c42de6b739",
   "metadata": {},
   "source": [
    "```{warning}\n",
    "If calling `caiman.run()` on Windows, avoid queueing / calling other jupyter cells. This can lead to the algorithm stalling.\n",
    "```"
   ]
  },
  {
   "cell_type": "code",
   "execution_count": 43,
   "id": "28c11091",
   "metadata": {
    "ExecuteTime": {
     "end_time": "2024-12-02T14:51:05.347808Z",
     "start_time": "2024-12-02T14:41:18.646442Z"
    },
    "execution": {
     "iopub.execute_input": "2024-12-07T19:26:34.643845Z",
     "iopub.status.busy": "2024-12-07T19:26:34.643845Z",
     "iopub.status.idle": "2024-12-07T19:33:03.705293Z",
     "shell.execute_reply": "2024-12-07T19:33:03.705293Z",
     "shell.execute_reply.started": "2024-12-07T19:26:34.643845Z"
    }
   },
   "outputs": [
    {
     "name": "stdout",
     "output_type": "stream",
     "text": [
      "Running a5c2f791-6d1b-4712-a66f-2c92adde5d61 with local backend\n",
      "************************************************************************\n",
      "\n",
      "Starting CNMF item:\n",
      "algo                                                                                                                                   cnmf\n",
      "item_name                                                                                                                        mcorr_cnmf\n",
      "input_movie_path    d2323217-2056-4681-9656-2ddebc721ac4\\d2323217-2056-4681-9656-2ddebc721ac4-plane_10_els__d1_600_d2_576_d3_1_order_F_f...\n",
      "params              {'main': {'fr': 9.60806, 'use_cnn': False, 'dxy': (1.04, 1.0), 'method_init': 'greedy_roi', 'K': 50, 'gSig': (7, 7),...\n",
      "outputs                                                                                                                                None\n",
      "added_time                                                                                                              2024-12-07T14:25:59\n",
      "ran_time                                                                                                                               None\n",
      "algo_duration                                                                                                                          None\n",
      "comments                                                                                                                               None\n",
      "uuid                                                                                                   a5c2f791-6d1b-4712-a66f-2c92adde5d61\n",
      "Name: 0, dtype: object\n",
      "With params:{'main': {'fr': 9.60806, 'use_cnn': False, 'dxy': (1.04, 1.0), 'method_init': 'greedy_roi', 'K': 50, 'gSig': (7, 7), 'gSiz': (15, 15), 'merge_thr': 0.7, 'p': 2, 'tsub': 1, 'ssub': 1, 'rf': 30, 'stride': 12, 'method_deconvolution': 'oasis', 'low_rank_background': None, 'update_background_components': True, 'del_duplicates': True, 'min_SNR': 1.5, 'rval_thr': 0.8}}\n"
     ]
    },
    {
     "name": "stderr",
     "output_type": "stream",
     "text": [
      "C:\\Users\\RBO\\miniforge3\\envs\\lcp\\lib\\site-packages\\caiman\\cluster.py:225: DeprecationWarning: The 'warn' method is deprecated, use 'warning' instead\n",
      "  logger.warn('The local backend is an alias for the multiprocessing backend, and the alias may be removed in some future version of Caiman')\n",
      "    84286018 [cluster.py:setup_cluster():225] [16948] The local backend is an alias for the multiprocessing backend, and the alias may be removed in some future version of Caiman\n",
      "    84286018 [cluster.py:setup_cluster():225] [16948] The local backend is an alias for the multiprocessing backend, and the alias may be removed in some future version of Caiman\n",
      "    84286018 [cluster.py:setup_cluster():225] [16948] The local backend is an alias for the multiprocessing backend, and the alias may be removed in some future version of Caiman\n",
      "    84286018 [cluster.py:setup_cluster():225] [16948] The local backend is an alias for the multiprocessing backend, and the alias may be removed in some future version of Caiman\n",
      "    84286018 [cluster.py:setup_cluster():225] [16948] The local backend is an alias for the multiprocessing backend, and the alias may be removed in some future version of Caiman\n",
      "    84286018 [cluster.py:setup_cluster():225] [16948] The local backend is an alias for the multiprocessing backend, and the alias may be removed in some future version of Caiman\n",
      "    84286106 [params.py:change_params():1151] [16948] In setting CNMFParams, non-pathed parameters were used; this is deprecated. In some future version of Caiman, allow_legacy will default to False (and eventually will be removed)\n",
      "    84286106 [params.py:change_params():1151] [16948] In setting CNMFParams, non-pathed parameters were used; this is deprecated. In some future version of Caiman, allow_legacy will default to False (and eventually will be removed)\n",
      "    84286106 [params.py:change_params():1151] [16948] In setting CNMFParams, non-pathed parameters were used; this is deprecated. In some future version of Caiman, allow_legacy will default to False (and eventually will be removed)\n",
      "    84286106 [params.py:change_params():1151] [16948] In setting CNMFParams, non-pathed parameters were used; this is deprecated. In some future version of Caiman, allow_legacy will default to False (and eventually will be removed)\n",
      "    84286106 [params.py:change_params():1151] [16948] In setting CNMFParams, non-pathed parameters were used; this is deprecated. In some future version of Caiman, allow_legacy will default to False (and eventually will be removed)\n",
      "    84286106 [params.py:change_params():1151] [16948] In setting CNMFParams, non-pathed parameters were used; this is deprecated. In some future version of Caiman, allow_legacy will default to False (and eventually will be removed)\n",
      "    84292449 [paths.py:get_tempdir():46] [16948] Default temporary dir C:\\Users\\RBO\\caiman_data\\temp does not exist, creating\n",
      "    84292449 [paths.py:get_tempdir():46] [16948] Default temporary dir C:\\Users\\RBO\\caiman_data\\temp does not exist, creating\n",
      "    84292449 [paths.py:get_tempdir():46] [16948] Default temporary dir C:\\Users\\RBO\\caiman_data\\temp does not exist, creating\n",
      "    84292449 [paths.py:get_tempdir():46] [16948] Default temporary dir C:\\Users\\RBO\\caiman_data\\temp does not exist, creating\n",
      "    84292449 [paths.py:get_tempdir():46] [16948] Default temporary dir C:\\Users\\RBO\\caiman_data\\temp does not exist, creating\n",
      "    84292449 [paths.py:get_tempdir():46] [16948] Default temporary dir C:\\Users\\RBO\\caiman_data\\temp does not exist, creating\n"
     ]
    },
    {
     "name": "stdout",
     "output_type": "stream",
     "text": [
      "making memmap\n"
     ]
    },
    {
     "name": "stderr",
     "output_type": "stream",
     "text": [
      "C:\\Users\\RBO\\miniforge3\\envs\\lcp\\lib\\site-packages\\caiman\\cluster.py:225: DeprecationWarning: The 'warn' method is deprecated, use 'warning' instead\n",
      "  logger.warn('The local backend is an alias for the multiprocessing backend, and the alias may be removed in some future version of Caiman')\n",
      "    84303193 [cluster.py:setup_cluster():225] [16948] The local backend is an alias for the multiprocessing backend, and the alias may be removed in some future version of Caiman\n",
      "    84303193 [cluster.py:setup_cluster():225] [16948] The local backend is an alias for the multiprocessing backend, and the alias may be removed in some future version of Caiman\n",
      "    84303193 [cluster.py:setup_cluster():225] [16948] The local backend is an alias for the multiprocessing backend, and the alias may be removed in some future version of Caiman\n",
      "    84303193 [cluster.py:setup_cluster():225] [16948] The local backend is an alias for the multiprocessing backend, and the alias may be removed in some future version of Caiman\n",
      "    84303193 [cluster.py:setup_cluster():225] [16948] The local backend is an alias for the multiprocessing backend, and the alias may be removed in some future version of Caiman\n",
      "    84303193 [cluster.py:setup_cluster():225] [16948] The local backend is an alias for the multiprocessing backend, and the alias may be removed in some future version of Caiman\n"
     ]
    },
    {
     "name": "stdout",
     "output_type": "stream",
     "text": [
      "performing CNMF\n",
      "fitting images\n",
      "performing eval\n"
     ]
    },
    {
     "data": {
      "text/plain": [
       "<mesmerize_core.caiman_extensions.common.DummyProcess at 0x27da3eca4d0>"
      ]
     },
     "execution_count": 43,
     "metadata": {},
     "output_type": "execute_result"
    }
   ],
   "source": [
    "cnmf_df.iloc[-1].caiman.run()"
   ]
  },
  {
   "cell_type": "markdown",
   "id": "ff84d1da",
   "metadata": {},
   "source": [
    "## Checking for an errors\n",
    "\n",
    "After a batch run, check the results to make sure the outputs do not contain a \"traceback\" error.\n",
    "\n",
    "An error-free processing run will yield \"None\" in the cell below. Otherwise, an error will be printed."
   ]
  },
  {
   "cell_type": "code",
   "execution_count": 44,
   "id": "ec890a23",
   "metadata": {
    "ExecuteTime": {
     "end_time": "2024-12-02T14:53:26.828834Z",
     "start_time": "2024-12-02T14:53:26.823176Z"
    },
    "execution": {
     "iopub.execute_input": "2024-12-07T19:35:07.057280Z",
     "iopub.status.busy": "2024-12-07T19:35:07.057280Z",
     "iopub.status.idle": "2024-12-07T19:35:07.096312Z",
     "shell.execute_reply": "2024-12-07T19:35:07.096312Z",
     "shell.execute_reply.started": "2024-12-07T19:35:07.057280Z"
    }
   },
   "outputs": [
    {
     "ename": "TypeError",
     "evalue": "'NoneType' object is not subscriptable",
     "output_type": "error",
     "traceback": [
      "\u001b[1;31m---------------------------------------------------------\u001b[0m",
      "\u001b[1;31mTypeError\u001b[0m               Traceback (most recent call last)",
      "Cell \u001b[1;32mIn[44], line 2\u001b[0m\n\u001b[0;32m      1\u001b[0m \u001b[38;5;28;01mimport\u001b[39;00m \u001b[38;5;21;01mpprint\u001b[39;00m\n\u001b[1;32m----> 2\u001b[0m pprint\u001b[38;5;241m.\u001b[39mpprint(\u001b[43mcnmf_df\u001b[49m\u001b[38;5;241;43m.\u001b[39;49m\u001b[43miloc\u001b[49m\u001b[43m[\u001b[49m\u001b[38;5;241;43m-\u001b[39;49m\u001b[38;5;241;43m1\u001b[39;49m\u001b[43m]\u001b[49m\u001b[38;5;241;43m.\u001b[39;49m\u001b[43moutputs\u001b[49m\u001b[43m[\u001b[49m\u001b[38;5;124;43m\"\u001b[39;49m\u001b[38;5;124;43mtraceback\u001b[39;49m\u001b[38;5;124;43m\"\u001b[39;49m\u001b[43m]\u001b[49m)\n",
      "\u001b[1;31mTypeError\u001b[0m: 'NoneType' object is not subscriptable"
     ]
    }
   ],
   "source": [
    "import pprint\n",
    "pprint.pprint(cnmf_df.iloc[-1].outputs[\"traceback\"])"
   ]
  },
  {
   "cell_type": "code",
   "execution_count": 17,
   "id": "534c34fae52384dc",
   "metadata": {
    "ExecuteTime": {
     "end_time": "2024-12-02T14:53:28.310647Z",
     "start_time": "2024-12-02T14:53:28.303924Z"
    }
   },
   "outputs": [
    {
     "data": {
      "text/html": [
       "<div>\n",
       "<style scoped>\n",
       "    .dataframe tbody tr th:only-of-type {\n",
       "        vertical-align: middle;\n",
       "    }\n",
       "\n",
       "    .dataframe tbody tr th {\n",
       "        vertical-align: top;\n",
       "    }\n",
       "\n",
       "    .dataframe thead th {\n",
       "        text-align: right;\n",
       "    }\n",
       "</style>\n",
       "<table border=\"1\" class=\"dataframe\">\n",
       "  <thead>\n",
       "    <tr style=\"text-align: right;\">\n",
       "      <th></th>\n",
       "      <th>algo</th>\n",
       "      <th>item_name</th>\n",
       "      <th>input_movie_path</th>\n",
       "      <th>params</th>\n",
       "      <th>outputs</th>\n",
       "      <th>added_time</th>\n",
       "      <th>ran_time</th>\n",
       "      <th>algo_duration</th>\n",
       "      <th>comments</th>\n",
       "      <th>uuid</th>\n",
       "    </tr>\n",
       "  </thead>\n",
       "  <tbody>\n",
       "    <tr>\n",
       "      <th>0</th>\n",
       "      <td>cnmf</td>\n",
       "      <td>plane_1_cnmf</td>\n",
       "      <td>a8f0f15d-d2a7-4ab8-92d1-9dc05ebcbc89/a8f0f15d-d2a7-4ab8-92d1-9dc05ebcbc89-plane_1_els__d1_600_d2_576_d3_1_order_F_fr...</td>\n",
       "      <td>{'main': {'fr': 9.60806, 'use_cnn': False, 'dxy': (1.04, 1.0), 'method_init': 'greedy_roi', 'K': 50, 'gSig': (7, 7),...</td>\n",
       "      <td>{'mean-projection-path': 55ee2c5b-cbc8-4fe3-b816-628fca029fba/55ee2c5b-cbc8-4fe3-b816-628fca029fba_mean_projection.n...</td>\n",
       "      <td>2024-12-02T09:41:03</td>\n",
       "      <td>2024-12-02T09:51:04</td>\n",
       "      <td>582.92 sec</td>\n",
       "      <td>None</td>\n",
       "      <td>55ee2c5b-cbc8-4fe3-b816-628fca029fba</td>\n",
       "    </tr>\n",
       "  </tbody>\n",
       "</table>\n",
       "</div>"
      ],
      "text/plain": [
       "   algo     item_name  \\\n",
       "0  cnmf  plane_1_cnmf   \n",
       "\n",
       "                                                                                                          input_movie_path  \\\n",
       "0  a8f0f15d-d2a7-4ab8-92d1-9dc05ebcbc89/a8f0f15d-d2a7-4ab8-92d1-9dc05ebcbc89-plane_1_els__d1_600_d2_576_d3_1_order_F_fr...   \n",
       "\n",
       "                                                                                                                    params  \\\n",
       "0  {'main': {'fr': 9.60806, 'use_cnn': False, 'dxy': (1.04, 1.0), 'method_init': 'greedy_roi', 'K': 50, 'gSig': (7, 7),...   \n",
       "\n",
       "                                                                                                                   outputs  \\\n",
       "0  {'mean-projection-path': 55ee2c5b-cbc8-4fe3-b816-628fca029fba/55ee2c5b-cbc8-4fe3-b816-628fca029fba_mean_projection.n...   \n",
       "\n",
       "            added_time             ran_time algo_duration comments  \\\n",
       "0  2024-12-02T09:41:03  2024-12-02T09:51:04    582.92 sec     None   \n",
       "\n",
       "                                   uuid  \n",
       "0  55ee2c5b-cbc8-4fe3-b816-628fca029fba  "
      ]
     },
     "execution_count": 17,
     "metadata": {},
     "output_type": "execute_result"
    }
   ],
   "source": [
    "cnmf_df = cnmf_df.caiman.reload_from_disk()\n",
    "cnmf_df"
   ]
  },
  {
   "cell_type": "markdown",
   "id": "c1128142-282d-43f7-83c2-0408066b5f66",
   "metadata": {},
   "source": [
    "# CNMF outputs\n",
    "\n",
    "Similar to mcorr, you can use the `mesmerize-core` API to fetch the outputs.\n",
    "\n",
    "[API reference for mesmerize-CNMF](https://mesmerize-core.readthedocs.io/en/latest/api/cnmf.html)\n",
    "[API reference for caiman-CNMF](https://caiman.readthedocs.io/en/latest/Getting_Started.html#parameters)"
   ]
  },
  {
   "cell_type": "markdown",
   "id": "7443e540",
   "metadata": {},
   "source": [
    "## CNMF Object"
   ]
  },
  {
   "cell_type": "code",
   "execution_count": 19,
   "id": "973144db",
   "metadata": {
    "ExecuteTime": {
     "end_time": "2024-12-02T14:53:47.972368Z",
     "start_time": "2024-12-02T14:53:47.356804Z"
    }
   },
   "outputs": [],
   "source": [
    "mcorr_movie = df_mcorr.iloc[0].mcorr.get_output()\n",
    "cnmf_model = df.iloc[0].cnmf.get_output()"
   ]
  },
  {
   "cell_type": "code",
   "execution_count": 21,
   "id": "68f590f3",
   "metadata": {
    "ExecuteTime": {
     "end_time": "2024-12-02T14:54:20.881130Z",
     "start_time": "2024-12-02T14:54:20.878441Z"
    }
   },
   "outputs": [
    {
     "name": "stdout",
     "output_type": "stream",
     "text": [
      "Number of traces: 4794\n"
     ]
    }
   ],
   "source": [
    "num_traces = cnmf_model.estimates.C\n",
    "print(f'Number of traces: {num_traces.shape[0]}')"
   ]
  },
  {
   "cell_type": "code",
   "execution_count": 22,
   "id": "b6f38c74",
   "metadata": {
    "ExecuteTime": {
     "end_time": "2024-12-02T14:54:42.299233Z",
     "start_time": "2024-12-02T14:54:32.704876Z"
    }
   },
   "outputs": [],
   "source": [
    "corr, pnr = correlation_pnr(mcorr_movie[::2], gSig=gSig, swap_dim=False)"
   ]
  },
  {
   "cell_type": "markdown",
   "id": "b151d2f8",
   "metadata": {},
   "source": [
    "# Interactive Parameter Exploration"
   ]
  },
  {
   "cell_type": "code",
   "execution_count": 23,
   "id": "7ca4af12",
   "metadata": {
    "ExecuteTime": {
     "end_time": "2024-12-02T14:56:52.387129Z",
     "start_time": "2024-12-02T14:56:52.368977Z"
    }
   },
   "outputs": [
    {
     "data": {
      "application/vnd.jupyter.widget-view+json": {
       "model_id": "74ffcb554a8b49e89674b7222d9c805c",
       "version_major": 2,
       "version_minor": 0
      },
      "text/plain": [
       "interactive(children=(Text(value='/home/flynn/caiman_data/out', continuous_update=False, description='parent_p…"
      ]
     },
     "metadata": {},
     "output_type": "display_data"
    }
   ],
   "source": [
    "from ipywidgets import Tab, Text, Button, VBox, interact_manual, interactive\n",
    "@interact_manual(parent_path=str(parent_path), batch_path=str(cnmf_batch_path))\n",
    "def start_widget(parent_path, batch_path):\n",
    "    mc.set_parent_raw_data_path(parent_path)\n",
    "\n",
    "    df = mc.load_batch(batch_path)\n",
    "\n",
    "    tab = Tab()\n",
    "\n",
    "    # mcorr_container = df.mcorr.viz(start_index=0)\n",
    "    cnmf_container = df.cnmf.viz(start_index=19)\n",
    "\n",
    "    tab.children = [cnmf_container.show()]\n",
    "    tab.titles = [\"cnmf\"]\n",
    "    display(tab)"
   ]
  },
  {
   "cell_type": "markdown",
   "id": "b1d928b6",
   "metadata": {},
   "source": [
    "## Exploring spatial components (neuron masks) and temporal components (traces)"
   ]
  },
  {
   "cell_type": "code",
   "execution_count": 24,
   "id": "c2ccdd6b",
   "metadata": {
    "ExecuteTime": {
     "end_time": "2024-12-02T14:57:36.185794Z",
     "start_time": "2024-12-02T14:57:16.218467Z"
    }
   },
   "outputs": [
    {
     "name": "stdout",
     "output_type": "stream",
     "text": [
      "Temporal Components (good/bad): (2111, 1000) / (2683, 1000)\n",
      "Spatial Components (good/bad): (2111,) / (2683,)\n"
     ]
    }
   ],
   "source": [
    "index = -1  # the last item added\n",
    "\n",
    "rcb = df.iloc[index].cnmf.get_rcb()\n",
    "residuals = df.iloc[index].cnmf.get_residuals()\n",
    "input_movie = df.iloc[index].caiman.get_input_movie()\n",
    "\n",
    "# temporal components\n",
    "temporal = df.iloc[index].cnmf.get_temporal()\n",
    "\n",
    "temporal_good = df.iloc[index].cnmf.get_temporal(\"good\")\n",
    "temporal_bad = df.iloc[index].cnmf.get_temporal(\"bad\")\n",
    "\n",
    "temporal_with_residuals = df.iloc[index].cnmf.get_temporal(add_residuals=True)\n",
    "\n",
    "correlation_image = df.iloc[-1].caiman.get_corr_image()\n",
    "\n",
    "components_good = df.iloc[-1].cnmf.get_good_components()\n",
    "components_bad = df.iloc[-1].cnmf.get_bad_components()\n",
    "\n",
    "mean_img = df.iloc[-1].caiman.get_projection('mean')\n",
    "std_img = df.iloc[-1].caiman.get_projection('std')\n",
    "\n",
    "masks = df.iloc[-1].cnmf.get_masks()\n",
    "\n",
    "print(f'Temporal Components (good/bad): {temporal_good.shape} / {temporal_bad.shape}')\n",
    "print(f'Spatial Components (good/bad): {components_good.shape} / {components_bad.shape}')"
   ]
  },
  {
   "cell_type": "code",
   "execution_count": 25,
   "id": "0a6e682a",
   "metadata": {
    "ExecuteTime": {
     "end_time": "2024-12-02T14:58:41.311398Z",
     "start_time": "2024-12-02T14:58:24.702967Z"
    }
   },
   "outputs": [],
   "source": [
    "good_masks = df.iloc[-1].cnmf.get_masks('good')\n",
    "bad_masks = df.iloc[-1].cnmf.get_masks('bad')"
   ]
  },
  {
   "cell_type": "code",
   "execution_count": 27,
   "id": "57b5083f",
   "metadata": {
    "ExecuteTime": {
     "end_time": "2024-12-02T14:59:03.584063Z",
     "start_time": "2024-12-02T14:59:03.411400Z"
    }
   },
   "outputs": [
    {
     "data": {
      "text/plain": [
       "<matplotlib.image.AxesImage at 0x716c12144b90>"
      ]
     },
     "execution_count": 27,
     "metadata": {},
     "output_type": "execute_result"
    },
    {
     "data": {
      "image/png": "[encoded data removed]",
      "text/plain": [
       "<Figure size 640x480 with 2 Axes>"
      ]
     },
     "metadata": {},
     "output_type": "display_data"
    }
   ],
   "source": [
    "fig, ax = plt.subplots(1,2, sharey=True)\n",
    "ax[0].imshow(mean_img)\n",
    "ax[1].imshow(correlation_image)"
   ]
  },
  {
   "cell_type": "code",
   "execution_count": 28,
   "id": "e0ec2eed",
   "metadata": {
    "ExecuteTime": {
     "end_time": "2024-12-02T15:04:56.566969Z",
     "start_time": "2024-12-02T15:04:56.561871Z"
    }
   },
   "outputs": [
    {
     "data": {
      "text/plain": [
       "CNMFParams:\n",
       "\n",
       "data:\n",
       "\n",
       "{'caiman_version': '1.11.3',\n",
       " 'decay_time': 0.4,\n",
       " 'dims': None,\n",
       " 'dxy': (1.04, 1.0),\n",
       " 'fnames': None,\n",
       " 'fr': 9.60806,\n",
       " 'last_commit': 'FILE-1732901206',\n",
       " 'var_name_hdf5': 'mov'}\n",
       "\n",
       "init:\n",
       "\n",
       "{'K': 50,\n",
       " 'SC_kernel': 'heat',\n",
       " 'SC_nnn': 20,\n",
       " 'SC_normalize': True,\n",
       " 'SC_sigma': 1,\n",
       " 'SC_thr': 0,\n",
       " 'SC_use_NN': False,\n",
       " 'alpha_snmf': 0.5,\n",
       " 'center_psf': False,\n",
       " 'gSig': array([7, 7]),\n",
       " 'gSiz': array([29, 29]),\n",
       " 'init_iter': 2,\n",
       " 'kernel': None,\n",
       " 'lambda_gnmf': 1,\n",
       " 'maxIter': 5,\n",
       " 'max_iter_snmf': 500,\n",
       " 'method_init': 'greedy_roi',\n",
       " 'min_corr': 0.85,\n",
       " 'min_pnr': 20,\n",
       " 'nIter': 5,\n",
       " 'nb': 1,\n",
       " 'normalize_init': True,\n",
       " 'options_local_NMF': None,\n",
       " 'perc_baseline_snmf': 20,\n",
       " 'ring_size_factor': 1.5,\n",
       " 'rolling_length': 100,\n",
       " 'rolling_sum': True,\n",
       " 'seed_method': 'auto',\n",
       " 'sigma_smooth_snmf': (0.5, 0.5, 0.5),\n",
       " 'ssub': 1,\n",
       " 'ssub_B': 2,\n",
       " 'tsub': 1}\n",
       "\n",
       "merging:\n",
       "\n",
       "{'do_merge': True, 'merge_parallel': False, 'merge_thr': 0.7}\n",
       "\n",
       "motion:\n",
       "\n",
       "{'border_nan': 'copy',\n",
       " 'gSig_filt': None,\n",
       " 'indices': array([b'slice(None, None, None)', b'slice(None, None, None)'],\n",
       "      dtype='|S32'),\n",
       " 'is3D': False,\n",
       " 'max_deviation_rigid': 3,\n",
       " 'max_shifts': (6, 6),\n",
       " 'min_mov': None,\n",
       " 'niter_rig': 1,\n",
       " 'nonneg_movie': True,\n",
       " 'num_frames_split': 80,\n",
       " 'num_splits_to_process_els': None,\n",
       " 'num_splits_to_process_rig': None,\n",
       " 'overlaps': (32, 32),\n",
       " 'pw_rigid': False,\n",
       " 'shifts_opencv': True,\n",
       " 'splits_els': 14,\n",
       " 'splits_rig': 14,\n",
       " 'strides': (96, 96),\n",
       " 'upsample_factor_grid': 4,\n",
       " 'use_cuda': False}\n",
       "\n",
       "online:\n",
       "\n",
       "{'N_samples_exceptionality': 4,\n",
       " 'W_update_factor': 1,\n",
       " 'batch_update_suff_stat': False,\n",
       " 'dist_shape_update': False,\n",
       " 'ds_factor': 1,\n",
       " 'epochs': 1,\n",
       " 'expected_comps': 500,\n",
       " 'full_XXt': False,\n",
       " 'init_batch': 1000,\n",
       " 'init_method': 'bare',\n",
       " 'iters_shape': 5,\n",
       " 'max_comp_update_shape': inf,\n",
       " 'max_num_added': 5,\n",
       " 'max_shifts_online': 10,\n",
       " 'min_SNR': 1.4,\n",
       " 'min_num_trial': 5,\n",
       " 'minibatch_shape': 100,\n",
       " 'minibatch_suff_stat': 5,\n",
       " 'motion_correct': True,\n",
       " 'movie_name_online': 'online_movie.mp4',\n",
       " 'n_refit': 0,\n",
       " 'normalize': False,\n",
       " 'num_times_comp_updated': inf,\n",
       " 'opencv_codec': 'H264',\n",
       " 'path_to_model': '/home/flynn/caiman_data/model/cnn_model_online.h5',\n",
       " 'ring_CNN': False,\n",
       " 'rval_thr': 0.8,\n",
       " 'save_online_movie': False,\n",
       " 'show_movie': False,\n",
       " 'simultaneously': False,\n",
       " 'sniper_mode': False,\n",
       " 'stop_detection': False,\n",
       " 'test_both': False,\n",
       " 'thresh_CNN_noisy': 0.5,\n",
       " 'thresh_fitness_delta': -50,\n",
       " 'thresh_fitness_raw': -10.065259411953317,\n",
       " 'thresh_overlap': 0.5,\n",
       " 'update_freq': 200,\n",
       " 'update_num_comps': True,\n",
       " 'use_corr_img': False,\n",
       " 'use_dense': True,\n",
       " 'use_peak_max': True}\n",
       "\n",
       "patch:\n",
       "\n",
       "{'border_pix': 0,\n",
       " 'del_duplicates': True,\n",
       " 'in_memory': True,\n",
       " 'low_rank_background': None,\n",
       " 'memory_fact': 1,\n",
       " 'n_processes': 15,\n",
       " 'nb_patch': 1,\n",
       " 'only_init': True,\n",
       " 'p_patch': 0,\n",
       " 'p_ssub': 2,\n",
       " 'p_tsub': 2,\n",
       " 'remove_very_bad_comps': False,\n",
       " 'rf': 30,\n",
       " 'skip_refinement': False,\n",
       " 'stride': 12}\n",
       "\n",
       "preprocess:\n",
       "\n",
       "{'check_nan': True,\n",
       " 'compute_g': False,\n",
       " 'include_noise': False,\n",
       " 'lags': 5,\n",
       " 'max_num_samples_fft': 3072,\n",
       " 'n_pixels_per_process': 23040,\n",
       " 'noise_method': 'mean',\n",
       " 'noise_range': array([0.25, 0.5 ]),\n",
       " 'p': 2,\n",
       " 'pixels': None,\n",
       " 'sn': None}\n",
       "\n",
       "ring_CNN:\n",
       "\n",
       "{'loss_fn': 'pct',\n",
       " 'lr': 0.001,\n",
       " 'lr_scheduler': None,\n",
       " 'max_epochs': 100,\n",
       " 'n_channels': 2,\n",
       " 'path_to_model': None,\n",
       " 'patience': 3,\n",
       " 'pct': 0.01,\n",
       " 'remove_activity': False,\n",
       " 'reuse_model': False,\n",
       " 'use_add': False,\n",
       " 'use_bias': False,\n",
       " 'width': 5}\n",
       "\n",
       "quality:\n",
       "\n",
       "{'SNR_lowest': 0.5,\n",
       " 'cnn_lowest': 0.1,\n",
       " 'gSig_range': None,\n",
       " 'max_ecc': 3,\n",
       " 'min_SNR': 1.4,\n",
       " 'min_cnn_thr': 0.9,\n",
       " 'rval_lowest': -1,\n",
       " 'rval_thr': 0.8,\n",
       " 'use_cnn': False,\n",
       " 'use_ecc': False}\n",
       "\n",
       "spatial:\n",
       "\n",
       "{'dist': 3,\n",
       " 'expandCore': array([[0, 0, 1, 0, 0],\n",
       "       [0, 1, 1, 1, 0],\n",
       "       [1, 1, 1, 1, 1],\n",
       "       [0, 1, 1, 1, 0],\n",
       "       [0, 0, 1, 0, 0]]),\n",
       " 'extract_cc': True,\n",
       " 'maxthr': 0.1,\n",
       " 'medw': None,\n",
       " 'method_exp': 'dilate',\n",
       " 'method_ls': 'lasso_lars',\n",
       " 'n_pixels_per_process': 23040,\n",
       " 'nb': 1,\n",
       " 'normalize_yyt_one': True,\n",
       " 'nrgthr': 0.9999,\n",
       " 'num_blocks_per_run_spat': 20,\n",
       " 'se': None,\n",
       " 'ss': None,\n",
       " 'thr_method': 'nrg',\n",
       " 'update_background_components': True}\n",
       "\n",
       "temporal:\n",
       "\n",
       "{'ITER': 2,\n",
       " 'bas_nonneg': False,\n",
       " 'block_size_temp': 5000,\n",
       " 'fudge_factor': 0.96,\n",
       " 'lags': 5,\n",
       " 'method_deconvolution': 'oasis',\n",
       " 'nb': 1,\n",
       " 'noise_method': 'mean',\n",
       " 'noise_range': array([0.25, 0.5 ]),\n",
       " 'num_blocks_per_run_temp': 20,\n",
       " 'optimize_g': False,\n",
       " 'p': 2,\n",
       " 's_min': None,\n",
       " 'solvers': array([b'ECOS', b'SCS'], dtype='|S4'),\n",
       " 'verbosity': False}"
      ]
     },
     "execution_count": 28,
     "metadata": {},
     "output_type": "execute_result"
    }
   ],
   "source": [
    "cnmf_model.params"
   ]
  },
  {
   "cell_type": "code",
   "execution_count": 30,
   "id": "185a2abf",
   "metadata": {
    "ExecuteTime": {
     "end_time": "2024-12-02T15:05:15.529819Z",
     "start_time": "2024-12-02T15:05:15.420875Z"
    }
   },
   "outputs": [
    {
     "data": {
      "image/png": "[encoded data removed]",
      "text/plain": [
       "<Figure size 640x480 with 1 Axes>"
      ]
     },
     "metadata": {},
     "output_type": "display_data"
    }
   ],
   "source": [
    "# dim order: txy[,z]\n",
    "plt.plot(cnmf_model.estimates.C[0,:])\n",
    "plt.show()"
   ]
  },
  {
   "cell_type": "markdown",
   "id": "83b1c2b2",
   "metadata": {},
   "source": [
    "### Feed a list of indices to get back specific traces of interest"
   ]
  },
  {
   "cell_type": "code",
   "execution_count": 31,
   "id": "f23f01a8-45c4-4dc6-8e58-f50ef534f035",
   "metadata": {
    "ExecuteTime": {
     "end_time": "2024-12-02T15:06:02.789071Z",
     "start_time": "2024-12-02T15:06:02.579287Z"
    }
   },
   "outputs": [
    {
     "data": {
      "text/plain": [
       "array([[809.30130583, 809.30130583, 809.30130583, ..., 955.33151105,\n",
       "        945.99438276, 937.25426771],\n",
       "       [376.86927229, 376.86927229, 376.86927229, ..., 466.59936288,\n",
       "        447.63001607, 432.66967922],\n",
       "       [548.78006071, 550.66787934, 862.77810232, ..., 510.56491452,\n",
       "        510.55875568, 510.55318154]])"
      ]
     },
     "execution_count": 31,
     "metadata": {},
     "output_type": "execute_result"
    }
   ],
   "source": [
    "df.iloc[-1].cnmf.get_temporal(np.array([1, 5, 9]))"
   ]
  },
  {
   "cell_type": "markdown",
   "id": "e98f1b53cd8bbfdf",
   "metadata": {},
   "source": [
    "\n",
    "### Contours allow you to plot the neurons on top of an image\n",
    "Returns: `(list of np.ndarray of contour coordinates, list of center of mass)`\n"
   ]
  },
  {
   "cell_type": "code",
   "execution_count": 33,
   "id": "0a6963c9-81f8-4922-8bc3-a2ce468052a4",
   "metadata": {
    "ExecuteTime": {
     "end_time": "2024-12-02T15:07:02.046856Z",
     "start_time": "2024-12-02T15:06:41.104156Z"
    }
   },
   "outputs": [
    {
     "data": {
      "text/plain": [
       "2"
      ]
     },
     "execution_count": 33,
     "metadata": {},
     "output_type": "execute_result"
    }
   ],
   "source": [
    "contours = df.iloc[-1].cnmf.get_contours()\n",
    "len(contours)"
   ]
  },
  {
   "cell_type": "code",
   "execution_count": 33,
   "id": "eb71893fccf54515",
   "metadata": {},
   "outputs": [],
   "source": [
    "# get_contours() also takes arguments\n",
    "contours_good = df.iloc[index].cnmf.get_contours(\"good\")\n",
    "len(contours_good[0]) # number of contours"
   ]
  },
  {
   "cell_type": "code",
   "execution_count": null,
   "id": "82f2a087",
   "metadata": {},
   "outputs": [],
   "source": [
    "viz_cnmf = df.cnmf.viz()\n",
    "viz_cnmf.show()"
   ]
  },
  {
   "cell_type": "markdown",
   "id": "1e0af648-f80c-4b71-9164-4aca607e09da",
   "metadata": {},
   "source": [
    "swap_dim"
   ]
  },
  {
   "cell_type": "code",
   "execution_count": 12,
   "id": "0bba44b2-644b-4691-a0af-bd820fdac683",
   "metadata": {
    "tags": []
   },
   "outputs": [],
   "source": [
    "# get the first contour using swap_dim=True (default)\n",
    "swap_dim_true = df.iloc[index].cnmf.get_contours()[0][0]\n",
    "# get the first contour  with swap_dim=False\n",
    "swap_dim_false = df.iloc[index].cnmf.get_contours(swap_dim=False)[0][0]\n",
    "\n",
    "plt.plot(\n",
    "    swap_dim_true[:, 0],\n",
    "    swap_dim_true[:, 1],\n",
    "    label=\"swap_dim=True\"\n",
    ")\n",
    "plt.plot(\n",
    "    swap_dim_false[:, 0],\n",
    "    swap_dim_false[:, 1],\n",
    "    label=\"swap_dim=False\"\n",
    ")\n",
    "plt.legend()\n",
    "\n",
    "# swap_dim swaps the x and y dims\n",
    "plt.plot(\n",
    "    swap_dim_true[:, 0],\n",
    "    swap_dim_true[:, 1],\n",
    "    linewidth=30\n",
    ")\n",
    "plt.plot(\n",
    "    swap_dim_false[:, 1],\n",
    "    swap_dim_false[:, 0],\n",
    "    linewidth=10\n",
    ")"
   ]
  },
  {
   "cell_type": "markdown",
   "id": "5c6c8e98-13fd-45c6-9afe-7fc3193ed3de",
   "metadata": {},
   "source": [
    "# Reconstructed movie - `A * C`\n",
    "# Reconstructed background - `b * f`\n",
    "# Residuals - `Y - AC - bf` \n",
    "\n",
    "Mesmerize-core provides these outputs as lazy arrays. This allows you to work with arrays that would otherwise be hundreds of gigabytes or terabytes in size."
   ]
  },
  {
   "cell_type": "code",
   "execution_count": null,
   "id": "c58ce87d-4e75-4026-840c-81b826245ba3",
   "metadata": {},
   "outputs": [],
   "source": [
    "rcm = df.iloc[index].cnmf.get_rcm()\n",
    "rcm"
   ]
  },
  {
   "cell_type": "markdown",
   "id": "c6fe2ca3-0255-43fd-9ae2-c635b2d0355a",
   "metadata": {},
   "source": [
    "# Using LazyArrays"
   ]
  },
  {
   "cell_type": "code",
   "execution_count": 34,
   "id": "cf4f70d3-badc-4339-92f8-1ac0351e64b6",
   "metadata": {
    "ExecuteTime": {
     "end_time": "2024-12-02T15:09:20.993312Z",
     "start_time": "2024-12-02T15:09:20.383533Z"
    }
   },
   "outputs": [],
   "source": [
    "rcm_accepted = df.iloc[index].cnmf.get_rcm(\"good\")\n",
    "rcm_rejected = df.iloc[index].cnmf.get_rcm(\"bad\")"
   ]
  },
  {
   "cell_type": "markdown",
   "id": "ae1b2d80-1d6f-403b-b98a-3471c96f57d6",
   "metadata": {},
   "source": [
    "# Parameter Gridsearch\n",
    "\n",
    "As shown for motion correction, the purpose of `mesmerize-core` is to perform parameter searches"
   ]
  },
  {
   "cell_type": "code",
   "execution_count": 8,
   "id": "fc7684d2-3d2c-43ac-9064-ba3997f7a1c8",
   "metadata": {},
   "outputs": [],
   "source": [
    "# itertools.product makes it easy to loop through parameter variants\n",
    "# basically, it's easier to read that deeply nested for loops\n",
    "from copy import deepcopy\n",
    "from itertools import product\n",
    "\n",
    "# variants of several parameters\n",
    "gSig_variants = [4, 6]\n",
    "K_variants = [4, 8]\n",
    "merge_thr_variants = [0.8, 0.95]\n",
    "\n",
    "# always use deepcopy like before\n",
    "new_params_cnmf = deepcopy(params_cnmf)\n",
    "\n",
    "# create a parameter grid\n",
    "parameter_grid = product(gSig_variants, K_variants, merge_thr_variants)\n",
    "\n",
    "# a single for loop to go through all the various parameter combinations\n",
    "for gSig, K, merge_thr in parameter_grid:\n",
    "    # deep copy params dict just like before\n",
    "    new_params_cnmf = deepcopy(new_params_cnmf)\n",
    "\n",
    "    new_params_cnmf[\"main\"][\"gSig\"] = [gSig, gSig]\n",
    "    new_params_cnmf[\"main\"][\"K\"] = K\n",
    "    new_params_cnmf[\"main\"][\"merge_thr\"] = merge_thr\n",
    "\n",
    "    # add param combination variant to batch\n",
    "    df.caiman.add_item(\n",
    "        algo=\"cnmf\",\n",
    "        item_name=df.iloc[1][\"item_name\"],  # good mcorr item\n",
    "        input_movie_path=df.iloc[1],\n",
    "        params=new_params_cnmf\n",
    "    )"
   ]
  },
  {
   "cell_type": "markdown",
   "id": "5cb21a8e-709d-4888-bbd9-42653f700240",
   "metadata": {},
   "source": [
    "## Pull contours / good components"
   ]
  },
  {
   "cell_type": "code",
   "execution_count": null,
   "id": "0fb3f94d-34d2-4eef-ad2d-b4f6db89fa72",
   "metadata": {},
   "outputs": [],
   "source": [
    "row_ix = 1\n",
    "# get the contours and center of masses using mesmerize_core\n",
    "contours, coms = df.iloc[row_ix].cnmf.get_contours(component_indices=\"good\", swap_dim=False)\n",
    "\n",
    "# get the signal-to-noise ratio of each \"good\" component to color components\n",
    "snr_comps = df.iloc[row_ix].cnmf.get_output().estimates.SNR_comp\n",
    "\n",
    "# get the good component_ixs\n",
    "good_ixs = df.iloc[row_ix].cnmf.get_good_components()\n",
    "\n",
    "# only get snr_comps of good_ixs\n",
    "snr_comps = snr_comps[good_ixs]\n",
    "\n",
    "np.log10(snr_comps)[:10]"
   ]
  },
  {
   "cell_type": "markdown",
   "id": "9bf8dce3-b0f7-43b0-b719-774673b6cb25",
   "metadata": {},
   "source": [
    "View the diffs"
   ]
  },
  {
   "cell_type": "code",
   "execution_count": 9,
   "id": "80b98249-b3b5-4481-a4e2-dbdcbf8d1ed9",
   "metadata": {},
   "outputs": [
    {
     "data": {
      "text/html": [
       "<div>\n",
       "<style scoped>\n",
       "    .dataframe tbody tr th:only-of-type {\n",
       "        vertical-align: middle;\n",
       "    }\n",
       "\n",
       "    .dataframe tbody tr th {\n",
       "        vertical-align: top;\n",
       "    }\n",
       "\n",
       "    .dataframe thead th {\n",
       "        text-align: right;\n",
       "    }\n",
       "</style>\n",
       "<table border=\"1\" class=\"dataframe\">\n",
       "  <thead>\n",
       "    <tr style=\"text-align: right;\">\n",
       "      <th></th>\n",
       "      <th>merge_thr</th>\n",
       "      <th>K</th>\n",
       "      <th>gSig</th>\n",
       "    </tr>\n",
       "  </thead>\n",
       "  <tbody>\n",
       "    <tr>\n",
       "      <th>3</th>\n",
       "      <td>0.8</td>\n",
       "      <td>4</td>\n",
       "      <td>(4, 4)</td>\n",
       "    </tr>\n",
       "    <tr>\n",
       "      <th>4</th>\n",
       "      <td>0.95</td>\n",
       "      <td>4</td>\n",
       "      <td>(4, 4)</td>\n",
       "    </tr>\n",
       "    <tr>\n",
       "      <th>5</th>\n",
       "      <td>0.8</td>\n",
       "      <td>8</td>\n",
       "      <td>(4, 4)</td>\n",
       "    </tr>\n",
       "    <tr>\n",
       "      <th>6</th>\n",
       "      <td>0.95</td>\n",
       "      <td>8</td>\n",
       "      <td>(4, 4)</td>\n",
       "    </tr>\n",
       "    <tr>\n",
       "      <th>7</th>\n",
       "      <td>0.8</td>\n",
       "      <td>4</td>\n",
       "      <td>(6, 6)</td>\n",
       "    </tr>\n",
       "    <tr>\n",
       "      <th>8</th>\n",
       "      <td>0.95</td>\n",
       "      <td>4</td>\n",
       "      <td>(6, 6)</td>\n",
       "    </tr>\n",
       "    <tr>\n",
       "      <th>9</th>\n",
       "      <td>0.8</td>\n",
       "      <td>8</td>\n",
       "      <td>(6, 6)</td>\n",
       "    </tr>\n",
       "    <tr>\n",
       "      <th>10</th>\n",
       "      <td>0.95</td>\n",
       "      <td>8</td>\n",
       "      <td>(6, 6)</td>\n",
       "    </tr>\n",
       "  </tbody>\n",
       "</table>\n",
       "</div>"
      ],
      "text/plain": [
       "   merge_thr  K    gSig\n",
       "3        0.8  4  (4, 4)\n",
       "4       0.95  4  (4, 4)\n",
       "5        0.8  8  (4, 4)\n",
       "6       0.95  8  (4, 4)\n",
       "7        0.8  4  (6, 6)\n",
       "8       0.95  4  (6, 6)\n",
       "9        0.8  8  (6, 6)\n",
       "10      0.95  8  (6, 6)"
      ]
     },
     "execution_count": 9,
     "metadata": {},
     "output_type": "execute_result"
    }
   ],
   "source": [
    "df.caiman.get_params_diffs(algo=\"cnmf\", item_name=df.iloc[-1][\"item_name\"])"
   ]
  },
  {
   "cell_type": "markdown",
   "id": "628a194f-39c3-45a7-a029-53925763cc1e",
   "metadata": {},
   "source": [
    "# Run the `cnmf` batch items"
   ]
  },
  {
   "cell_type": "code",
   "execution_count": 10,
   "id": "ee0b9ac5-f66d-4370-842c-8655f5469286",
   "metadata": {},
   "outputs": [
    {
     "name": "stdout",
     "output_type": "stream",
     "text": [
      "Running 5cb543ec-5358-4b35-83cf-bfd19fa06a68 with local backend\n",
      "************************************************************************\n",
      "\n",
      "Starting CNMF item:\n",
      "algo                                                                                                                                   cnmf\n",
      "item_name                                                                                                                 extracted_plane_1\n",
      "input_movie_path    b32f41bf-a9a5-4965-be7c-e6779e854328\\b32f41bf-a9a5-4965-be7c-e6779e854328-extracted_plane_1_els__d1_583_d2_536_d3_1_...\n",
      "params              {'main': {'fr': 9.62, 'dxy': (1.0, 1.0), 'decay_time': 0.4, 'strides': (48, 48), 'overlaps': (24, 24), 'max_shifts':...\n",
      "outputs                                                                                                                                None\n",
      "added_time                                                                                                              2024-09-27T14:48:59\n",
      "ran_time                                                                                                                               None\n",
      "algo_duration                                                                                                                          None\n",
      "comments                                                                                                                               None\n",
      "uuid                                                                                                   5cb543ec-5358-4b35-83cf-bfd19fa06a68\n",
      "Name: 3, dtype: object\n",
      "With params:{'main': {'fr': 9.62, 'dxy': (1.0, 1.0), 'decay_time': 0.4, 'strides': (48, 48), 'overlaps': (24, 24), 'max_shifts': (6, 6), 'max_deviation_rigid': 3, 'pw_rigid': True, 'p': 2, 'nb': 1, 'rf': 40, 'gSig': (4, 4), 'gSiz': None, 'stride': 10, 'method_init': 'greedy_roi', 'rolling_sum': True, 'use_cnn': False, 'ssub': 1, 'tsub': 1, 'merge_thr': 0.8, 'bas_nonneg': True, 'min_SNR': 1.5, 'rval_thr': 0.8, 'K': 4}, 'refit': True}\n"
     ]
    },
    {
     "name": "stderr",
     "output_type": "stream",
     "text": [
      "    16876777 [cluster.py:setup_cluster():225] [16612] The local backend is an alias for the multiprocessing backend, and the alias may be removed in some future version of Caiman\n",
      "    16876888 [params.py:change_params():1151] [16612] In setting CNMFParams, non-pathed parameters were used; this is deprecated. In some future version of Caiman, allow_legacy will default to False (and eventually will be removed)\n",
      "    16880718 [paths.py:get_tempdir():46] [16612] Default temporary dir C:\\Users\\RBO\\caiman_data\\temp does not exist, creating\n"
     ]
    },
    {
     "name": "stdout",
     "output_type": "stream",
     "text": [
      "making memmap\n"
     ]
    },
    {
     "name": "stderr",
     "output_type": "stream",
     "text": [
      "    16890809 [cluster.py:setup_cluster():225] [16612] The local backend is an alias for the multiprocessing backend, and the alias may be removed in some future version of Caiman\n"
     ]
    },
    {
     "name": "stdout",
     "output_type": "stream",
     "text": [
      "performing CNMF\n",
      "fitting images\n",
      "refitting\n",
      "performing eval\n",
      "Running df52a609-d986-4bc0-a0a2-526cbfda057d with local backend\n",
      "************************************************************************\n",
      "\n",
      "Starting CNMF item:\n",
      "algo                                                                                                                                   cnmf\n",
      "item_name                                                                                                                 extracted_plane_1\n",
      "input_movie_path    b32f41bf-a9a5-4965-be7c-e6779e854328\\b32f41bf-a9a5-4965-be7c-e6779e854328-extracted_plane_1_els__d1_583_d2_536_d3_1_...\n",
      "params              {'main': {'fr': 9.62, 'dxy': (1.0, 1.0), 'decay_time': 0.4, 'strides': (48, 48), 'overlaps': (24, 24), 'max_shifts':...\n",
      "outputs                                                                                                                                None\n",
      "added_time                                                                                                              2024-09-27T14:48:59\n",
      "ran_time                                                                                                                               None\n",
      "algo_duration                                                                                                                          None\n",
      "comments                                                                                                                               None\n",
      "uuid                                                                                                   df52a609-d986-4bc0-a0a2-526cbfda057d\n",
      "Name: 4, dtype: object\n",
      "With params:{'main': {'fr': 9.62, 'dxy': (1.0, 1.0), 'decay_time': 0.4, 'strides': (48, 48), 'overlaps': (24, 24), 'max_shifts': (6, 6), 'max_deviation_rigid': 3, 'pw_rigid': True, 'p': 2, 'nb': 1, 'rf': 40, 'gSig': (4, 4), 'gSiz': None, 'stride': 10, 'method_init': 'greedy_roi', 'rolling_sum': True, 'use_cnn': False, 'ssub': 1, 'tsub': 1, 'merge_thr': 0.95, 'bas_nonneg': True, 'min_SNR': 1.5, 'rval_thr': 0.8, 'K': 4}, 'refit': True}\n"
     ]
    },
    {
     "name": "stderr",
     "output_type": "stream",
     "text": [
      "    16956929 [cluster.py:setup_cluster():225] [16612] The local backend is an alias for the multiprocessing backend, and the alias may be removed in some future version of Caiman\n",
      "    16957033 [params.py:change_params():1151] [16612] In setting CNMFParams, non-pathed parameters were used; this is deprecated. In some future version of Caiman, allow_legacy will default to False (and eventually will be removed)\n"
     ]
    },
    {
     "name": "stdout",
     "output_type": "stream",
     "text": [
      "making memmap\n"
     ]
    },
    {
     "name": "stderr",
     "output_type": "stream",
     "text": [
      "    16967754 [cluster.py:setup_cluster():225] [16612] The local backend is an alias for the multiprocessing backend, and the alias may be removed in some future version of Caiman\n"
     ]
    },
    {
     "name": "stdout",
     "output_type": "stream",
     "text": [
      "performing CNMF\n",
      "fitting images\n",
      "refitting\n",
      "performing eval\n",
      "Running f38614e3-d632-434a-9721-290aceeb4907 with local backend\n",
      "************************************************************************\n",
      "\n",
      "Starting CNMF item:\n",
      "algo                                                                                                                                   cnmf\n",
      "item_name                                                                                                                 extracted_plane_1\n",
      "input_movie_path    b32f41bf-a9a5-4965-be7c-e6779e854328\\b32f41bf-a9a5-4965-be7c-e6779e854328-extracted_plane_1_els__d1_583_d2_536_d3_1_...\n",
      "params              {'main': {'fr': 9.62, 'dxy': (1.0, 1.0), 'decay_time': 0.4, 'strides': (48, 48), 'overlaps': (24, 24), 'max_shifts':...\n",
      "outputs                                                                                                                                None\n",
      "added_time                                                                                                              2024-09-27T14:48:59\n",
      "ran_time                                                                                                                               None\n",
      "algo_duration                                                                                                                          None\n",
      "comments                                                                                                                               None\n",
      "uuid                                                                                                   f38614e3-d632-434a-9721-290aceeb4907\n",
      "Name: 5, dtype: object\n",
      "With params:{'main': {'fr': 9.62, 'dxy': (1.0, 1.0), 'decay_time': 0.4, 'strides': (48, 48), 'overlaps': (24, 24), 'max_shifts': (6, 6), 'max_deviation_rigid': 3, 'pw_rigid': True, 'p': 2, 'nb': 1, 'rf': 40, 'gSig': (4, 4), 'gSiz': None, 'stride': 10, 'method_init': 'greedy_roi', 'rolling_sum': True, 'use_cnn': False, 'ssub': 1, 'tsub': 1, 'merge_thr': 0.8, 'bas_nonneg': True, 'min_SNR': 1.5, 'rval_thr': 0.8, 'K': 8}, 'refit': True}\n"
     ]
    },
    {
     "name": "stderr",
     "output_type": "stream",
     "text": [
      "    17032862 [cluster.py:setup_cluster():225] [16612] The local backend is an alias for the multiprocessing backend, and the alias may be removed in some future version of Caiman\n",
      "    17032966 [params.py:change_params():1151] [16612] In setting CNMFParams, non-pathed parameters were used; this is deprecated. In some future version of Caiman, allow_legacy will default to False (and eventually will be removed)\n"
     ]
    },
    {
     "name": "stdout",
     "output_type": "stream",
     "text": [
      "making memmap\n"
     ]
    },
    {
     "name": "stderr",
     "output_type": "stream",
     "text": [
      "    17043554 [cluster.py:setup_cluster():225] [16612] The local backend is an alias for the multiprocessing backend, and the alias may be removed in some future version of Caiman\n"
     ]
    },
    {
     "name": "stdout",
     "output_type": "stream",
     "text": [
      "performing CNMF\n",
      "fitting images\n"
     ]
    }
   ],
   "source": [
    "for i, row in df.iterrows():\n",
    "    if row[\"outputs\"] is not None: # item has already been run\n",
    "        continue # skip\n",
    "\n",
    "    process = row.caiman.run()\n",
    "\n",
    "    # on Windows you MUST reload the batch dataframe after every iteration because it uses the `local` backend.\n",
    "    # this is unnecessary on Linux & Mac\n",
    "    # \"DummyProcess\" is used for local backend so this is automatic\n",
    "    if process.__class__.__name__ == \"DummyProcess\":\n",
    "        df = df.caiman.reload_from_disk()"
   ]
  },
  {
   "cell_type": "markdown",
   "id": "348d0757-675d-4a2d-a024-559507830e31",
   "metadata": {},
   "source": [
    "# Load outputs"
   ]
  },
  {
   "cell_type": "code",
   "execution_count": 16,
   "id": "80f3eca7-916a-4e4e-a109-5906b4c91c7d",
   "metadata": {},
   "outputs": [
    {
     "data": {
      "text/html": [
       "<div>\n",
       "<style scoped>\n",
       "    .dataframe tbody tr th:only-of-type {\n",
       "        vertical-align: middle;\n",
       "    }\n",
       "\n",
       "    .dataframe tbody tr th {\n",
       "        vertical-align: top;\n",
       "    }\n",
       "\n",
       "    .dataframe thead th {\n",
       "        text-align: right;\n",
       "    }\n",
       "</style>\n",
       "<table border=\"1\" class=\"dataframe\">\n",
       "  <thead>\n",
       "    <tr style=\"text-align: right;\">\n",
       "      <th></th>\n",
       "      <th>algo</th>\n",
       "      <th>item_name</th>\n",
       "      <th>input_movie_path</th>\n",
       "      <th>params</th>\n",
       "      <th>outputs</th>\n",
       "      <th>added_time</th>\n",
       "      <th>ran_time</th>\n",
       "      <th>algo_duration</th>\n",
       "      <th>comments</th>\n",
       "      <th>uuid</th>\n",
       "    </tr>\n",
       "  </thead>\n",
       "  <tbody>\n",
       "    <tr>\n",
       "      <th>0</th>\n",
       "      <td>mcorr</td>\n",
       "      <td>extracted_plane_1</td>\n",
       "      <td>tiff\\extracted_plane_1.tif</td>\n",
       "      <td>{'main': {'var_name_hdf5': 'mov', 'max_shifts': (10, 10), 'strides': (48, 48), 'overlaps': (24, 24), 'max_deviation_...</td>\n",
       "      <td>{'mean-projection-path': b32f41bf-a9a5-4965-be7c-e6779e854328\\b32f41bf-a9a5-4965-be7c-e6779e854328_mean_projection.n...</td>\n",
       "      <td>2024-09-26T11:56:54</td>\n",
       "      <td>2024-09-26T12:02:55</td>\n",
       "      <td>77.3 sec</td>\n",
       "      <td>None</td>\n",
       "      <td>b32f41bf-a9a5-4965-be7c-e6779e854328</td>\n",
       "    </tr>\n",
       "    <tr>\n",
       "      <th>1</th>\n",
       "      <td>cnmf</td>\n",
       "      <td>cnmf_1</td>\n",
       "      <td>b32f41bf-a9a5-4965-be7c-e6779e854328\\b32f41bf-a9a5-4965-be7c-e6779e854328-extracted_plane_1_els__d1_583_d2_536_d3_1_...</td>\n",
       "      <td>{'main': {'fr': 9.62, 'dxy': (1.0, 1.0), 'decay_time': 0.4, 'strides': (48, 48), 'overlaps': (24, 24), 'max_shifts':...</td>\n",
       "      <td>{'mean-projection-path': a057e39e-a2df-41d3-8217-83c9cd7ffb6d\\a057e39e-a2df-41d3-8217-83c9cd7ffb6d_mean_projection.n...</td>\n",
       "      <td>2024-09-26T16:26:20</td>\n",
       "      <td>2024-09-26T16:28:48</td>\n",
       "      <td>143.18 sec</td>\n",
       "      <td>None</td>\n",
       "      <td>a057e39e-a2df-41d3-8217-83c9cd7ffb6d</td>\n",
       "    </tr>\n",
       "    <tr>\n",
       "      <th>2</th>\n",
       "      <td>cnmf</td>\n",
       "      <td>cnmf_1</td>\n",
       "      <td>b32f41bf-a9a5-4965-be7c-e6779e854328\\b32f41bf-a9a5-4965-be7c-e6779e854328-extracted_plane_1_els__d1_583_d2_536_d3_1_...</td>\n",
       "      <td>{'main': {'fr': 9.62, 'dxy': (1.0, 1.0), 'decay_time': 0.4, 'p': 2, 'nb': 1, 'rf': 40, 'K': 150, 'gSig': [7.5, 7.5],...</td>\n",
       "      <td>{'mean-projection-path': 0d8d3234-eab7-4f90-9405-53a2ad7917dc\\0d8d3234-eab7-4f90-9405-53a2ad7917dc_mean_projection.n...</td>\n",
       "      <td>2024-10-01T12:09:56</td>\n",
       "      <td>2024-10-01T12:26:42</td>\n",
       "      <td>996.44 sec</td>\n",
       "      <td>None</td>\n",
       "      <td>0d8d3234-eab7-4f90-9405-53a2ad7917dc</td>\n",
       "    </tr>\n",
       "    <tr>\n",
       "      <th>3</th>\n",
       "      <td>mcorr</td>\n",
       "      <td>plane_1</td>\n",
       "      <td>tiff\\extracted_plane_1.tif</td>\n",
       "      <td>{'main': {'var_name_hdf5': 'mov', 'max_shifts': (10, 10), 'strides': (48, 48), 'overlaps': (24, 24), 'max_deviation_...</td>\n",
       "      <td>{'mean-projection-path': c220fb8a-cef9-4784-91a2-84f33d760b75\\c220fb8a-cef9-4784-91a2-84f33d760b75_mean_projection.n...</td>\n",
       "      <td>2024-10-01T13:24:33</td>\n",
       "      <td>2024-10-01T13:28:06</td>\n",
       "      <td>83.34 sec</td>\n",
       "      <td>None</td>\n",
       "      <td>c220fb8a-cef9-4784-91a2-84f33d760b75</td>\n",
       "    </tr>\n",
       "    <tr>\n",
       "      <th>4</th>\n",
       "      <td>mcorr</td>\n",
       "      <td>plane_2</td>\n",
       "      <td>tiff\\extracted_plane_2.tif</td>\n",
       "      <td>{'main': {'var_name_hdf5': 'mov', 'max_shifts': (10, 10), 'strides': (48, 48), 'overlaps': (24, 24), 'max_deviation_...</td>\n",
       "      <td>{'mean-projection-path': ecdbaa07-8893-4352-8658-19a8357306b8\\ecdbaa07-8893-4352-8658-19a8357306b8_mean_projection.n...</td>\n",
       "      <td>2024-10-01T13:24:33</td>\n",
       "      <td>2024-10-01T13:29:29</td>\n",
       "      <td>83.69 sec</td>\n",
       "      <td>None</td>\n",
       "      <td>ecdbaa07-8893-4352-8658-19a8357306b8</td>\n",
       "    </tr>\n",
       "    <tr>\n",
       "      <th>5</th>\n",
       "      <td>mcorr</td>\n",
       "      <td>plane_3</td>\n",
       "      <td>tiff\\extracted_plane_3.tif</td>\n",
       "      <td>{'main': {'var_name_hdf5': 'mov', 'max_shifts': (10, 10), 'strides': (48, 48), 'overlaps': (24, 24), 'max_deviation_...</td>\n",
       "      <td>{'mean-projection-path': 48bad9bd-8a15-4d42-ae64-cb199ff498bc\\48bad9bd-8a15-4d42-ae64-cb199ff498bc_mean_projection.n...</td>\n",
       "      <td>2024-10-01T13:24:33</td>\n",
       "      <td>2024-10-01T13:30:53</td>\n",
       "      <td>83.81 sec</td>\n",
       "      <td>None</td>\n",
       "      <td>48bad9bd-8a15-4d42-ae64-cb199ff498bc</td>\n",
       "    </tr>\n",
       "    <tr>\n",
       "      <th>6</th>\n",
       "      <td>mcorr</td>\n",
       "      <td>plane_4</td>\n",
       "      <td>tiff\\extracted_plane_4.tif</td>\n",
       "      <td>{'main': {'var_name_hdf5': 'mov', 'max_shifts': (10, 10), 'strides': (48, 48), 'overlaps': (24, 24), 'max_deviation_...</td>\n",
       "      <td>{'mean-projection-path': 29217cfc-8575-4c35-b8b0-2fb29a4cb416\\29217cfc-8575-4c35-b8b0-2fb29a4cb416_mean_projection.n...</td>\n",
       "      <td>2024-10-01T13:24:33</td>\n",
       "      <td>2024-10-01T13:32:17</td>\n",
       "      <td>82.93 sec</td>\n",
       "      <td>None</td>\n",
       "      <td>29217cfc-8575-4c35-b8b0-2fb29a4cb416</td>\n",
       "    </tr>\n",
       "    <tr>\n",
       "      <th>7</th>\n",
       "      <td>mcorr</td>\n",
       "      <td>plane_5</td>\n",
       "      <td>tiff\\extracted_plane_5.tif</td>\n",
       "      <td>{'main': {'var_name_hdf5': 'mov', 'max_shifts': (10, 10), 'strides': (48, 48), 'overlaps': (24, 24), 'max_deviation_...</td>\n",
       "      <td>{'mean-projection-path': f9e87c87-913e-4027-a3bd-83c4c7182493\\f9e87c87-913e-4027-a3bd-83c4c7182493_mean_projection.n...</td>\n",
       "      <td>2024-10-01T13:24:33</td>\n",
       "      <td>2024-10-01T13:33:39</td>\n",
       "      <td>82.31 sec</td>\n",
       "      <td>None</td>\n",
       "      <td>f9e87c87-913e-4027-a3bd-83c4c7182493</td>\n",
       "    </tr>\n",
       "    <tr>\n",
       "      <th>8</th>\n",
       "      <td>mcorr</td>\n",
       "      <td>plane_6</td>\n",
       "      <td>tiff\\extracted_plane_6.tif</td>\n",
       "      <td>{'main': {'var_name_hdf5': 'mov', 'max_shifts': (10, 10), 'strides': (48, 48), 'overlaps': (24, 24), 'max_deviation_...</td>\n",
       "      <td>{'mean-projection-path': baf9fc6a-9159-46fd-a6b8-603d02c30c99\\baf9fc6a-9159-46fd-a6b8-603d02c30c99_mean_projection.n...</td>\n",
       "      <td>2024-10-01T13:24:33</td>\n",
       "      <td>2024-10-01T13:35:02</td>\n",
       "      <td>82.48 sec</td>\n",
       "      <td>None</td>\n",
       "      <td>baf9fc6a-9159-46fd-a6b8-603d02c30c99</td>\n",
       "    </tr>\n",
       "    <tr>\n",
       "      <th>9</th>\n",
       "      <td>mcorr</td>\n",
       "      <td>plane_7</td>\n",
       "      <td>tiff\\extracted_plane_7.tif</td>\n",
       "      <td>{'main': {'var_name_hdf5': 'mov', 'max_shifts': (10, 10), 'strides': (48, 48), 'overlaps': (24, 24), 'max_deviation_...</td>\n",
       "      <td>{'mean-projection-path': 7afd6d4c-7787-4e02-8dfc-fd0ce578164d\\7afd6d4c-7787-4e02-8dfc-fd0ce578164d_mean_projection.n...</td>\n",
       "      <td>2024-10-01T13:24:33</td>\n",
       "      <td>2024-10-01T13:36:24</td>\n",
       "      <td>81.99 sec</td>\n",
       "      <td>None</td>\n",
       "      <td>7afd6d4c-7787-4e02-8dfc-fd0ce578164d</td>\n",
       "    </tr>\n",
       "    <tr>\n",
       "      <th>10</th>\n",
       "      <td>mcorr</td>\n",
       "      <td>plane_8</td>\n",
       "      <td>tiff\\extracted_plane_8.tif</td>\n",
       "      <td>{'main': {'var_name_hdf5': 'mov', 'max_shifts': (10, 10), 'strides': (48, 48), 'overlaps': (24, 24), 'max_deviation_...</td>\n",
       "      <td>{'mean-projection-path': 28a3cd15-7671-4a5e-8744-9e8e73e35ee9\\28a3cd15-7671-4a5e-8744-9e8e73e35ee9_mean_projection.n...</td>\n",
       "      <td>2024-10-01T13:24:33</td>\n",
       "      <td>2024-10-01T13:37:48</td>\n",
       "      <td>83.8 sec</td>\n",
       "      <td>None</td>\n",
       "      <td>28a3cd15-7671-4a5e-8744-9e8e73e35ee9</td>\n",
       "    </tr>\n",
       "    <tr>\n",
       "      <th>11</th>\n",
       "      <td>mcorr</td>\n",
       "      <td>plane_9</td>\n",
       "      <td>tiff\\extracted_plane_9.tif</td>\n",
       "      <td>{'main': {'var_name_hdf5': 'mov', 'max_shifts': (10, 10), 'strides': (48, 48), 'overlaps': (24, 24), 'max_deviation_...</td>\n",
       "      <td>{'mean-projection-path': 379d8c22-52c6-4a6a-ae8e-69ccd1d5c5ed\\379d8c22-52c6-4a6a-ae8e-69ccd1d5c5ed_mean_projection.n...</td>\n",
       "      <td>2024-10-01T13:24:33</td>\n",
       "      <td>2024-10-01T13:39:11</td>\n",
       "      <td>83.03 sec</td>\n",
       "      <td>None</td>\n",
       "      <td>379d8c22-52c6-4a6a-ae8e-69ccd1d5c5ed</td>\n",
       "    </tr>\n",
       "    <tr>\n",
       "      <th>12</th>\n",
       "      <td>mcorr</td>\n",
       "      <td>plane_10</td>\n",
       "      <td>tiff\\extracted_plane_10.tif</td>\n",
       "      <td>{'main': {'var_name_hdf5': 'mov', 'max_shifts': (10, 10), 'strides': (48, 48), 'overlaps': (24, 24), 'max_deviation_...</td>\n",
       "      <td>{'mean-projection-path': 679fe640-ee6c-480c-bc71-e941000b8851\\679fe640-ee6c-480c-bc71-e941000b8851_mean_projection.n...</td>\n",
       "      <td>2024-10-01T13:24:33</td>\n",
       "      <td>2024-10-01T13:40:33</td>\n",
       "      <td>82.51 sec</td>\n",
       "      <td>None</td>\n",
       "      <td>679fe640-ee6c-480c-bc71-e941000b8851</td>\n",
       "    </tr>\n",
       "    <tr>\n",
       "      <th>13</th>\n",
       "      <td>mcorr</td>\n",
       "      <td>plane_11</td>\n",
       "      <td>tiff\\extracted_plane_11.tif</td>\n",
       "      <td>{'main': {'var_name_hdf5': 'mov', 'max_shifts': (10, 10), 'strides': (48, 48), 'overlaps': (24, 24), 'max_deviation_...</td>\n",
       "      <td>{'mean-projection-path': d5f2446a-0f42-472a-b969-735c7980b96b\\d5f2446a-0f42-472a-b969-735c7980b96b_mean_projection.n...</td>\n",
       "      <td>2024-10-01T13:24:33</td>\n",
       "      <td>2024-10-01T13:41:56</td>\n",
       "      <td>82.22 sec</td>\n",
       "      <td>None</td>\n",
       "      <td>d5f2446a-0f42-472a-b969-735c7980b96b</td>\n",
       "    </tr>\n",
       "    <tr>\n",
       "      <th>14</th>\n",
       "      <td>mcorr</td>\n",
       "      <td>plane_12</td>\n",
       "      <td>tiff\\extracted_plane_12.tif</td>\n",
       "      <td>{'main': {'var_name_hdf5': 'mov', 'max_shifts': (10, 10), 'strides': (48, 48), 'overlaps': (24, 24), 'max_deviation_...</td>\n",
       "      <td>{'mean-projection-path': 888fa033-522f-4fec-bbd6-607f93fffc11\\888fa033-522f-4fec-bbd6-607f93fffc11_mean_projection.n...</td>\n",
       "      <td>2024-10-01T13:24:33</td>\n",
       "      <td>2024-10-01T13:43:19</td>\n",
       "      <td>82.73 sec</td>\n",
       "      <td>None</td>\n",
       "      <td>888fa033-522f-4fec-bbd6-607f93fffc11</td>\n",
       "    </tr>\n",
       "    <tr>\n",
       "      <th>15</th>\n",
       "      <td>mcorr</td>\n",
       "      <td>plane_13</td>\n",
       "      <td>tiff\\extracted_plane_13.tif</td>\n",
       "      <td>{'main': {'var_name_hdf5': 'mov', 'max_shifts': (10, 10), 'strides': (48, 48), 'overlaps': (24, 24), 'max_deviation_...</td>\n",
       "      <td>{'mean-projection-path': 9c53c1bc-e865-4977-89da-1c1bff7d4d21\\9c53c1bc-e865-4977-89da-1c1bff7d4d21_mean_projection.n...</td>\n",
       "      <td>2024-10-01T13:24:33</td>\n",
       "      <td>2024-10-01T13:44:41</td>\n",
       "      <td>81.82 sec</td>\n",
       "      <td>None</td>\n",
       "      <td>9c53c1bc-e865-4977-89da-1c1bff7d4d21</td>\n",
       "    </tr>\n",
       "    <tr>\n",
       "      <th>16</th>\n",
       "      <td>mcorr</td>\n",
       "      <td>plane_14</td>\n",
       "      <td>tiff\\extracted_plane_14.tif</td>\n",
       "      <td>{'main': {'var_name_hdf5': 'mov', 'max_shifts': (10, 10), 'strides': (48, 48), 'overlaps': (24, 24), 'max_deviation_...</td>\n",
       "      <td>{'mean-projection-path': 6f3101c4-9792-497a-939f-5a4780848a0d\\6f3101c4-9792-497a-939f-5a4780848a0d_mean_projection.n...</td>\n",
       "      <td>2024-10-01T13:24:33</td>\n",
       "      <td>2024-10-01T13:46:03</td>\n",
       "      <td>82.3 sec</td>\n",
       "      <td>None</td>\n",
       "      <td>6f3101c4-9792-497a-939f-5a4780848a0d</td>\n",
       "    </tr>\n",
       "    <tr>\n",
       "      <th>17</th>\n",
       "      <td>mcorr</td>\n",
       "      <td>plane_15</td>\n",
       "      <td>tiff\\extracted_plane_15.tif</td>\n",
       "      <td>{'main': {'var_name_hdf5': 'mov', 'max_shifts': (10, 10), 'strides': (48, 48), 'overlaps': (24, 24), 'max_deviation_...</td>\n",
       "      <td>{'mean-projection-path': 41ed61cb-4b3e-4117-9db6-e054b1d8c697\\41ed61cb-4b3e-4117-9db6-e054b1d8c697_mean_projection.n...</td>\n",
       "      <td>2024-10-01T13:24:33</td>\n",
       "      <td>2024-10-01T13:47:26</td>\n",
       "      <td>82.44 sec</td>\n",
       "      <td>None</td>\n",
       "      <td>41ed61cb-4b3e-4117-9db6-e054b1d8c697</td>\n",
       "    </tr>\n",
       "    <tr>\n",
       "      <th>18</th>\n",
       "      <td>mcorr</td>\n",
       "      <td>plane_16</td>\n",
       "      <td>tiff\\extracted_plane_16.tif</td>\n",
       "      <td>{'main': {'var_name_hdf5': 'mov', 'max_shifts': (10, 10), 'strides': (48, 48), 'overlaps': (24, 24), 'max_deviation_...</td>\n",
       "      <td>{'mean-projection-path': 625b34c3-eae3-4ad8-8015-5cc48122c7ec\\625b34c3-eae3-4ad8-8015-5cc48122c7ec_mean_projection.n...</td>\n",
       "      <td>2024-10-01T13:24:33</td>\n",
       "      <td>2024-10-01T13:48:48</td>\n",
       "      <td>82.0 sec</td>\n",
       "      <td>None</td>\n",
       "      <td>625b34c3-eae3-4ad8-8015-5cc48122c7ec</td>\n",
       "    </tr>\n",
       "    <tr>\n",
       "      <th>19</th>\n",
       "      <td>mcorr</td>\n",
       "      <td>plane_17</td>\n",
       "      <td>tiff\\extracted_plane_17.tif</td>\n",
       "      <td>{'main': {'var_name_hdf5': 'mov', 'max_shifts': (10, 10), 'strides': (48, 48), 'overlaps': (24, 24), 'max_deviation_...</td>\n",
       "      <td>{'mean-projection-path': e6a54884-a8a8-447b-be78-70957a62f161\\e6a54884-a8a8-447b-be78-70957a62f161_mean_projection.n...</td>\n",
       "      <td>2024-10-01T13:24:33</td>\n",
       "      <td>2024-10-01T13:50:11</td>\n",
       "      <td>83.41 sec</td>\n",
       "      <td>None</td>\n",
       "      <td>e6a54884-a8a8-447b-be78-70957a62f161</td>\n",
       "    </tr>\n",
       "    <tr>\n",
       "      <th>20</th>\n",
       "      <td>mcorr</td>\n",
       "      <td>plane_18</td>\n",
       "      <td>tiff\\extracted_plane_18.tif</td>\n",
       "      <td>{'main': {'var_name_hdf5': 'mov', 'max_shifts': (10, 10), 'strides': (48, 48), 'overlaps': (24, 24), 'max_deviation_...</td>\n",
       "      <td>{'mean-projection-path': c21edffc-96ae-4103-b0e7-9ae4af82a6a7\\c21edffc-96ae-4103-b0e7-9ae4af82a6a7_mean_projection.n...</td>\n",
       "      <td>2024-10-01T13:24:33</td>\n",
       "      <td>2024-10-01T13:51:33</td>\n",
       "      <td>81.7 sec</td>\n",
       "      <td>None</td>\n",
       "      <td>c21edffc-96ae-4103-b0e7-9ae4af82a6a7</td>\n",
       "    </tr>\n",
       "    <tr>\n",
       "      <th>21</th>\n",
       "      <td>mcorr</td>\n",
       "      <td>plane_19</td>\n",
       "      <td>tiff\\extracted_plane_19.tif</td>\n",
       "      <td>{'main': {'var_name_hdf5': 'mov', 'max_shifts': (10, 10), 'strides': (48, 48), 'overlaps': (24, 24), 'max_deviation_...</td>\n",
       "      <td>{'mean-projection-path': bbcf4810-f29e-4fde-a425-fa81a34e7c14\\bbcf4810-f29e-4fde-a425-fa81a34e7c14_mean_projection.n...</td>\n",
       "      <td>2024-10-01T13:24:33</td>\n",
       "      <td>2024-10-01T13:52:56</td>\n",
       "      <td>82.56 sec</td>\n",
       "      <td>None</td>\n",
       "      <td>bbcf4810-f29e-4fde-a425-fa81a34e7c14</td>\n",
       "    </tr>\n",
       "    <tr>\n",
       "      <th>22</th>\n",
       "      <td>mcorr</td>\n",
       "      <td>plane_20</td>\n",
       "      <td>tiff\\extracted_plane_20.tif</td>\n",
       "      <td>{'main': {'var_name_hdf5': 'mov', 'max_shifts': (10, 10), 'strides': (48, 48), 'overlaps': (24, 24), 'max_deviation_...</td>\n",
       "      <td>{'mean-projection-path': 3f1399d9-951f-46b7-8424-8a5019984015\\3f1399d9-951f-46b7-8424-8a5019984015_mean_projection.n...</td>\n",
       "      <td>2024-10-01T13:24:33</td>\n",
       "      <td>2024-10-01T13:54:19</td>\n",
       "      <td>83.5 sec</td>\n",
       "      <td>None</td>\n",
       "      <td>3f1399d9-951f-46b7-8424-8a5019984015</td>\n",
       "    </tr>\n",
       "    <tr>\n",
       "      <th>23</th>\n",
       "      <td>mcorr</td>\n",
       "      <td>plane_21</td>\n",
       "      <td>tiff\\extracted_plane_21.tif</td>\n",
       "      <td>{'main': {'var_name_hdf5': 'mov', 'max_shifts': (10, 10), 'strides': (48, 48), 'overlaps': (24, 24), 'max_deviation_...</td>\n",
       "      <td>{'mean-projection-path': 666389a4-64ae-48e1-bcb0-381a48cff336\\666389a4-64ae-48e1-bcb0-381a48cff336_mean_projection.n...</td>\n",
       "      <td>2024-10-01T13:24:33</td>\n",
       "      <td>2024-10-01T13:55:42</td>\n",
       "      <td>82.36 sec</td>\n",
       "      <td>None</td>\n",
       "      <td>666389a4-64ae-48e1-bcb0-381a48cff336</td>\n",
       "    </tr>\n",
       "    <tr>\n",
       "      <th>24</th>\n",
       "      <td>mcorr</td>\n",
       "      <td>plane_22</td>\n",
       "      <td>tiff\\extracted_plane_22.tif</td>\n",
       "      <td>{'main': {'var_name_hdf5': 'mov', 'max_shifts': (10, 10), 'strides': (48, 48), 'overlaps': (24, 24), 'max_deviation_...</td>\n",
       "      <td>{'mean-projection-path': 09e7e82e-3365-409d-b961-33e51d022ba5\\09e7e82e-3365-409d-b961-33e51d022ba5_mean_projection.n...</td>\n",
       "      <td>2024-10-01T13:24:33</td>\n",
       "      <td>2024-10-01T13:57:06</td>\n",
       "      <td>83.45 sec</td>\n",
       "      <td>None</td>\n",
       "      <td>09e7e82e-3365-409d-b961-33e51d022ba5</td>\n",
       "    </tr>\n",
       "    <tr>\n",
       "      <th>25</th>\n",
       "      <td>mcorr</td>\n",
       "      <td>plane_23</td>\n",
       "      <td>tiff\\extracted_plane_23.tif</td>\n",
       "      <td>{'main': {'var_name_hdf5': 'mov', 'max_shifts': (10, 10), 'strides': (48, 48), 'overlaps': (24, 24), 'max_deviation_...</td>\n",
       "      <td>{'mean-projection-path': 450d0648-35c0-4528-b199-c448b4b3de7a\\450d0648-35c0-4528-b199-c448b4b3de7a_mean_projection.n...</td>\n",
       "      <td>2024-10-01T13:24:33</td>\n",
       "      <td>2024-10-01T13:58:28</td>\n",
       "      <td>82.03 sec</td>\n",
       "      <td>None</td>\n",
       "      <td>450d0648-35c0-4528-b199-c448b4b3de7a</td>\n",
       "    </tr>\n",
       "    <tr>\n",
       "      <th>26</th>\n",
       "      <td>mcorr</td>\n",
       "      <td>plane_24</td>\n",
       "      <td>tiff\\extracted_plane_24.tif</td>\n",
       "      <td>{'main': {'var_name_hdf5': 'mov', 'max_shifts': (10, 10), 'strides': (48, 48), 'overlaps': (24, 24), 'max_deviation_...</td>\n",
       "      <td>{'mean-projection-path': 31b2befb-4833-4a1e-83ef-4c177244bd33\\31b2befb-4833-4a1e-83ef-4c177244bd33_mean_projection.n...</td>\n",
       "      <td>2024-10-01T13:24:33</td>\n",
       "      <td>2024-10-01T13:59:51</td>\n",
       "      <td>82.94 sec</td>\n",
       "      <td>None</td>\n",
       "      <td>31b2befb-4833-4a1e-83ef-4c177244bd33</td>\n",
       "    </tr>\n",
       "    <tr>\n",
       "      <th>27</th>\n",
       "      <td>mcorr</td>\n",
       "      <td>plane_25</td>\n",
       "      <td>tiff\\extracted_plane_25.tif</td>\n",
       "      <td>{'main': {'var_name_hdf5': 'mov', 'max_shifts': (10, 10), 'strides': (48, 48), 'overlaps': (24, 24), 'max_deviation_...</td>\n",
       "      <td>{'mean-projection-path': b60dc323-4e70-4c7f-88f8-f7255e9252c5\\b60dc323-4e70-4c7f-88f8-f7255e9252c5_mean_projection.n...</td>\n",
       "      <td>2024-10-01T13:24:33</td>\n",
       "      <td>2024-10-01T14:01:15</td>\n",
       "      <td>83.64 sec</td>\n",
       "      <td>None</td>\n",
       "      <td>b60dc323-4e70-4c7f-88f8-f7255e9252c5</td>\n",
       "    </tr>\n",
       "    <tr>\n",
       "      <th>28</th>\n",
       "      <td>mcorr</td>\n",
       "      <td>plane_26</td>\n",
       "      <td>tiff\\extracted_plane_26.tif</td>\n",
       "      <td>{'main': {'var_name_hdf5': 'mov', 'max_shifts': (10, 10), 'strides': (48, 48), 'overlaps': (24, 24), 'max_deviation_...</td>\n",
       "      <td>{'mean-projection-path': 6edd066c-6801-4c96-b71e-a34f3f446514\\6edd066c-6801-4c96-b71e-a34f3f446514_mean_projection.n...</td>\n",
       "      <td>2024-10-01T13:24:33</td>\n",
       "      <td>2024-10-01T14:02:36</td>\n",
       "      <td>80.91 sec</td>\n",
       "      <td>None</td>\n",
       "      <td>6edd066c-6801-4c96-b71e-a34f3f446514</td>\n",
       "    </tr>\n",
       "    <tr>\n",
       "      <th>29</th>\n",
       "      <td>mcorr</td>\n",
       "      <td>plane_27</td>\n",
       "      <td>tiff\\extracted_plane_27.tif</td>\n",
       "      <td>{'main': {'var_name_hdf5': 'mov', 'max_shifts': (10, 10), 'strides': (48, 48), 'overlaps': (24, 24), 'max_deviation_...</td>\n",
       "      <td>{'mean-projection-path': df55466a-8e2e-44d7-93d6-bc2ba0c5ab01\\df55466a-8e2e-44d7-93d6-bc2ba0c5ab01_mean_projection.n...</td>\n",
       "      <td>2024-10-01T13:24:33</td>\n",
       "      <td>2024-10-01T14:03:58</td>\n",
       "      <td>81.79 sec</td>\n",
       "      <td>None</td>\n",
       "      <td>df55466a-8e2e-44d7-93d6-bc2ba0c5ab01</td>\n",
       "    </tr>\n",
       "    <tr>\n",
       "      <th>30</th>\n",
       "      <td>mcorr</td>\n",
       "      <td>plane_28</td>\n",
       "      <td>tiff\\extracted_plane_28.tif</td>\n",
       "      <td>{'main': {'var_name_hdf5': 'mov', 'max_shifts': (10, 10), 'strides': (48, 48), 'overlaps': (24, 24), 'max_deviation_...</td>\n",
       "      <td>{'mean-projection-path': 2f2fa5da-3177-42ac-967c-240a46091e79\\2f2fa5da-3177-42ac-967c-240a46091e79_mean_projection.n...</td>\n",
       "      <td>2024-10-01T13:24:33</td>\n",
       "      <td>2024-10-01T14:05:20</td>\n",
       "      <td>82.38 sec</td>\n",
       "      <td>None</td>\n",
       "      <td>2f2fa5da-3177-42ac-967c-240a46091e79</td>\n",
       "    </tr>\n",
       "  </tbody>\n",
       "</table>\n",
       "</div>"
      ],
      "text/plain": [
       "     algo          item_name  \\\n",
       "0   mcorr  extracted_plane_1   \n",
       "1    cnmf             cnmf_1   \n",
       "2    cnmf             cnmf_1   \n",
       "3   mcorr            plane_1   \n",
       "4   mcorr            plane_2   \n",
       "5   mcorr            plane_3   \n",
       "6   mcorr            plane_4   \n",
       "7   mcorr            plane_5   \n",
       "8   mcorr            plane_6   \n",
       "9   mcorr            plane_7   \n",
       "10  mcorr            plane_8   \n",
       "11  mcorr            plane_9   \n",
       "12  mcorr           plane_10   \n",
       "13  mcorr           plane_11   \n",
       "14  mcorr           plane_12   \n",
       "15  mcorr           plane_13   \n",
       "16  mcorr           plane_14   \n",
       "17  mcorr           plane_15   \n",
       "18  mcorr           plane_16   \n",
       "19  mcorr           plane_17   \n",
       "20  mcorr           plane_18   \n",
       "21  mcorr           plane_19   \n",
       "22  mcorr           plane_20   \n",
       "23  mcorr           plane_21   \n",
       "24  mcorr           plane_22   \n",
       "25  mcorr           plane_23   \n",
       "26  mcorr           plane_24   \n",
       "27  mcorr           plane_25   \n",
       "28  mcorr           plane_26   \n",
       "29  mcorr           plane_27   \n",
       "30  mcorr           plane_28   \n",
       "\n",
       "                                                                                                           input_movie_path  \\\n",
       "0                                                                                                tiff\\extracted_plane_1.tif   \n",
       "1   b32f41bf-a9a5-4965-be7c-e6779e854328\\b32f41bf-a9a5-4965-be7c-e6779e854328-extracted_plane_1_els__d1_583_d2_536_d3_1_...   \n",
       "2   b32f41bf-a9a5-4965-be7c-e6779e854328\\b32f41bf-a9a5-4965-be7c-e6779e854328-extracted_plane_1_els__d1_583_d2_536_d3_1_...   \n",
       "3                                                                                                tiff\\extracted_plane_1.tif   \n",
       "4                                                                                                tiff\\extracted_plane_2.tif   \n",
       "5                                                                                                tiff\\extracted_plane_3.tif   \n",
       "6                                                                                                tiff\\extracted_plane_4.tif   \n",
       "7                                                                                                tiff\\extracted_plane_5.tif   \n",
       "8                                                                                                tiff\\extracted_plane_6.tif   \n",
       "9                                                                                                tiff\\extracted_plane_7.tif   \n",
       "10                                                                                               tiff\\extracted_plane_8.tif   \n",
       "11                                                                                               tiff\\extracted_plane_9.tif   \n",
       "12                                                                                              tiff\\extracted_plane_10.tif   \n",
       "13                                                                                              tiff\\extracted_plane_11.tif   \n",
       "14                                                                                              tiff\\extracted_plane_12.tif   \n",
       "15                                                                                              tiff\\extracted_plane_13.tif   \n",
       "16                                                                                              tiff\\extracted_plane_14.tif   \n",
       "17                                                                                              tiff\\extracted_plane_15.tif   \n",
       "18                                                                                              tiff\\extracted_plane_16.tif   \n",
       "19                                                                                              tiff\\extracted_plane_17.tif   \n",
       "20                                                                                              tiff\\extracted_plane_18.tif   \n",
       "21                                                                                              tiff\\extracted_plane_19.tif   \n",
       "22                                                                                              tiff\\extracted_plane_20.tif   \n",
       "23                                                                                              tiff\\extracted_plane_21.tif   \n",
       "24                                                                                              tiff\\extracted_plane_22.tif   \n",
       "25                                                                                              tiff\\extracted_plane_23.tif   \n",
       "26                                                                                              tiff\\extracted_plane_24.tif   \n",
       "27                                                                                              tiff\\extracted_plane_25.tif   \n",
       "28                                                                                              tiff\\extracted_plane_26.tif   \n",
       "29                                                                                              tiff\\extracted_plane_27.tif   \n",
       "30                                                                                              tiff\\extracted_plane_28.tif   \n",
       "\n",
       "                                                                                                                     params  \\\n",
       "0   {'main': {'var_name_hdf5': 'mov', 'max_shifts': (10, 10), 'strides': (48, 48), 'overlaps': (24, 24), 'max_deviation_...   \n",
       "1   {'main': {'fr': 9.62, 'dxy': (1.0, 1.0), 'decay_time': 0.4, 'strides': (48, 48), 'overlaps': (24, 24), 'max_shifts':...   \n",
       "2   {'main': {'fr': 9.62, 'dxy': (1.0, 1.0), 'decay_time': 0.4, 'p': 2, 'nb': 1, 'rf': 40, 'K': 150, 'gSig': [7.5, 7.5],...   \n",
       "3   {'main': {'var_name_hdf5': 'mov', 'max_shifts': (10, 10), 'strides': (48, 48), 'overlaps': (24, 24), 'max_deviation_...   \n",
       "4   {'main': {'var_name_hdf5': 'mov', 'max_shifts': (10, 10), 'strides': (48, 48), 'overlaps': (24, 24), 'max_deviation_...   \n",
       "5   {'main': {'var_name_hdf5': 'mov', 'max_shifts': (10, 10), 'strides': (48, 48), 'overlaps': (24, 24), 'max_deviation_...   \n",
       "6   {'main': {'var_name_hdf5': 'mov', 'max_shifts': (10, 10), 'strides': (48, 48), 'overlaps': (24, 24), 'max_deviation_...   \n",
       "7   {'main': {'var_name_hdf5': 'mov', 'max_shifts': (10, 10), 'strides': (48, 48), 'overlaps': (24, 24), 'max_deviation_...   \n",
       "8   {'main': {'var_name_hdf5': 'mov', 'max_shifts': (10, 10), 'strides': (48, 48), 'overlaps': (24, 24), 'max_deviation_...   \n",
       "9   {'main': {'var_name_hdf5': 'mov', 'max_shifts': (10, 10), 'strides': (48, 48), 'overlaps': (24, 24), 'max_deviation_...   \n",
       "10  {'main': {'var_name_hdf5': 'mov', 'max_shifts': (10, 10), 'strides': (48, 48), 'overlaps': (24, 24), 'max_deviation_...   \n",
       "11  {'main': {'var_name_hdf5': 'mov', 'max_shifts': (10, 10), 'strides': (48, 48), 'overlaps': (24, 24), 'max_deviation_...   \n",
       "12  {'main': {'var_name_hdf5': 'mov', 'max_shifts': (10, 10), 'strides': (48, 48), 'overlaps': (24, 24), 'max_deviation_...   \n",
       "13  {'main': {'var_name_hdf5': 'mov', 'max_shifts': (10, 10), 'strides': (48, 48), 'overlaps': (24, 24), 'max_deviation_...   \n",
       "14  {'main': {'var_name_hdf5': 'mov', 'max_shifts': (10, 10), 'strides': (48, 48), 'overlaps': (24, 24), 'max_deviation_...   \n",
       "15  {'main': {'var_name_hdf5': 'mov', 'max_shifts': (10, 10), 'strides': (48, 48), 'overlaps': (24, 24), 'max_deviation_...   \n",
       "16  {'main': {'var_name_hdf5': 'mov', 'max_shifts': (10, 10), 'strides': (48, 48), 'overlaps': (24, 24), 'max_deviation_...   \n",
       "17  {'main': {'var_name_hdf5': 'mov', 'max_shifts': (10, 10), 'strides': (48, 48), 'overlaps': (24, 24), 'max_deviation_...   \n",
       "18  {'main': {'var_name_hdf5': 'mov', 'max_shifts': (10, 10), 'strides': (48, 48), 'overlaps': (24, 24), 'max_deviation_...   \n",
       "19  {'main': {'var_name_hdf5': 'mov', 'max_shifts': (10, 10), 'strides': (48, 48), 'overlaps': (24, 24), 'max_deviation_...   \n",
       "20  {'main': {'var_name_hdf5': 'mov', 'max_shifts': (10, 10), 'strides': (48, 48), 'overlaps': (24, 24), 'max_deviation_...   \n",
       "21  {'main': {'var_name_hdf5': 'mov', 'max_shifts': (10, 10), 'strides': (48, 48), 'overlaps': (24, 24), 'max_deviation_...   \n",
       "22  {'main': {'var_name_hdf5': 'mov', 'max_shifts': (10, 10), 'strides': (48, 48), 'overlaps': (24, 24), 'max_deviation_...   \n",
       "23  {'main': {'var_name_hdf5': 'mov', 'max_shifts': (10, 10), 'strides': (48, 48), 'overlaps': (24, 24), 'max_deviation_...   \n",
       "24  {'main': {'var_name_hdf5': 'mov', 'max_shifts': (10, 10), 'strides': (48, 48), 'overlaps': (24, 24), 'max_deviation_...   \n",
       "25  {'main': {'var_name_hdf5': 'mov', 'max_shifts': (10, 10), 'strides': (48, 48), 'overlaps': (24, 24), 'max_deviation_...   \n",
       "26  {'main': {'var_name_hdf5': 'mov', 'max_shifts': (10, 10), 'strides': (48, 48), 'overlaps': (24, 24), 'max_deviation_...   \n",
       "27  {'main': {'var_name_hdf5': 'mov', 'max_shifts': (10, 10), 'strides': (48, 48), 'overlaps': (24, 24), 'max_deviation_...   \n",
       "28  {'main': {'var_name_hdf5': 'mov', 'max_shifts': (10, 10), 'strides': (48, 48), 'overlaps': (24, 24), 'max_deviation_...   \n",
       "29  {'main': {'var_name_hdf5': 'mov', 'max_shifts': (10, 10), 'strides': (48, 48), 'overlaps': (24, 24), 'max_deviation_...   \n",
       "30  {'main': {'var_name_hdf5': 'mov', 'max_shifts': (10, 10), 'strides': (48, 48), 'overlaps': (24, 24), 'max_deviation_...   \n",
       "\n",
       "                                                                                                                    outputs  \\\n",
       "0   {'mean-projection-path': b32f41bf-a9a5-4965-be7c-e6779e854328\\b32f41bf-a9a5-4965-be7c-e6779e854328_mean_projection.n...   \n",
       "1   {'mean-projection-path': a057e39e-a2df-41d3-8217-83c9cd7ffb6d\\a057e39e-a2df-41d3-8217-83c9cd7ffb6d_mean_projection.n...   \n",
       "2   {'mean-projection-path': 0d8d3234-eab7-4f90-9405-53a2ad7917dc\\0d8d3234-eab7-4f90-9405-53a2ad7917dc_mean_projection.n...   \n",
       "3   {'mean-projection-path': c220fb8a-cef9-4784-91a2-84f33d760b75\\c220fb8a-cef9-4784-91a2-84f33d760b75_mean_projection.n...   \n",
       "4   {'mean-projection-path': ecdbaa07-8893-4352-8658-19a8357306b8\\ecdbaa07-8893-4352-8658-19a8357306b8_mean_projection.n...   \n",
       "5   {'mean-projection-path': 48bad9bd-8a15-4d42-ae64-cb199ff498bc\\48bad9bd-8a15-4d42-ae64-cb199ff498bc_mean_projection.n...   \n",
       "6   {'mean-projection-path': 29217cfc-8575-4c35-b8b0-2fb29a4cb416\\29217cfc-8575-4c35-b8b0-2fb29a4cb416_mean_projection.n...   \n",
       "7   {'mean-projection-path': f9e87c87-913e-4027-a3bd-83c4c7182493\\f9e87c87-913e-4027-a3bd-83c4c7182493_mean_projection.n...   \n",
       "8   {'mean-projection-path': baf9fc6a-9159-46fd-a6b8-603d02c30c99\\baf9fc6a-9159-46fd-a6b8-603d02c30c99_mean_projection.n...   \n",
       "9   {'mean-projection-path': 7afd6d4c-7787-4e02-8dfc-fd0ce578164d\\7afd6d4c-7787-4e02-8dfc-fd0ce578164d_mean_projection.n...   \n",
       "10  {'mean-projection-path': 28a3cd15-7671-4a5e-8744-9e8e73e35ee9\\28a3cd15-7671-4a5e-8744-9e8e73e35ee9_mean_projection.n...   \n",
       "11  {'mean-projection-path': 379d8c22-52c6-4a6a-ae8e-69ccd1d5c5ed\\379d8c22-52c6-4a6a-ae8e-69ccd1d5c5ed_mean_projection.n...   \n",
       "12  {'mean-projection-path': 679fe640-ee6c-480c-bc71-e941000b8851\\679fe640-ee6c-480c-bc71-e941000b8851_mean_projection.n...   \n",
       "13  {'mean-projection-path': d5f2446a-0f42-472a-b969-735c7980b96b\\d5f2446a-0f42-472a-b969-735c7980b96b_mean_projection.n...   \n",
       "14  {'mean-projection-path': 888fa033-522f-4fec-bbd6-607f93fffc11\\888fa033-522f-4fec-bbd6-607f93fffc11_mean_projection.n...   \n",
       "15  {'mean-projection-path': 9c53c1bc-e865-4977-89da-1c1bff7d4d21\\9c53c1bc-e865-4977-89da-1c1bff7d4d21_mean_projection.n...   \n",
       "16  {'mean-projection-path': 6f3101c4-9792-497a-939f-5a4780848a0d\\6f3101c4-9792-497a-939f-5a4780848a0d_mean_projection.n...   \n",
       "17  {'mean-projection-path': 41ed61cb-4b3e-4117-9db6-e054b1d8c697\\41ed61cb-4b3e-4117-9db6-e054b1d8c697_mean_projection.n...   \n",
       "18  {'mean-projection-path': 625b34c3-eae3-4ad8-8015-5cc48122c7ec\\625b34c3-eae3-4ad8-8015-5cc48122c7ec_mean_projection.n...   \n",
       "19  {'mean-projection-path': e6a54884-a8a8-447b-be78-70957a62f161\\e6a54884-a8a8-447b-be78-70957a62f161_mean_projection.n...   \n",
       "20  {'mean-projection-path': c21edffc-96ae-4103-b0e7-9ae4af82a6a7\\c21edffc-96ae-4103-b0e7-9ae4af82a6a7_mean_projection.n...   \n",
       "21  {'mean-projection-path': bbcf4810-f29e-4fde-a425-fa81a34e7c14\\bbcf4810-f29e-4fde-a425-fa81a34e7c14_mean_projection.n...   \n",
       "22  {'mean-projection-path': 3f1399d9-951f-46b7-8424-8a5019984015\\3f1399d9-951f-46b7-8424-8a5019984015_mean_projection.n...   \n",
       "23  {'mean-projection-path': 666389a4-64ae-48e1-bcb0-381a48cff336\\666389a4-64ae-48e1-bcb0-381a48cff336_mean_projection.n...   \n",
       "24  {'mean-projection-path': 09e7e82e-3365-409d-b961-33e51d022ba5\\09e7e82e-3365-409d-b961-33e51d022ba5_mean_projection.n...   \n",
       "25  {'mean-projection-path': 450d0648-35c0-4528-b199-c448b4b3de7a\\450d0648-35c0-4528-b199-c448b4b3de7a_mean_projection.n...   \n",
       "26  {'mean-projection-path': 31b2befb-4833-4a1e-83ef-4c177244bd33\\31b2befb-4833-4a1e-83ef-4c177244bd33_mean_projection.n...   \n",
       "27  {'mean-projection-path': b60dc323-4e70-4c7f-88f8-f7255e9252c5\\b60dc323-4e70-4c7f-88f8-f7255e9252c5_mean_projection.n...   \n",
       "28  {'mean-projection-path': 6edd066c-6801-4c96-b71e-a34f3f446514\\6edd066c-6801-4c96-b71e-a34f3f446514_mean_projection.n...   \n",
       "29  {'mean-projection-path': df55466a-8e2e-44d7-93d6-bc2ba0c5ab01\\df55466a-8e2e-44d7-93d6-bc2ba0c5ab01_mean_projection.n...   \n",
       "30  {'mean-projection-path': 2f2fa5da-3177-42ac-967c-240a46091e79\\2f2fa5da-3177-42ac-967c-240a46091e79_mean_projection.n...   \n",
       "\n",
       "             added_time             ran_time algo_duration comments  \\\n",
       "0   2024-09-26T11:56:54  2024-09-26T12:02:55      77.3 sec     None   \n",
       "1   2024-09-26T16:26:20  2024-09-26T16:28:48    143.18 sec     None   \n",
       "2   2024-10-01T12:09:56  2024-10-01T12:26:42    996.44 sec     None   \n",
       "3   2024-10-01T13:24:33  2024-10-01T13:28:06     83.34 sec     None   \n",
       "4   2024-10-01T13:24:33  2024-10-01T13:29:29     83.69 sec     None   \n",
       "5   2024-10-01T13:24:33  2024-10-01T13:30:53     83.81 sec     None   \n",
       "6   2024-10-01T13:24:33  2024-10-01T13:32:17     82.93 sec     None   \n",
       "7   2024-10-01T13:24:33  2024-10-01T13:33:39     82.31 sec     None   \n",
       "8   2024-10-01T13:24:33  2024-10-01T13:35:02     82.48 sec     None   \n",
       "9   2024-10-01T13:24:33  2024-10-01T13:36:24     81.99 sec     None   \n",
       "10  2024-10-01T13:24:33  2024-10-01T13:37:48      83.8 sec     None   \n",
       "11  2024-10-01T13:24:33  2024-10-01T13:39:11     83.03 sec     None   \n",
       "12  2024-10-01T13:24:33  2024-10-01T13:40:33     82.51 sec     None   \n",
       "13  2024-10-01T13:24:33  2024-10-01T13:41:56     82.22 sec     None   \n",
       "14  2024-10-01T13:24:33  2024-10-01T13:43:19     82.73 sec     None   \n",
       "15  2024-10-01T13:24:33  2024-10-01T13:44:41     81.82 sec     None   \n",
       "16  2024-10-01T13:24:33  2024-10-01T13:46:03      82.3 sec     None   \n",
       "17  2024-10-01T13:24:33  2024-10-01T13:47:26     82.44 sec     None   \n",
       "18  2024-10-01T13:24:33  2024-10-01T13:48:48      82.0 sec     None   \n",
       "19  2024-10-01T13:24:33  2024-10-01T13:50:11     83.41 sec     None   \n",
       "20  2024-10-01T13:24:33  2024-10-01T13:51:33      81.7 sec     None   \n",
       "21  2024-10-01T13:24:33  2024-10-01T13:52:56     82.56 sec     None   \n",
       "22  2024-10-01T13:24:33  2024-10-01T13:54:19      83.5 sec     None   \n",
       "23  2024-10-01T13:24:33  2024-10-01T13:55:42     82.36 sec     None   \n",
       "24  2024-10-01T13:24:33  2024-10-01T13:57:06     83.45 sec     None   \n",
       "25  2024-10-01T13:24:33  2024-10-01T13:58:28     82.03 sec     None   \n",
       "26  2024-10-01T13:24:33  2024-10-01T13:59:51     82.94 sec     None   \n",
       "27  2024-10-01T13:24:33  2024-10-01T14:01:15     83.64 sec     None   \n",
       "28  2024-10-01T13:24:33  2024-10-01T14:02:36     80.91 sec     None   \n",
       "29  2024-10-01T13:24:33  2024-10-01T14:03:58     81.79 sec     None   \n",
       "30  2024-10-01T13:24:33  2024-10-01T14:05:20     82.38 sec     None   \n",
       "\n",
       "                                    uuid  \n",
       "0   b32f41bf-a9a5-4965-be7c-e6779e854328  \n",
       "1   a057e39e-a2df-41d3-8217-83c9cd7ffb6d  \n",
       "2   0d8d3234-eab7-4f90-9405-53a2ad7917dc  \n",
       "3   c220fb8a-cef9-4784-91a2-84f33d760b75  \n",
       "4   ecdbaa07-8893-4352-8658-19a8357306b8  \n",
       "5   48bad9bd-8a15-4d42-ae64-cb199ff498bc  \n",
       "6   29217cfc-8575-4c35-b8b0-2fb29a4cb416  \n",
       "7   f9e87c87-913e-4027-a3bd-83c4c7182493  \n",
       "8   baf9fc6a-9159-46fd-a6b8-603d02c30c99  \n",
       "9   7afd6d4c-7787-4e02-8dfc-fd0ce578164d  \n",
       "10  28a3cd15-7671-4a5e-8744-9e8e73e35ee9  \n",
       "11  379d8c22-52c6-4a6a-ae8e-69ccd1d5c5ed  \n",
       "12  679fe640-ee6c-480c-bc71-e941000b8851  \n",
       "13  d5f2446a-0f42-472a-b969-735c7980b96b  \n",
       "14  888fa033-522f-4fec-bbd6-607f93fffc11  \n",
       "15  9c53c1bc-e865-4977-89da-1c1bff7d4d21  \n",
       "16  6f3101c4-9792-497a-939f-5a4780848a0d  \n",
       "17  41ed61cb-4b3e-4117-9db6-e054b1d8c697  \n",
       "18  625b34c3-eae3-4ad8-8015-5cc48122c7ec  \n",
       "19  e6a54884-a8a8-447b-be78-70957a62f161  \n",
       "20  c21edffc-96ae-4103-b0e7-9ae4af82a6a7  \n",
       "21  bbcf4810-f29e-4fde-a425-fa81a34e7c14  \n",
       "22  3f1399d9-951f-46b7-8424-8a5019984015  \n",
       "23  666389a4-64ae-48e1-bcb0-381a48cff336  \n",
       "24  09e7e82e-3365-409d-b961-33e51d022ba5  \n",
       "25  450d0648-35c0-4528-b199-c448b4b3de7a  \n",
       "26  31b2befb-4833-4a1e-83ef-4c177244bd33  \n",
       "27  b60dc323-4e70-4c7f-88f8-f7255e9252c5  \n",
       "28  6edd066c-6801-4c96-b71e-a34f3f446514  \n",
       "29  df55466a-8e2e-44d7-93d6-bc2ba0c5ab01  \n",
       "30  2f2fa5da-3177-42ac-967c-240a46091e79  "
      ]
     },
     "execution_count": 16,
     "metadata": {},
     "output_type": "execute_result"
    }
   ],
   "source": [
    "df = df.caiman.reload_from_disk()\n",
    "df"
   ]
  },
  {
   "cell_type": "code",
   "execution_count": 36,
   "id": "555e7380",
   "metadata": {},
   "outputs": [
    {
     "data": {
      "text/plain": [
       "{'main': {'fr': 9.62,\n",
       "  'dxy': (1.0, 1.0),\n",
       "  'decay_time': 0.4,\n",
       "  'p': 2,\n",
       "  'nb': 1,\n",
       "  'rf': 40,\n",
       "  'K': 150,\n",
       "  'gSig': array([7.5, 7.5]),\n",
       "  'stride': 10,\n",
       "  'method_init': 'greedy_roi',\n",
       "  'rolling_sum': True,\n",
       "  'use_cnn': False,\n",
       "  'ssub': 1,\n",
       "  'tsub': 1,\n",
       "  'merge_thr': 0.8,\n",
       "  'bas_nonneg': True,\n",
       "  'min_SNR': 1.4,\n",
       "  'rval_thr': 0.8},\n",
       " 'refit': True}"
      ]
     },
     "execution_count": 36,
     "metadata": {},
     "output_type": "execute_result"
    }
   ],
   "source": [
    "cnmf_params_all = df.iloc[2].params\n",
    "cnmf_params_all"
   ]
  },
  {
   "cell_type": "code",
   "execution_count": 4,
   "id": "733bbc54",
   "metadata": {
    "ExecuteTime": {
     "end_time": "2024-10-02T13:49:05.595203Z",
     "start_time": "2024-10-02T13:49:05.575782Z"
    }
   },
   "outputs": [],
   "source": [
    "cnmf_batch = parent_path / 'results'\n",
    "cnmf_batch.mkdir(exist_ok=True, parents=True)"
   ]
  },
  {
   "cell_type": "code",
   "execution_count": 5,
   "id": "67e021f2",
   "metadata": {
    "ExecuteTime": {
     "end_time": "2024-10-02T13:49:14.147172Z",
     "start_time": "2024-10-02T13:49:14.118172Z"
    }
   },
   "outputs": [
    {
     "data": {
      "text/html": [
       "<div>\n",
       "<style scoped>\n",
       "    .dataframe tbody tr th:only-of-type {\n",
       "        vertical-align: middle;\n",
       "    }\n",
       "\n",
       "    .dataframe tbody tr th {\n",
       "        vertical-align: top;\n",
       "    }\n",
       "\n",
       "    .dataframe thead th {\n",
       "        text-align: right;\n",
       "    }\n",
       "</style>\n",
       "<table border=\"1\" class=\"dataframe\">\n",
       "  <thead>\n",
       "    <tr style=\"text-align: right;\">\n",
       "      <th></th>\n",
       "      <th>algo</th>\n",
       "      <th>item_name</th>\n",
       "      <th>input_movie_path</th>\n",
       "      <th>params</th>\n",
       "      <th>outputs</th>\n",
       "      <th>added_time</th>\n",
       "      <th>ran_time</th>\n",
       "      <th>algo_duration</th>\n",
       "      <th>comments</th>\n",
       "      <th>uuid</th>\n",
       "    </tr>\n",
       "  </thead>\n",
       "  <tbody>\n",
       "    <tr>\n",
       "      <th>0</th>\n",
       "      <td>cnmf</td>\n",
       "      <td>cnmf_1</td>\n",
       "      <td>tiff\\extracted_plane_1.tif</td>\n",
       "      <td>{'main': {'fr': 9.62, 'dxy': (1.0, 1.0), 'decay_time': 0.4, 'p': 2, 'nb': 1, 'rf': 40, 'K': 150, 'gSig': [7.5, 7.5],...</td>\n",
       "      <td>{'mean-projection-path': faeb27e8-40b9-4e5a-ad8c-b9cc73c03635\\faeb27e8-40b9-4e5a-ad8c-b9cc73c03635_mean_projection.n...</td>\n",
       "      <td>2024-10-01T16:34:44</td>\n",
       "      <td>2024-10-01T16:54:16</td>\n",
       "      <td>946.94 sec</td>\n",
       "      <td>None</td>\n",
       "      <td>faeb27e8-40b9-4e5a-ad8c-b9cc73c03635</td>\n",
       "    </tr>\n",
       "    <tr>\n",
       "      <th>1</th>\n",
       "      <td>cnmf</td>\n",
       "      <td>cnmf_1</td>\n",
       "      <td>tiff\\extracted_plane_2.tif</td>\n",
       "      <td>{'main': {'fr': 9.62, 'dxy': (1.0, 1.0), 'decay_time': 0.4, 'p': 2, 'nb': 1, 'rf': 40, 'K': 150, 'gSig': [7.5, 7.5],...</td>\n",
       "      <td>{'mean-projection-path': 89b676c7-9480-47d7-b190-e4bbc2a5decc\\89b676c7-9480-47d7-b190-e4bbc2a5decc_mean_projection.n...</td>\n",
       "      <td>2024-10-01T16:34:44</td>\n",
       "      <td>2024-10-01T17:10:06</td>\n",
       "      <td>949.6 sec</td>\n",
       "      <td>None</td>\n",
       "      <td>89b676c7-9480-47d7-b190-e4bbc2a5decc</td>\n",
       "    </tr>\n",
       "    <tr>\n",
       "      <th>2</th>\n",
       "      <td>cnmf</td>\n",
       "      <td>cnmf_1</td>\n",
       "      <td>tiff\\extracted_plane_3.tif</td>\n",
       "      <td>{'main': {'fr': 9.62, 'dxy': (1.0, 1.0), 'decay_time': 0.4, 'p': 2, 'nb': 1, 'rf': 40, 'K': 150, 'gSig': [7.5, 7.5],...</td>\n",
       "      <td>{'mean-projection-path': f03ead24-ab13-48e7-87c0-27d5940a7c91\\f03ead24-ab13-48e7-87c0-27d5940a7c91_mean_projection.n...</td>\n",
       "      <td>2024-10-01T16:34:44</td>\n",
       "      <td>2024-10-01T17:28:57</td>\n",
       "      <td>1131.04 sec</td>\n",
       "      <td>None</td>\n",
       "      <td>f03ead24-ab13-48e7-87c0-27d5940a7c91</td>\n",
       "    </tr>\n",
       "    <tr>\n",
       "      <th>3</th>\n",
       "      <td>cnmf</td>\n",
       "      <td>cnmf_1</td>\n",
       "      <td>tiff\\extracted_plane_4.tif</td>\n",
       "      <td>{'main': {'fr': 9.62, 'dxy': (1.0, 1.0), 'decay_time': 0.4, 'p': 2, 'nb': 1, 'rf': 40, 'K': 150, 'gSig': [7.5, 7.5],...</td>\n",
       "      <td>{'mean-projection-path': 585a0fc2-40d4-45f2-badf-ba13d5cc77a6\\585a0fc2-40d4-45f2-badf-ba13d5cc77a6_mean_projection.n...</td>\n",
       "      <td>2024-10-01T16:34:44</td>\n",
       "      <td>2024-10-01T17:51:18</td>\n",
       "      <td>1340.32 sec</td>\n",
       "      <td>None</td>\n",
       "      <td>585a0fc2-40d4-45f2-badf-ba13d5cc77a6</td>\n",
       "    </tr>\n",
       "    <tr>\n",
       "      <th>4</th>\n",
       "      <td>cnmf</td>\n",
       "      <td>cnmf_1</td>\n",
       "      <td>tiff\\extracted_plane_5.tif</td>\n",
       "      <td>{'main': {'fr': 9.62, 'dxy': (1.0, 1.0), 'decay_time': 0.4, 'p': 2, 'nb': 1, 'rf': 40, 'K': 150, 'gSig': [7.5, 7.5],...</td>\n",
       "      <td>{'mean-projection-path': 544c2a52-0b90-4b74-baae-b2ca913c7c2a\\544c2a52-0b90-4b74-baae-b2ca913c7c2a_mean_projection.n...</td>\n",
       "      <td>2024-10-01T16:34:44</td>\n",
       "      <td>2024-10-01T18:08:22</td>\n",
       "      <td>1024.35 sec</td>\n",
       "      <td>None</td>\n",
       "      <td>544c2a52-0b90-4b74-baae-b2ca913c7c2a</td>\n",
       "    </tr>\n",
       "    <tr>\n",
       "      <th>5</th>\n",
       "      <td>cnmf</td>\n",
       "      <td>cnmf_1</td>\n",
       "      <td>tiff\\extracted_plane_6.tif</td>\n",
       "      <td>{'main': {'fr': 9.62, 'dxy': (1.0, 1.0), 'decay_time': 0.4, 'p': 2, 'nb': 1, 'rf': 40, 'K': 150, 'gSig': [7.5, 7.5],...</td>\n",
       "      <td>{'mean-projection-path': d6c3f33c-2b90-4c6d-a4ad-f237dae5f73b\\d6c3f33c-2b90-4c6d-a4ad-f237dae5f73b_mean_projection.n...</td>\n",
       "      <td>2024-10-01T16:34:44</td>\n",
       "      <td>2024-10-01T18:24:00</td>\n",
       "      <td>937.73 sec</td>\n",
       "      <td>None</td>\n",
       "      <td>d6c3f33c-2b90-4c6d-a4ad-f237dae5f73b</td>\n",
       "    </tr>\n",
       "    <tr>\n",
       "      <th>6</th>\n",
       "      <td>cnmf</td>\n",
       "      <td>cnmf_1</td>\n",
       "      <td>tiff\\extracted_plane_7.tif</td>\n",
       "      <td>{'main': {'fr': 9.62, 'dxy': (1.0, 1.0), 'decay_time': 0.4, 'p': 2, 'nb': 1, 'rf': 40, 'K': 150, 'gSig': [7.5, 7.5],...</td>\n",
       "      <td>{'mean-projection-path': ca269a68-06d0-4f96-b508-87160fdf37ab\\ca269a68-06d0-4f96-b508-87160fdf37ab_mean_projection.n...</td>\n",
       "      <td>2024-10-01T16:34:44</td>\n",
       "      <td>2024-10-01T18:39:39</td>\n",
       "      <td>939.58 sec</td>\n",
       "      <td>None</td>\n",
       "      <td>ca269a68-06d0-4f96-b508-87160fdf37ab</td>\n",
       "    </tr>\n",
       "    <tr>\n",
       "      <th>7</th>\n",
       "      <td>cnmf</td>\n",
       "      <td>cnmf_1</td>\n",
       "      <td>tiff\\extracted_plane_8.tif</td>\n",
       "      <td>{'main': {'fr': 9.62, 'dxy': (1.0, 1.0), 'decay_time': 0.4, 'p': 2, 'nb': 1, 'rf': 40, 'K': 150, 'gSig': [7.5, 7.5],...</td>\n",
       "      <td>{'mean-projection-path': a9cb2077-073a-4552-9669-e53ba0c96803\\a9cb2077-073a-4552-9669-e53ba0c96803_mean_projection.n...</td>\n",
       "      <td>2024-10-01T16:34:44</td>\n",
       "      <td>2024-10-01T18:55:09</td>\n",
       "      <td>929.57 sec</td>\n",
       "      <td>None</td>\n",
       "      <td>a9cb2077-073a-4552-9669-e53ba0c96803</td>\n",
       "    </tr>\n",
       "    <tr>\n",
       "      <th>8</th>\n",
       "      <td>cnmf</td>\n",
       "      <td>cnmf_1</td>\n",
       "      <td>tiff\\extracted_plane_9.tif</td>\n",
       "      <td>{'main': {'fr': 9.62, 'dxy': (1.0, 1.0), 'decay_time': 0.4, 'p': 2, 'nb': 1, 'rf': 40, 'K': 150, 'gSig': [7.5, 7.5],...</td>\n",
       "      <td>{'mean-projection-path': c0205f69-ccb6-4304-9cee-18af09d11663\\c0205f69-ccb6-4304-9cee-18af09d11663_mean_projection.n...</td>\n",
       "      <td>2024-10-01T16:34:44</td>\n",
       "      <td>2024-10-01T19:10:49</td>\n",
       "      <td>940.35 sec</td>\n",
       "      <td>None</td>\n",
       "      <td>c0205f69-ccb6-4304-9cee-18af09d11663</td>\n",
       "    </tr>\n",
       "    <tr>\n",
       "      <th>9</th>\n",
       "      <td>cnmf</td>\n",
       "      <td>cnmf_1</td>\n",
       "      <td>tiff\\extracted_plane_10.tif</td>\n",
       "      <td>{'main': {'fr': 9.62, 'dxy': (1.0, 1.0), 'decay_time': 0.4, 'p': 2, 'nb': 1, 'rf': 40, 'K': 150, 'gSig': [7.5, 7.5],...</td>\n",
       "      <td>{'mean-projection-path': 1fac642d-6cef-4a68-9415-737213b4462d\\1fac642d-6cef-4a68-9415-737213b4462d_mean_projection.n...</td>\n",
       "      <td>2024-10-01T16:34:44</td>\n",
       "      <td>2024-10-01T19:28:15</td>\n",
       "      <td>1045.02 sec</td>\n",
       "      <td>None</td>\n",
       "      <td>1fac642d-6cef-4a68-9415-737213b4462d</td>\n",
       "    </tr>\n",
       "    <tr>\n",
       "      <th>10</th>\n",
       "      <td>cnmf</td>\n",
       "      <td>cnmf_1</td>\n",
       "      <td>tiff\\extracted_plane_11.tif</td>\n",
       "      <td>{'main': {'fr': 9.62, 'dxy': (1.0, 1.0), 'decay_time': 0.4, 'p': 2, 'nb': 1, 'rf': 40, 'K': 150, 'gSig': [7.5, 7.5],...</td>\n",
       "      <td>{'mean-projection-path': 97569a0f-b5c4-41b5-9268-b4ddeda9d740\\97569a0f-b5c4-41b5-9268-b4ddeda9d740_mean_projection.n...</td>\n",
       "      <td>2024-10-01T16:34:44</td>\n",
       "      <td>2024-10-01T19:45:46</td>\n",
       "      <td>1051.62 sec</td>\n",
       "      <td>None</td>\n",
       "      <td>97569a0f-b5c4-41b5-9268-b4ddeda9d740</td>\n",
       "    </tr>\n",
       "    <tr>\n",
       "      <th>11</th>\n",
       "      <td>cnmf</td>\n",
       "      <td>cnmf_1</td>\n",
       "      <td>tiff\\extracted_plane_12.tif</td>\n",
       "      <td>{'main': {'fr': 9.62, 'dxy': (1.0, 1.0), 'decay_time': 0.4, 'p': 2, 'nb': 1, 'rf': 40, 'K': 150, 'gSig': [7.5, 7.5],...</td>\n",
       "      <td>{'mean-projection-path': c2d0864d-1313-4ded-8b7f-4a7f02947b2d\\c2d0864d-1313-4ded-8b7f-4a7f02947b2d_mean_projection.n...</td>\n",
       "      <td>2024-10-01T16:34:44</td>\n",
       "      <td>2024-10-01T20:01:40</td>\n",
       "      <td>953.4 sec</td>\n",
       "      <td>None</td>\n",
       "      <td>c2d0864d-1313-4ded-8b7f-4a7f02947b2d</td>\n",
       "    </tr>\n",
       "    <tr>\n",
       "      <th>12</th>\n",
       "      <td>cnmf</td>\n",
       "      <td>cnmf_1</td>\n",
       "      <td>tiff\\extracted_plane_13.tif</td>\n",
       "      <td>{'main': {'fr': 9.62, 'dxy': (1.0, 1.0), 'decay_time': 0.4, 'p': 2, 'nb': 1, 'rf': 40, 'K': 150, 'gSig': [7.5, 7.5],...</td>\n",
       "      <td>{'mean-projection-path': 8301c084-fe7c-4e84-b8d7-db6fcc8893ed\\8301c084-fe7c-4e84-b8d7-db6fcc8893ed_mean_projection.n...</td>\n",
       "      <td>2024-10-01T16:34:44</td>\n",
       "      <td>2024-10-01T20:17:40</td>\n",
       "      <td>960.7 sec</td>\n",
       "      <td>None</td>\n",
       "      <td>8301c084-fe7c-4e84-b8d7-db6fcc8893ed</td>\n",
       "    </tr>\n",
       "    <tr>\n",
       "      <th>13</th>\n",
       "      <td>cnmf</td>\n",
       "      <td>cnmf_1</td>\n",
       "      <td>tiff\\extracted_plane_14.tif</td>\n",
       "      <td>{'main': {'fr': 9.62, 'dxy': (1.0, 1.0), 'decay_time': 0.4, 'p': 2, 'nb': 1, 'rf': 40, 'K': 150, 'gSig': [7.5, 7.5],...</td>\n",
       "      <td>{'mean-projection-path': 1eabd9f9-1a57-4c08-a830-9276371c00a9\\1eabd9f9-1a57-4c08-a830-9276371c00a9_mean_projection.n...</td>\n",
       "      <td>2024-10-01T16:34:44</td>\n",
       "      <td>2024-10-01T20:33:51</td>\n",
       "      <td>970.13 sec</td>\n",
       "      <td>None</td>\n",
       "      <td>1eabd9f9-1a57-4c08-a830-9276371c00a9</td>\n",
       "    </tr>\n",
       "    <tr>\n",
       "      <th>14</th>\n",
       "      <td>cnmf</td>\n",
       "      <td>cnmf_1</td>\n",
       "      <td>tiff\\extracted_plane_15.tif</td>\n",
       "      <td>{'main': {'fr': 9.62, 'dxy': (1.0, 1.0), 'decay_time': 0.4, 'p': 2, 'nb': 1, 'rf': 40, 'K': 150, 'gSig': [7.5, 7.5],...</td>\n",
       "      <td>{'mean-projection-path': 25be7a5b-dd16-42cd-bd4a-1312b4c6e791\\25be7a5b-dd16-42cd-bd4a-1312b4c6e791_mean_projection.n...</td>\n",
       "      <td>2024-10-01T16:34:44</td>\n",
       "      <td>2024-10-01T20:52:06</td>\n",
       "      <td>1095.19 sec</td>\n",
       "      <td>None</td>\n",
       "      <td>25be7a5b-dd16-42cd-bd4a-1312b4c6e791</td>\n",
       "    </tr>\n",
       "    <tr>\n",
       "      <th>15</th>\n",
       "      <td>cnmf</td>\n",
       "      <td>cnmf_1</td>\n",
       "      <td>tiff\\extracted_plane_16.tif</td>\n",
       "      <td>{'main': {'fr': 9.62, 'dxy': (1.0, 1.0), 'decay_time': 0.4, 'p': 2, 'nb': 1, 'rf': 40, 'K': 150, 'gSig': [7.5, 7.5],...</td>\n",
       "      <td>{'mean-projection-path': f87dc096-6bb2-40dd-8dff-20f1362423b0\\f87dc096-6bb2-40dd-8dff-20f1362423b0_mean_projection.n...</td>\n",
       "      <td>2024-10-01T16:34:44</td>\n",
       "      <td>2024-10-01T21:08:23</td>\n",
       "      <td>977.02 sec</td>\n",
       "      <td>None</td>\n",
       "      <td>f87dc096-6bb2-40dd-8dff-20f1362423b0</td>\n",
       "    </tr>\n",
       "    <tr>\n",
       "      <th>16</th>\n",
       "      <td>cnmf</td>\n",
       "      <td>cnmf_1</td>\n",
       "      <td>tiff\\extracted_plane_17.tif</td>\n",
       "      <td>{'main': {'fr': 9.62, 'dxy': (1.0, 1.0), 'decay_time': 0.4, 'p': 2, 'nb': 1, 'rf': 40, 'K': 150, 'gSig': [7.5, 7.5],...</td>\n",
       "      <td>{'mean-projection-path': 0e6f8223-3002-4430-a987-d83a6d7c7bd8\\0e6f8223-3002-4430-a987-d83a6d7c7bd8_mean_projection.n...</td>\n",
       "      <td>2024-10-01T16:34:44</td>\n",
       "      <td>2024-10-01T21:28:21</td>\n",
       "      <td>1197.8 sec</td>\n",
       "      <td>None</td>\n",
       "      <td>0e6f8223-3002-4430-a987-d83a6d7c7bd8</td>\n",
       "    </tr>\n",
       "    <tr>\n",
       "      <th>17</th>\n",
       "      <td>cnmf</td>\n",
       "      <td>cnmf_1</td>\n",
       "      <td>tiff\\extracted_plane_18.tif</td>\n",
       "      <td>{'main': {'fr': 9.62, 'dxy': (1.0, 1.0), 'decay_time': 0.4, 'p': 2, 'nb': 1, 'rf': 40, 'K': 150, 'gSig': [7.5, 7.5],...</td>\n",
       "      <td>{'mean-projection-path': 52ab80e3-880f-4ae5-bd38-711c0138ebe2\\52ab80e3-880f-4ae5-bd38-711c0138ebe2_mean_projection.n...</td>\n",
       "      <td>2024-10-01T16:34:44</td>\n",
       "      <td>2024-10-01T21:46:45</td>\n",
       "      <td>1104.12 sec</td>\n",
       "      <td>None</td>\n",
       "      <td>52ab80e3-880f-4ae5-bd38-711c0138ebe2</td>\n",
       "    </tr>\n",
       "    <tr>\n",
       "      <th>18</th>\n",
       "      <td>cnmf</td>\n",
       "      <td>cnmf_1</td>\n",
       "      <td>tiff\\extracted_plane_19.tif</td>\n",
       "      <td>{'main': {'fr': 9.62, 'dxy': (1.0, 1.0), 'decay_time': 0.4, 'p': 2, 'nb': 1, 'rf': 40, 'K': 150, 'gSig': [7.5, 7.5],...</td>\n",
       "      <td>{'mean-projection-path': 65c8dfa4-2a65-4618-8240-7f08fccce4ad\\65c8dfa4-2a65-4618-8240-7f08fccce4ad_mean_projection.n...</td>\n",
       "      <td>2024-10-01T16:34:44</td>\n",
       "      <td>2024-10-01T22:05:32</td>\n",
       "      <td>1126.88 sec</td>\n",
       "      <td>None</td>\n",
       "      <td>65c8dfa4-2a65-4618-8240-7f08fccce4ad</td>\n",
       "    </tr>\n",
       "    <tr>\n",
       "      <th>19</th>\n",
       "      <td>cnmf</td>\n",
       "      <td>cnmf_1</td>\n",
       "      <td>tiff\\extracted_plane_20.tif</td>\n",
       "      <td>{'main': {'fr': 9.62, 'dxy': (1.0, 1.0), 'decay_time': 0.4, 'p': 2, 'nb': 1, 'rf': 40, 'K': 150, 'gSig': [7.5, 7.5],...</td>\n",
       "      <td>{'mean-projection-path': 473b088b-1b8e-4ecb-97e2-75eb299851b2\\473b088b-1b8e-4ecb-97e2-75eb299851b2_mean_projection.n...</td>\n",
       "      <td>2024-10-01T16:34:44</td>\n",
       "      <td>2024-10-01T22:23:00</td>\n",
       "      <td>1048.28 sec</td>\n",
       "      <td>None</td>\n",
       "      <td>473b088b-1b8e-4ecb-97e2-75eb299851b2</td>\n",
       "    </tr>\n",
       "    <tr>\n",
       "      <th>20</th>\n",
       "      <td>cnmf</td>\n",
       "      <td>cnmf_1</td>\n",
       "      <td>tiff\\extracted_plane_21.tif</td>\n",
       "      <td>{'main': {'fr': 9.62, 'dxy': (1.0, 1.0), 'decay_time': 0.4, 'p': 2, 'nb': 1, 'rf': 40, 'K': 150, 'gSig': [7.5, 7.5],...</td>\n",
       "      <td>{'mean-projection-path': 60d2fc66-20a9-4f00-b6f7-b9e80440efe7\\60d2fc66-20a9-4f00-b6f7-b9e80440efe7_mean_projection.n...</td>\n",
       "      <td>2024-10-01T16:34:44</td>\n",
       "      <td>2024-10-01T22:41:10</td>\n",
       "      <td>1090.04 sec</td>\n",
       "      <td>None</td>\n",
       "      <td>60d2fc66-20a9-4f00-b6f7-b9e80440efe7</td>\n",
       "    </tr>\n",
       "    <tr>\n",
       "      <th>21</th>\n",
       "      <td>cnmf</td>\n",
       "      <td>cnmf_1</td>\n",
       "      <td>tiff\\extracted_plane_22.tif</td>\n",
       "      <td>{'main': {'fr': 9.62, 'dxy': (1.0, 1.0), 'decay_time': 0.4, 'p': 2, 'nb': 1, 'rf': 40, 'K': 150, 'gSig': [7.5, 7.5],...</td>\n",
       "      <td>{'mean-projection-path': 8926526d-cc18-47e2-b599-1496b2c9f03e\\8926526d-cc18-47e2-b599-1496b2c9f03e_mean_projection.n...</td>\n",
       "      <td>2024-10-01T16:34:44</td>\n",
       "      <td>2024-10-01T23:01:26</td>\n",
       "      <td>1215.23 sec</td>\n",
       "      <td>None</td>\n",
       "      <td>8926526d-cc18-47e2-b599-1496b2c9f03e</td>\n",
       "    </tr>\n",
       "    <tr>\n",
       "      <th>22</th>\n",
       "      <td>cnmf</td>\n",
       "      <td>cnmf_1</td>\n",
       "      <td>tiff\\extracted_plane_23.tif</td>\n",
       "      <td>{'main': {'fr': 9.62, 'dxy': (1.0, 1.0), 'decay_time': 0.4, 'p': 2, 'nb': 1, 'rf': 40, 'K': 150, 'gSig': [7.5, 7.5],...</td>\n",
       "      <td>{'mean-projection-path': f2b1c811-e02a-4058-a15b-861ee1128793\\f2b1c811-e02a-4058-a15b-861ee1128793_mean_projection.n...</td>\n",
       "      <td>2024-10-01T16:34:44</td>\n",
       "      <td>2024-10-01T23:20:00</td>\n",
       "      <td>1114.08 sec</td>\n",
       "      <td>None</td>\n",
       "      <td>f2b1c811-e02a-4058-a15b-861ee1128793</td>\n",
       "    </tr>\n",
       "    <tr>\n",
       "      <th>23</th>\n",
       "      <td>cnmf</td>\n",
       "      <td>cnmf_1</td>\n",
       "      <td>tiff\\extracted_plane_24.tif</td>\n",
       "      <td>{'main': {'fr': 9.62, 'dxy': (1.0, 1.0), 'decay_time': 0.4, 'p': 2, 'nb': 1, 'rf': 40, 'K': 150, 'gSig': [7.5, 7.5],...</td>\n",
       "      <td>{'mean-projection-path': 5c9bd42e-fb07-43f0-a18d-0b9e516db4ec\\5c9bd42e-fb07-43f0-a18d-0b9e516db4ec_mean_projection.n...</td>\n",
       "      <td>2024-10-01T16:34:44</td>\n",
       "      <td>2024-10-01T23:38:35</td>\n",
       "      <td>1114.86 sec</td>\n",
       "      <td>None</td>\n",
       "      <td>5c9bd42e-fb07-43f0-a18d-0b9e516db4ec</td>\n",
       "    </tr>\n",
       "    <tr>\n",
       "      <th>24</th>\n",
       "      <td>cnmf</td>\n",
       "      <td>cnmf_1</td>\n",
       "      <td>tiff\\extracted_plane_25.tif</td>\n",
       "      <td>{'main': {'fr': 9.62, 'dxy': (1.0, 1.0), 'decay_time': 0.4, 'p': 2, 'nb': 1, 'rf': 40, 'K': 150, 'gSig': [7.5, 7.5],...</td>\n",
       "      <td>{'mean-projection-path': 84004c56-81c1-474b-ab38-327fbf79bf8c\\84004c56-81c1-474b-ab38-327fbf79bf8c_mean_projection.n...</td>\n",
       "      <td>2024-10-01T16:34:44</td>\n",
       "      <td>2024-10-01T23:57:28</td>\n",
       "      <td>1132.94 sec</td>\n",
       "      <td>None</td>\n",
       "      <td>84004c56-81c1-474b-ab38-327fbf79bf8c</td>\n",
       "    </tr>\n",
       "    <tr>\n",
       "      <th>25</th>\n",
       "      <td>cnmf</td>\n",
       "      <td>cnmf_1</td>\n",
       "      <td>tiff\\extracted_plane_26.tif</td>\n",
       "      <td>{'main': {'fr': 9.62, 'dxy': (1.0, 1.0), 'decay_time': 0.4, 'p': 2, 'nb': 1, 'rf': 40, 'K': 150, 'gSig': [7.5, 7.5],...</td>\n",
       "      <td>{'mean-projection-path': 23521021-6791-4d41-855d-779eefce6840\\23521021-6791-4d41-855d-779eefce6840_mean_projection.n...</td>\n",
       "      <td>2024-10-01T16:34:44</td>\n",
       "      <td>2024-10-02T00:14:28</td>\n",
       "      <td>1019.75 sec</td>\n",
       "      <td>None</td>\n",
       "      <td>23521021-6791-4d41-855d-779eefce6840</td>\n",
       "    </tr>\n",
       "    <tr>\n",
       "      <th>26</th>\n",
       "      <td>cnmf</td>\n",
       "      <td>cnmf_1</td>\n",
       "      <td>tiff\\extracted_plane_27.tif</td>\n",
       "      <td>{'main': {'fr': 9.62, 'dxy': (1.0, 1.0), 'decay_time': 0.4, 'p': 2, 'nb': 1, 'rf': 40, 'K': 150, 'gSig': [7.5, 7.5],...</td>\n",
       "      <td>{'mean-projection-path': 07907a0b-b138-41e3-99a7-f7153738a640\\07907a0b-b138-41e3-99a7-f7153738a640_mean_projection.n...</td>\n",
       "      <td>2024-10-01T16:34:44</td>\n",
       "      <td>2024-10-02T00:34:07</td>\n",
       "      <td>1179.51 sec</td>\n",
       "      <td>None</td>\n",
       "      <td>07907a0b-b138-41e3-99a7-f7153738a640</td>\n",
       "    </tr>\n",
       "    <tr>\n",
       "      <th>27</th>\n",
       "      <td>cnmf</td>\n",
       "      <td>cnmf_1</td>\n",
       "      <td>tiff\\extracted_plane_28.tif</td>\n",
       "      <td>{'main': {'fr': 9.62, 'dxy': (1.0, 1.0), 'decay_time': 0.4, 'p': 2, 'nb': 1, 'rf': 40, 'K': 150, 'gSig': [7.5, 7.5],...</td>\n",
       "      <td>{'mean-projection-path': 8b7cbfb4-7c62-4780-a90c-5275cbe1f318\\8b7cbfb4-7c62-4780-a90c-5275cbe1f318_mean_projection.n...</td>\n",
       "      <td>2024-10-01T16:34:44</td>\n",
       "      <td>2024-10-02T00:49:55</td>\n",
       "      <td>947.96 sec</td>\n",
       "      <td>None</td>\n",
       "      <td>8b7cbfb4-7c62-4780-a90c-5275cbe1f318</td>\n",
       "    </tr>\n",
       "  </tbody>\n",
       "</table>\n",
       "</div>"
      ],
      "text/plain": [
       "    algo item_name             input_movie_path  \\\n",
       "0   cnmf    cnmf_1   tiff\\extracted_plane_1.tif   \n",
       "1   cnmf    cnmf_1   tiff\\extracted_plane_2.tif   \n",
       "2   cnmf    cnmf_1   tiff\\extracted_plane_3.tif   \n",
       "3   cnmf    cnmf_1   tiff\\extracted_plane_4.tif   \n",
       "4   cnmf    cnmf_1   tiff\\extracted_plane_5.tif   \n",
       "5   cnmf    cnmf_1   tiff\\extracted_plane_6.tif   \n",
       "6   cnmf    cnmf_1   tiff\\extracted_plane_7.tif   \n",
       "7   cnmf    cnmf_1   tiff\\extracted_plane_8.tif   \n",
       "8   cnmf    cnmf_1   tiff\\extracted_plane_9.tif   \n",
       "9   cnmf    cnmf_1  tiff\\extracted_plane_10.tif   \n",
       "10  cnmf    cnmf_1  tiff\\extracted_plane_11.tif   \n",
       "11  cnmf    cnmf_1  tiff\\extracted_plane_12.tif   \n",
       "12  cnmf    cnmf_1  tiff\\extracted_plane_13.tif   \n",
       "13  cnmf    cnmf_1  tiff\\extracted_plane_14.tif   \n",
       "14  cnmf    cnmf_1  tiff\\extracted_plane_15.tif   \n",
       "15  cnmf    cnmf_1  tiff\\extracted_plane_16.tif   \n",
       "16  cnmf    cnmf_1  tiff\\extracted_plane_17.tif   \n",
       "17  cnmf    cnmf_1  tiff\\extracted_plane_18.tif   \n",
       "18  cnmf    cnmf_1  tiff\\extracted_plane_19.tif   \n",
       "19  cnmf    cnmf_1  tiff\\extracted_plane_20.tif   \n",
       "20  cnmf    cnmf_1  tiff\\extracted_plane_21.tif   \n",
       "21  cnmf    cnmf_1  tiff\\extracted_plane_22.tif   \n",
       "22  cnmf    cnmf_1  tiff\\extracted_plane_23.tif   \n",
       "23  cnmf    cnmf_1  tiff\\extracted_plane_24.tif   \n",
       "24  cnmf    cnmf_1  tiff\\extracted_plane_25.tif   \n",
       "25  cnmf    cnmf_1  tiff\\extracted_plane_26.tif   \n",
       "26  cnmf    cnmf_1  tiff\\extracted_plane_27.tif   \n",
       "27  cnmf    cnmf_1  tiff\\extracted_plane_28.tif   \n",
       "\n",
       "                                                                                                                     params  \\\n",
       "0   {'main': {'fr': 9.62, 'dxy': (1.0, 1.0), 'decay_time': 0.4, 'p': 2, 'nb': 1, 'rf': 40, 'K': 150, 'gSig': [7.5, 7.5],...   \n",
       "1   {'main': {'fr': 9.62, 'dxy': (1.0, 1.0), 'decay_time': 0.4, 'p': 2, 'nb': 1, 'rf': 40, 'K': 150, 'gSig': [7.5, 7.5],...   \n",
       "2   {'main': {'fr': 9.62, 'dxy': (1.0, 1.0), 'decay_time': 0.4, 'p': 2, 'nb': 1, 'rf': 40, 'K': 150, 'gSig': [7.5, 7.5],...   \n",
       "3   {'main': {'fr': 9.62, 'dxy': (1.0, 1.0), 'decay_time': 0.4, 'p': 2, 'nb': 1, 'rf': 40, 'K': 150, 'gSig': [7.5, 7.5],...   \n",
       "4   {'main': {'fr': 9.62, 'dxy': (1.0, 1.0), 'decay_time': 0.4, 'p': 2, 'nb': 1, 'rf': 40, 'K': 150, 'gSig': [7.5, 7.5],...   \n",
       "5   {'main': {'fr': 9.62, 'dxy': (1.0, 1.0), 'decay_time': 0.4, 'p': 2, 'nb': 1, 'rf': 40, 'K': 150, 'gSig': [7.5, 7.5],...   \n",
       "6   {'main': {'fr': 9.62, 'dxy': (1.0, 1.0), 'decay_time': 0.4, 'p': 2, 'nb': 1, 'rf': 40, 'K': 150, 'gSig': [7.5, 7.5],...   \n",
       "7   {'main': {'fr': 9.62, 'dxy': (1.0, 1.0), 'decay_time': 0.4, 'p': 2, 'nb': 1, 'rf': 40, 'K': 150, 'gSig': [7.5, 7.5],...   \n",
       "8   {'main': {'fr': 9.62, 'dxy': (1.0, 1.0), 'decay_time': 0.4, 'p': 2, 'nb': 1, 'rf': 40, 'K': 150, 'gSig': [7.5, 7.5],...   \n",
       "9   {'main': {'fr': 9.62, 'dxy': (1.0, 1.0), 'decay_time': 0.4, 'p': 2, 'nb': 1, 'rf': 40, 'K': 150, 'gSig': [7.5, 7.5],...   \n",
       "10  {'main': {'fr': 9.62, 'dxy': (1.0, 1.0), 'decay_time': 0.4, 'p': 2, 'nb': 1, 'rf': 40, 'K': 150, 'gSig': [7.5, 7.5],...   \n",
       "11  {'main': {'fr': 9.62, 'dxy': (1.0, 1.0), 'decay_time': 0.4, 'p': 2, 'nb': 1, 'rf': 40, 'K': 150, 'gSig': [7.5, 7.5],...   \n",
       "12  {'main': {'fr': 9.62, 'dxy': (1.0, 1.0), 'decay_time': 0.4, 'p': 2, 'nb': 1, 'rf': 40, 'K': 150, 'gSig': [7.5, 7.5],...   \n",
       "13  {'main': {'fr': 9.62, 'dxy': (1.0, 1.0), 'decay_time': 0.4, 'p': 2, 'nb': 1, 'rf': 40, 'K': 150, 'gSig': [7.5, 7.5],...   \n",
       "14  {'main': {'fr': 9.62, 'dxy': (1.0, 1.0), 'decay_time': 0.4, 'p': 2, 'nb': 1, 'rf': 40, 'K': 150, 'gSig': [7.5, 7.5],...   \n",
       "15  {'main': {'fr': 9.62, 'dxy': (1.0, 1.0), 'decay_time': 0.4, 'p': 2, 'nb': 1, 'rf': 40, 'K': 150, 'gSig': [7.5, 7.5],...   \n",
       "16  {'main': {'fr': 9.62, 'dxy': (1.0, 1.0), 'decay_time': 0.4, 'p': 2, 'nb': 1, 'rf': 40, 'K': 150, 'gSig': [7.5, 7.5],...   \n",
       "17  {'main': {'fr': 9.62, 'dxy': (1.0, 1.0), 'decay_time': 0.4, 'p': 2, 'nb': 1, 'rf': 40, 'K': 150, 'gSig': [7.5, 7.5],...   \n",
       "18  {'main': {'fr': 9.62, 'dxy': (1.0, 1.0), 'decay_time': 0.4, 'p': 2, 'nb': 1, 'rf': 40, 'K': 150, 'gSig': [7.5, 7.5],...   \n",
       "19  {'main': {'fr': 9.62, 'dxy': (1.0, 1.0), 'decay_time': 0.4, 'p': 2, 'nb': 1, 'rf': 40, 'K': 150, 'gSig': [7.5, 7.5],...   \n",
       "20  {'main': {'fr': 9.62, 'dxy': (1.0, 1.0), 'decay_time': 0.4, 'p': 2, 'nb': 1, 'rf': 40, 'K': 150, 'gSig': [7.5, 7.5],...   \n",
       "21  {'main': {'fr': 9.62, 'dxy': (1.0, 1.0), 'decay_time': 0.4, 'p': 2, 'nb': 1, 'rf': 40, 'K': 150, 'gSig': [7.5, 7.5],...   \n",
       "22  {'main': {'fr': 9.62, 'dxy': (1.0, 1.0), 'decay_time': 0.4, 'p': 2, 'nb': 1, 'rf': 40, 'K': 150, 'gSig': [7.5, 7.5],...   \n",
       "23  {'main': {'fr': 9.62, 'dxy': (1.0, 1.0), 'decay_time': 0.4, 'p': 2, 'nb': 1, 'rf': 40, 'K': 150, 'gSig': [7.5, 7.5],...   \n",
       "24  {'main': {'fr': 9.62, 'dxy': (1.0, 1.0), 'decay_time': 0.4, 'p': 2, 'nb': 1, 'rf': 40, 'K': 150, 'gSig': [7.5, 7.5],...   \n",
       "25  {'main': {'fr': 9.62, 'dxy': (1.0, 1.0), 'decay_time': 0.4, 'p': 2, 'nb': 1, 'rf': 40, 'K': 150, 'gSig': [7.5, 7.5],...   \n",
       "26  {'main': {'fr': 9.62, 'dxy': (1.0, 1.0), 'decay_time': 0.4, 'p': 2, 'nb': 1, 'rf': 40, 'K': 150, 'gSig': [7.5, 7.5],...   \n",
       "27  {'main': {'fr': 9.62, 'dxy': (1.0, 1.0), 'decay_time': 0.4, 'p': 2, 'nb': 1, 'rf': 40, 'K': 150, 'gSig': [7.5, 7.5],...   \n",
       "\n",
       "                                                                                                                    outputs  \\\n",
       "0   {'mean-projection-path': faeb27e8-40b9-4e5a-ad8c-b9cc73c03635\\faeb27e8-40b9-4e5a-ad8c-b9cc73c03635_mean_projection.n...   \n",
       "1   {'mean-projection-path': 89b676c7-9480-47d7-b190-e4bbc2a5decc\\89b676c7-9480-47d7-b190-e4bbc2a5decc_mean_projection.n...   \n",
       "2   {'mean-projection-path': f03ead24-ab13-48e7-87c0-27d5940a7c91\\f03ead24-ab13-48e7-87c0-27d5940a7c91_mean_projection.n...   \n",
       "3   {'mean-projection-path': 585a0fc2-40d4-45f2-badf-ba13d5cc77a6\\585a0fc2-40d4-45f2-badf-ba13d5cc77a6_mean_projection.n...   \n",
       "4   {'mean-projection-path': 544c2a52-0b90-4b74-baae-b2ca913c7c2a\\544c2a52-0b90-4b74-baae-b2ca913c7c2a_mean_projection.n...   \n",
       "5   {'mean-projection-path': d6c3f33c-2b90-4c6d-a4ad-f237dae5f73b\\d6c3f33c-2b90-4c6d-a4ad-f237dae5f73b_mean_projection.n...   \n",
       "6   {'mean-projection-path': ca269a68-06d0-4f96-b508-87160fdf37ab\\ca269a68-06d0-4f96-b508-87160fdf37ab_mean_projection.n...   \n",
       "7   {'mean-projection-path': a9cb2077-073a-4552-9669-e53ba0c96803\\a9cb2077-073a-4552-9669-e53ba0c96803_mean_projection.n...   \n",
       "8   {'mean-projection-path': c0205f69-ccb6-4304-9cee-18af09d11663\\c0205f69-ccb6-4304-9cee-18af09d11663_mean_projection.n...   \n",
       "9   {'mean-projection-path': 1fac642d-6cef-4a68-9415-737213b4462d\\1fac642d-6cef-4a68-9415-737213b4462d_mean_projection.n...   \n",
       "10  {'mean-projection-path': 97569a0f-b5c4-41b5-9268-b4ddeda9d740\\97569a0f-b5c4-41b5-9268-b4ddeda9d740_mean_projection.n...   \n",
       "11  {'mean-projection-path': c2d0864d-1313-4ded-8b7f-4a7f02947b2d\\c2d0864d-1313-4ded-8b7f-4a7f02947b2d_mean_projection.n...   \n",
       "12  {'mean-projection-path': 8301c084-fe7c-4e84-b8d7-db6fcc8893ed\\8301c084-fe7c-4e84-b8d7-db6fcc8893ed_mean_projection.n...   \n",
       "13  {'mean-projection-path': 1eabd9f9-1a57-4c08-a830-9276371c00a9\\1eabd9f9-1a57-4c08-a830-9276371c00a9_mean_projection.n...   \n",
       "14  {'mean-projection-path': 25be7a5b-dd16-42cd-bd4a-1312b4c6e791\\25be7a5b-dd16-42cd-bd4a-1312b4c6e791_mean_projection.n...   \n",
       "15  {'mean-projection-path': f87dc096-6bb2-40dd-8dff-20f1362423b0\\f87dc096-6bb2-40dd-8dff-20f1362423b0_mean_projection.n...   \n",
       "16  {'mean-projection-path': 0e6f8223-3002-4430-a987-d83a6d7c7bd8\\0e6f8223-3002-4430-a987-d83a6d7c7bd8_mean_projection.n...   \n",
       "17  {'mean-projection-path': 52ab80e3-880f-4ae5-bd38-711c0138ebe2\\52ab80e3-880f-4ae5-bd38-711c0138ebe2_mean_projection.n...   \n",
       "18  {'mean-projection-path': 65c8dfa4-2a65-4618-8240-7f08fccce4ad\\65c8dfa4-2a65-4618-8240-7f08fccce4ad_mean_projection.n...   \n",
       "19  {'mean-projection-path': 473b088b-1b8e-4ecb-97e2-75eb299851b2\\473b088b-1b8e-4ecb-97e2-75eb299851b2_mean_projection.n...   \n",
       "20  {'mean-projection-path': 60d2fc66-20a9-4f00-b6f7-b9e80440efe7\\60d2fc66-20a9-4f00-b6f7-b9e80440efe7_mean_projection.n...   \n",
       "21  {'mean-projection-path': 8926526d-cc18-47e2-b599-1496b2c9f03e\\8926526d-cc18-47e2-b599-1496b2c9f03e_mean_projection.n...   \n",
       "22  {'mean-projection-path': f2b1c811-e02a-4058-a15b-861ee1128793\\f2b1c811-e02a-4058-a15b-861ee1128793_mean_projection.n...   \n",
       "23  {'mean-projection-path': 5c9bd42e-fb07-43f0-a18d-0b9e516db4ec\\5c9bd42e-fb07-43f0-a18d-0b9e516db4ec_mean_projection.n...   \n",
       "24  {'mean-projection-path': 84004c56-81c1-474b-ab38-327fbf79bf8c\\84004c56-81c1-474b-ab38-327fbf79bf8c_mean_projection.n...   \n",
       "25  {'mean-projection-path': 23521021-6791-4d41-855d-779eefce6840\\23521021-6791-4d41-855d-779eefce6840_mean_projection.n...   \n",
       "26  {'mean-projection-path': 07907a0b-b138-41e3-99a7-f7153738a640\\07907a0b-b138-41e3-99a7-f7153738a640_mean_projection.n...   \n",
       "27  {'mean-projection-path': 8b7cbfb4-7c62-4780-a90c-5275cbe1f318\\8b7cbfb4-7c62-4780-a90c-5275cbe1f318_mean_projection.n...   \n",
       "\n",
       "             added_time             ran_time algo_duration comments  \\\n",
       "0   2024-10-01T16:34:44  2024-10-01T16:54:16    946.94 sec     None   \n",
       "1   2024-10-01T16:34:44  2024-10-01T17:10:06     949.6 sec     None   \n",
       "2   2024-10-01T16:34:44  2024-10-01T17:28:57   1131.04 sec     None   \n",
       "3   2024-10-01T16:34:44  2024-10-01T17:51:18   1340.32 sec     None   \n",
       "4   2024-10-01T16:34:44  2024-10-01T18:08:22   1024.35 sec     None   \n",
       "5   2024-10-01T16:34:44  2024-10-01T18:24:00    937.73 sec     None   \n",
       "6   2024-10-01T16:34:44  2024-10-01T18:39:39    939.58 sec     None   \n",
       "7   2024-10-01T16:34:44  2024-10-01T18:55:09    929.57 sec     None   \n",
       "8   2024-10-01T16:34:44  2024-10-01T19:10:49    940.35 sec     None   \n",
       "9   2024-10-01T16:34:44  2024-10-01T19:28:15   1045.02 sec     None   \n",
       "10  2024-10-01T16:34:44  2024-10-01T19:45:46   1051.62 sec     None   \n",
       "11  2024-10-01T16:34:44  2024-10-01T20:01:40     953.4 sec     None   \n",
       "12  2024-10-01T16:34:44  2024-10-01T20:17:40     960.7 sec     None   \n",
       "13  2024-10-01T16:34:44  2024-10-01T20:33:51    970.13 sec     None   \n",
       "14  2024-10-01T16:34:44  2024-10-01T20:52:06   1095.19 sec     None   \n",
       "15  2024-10-01T16:34:44  2024-10-01T21:08:23    977.02 sec     None   \n",
       "16  2024-10-01T16:34:44  2024-10-01T21:28:21    1197.8 sec     None   \n",
       "17  2024-10-01T16:34:44  2024-10-01T21:46:45   1104.12 sec     None   \n",
       "18  2024-10-01T16:34:44  2024-10-01T22:05:32   1126.88 sec     None   \n",
       "19  2024-10-01T16:34:44  2024-10-01T22:23:00   1048.28 sec     None   \n",
       "20  2024-10-01T16:34:44  2024-10-01T22:41:10   1090.04 sec     None   \n",
       "21  2024-10-01T16:34:44  2024-10-01T23:01:26   1215.23 sec     None   \n",
       "22  2024-10-01T16:34:44  2024-10-01T23:20:00   1114.08 sec     None   \n",
       "23  2024-10-01T16:34:44  2024-10-01T23:38:35   1114.86 sec     None   \n",
       "24  2024-10-01T16:34:44  2024-10-01T23:57:28   1132.94 sec     None   \n",
       "25  2024-10-01T16:34:44  2024-10-02T00:14:28   1019.75 sec     None   \n",
       "26  2024-10-01T16:34:44  2024-10-02T00:34:07   1179.51 sec     None   \n",
       "27  2024-10-01T16:34:44  2024-10-02T00:49:55    947.96 sec     None   \n",
       "\n",
       "                                    uuid  \n",
       "0   faeb27e8-40b9-4e5a-ad8c-b9cc73c03635  \n",
       "1   89b676c7-9480-47d7-b190-e4bbc2a5decc  \n",
       "2   f03ead24-ab13-48e7-87c0-27d5940a7c91  \n",
       "3   585a0fc2-40d4-45f2-badf-ba13d5cc77a6  \n",
       "4   544c2a52-0b90-4b74-baae-b2ca913c7c2a  \n",
       "5   d6c3f33c-2b90-4c6d-a4ad-f237dae5f73b  \n",
       "6   ca269a68-06d0-4f96-b508-87160fdf37ab  \n",
       "7   a9cb2077-073a-4552-9669-e53ba0c96803  \n",
       "8   c0205f69-ccb6-4304-9cee-18af09d11663  \n",
       "9   1fac642d-6cef-4a68-9415-737213b4462d  \n",
       "10  97569a0f-b5c4-41b5-9268-b4ddeda9d740  \n",
       "11  c2d0864d-1313-4ded-8b7f-4a7f02947b2d  \n",
       "12  8301c084-fe7c-4e84-b8d7-db6fcc8893ed  \n",
       "13  1eabd9f9-1a57-4c08-a830-9276371c00a9  \n",
       "14  25be7a5b-dd16-42cd-bd4a-1312b4c6e791  \n",
       "15  f87dc096-6bb2-40dd-8dff-20f1362423b0  \n",
       "16  0e6f8223-3002-4430-a987-d83a6d7c7bd8  \n",
       "17  52ab80e3-880f-4ae5-bd38-711c0138ebe2  \n",
       "18  65c8dfa4-2a65-4618-8240-7f08fccce4ad  \n",
       "19  473b088b-1b8e-4ecb-97e2-75eb299851b2  \n",
       "20  60d2fc66-20a9-4f00-b6f7-b9e80440efe7  \n",
       "21  8926526d-cc18-47e2-b599-1496b2c9f03e  \n",
       "22  f2b1c811-e02a-4058-a15b-861ee1128793  \n",
       "23  5c9bd42e-fb07-43f0-a18d-0b9e516db4ec  \n",
       "24  84004c56-81c1-474b-ab38-327fbf79bf8c  \n",
       "25  23521021-6791-4d41-855d-779eefce6840  \n",
       "26  07907a0b-b138-41e3-99a7-f7153738a640  \n",
       "27  8b7cbfb4-7c62-4780-a90c-5275cbe1f318  "
      ]
     },
     "execution_count": 5,
     "metadata": {},
     "output_type": "execute_result"
    }
   ],
   "source": [
    "cnmf_batch = mc.load_batch(cnmf_batch / 'cnmf_batch.pickle')\n",
    "cnmf_batch"
   ]
  },
  {
   "cell_type": "code",
   "execution_count": 37,
   "id": "5f386095",
   "metadata": {},
   "outputs": [],
   "source": [
    "for i in range(1, 31):\n",
    "    item_name_str = df.iloc[i]['item_name']\n",
    "    if 'plane' in item_name_str:\n",
    "\n",
    "        filename = f'extracted_{item_name_str}.tif'\n",
    "        filepath = parent_path / 'tiff' / filename\n",
    "        # find output that matches item_name_str\n",
    "        cnmf_batch.caiman.add_item(\n",
    "            algo='cnmf',\n",
    "            input_movie_path=filepath,\n",
    "            params=cnmf_params_all,\n",
    "            item_name=f'cnmf_1',\n",
    "        )"
   ]
  },
  {
   "cell_type": "code",
   "execution_count": 1,
   "id": "64567e6e",
   "metadata": {
    "ExecuteTime": {
     "end_time": "2024-10-02T13:48:14.740098Z",
     "start_time": "2024-10-02T13:48:14.542099Z"
    }
   },
   "outputs": [
    {
     "ename": "NameError",
     "evalue": "name 'cnmf_batch' is not defined",
     "output_type": "error",
     "traceback": [
      "\u001b[1;31m---------------------------------------------------------------------------\u001b[0m",
      "\u001b[1;31mNameError\u001b[0m                                 Traceback (most recent call last)",
      "Cell \u001b[1;32mIn[1], line 1\u001b[0m\n\u001b[1;32m----> 1\u001b[0m cnmf_batch \u001b[38;5;241m=\u001b[39m \u001b[43mcnmf_batch\u001b[49m\u001b[38;5;241m.\u001b[39mcaiman\u001b[38;5;241m.\u001b[39mreload_from_disk()\n\u001b[0;32m      2\u001b[0m cnmf_batch\n",
      "\u001b[1;31mNameError\u001b[0m: name 'cnmf_batch' is not defined"
     ]
    }
   ],
   "source": [
    "cnmf_batch = cnmf_batch.caiman.reload_from_disk()\n",
    "cnmf_batch"
   ]
  },
  {
   "cell_type": "code",
   "execution_count": 40,
   "id": "fba1aa92",
   "metadata": {
    "ExecuteTime": {
     "end_time": "2024-10-01T20:08:38.113535Z",
     "start_time": "2024-10-01T20:08:37.924535Z"
    }
   },
   "outputs": [
    {
     "name": "stdout",
     "output_type": "stream",
     "text": [
      "Running faeb27e8-40b9-4e5a-ad8c-b9cc73c03635 with local backend\n",
      "************************************************************************\n",
      "\n",
      "Starting CNMF item:\n",
      "algo                                                                                                                                   cnmf\n",
      "item_name                                                                                                                            cnmf_1\n",
      "input_movie_path                                                                                                 tiff\\extracted_plane_1.tif\n",
      "params              {'main': {'fr': 9.62, 'dxy': (1.0, 1.0), 'decay_time': 0.4, 'p': 2, 'nb': 1, 'rf': 40, 'K': 150, 'gSig': [7.5, 7.5],...\n",
      "outputs                                                                                                                                None\n",
      "added_time                                                                                                              2024-10-01T16:34:44\n",
      "ran_time                                                                                                                               None\n",
      "algo_duration                                                                                                                          None\n",
      "comments                                                                                                                               None\n",
      "uuid                                                                                                   faeb27e8-40b9-4e5a-ad8c-b9cc73c03635\n",
      "Name: 0, dtype: object\n",
      "With params:{'main': {'fr': 9.62, 'dxy': (1.0, 1.0), 'decay_time': 0.4, 'p': 2, 'nb': 1, 'rf': 40, 'K': 150, 'gSig': array([7.5, 7.5]), 'stride': 10, 'method_init': 'greedy_roi', 'rolling_sum': True, 'use_cnn': False, 'ssub': 1, 'tsub': 1, 'merge_thr': 0.8, 'bas_nonneg': True, 'min_SNR': 1.4, 'rval_thr': 0.8}, 'refit': True}\n"
     ]
    },
    {
     "name": "stderr",
     "output_type": "stream",
     "text": [
      "    12963988 [cluster.py:setup_cluster():225] [16596] The local backend is an alias for the multiprocessing backend, and the alias may be removed in some future version of Caiman\n",
      "    12964133 [params.py:change_params():1151] [16596] In setting CNMFParams, non-pathed parameters were used; this is deprecated. In some future version of Caiman, allow_legacy will default to False (and eventually will be removed)\n",
      "<tifffile.TiffFile 'extracted_plane_1.tif'> shaped series axes do not match shape\n"
     ]
    },
    {
     "name": "stdout",
     "output_type": "stream",
     "text": [
      "making memmap\n"
     ]
    },
    {
     "name": "stderr",
     "output_type": "stream",
     "text": [
      "    12977206 [cluster.py:setup_cluster():225] [16596] The local backend is an alias for the multiprocessing backend, and the alias may be removed in some future version of Caiman\n"
     ]
    },
    {
     "name": "stdout",
     "output_type": "stream",
     "text": [
      "performing CNMF\n",
      "fitting images\n",
      "refitting\n",
      "performing eval\n"
     ]
    },
    {
     "name": "stderr",
     "output_type": "stream",
     "text": [
      "    13904154 [estimates.py:evaluate_components():1060] [16596] NaN values detected for space correlation in [8875]. Changing their value to -1.\n"
     ]
    },
    {
     "name": "stdout",
     "output_type": "stream",
     "text": [
      "Running 89b676c7-9480-47d7-b190-e4bbc2a5decc with local backend\n",
      "************************************************************************\n",
      "\n",
      "Starting CNMF item:\n",
      "algo                                                                                                                                   cnmf\n",
      "item_name                                                                                                                            cnmf_1\n",
      "input_movie_path                                                                                                 tiff\\extracted_plane_2.tif\n",
      "params              {'main': {'fr': 9.62, 'dxy': (1.0, 1.0), 'decay_time': 0.4, 'p': 2, 'nb': 1, 'rf': 40, 'K': 150, 'gSig': [7.5, 7.5],...\n",
      "outputs                                                                                                                                None\n",
      "added_time                                                                                                              2024-10-01T16:34:44\n",
      "ran_time                                                                                                                               None\n",
      "algo_duration                                                                                                                          None\n",
      "comments                                                                                                                               None\n",
      "uuid                                                                                                   89b676c7-9480-47d7-b190-e4bbc2a5decc\n",
      "Name: 1, dtype: object\n",
      "With params:{'main': {'fr': 9.62, 'dxy': (1.0, 1.0), 'decay_time': 0.4, 'p': 2, 'nb': 1, 'rf': 40, 'K': 150, 'gSig': array([7.5, 7.5]), 'stride': 10, 'method_init': 'greedy_roi', 'rolling_sum': True, 'use_cnn': False, 'ssub': 1, 'tsub': 1, 'merge_thr': 0.8, 'bas_nonneg': True, 'min_SNR': 1.4, 'rval_thr': 0.8}, 'refit': True}\n"
     ]
    },
    {
     "name": "stderr",
     "output_type": "stream",
     "text": [
      "    13910972 [cluster.py:setup_cluster():225] [16596] The local backend is an alias for the multiprocessing backend, and the alias may be removed in some future version of Caiman\n",
      "    13911069 [params.py:change_params():1151] [16596] In setting CNMFParams, non-pathed parameters were used; this is deprecated. In some future version of Caiman, allow_legacy will default to False (and eventually will be removed)\n",
      "<tifffile.TiffFile 'extracted_plane_2.tif'> shaped series axes do not match shape\n"
     ]
    },
    {
     "name": "stdout",
     "output_type": "stream",
     "text": [
      "making memmap\n"
     ]
    },
    {
     "name": "stderr",
     "output_type": "stream",
     "text": [
      "    13924222 [cluster.py:setup_cluster():225] [16596] The local backend is an alias for the multiprocessing backend, and the alias may be removed in some future version of Caiman\n"
     ]
    },
    {
     "name": "stdout",
     "output_type": "stream",
     "text": [
      "performing CNMF\n",
      "fitting images\n",
      "refitting\n",
      "performing eval\n",
      "Running f03ead24-ab13-48e7-87c0-27d5940a7c91 with local backend\n",
      "************************************************************************\n",
      "\n",
      "Starting CNMF item:\n",
      "algo                                                                                                                                   cnmf\n",
      "item_name                                                                                                                            cnmf_1\n",
      "input_movie_path                                                                                                 tiff\\extracted_plane_3.tif\n",
      "params              {'main': {'fr': 9.62, 'dxy': (1.0, 1.0), 'decay_time': 0.4, 'p': 2, 'nb': 1, 'rf': 40, 'K': 150, 'gSig': [7.5, 7.5],...\n",
      "outputs                                                                                                                                None\n",
      "added_time                                                                                                              2024-10-01T16:34:44\n",
      "ran_time                                                                                                                               None\n",
      "algo_duration                                                                                                                          None\n",
      "comments                                                                                                                               None\n",
      "uuid                                                                                                   f03ead24-ab13-48e7-87c0-27d5940a7c91\n",
      "Name: 2, dtype: object\n",
      "With params:{'main': {'fr': 9.62, 'dxy': (1.0, 1.0), 'decay_time': 0.4, 'p': 2, 'nb': 1, 'rf': 40, 'K': 150, 'gSig': array([7.5, 7.5]), 'stride': 10, 'method_init': 'greedy_roi', 'rolling_sum': True, 'use_cnn': False, 'ssub': 1, 'tsub': 1, 'merge_thr': 0.8, 'bas_nonneg': True, 'min_SNR': 1.4, 'rval_thr': 0.8}, 'refit': True}\n"
     ]
    },
    {
     "name": "stderr",
     "output_type": "stream",
     "text": [
      "    14860679 [cluster.py:setup_cluster():225] [16596] The local backend is an alias for the multiprocessing backend, and the alias may be removed in some future version of Caiman\n",
      "    14860787 [params.py:change_params():1151] [16596] In setting CNMFParams, non-pathed parameters were used; this is deprecated. In some future version of Caiman, allow_legacy will default to False (and eventually will be removed)\n",
      "<tifffile.TiffFile 'extracted_plane_3.tif'> shaped series axes do not match shape\n"
     ]
    },
    {
     "name": "stdout",
     "output_type": "stream",
     "text": [
      "making memmap\n"
     ]
    },
    {
     "name": "stderr",
     "output_type": "stream",
     "text": [
      "    14873610 [cluster.py:setup_cluster():225] [16596] The local backend is an alias for the multiprocessing backend, and the alias may be removed in some future version of Caiman\n"
     ]
    },
    {
     "name": "stdout",
     "output_type": "stream",
     "text": [
      "performing CNMF\n",
      "fitting images\n",
      "refitting\n",
      "performing eval\n",
      "Running 585a0fc2-40d4-45f2-badf-ba13d5cc77a6 with local backend\n",
      "************************************************************************\n",
      "\n",
      "Starting CNMF item:\n",
      "algo                                                                                                                                   cnmf\n",
      "item_name                                                                                                                            cnmf_1\n",
      "input_movie_path                                                                                                 tiff\\extracted_plane_4.tif\n",
      "params              {'main': {'fr': 9.62, 'dxy': (1.0, 1.0), 'decay_time': 0.4, 'p': 2, 'nb': 1, 'rf': 40, 'K': 150, 'gSig': [7.5, 7.5],...\n",
      "outputs                                                                                                                                None\n",
      "added_time                                                                                                              2024-10-01T16:34:44\n",
      "ran_time                                                                                                                               None\n",
      "algo_duration                                                                                                                          None\n",
      "comments                                                                                                                               None\n",
      "uuid                                                                                                   585a0fc2-40d4-45f2-badf-ba13d5cc77a6\n",
      "Name: 3, dtype: object\n",
      "With params:{'main': {'fr': 9.62, 'dxy': (1.0, 1.0), 'decay_time': 0.4, 'p': 2, 'nb': 1, 'rf': 40, 'K': 150, 'gSig': array([7.5, 7.5]), 'stride': 10, 'method_init': 'greedy_roi', 'rolling_sum': True, 'use_cnn': False, 'ssub': 1, 'tsub': 1, 'merge_thr': 0.8, 'bas_nonneg': True, 'min_SNR': 1.4, 'rval_thr': 0.8}, 'refit': True}\n"
     ]
    },
    {
     "name": "stderr",
     "output_type": "stream",
     "text": [
      "    15991797 [cluster.py:setup_cluster():225] [16596] The local backend is an alias for the multiprocessing backend, and the alias may be removed in some future version of Caiman\n",
      "    15991909 [params.py:change_params():1151] [16596] In setting CNMFParams, non-pathed parameters were used; this is deprecated. In some future version of Caiman, allow_legacy will default to False (and eventually will be removed)\n",
      "<tifffile.TiffFile 'extracted_plane_4.tif'> shaped series axes do not match shape\n"
     ]
    },
    {
     "name": "stdout",
     "output_type": "stream",
     "text": [
      "making memmap\n"
     ]
    },
    {
     "name": "stderr",
     "output_type": "stream",
     "text": [
      "    16004684 [cluster.py:setup_cluster():225] [16596] The local backend is an alias for the multiprocessing backend, and the alias may be removed in some future version of Caiman\n"
     ]
    },
    {
     "name": "stdout",
     "output_type": "stream",
     "text": [
      "performing CNMF\n",
      "fitting images\n",
      "refitting\n",
      "performing eval\n",
      "Running 544c2a52-0b90-4b74-baae-b2ca913c7c2a with local backend\n",
      "************************************************************************\n",
      "\n",
      "Starting CNMF item:\n",
      "algo                                                                                                                                   cnmf\n",
      "item_name                                                                                                                            cnmf_1\n",
      "input_movie_path                                                                                                 tiff\\extracted_plane_5.tif\n",
      "params              {'main': {'fr': 9.62, 'dxy': (1.0, 1.0), 'decay_time': 0.4, 'p': 2, 'nb': 1, 'rf': 40, 'K': 150, 'gSig': [7.5, 7.5],...\n",
      "outputs                                                                                                                                None\n",
      "added_time                                                                                                              2024-10-01T16:34:44\n",
      "ran_time                                                                                                                               None\n",
      "algo_duration                                                                                                                          None\n",
      "comments                                                                                                                               None\n",
      "uuid                                                                                                   544c2a52-0b90-4b74-baae-b2ca913c7c2a\n",
      "Name: 4, dtype: object\n",
      "With params:{'main': {'fr': 9.62, 'dxy': (1.0, 1.0), 'decay_time': 0.4, 'p': 2, 'nb': 1, 'rf': 40, 'K': 150, 'gSig': array([7.5, 7.5]), 'stride': 10, 'method_init': 'greedy_roi', 'rolling_sum': True, 'use_cnn': False, 'ssub': 1, 'tsub': 1, 'merge_thr': 0.8, 'bas_nonneg': True, 'min_SNR': 1.4, 'rval_thr': 0.8}, 'refit': True}\n"
     ]
    },
    {
     "name": "stderr",
     "output_type": "stream",
     "text": [
      "    17332164 [cluster.py:setup_cluster():225] [16596] The local backend is an alias for the multiprocessing backend, and the alias may be removed in some future version of Caiman\n",
      "    17332271 [params.py:change_params():1151] [16596] In setting CNMFParams, non-pathed parameters were used; this is deprecated. In some future version of Caiman, allow_legacy will default to False (and eventually will be removed)\n",
      "<tifffile.TiffFile 'extracted_plane_5.tif'> shaped series axes do not match shape\n"
     ]
    },
    {
     "name": "stdout",
     "output_type": "stream",
     "text": [
      "making memmap\n"
     ]
    },
    {
     "name": "stderr",
     "output_type": "stream",
     "text": [
      "    17344985 [cluster.py:setup_cluster():225] [16596] The local backend is an alias for the multiprocessing backend, and the alias may be removed in some future version of Caiman\n"
     ]
    },
    {
     "name": "stdout",
     "output_type": "stream",
     "text": [
      "performing CNMF\n",
      "fitting images\n",
      "refitting\n",
      "performing eval\n"
     ]
    },
    {
     "name": "stderr",
     "output_type": "stream",
     "text": [
      "    18349840 [estimates.py:evaluate_components():1060] [16596] NaN values detected for space correlation in [8732]. Changing their value to -1.\n"
     ]
    },
    {
     "name": "stdout",
     "output_type": "stream",
     "text": [
      "Running d6c3f33c-2b90-4c6d-a4ad-f237dae5f73b with local backend\n",
      "************************************************************************\n",
      "\n",
      "Starting CNMF item:\n",
      "algo                                                                                                                                   cnmf\n",
      "item_name                                                                                                                            cnmf_1\n",
      "input_movie_path                                                                                                 tiff\\extracted_plane_6.tif\n",
      "params              {'main': {'fr': 9.62, 'dxy': (1.0, 1.0), 'decay_time': 0.4, 'p': 2, 'nb': 1, 'rf': 40, 'K': 150, 'gSig': [7.5, 7.5],...\n",
      "outputs                                                                                                                                None\n",
      "added_time                                                                                                              2024-10-01T16:34:44\n",
      "ran_time                                                                                                                               None\n",
      "algo_duration                                                                                                                          None\n",
      "comments                                                                                                                               None\n",
      "uuid                                                                                                   d6c3f33c-2b90-4c6d-a4ad-f237dae5f73b\n",
      "Name: 5, dtype: object\n",
      "With params:{'main': {'fr': 9.62, 'dxy': (1.0, 1.0), 'decay_time': 0.4, 'p': 2, 'nb': 1, 'rf': 40, 'K': 150, 'gSig': array([7.5, 7.5]), 'stride': 10, 'method_init': 'greedy_roi', 'rolling_sum': True, 'use_cnn': False, 'ssub': 1, 'tsub': 1, 'merge_thr': 0.8, 'bas_nonneg': True, 'min_SNR': 1.4, 'rval_thr': 0.8}, 'refit': True}\n"
     ]
    },
    {
     "name": "stderr",
     "output_type": "stream",
     "text": [
      "    18356589 [cluster.py:setup_cluster():225] [16596] The local backend is an alias for the multiprocessing backend, and the alias may be removed in some future version of Caiman\n",
      "    18356697 [params.py:change_params():1151] [16596] In setting CNMFParams, non-pathed parameters were used; this is deprecated. In some future version of Caiman, allow_legacy will default to False (and eventually will be removed)\n",
      "<tifffile.TiffFile 'extracted_plane_6.tif'> shaped series axes do not match shape\n"
     ]
    },
    {
     "name": "stdout",
     "output_type": "stream",
     "text": [
      "making memmap\n"
     ]
    },
    {
     "name": "stderr",
     "output_type": "stream",
     "text": [
      "    18369597 [cluster.py:setup_cluster():225] [16596] The local backend is an alias for the multiprocessing backend, and the alias may be removed in some future version of Caiman\n"
     ]
    },
    {
     "name": "stdout",
     "output_type": "stream",
     "text": [
      "performing CNMF\n",
      "fitting images\n",
      "refitting\n",
      "performing eval\n"
     ]
    },
    {
     "name": "stderr",
     "output_type": "stream",
     "text": [
      "    19287618 [estimates.py:evaluate_components():1060] [16596] NaN values detected for space correlation in [8801]. Changing their value to -1.\n"
     ]
    },
    {
     "name": "stdout",
     "output_type": "stream",
     "text": [
      "Running ca269a68-06d0-4f96-b508-87160fdf37ab with local backend\n",
      "************************************************************************\n",
      "\n",
      "Starting CNMF item:\n",
      "algo                                                                                                                                   cnmf\n",
      "item_name                                                                                                                            cnmf_1\n",
      "input_movie_path                                                                                                 tiff\\extracted_plane_7.tif\n",
      "params              {'main': {'fr': 9.62, 'dxy': (1.0, 1.0), 'decay_time': 0.4, 'p': 2, 'nb': 1, 'rf': 40, 'K': 150, 'gSig': [7.5, 7.5],...\n",
      "outputs                                                                                                                                None\n",
      "added_time                                                                                                              2024-10-01T16:34:44\n",
      "ran_time                                                                                                                               None\n",
      "algo_duration                                                                                                                          None\n",
      "comments                                                                                                                               None\n",
      "uuid                                                                                                   ca269a68-06d0-4f96-b508-87160fdf37ab\n",
      "Name: 6, dtype: object\n",
      "With params:{'main': {'fr': 9.62, 'dxy': (1.0, 1.0), 'decay_time': 0.4, 'p': 2, 'nb': 1, 'rf': 40, 'K': 150, 'gSig': array([7.5, 7.5]), 'stride': 10, 'method_init': 'greedy_roi', 'rolling_sum': True, 'use_cnn': False, 'ssub': 1, 'tsub': 1, 'merge_thr': 0.8, 'bas_nonneg': True, 'min_SNR': 1.4, 'rval_thr': 0.8}, 'refit': True}\n"
     ]
    },
    {
     "name": "stderr",
     "output_type": "stream",
     "text": [
      "    19294349 [cluster.py:setup_cluster():225] [16596] The local backend is an alias for the multiprocessing backend, and the alias may be removed in some future version of Caiman\n",
      "    19294490 [params.py:change_params():1151] [16596] In setting CNMFParams, non-pathed parameters were used; this is deprecated. In some future version of Caiman, allow_legacy will default to False (and eventually will be removed)\n",
      "<tifffile.TiffFile 'extracted_plane_7.tif'> shaped series axes do not match shape\n"
     ]
    },
    {
     "name": "stdout",
     "output_type": "stream",
     "text": [
      "making memmap\n"
     ]
    },
    {
     "name": "stderr",
     "output_type": "stream",
     "text": [
      "    19307355 [cluster.py:setup_cluster():225] [16596] The local backend is an alias for the multiprocessing backend, and the alias may be removed in some future version of Caiman\n"
     ]
    },
    {
     "name": "stdout",
     "output_type": "stream",
     "text": [
      "performing CNMF\n",
      "fitting images\n",
      "refitting\n",
      "performing eval\n"
     ]
    },
    {
     "name": "stderr",
     "output_type": "stream",
     "text": [
      "    20226922 [estimates.py:evaluate_components():1060] [16596] NaN values detected for space correlation in [8772]. Changing their value to -1.\n"
     ]
    },
    {
     "name": "stdout",
     "output_type": "stream",
     "text": [
      "Running a9cb2077-073a-4552-9669-e53ba0c96803 with local backend\n",
      "************************************************************************\n",
      "\n",
      "Starting CNMF item:\n",
      "algo                                                                                                                                   cnmf\n",
      "item_name                                                                                                                            cnmf_1\n",
      "input_movie_path                                                                                                 tiff\\extracted_plane_8.tif\n",
      "params              {'main': {'fr': 9.62, 'dxy': (1.0, 1.0), 'decay_time': 0.4, 'p': 2, 'nb': 1, 'rf': 40, 'K': 150, 'gSig': [7.5, 7.5],...\n",
      "outputs                                                                                                                                None\n",
      "added_time                                                                                                              2024-10-01T16:34:44\n",
      "ran_time                                                                                                                               None\n",
      "algo_duration                                                                                                                          None\n",
      "comments                                                                                                                               None\n",
      "uuid                                                                                                   a9cb2077-073a-4552-9669-e53ba0c96803\n",
      "Name: 7, dtype: object\n",
      "With params:{'main': {'fr': 9.62, 'dxy': (1.0, 1.0), 'decay_time': 0.4, 'p': 2, 'nb': 1, 'rf': 40, 'K': 150, 'gSig': array([7.5, 7.5]), 'stride': 10, 'method_init': 'greedy_roi', 'rolling_sum': True, 'use_cnn': False, 'ssub': 1, 'tsub': 1, 'merge_thr': 0.8, 'bas_nonneg': True, 'min_SNR': 1.4, 'rval_thr': 0.8}, 'refit': True}\n"
     ]
    },
    {
     "name": "stderr",
     "output_type": "stream",
     "text": [
      "    20233980 [cluster.py:setup_cluster():225] [16596] The local backend is an alias for the multiprocessing backend, and the alias may be removed in some future version of Caiman\n",
      "    20234094 [params.py:change_params():1151] [16596] In setting CNMFParams, non-pathed parameters were used; this is deprecated. In some future version of Caiman, allow_legacy will default to False (and eventually will be removed)\n",
      "<tifffile.TiffFile 'extracted_plane_8.tif'> shaped series axes do not match shape\n"
     ]
    },
    {
     "name": "stdout",
     "output_type": "stream",
     "text": [
      "making memmap\n"
     ]
    },
    {
     "name": "stderr",
     "output_type": "stream",
     "text": [
      "    20246734 [cluster.py:setup_cluster():225] [16596] The local backend is an alias for the multiprocessing backend, and the alias may be removed in some future version of Caiman\n"
     ]
    },
    {
     "name": "stdout",
     "output_type": "stream",
     "text": [
      "performing CNMF\n",
      "fitting images\n",
      "refitting\n",
      "performing eval\n"
     ]
    },
    {
     "name": "stderr",
     "output_type": "stream",
     "text": [
      "    21156660 [estimates.py:evaluate_components():1060] [16596] NaN values detected for space correlation in [8804]. Changing their value to -1.\n"
     ]
    },
    {
     "name": "stdout",
     "output_type": "stream",
     "text": [
      "Running c0205f69-ccb6-4304-9cee-18af09d11663 with local backend\n",
      "************************************************************************\n",
      "\n",
      "Starting CNMF item:\n",
      "algo                                                                                                                                   cnmf\n",
      "item_name                                                                                                                            cnmf_1\n",
      "input_movie_path                                                                                                 tiff\\extracted_plane_9.tif\n",
      "params              {'main': {'fr': 9.62, 'dxy': (1.0, 1.0), 'decay_time': 0.4, 'p': 2, 'nb': 1, 'rf': 40, 'K': 150, 'gSig': [7.5, 7.5],...\n",
      "outputs                                                                                                                                None\n",
      "added_time                                                                                                              2024-10-01T16:34:44\n",
      "ran_time                                                                                                                               None\n",
      "algo_duration                                                                                                                          None\n",
      "comments                                                                                                                               None\n",
      "uuid                                                                                                   c0205f69-ccb6-4304-9cee-18af09d11663\n",
      "Name: 8, dtype: object\n",
      "With params:{'main': {'fr': 9.62, 'dxy': (1.0, 1.0), 'decay_time': 0.4, 'p': 2, 'nb': 1, 'rf': 40, 'K': 150, 'gSig': array([7.5, 7.5]), 'stride': 10, 'method_init': 'greedy_roi', 'rolling_sum': True, 'use_cnn': False, 'ssub': 1, 'tsub': 1, 'merge_thr': 0.8, 'bas_nonneg': True, 'min_SNR': 1.4, 'rval_thr': 0.8}, 'refit': True}\n"
     ]
    },
    {
     "name": "stderr",
     "output_type": "stream",
     "text": [
      "    21163606 [cluster.py:setup_cluster():225] [16596] The local backend is an alias for the multiprocessing backend, and the alias may be removed in some future version of Caiman\n",
      "    21163705 [params.py:change_params():1151] [16596] In setting CNMFParams, non-pathed parameters were used; this is deprecated. In some future version of Caiman, allow_legacy will default to False (and eventually will be removed)\n",
      "<tifffile.TiffFile 'extracted_plane_9.tif'> shaped series axes do not match shape\n"
     ]
    },
    {
     "name": "stdout",
     "output_type": "stream",
     "text": [
      "making memmap\n"
     ]
    },
    {
     "name": "stderr",
     "output_type": "stream",
     "text": [
      "    21176421 [cluster.py:setup_cluster():225] [16596] The local backend is an alias for the multiprocessing backend, and the alias may be removed in some future version of Caiman\n"
     ]
    },
    {
     "name": "stdout",
     "output_type": "stream",
     "text": [
      "performing CNMF\n",
      "fitting images\n",
      "refitting\n",
      "performing eval\n"
     ]
    },
    {
     "name": "stderr",
     "output_type": "stream",
     "text": [
      "    22096999 [estimates.py:evaluate_components():1060] [16596] NaN values detected for space correlation in [8836]. Changing their value to -1.\n"
     ]
    },
    {
     "name": "stdout",
     "output_type": "stream",
     "text": [
      "Running 1fac642d-6cef-4a68-9415-737213b4462d with local backend\n",
      "************************************************************************\n",
      "\n",
      "Starting CNMF item:\n",
      "algo                                                                                                                                   cnmf\n",
      "item_name                                                                                                                            cnmf_1\n",
      "input_movie_path                                                                                                tiff\\extracted_plane_10.tif\n",
      "params              {'main': {'fr': 9.62, 'dxy': (1.0, 1.0), 'decay_time': 0.4, 'p': 2, 'nb': 1, 'rf': 40, 'K': 150, 'gSig': [7.5, 7.5],...\n",
      "outputs                                                                                                                                None\n",
      "added_time                                                                                                              2024-10-01T16:34:44\n",
      "ran_time                                                                                                                               None\n",
      "algo_duration                                                                                                                          None\n",
      "comments                                                                                                                               None\n",
      "uuid                                                                                                   1fac642d-6cef-4a68-9415-737213b4462d\n",
      "Name: 9, dtype: object\n",
      "With params:{'main': {'fr': 9.62, 'dxy': (1.0, 1.0), 'decay_time': 0.4, 'p': 2, 'nb': 1, 'rf': 40, 'K': 150, 'gSig': array([7.5, 7.5]), 'stride': 10, 'method_init': 'greedy_roi', 'rolling_sum': True, 'use_cnn': False, 'ssub': 1, 'tsub': 1, 'merge_thr': 0.8, 'bas_nonneg': True, 'min_SNR': 1.4, 'rval_thr': 0.8}, 'refit': True}\n"
     ]
    },
    {
     "name": "stderr",
     "output_type": "stream",
     "text": [
      "    22104019 [cluster.py:setup_cluster():225] [16596] The local backend is an alias for the multiprocessing backend, and the alias may be removed in some future version of Caiman\n",
      "    22104119 [params.py:change_params():1151] [16596] In setting CNMFParams, non-pathed parameters were used; this is deprecated. In some future version of Caiman, allow_legacy will default to False (and eventually will be removed)\n",
      "<tifffile.TiffFile 'extracted_plane_10.tif'> shaped series axes do not match shape\n"
     ]
    },
    {
     "name": "stdout",
     "output_type": "stream",
     "text": [
      "making memmap\n"
     ]
    },
    {
     "name": "stderr",
     "output_type": "stream",
     "text": [
      "    22116719 [cluster.py:setup_cluster():225] [16596] The local backend is an alias for the multiprocessing backend, and the alias may be removed in some future version of Caiman\n"
     ]
    },
    {
     "name": "stdout",
     "output_type": "stream",
     "text": [
      "performing CNMF\n",
      "fitting images\n",
      "refitting\n",
      "performing eval\n",
      "Running 97569a0f-b5c4-41b5-9268-b4ddeda9d740 with local backend\n",
      "************************************************************************\n",
      "\n",
      "Starting CNMF item:\n",
      "algo                                                                                                                                   cnmf\n",
      "item_name                                                                                                                            cnmf_1\n",
      "input_movie_path                                                                                                tiff\\extracted_plane_11.tif\n",
      "params              {'main': {'fr': 9.62, 'dxy': (1.0, 1.0), 'decay_time': 0.4, 'p': 2, 'nb': 1, 'rf': 40, 'K': 150, 'gSig': [7.5, 7.5],...\n",
      "outputs                                                                                                                                None\n",
      "added_time                                                                                                              2024-10-01T16:34:44\n",
      "ran_time                                                                                                                               None\n",
      "algo_duration                                                                                                                          None\n",
      "comments                                                                                                                               None\n",
      "uuid                                                                                                   97569a0f-b5c4-41b5-9268-b4ddeda9d740\n",
      "Name: 10, dtype: object\n",
      "With params:{'main': {'fr': 9.62, 'dxy': (1.0, 1.0), 'decay_time': 0.4, 'p': 2, 'nb': 1, 'rf': 40, 'K': 150, 'gSig': array([7.5, 7.5]), 'stride': 10, 'method_init': 'greedy_roi', 'rolling_sum': True, 'use_cnn': False, 'ssub': 1, 'tsub': 1, 'merge_thr': 0.8, 'bas_nonneg': True, 'min_SNR': 1.4, 'rval_thr': 0.8}, 'refit': True}\n"
     ]
    },
    {
     "name": "stderr",
     "output_type": "stream",
     "text": [
      "    23149086 [cluster.py:setup_cluster():225] [16596] The local backend is an alias for the multiprocessing backend, and the alias may be removed in some future version of Caiman\n",
      "    23149198 [params.py:change_params():1151] [16596] In setting CNMFParams, non-pathed parameters were used; this is deprecated. In some future version of Caiman, allow_legacy will default to False (and eventually will be removed)\n",
      "<tifffile.TiffFile 'extracted_plane_11.tif'> shaped series axes do not match shape\n"
     ]
    },
    {
     "name": "stdout",
     "output_type": "stream",
     "text": [
      "making memmap\n"
     ]
    },
    {
     "name": "stderr",
     "output_type": "stream",
     "text": [
      "    23161891 [cluster.py:setup_cluster():225] [16596] The local backend is an alias for the multiprocessing backend, and the alias may be removed in some future version of Caiman\n"
     ]
    },
    {
     "name": "stdout",
     "output_type": "stream",
     "text": [
      "performing CNMF\n",
      "fitting images\n",
      "refitting\n",
      "performing eval\n",
      "Running c2d0864d-1313-4ded-8b7f-4a7f02947b2d with local backend\n",
      "************************************************************************\n",
      "\n",
      "Starting CNMF item:\n",
      "algo                                                                                                                                   cnmf\n",
      "item_name                                                                                                                            cnmf_1\n",
      "input_movie_path                                                                                                tiff\\extracted_plane_12.tif\n",
      "params              {'main': {'fr': 9.62, 'dxy': (1.0, 1.0), 'decay_time': 0.4, 'p': 2, 'nb': 1, 'rf': 40, 'K': 150, 'gSig': [7.5, 7.5],...\n",
      "outputs                                                                                                                                None\n",
      "added_time                                                                                                              2024-10-01T16:34:44\n",
      "ran_time                                                                                                                               None\n",
      "algo_duration                                                                                                                          None\n",
      "comments                                                                                                                               None\n",
      "uuid                                                                                                   c2d0864d-1313-4ded-8b7f-4a7f02947b2d\n",
      "Name: 11, dtype: object\n",
      "With params:{'main': {'fr': 9.62, 'dxy': (1.0, 1.0), 'decay_time': 0.4, 'p': 2, 'nb': 1, 'rf': 40, 'K': 150, 'gSig': array([7.5, 7.5]), 'stride': 10, 'method_init': 'greedy_roi', 'rolling_sum': True, 'use_cnn': False, 'ssub': 1, 'tsub': 1, 'merge_thr': 0.8, 'bas_nonneg': True, 'min_SNR': 1.4, 'rval_thr': 0.8}, 'refit': True}\n"
     ]
    },
    {
     "name": "stderr",
     "output_type": "stream",
     "text": [
      "    24200760 [cluster.py:setup_cluster():225] [16596] The local backend is an alias for the multiprocessing backend, and the alias may be removed in some future version of Caiman\n",
      "    24200873 [params.py:change_params():1151] [16596] In setting CNMFParams, non-pathed parameters were used; this is deprecated. In some future version of Caiman, allow_legacy will default to False (and eventually will be removed)\n",
      "<tifffile.TiffFile 'extracted_plane_12.tif'> shaped series axes do not match shape\n"
     ]
    },
    {
     "name": "stdout",
     "output_type": "stream",
     "text": [
      "making memmap\n"
     ]
    },
    {
     "name": "stderr",
     "output_type": "stream",
     "text": [
      "    24213260 [cluster.py:setup_cluster():225] [16596] The local backend is an alias for the multiprocessing backend, and the alias may be removed in some future version of Caiman\n"
     ]
    },
    {
     "name": "stdout",
     "output_type": "stream",
     "text": [
      "performing CNMF\n",
      "fitting images\n",
      "refitting\n",
      "performing eval\n",
      "Running 8301c084-fe7c-4e84-b8d7-db6fcc8893ed with local backend\n",
      "************************************************************************\n",
      "\n",
      "Starting CNMF item:\n",
      "algo                                                                                                                                   cnmf\n",
      "item_name                                                                                                                            cnmf_1\n",
      "input_movie_path                                                                                                tiff\\extracted_plane_13.tif\n",
      "params              {'main': {'fr': 9.62, 'dxy': (1.0, 1.0), 'decay_time': 0.4, 'p': 2, 'nb': 1, 'rf': 40, 'K': 150, 'gSig': [7.5, 7.5],...\n",
      "outputs                                                                                                                                None\n",
      "added_time                                                                                                              2024-10-01T16:34:44\n",
      "ran_time                                                                                                                               None\n",
      "algo_duration                                                                                                                          None\n",
      "comments                                                                                                                               None\n",
      "uuid                                                                                                   8301c084-fe7c-4e84-b8d7-db6fcc8893ed\n",
      "Name: 12, dtype: object\n",
      "With params:{'main': {'fr': 9.62, 'dxy': (1.0, 1.0), 'decay_time': 0.4, 'p': 2, 'nb': 1, 'rf': 40, 'K': 150, 'gSig': array([7.5, 7.5]), 'stride': 10, 'method_init': 'greedy_roi', 'rolling_sum': True, 'use_cnn': False, 'ssub': 1, 'tsub': 1, 'merge_thr': 0.8, 'bas_nonneg': True, 'min_SNR': 1.4, 'rval_thr': 0.8}, 'refit': True}\n"
     ]
    },
    {
     "name": "stderr",
     "output_type": "stream",
     "text": [
      "    25154225 [cluster.py:setup_cluster():225] [16596] The local backend is an alias for the multiprocessing backend, and the alias may be removed in some future version of Caiman\n",
      "    25154351 [params.py:change_params():1151] [16596] In setting CNMFParams, non-pathed parameters were used; this is deprecated. In some future version of Caiman, allow_legacy will default to False (and eventually will be removed)\n",
      "<tifffile.TiffFile 'extracted_plane_13.tif'> shaped series axes do not match shape\n"
     ]
    },
    {
     "name": "stdout",
     "output_type": "stream",
     "text": [
      "making memmap\n"
     ]
    },
    {
     "name": "stderr",
     "output_type": "stream",
     "text": [
      "    25166700 [cluster.py:setup_cluster():225] [16596] The local backend is an alias for the multiprocessing backend, and the alias may be removed in some future version of Caiman\n"
     ]
    },
    {
     "name": "stdout",
     "output_type": "stream",
     "text": [
      "performing CNMF\n",
      "fitting images\n",
      "refitting\n",
      "performing eval\n",
      "Running 1eabd9f9-1a57-4c08-a830-9276371c00a9 with local backend\n",
      "************************************************************************\n",
      "\n",
      "Starting CNMF item:\n",
      "algo                                                                                                                                   cnmf\n",
      "item_name                                                                                                                            cnmf_1\n",
      "input_movie_path                                                                                                tiff\\extracted_plane_14.tif\n",
      "params              {'main': {'fr': 9.62, 'dxy': (1.0, 1.0), 'decay_time': 0.4, 'p': 2, 'nb': 1, 'rf': 40, 'K': 150, 'gSig': [7.5, 7.5],...\n",
      "outputs                                                                                                                                None\n",
      "added_time                                                                                                              2024-10-01T16:34:44\n",
      "ran_time                                                                                                                               None\n",
      "algo_duration                                                                                                                          None\n",
      "comments                                                                                                                               None\n",
      "uuid                                                                                                   1eabd9f9-1a57-4c08-a830-9276371c00a9\n",
      "Name: 13, dtype: object\n",
      "With params:{'main': {'fr': 9.62, 'dxy': (1.0, 1.0), 'decay_time': 0.4, 'p': 2, 'nb': 1, 'rf': 40, 'K': 150, 'gSig': array([7.5, 7.5]), 'stride': 10, 'method_init': 'greedy_roi', 'rolling_sum': True, 'use_cnn': False, 'ssub': 1, 'tsub': 1, 'merge_thr': 0.8, 'bas_nonneg': True, 'min_SNR': 1.4, 'rval_thr': 0.8}, 'refit': True}\n"
     ]
    },
    {
     "name": "stderr",
     "output_type": "stream",
     "text": [
      "    26114993 [cluster.py:setup_cluster():225] [16596] The local backend is an alias for the multiprocessing backend, and the alias may be removed in some future version of Caiman\n",
      "    26115098 [params.py:change_params():1151] [16596] In setting CNMFParams, non-pathed parameters were used; this is deprecated. In some future version of Caiman, allow_legacy will default to False (and eventually will be removed)\n",
      "<tifffile.TiffFile 'extracted_plane_14.tif'> shaped series axes do not match shape\n"
     ]
    },
    {
     "name": "stdout",
     "output_type": "stream",
     "text": [
      "making memmap\n"
     ]
    },
    {
     "name": "stderr",
     "output_type": "stream",
     "text": [
      "    26127828 [cluster.py:setup_cluster():225] [16596] The local backend is an alias for the multiprocessing backend, and the alias may be removed in some future version of Caiman\n"
     ]
    },
    {
     "name": "stdout",
     "output_type": "stream",
     "text": [
      "performing CNMF\n",
      "fitting images\n",
      "refitting\n",
      "performing eval\n",
      "Running 25be7a5b-dd16-42cd-bd4a-1312b4c6e791 with local backend\n",
      "************************************************************************\n",
      "\n",
      "Starting CNMF item:\n",
      "algo                                                                                                                                   cnmf\n",
      "item_name                                                                                                                            cnmf_1\n",
      "input_movie_path                                                                                                tiff\\extracted_plane_15.tif\n",
      "params              {'main': {'fr': 9.62, 'dxy': (1.0, 1.0), 'decay_time': 0.4, 'p': 2, 'nb': 1, 'rf': 40, 'K': 150, 'gSig': [7.5, 7.5],...\n",
      "outputs                                                                                                                                None\n",
      "added_time                                                                                                              2024-10-01T16:34:44\n",
      "ran_time                                                                                                                               None\n",
      "algo_duration                                                                                                                          None\n",
      "comments                                                                                                                               None\n",
      "uuid                                                                                                   25be7a5b-dd16-42cd-bd4a-1312b4c6e791\n",
      "Name: 14, dtype: object\n",
      "With params:{'main': {'fr': 9.62, 'dxy': (1.0, 1.0), 'decay_time': 0.4, 'p': 2, 'nb': 1, 'rf': 40, 'K': 150, 'gSig': array([7.5, 7.5]), 'stride': 10, 'method_init': 'greedy_roi', 'rolling_sum': True, 'use_cnn': False, 'ssub': 1, 'tsub': 1, 'merge_thr': 0.8, 'bas_nonneg': True, 'min_SNR': 1.4, 'rval_thr': 0.8}, 'refit': True}\n"
     ]
    },
    {
     "name": "stderr",
     "output_type": "stream",
     "text": [
      "    27085173 [cluster.py:setup_cluster():225] [16596] The local backend is an alias for the multiprocessing backend, and the alias may be removed in some future version of Caiman\n",
      "    27085275 [params.py:change_params():1151] [16596] In setting CNMFParams, non-pathed parameters were used; this is deprecated. In some future version of Caiman, allow_legacy will default to False (and eventually will be removed)\n",
      "<tifffile.TiffFile 'extracted_plane_15.tif'> shaped series axes do not match shape\n"
     ]
    },
    {
     "name": "stdout",
     "output_type": "stream",
     "text": [
      "making memmap\n"
     ]
    },
    {
     "name": "stderr",
     "output_type": "stream",
     "text": [
      "    27097698 [cluster.py:setup_cluster():225] [16596] The local backend is an alias for the multiprocessing backend, and the alias may be removed in some future version of Caiman\n"
     ]
    },
    {
     "name": "stdout",
     "output_type": "stream",
     "text": [
      "performing CNMF\n",
      "fitting images\n",
      "refitting\n",
      "performing eval\n",
      "Running f87dc096-6bb2-40dd-8dff-20f1362423b0 with local backend\n",
      "************************************************************************\n",
      "\n",
      "Starting CNMF item:\n",
      "algo                                                                                                                                   cnmf\n",
      "item_name                                                                                                                            cnmf_1\n",
      "input_movie_path                                                                                                tiff\\extracted_plane_16.tif\n",
      "params              {'main': {'fr': 9.62, 'dxy': (1.0, 1.0), 'decay_time': 0.4, 'p': 2, 'nb': 1, 'rf': 40, 'K': 150, 'gSig': [7.5, 7.5],...\n",
      "outputs                                                                                                                                None\n",
      "added_time                                                                                                              2024-10-01T16:34:44\n",
      "ran_time                                                                                                                               None\n",
      "algo_duration                                                                                                                          None\n",
      "comments                                                                                                                               None\n",
      "uuid                                                                                                   f87dc096-6bb2-40dd-8dff-20f1362423b0\n",
      "Name: 15, dtype: object\n",
      "With params:{'main': {'fr': 9.62, 'dxy': (1.0, 1.0), 'decay_time': 0.4, 'p': 2, 'nb': 1, 'rf': 40, 'K': 150, 'gSig': array([7.5, 7.5]), 'stride': 10, 'method_init': 'greedy_roi', 'rolling_sum': True, 'use_cnn': False, 'ssub': 1, 'tsub': 1, 'merge_thr': 0.8, 'bas_nonneg': True, 'min_SNR': 1.4, 'rval_thr': 0.8}, 'refit': True}\n"
     ]
    },
    {
     "name": "stderr",
     "output_type": "stream",
     "text": [
      "    28180411 [cluster.py:setup_cluster():225] [16596] The local backend is an alias for the multiprocessing backend, and the alias may be removed in some future version of Caiman\n",
      "    28180503 [params.py:change_params():1151] [16596] In setting CNMFParams, non-pathed parameters were used; this is deprecated. In some future version of Caiman, allow_legacy will default to False (and eventually will be removed)\n",
      "<tifffile.TiffFile 'extracted_plane_16.tif'> shaped series axes do not match shape\n"
     ]
    },
    {
     "name": "stdout",
     "output_type": "stream",
     "text": [
      "making memmap\n"
     ]
    },
    {
     "name": "stderr",
     "output_type": "stream",
     "text": [
      "    28193026 [cluster.py:setup_cluster():225] [16596] The local backend is an alias for the multiprocessing backend, and the alias may be removed in some future version of Caiman\n"
     ]
    },
    {
     "name": "stdout",
     "output_type": "stream",
     "text": [
      "performing CNMF\n",
      "fitting images\n",
      "refitting\n",
      "performing eval\n",
      "Running 0e6f8223-3002-4430-a987-d83a6d7c7bd8 with local backend\n",
      "************************************************************************\n",
      "\n",
      "Starting CNMF item:\n",
      "algo                                                                                                                                   cnmf\n",
      "item_name                                                                                                                            cnmf_1\n",
      "input_movie_path                                                                                                tiff\\extracted_plane_17.tif\n",
      "params              {'main': {'fr': 9.62, 'dxy': (1.0, 1.0), 'decay_time': 0.4, 'p': 2, 'nb': 1, 'rf': 40, 'K': 150, 'gSig': [7.5, 7.5],...\n",
      "outputs                                                                                                                                None\n",
      "added_time                                                                                                              2024-10-01T16:34:44\n",
      "ran_time                                                                                                                               None\n",
      "algo_duration                                                                                                                          None\n",
      "comments                                                                                                                               None\n",
      "uuid                                                                                                   0e6f8223-3002-4430-a987-d83a6d7c7bd8\n",
      "Name: 16, dtype: object\n",
      "With params:{'main': {'fr': 9.62, 'dxy': (1.0, 1.0), 'decay_time': 0.4, 'p': 2, 'nb': 1, 'rf': 40, 'K': 150, 'gSig': array([7.5, 7.5]), 'stride': 10, 'method_init': 'greedy_roi', 'rolling_sum': True, 'use_cnn': False, 'ssub': 1, 'tsub': 1, 'merge_thr': 0.8, 'bas_nonneg': True, 'min_SNR': 1.4, 'rval_thr': 0.8}, 'refit': True}\n"
     ]
    },
    {
     "name": "stderr",
     "output_type": "stream",
     "text": [
      "    29157494 [cluster.py:setup_cluster():225] [16596] The local backend is an alias for the multiprocessing backend, and the alias may be removed in some future version of Caiman\n",
      "    29157591 [params.py:change_params():1151] [16596] In setting CNMFParams, non-pathed parameters were used; this is deprecated. In some future version of Caiman, allow_legacy will default to False (and eventually will be removed)\n",
      "<tifffile.TiffFile 'extracted_plane_17.tif'> shaped series axes do not match shape\n"
     ]
    },
    {
     "name": "stdout",
     "output_type": "stream",
     "text": [
      "making memmap\n"
     ]
    },
    {
     "name": "stderr",
     "output_type": "stream",
     "text": [
      "    29170250 [cluster.py:setup_cluster():225] [16596] The local backend is an alias for the multiprocessing backend, and the alias may be removed in some future version of Caiman\n"
     ]
    },
    {
     "name": "stdout",
     "output_type": "stream",
     "text": [
      "performing CNMF\n",
      "fitting images\n",
      "refitting\n",
      "performing eval\n"
     ]
    },
    {
     "name": "stderr",
     "output_type": "stream",
     "text": [
      "    30348548 [estimates.py:evaluate_components():1060] [16596] NaN values detected for space correlation in [ 582 3959]. Changing their value to -1.\n"
     ]
    },
    {
     "name": "stdout",
     "output_type": "stream",
     "text": [
      "Running 52ab80e3-880f-4ae5-bd38-711c0138ebe2 with local backend\n",
      "************************************************************************\n",
      "\n",
      "Starting CNMF item:\n",
      "algo                                                                                                                                   cnmf\n",
      "item_name                                                                                                                            cnmf_1\n",
      "input_movie_path                                                                                                tiff\\extracted_plane_18.tif\n",
      "params              {'main': {'fr': 9.62, 'dxy': (1.0, 1.0), 'decay_time': 0.4, 'p': 2, 'nb': 1, 'rf': 40, 'K': 150, 'gSig': [7.5, 7.5],...\n",
      "outputs                                                                                                                                None\n",
      "added_time                                                                                                              2024-10-01T16:34:44\n",
      "ran_time                                                                                                                               None\n",
      "algo_duration                                                                                                                          None\n",
      "comments                                                                                                                               None\n",
      "uuid                                                                                                   52ab80e3-880f-4ae5-bd38-711c0138ebe2\n",
      "Name: 17, dtype: object\n",
      "With params:{'main': {'fr': 9.62, 'dxy': (1.0, 1.0), 'decay_time': 0.4, 'p': 2, 'nb': 1, 'rf': 40, 'K': 150, 'gSig': array([7.5, 7.5]), 'stride': 10, 'method_init': 'greedy_roi', 'rolling_sum': True, 'use_cnn': False, 'ssub': 1, 'tsub': 1, 'merge_thr': 0.8, 'bas_nonneg': True, 'min_SNR': 1.4, 'rval_thr': 0.8}, 'refit': True}\n"
     ]
    },
    {
     "name": "stderr",
     "output_type": "stream",
     "text": [
      "    30355360 [cluster.py:setup_cluster():225] [16596] The local backend is an alias for the multiprocessing backend, and the alias may be removed in some future version of Caiman\n",
      "    30355468 [params.py:change_params():1151] [16596] In setting CNMFParams, non-pathed parameters were used; this is deprecated. In some future version of Caiman, allow_legacy will default to False (and eventually will be removed)\n",
      "<tifffile.TiffFile 'extracted_plane_18.tif'> shaped series axes do not match shape\n"
     ]
    },
    {
     "name": "stdout",
     "output_type": "stream",
     "text": [
      "making memmap\n"
     ]
    },
    {
     "name": "stderr",
     "output_type": "stream",
     "text": [
      "    30367833 [cluster.py:setup_cluster():225] [16596] The local backend is an alias for the multiprocessing backend, and the alias may be removed in some future version of Caiman\n"
     ]
    },
    {
     "name": "stdout",
     "output_type": "stream",
     "text": [
      "performing CNMF\n",
      "fitting images\n",
      "refitting\n",
      "performing eval\n"
     ]
    },
    {
     "name": "stderr",
     "output_type": "stream",
     "text": [
      "    31452651 [estimates.py:evaluate_components():1060] [16596] NaN values detected for space correlation in [9105]. Changing their value to -1.\n"
     ]
    },
    {
     "name": "stdout",
     "output_type": "stream",
     "text": [
      "Running 65c8dfa4-2a65-4618-8240-7f08fccce4ad with local backend\n",
      "************************************************************************\n",
      "\n",
      "Starting CNMF item:\n",
      "algo                                                                                                                                   cnmf\n",
      "item_name                                                                                                                            cnmf_1\n",
      "input_movie_path                                                                                                tiff\\extracted_plane_19.tif\n",
      "params              {'main': {'fr': 9.62, 'dxy': (1.0, 1.0), 'decay_time': 0.4, 'p': 2, 'nb': 1, 'rf': 40, 'K': 150, 'gSig': [7.5, 7.5],...\n",
      "outputs                                                                                                                                None\n",
      "added_time                                                                                                              2024-10-01T16:34:44\n",
      "ran_time                                                                                                                               None\n",
      "algo_duration                                                                                                                          None\n",
      "comments                                                                                                                               None\n",
      "uuid                                                                                                   65c8dfa4-2a65-4618-8240-7f08fccce4ad\n",
      "Name: 18, dtype: object\n",
      "With params:{'main': {'fr': 9.62, 'dxy': (1.0, 1.0), 'decay_time': 0.4, 'p': 2, 'nb': 1, 'rf': 40, 'K': 150, 'gSig': array([7.5, 7.5]), 'stride': 10, 'method_init': 'greedy_roi', 'rolling_sum': True, 'use_cnn': False, 'ssub': 1, 'tsub': 1, 'merge_thr': 0.8, 'bas_nonneg': True, 'min_SNR': 1.4, 'rval_thr': 0.8}, 'refit': True}\n"
     ]
    },
    {
     "name": "stderr",
     "output_type": "stream",
     "text": [
      "    31459533 [cluster.py:setup_cluster():225] [16596] The local backend is an alias for the multiprocessing backend, and the alias may be removed in some future version of Caiman\n",
      "    31459639 [params.py:change_params():1151] [16596] In setting CNMFParams, non-pathed parameters were used; this is deprecated. In some future version of Caiman, allow_legacy will default to False (and eventually will be removed)\n",
      "<tifffile.TiffFile 'extracted_plane_19.tif'> shaped series axes do not match shape\n"
     ]
    },
    {
     "name": "stdout",
     "output_type": "stream",
     "text": [
      "making memmap\n"
     ]
    },
    {
     "name": "stderr",
     "output_type": "stream",
     "text": [
      "    31472279 [cluster.py:setup_cluster():225] [16596] The local backend is an alias for the multiprocessing backend, and the alias may be removed in some future version of Caiman\n"
     ]
    },
    {
     "name": "stdout",
     "output_type": "stream",
     "text": [
      "performing CNMF\n",
      "fitting images\n",
      "refitting\n",
      "performing eval\n",
      "Running 473b088b-1b8e-4ecb-97e2-75eb299851b2 with local backend\n",
      "************************************************************************\n",
      "\n",
      "Starting CNMF item:\n",
      "algo                                                                                                                                   cnmf\n",
      "item_name                                                                                                                            cnmf_1\n",
      "input_movie_path                                                                                                tiff\\extracted_plane_20.tif\n",
      "params              {'main': {'fr': 9.62, 'dxy': (1.0, 1.0), 'decay_time': 0.4, 'p': 2, 'nb': 1, 'rf': 40, 'K': 150, 'gSig': [7.5, 7.5],...\n",
      "outputs                                                                                                                                None\n",
      "added_time                                                                                                              2024-10-01T16:34:44\n",
      "ran_time                                                                                                                               None\n",
      "algo_duration                                                                                                                          None\n",
      "comments                                                                                                                               None\n",
      "uuid                                                                                                   473b088b-1b8e-4ecb-97e2-75eb299851b2\n",
      "Name: 19, dtype: object\n",
      "With params:{'main': {'fr': 9.62, 'dxy': (1.0, 1.0), 'decay_time': 0.4, 'p': 2, 'nb': 1, 'rf': 40, 'K': 150, 'gSig': array([7.5, 7.5]), 'stride': 10, 'method_init': 'greedy_roi', 'rolling_sum': True, 'use_cnn': False, 'ssub': 1, 'tsub': 1, 'merge_thr': 0.8, 'bas_nonneg': True, 'min_SNR': 1.4, 'rval_thr': 0.8}, 'refit': True}\n"
     ]
    },
    {
     "name": "stderr",
     "output_type": "stream",
     "text": [
      "    32586470 [cluster.py:setup_cluster():225] [16596] The local backend is an alias for the multiprocessing backend, and the alias may be removed in some future version of Caiman\n",
      "    32586579 [params.py:change_params():1151] [16596] In setting CNMFParams, non-pathed parameters were used; this is deprecated. In some future version of Caiman, allow_legacy will default to False (and eventually will be removed)\n",
      "<tifffile.TiffFile 'extracted_plane_20.tif'> shaped series axes do not match shape\n"
     ]
    },
    {
     "name": "stdout",
     "output_type": "stream",
     "text": [
      "making memmap\n"
     ]
    },
    {
     "name": "stderr",
     "output_type": "stream",
     "text": [
      "    32599260 [cluster.py:setup_cluster():225] [16596] The local backend is an alias for the multiprocessing backend, and the alias may be removed in some future version of Caiman\n"
     ]
    },
    {
     "name": "stdout",
     "output_type": "stream",
     "text": [
      "performing CNMF\n",
      "fitting images\n",
      "refitting\n",
      "performing eval\n"
     ]
    },
    {
     "name": "stderr",
     "output_type": "stream",
     "text": [
      "    33628117 [estimates.py:evaluate_components():1060] [16596] NaN values detected for space correlation in [7225 9423]. Changing their value to -1.\n"
     ]
    },
    {
     "name": "stdout",
     "output_type": "stream",
     "text": [
      "Running 60d2fc66-20a9-4f00-b6f7-b9e80440efe7 with local backend\n",
      "************************************************************************\n",
      "\n",
      "Starting CNMF item:\n",
      "algo                                                                                                                                   cnmf\n",
      "item_name                                                                                                                            cnmf_1\n",
      "input_movie_path                                                                                                tiff\\extracted_plane_21.tif\n",
      "params              {'main': {'fr': 9.62, 'dxy': (1.0, 1.0), 'decay_time': 0.4, 'p': 2, 'nb': 1, 'rf': 40, 'K': 150, 'gSig': [7.5, 7.5],...\n",
      "outputs                                                                                                                                None\n",
      "added_time                                                                                                              2024-10-01T16:34:44\n",
      "ran_time                                                                                                                               None\n",
      "algo_duration                                                                                                                          None\n",
      "comments                                                                                                                               None\n",
      "uuid                                                                                                   60d2fc66-20a9-4f00-b6f7-b9e80440efe7\n",
      "Name: 20, dtype: object\n",
      "With params:{'main': {'fr': 9.62, 'dxy': (1.0, 1.0), 'decay_time': 0.4, 'p': 2, 'nb': 1, 'rf': 40, 'K': 150, 'gSig': array([7.5, 7.5]), 'stride': 10, 'method_init': 'greedy_roi', 'rolling_sum': True, 'use_cnn': False, 'ssub': 1, 'tsub': 1, 'merge_thr': 0.8, 'bas_nonneg': True, 'min_SNR': 1.4, 'rval_thr': 0.8}, 'refit': True}\n"
     ]
    },
    {
     "name": "stderr",
     "output_type": "stream",
     "text": [
      "    33634801 [cluster.py:setup_cluster():225] [16596] The local backend is an alias for the multiprocessing backend, and the alias may be removed in some future version of Caiman\n",
      "    33634913 [params.py:change_params():1151] [16596] In setting CNMFParams, non-pathed parameters were used; this is deprecated. In some future version of Caiman, allow_legacy will default to False (and eventually will be removed)\n",
      "<tifffile.TiffFile 'extracted_plane_21.tif'> shaped series axes do not match shape\n"
     ]
    },
    {
     "name": "stdout",
     "output_type": "stream",
     "text": [
      "making memmap\n"
     ]
    },
    {
     "name": "stderr",
     "output_type": "stream",
     "text": [
      "    33647481 [cluster.py:setup_cluster():225] [16596] The local backend is an alias for the multiprocessing backend, and the alias may be removed in some future version of Caiman\n"
     ]
    },
    {
     "name": "stdout",
     "output_type": "stream",
     "text": [
      "performing CNMF\n",
      "fitting images\n",
      "refitting\n",
      "performing eval\n"
     ]
    },
    {
     "name": "stderr",
     "output_type": "stream",
     "text": [
      "    34717794 [estimates.py:evaluate_components():1060] [16596] NaN values detected for space correlation in [9804]. Changing their value to -1.\n"
     ]
    },
    {
     "name": "stdout",
     "output_type": "stream",
     "text": [
      "Running 8926526d-cc18-47e2-b599-1496b2c9f03e with local backend\n",
      "************************************************************************\n",
      "\n",
      "Starting CNMF item:\n",
      "algo                                                                                                                                   cnmf\n",
      "item_name                                                                                                                            cnmf_1\n",
      "input_movie_path                                                                                                tiff\\extracted_plane_22.tif\n",
      "params              {'main': {'fr': 9.62, 'dxy': (1.0, 1.0), 'decay_time': 0.4, 'p': 2, 'nb': 1, 'rf': 40, 'K': 150, 'gSig': [7.5, 7.5],...\n",
      "outputs                                                                                                                                None\n",
      "added_time                                                                                                              2024-10-01T16:34:44\n",
      "ran_time                                                                                                                               None\n",
      "algo_duration                                                                                                                          None\n",
      "comments                                                                                                                               None\n",
      "uuid                                                                                                   8926526d-cc18-47e2-b599-1496b2c9f03e\n",
      "Name: 21, dtype: object\n",
      "With params:{'main': {'fr': 9.62, 'dxy': (1.0, 1.0), 'decay_time': 0.4, 'p': 2, 'nb': 1, 'rf': 40, 'K': 150, 'gSig': array([7.5, 7.5]), 'stride': 10, 'method_init': 'greedy_roi', 'rolling_sum': True, 'use_cnn': False, 'ssub': 1, 'tsub': 1, 'merge_thr': 0.8, 'bas_nonneg': True, 'min_SNR': 1.4, 'rval_thr': 0.8}, 'refit': True}\n"
     ]
    },
    {
     "name": "stderr",
     "output_type": "stream",
     "text": [
      "    34724915 [cluster.py:setup_cluster():225] [16596] The local backend is an alias for the multiprocessing backend, and the alias may be removed in some future version of Caiman\n",
      "    34725027 [params.py:change_params():1151] [16596] In setting CNMFParams, non-pathed parameters were used; this is deprecated. In some future version of Caiman, allow_legacy will default to False (and eventually will be removed)\n",
      "<tifffile.TiffFile 'extracted_plane_22.tif'> shaped series axes do not match shape\n"
     ]
    },
    {
     "name": "stdout",
     "output_type": "stream",
     "text": [
      "making memmap\n"
     ]
    },
    {
     "name": "stderr",
     "output_type": "stream",
     "text": [
      "    34737745 [cluster.py:setup_cluster():225] [16596] The local backend is an alias for the multiprocessing backend, and the alias may be removed in some future version of Caiman\n"
     ]
    },
    {
     "name": "stdout",
     "output_type": "stream",
     "text": [
      "performing CNMF\n",
      "fitting images\n",
      "refitting\n",
      "performing eval\n"
     ]
    },
    {
     "name": "stderr",
     "output_type": "stream",
     "text": [
      "    35933489 [estimates.py:evaluate_components():1060] [16596] NaN values detected for space correlation in [9962]. Changing their value to -1.\n"
     ]
    },
    {
     "name": "stdout",
     "output_type": "stream",
     "text": [
      "Running f2b1c811-e02a-4058-a15b-861ee1128793 with local backend\n",
      "************************************************************************\n",
      "\n",
      "Starting CNMF item:\n",
      "algo                                                                                                                                   cnmf\n",
      "item_name                                                                                                                            cnmf_1\n",
      "input_movie_path                                                                                                tiff\\extracted_plane_23.tif\n",
      "params              {'main': {'fr': 9.62, 'dxy': (1.0, 1.0), 'decay_time': 0.4, 'p': 2, 'nb': 1, 'rf': 40, 'K': 150, 'gSig': [7.5, 7.5],...\n",
      "outputs                                                                                                                                None\n",
      "added_time                                                                                                              2024-10-01T16:34:44\n",
      "ran_time                                                                                                                               None\n",
      "algo_duration                                                                                                                          None\n",
      "comments                                                                                                                               None\n",
      "uuid                                                                                                   f2b1c811-e02a-4058-a15b-861ee1128793\n",
      "Name: 22, dtype: object\n",
      "With params:{'main': {'fr': 9.62, 'dxy': (1.0, 1.0), 'decay_time': 0.4, 'p': 2, 'nb': 1, 'rf': 40, 'K': 150, 'gSig': array([7.5, 7.5]), 'stride': 10, 'method_init': 'greedy_roi', 'rolling_sum': True, 'use_cnn': False, 'ssub': 1, 'tsub': 1, 'merge_thr': 0.8, 'bas_nonneg': True, 'min_SNR': 1.4, 'rval_thr': 0.8}, 'refit': True}\n"
     ]
    },
    {
     "name": "stderr",
     "output_type": "stream",
     "text": [
      "    35940221 [cluster.py:setup_cluster():225] [16596] The local backend is an alias for the multiprocessing backend, and the alias may be removed in some future version of Caiman\n",
      "    35940329 [params.py:change_params():1151] [16596] In setting CNMFParams, non-pathed parameters were used; this is deprecated. In some future version of Caiman, allow_legacy will default to False (and eventually will be removed)\n",
      "<tifffile.TiffFile 'extracted_plane_23.tif'> shaped series axes do not match shape\n"
     ]
    },
    {
     "name": "stdout",
     "output_type": "stream",
     "text": [
      "making memmap\n"
     ]
    },
    {
     "name": "stderr",
     "output_type": "stream",
     "text": [
      "    35953329 [cluster.py:setup_cluster():225] [16596] The local backend is an alias for the multiprocessing backend, and the alias may be removed in some future version of Caiman\n"
     ]
    },
    {
     "name": "stdout",
     "output_type": "stream",
     "text": [
      "performing CNMF\n",
      "fitting images\n",
      "refitting\n",
      "performing eval\n"
     ]
    },
    {
     "name": "stderr",
     "output_type": "stream",
     "text": [
      "    37047605 [estimates.py:evaluate_components():1060] [16596] NaN values detected for space correlation in [10077]. Changing their value to -1.\n"
     ]
    },
    {
     "name": "stdout",
     "output_type": "stream",
     "text": [
      "Running 5c9bd42e-fb07-43f0-a18d-0b9e516db4ec with local backend\n",
      "************************************************************************\n",
      "\n",
      "Starting CNMF item:\n",
      "algo                                                                                                                                   cnmf\n",
      "item_name                                                                                                                            cnmf_1\n",
      "input_movie_path                                                                                                tiff\\extracted_plane_24.tif\n",
      "params              {'main': {'fr': 9.62, 'dxy': (1.0, 1.0), 'decay_time': 0.4, 'p': 2, 'nb': 1, 'rf': 40, 'K': 150, 'gSig': [7.5, 7.5],...\n",
      "outputs                                                                                                                                None\n",
      "added_time                                                                                                              2024-10-01T16:34:44\n",
      "ran_time                                                                                                                               None\n",
      "algo_duration                                                                                                                          None\n",
      "comments                                                                                                                               None\n",
      "uuid                                                                                                   5c9bd42e-fb07-43f0-a18d-0b9e516db4ec\n",
      "Name: 23, dtype: object\n",
      "With params:{'main': {'fr': 9.62, 'dxy': (1.0, 1.0), 'decay_time': 0.4, 'p': 2, 'nb': 1, 'rf': 40, 'K': 150, 'gSig': array([7.5, 7.5]), 'stride': 10, 'method_init': 'greedy_roi', 'rolling_sum': True, 'use_cnn': False, 'ssub': 1, 'tsub': 1, 'merge_thr': 0.8, 'bas_nonneg': True, 'min_SNR': 1.4, 'rval_thr': 0.8}, 'refit': True}\n"
     ]
    },
    {
     "name": "stderr",
     "output_type": "stream",
     "text": [
      "    37054379 [cluster.py:setup_cluster():225] [16596] The local backend is an alias for the multiprocessing backend, and the alias may be removed in some future version of Caiman\n",
      "    37054485 [params.py:change_params():1151] [16596] In setting CNMFParams, non-pathed parameters were used; this is deprecated. In some future version of Caiman, allow_legacy will default to False (and eventually will be removed)\n",
      "<tifffile.TiffFile 'extracted_plane_24.tif'> shaped series axes do not match shape\n"
     ]
    },
    {
     "name": "stdout",
     "output_type": "stream",
     "text": [
      "making memmap\n"
     ]
    },
    {
     "name": "stderr",
     "output_type": "stream",
     "text": [
      "    37067507 [cluster.py:setup_cluster():225] [16596] The local backend is an alias for the multiprocessing backend, and the alias may be removed in some future version of Caiman\n"
     ]
    },
    {
     "name": "stdout",
     "output_type": "stream",
     "text": [
      "performing CNMF\n",
      "fitting images\n",
      "refitting\n",
      "performing eval\n",
      "Running 84004c56-81c1-474b-ab38-327fbf79bf8c with local backend\n",
      "************************************************************************\n",
      "\n",
      "Starting CNMF item:\n",
      "algo                                                                                                                                   cnmf\n",
      "item_name                                                                                                                            cnmf_1\n",
      "input_movie_path                                                                                                tiff\\extracted_plane_25.tif\n",
      "params              {'main': {'fr': 9.62, 'dxy': (1.0, 1.0), 'decay_time': 0.4, 'p': 2, 'nb': 1, 'rf': 40, 'K': 150, 'gSig': [7.5, 7.5],...\n",
      "outputs                                                                                                                                None\n",
      "added_time                                                                                                              2024-10-01T16:34:44\n",
      "ran_time                                                                                                                               None\n",
      "algo_duration                                                                                                                          None\n",
      "comments                                                                                                                               None\n",
      "uuid                                                                                                   84004c56-81c1-474b-ab38-327fbf79bf8c\n",
      "Name: 24, dtype: object\n",
      "With params:{'main': {'fr': 9.62, 'dxy': (1.0, 1.0), 'decay_time': 0.4, 'p': 2, 'nb': 1, 'rf': 40, 'K': 150, 'gSig': array([7.5, 7.5]), 'stride': 10, 'method_init': 'greedy_roi', 'rolling_sum': True, 'use_cnn': False, 'ssub': 1, 'tsub': 1, 'merge_thr': 0.8, 'bas_nonneg': True, 'min_SNR': 1.4, 'rval_thr': 0.8}, 'refit': True}\n"
     ]
    },
    {
     "name": "stderr",
     "output_type": "stream",
     "text": [
      "    38169309 [cluster.py:setup_cluster():225] [16596] The local backend is an alias for the multiprocessing backend, and the alias may be removed in some future version of Caiman\n",
      "    38169411 [params.py:change_params():1151] [16596] In setting CNMFParams, non-pathed parameters were used; this is deprecated. In some future version of Caiman, allow_legacy will default to False (and eventually will be removed)\n",
      "<tifffile.TiffFile 'extracted_plane_25.tif'> shaped series axes do not match shape\n"
     ]
    },
    {
     "name": "stdout",
     "output_type": "stream",
     "text": [
      "making memmap\n"
     ]
    },
    {
     "name": "stderr",
     "output_type": "stream",
     "text": [
      "    38182278 [cluster.py:setup_cluster():225] [16596] The local backend is an alias for the multiprocessing backend, and the alias may be removed in some future version of Caiman\n"
     ]
    },
    {
     "name": "stdout",
     "output_type": "stream",
     "text": [
      "performing CNMF\n",
      "fitting images\n",
      "refitting\n",
      "performing eval\n",
      "Running 23521021-6791-4d41-855d-779eefce6840 with local backend\n",
      "************************************************************************\n",
      "\n",
      "Starting CNMF item:\n",
      "algo                                                                                                                                   cnmf\n",
      "item_name                                                                                                                            cnmf_1\n",
      "input_movie_path                                                                                                tiff\\extracted_plane_26.tif\n",
      "params              {'main': {'fr': 9.62, 'dxy': (1.0, 1.0), 'decay_time': 0.4, 'p': 2, 'nb': 1, 'rf': 40, 'K': 150, 'gSig': [7.5, 7.5],...\n",
      "outputs                                                                                                                                None\n",
      "added_time                                                                                                              2024-10-01T16:34:44\n",
      "ran_time                                                                                                                               None\n",
      "algo_duration                                                                                                                          None\n",
      "comments                                                                                                                               None\n",
      "uuid                                                                                                   23521021-6791-4d41-855d-779eefce6840\n",
      "Name: 25, dtype: object\n",
      "With params:{'main': {'fr': 9.62, 'dxy': (1.0, 1.0), 'decay_time': 0.4, 'p': 2, 'nb': 1, 'rf': 40, 'K': 150, 'gSig': array([7.5, 7.5]), 'stride': 10, 'method_init': 'greedy_roi', 'rolling_sum': True, 'use_cnn': False, 'ssub': 1, 'tsub': 1, 'merge_thr': 0.8, 'bas_nonneg': True, 'min_SNR': 1.4, 'rval_thr': 0.8}, 'refit': True}\n"
     ]
    },
    {
     "name": "stderr",
     "output_type": "stream",
     "text": [
      "    39302316 [cluster.py:setup_cluster():225] [16596] The local backend is an alias for the multiprocessing backend, and the alias may be removed in some future version of Caiman\n",
      "    39302420 [params.py:change_params():1151] [16596] In setting CNMFParams, non-pathed parameters were used; this is deprecated. In some future version of Caiman, allow_legacy will default to False (and eventually will be removed)\n",
      "<tifffile.TiffFile 'extracted_plane_26.tif'> shaped series axes do not match shape\n"
     ]
    },
    {
     "name": "stdout",
     "output_type": "stream",
     "text": [
      "making memmap\n"
     ]
    },
    {
     "name": "stderr",
     "output_type": "stream",
     "text": [
      "    39315055 [cluster.py:setup_cluster():225] [16596] The local backend is an alias for the multiprocessing backend, and the alias may be removed in some future version of Caiman\n"
     ]
    },
    {
     "name": "stdout",
     "output_type": "stream",
     "text": [
      "performing CNMF\n",
      "fitting images\n",
      "refitting\n",
      "performing eval\n"
     ]
    },
    {
     "name": "stderr",
     "output_type": "stream",
     "text": [
      "    40315273 [estimates.py:evaluate_components():1060] [16596] NaN values detected for space correlation in [ 947 1288]. Changing their value to -1.\n"
     ]
    },
    {
     "name": "stdout",
     "output_type": "stream",
     "text": [
      "Running 07907a0b-b138-41e3-99a7-f7153738a640 with local backend\n",
      "************************************************************************\n",
      "\n",
      "Starting CNMF item:\n",
      "algo                                                                                                                                   cnmf\n",
      "item_name                                                                                                                            cnmf_1\n",
      "input_movie_path                                                                                                tiff\\extracted_plane_27.tif\n",
      "params              {'main': {'fr': 9.62, 'dxy': (1.0, 1.0), 'decay_time': 0.4, 'p': 2, 'nb': 1, 'rf': 40, 'K': 150, 'gSig': [7.5, 7.5],...\n",
      "outputs                                                                                                                                None\n",
      "added_time                                                                                                              2024-10-01T16:34:44\n",
      "ran_time                                                                                                                               None\n",
      "algo_duration                                                                                                                          None\n",
      "comments                                                                                                                               None\n",
      "uuid                                                                                                   07907a0b-b138-41e3-99a7-f7153738a640\n",
      "Name: 26, dtype: object\n",
      "With params:{'main': {'fr': 9.62, 'dxy': (1.0, 1.0), 'decay_time': 0.4, 'p': 2, 'nb': 1, 'rf': 40, 'K': 150, 'gSig': array([7.5, 7.5]), 'stride': 10, 'method_init': 'greedy_roi', 'rolling_sum': True, 'use_cnn': False, 'ssub': 1, 'tsub': 1, 'merge_thr': 0.8, 'bas_nonneg': True, 'min_SNR': 1.4, 'rval_thr': 0.8}, 'refit': True}\n"
     ]
    },
    {
     "name": "stderr",
     "output_type": "stream",
     "text": [
      "    40322141 [cluster.py:setup_cluster():225] [16596] The local backend is an alias for the multiprocessing backend, and the alias may be removed in some future version of Caiman\n",
      "    40322241 [params.py:change_params():1151] [16596] In setting CNMFParams, non-pathed parameters were used; this is deprecated. In some future version of Caiman, allow_legacy will default to False (and eventually will be removed)\n",
      "<tifffile.TiffFile 'extracted_plane_27.tif'> shaped series axes do not match shape\n"
     ]
    },
    {
     "name": "stdout",
     "output_type": "stream",
     "text": [
      "making memmap\n"
     ]
    },
    {
     "name": "stderr",
     "output_type": "stream",
     "text": [
      "    40334799 [cluster.py:setup_cluster():225] [16596] The local backend is an alias for the multiprocessing backend, and the alias may be removed in some future version of Caiman\n"
     ]
    },
    {
     "name": "stdout",
     "output_type": "stream",
     "text": [
      "performing CNMF\n",
      "fitting images\n",
      "refitting\n",
      "performing eval\n"
     ]
    },
    {
     "name": "stderr",
     "output_type": "stream",
     "text": [
      "    41494502 [estimates.py:evaluate_components():1060] [16596] NaN values detected for space correlation in [ 891 5310 5924]. Changing their value to -1.\n"
     ]
    },
    {
     "name": "stdout",
     "output_type": "stream",
     "text": [
      "Running 8b7cbfb4-7c62-4780-a90c-5275cbe1f318 with local backend\n",
      "************************************************************************\n",
      "\n",
      "Starting CNMF item:\n",
      "algo                                                                                                                                   cnmf\n",
      "item_name                                                                                                                            cnmf_1\n",
      "input_movie_path                                                                                                tiff\\extracted_plane_28.tif\n",
      "params              {'main': {'fr': 9.62, 'dxy': (1.0, 1.0), 'decay_time': 0.4, 'p': 2, 'nb': 1, 'rf': 40, 'K': 150, 'gSig': [7.5, 7.5],...\n",
      "outputs                                                                                                                                None\n",
      "added_time                                                                                                              2024-10-01T16:34:44\n",
      "ran_time                                                                                                                               None\n",
      "algo_duration                                                                                                                          None\n",
      "comments                                                                                                                               None\n",
      "uuid                                                                                                   8b7cbfb4-7c62-4780-a90c-5275cbe1f318\n",
      "Name: 27, dtype: object\n",
      "With params:{'main': {'fr': 9.62, 'dxy': (1.0, 1.0), 'decay_time': 0.4, 'p': 2, 'nb': 1, 'rf': 40, 'K': 150, 'gSig': array([7.5, 7.5]), 'stride': 10, 'method_init': 'greedy_roi', 'rolling_sum': True, 'use_cnn': False, 'ssub': 1, 'tsub': 1, 'merge_thr': 0.8, 'bas_nonneg': True, 'min_SNR': 1.4, 'rval_thr': 0.8}, 'refit': True}\n"
     ]
    },
    {
     "name": "stderr",
     "output_type": "stream",
     "text": [
      "    41501713 [cluster.py:setup_cluster():225] [16596] The local backend is an alias for the multiprocessing backend, and the alias may be removed in some future version of Caiman\n",
      "    41501811 [params.py:change_params():1151] [16596] In setting CNMFParams, non-pathed parameters were used; this is deprecated. In some future version of Caiman, allow_legacy will default to False (and eventually will be removed)\n",
      "<tifffile.TiffFile 'extracted_plane_28.tif'> shaped series axes do not match shape\n"
     ]
    },
    {
     "name": "stdout",
     "output_type": "stream",
     "text": [
      "making memmap\n"
     ]
    },
    {
     "name": "stderr",
     "output_type": "stream",
     "text": [
      "    41514314 [cluster.py:setup_cluster():225] [16596] The local backend is an alias for the multiprocessing backend, and the alias may be removed in some future version of Caiman\n"
     ]
    },
    {
     "name": "stdout",
     "output_type": "stream",
     "text": [
      "performing CNMF\n",
      "fitting images\n",
      "refitting\n",
      "performing eval\n"
     ]
    },
    {
     "name": "stderr",
     "output_type": "stream",
     "text": [
      "    42442632 [estimates.py:evaluate_components():1060] [16596] NaN values detected for space correlation in [ 4414  4684  7886  8450  8963 10179]. Changing their value to -1.\n"
     ]
    }
   ],
   "source": [
    "for i, row in cnmf_batch.iterrows():\n",
    "    if row[\"outputs\"] is not None:\n",
    "        continue\n",
    "\n",
    "    process = row.caiman.run()\n",
    "\n",
    "    # on Windows you MUST reload the batch dataframe after every iteration because it uses the `local` backend.\n",
    "    # this is unnecessary on Linux & Mac\n",
    "    # \"DummyProcess\" is used for local backend so this is automatic\n",
    "    if process.__class__.__name__ == \"DummyProcess\":\n",
    "        df = cnmf_batch.caiman.reload_from_disk()"
   ]
  },
  {
   "cell_type": "code",
   "execution_count": null,
   "id": "e1c0a39e",
   "metadata": {},
   "outputs": [],
   "source": [
    "import fastplitlib as fpl\n",
    "\n",
    "# create image widget for raw neural activity\n",
    "raw_iw = fpl.Figure()\n",
    "\n",
    "# re-add our identified good components from before using the SNR mapping\n",
    "contours_graphic = raw_iw[0,0].add_line_collection(data=contours, cmap=\"spring\", thickness=2, name=\"contours\")\n",
    "\n",
    "# get temporal components\n",
    "temporal = df.iloc[row_ix].cnmf.get_temporal(component_indices=\"good\")\n",
    "\n",
    "# temporal plot\n",
    "plot_temporal = fpl.Figure(size=(600,100))\n",
    "plot_temporal[0,0].add_line(temporal[0], colors=\"magenta\")\n",
    "\n",
    "# add a linear selector to temporal trace\n",
    "plot_temporal[0,0].graphics[0].add_linear_selector()\n",
    "\n",
    "# show temporal plot and mcorr/rcm plot in ipywidgets VBox\n",
    "sc = Sidecar()\n",
    "\n",
    "# with sc:\n",
    "display(VBox([raw_iw.show(), plot_temporal.show()]))"
   ]
  },
  {
   "cell_type": "code",
   "execution_count": null,
   "id": "751a5717",
   "metadata": {},
   "outputs": [],
   "source": [
    "from ipywidgets import Tab, Text, Button, VBox, interact_manual, interactive\n",
    "@interact_manual(parent_path=str(parent_path), batch_path=str(batch_path))\n",
    "def start_widget(parent_path, batch_path):\n",
    "    mc.set_parent_raw_data_path(parent_path)\n",
    "\n",
    "    df = mc.load_batch(batch_path)\n",
    "\n",
    "    tab = Tab()\n",
    "\n",
    "    # mcorr_container = df.mcorr.viz()\n",
    "    cnmf_container = df.cnmf.viz(start_index=1)\n",
    "\n",
    "    tab.children = [cnmf_container.show()]\n",
    "    tab.titles = [\"cnmf\"]\n",
    "    display(tab)"
   ]
  }
 ],
 "metadata": {
  "kernelspec": {
   "display_name": "Python 3 (ipykernel)",
   "language": "python",
   "name": "python3"
  },
  "language_info": {
   "codemirror_mode": {
    "name": "ipython",
    "version": 3
   },
   "file_extension": ".py",
   "mimetype": "text/x-python",
   "name": "python",
   "nbconvert_exporter": "python",
   "pygments_lexer": "ipython3",
   "version": "3.10.8"
  }
 },
 "nbformat": 4,
 "nbformat_minor": 5
}
