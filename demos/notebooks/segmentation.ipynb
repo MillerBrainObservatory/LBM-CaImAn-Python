{
 "cells": [
  {
   "cell_type": "markdown",
   "id": "1acd06e5",
   "metadata": {},
   "source": [
    "# Segmentation\n",
    "\n",
    "Extract neuronal locations and planar time-traces.\n",
    "\n",
    "- Apply the constrained nonnegative matrix factorization (CNMF) source separation algorithm to extract initial estimates of neuronal spatial footprints and calcium traces.\n",
    "- Apply quality control metrics to evaluate the initial estimates, and narrow down to the final set of estimates."
   ]
  },
  {
   "cell_type": "markdown",
   "id": "ffcdc48d",
   "metadata": {},
   "source": [
    "## Caiman docs on component eval\n",
    "\n",
    "https://caiman.readthedocs.io/en/latest/Getting_Started.html#component-evaluation\n",
    "\n",
    "The quality of detected components is evaluated with three parameters:\n",
    "\n",
    "**Spatial footprint consistency** `(rval)`: The spatial footprint of the component is compared with the frames where this component is active.\n",
    "\n",
    "- Other component’s signals are subtracted from these frames, and the resulting raw data is correlated against the spatial component.\n",
    "- This ensures that the raw data at the spatial footprint aligns with the extracted trace.\n",
    "\n",
    "**Trace signal-noise-ratio** `SNR`: Peak SNR is calculated from strong calcium transients and the noise estimate.\n",
    "\n",
    "**CNN-based classifier** `cnn`: The shape of components is evaluated by a 4-layered convolutional neural network trained on a manually annotated dataset.\n",
    "- The CNN assigns a value of 0-1 to each component depending on its resemblance to a neuronal soma.\n",
    "\n",
    "Each parameter has a low threshold:\n",
    "- (rval_lowest (default -1), SNR_lowest (default 0.5), cnn_lowest (default 0.1))\n",
    "and high threshold:\n",
    "- (rval_thr (default 0.8), min_SNR (default 2.5), min_cnn_thr (default 0.9))\n",
    "A component has to exceed ALL low thresholds as well as ONE high threshold to be accepted."
   ]
  },
  {
   "cell_type": "code",
   "id": "09288483",
   "metadata": {
    "execution": {
     "iopub.execute_input": "2024-12-01T17:51:27.043911Z",
     "iopub.status.busy": "2024-12-01T17:51:27.043496Z",
     "iopub.status.idle": "2024-12-01T17:51:27.051507Z",
     "shell.execute_reply": "2024-12-01T17:51:27.050335Z",
     "shell.execute_reply.started": "2024-12-01T17:51:27.043890Z"
    },
    "ExecuteTime": {
     "end_time": "2024-12-02T14:33:51.517880Z",
     "start_time": "2024-12-02T14:33:47.980886Z"
    }
   },
   "source": [
    "import os\n",
    "from pathlib import Path\n",
    "import logging\n",
    "\n",
    "import mesmerize_core as mc\n",
    "from mesmerize_core.caiman_extensions.cnmf import cnmf_cache\n",
    "\n",
    "from caiman.source_extraction.cnmf import cnmf, params\n",
    "from caiman.motion_correction import high_pass_filter_space\n",
    "from caiman.summary_images import correlation_pnr\n",
    "\n",
    "import matplotlib.pyplot as plt\n",
    "import pandas as pd\n",
    "import numpy as np\n",
    "import zarr\n",
    "from ipywidgets import IntSlider, VBox\n",
    "from sidecar import Sidecar\n",
    "\n",
    "try:\n",
    "    import cv2\n",
    "    cv2.setNumThreads(0)\n",
    "except():\n",
    "    pass\n",
    "\n",
    "if os.name == \"nt\":\n",
    "    # disable the cache on windows, this will be automatic in a future version\n",
    "    cnmf_cache.set_maxsize(0)\n",
    "\n",
    "pd.options.display.max_colwidth = 120\n",
    "\n",
    "# Unneeded in newer versions of mesmerize-core\n",
    "os.environ['CONDA_PYTHON_EXE'] = \"/home/flynn/miniforge3/bin/python\"\n",
    "os.environ['CONDA_PREFIX_1'] = \"lcp\"\n",
    "\n",
    "logger = logging.getLogger(\"caiman\")\n",
    "logger.setLevel(logging.DEBUG)\n",
    "handler = logging.StreamHandler()\n",
    "log_format = logging.Formatter(\"%(relativeCreated)12d [%(filename)s:%(funcName)10s():%(lineno)s] [%(process)d] %(message)s\")\n",
    "handler.setFormatter(log_format)\n",
    "logger.addHandler(handler)\n",
    "\n",
    "logging.getLogger(\"caiman\").setLevel(logging.WARNING)"
   ],
   "outputs": [
    {
     "name": "stderr",
     "output_type": "stream",
     "text": [
      "2024-12-02 09:33:49.504908: I tensorflow/core/util/port.cc:113] oneDNN custom operations are on. You may see slightly different numerical results due to floating-point round-off errors from different computation orders. To turn them off, set the environment variable `TF_ENABLE_ONEDNN_OPTS=0`.\n",
      "2024-12-02 09:33:49.523998: I tensorflow/core/platform/cpu_feature_guard.cc:182] This TensorFlow binary is optimized to use available CPU instructions in performance-critical operations.\n",
      "To enable the following instructions: SSE4.1 SSE4.2 AVX AVX2 AVX_VNNI FMA, in other operations, rebuild TensorFlow with the appropriate compiler flags.\n"
     ]
    }
   ],
   "execution_count": 1
  },
  {
   "cell_type": "markdown",
   "id": "73aca9be",
   "metadata": {},
   "source": [
    "### Data path setup\n",
    "\n",
    "Data setup is similar to [motion_correction notebook](./motion_correction.ipynb).\n",
    "\n",
    "You can make a new batch named something like `cnmf.batch` just like you did for registration.\n",
    "\n",
    "However, you will want to also load the previous registration batch to use as input to `df.caiman.add_item()`.\n",
    "\n",
    "Additionally, you will also want the path to the input file so we can read the metadata from the raw file.\n",
    "\n",
    "Here, to keep data organized, we will:\n",
    "1. define our previous analaysis path as `mcorr_batch_path`\n",
    "2. create a new 'cnmf.pickle` to save our cnmf results."
   ]
  },
  {
   "cell_type": "code",
   "id": "d65b3a8e",
   "metadata": {
    "execution": {
     "iopub.execute_input": "2024-12-01T17:59:53.699811Z",
     "iopub.status.busy": "2024-12-01T17:59:53.699292Z",
     "iopub.status.idle": "2024-12-01T17:59:53.715610Z",
     "shell.execute_reply": "2024-12-01T17:59:53.715149Z",
     "shell.execute_reply.started": "2024-12-01T17:59:53.699778Z"
    },
    "ExecuteTime": {
     "end_time": "2024-12-02T14:34:11.478450Z",
     "start_time": "2024-12-02T14:34:11.460448Z"
    }
   },
   "source": [
    "parent_path = Path().home() / \"caiman_data\" / \"out\"\n",
    "mcorr_batch_path = parent_path / 'batch.pickle'\n",
    "\n",
    "mc.set_parent_raw_data_path(str(parent_path))\n",
    "\n",
    "df_mcorr = mc.load_batch(mcorr_batch_path)\n",
    "df_mcorr\n"
   ],
   "outputs": [
    {
     "data": {
      "text/plain": [
       "    algo item_name input_movie_path  \\\n",
       "0  mcorr     mcorr     plane_1.tiff   \n",
       "1  mcorr   plane_0    plane_21.tiff   \n",
       "2  mcorr   plane_2    plane_16.tiff   \n",
       "\n",
       "                                                                                                                    params  \\\n",
       "0  {'main': {'dxy': (1.04, 1.0), 'fr': 9.60806, 'max_shifts': (2, 2), 'strides': (12, 12), 'overlaps': (6, 6), 'max_dev...   \n",
       "1  {'main': {'dxy': (1.04, 1.0), 'fr': 9.60806, 'max_shifts': (2, 2), 'strides': (12, 12), 'overlaps': (6, 6), 'max_dev...   \n",
       "2  {'main': {'dxy': (1.04, 1.0), 'fr': 9.60806, 'max_shifts': (2, 2), 'strides': (12, 12), 'overlaps': (6, 6), 'max_dev...   \n",
       "\n",
       "                                                                                                                   outputs  \\\n",
       "0  {'mean-projection-path': a8f0f15d-d2a7-4ab8-92d1-9dc05ebcbc89/a8f0f15d-d2a7-4ab8-92d1-9dc05ebcbc89_mean_projection.n...   \n",
       "1  {'mean-projection-path': 2918ff63-f204-4334-8837-ea172af89e39/2918ff63-f204-4334-8837-ea172af89e39_mean_projection.n...   \n",
       "2  {'mean-projection-path': 245bb955-feb9-4245-86bf-dd6ec1c79e95/245bb955-feb9-4245-86bf-dd6ec1c79e95_mean_projection.n...   \n",
       "\n",
       "            added_time             ran_time algo_duration comments  \\\n",
       "0  2024-12-01T18:10:05  2024-12-01T18:13:10    170.19 sec     None   \n",
       "1  2024-12-01T18:48:52  2024-12-01T18:52:57    172.63 sec     None   \n",
       "2  2024-12-01T18:48:52  2024-12-01T18:55:58    176.06 sec     None   \n",
       "\n",
       "                                   uuid  \n",
       "0  a8f0f15d-d2a7-4ab8-92d1-9dc05ebcbc89  \n",
       "1  2918ff63-f204-4334-8837-ea172af89e39  \n",
       "2  245bb955-feb9-4245-86bf-dd6ec1c79e95  "
      ],
      "text/html": [
       "<div>\n",
       "<style scoped>\n",
       "    .dataframe tbody tr th:only-of-type {\n",
       "        vertical-align: middle;\n",
       "    }\n",
       "\n",
       "    .dataframe tbody tr th {\n",
       "        vertical-align: top;\n",
       "    }\n",
       "\n",
       "    .dataframe thead th {\n",
       "        text-align: right;\n",
       "    }\n",
       "</style>\n",
       "<table border=\"1\" class=\"dataframe\">\n",
       "  <thead>\n",
       "    <tr style=\"text-align: right;\">\n",
       "      <th></th>\n",
       "      <th>algo</th>\n",
       "      <th>item_name</th>\n",
       "      <th>input_movie_path</th>\n",
       "      <th>params</th>\n",
       "      <th>outputs</th>\n",
       "      <th>added_time</th>\n",
       "      <th>ran_time</th>\n",
       "      <th>algo_duration</th>\n",
       "      <th>comments</th>\n",
       "      <th>uuid</th>\n",
       "    </tr>\n",
       "  </thead>\n",
       "  <tbody>\n",
       "    <tr>\n",
       "      <th>0</th>\n",
       "      <td>mcorr</td>\n",
       "      <td>mcorr</td>\n",
       "      <td>plane_1.tiff</td>\n",
       "      <td>{'main': {'dxy': (1.04, 1.0), 'fr': 9.60806, 'max_shifts': (2, 2), 'strides': (12, 12), 'overlaps': (6, 6), 'max_dev...</td>\n",
       "      <td>{'mean-projection-path': a8f0f15d-d2a7-4ab8-92d1-9dc05ebcbc89/a8f0f15d-d2a7-4ab8-92d1-9dc05ebcbc89_mean_projection.n...</td>\n",
       "      <td>2024-12-01T18:10:05</td>\n",
       "      <td>2024-12-01T18:13:10</td>\n",
       "      <td>170.19 sec</td>\n",
       "      <td>None</td>\n",
       "      <td>a8f0f15d-d2a7-4ab8-92d1-9dc05ebcbc89</td>\n",
       "    </tr>\n",
       "    <tr>\n",
       "      <th>1</th>\n",
       "      <td>mcorr</td>\n",
       "      <td>plane_0</td>\n",
       "      <td>plane_21.tiff</td>\n",
       "      <td>{'main': {'dxy': (1.04, 1.0), 'fr': 9.60806, 'max_shifts': (2, 2), 'strides': (12, 12), 'overlaps': (6, 6), 'max_dev...</td>\n",
       "      <td>{'mean-projection-path': 2918ff63-f204-4334-8837-ea172af89e39/2918ff63-f204-4334-8837-ea172af89e39_mean_projection.n...</td>\n",
       "      <td>2024-12-01T18:48:52</td>\n",
       "      <td>2024-12-01T18:52:57</td>\n",
       "      <td>172.63 sec</td>\n",
       "      <td>None</td>\n",
       "      <td>2918ff63-f204-4334-8837-ea172af89e39</td>\n",
       "    </tr>\n",
       "    <tr>\n",
       "      <th>2</th>\n",
       "      <td>mcorr</td>\n",
       "      <td>plane_2</td>\n",
       "      <td>plane_16.tiff</td>\n",
       "      <td>{'main': {'dxy': (1.04, 1.0), 'fr': 9.60806, 'max_shifts': (2, 2), 'strides': (12, 12), 'overlaps': (6, 6), 'max_dev...</td>\n",
       "      <td>{'mean-projection-path': 245bb955-feb9-4245-86bf-dd6ec1c79e95/245bb955-feb9-4245-86bf-dd6ec1c79e95_mean_projection.n...</td>\n",
       "      <td>2024-12-01T18:48:52</td>\n",
       "      <td>2024-12-01T18:55:58</td>\n",
       "      <td>176.06 sec</td>\n",
       "      <td>None</td>\n",
       "      <td>245bb955-feb9-4245-86bf-dd6ec1c79e95</td>\n",
       "    </tr>\n",
       "  </tbody>\n",
       "</table>\n",
       "</div>"
      ]
     },
     "execution_count": 2,
     "metadata": {},
     "output_type": "execute_result"
    }
   ],
   "execution_count": 2
  },
  {
   "metadata": {},
   "cell_type": "markdown",
   "source": "Item name cleanup",
   "id": "7774c634e4b1780f"
  },
  {
   "metadata": {
    "ExecuteTime": {
     "end_time": "2024-12-02T14:35:44.190492Z",
     "start_time": "2024-12-02T14:35:44.174662Z"
    }
   },
   "cell_type": "code",
   "source": [
    "# fix our item names. Not needed but keeps things organized\n",
    "df_mcorr.iloc[0].item_name = 'plane_1'\n",
    "df_mcorr.iloc[1].item_name = 'plane_21'\n",
    "df_mcorr.iloc[2].item_name = 'plane_16'\n",
    "df_mcorr"
   ],
   "id": "a92d4f87dcaf4832",
   "outputs": [
    {
     "data": {
      "text/plain": [
       "    algo item_name input_movie_path  \\\n",
       "0  mcorr   plane_1     plane_1.tiff   \n",
       "1  mcorr  plane_21    plane_21.tiff   \n",
       "2  mcorr  plane_16    plane_16.tiff   \n",
       "\n",
       "                                                                                                                    params  \\\n",
       "0  {'main': {'dxy': (1.04, 1.0), 'fr': 9.60806, 'max_shifts': (2, 2), 'strides': (12, 12), 'overlaps': (6, 6), 'max_dev...   \n",
       "1  {'main': {'dxy': (1.04, 1.0), 'fr': 9.60806, 'max_shifts': (2, 2), 'strides': (12, 12), 'overlaps': (6, 6), 'max_dev...   \n",
       "2  {'main': {'dxy': (1.04, 1.0), 'fr': 9.60806, 'max_shifts': (2, 2), 'strides': (12, 12), 'overlaps': (6, 6), 'max_dev...   \n",
       "\n",
       "                                                                                                                   outputs  \\\n",
       "0  {'mean-projection-path': a8f0f15d-d2a7-4ab8-92d1-9dc05ebcbc89/a8f0f15d-d2a7-4ab8-92d1-9dc05ebcbc89_mean_projection.n...   \n",
       "1  {'mean-projection-path': 2918ff63-f204-4334-8837-ea172af89e39/2918ff63-f204-4334-8837-ea172af89e39_mean_projection.n...   \n",
       "2  {'mean-projection-path': 245bb955-feb9-4245-86bf-dd6ec1c79e95/245bb955-feb9-4245-86bf-dd6ec1c79e95_mean_projection.n...   \n",
       "\n",
       "            added_time             ran_time algo_duration comments  \\\n",
       "0  2024-12-01T18:10:05  2024-12-01T18:13:10    170.19 sec     None   \n",
       "1  2024-12-01T18:48:52  2024-12-01T18:52:57    172.63 sec     None   \n",
       "2  2024-12-01T18:48:52  2024-12-01T18:55:58    176.06 sec     None   \n",
       "\n",
       "                                   uuid  \n",
       "0  a8f0f15d-d2a7-4ab8-92d1-9dc05ebcbc89  \n",
       "1  2918ff63-f204-4334-8837-ea172af89e39  \n",
       "2  245bb955-feb9-4245-86bf-dd6ec1c79e95  "
      ],
      "text/html": [
       "<div>\n",
       "<style scoped>\n",
       "    .dataframe tbody tr th:only-of-type {\n",
       "        vertical-align: middle;\n",
       "    }\n",
       "\n",
       "    .dataframe tbody tr th {\n",
       "        vertical-align: top;\n",
       "    }\n",
       "\n",
       "    .dataframe thead th {\n",
       "        text-align: right;\n",
       "    }\n",
       "</style>\n",
       "<table border=\"1\" class=\"dataframe\">\n",
       "  <thead>\n",
       "    <tr style=\"text-align: right;\">\n",
       "      <th></th>\n",
       "      <th>algo</th>\n",
       "      <th>item_name</th>\n",
       "      <th>input_movie_path</th>\n",
       "      <th>params</th>\n",
       "      <th>outputs</th>\n",
       "      <th>added_time</th>\n",
       "      <th>ran_time</th>\n",
       "      <th>algo_duration</th>\n",
       "      <th>comments</th>\n",
       "      <th>uuid</th>\n",
       "    </tr>\n",
       "  </thead>\n",
       "  <tbody>\n",
       "    <tr>\n",
       "      <th>0</th>\n",
       "      <td>mcorr</td>\n",
       "      <td>plane_1</td>\n",
       "      <td>plane_1.tiff</td>\n",
       "      <td>{'main': {'dxy': (1.04, 1.0), 'fr': 9.60806, 'max_shifts': (2, 2), 'strides': (12, 12), 'overlaps': (6, 6), 'max_dev...</td>\n",
       "      <td>{'mean-projection-path': a8f0f15d-d2a7-4ab8-92d1-9dc05ebcbc89/a8f0f15d-d2a7-4ab8-92d1-9dc05ebcbc89_mean_projection.n...</td>\n",
       "      <td>2024-12-01T18:10:05</td>\n",
       "      <td>2024-12-01T18:13:10</td>\n",
       "      <td>170.19 sec</td>\n",
       "      <td>None</td>\n",
       "      <td>a8f0f15d-d2a7-4ab8-92d1-9dc05ebcbc89</td>\n",
       "    </tr>\n",
       "    <tr>\n",
       "      <th>1</th>\n",
       "      <td>mcorr</td>\n",
       "      <td>plane_21</td>\n",
       "      <td>plane_21.tiff</td>\n",
       "      <td>{'main': {'dxy': (1.04, 1.0), 'fr': 9.60806, 'max_shifts': (2, 2), 'strides': (12, 12), 'overlaps': (6, 6), 'max_dev...</td>\n",
       "      <td>{'mean-projection-path': 2918ff63-f204-4334-8837-ea172af89e39/2918ff63-f204-4334-8837-ea172af89e39_mean_projection.n...</td>\n",
       "      <td>2024-12-01T18:48:52</td>\n",
       "      <td>2024-12-01T18:52:57</td>\n",
       "      <td>172.63 sec</td>\n",
       "      <td>None</td>\n",
       "      <td>2918ff63-f204-4334-8837-ea172af89e39</td>\n",
       "    </tr>\n",
       "    <tr>\n",
       "      <th>2</th>\n",
       "      <td>mcorr</td>\n",
       "      <td>plane_16</td>\n",
       "      <td>plane_16.tiff</td>\n",
       "      <td>{'main': {'dxy': (1.04, 1.0), 'fr': 9.60806, 'max_shifts': (2, 2), 'strides': (12, 12), 'overlaps': (6, 6), 'max_dev...</td>\n",
       "      <td>{'mean-projection-path': 245bb955-feb9-4245-86bf-dd6ec1c79e95/245bb955-feb9-4245-86bf-dd6ec1c79e95_mean_projection.n...</td>\n",
       "      <td>2024-12-01T18:48:52</td>\n",
       "      <td>2024-12-01T18:55:58</td>\n",
       "      <td>176.06 sec</td>\n",
       "      <td>None</td>\n",
       "      <td>245bb955-feb9-4245-86bf-dd6ec1c79e95</td>\n",
       "    </tr>\n",
       "  </tbody>\n",
       "</table>\n",
       "</div>"
      ]
     },
     "execution_count": 3,
     "metadata": {},
     "output_type": "execute_result"
    }
   ],
   "execution_count": 3
  },
  {
   "cell_type": "markdown",
   "id": "5f07cb46",
   "metadata": {},
   "source": [
    "Now a new batch set to store cnmf."
   ]
  },
  {
   "cell_type": "code",
   "id": "6c6229cb",
   "metadata": {
    "ExecuteTime": {
     "end_time": "2024-12-02T14:36:43.584067Z",
     "start_time": "2024-12-02T14:36:43.573540Z"
    }
   },
   "source": [
    "cnmf_batch_path = parent_path / 'cnmf.pickle'\n",
    "\n",
    "# I like leaving `remove_existing` to False for safety, and if you want to \"start over\", just create a new batch by switching `remove_existing` to True.\n",
    "df = mc.create_batch(cnmf_batch_path, remove_existing=False)\n",
    "df"
   ],
   "outputs": [
    {
     "data": {
      "text/plain": [
       "Empty DataFrame\n",
       "Columns: [algo, item_name, input_movie_path, params, outputs, added_time, ran_time, algo_duration, comments, uuid]\n",
       "Index: []"
      ],
      "text/html": [
       "<div>\n",
       "<style scoped>\n",
       "    .dataframe tbody tr th:only-of-type {\n",
       "        vertical-align: middle;\n",
       "    }\n",
       "\n",
       "    .dataframe tbody tr th {\n",
       "        vertical-align: top;\n",
       "    }\n",
       "\n",
       "    .dataframe thead th {\n",
       "        text-align: right;\n",
       "    }\n",
       "</style>\n",
       "<table border=\"1\" class=\"dataframe\">\n",
       "  <thead>\n",
       "    <tr style=\"text-align: right;\">\n",
       "      <th></th>\n",
       "      <th>algo</th>\n",
       "      <th>item_name</th>\n",
       "      <th>input_movie_path</th>\n",
       "      <th>params</th>\n",
       "      <th>outputs</th>\n",
       "      <th>added_time</th>\n",
       "      <th>ran_time</th>\n",
       "      <th>algo_duration</th>\n",
       "      <th>comments</th>\n",
       "      <th>uuid</th>\n",
       "    </tr>\n",
       "  </thead>\n",
       "  <tbody>\n",
       "  </tbody>\n",
       "</table>\n",
       "</div>"
      ]
     },
     "execution_count": 7,
     "metadata": {},
     "output_type": "execute_result"
    }
   ],
   "execution_count": 7
  },
  {
   "cell_type": "markdown",
   "id": "a6f4ffc0",
   "metadata": {},
   "source": [
    "\n",
    "- [get_input_movie_path()](https://mesmerize-core.readthedocs.io/en/latest/api/common.html#mesmerize_core.CaimanSeriesExtensions.get_input_movie_path) allows us to easily get filepaths to our raw files"
   ]
  },
  {
   "cell_type": "code",
   "id": "8533001c",
   "metadata": {
    "ExecuteTime": {
     "end_time": "2024-12-02T14:39:08.999594Z",
     "start_time": "2024-12-02T14:39:08.949428Z"
    }
   },
   "source": [
    "from lbm_caiman_python import get_metadata\n",
    "tiff_files = [df_mcorr.iloc[i].caiman.get_input_movie_path() for i in df_mcorr.index]\n",
    "metadata = [get_metadata(file) for file in tiff_files]\n",
    "print(metadata[0]['pixel_resolution'])\n",
    "print(metadata[1]['pixel_resolution'])\n",
    "print(metadata[2]['pixel_resolution'])"
   ],
   "outputs": [
    {
     "name": "stdout",
     "output_type": "stream",
     "text": [
      "[1.04, 1.0]\n",
      "[1.04, 1.0]\n",
      "[1.04, 1.0]\n"
     ]
    }
   ],
   "execution_count": 8
  },
  {
   "cell_type": "markdown",
   "id": "6dc1260b-634c-49cc-b99b-10c44b3af72d",
   "metadata": {
    "pycharm": {
     "name": "#%% md\n"
    }
   },
   "source": [
    "## CNMF\n",
    "\n",
    "Run the CaImAn `CNMF` algorithm using the mcorr output obtained in the last processing step."
   ]
  },
  {
   "cell_type": "markdown",
   "id": "4628d805",
   "metadata": {},
   "source": [
    "### Initial parameters\n",
    "In general in Caiman, estimators are first initialized with a set of parameters, and then they are fit against actual data in a separate step.\n",
    "\n",
    "In this section, we'll define a `parameters` object that will subsequently be used to initialize our different estimators. "
   ]
  },
  {
   "cell_type": "markdown",
   "id": "273aee5b",
   "metadata": {},
   "source": [
    "| Parameter       | Description                                                                                                                                                                                                                                                                             | Default/Typical Value                        |\n",
    "|------------------|-----------------------------------------------------------------------------------------------------------------------------------------------------------------------------------------------------------------------------------------------------------------------------------------|---------------------------------------------|\n",
    "| `decay_time`    | Length of a typical transient in seconds. Approximation of the time scale for significant shifts in calcium signal. Defaults to `0.4` for fast indicators (e.g., GCaMP6f). Use `1` or more for slow indicators. Precise fitting is not necessary.                                       | 0.4 (fast indicators)                       |\n",
    "| `p`             | Order of the autoregressive model. Use `p=0` to turn off deconvolution. Set `p=1` for instantaneous transients (e.g., low sample rate or slow indicator). Set `p=2` for visible rise time transients. Incorrect order leads to unreliable spike extraction.                              | 1 (slow), 2 (visible rise time)             |\n",
    "| `nb`            | Number of global background components. Defaults to `2` for relatively homogeneous backgrounds. Use `3` for more complex noise, `1` is usually too low. Too low `nb` causes noisy traces; too high absorbs neuronal signals, reducing transients.                                       | 2                                           |\n",
    "| `merge_thr`     | Merging threshold for components after initialization. Components correlated above this threshold are merged, useful for splitting neurons during initialization.                                                                                                                       | Typically between 0.7 and 0.9               |\n",
    "| `rf`            | Half-size of patches in pixels. Should be at least 3–4 times larger than neuron size to capture the neuron and local background. Larger patches reduce parallelization.                                                                                                                | 3–4 × expected neuron size                  |\n",
    "| `stride`        | Overlap between patches in pixels. Typically set to neuron diameter. Larger values increase computational load but improve reconstruction/denoising.                                                                                                                                | Neuron diameter (~10–20 pixels)             |\n",
    "| `K`             | Expected number of components per patch. Adjust based on patch size (`rf`) and component density.                                                                                                                                                                                     | Varies based on data                        |\n",
    "| `gSig`          | Expected half-size of neurons in pixels `[rows X columns]`. This is a **crucial** parameter for accurate component detection.                                                                                                                                                        | Typically matches neuron half-size          |\n",
    "| `method_init`   | Initialization method. Depends on the recording method: use `greedy_roi` for 2p data, `corr_pnr` for 1p data, and `sparse_nmf` for dendritic/axonal data.                                                                                                                              | `greedy_roi`, `corr_pnr`, `sparse_nmf`      |\n",
    "| `ssub/tsub`     | Spatial and temporal subsampling during initialization. Defaults to `1` (no compression). Increase (e.g., `2` or more) to save resources but at the potential cost of impaired detection/extraction quality.                                                                           | 1 (no compression), 2+ (for resource saving)|"
   ]
  },
  {
   "cell_type": "markdown",
   "id": "4a08a808",
   "metadata": {},
   "source": [
    "`decay_time`: Length of a typical transient in seconds. decay_time is an approximation of the time scale over which to expect a significant shift in the calcium signal during a transient. It defaults to 0.4, which is appropriate for fast indicators (GCaMP6f), slow indicators might use 1 or even more. However, decay_time does not have to precisely fit the data, approximations are enough."
   ]
  },
  {
   "cell_type": "markdown",
   "id": "d0e12efa",
   "metadata": {},
   "source": [
    "[Decay times](https://www.janelia.org/jgcamp8-calcium-indicators)\n",
    "\n",
    "| Protein            | Max dF/F   | Half-rise time (ms)   | Time to peak (ms)   | Half-decay time (ms)   |\n",
    "|:-------------------|:-----------|:----------------------|:--------------------|:-----------------------|\n",
    "| jGCaMP7f (control) | 0.21±0.1   | 24.8±6.6              | 99.5±30.2           | 181.9±76.0             |\n",
    "| jGCaMP8f           | 0.41±0.12  | 7.1±0.74              | 24.8±6.1            | 67.4±11.2              |\n",
    "| jGCaMP8m           | 0.76±0.22  | 7.1±0.61              | 29.0±11.2           | 118.3±13.2             |\n",
    "| jGCaMP8s           | 1.11±0.22  | 10.1±0.86             | 57.0±12.9           | 306.7±32.2             |\n",
    "| jGCaMP8.712*       | 0.66±0.18  | 10.9±1.24             | 41.6±8.1            | 94.8±13.3              |"
   ]
  },
  {
   "cell_type": "markdown",
   "id": "b3c91f8c",
   "metadata": {},
   "source": [
    "#### A note on strides and overlaps\n",
    "\n",
    "For registration, the `strides` and `overlaps` have influence on the quality of the results as each patch is processed individually and merged.\n",
    "\n",
    "For segmentation, the equivalent `stride` and `rf` parameters (yes, confusing) only influence the processing time and not the qualty of the result."
   ]
  },
  {
   "cell_type": "markdown",
   "id": "e6bdd4bb",
   "metadata": {},
   "source": [
    "`gSig` is arguably the most influencial parameter, it should be the size of your neurons in `um` * 2.\n",
    "\n",
    "- if your typical neuron is `14um`, `gSig` should be around 6-10."
   ]
  },
  {
   "cell_type": "code",
   "id": "2f369fb1-fe3c-428a-889c-21ddc0f5e595",
   "metadata": {
    "execution": {
     "iopub.execute_input": "2024-12-01T18:01:11.541051Z",
     "iopub.status.busy": "2024-12-01T18:01:11.540636Z",
     "iopub.status.idle": "2024-12-01T18:01:11.548832Z",
     "shell.execute_reply": "2024-12-01T18:01:11.547504Z",
     "shell.execute_reply.started": "2024-12-01T18:01:11.541017Z"
    },
    "ExecuteTime": {
     "end_time": "2024-12-02T14:40:29.280538Z",
     "start_time": "2024-12-02T14:40:29.276620Z"
    }
   },
   "source": [
    "gSig = 7  # Set this to half the size of your neuron, so 7 um for an approximate neuron size of 12-15um. See motion_correction.ipynb for a visualization helping you determine this value.\n",
    "\n",
    "# parameters for component evaluation\n",
    "min_SNR = 1.4               # signal to noise ratio for accepting a component\n",
    "rval_thr = 0.80             # space correlation threshold for accepting a component\n",
    "\n",
    "params_cnmf =\\\n",
    "{\n",
    "    \"main\":\n",
    "    {\n",
    "        'fr': metadata[0]['frame_rate'],\n",
    "        'use_cnn': False,                       # Will error if you set this to True without downloading the CNN model via caimanmanager install\n",
    "        'dxy': metadata[0]['pixel_resolution'],\n",
    "        'method_init': 'greedy_roi',  # could also try 'corr_pnr'\n",
    "        'K': 50,\n",
    "        'gSig': (gSig, gSig),\n",
    "        'gSiz': (4 * gSig + 1, 4 * gSig + 1),\n",
    "        'merge_thr': 0.7,\n",
    "        'p': 2,\n",
    "        'tsub': 1,\n",
    "        'ssub': 1,\n",
    "        'rf': 30,\n",
    "        'stride': 12,\n",
    "        'method_deconvolution': 'oasis',       # could use 'cvxpy' alternatively\n",
    "        'low_rank_background': None,\n",
    "        'update_background_components': True,  # defaults true, sometimes setting to False improve the results\n",
    "        # 'ring_size_factor': 1.4,             # if attempting CNMFE, this is the radius of ring (*gSig) for computing background during corr_pnr\n",
    "        'del_duplicates': True,                # whether to remove duplicates from initialization\n",
    "        'min_SNR': min_SNR,\n",
    "        'rval_thr': rval_thr,\n",
    "    }\n",
    "}"
   ],
   "outputs": [],
   "execution_count": 10
  },
  {
   "cell_type": "markdown",
   "id": "32f7345d",
   "metadata": {},
   "source": [
    "`min_SNR` and `rval_thr` can be tuned with `mesmerize-viz` after processing is complete."
   ]
  },
  {
   "cell_type": "markdown",
   "id": "2b2c7c16-24a1-4893-976e-e52e7430a9c7",
   "metadata": {},
   "source": [
    "# Run CNMF\n",
    "\n",
    "The API is identical to running mcorr.\n",
    "\n",
    "You can provide the mcorr item row to `input_movie_path` and it will resolve the path of the input movie from the entry in the DataFrame."
   ]
  },
  {
   "cell_type": "code",
   "id": "83bcc946-d5b1-4986-86df-b67d15ed9102",
   "metadata": {
    "execution": {
     "iopub.execute_input": "2024-12-01T18:00:14.395538Z",
     "iopub.status.busy": "2024-12-01T18:00:14.395130Z",
     "iopub.status.idle": "2024-12-01T18:00:14.406014Z",
     "shell.execute_reply": "2024-12-01T18:00:14.405231Z",
     "shell.execute_reply.started": "2024-12-01T18:00:14.395507Z"
    },
    "ExecuteTime": {
     "end_time": "2024-12-02T14:41:03.768083Z",
     "start_time": "2024-12-02T14:41:03.761498Z"
    }
   },
   "source": [
    "df = df.caiman.reload_from_disk()\n",
    "\n",
    "df.caiman.add_item(\n",
    "    algo='cnmf',\n",
    "    input_movie_path=df_mcorr.iloc[0], # our registration results row\n",
    "    params=params_cnmf,\n",
    "    item_name=f'{df_mcorr.iloc[0].item_name}_cnmf',\n",
    ")"
   ],
   "outputs": [],
   "execution_count": 11
  },
  {
   "metadata": {
    "ExecuteTime": {
     "end_time": "2024-12-02T14:41:09.760331Z",
     "start_time": "2024-12-02T14:41:09.752489Z"
    }
   },
   "cell_type": "code",
   "source": "df",
   "id": "581552a51a476726",
   "outputs": [
    {
     "data": {
      "text/plain": [
       "   algo     item_name  \\\n",
       "0  cnmf  plane_1_cnmf   \n",
       "\n",
       "                                                                                                          input_movie_path  \\\n",
       "0  a8f0f15d-d2a7-4ab8-92d1-9dc05ebcbc89/a8f0f15d-d2a7-4ab8-92d1-9dc05ebcbc89-plane_1_els__d1_600_d2_576_d3_1_order_F_fr...   \n",
       "\n",
       "                                                                                                                    params  \\\n",
       "0  {'main': {'fr': 9.60806, 'use_cnn': False, 'dxy': (1.04, 1.0), 'method_init': 'greedy_roi', 'K': 50, 'gSig': (7, 7),...   \n",
       "\n",
       "  outputs           added_time ran_time algo_duration comments  \\\n",
       "0    None  2024-12-02T09:41:03     None          None     None   \n",
       "\n",
       "                                   uuid  \n",
       "0  55ee2c5b-cbc8-4fe3-b816-628fca029fba  "
      ],
      "text/html": [
       "<div>\n",
       "<style scoped>\n",
       "    .dataframe tbody tr th:only-of-type {\n",
       "        vertical-align: middle;\n",
       "    }\n",
       "\n",
       "    .dataframe tbody tr th {\n",
       "        vertical-align: top;\n",
       "    }\n",
       "\n",
       "    .dataframe thead th {\n",
       "        text-align: right;\n",
       "    }\n",
       "</style>\n",
       "<table border=\"1\" class=\"dataframe\">\n",
       "  <thead>\n",
       "    <tr style=\"text-align: right;\">\n",
       "      <th></th>\n",
       "      <th>algo</th>\n",
       "      <th>item_name</th>\n",
       "      <th>input_movie_path</th>\n",
       "      <th>params</th>\n",
       "      <th>outputs</th>\n",
       "      <th>added_time</th>\n",
       "      <th>ran_time</th>\n",
       "      <th>algo_duration</th>\n",
       "      <th>comments</th>\n",
       "      <th>uuid</th>\n",
       "    </tr>\n",
       "  </thead>\n",
       "  <tbody>\n",
       "    <tr>\n",
       "      <th>0</th>\n",
       "      <td>cnmf</td>\n",
       "      <td>plane_1_cnmf</td>\n",
       "      <td>a8f0f15d-d2a7-4ab8-92d1-9dc05ebcbc89/a8f0f15d-d2a7-4ab8-92d1-9dc05ebcbc89-plane_1_els__d1_600_d2_576_d3_1_order_F_fr...</td>\n",
       "      <td>{'main': {'fr': 9.60806, 'use_cnn': False, 'dxy': (1.04, 1.0), 'method_init': 'greedy_roi', 'K': 50, 'gSig': (7, 7),...</td>\n",
       "      <td>None</td>\n",
       "      <td>2024-12-02T09:41:03</td>\n",
       "      <td>None</td>\n",
       "      <td>None</td>\n",
       "      <td>None</td>\n",
       "      <td>55ee2c5b-cbc8-4fe3-b816-628fca029fba</td>\n",
       "    </tr>\n",
       "  </tbody>\n",
       "</table>\n",
       "</div>"
      ]
     },
     "execution_count": 12,
     "metadata": {},
     "output_type": "execute_result"
    }
   ],
   "execution_count": 12
  },
  {
   "cell_type": "code",
   "id": "28c11091",
   "metadata": {
    "execution": {
     "iopub.execute_input": "2024-12-01T18:00:19.953955Z",
     "iopub.status.busy": "2024-12-01T18:00:19.953521Z",
     "iopub.status.idle": "2024-12-01T18:00:29.404709Z",
     "shell.execute_reply": "2024-12-01T18:00:29.403811Z",
     "shell.execute_reply.started": "2024-12-01T18:00:19.953917Z"
    },
    "jupyter": {
     "is_executing": true
    },
    "ExecuteTime": {
     "start_time": "2024-12-02T14:41:18.646442Z"
    }
   },
   "source": "df.iloc[-1].caiman.run()",
   "outputs": [
    {
     "name": "stdout",
     "output_type": "stream",
     "text": [
      "************************************************************************\n",
      "\n",
      "Starting CNMF item:\n",
      "algo                                                             cnmf\n",
      "item_name                                                plane_1_cnmf\n",
      "input_movie_path    a8f0f15d-d2a7-4ab8-92d1-9dc05ebcbc89/a8f0f15d-...\n",
      "params              {'main': {'fr': 9.60806, 'use_cnn': False, 'dx...\n",
      "outputs                                                          None\n",
      "added_time                                        2024-12-02T09:41:03\n",
      "ran_time                                                         None\n",
      "algo_duration                                                    None\n",
      "comments                                                         None\n",
      "uuid                             55ee2c5b-cbc8-4fe3-b816-628fca029fba\n",
      "Name: 0, dtype: object\n",
      "With params:{'main': {'fr': 9.60806, 'use_cnn': False, 'dxy': (1.04, 1.0), 'method_init': 'greedy_roi', 'K': 50, 'gSig': (7, 7), 'gSiz': (29, 29), 'merge_thr': 0.7, 'p': 2, 'tsub': 1, 'ssub': 1, 'rf': 30, 'stride': 12, 'method_deconvolution': 'oasis', 'low_rank_background': None, 'update_background_components': True, 'del_duplicates': True, 'min_SNR': 1.4, 'rval_thr': 0.8}}\n"
     ]
    },
    {
     "name": "stderr",
     "output_type": "stream",
     "text": [
      "The local backend is an alias for the multiprocessing backend, and the alias may be removed in some future version of Caiman\n",
      "In setting CNMFParams, non-pathed parameters were used; this is deprecated. In some future version of Caiman, allow_legacy will default to False (and eventually will be removed)\n"
     ]
    },
    {
     "name": "stdout",
     "output_type": "stream",
     "text": [
      "making memmap\n"
     ]
    },
    {
     "name": "stderr",
     "output_type": "stream",
     "text": [
      "The local backend is an alias for the multiprocessing backend, and the alias may be removed in some future version of Caiman\n"
     ]
    }
   ],
   "execution_count": null
  },
  {
   "cell_type": "markdown",
   "id": "ff84d1da",
   "metadata": {},
   "source": [
    "## Checking for an errors\n",
    "\n",
    "After a batch run, check the results to make sure the outputs do not contain a \"traceback\" error."
   ]
  },
  {
   "cell_type": "code",
   "id": "ec890a23",
   "metadata": {
    "ExecuteTime": {
     "end_time": "2024-12-02T04:21:07.451733Z",
     "start_time": "2024-12-02T04:21:07.446744Z"
    }
   },
   "source": [
    "import pprint\n",
    "df = df.caiman.reload_from_disk()\n",
    "pprint.pprint(df.iloc[-1].outputs[\"traceback\"])"
   ],
   "outputs": [
    {
     "name": "stdout",
     "output_type": "stream",
     "text": [
      "{'main': {'K': 50,\n",
      "          'del_duplicates': True,\n",
      "          'dxy': (1.04, 1.0),\n",
      "          'fr': 9.60806,\n",
      "          'gSig': (7, 7),\n",
      "          'gSiz': (29, 29),\n",
      "          'low_rank_background': None,\n",
      "          'merge_thr': 0.7,\n",
      "          'method_deconvolution': 'oasis',\n",
      "          'method_init': 'greedy_roi',\n",
      "          'p': 2,\n",
      "          'rf': 30,\n",
      "          'ssub': 1,\n",
      "          'stride': 12,\n",
      "          'tsub': 1,\n",
      "          'update_background_components': True,\n",
      "          'use_cnn': False}}\n"
     ]
    }
   ],
   "execution_count": 30
  },
  {
   "metadata": {
    "ExecuteTime": {
     "end_time": "2024-12-02T04:51:45.297499Z",
     "start_time": "2024-12-02T04:51:45.288298Z"
    }
   },
   "cell_type": "code",
   "source": [
    "df = df.caiman.reload_from_disk()\n",
    "df"
   ],
   "id": "534c34fae52384dc",
   "outputs": [
    {
     "data": {
      "text/plain": [
       "   algo item_name  \\\n",
       "0  cnmf      cnmf   \n",
       "1  cnmf      cnmf   \n",
       "\n",
       "                                                                                                          input_movie_path  \\\n",
       "0  a8f0f15d-d2a7-4ab8-92d1-9dc05ebcbc89/a8f0f15d-d2a7-4ab8-92d1-9dc05ebcbc89-plane_1_els__d1_600_d2_576_d3_1_order_F_fr...   \n",
       "1  a8f0f15d-d2a7-4ab8-92d1-9dc05ebcbc89/a8f0f15d-d2a7-4ab8-92d1-9dc05ebcbc89-plane_1_els__d1_600_d2_576_d3_1_order_F_fr...   \n",
       "\n",
       "                                                                                                                    params  \\\n",
       "0  {'main': {'fr': 9.60806, 'dxy': [1.04, 1.0], 'method_init': 'greedy_roi', 'K': None, 'gSig': (7, 7), 'gSiz': (29, 29...   \n",
       "1  {'main': {'fr': 9.60806, 'dxy': (1.04, 1.0), 'method_init': 'greedy_roi', 'K': 50, 'gSig': (7, 7), 'gSiz': (29, 29),...   \n",
       "\n",
       "                                                                                                                   outputs  \\\n",
       "0  {'success': False, 'traceback': 'multiprocessing.pool.RemoteTraceback: \n",
       "\"\"\"\n",
       "Traceback (most recent call last):\n",
       "  Fil...   \n",
       "1  {'success': False, 'traceback': 'Traceback (most recent call last):\n",
       "  File \"/home/flynn/miniforge3/envs/lbm/lib/pyth...   \n",
       "\n",
       "            added_time             ran_time algo_duration comments  \\\n",
       "0  2024-12-01T20:00:10  2024-12-01T20:09:18      7.49 sec     None   \n",
       "1  2024-12-01T20:55:39  2024-12-01T23:04:16    530.22 sec     None   \n",
       "\n",
       "                                   uuid  \n",
       "0  eb941231-c6c1-4d5c-929f-bdf261b0d1b2  \n",
       "1  9bc0340b-0d0e-4119-b86b-f9aa8b5ccc01  "
      ],
      "text/html": [
       "<div>\n",
       "<style scoped>\n",
       "    .dataframe tbody tr th:only-of-type {\n",
       "        vertical-align: middle;\n",
       "    }\n",
       "\n",
       "    .dataframe tbody tr th {\n",
       "        vertical-align: top;\n",
       "    }\n",
       "\n",
       "    .dataframe thead th {\n",
       "        text-align: right;\n",
       "    }\n",
       "</style>\n",
       "<table border=\"1\" class=\"dataframe\">\n",
       "  <thead>\n",
       "    <tr style=\"text-align: right;\">\n",
       "      <th></th>\n",
       "      <th>algo</th>\n",
       "      <th>item_name</th>\n",
       "      <th>input_movie_path</th>\n",
       "      <th>params</th>\n",
       "      <th>outputs</th>\n",
       "      <th>added_time</th>\n",
       "      <th>ran_time</th>\n",
       "      <th>algo_duration</th>\n",
       "      <th>comments</th>\n",
       "      <th>uuid</th>\n",
       "    </tr>\n",
       "  </thead>\n",
       "  <tbody>\n",
       "    <tr>\n",
       "      <th>0</th>\n",
       "      <td>cnmf</td>\n",
       "      <td>cnmf</td>\n",
       "      <td>a8f0f15d-d2a7-4ab8-92d1-9dc05ebcbc89/a8f0f15d-d2a7-4ab8-92d1-9dc05ebcbc89-plane_1_els__d1_600_d2_576_d3_1_order_F_fr...</td>\n",
       "      <td>{'main': {'fr': 9.60806, 'dxy': [1.04, 1.0], 'method_init': 'greedy_roi', 'K': None, 'gSig': (7, 7), 'gSiz': (29, 29...</td>\n",
       "      <td>{'success': False, 'traceback': 'multiprocessing.pool.RemoteTraceback: \n",
       "\"\"\"\n",
       "Traceback (most recent call last):\n",
       "  Fil...</td>\n",
       "      <td>2024-12-01T20:00:10</td>\n",
       "      <td>2024-12-01T20:09:18</td>\n",
       "      <td>7.49 sec</td>\n",
       "      <td>None</td>\n",
       "      <td>eb941231-c6c1-4d5c-929f-bdf261b0d1b2</td>\n",
       "    </tr>\n",
       "    <tr>\n",
       "      <th>1</th>\n",
       "      <td>cnmf</td>\n",
       "      <td>cnmf</td>\n",
       "      <td>a8f0f15d-d2a7-4ab8-92d1-9dc05ebcbc89/a8f0f15d-d2a7-4ab8-92d1-9dc05ebcbc89-plane_1_els__d1_600_d2_576_d3_1_order_F_fr...</td>\n",
       "      <td>{'main': {'fr': 9.60806, 'dxy': (1.04, 1.0), 'method_init': 'greedy_roi', 'K': 50, 'gSig': (7, 7), 'gSiz': (29, 29),...</td>\n",
       "      <td>{'success': False, 'traceback': 'Traceback (most recent call last):\n",
       "  File \"/home/flynn/miniforge3/envs/lbm/lib/pyth...</td>\n",
       "      <td>2024-12-01T20:55:39</td>\n",
       "      <td>2024-12-01T23:04:16</td>\n",
       "      <td>530.22 sec</td>\n",
       "      <td>None</td>\n",
       "      <td>9bc0340b-0d0e-4119-b86b-f9aa8b5ccc01</td>\n",
       "    </tr>\n",
       "  </tbody>\n",
       "</table>\n",
       "</div>"
      ]
     },
     "execution_count": 34,
     "metadata": {},
     "output_type": "execute_result"
    }
   ],
   "execution_count": 34
  },
  {
   "metadata": {
    "ExecuteTime": {
     "end_time": "2024-12-02T04:51:43.418104Z",
     "start_time": "2024-12-02T04:51:43.208501Z"
    }
   },
   "cell_type": "code",
   "source": "df.caiman.remove_item(2)",
   "id": "71e034f327ad5f44",
   "outputs": [],
   "execution_count": 33
  },
  {
   "cell_type": "markdown",
   "id": "c1128142-282d-43f7-83c2-0408066b5f66",
   "metadata": {},
   "source": [
    "# CNMF outputs\n",
    "\n",
    "Similar to mcorr, you can use the `mesmerize-core` API to fetch the outputs.\n",
    "\n",
    "[API reference for mesmerize-CNMF](https://mesmerize-core.readthedocs.io/en/latest/api/cnmf.html)\n",
    "[API reference for caiman-CNMF](https://caiman.readthedocs.io/en/latest/Getting_Started.html#parameters)\n",
    "\n"
   ]
  },
  {
   "cell_type": "markdown",
   "id": "7443e540",
   "metadata": {},
   "source": [
    "## CNMF Object"
   ]
  },
  {
   "cell_type": "code",
   "execution_count": 4,
   "id": "973144db",
   "metadata": {},
   "outputs": [],
   "source": [
    "mcorr_movie = df.iloc[0].mcorr.get_output()\n",
    "cnmf_model = df.iloc[-1].cnmf.get_output()"
   ]
  },
  {
   "cell_type": "code",
   "execution_count": 7,
   "id": "68f590f3",
   "metadata": {},
   "outputs": [
    {
     "data": {
      "text/plain": [
       "(8533, 1730)"
      ]
     },
     "execution_count": 7,
     "metadata": {},
     "output_type": "execute_result"
    }
   ],
   "source": [
    "num_traces = cnmf_model.estimates.C\n",
    "num_traces.shape"
   ]
  },
  {
   "cell_type": "code",
   "execution_count": 17,
   "id": "b6f38c74",
   "metadata": {},
   "outputs": [],
   "source": [
    "gSig = 3\n",
    "corr, pnr = correlation_pnr(mcorr_movie[::2], gSig=gSig, swap_dim=False)"
   ]
  },
  {
   "cell_type": "markdown",
   "id": "b151d2f8",
   "metadata": {},
   "source": [
    "# Interactive Parameter Exploration"
   ]
  },
  {
   "cell_type": "code",
   "execution_count": null,
   "id": "7ca4af12",
   "metadata": {},
   "outputs": [],
   "source": [
    "from ipywidgets import Tab, Text, Button, VBox, interact_manual, interactive\n",
    "@interact_manual(parent_path=str(parent_path), batch_path=str(batch_path))\n",
    "def start_widget(parent_path, batch_path):\n",
    "    mc.set_parent_raw_data_path(parent_path)\n",
    "\n",
    "    df = mc.load_batch(batch_path)\n",
    "\n",
    "    tab = Tab()\n",
    "\n",
    "    # mcorr_container = df.mcorr.viz(start_index=0)\n",
    "    cnmf_container = df.cnmf.viz(start_index=19)\n",
    "\n",
    "    tab.children = [cnmf_container.show()]\n",
    "    tab.titles = [\"cnmf\"]\n",
    "    display(tab)"
   ]
  },
  {
   "cell_type": "markdown",
   "id": "b1d928b6",
   "metadata": {},
   "source": [
    "## Temporal components, residuals"
   ]
  },
  {
   "cell_type": "code",
   "execution_count": null,
   "id": "c2ccdd6b",
   "metadata": {},
   "outputs": [],
   "source": [
    "index = -1  # the last item added\n",
    "\n",
    "rcb = df.iloc[index].cnmf.get_rcb()\n",
    "residuals = df.iloc[index].cnmf.get_residuals()\n",
    "input_movie = df.iloc[index].caiman.get_input_movie()\n",
    "\n",
    "# temporal components\n",
    "temporal = df.iloc[index].cnmf.get_temporal()\n",
    "\n",
    "temporal_good = df.iloc[index].cnmf.get_temporal(\"good\")\n",
    "temporal_bad = df.iloc[index].cnmf.get_temporal(\"bad\")\n",
    "\n",
    "temporal_with_residuals = df.iloc[index].cnmf.get_temporal(add_residuals=True)\n",
    "\n",
    "correlation_image = df.iloc[-1].caiman.get_corr_image()\n",
    "\n",
    "components_good = df.iloc[-1].cnmf.get_good_components()\n",
    "components_bad = df.iloc[-1].cnmf.get_bad_components()\n",
    "\n",
    "mean_img = df.iloc[-1].caiman.get_projection('mean')\n",
    "std_img = df.iloc[-1].caiman.get_projection('std')\n",
    "\n",
    "masks = df.iloc[-1].cnmf.get_masks()\n",
    "\n",
    "print(f'Temporal Components (good/bad): {temporal_good.shape} / {temporal_bad.shape}')\n",
    "print(f'Spatial Components (good/bad): {components_good.shape} / {components_bad.shape}')"
   ]
  },
  {
   "cell_type": "code",
   "execution_count": 9,
   "id": "0a6e682a",
   "metadata": {},
   "outputs": [],
   "source": [
    "good_masks = df.iloc[-1].cnmf.get_masks('good')\n",
    "bad_masks = df.iloc[-1].cnmf.get_masks('bad')"
   ]
  },
  {
   "cell_type": "code",
   "execution_count": 95,
   "id": "57b5083f",
   "metadata": {},
   "outputs": [
    {
     "data": {
      "text/plain": [
       "<matplotlib.image.AxesImage at 0x7f7acd8fc810>"
      ]
     },
     "execution_count": 95,
     "metadata": {},
     "output_type": "execute_result"
    },
    {
     "data": {
      "image/png": "[encoded data removed]",
      "text/plain": [
       "<Figure size 640x480 with 2 Axes>"
      ]
     },
     "metadata": {},
     "output_type": "display_data"
    }
   ],
   "source": [
    "fig, ax = plt.subplots(1,2, sharey=True)\n",
    "ax[0].imshow(mean_img)\n",
    "ax[1].imshow(correlation_image)"
   ]
  },
  {
   "cell_type": "code",
   "execution_count": null,
   "id": "e0ec2eed",
   "metadata": {},
   "outputs": [],
   "source": [
    "cnmf_model.params"
   ]
  },
  {
   "cell_type": "code",
   "execution_count": 11,
   "id": "185a2abf",
   "metadata": {},
   "outputs": [
    {
     "data": {
      "image/png": "[encoded data removed]",
      "text/plain": [
       "<Figure size 640x480 with 1 Axes>"
      ]
     },
     "metadata": {},
     "output_type": "display_data"
    }
   ],
   "source": [
    "# dim order: txy[,z]\n",
    "plt.plot(cnmf_model.estimates.C[3,:])\n",
    "plt.show()"
   ]
  },
  {
   "cell_type": "markdown",
   "id": "75e4d6de-f397-4142-a152-26cb63bf8b55",
   "metadata": {},
   "source": [
    "Many of the cnmf functions take a rich set of arguments"
   ]
  },
  {
   "cell_type": "markdown",
   "id": "83b1c2b2",
   "metadata": {},
   "source": [
    "### Get specific components"
   ]
  },
  {
   "cell_type": "code",
   "execution_count": 12,
   "id": "f23f01a8-45c4-4dc6-8e58-f50ef534f035",
   "metadata": {},
   "outputs": [
    {
     "data": {
      "text/plain": [
       "array([[ 114.17567548, 1109.50506026, 1065.47162328, ...,  402.61607549,\n",
       "         348.24701629,  304.12614734],\n",
       "       [  45.03461595,   45.03461595,   45.03461595, ...,  132.04335154,\n",
       "         126.66286509,  121.61509965],\n",
       "       [   0.        ,  358.81892873,  391.91603586, ...,  270.95206299,\n",
       "         256.85871484,  243.49842054]])"
      ]
     },
     "execution_count": 12,
     "metadata": {},
     "output_type": "execute_result"
    }
   ],
   "source": [
    "df.iloc[-1].cnmf.get_temporal(np.array([1, 5, 9]))"
   ]
  },
  {
   "cell_type": "markdown",
   "id": "a3b7efcd",
   "metadata": {},
   "source": [
    "### add risiduals / contours"
   ]
  },
  {
   "cell_type": "code",
   "execution_count": null,
   "id": "48b6cad9-f7f4-498b-81b7-856dd1b97613",
   "metadata": {},
   "outputs": [],
   "source": [
    "# get temporal with the residuals, i.e. C + YrA\n",
    "temporal_with_residuals = df.iloc[index].cnmf.get_temporal(add_residuals=True)\n",
    "\n",
    "viewer = napari.Viewer()\n",
    "viewer.add_image(temporal_with_residuals, name='traces+residuals')"
   ]
  },
  {
   "cell_type": "code",
   "execution_count": 73,
   "id": "0a6963c9-81f8-4922-8bc3-a2ce468052a4",
   "metadata": {},
   "outputs": [
    {
     "data": {
      "text/plain": [
       "2"
      ]
     },
     "execution_count": 73,
     "metadata": {},
     "output_type": "execute_result"
    }
   ],
   "source": [
    "# get contours\n",
    "contours = df.iloc[-1].cnmf.get_contours()\n",
    "len(contours)"
   ]
  },
  {
   "cell_type": "code",
   "execution_count": null,
   "id": "82f2a087",
   "metadata": {},
   "outputs": [],
   "source": [
    "viz_cnmf = df.cnmf.viz()\n",
    "viz_cnmf.show()"
   ]
  },
  {
   "cell_type": "markdown",
   "id": "cff3ce6e-78ce-4a54-85e5-45caaeb9476f",
   "metadata": {},
   "source": [
    "Returns: `(list of np.ndarray of contour coordinates, list of center of mass)`"
   ]
  },
  {
   "cell_type": "code",
   "execution_count": 33,
   "id": "3543a94a-5c07-4ff5-b117-cdbf12fc3b6b",
   "metadata": {},
   "outputs": [],
   "source": [
    "# get_contours() also takes arguments\n",
    "contours_good = df.iloc[index].cnmf.get_contours(\"good\")\n",
    "len(contours_good[0]) # number of contours"
   ]
  },
  {
   "cell_type": "markdown",
   "id": "1e0af648-f80c-4b71-9164-4aca607e09da",
   "metadata": {},
   "source": [
    "swap_dim"
   ]
  },
  {
   "cell_type": "code",
   "execution_count": 12,
   "id": "0bba44b2-644b-4691-a0af-bd820fdac683",
   "metadata": {
    "tags": []
   },
   "outputs": [],
   "source": [
    "# get the first contour using swap_dim=True (default)\n",
    "swap_dim_true = df.iloc[index].cnmf.get_contours()[0][0]\n",
    "# get the first contour  with swap_dim=False\n",
    "swap_dim_false = df.iloc[index].cnmf.get_contours(swap_dim=False)[0][0]\n",
    "\n",
    "plt.plot(\n",
    "    swap_dim_true[:, 0],\n",
    "    swap_dim_true[:, 1],\n",
    "    label=\"swap_dim=True\"\n",
    ")\n",
    "plt.plot(\n",
    "    swap_dim_false[:, 0],\n",
    "    swap_dim_false[:, 1],\n",
    "    label=\"swap_dim=False\"\n",
    ")\n",
    "plt.legend()\n",
    "\n",
    "# swap_dim swaps the x and y dims\n",
    "plt.plot(\n",
    "    swap_dim_true[:, 0],\n",
    "    swap_dim_true[:, 1],\n",
    "    linewidth=30\n",
    ")\n",
    "plt.plot(\n",
    "    swap_dim_false[:, 1],\n",
    "    swap_dim_false[:, 0],\n",
    "    linewidth=10\n",
    ")"
   ]
  },
  {
   "cell_type": "markdown",
   "id": "5c6c8e98-13fd-45c6-9afe-7fc3193ed3de",
   "metadata": {},
   "source": [
    "# Reconstructed movie - `A * C`\n",
    "# Reconstructed background - `b * f`\n",
    "# Residuals - `Y - AC - bf` \n",
    "\n",
    "Mesmerize-core provides these outputs as lazy arrays. This allows you to work with arrays that would otherwise be hundreds of gigabytes or terabytes in size."
   ]
  },
  {
   "cell_type": "code",
   "execution_count": null,
   "id": "c58ce87d-4e75-4026-840c-81b826245ba3",
   "metadata": {},
   "outputs": [],
   "source": [
    "rcm = df.iloc[index].cnmf.get_rcm()\n",
    "rcm"
   ]
  },
  {
   "cell_type": "markdown",
   "id": "c6fe2ca3-0255-43fd-9ae2-c635b2d0355a",
   "metadata": {},
   "source": [
    "# Using LazyArrays"
   ]
  },
  {
   "cell_type": "code",
   "execution_count": 16,
   "id": "cf4f70d3-badc-4339-92f8-1ac0351e64b6",
   "metadata": {},
   "outputs": [],
   "source": [
    "rcm_accepted = df.iloc[index].cnmf.get_rcm(\"good\")\n",
    "rcm_rejected = df.iloc[index].cnmf.get_rcm(\"bad\")\n",
    "\n",
    "rcb = df.iloc[index].cnmf.get_rcb()\n",
    "residuals = df.iloc[index].cnmf.get_residuals()\n",
    "input_movie = df.iloc[index].caiman.get_input_movie()"
   ]
  },
  {
   "cell_type": "code",
   "execution_count": null,
   "id": "86772385",
   "metadata": {},
   "outputs": [],
   "source": [
    "rcb.shape"
   ]
  },
  {
   "cell_type": "code",
   "execution_count": null,
   "id": "ec3ef0e9",
   "metadata": {},
   "outputs": [],
   "source": [
    "napari.view_image(rcb)"
   ]
  },
  {
   "cell_type": "markdown",
   "id": "ae1b2d80-1d6f-403b-b98a-3471c96f57d6",
   "metadata": {},
   "source": [
    "# Parameter Gridsearch\n",
    "\n",
    "As shown for motion correction, the purpose of `mesmerize-core` is to perform parameter searches"
   ]
  },
  {
   "cell_type": "code",
   "execution_count": 8,
   "id": "fc7684d2-3d2c-43ac-9064-ba3997f7a1c8",
   "metadata": {},
   "outputs": [],
   "source": [
    "# itertools.product makes it easy to loop through parameter variants\n",
    "# basically, it's easier to read that deeply nested for loops\n",
    "from copy import deepcopy\n",
    "from itertools import product\n",
    "\n",
    "# variants of several parameters\n",
    "gSig_variants = [4, 6]\n",
    "K_variants = [4, 8]\n",
    "merge_thr_variants = [0.8, 0.95]\n",
    "\n",
    "# always use deepcopy like before\n",
    "new_params_cnmf = deepcopy(params_cnmf)\n",
    "\n",
    "# create a parameter grid\n",
    "parameter_grid = product(gSig_variants, K_variants, merge_thr_variants)\n",
    "\n",
    "# a single for loop to go through all the various parameter combinations\n",
    "for gSig, K, merge_thr in parameter_grid:\n",
    "    # deep copy params dict just like before\n",
    "    new_params_cnmf = deepcopy(new_params_cnmf)\n",
    "\n",
    "    new_params_cnmf[\"main\"][\"gSig\"] = [gSig, gSig]\n",
    "    new_params_cnmf[\"main\"][\"K\"] = K\n",
    "    new_params_cnmf[\"main\"][\"merge_thr\"] = merge_thr\n",
    "\n",
    "    # add param combination variant to batch\n",
    "    df.caiman.add_item(\n",
    "        algo=\"cnmf\",\n",
    "        item_name=df.iloc[1][\"item_name\"],  # good mcorr item\n",
    "        input_movie_path=df.iloc[1],\n",
    "        params=new_params_cnmf\n",
    "    )"
   ]
  },
  {
   "cell_type": "markdown",
   "id": "5cb21a8e-709d-4888-bbd9-42653f700240",
   "metadata": {},
   "source": [
    "## Pull contours / good components"
   ]
  },
  {
   "cell_type": "code",
   "execution_count": null,
   "id": "0fb3f94d-34d2-4eef-ad2d-b4f6db89fa72",
   "metadata": {},
   "outputs": [],
   "source": [
    "row_ix = 1\n",
    "# get the contours and center of masses using mesmerize_core\n",
    "contours, coms = df.iloc[row_ix].cnmf.get_contours(component_indices=\"good\", swap_dim=False)\n",
    "\n",
    "# get the signal-to-noise ratio of each \"good\" component to color components\n",
    "snr_comps = df.iloc[row_ix].cnmf.get_output().estimates.SNR_comp\n",
    "\n",
    "# get the good component_ixs\n",
    "good_ixs = df.iloc[row_ix].cnmf.get_good_components()\n",
    "\n",
    "# only get snr_comps of good_ixs\n",
    "snr_comps = snr_comps[good_ixs]\n",
    "\n",
    "np.log10(snr_comps)[:10]"
   ]
  },
  {
   "cell_type": "markdown",
   "id": "9bf8dce3-b0f7-43b0-b719-774673b6cb25",
   "metadata": {},
   "source": [
    "View the diffs"
   ]
  },
  {
   "cell_type": "code",
   "execution_count": 9,
   "id": "80b98249-b3b5-4481-a4e2-dbdcbf8d1ed9",
   "metadata": {},
   "outputs": [
    {
     "data": {
      "text/html": [
       "<div>\n",
       "<style scoped>\n",
       "    .dataframe tbody tr th:only-of-type {\n",
       "        vertical-align: middle;\n",
       "    }\n",
       "\n",
       "    .dataframe tbody tr th {\n",
       "        vertical-align: top;\n",
       "    }\n",
       "\n",
       "    .dataframe thead th {\n",
       "        text-align: right;\n",
       "    }\n",
       "</style>\n",
       "<table border=\"1\" class=\"dataframe\">\n",
       "  <thead>\n",
       "    <tr style=\"text-align: right;\">\n",
       "      <th></th>\n",
       "      <th>merge_thr</th>\n",
       "      <th>K</th>\n",
       "      <th>gSig</th>\n",
       "    </tr>\n",
       "  </thead>\n",
       "  <tbody>\n",
       "    <tr>\n",
       "      <th>3</th>\n",
       "      <td>0.8</td>\n",
       "      <td>4</td>\n",
       "      <td>(4, 4)</td>\n",
       "    </tr>\n",
       "    <tr>\n",
       "      <th>4</th>\n",
       "      <td>0.95</td>\n",
       "      <td>4</td>\n",
       "      <td>(4, 4)</td>\n",
       "    </tr>\n",
       "    <tr>\n",
       "      <th>5</th>\n",
       "      <td>0.8</td>\n",
       "      <td>8</td>\n",
       "      <td>(4, 4)</td>\n",
       "    </tr>\n",
       "    <tr>\n",
       "      <th>6</th>\n",
       "      <td>0.95</td>\n",
       "      <td>8</td>\n",
       "      <td>(4, 4)</td>\n",
       "    </tr>\n",
       "    <tr>\n",
       "      <th>7</th>\n",
       "      <td>0.8</td>\n",
       "      <td>4</td>\n",
       "      <td>(6, 6)</td>\n",
       "    </tr>\n",
       "    <tr>\n",
       "      <th>8</th>\n",
       "      <td>0.95</td>\n",
       "      <td>4</td>\n",
       "      <td>(6, 6)</td>\n",
       "    </tr>\n",
       "    <tr>\n",
       "      <th>9</th>\n",
       "      <td>0.8</td>\n",
       "      <td>8</td>\n",
       "      <td>(6, 6)</td>\n",
       "    </tr>\n",
       "    <tr>\n",
       "      <th>10</th>\n",
       "      <td>0.95</td>\n",
       "      <td>8</td>\n",
       "      <td>(6, 6)</td>\n",
       "    </tr>\n",
       "  </tbody>\n",
       "</table>\n",
       "</div>"
      ],
      "text/plain": [
       "   merge_thr  K    gSig\n",
       "3        0.8  4  (4, 4)\n",
       "4       0.95  4  (4, 4)\n",
       "5        0.8  8  (4, 4)\n",
       "6       0.95  8  (4, 4)\n",
       "7        0.8  4  (6, 6)\n",
       "8       0.95  4  (6, 6)\n",
       "9        0.8  8  (6, 6)\n",
       "10      0.95  8  (6, 6)"
      ]
     },
     "execution_count": 9,
     "metadata": {},
     "output_type": "execute_result"
    }
   ],
   "source": [
    "df.caiman.get_params_diffs(algo=\"cnmf\", item_name=df.iloc[-1][\"item_name\"])"
   ]
  },
  {
   "cell_type": "markdown",
   "id": "628a194f-39c3-45a7-a029-53925763cc1e",
   "metadata": {},
   "source": [
    "# Run the `cnmf` batch items"
   ]
  },
  {
   "cell_type": "code",
   "execution_count": 10,
   "id": "ee0b9ac5-f66d-4370-842c-8655f5469286",
   "metadata": {},
   "outputs": [
    {
     "name": "stdout",
     "output_type": "stream",
     "text": [
      "Running 5cb543ec-5358-4b35-83cf-bfd19fa06a68 with local backend\n",
      "************************************************************************\n",
      "\n",
      "Starting CNMF item:\n",
      "algo                                                                                                                                   cnmf\n",
      "item_name                                                                                                                 extracted_plane_1\n",
      "input_movie_path    b32f41bf-a9a5-4965-be7c-e6779e854328\\b32f41bf-a9a5-4965-be7c-e6779e854328-extracted_plane_1_els__d1_583_d2_536_d3_1_...\n",
      "params              {'main': {'fr': 9.62, 'dxy': (1.0, 1.0), 'decay_time': 0.4, 'strides': (48, 48), 'overlaps': (24, 24), 'max_shifts':...\n",
      "outputs                                                                                                                                None\n",
      "added_time                                                                                                              2024-09-27T14:48:59\n",
      "ran_time                                                                                                                               None\n",
      "algo_duration                                                                                                                          None\n",
      "comments                                                                                                                               None\n",
      "uuid                                                                                                   5cb543ec-5358-4b35-83cf-bfd19fa06a68\n",
      "Name: 3, dtype: object\n",
      "With params:{'main': {'fr': 9.62, 'dxy': (1.0, 1.0), 'decay_time': 0.4, 'strides': (48, 48), 'overlaps': (24, 24), 'max_shifts': (6, 6), 'max_deviation_rigid': 3, 'pw_rigid': True, 'p': 2, 'nb': 1, 'rf': 40, 'gSig': (4, 4), 'gSiz': None, 'stride': 10, 'method_init': 'greedy_roi', 'rolling_sum': True, 'use_cnn': False, 'ssub': 1, 'tsub': 1, 'merge_thr': 0.8, 'bas_nonneg': True, 'min_SNR': 1.5, 'rval_thr': 0.8, 'K': 4}, 'refit': True}\n"
     ]
    },
    {
     "name": "stderr",
     "output_type": "stream",
     "text": [
      "    16876777 [cluster.py:setup_cluster():225] [16612] The local backend is an alias for the multiprocessing backend, and the alias may be removed in some future version of Caiman\n",
      "    16876888 [params.py:change_params():1151] [16612] In setting CNMFParams, non-pathed parameters were used; this is deprecated. In some future version of Caiman, allow_legacy will default to False (and eventually will be removed)\n",
      "    16880718 [paths.py:get_tempdir():46] [16612] Default temporary dir C:\\Users\\RBO\\caiman_data\\temp does not exist, creating\n"
     ]
    },
    {
     "name": "stdout",
     "output_type": "stream",
     "text": [
      "making memmap\n"
     ]
    },
    {
     "name": "stderr",
     "output_type": "stream",
     "text": [
      "    16890809 [cluster.py:setup_cluster():225] [16612] The local backend is an alias for the multiprocessing backend, and the alias may be removed in some future version of Caiman\n"
     ]
    },
    {
     "name": "stdout",
     "output_type": "stream",
     "text": [
      "performing CNMF\n",
      "fitting images\n",
      "refitting\n",
      "performing eval\n",
      "Running df52a609-d986-4bc0-a0a2-526cbfda057d with local backend\n",
      "************************************************************************\n",
      "\n",
      "Starting CNMF item:\n",
      "algo                                                                                                                                   cnmf\n",
      "item_name                                                                                                                 extracted_plane_1\n",
      "input_movie_path    b32f41bf-a9a5-4965-be7c-e6779e854328\\b32f41bf-a9a5-4965-be7c-e6779e854328-extracted_plane_1_els__d1_583_d2_536_d3_1_...\n",
      "params              {'main': {'fr': 9.62, 'dxy': (1.0, 1.0), 'decay_time': 0.4, 'strides': (48, 48), 'overlaps': (24, 24), 'max_shifts':...\n",
      "outputs                                                                                                                                None\n",
      "added_time                                                                                                              2024-09-27T14:48:59\n",
      "ran_time                                                                                                                               None\n",
      "algo_duration                                                                                                                          None\n",
      "comments                                                                                                                               None\n",
      "uuid                                                                                                   df52a609-d986-4bc0-a0a2-526cbfda057d\n",
      "Name: 4, dtype: object\n",
      "With params:{'main': {'fr': 9.62, 'dxy': (1.0, 1.0), 'decay_time': 0.4, 'strides': (48, 48), 'overlaps': (24, 24), 'max_shifts': (6, 6), 'max_deviation_rigid': 3, 'pw_rigid': True, 'p': 2, 'nb': 1, 'rf': 40, 'gSig': (4, 4), 'gSiz': None, 'stride': 10, 'method_init': 'greedy_roi', 'rolling_sum': True, 'use_cnn': False, 'ssub': 1, 'tsub': 1, 'merge_thr': 0.95, 'bas_nonneg': True, 'min_SNR': 1.5, 'rval_thr': 0.8, 'K': 4}, 'refit': True}\n"
     ]
    },
    {
     "name": "stderr",
     "output_type": "stream",
     "text": [
      "    16956929 [cluster.py:setup_cluster():225] [16612] The local backend is an alias for the multiprocessing backend, and the alias may be removed in some future version of Caiman\n",
      "    16957033 [params.py:change_params():1151] [16612] In setting CNMFParams, non-pathed parameters were used; this is deprecated. In some future version of Caiman, allow_legacy will default to False (and eventually will be removed)\n"
     ]
    },
    {
     "name": "stdout",
     "output_type": "stream",
     "text": [
      "making memmap\n"
     ]
    },
    {
     "name": "stderr",
     "output_type": "stream",
     "text": [
      "    16967754 [cluster.py:setup_cluster():225] [16612] The local backend is an alias for the multiprocessing backend, and the alias may be removed in some future version of Caiman\n"
     ]
    },
    {
     "name": "stdout",
     "output_type": "stream",
     "text": [
      "performing CNMF\n",
      "fitting images\n",
      "refitting\n",
      "performing eval\n",
      "Running f38614e3-d632-434a-9721-290aceeb4907 with local backend\n",
      "************************************************************************\n",
      "\n",
      "Starting CNMF item:\n",
      "algo                                                                                                                                   cnmf\n",
      "item_name                                                                                                                 extracted_plane_1\n",
      "input_movie_path    b32f41bf-a9a5-4965-be7c-e6779e854328\\b32f41bf-a9a5-4965-be7c-e6779e854328-extracted_plane_1_els__d1_583_d2_536_d3_1_...\n",
      "params              {'main': {'fr': 9.62, 'dxy': (1.0, 1.0), 'decay_time': 0.4, 'strides': (48, 48), 'overlaps': (24, 24), 'max_shifts':...\n",
      "outputs                                                                                                                                None\n",
      "added_time                                                                                                              2024-09-27T14:48:59\n",
      "ran_time                                                                                                                               None\n",
      "algo_duration                                                                                                                          None\n",
      "comments                                                                                                                               None\n",
      "uuid                                                                                                   f38614e3-d632-434a-9721-290aceeb4907\n",
      "Name: 5, dtype: object\n",
      "With params:{'main': {'fr': 9.62, 'dxy': (1.0, 1.0), 'decay_time': 0.4, 'strides': (48, 48), 'overlaps': (24, 24), 'max_shifts': (6, 6), 'max_deviation_rigid': 3, 'pw_rigid': True, 'p': 2, 'nb': 1, 'rf': 40, 'gSig': (4, 4), 'gSiz': None, 'stride': 10, 'method_init': 'greedy_roi', 'rolling_sum': True, 'use_cnn': False, 'ssub': 1, 'tsub': 1, 'merge_thr': 0.8, 'bas_nonneg': True, 'min_SNR': 1.5, 'rval_thr': 0.8, 'K': 8}, 'refit': True}\n"
     ]
    },
    {
     "name": "stderr",
     "output_type": "stream",
     "text": [
      "    17032862 [cluster.py:setup_cluster():225] [16612] The local backend is an alias for the multiprocessing backend, and the alias may be removed in some future version of Caiman\n",
      "    17032966 [params.py:change_params():1151] [16612] In setting CNMFParams, non-pathed parameters were used; this is deprecated. In some future version of Caiman, allow_legacy will default to False (and eventually will be removed)\n"
     ]
    },
    {
     "name": "stdout",
     "output_type": "stream",
     "text": [
      "making memmap\n"
     ]
    },
    {
     "name": "stderr",
     "output_type": "stream",
     "text": [
      "    17043554 [cluster.py:setup_cluster():225] [16612] The local backend is an alias for the multiprocessing backend, and the alias may be removed in some future version of Caiman\n"
     ]
    },
    {
     "name": "stdout",
     "output_type": "stream",
     "text": [
      "performing CNMF\n",
      "fitting images\n"
     ]
    }
   ],
   "source": [
    "for i, row in df.iterrows():\n",
    "    if row[\"outputs\"] is not None: # item has already been run\n",
    "        continue # skip\n",
    "\n",
    "    process = row.caiman.run()\n",
    "\n",
    "    # on Windows you MUST reload the batch dataframe after every iteration because it uses the `local` backend.\n",
    "    # this is unnecessary on Linux & Mac\n",
    "    # \"DummyProcess\" is used for local backend so this is automatic\n",
    "    if process.__class__.__name__ == \"DummyProcess\":\n",
    "        df = df.caiman.reload_from_disk()"
   ]
  },
  {
   "cell_type": "markdown",
   "id": "348d0757-675d-4a2d-a024-559507830e31",
   "metadata": {},
   "source": [
    "# Load outputs"
   ]
  },
  {
   "cell_type": "code",
   "execution_count": 16,
   "id": "80f3eca7-916a-4e4e-a109-5906b4c91c7d",
   "metadata": {},
   "outputs": [
    {
     "data": {
      "text/html": [
       "<div>\n",
       "<style scoped>\n",
       "    .dataframe tbody tr th:only-of-type {\n",
       "        vertical-align: middle;\n",
       "    }\n",
       "\n",
       "    .dataframe tbody tr th {\n",
       "        vertical-align: top;\n",
       "    }\n",
       "\n",
       "    .dataframe thead th {\n",
       "        text-align: right;\n",
       "    }\n",
       "</style>\n",
       "<table border=\"1\" class=\"dataframe\">\n",
       "  <thead>\n",
       "    <tr style=\"text-align: right;\">\n",
       "      <th></th>\n",
       "      <th>algo</th>\n",
       "      <th>item_name</th>\n",
       "      <th>input_movie_path</th>\n",
       "      <th>params</th>\n",
       "      <th>outputs</th>\n",
       "      <th>added_time</th>\n",
       "      <th>ran_time</th>\n",
       "      <th>algo_duration</th>\n",
       "      <th>comments</th>\n",
       "      <th>uuid</th>\n",
       "    </tr>\n",
       "  </thead>\n",
       "  <tbody>\n",
       "    <tr>\n",
       "      <th>0</th>\n",
       "      <td>mcorr</td>\n",
       "      <td>extracted_plane_1</td>\n",
       "      <td>tiff\\extracted_plane_1.tif</td>\n",
       "      <td>{'main': {'var_name_hdf5': 'mov', 'max_shifts': (10, 10), 'strides': (48, 48), 'overlaps': (24, 24), 'max_deviation_...</td>\n",
       "      <td>{'mean-projection-path': b32f41bf-a9a5-4965-be7c-e6779e854328\\b32f41bf-a9a5-4965-be7c-e6779e854328_mean_projection.n...</td>\n",
       "      <td>2024-09-26T11:56:54</td>\n",
       "      <td>2024-09-26T12:02:55</td>\n",
       "      <td>77.3 sec</td>\n",
       "      <td>None</td>\n",
       "      <td>b32f41bf-a9a5-4965-be7c-e6779e854328</td>\n",
       "    </tr>\n",
       "    <tr>\n",
       "      <th>1</th>\n",
       "      <td>cnmf</td>\n",
       "      <td>cnmf_1</td>\n",
       "      <td>b32f41bf-a9a5-4965-be7c-e6779e854328\\b32f41bf-a9a5-4965-be7c-e6779e854328-extracted_plane_1_els__d1_583_d2_536_d3_1_...</td>\n",
       "      <td>{'main': {'fr': 9.62, 'dxy': (1.0, 1.0), 'decay_time': 0.4, 'strides': (48, 48), 'overlaps': (24, 24), 'max_shifts':...</td>\n",
       "      <td>{'mean-projection-path': a057e39e-a2df-41d3-8217-83c9cd7ffb6d\\a057e39e-a2df-41d3-8217-83c9cd7ffb6d_mean_projection.n...</td>\n",
       "      <td>2024-09-26T16:26:20</td>\n",
       "      <td>2024-09-26T16:28:48</td>\n",
       "      <td>143.18 sec</td>\n",
       "      <td>None</td>\n",
       "      <td>a057e39e-a2df-41d3-8217-83c9cd7ffb6d</td>\n",
       "    </tr>\n",
       "    <tr>\n",
       "      <th>2</th>\n",
       "      <td>cnmf</td>\n",
       "      <td>cnmf_1</td>\n",
       "      <td>b32f41bf-a9a5-4965-be7c-e6779e854328\\b32f41bf-a9a5-4965-be7c-e6779e854328-extracted_plane_1_els__d1_583_d2_536_d3_1_...</td>\n",
       "      <td>{'main': {'fr': 9.62, 'dxy': (1.0, 1.0), 'decay_time': 0.4, 'p': 2, 'nb': 1, 'rf': 40, 'K': 150, 'gSig': [7.5, 7.5],...</td>\n",
       "      <td>{'mean-projection-path': 0d8d3234-eab7-4f90-9405-53a2ad7917dc\\0d8d3234-eab7-4f90-9405-53a2ad7917dc_mean_projection.n...</td>\n",
       "      <td>2024-10-01T12:09:56</td>\n",
       "      <td>2024-10-01T12:26:42</td>\n",
       "      <td>996.44 sec</td>\n",
       "      <td>None</td>\n",
       "      <td>0d8d3234-eab7-4f90-9405-53a2ad7917dc</td>\n",
       "    </tr>\n",
       "    <tr>\n",
       "      <th>3</th>\n",
       "      <td>mcorr</td>\n",
       "      <td>plane_1</td>\n",
       "      <td>tiff\\extracted_plane_1.tif</td>\n",
       "      <td>{'main': {'var_name_hdf5': 'mov', 'max_shifts': (10, 10), 'strides': (48, 48), 'overlaps': (24, 24), 'max_deviation_...</td>\n",
       "      <td>{'mean-projection-path': c220fb8a-cef9-4784-91a2-84f33d760b75\\c220fb8a-cef9-4784-91a2-84f33d760b75_mean_projection.n...</td>\n",
       "      <td>2024-10-01T13:24:33</td>\n",
       "      <td>2024-10-01T13:28:06</td>\n",
       "      <td>83.34 sec</td>\n",
       "      <td>None</td>\n",
       "      <td>c220fb8a-cef9-4784-91a2-84f33d760b75</td>\n",
       "    </tr>\n",
       "    <tr>\n",
       "      <th>4</th>\n",
       "      <td>mcorr</td>\n",
       "      <td>plane_2</td>\n",
       "      <td>tiff\\extracted_plane_2.tif</td>\n",
       "      <td>{'main': {'var_name_hdf5': 'mov', 'max_shifts': (10, 10), 'strides': (48, 48), 'overlaps': (24, 24), 'max_deviation_...</td>\n",
       "      <td>{'mean-projection-path': ecdbaa07-8893-4352-8658-19a8357306b8\\ecdbaa07-8893-4352-8658-19a8357306b8_mean_projection.n...</td>\n",
       "      <td>2024-10-01T13:24:33</td>\n",
       "      <td>2024-10-01T13:29:29</td>\n",
       "      <td>83.69 sec</td>\n",
       "      <td>None</td>\n",
       "      <td>ecdbaa07-8893-4352-8658-19a8357306b8</td>\n",
       "    </tr>\n",
       "    <tr>\n",
       "      <th>5</th>\n",
       "      <td>mcorr</td>\n",
       "      <td>plane_3</td>\n",
       "      <td>tiff\\extracted_plane_3.tif</td>\n",
       "      <td>{'main': {'var_name_hdf5': 'mov', 'max_shifts': (10, 10), 'strides': (48, 48), 'overlaps': (24, 24), 'max_deviation_...</td>\n",
       "      <td>{'mean-projection-path': 48bad9bd-8a15-4d42-ae64-cb199ff498bc\\48bad9bd-8a15-4d42-ae64-cb199ff498bc_mean_projection.n...</td>\n",
       "      <td>2024-10-01T13:24:33</td>\n",
       "      <td>2024-10-01T13:30:53</td>\n",
       "      <td>83.81 sec</td>\n",
       "      <td>None</td>\n",
       "      <td>48bad9bd-8a15-4d42-ae64-cb199ff498bc</td>\n",
       "    </tr>\n",
       "    <tr>\n",
       "      <th>6</th>\n",
       "      <td>mcorr</td>\n",
       "      <td>plane_4</td>\n",
       "      <td>tiff\\extracted_plane_4.tif</td>\n",
       "      <td>{'main': {'var_name_hdf5': 'mov', 'max_shifts': (10, 10), 'strides': (48, 48), 'overlaps': (24, 24), 'max_deviation_...</td>\n",
       "      <td>{'mean-projection-path': 29217cfc-8575-4c35-b8b0-2fb29a4cb416\\29217cfc-8575-4c35-b8b0-2fb29a4cb416_mean_projection.n...</td>\n",
       "      <td>2024-10-01T13:24:33</td>\n",
       "      <td>2024-10-01T13:32:17</td>\n",
       "      <td>82.93 sec</td>\n",
       "      <td>None</td>\n",
       "      <td>29217cfc-8575-4c35-b8b0-2fb29a4cb416</td>\n",
       "    </tr>\n",
       "    <tr>\n",
       "      <th>7</th>\n",
       "      <td>mcorr</td>\n",
       "      <td>plane_5</td>\n",
       "      <td>tiff\\extracted_plane_5.tif</td>\n",
       "      <td>{'main': {'var_name_hdf5': 'mov', 'max_shifts': (10, 10), 'strides': (48, 48), 'overlaps': (24, 24), 'max_deviation_...</td>\n",
       "      <td>{'mean-projection-path': f9e87c87-913e-4027-a3bd-83c4c7182493\\f9e87c87-913e-4027-a3bd-83c4c7182493_mean_projection.n...</td>\n",
       "      <td>2024-10-01T13:24:33</td>\n",
       "      <td>2024-10-01T13:33:39</td>\n",
       "      <td>82.31 sec</td>\n",
       "      <td>None</td>\n",
       "      <td>f9e87c87-913e-4027-a3bd-83c4c7182493</td>\n",
       "    </tr>\n",
       "    <tr>\n",
       "      <th>8</th>\n",
       "      <td>mcorr</td>\n",
       "      <td>plane_6</td>\n",
       "      <td>tiff\\extracted_plane_6.tif</td>\n",
       "      <td>{'main': {'var_name_hdf5': 'mov', 'max_shifts': (10, 10), 'strides': (48, 48), 'overlaps': (24, 24), 'max_deviation_...</td>\n",
       "      <td>{'mean-projection-path': baf9fc6a-9159-46fd-a6b8-603d02c30c99\\baf9fc6a-9159-46fd-a6b8-603d02c30c99_mean_projection.n...</td>\n",
       "      <td>2024-10-01T13:24:33</td>\n",
       "      <td>2024-10-01T13:35:02</td>\n",
       "      <td>82.48 sec</td>\n",
       "      <td>None</td>\n",
       "      <td>baf9fc6a-9159-46fd-a6b8-603d02c30c99</td>\n",
       "    </tr>\n",
       "    <tr>\n",
       "      <th>9</th>\n",
       "      <td>mcorr</td>\n",
       "      <td>plane_7</td>\n",
       "      <td>tiff\\extracted_plane_7.tif</td>\n",
       "      <td>{'main': {'var_name_hdf5': 'mov', 'max_shifts': (10, 10), 'strides': (48, 48), 'overlaps': (24, 24), 'max_deviation_...</td>\n",
       "      <td>{'mean-projection-path': 7afd6d4c-7787-4e02-8dfc-fd0ce578164d\\7afd6d4c-7787-4e02-8dfc-fd0ce578164d_mean_projection.n...</td>\n",
       "      <td>2024-10-01T13:24:33</td>\n",
       "      <td>2024-10-01T13:36:24</td>\n",
       "      <td>81.99 sec</td>\n",
       "      <td>None</td>\n",
       "      <td>7afd6d4c-7787-4e02-8dfc-fd0ce578164d</td>\n",
       "    </tr>\n",
       "    <tr>\n",
       "      <th>10</th>\n",
       "      <td>mcorr</td>\n",
       "      <td>plane_8</td>\n",
       "      <td>tiff\\extracted_plane_8.tif</td>\n",
       "      <td>{'main': {'var_name_hdf5': 'mov', 'max_shifts': (10, 10), 'strides': (48, 48), 'overlaps': (24, 24), 'max_deviation_...</td>\n",
       "      <td>{'mean-projection-path': 28a3cd15-7671-4a5e-8744-9e8e73e35ee9\\28a3cd15-7671-4a5e-8744-9e8e73e35ee9_mean_projection.n...</td>\n",
       "      <td>2024-10-01T13:24:33</td>\n",
       "      <td>2024-10-01T13:37:48</td>\n",
       "      <td>83.8 sec</td>\n",
       "      <td>None</td>\n",
       "      <td>28a3cd15-7671-4a5e-8744-9e8e73e35ee9</td>\n",
       "    </tr>\n",
       "    <tr>\n",
       "      <th>11</th>\n",
       "      <td>mcorr</td>\n",
       "      <td>plane_9</td>\n",
       "      <td>tiff\\extracted_plane_9.tif</td>\n",
       "      <td>{'main': {'var_name_hdf5': 'mov', 'max_shifts': (10, 10), 'strides': (48, 48), 'overlaps': (24, 24), 'max_deviation_...</td>\n",
       "      <td>{'mean-projection-path': 379d8c22-52c6-4a6a-ae8e-69ccd1d5c5ed\\379d8c22-52c6-4a6a-ae8e-69ccd1d5c5ed_mean_projection.n...</td>\n",
       "      <td>2024-10-01T13:24:33</td>\n",
       "      <td>2024-10-01T13:39:11</td>\n",
       "      <td>83.03 sec</td>\n",
       "      <td>None</td>\n",
       "      <td>379d8c22-52c6-4a6a-ae8e-69ccd1d5c5ed</td>\n",
       "    </tr>\n",
       "    <tr>\n",
       "      <th>12</th>\n",
       "      <td>mcorr</td>\n",
       "      <td>plane_10</td>\n",
       "      <td>tiff\\extracted_plane_10.tif</td>\n",
       "      <td>{'main': {'var_name_hdf5': 'mov', 'max_shifts': (10, 10), 'strides': (48, 48), 'overlaps': (24, 24), 'max_deviation_...</td>\n",
       "      <td>{'mean-projection-path': 679fe640-ee6c-480c-bc71-e941000b8851\\679fe640-ee6c-480c-bc71-e941000b8851_mean_projection.n...</td>\n",
       "      <td>2024-10-01T13:24:33</td>\n",
       "      <td>2024-10-01T13:40:33</td>\n",
       "      <td>82.51 sec</td>\n",
       "      <td>None</td>\n",
       "      <td>679fe640-ee6c-480c-bc71-e941000b8851</td>\n",
       "    </tr>\n",
       "    <tr>\n",
       "      <th>13</th>\n",
       "      <td>mcorr</td>\n",
       "      <td>plane_11</td>\n",
       "      <td>tiff\\extracted_plane_11.tif</td>\n",
       "      <td>{'main': {'var_name_hdf5': 'mov', 'max_shifts': (10, 10), 'strides': (48, 48), 'overlaps': (24, 24), 'max_deviation_...</td>\n",
       "      <td>{'mean-projection-path': d5f2446a-0f42-472a-b969-735c7980b96b\\d5f2446a-0f42-472a-b969-735c7980b96b_mean_projection.n...</td>\n",
       "      <td>2024-10-01T13:24:33</td>\n",
       "      <td>2024-10-01T13:41:56</td>\n",
       "      <td>82.22 sec</td>\n",
       "      <td>None</td>\n",
       "      <td>d5f2446a-0f42-472a-b969-735c7980b96b</td>\n",
       "    </tr>\n",
       "    <tr>\n",
       "      <th>14</th>\n",
       "      <td>mcorr</td>\n",
       "      <td>plane_12</td>\n",
       "      <td>tiff\\extracted_plane_12.tif</td>\n",
       "      <td>{'main': {'var_name_hdf5': 'mov', 'max_shifts': (10, 10), 'strides': (48, 48), 'overlaps': (24, 24), 'max_deviation_...</td>\n",
       "      <td>{'mean-projection-path': 888fa033-522f-4fec-bbd6-607f93fffc11\\888fa033-522f-4fec-bbd6-607f93fffc11_mean_projection.n...</td>\n",
       "      <td>2024-10-01T13:24:33</td>\n",
       "      <td>2024-10-01T13:43:19</td>\n",
       "      <td>82.73 sec</td>\n",
       "      <td>None</td>\n",
       "      <td>888fa033-522f-4fec-bbd6-607f93fffc11</td>\n",
       "    </tr>\n",
       "    <tr>\n",
       "      <th>15</th>\n",
       "      <td>mcorr</td>\n",
       "      <td>plane_13</td>\n",
       "      <td>tiff\\extracted_plane_13.tif</td>\n",
       "      <td>{'main': {'var_name_hdf5': 'mov', 'max_shifts': (10, 10), 'strides': (48, 48), 'overlaps': (24, 24), 'max_deviation_...</td>\n",
       "      <td>{'mean-projection-path': 9c53c1bc-e865-4977-89da-1c1bff7d4d21\\9c53c1bc-e865-4977-89da-1c1bff7d4d21_mean_projection.n...</td>\n",
       "      <td>2024-10-01T13:24:33</td>\n",
       "      <td>2024-10-01T13:44:41</td>\n",
       "      <td>81.82 sec</td>\n",
       "      <td>None</td>\n",
       "      <td>9c53c1bc-e865-4977-89da-1c1bff7d4d21</td>\n",
       "    </tr>\n",
       "    <tr>\n",
       "      <th>16</th>\n",
       "      <td>mcorr</td>\n",
       "      <td>plane_14</td>\n",
       "      <td>tiff\\extracted_plane_14.tif</td>\n",
       "      <td>{'main': {'var_name_hdf5': 'mov', 'max_shifts': (10, 10), 'strides': (48, 48), 'overlaps': (24, 24), 'max_deviation_...</td>\n",
       "      <td>{'mean-projection-path': 6f3101c4-9792-497a-939f-5a4780848a0d\\6f3101c4-9792-497a-939f-5a4780848a0d_mean_projection.n...</td>\n",
       "      <td>2024-10-01T13:24:33</td>\n",
       "      <td>2024-10-01T13:46:03</td>\n",
       "      <td>82.3 sec</td>\n",
       "      <td>None</td>\n",
       "      <td>6f3101c4-9792-497a-939f-5a4780848a0d</td>\n",
       "    </tr>\n",
       "    <tr>\n",
       "      <th>17</th>\n",
       "      <td>mcorr</td>\n",
       "      <td>plane_15</td>\n",
       "      <td>tiff\\extracted_plane_15.tif</td>\n",
       "      <td>{'main': {'var_name_hdf5': 'mov', 'max_shifts': (10, 10), 'strides': (48, 48), 'overlaps': (24, 24), 'max_deviation_...</td>\n",
       "      <td>{'mean-projection-path': 41ed61cb-4b3e-4117-9db6-e054b1d8c697\\41ed61cb-4b3e-4117-9db6-e054b1d8c697_mean_projection.n...</td>\n",
       "      <td>2024-10-01T13:24:33</td>\n",
       "      <td>2024-10-01T13:47:26</td>\n",
       "      <td>82.44 sec</td>\n",
       "      <td>None</td>\n",
       "      <td>41ed61cb-4b3e-4117-9db6-e054b1d8c697</td>\n",
       "    </tr>\n",
       "    <tr>\n",
       "      <th>18</th>\n",
       "      <td>mcorr</td>\n",
       "      <td>plane_16</td>\n",
       "      <td>tiff\\extracted_plane_16.tif</td>\n",
       "      <td>{'main': {'var_name_hdf5': 'mov', 'max_shifts': (10, 10), 'strides': (48, 48), 'overlaps': (24, 24), 'max_deviation_...</td>\n",
       "      <td>{'mean-projection-path': 625b34c3-eae3-4ad8-8015-5cc48122c7ec\\625b34c3-eae3-4ad8-8015-5cc48122c7ec_mean_projection.n...</td>\n",
       "      <td>2024-10-01T13:24:33</td>\n",
       "      <td>2024-10-01T13:48:48</td>\n",
       "      <td>82.0 sec</td>\n",
       "      <td>None</td>\n",
       "      <td>625b34c3-eae3-4ad8-8015-5cc48122c7ec</td>\n",
       "    </tr>\n",
       "    <tr>\n",
       "      <th>19</th>\n",
       "      <td>mcorr</td>\n",
       "      <td>plane_17</td>\n",
       "      <td>tiff\\extracted_plane_17.tif</td>\n",
       "      <td>{'main': {'var_name_hdf5': 'mov', 'max_shifts': (10, 10), 'strides': (48, 48), 'overlaps': (24, 24), 'max_deviation_...</td>\n",
       "      <td>{'mean-projection-path': e6a54884-a8a8-447b-be78-70957a62f161\\e6a54884-a8a8-447b-be78-70957a62f161_mean_projection.n...</td>\n",
       "      <td>2024-10-01T13:24:33</td>\n",
       "      <td>2024-10-01T13:50:11</td>\n",
       "      <td>83.41 sec</td>\n",
       "      <td>None</td>\n",
       "      <td>e6a54884-a8a8-447b-be78-70957a62f161</td>\n",
       "    </tr>\n",
       "    <tr>\n",
       "      <th>20</th>\n",
       "      <td>mcorr</td>\n",
       "      <td>plane_18</td>\n",
       "      <td>tiff\\extracted_plane_18.tif</td>\n",
       "      <td>{'main': {'var_name_hdf5': 'mov', 'max_shifts': (10, 10), 'strides': (48, 48), 'overlaps': (24, 24), 'max_deviation_...</td>\n",
       "      <td>{'mean-projection-path': c21edffc-96ae-4103-b0e7-9ae4af82a6a7\\c21edffc-96ae-4103-b0e7-9ae4af82a6a7_mean_projection.n...</td>\n",
       "      <td>2024-10-01T13:24:33</td>\n",
       "      <td>2024-10-01T13:51:33</td>\n",
       "      <td>81.7 sec</td>\n",
       "      <td>None</td>\n",
       "      <td>c21edffc-96ae-4103-b0e7-9ae4af82a6a7</td>\n",
       "    </tr>\n",
       "    <tr>\n",
       "      <th>21</th>\n",
       "      <td>mcorr</td>\n",
       "      <td>plane_19</td>\n",
       "      <td>tiff\\extracted_plane_19.tif</td>\n",
       "      <td>{'main': {'var_name_hdf5': 'mov', 'max_shifts': (10, 10), 'strides': (48, 48), 'overlaps': (24, 24), 'max_deviation_...</td>\n",
       "      <td>{'mean-projection-path': bbcf4810-f29e-4fde-a425-fa81a34e7c14\\bbcf4810-f29e-4fde-a425-fa81a34e7c14_mean_projection.n...</td>\n",
       "      <td>2024-10-01T13:24:33</td>\n",
       "      <td>2024-10-01T13:52:56</td>\n",
       "      <td>82.56 sec</td>\n",
       "      <td>None</td>\n",
       "      <td>bbcf4810-f29e-4fde-a425-fa81a34e7c14</td>\n",
       "    </tr>\n",
       "    <tr>\n",
       "      <th>22</th>\n",
       "      <td>mcorr</td>\n",
       "      <td>plane_20</td>\n",
       "      <td>tiff\\extracted_plane_20.tif</td>\n",
       "      <td>{'main': {'var_name_hdf5': 'mov', 'max_shifts': (10, 10), 'strides': (48, 48), 'overlaps': (24, 24), 'max_deviation_...</td>\n",
       "      <td>{'mean-projection-path': 3f1399d9-951f-46b7-8424-8a5019984015\\3f1399d9-951f-46b7-8424-8a5019984015_mean_projection.n...</td>\n",
       "      <td>2024-10-01T13:24:33</td>\n",
       "      <td>2024-10-01T13:54:19</td>\n",
       "      <td>83.5 sec</td>\n",
       "      <td>None</td>\n",
       "      <td>3f1399d9-951f-46b7-8424-8a5019984015</td>\n",
       "    </tr>\n",
       "    <tr>\n",
       "      <th>23</th>\n",
       "      <td>mcorr</td>\n",
       "      <td>plane_21</td>\n",
       "      <td>tiff\\extracted_plane_21.tif</td>\n",
       "      <td>{'main': {'var_name_hdf5': 'mov', 'max_shifts': (10, 10), 'strides': (48, 48), 'overlaps': (24, 24), 'max_deviation_...</td>\n",
       "      <td>{'mean-projection-path': 666389a4-64ae-48e1-bcb0-381a48cff336\\666389a4-64ae-48e1-bcb0-381a48cff336_mean_projection.n...</td>\n",
       "      <td>2024-10-01T13:24:33</td>\n",
       "      <td>2024-10-01T13:55:42</td>\n",
       "      <td>82.36 sec</td>\n",
       "      <td>None</td>\n",
       "      <td>666389a4-64ae-48e1-bcb0-381a48cff336</td>\n",
       "    </tr>\n",
       "    <tr>\n",
       "      <th>24</th>\n",
       "      <td>mcorr</td>\n",
       "      <td>plane_22</td>\n",
       "      <td>tiff\\extracted_plane_22.tif</td>\n",
       "      <td>{'main': {'var_name_hdf5': 'mov', 'max_shifts': (10, 10), 'strides': (48, 48), 'overlaps': (24, 24), 'max_deviation_...</td>\n",
       "      <td>{'mean-projection-path': 09e7e82e-3365-409d-b961-33e51d022ba5\\09e7e82e-3365-409d-b961-33e51d022ba5_mean_projection.n...</td>\n",
       "      <td>2024-10-01T13:24:33</td>\n",
       "      <td>2024-10-01T13:57:06</td>\n",
       "      <td>83.45 sec</td>\n",
       "      <td>None</td>\n",
       "      <td>09e7e82e-3365-409d-b961-33e51d022ba5</td>\n",
       "    </tr>\n",
       "    <tr>\n",
       "      <th>25</th>\n",
       "      <td>mcorr</td>\n",
       "      <td>plane_23</td>\n",
       "      <td>tiff\\extracted_plane_23.tif</td>\n",
       "      <td>{'main': {'var_name_hdf5': 'mov', 'max_shifts': (10, 10), 'strides': (48, 48), 'overlaps': (24, 24), 'max_deviation_...</td>\n",
       "      <td>{'mean-projection-path': 450d0648-35c0-4528-b199-c448b4b3de7a\\450d0648-35c0-4528-b199-c448b4b3de7a_mean_projection.n...</td>\n",
       "      <td>2024-10-01T13:24:33</td>\n",
       "      <td>2024-10-01T13:58:28</td>\n",
       "      <td>82.03 sec</td>\n",
       "      <td>None</td>\n",
       "      <td>450d0648-35c0-4528-b199-c448b4b3de7a</td>\n",
       "    </tr>\n",
       "    <tr>\n",
       "      <th>26</th>\n",
       "      <td>mcorr</td>\n",
       "      <td>plane_24</td>\n",
       "      <td>tiff\\extracted_plane_24.tif</td>\n",
       "      <td>{'main': {'var_name_hdf5': 'mov', 'max_shifts': (10, 10), 'strides': (48, 48), 'overlaps': (24, 24), 'max_deviation_...</td>\n",
       "      <td>{'mean-projection-path': 31b2befb-4833-4a1e-83ef-4c177244bd33\\31b2befb-4833-4a1e-83ef-4c177244bd33_mean_projection.n...</td>\n",
       "      <td>2024-10-01T13:24:33</td>\n",
       "      <td>2024-10-01T13:59:51</td>\n",
       "      <td>82.94 sec</td>\n",
       "      <td>None</td>\n",
       "      <td>31b2befb-4833-4a1e-83ef-4c177244bd33</td>\n",
       "    </tr>\n",
       "    <tr>\n",
       "      <th>27</th>\n",
       "      <td>mcorr</td>\n",
       "      <td>plane_25</td>\n",
       "      <td>tiff\\extracted_plane_25.tif</td>\n",
       "      <td>{'main': {'var_name_hdf5': 'mov', 'max_shifts': (10, 10), 'strides': (48, 48), 'overlaps': (24, 24), 'max_deviation_...</td>\n",
       "      <td>{'mean-projection-path': b60dc323-4e70-4c7f-88f8-f7255e9252c5\\b60dc323-4e70-4c7f-88f8-f7255e9252c5_mean_projection.n...</td>\n",
       "      <td>2024-10-01T13:24:33</td>\n",
       "      <td>2024-10-01T14:01:15</td>\n",
       "      <td>83.64 sec</td>\n",
       "      <td>None</td>\n",
       "      <td>b60dc323-4e70-4c7f-88f8-f7255e9252c5</td>\n",
       "    </tr>\n",
       "    <tr>\n",
       "      <th>28</th>\n",
       "      <td>mcorr</td>\n",
       "      <td>plane_26</td>\n",
       "      <td>tiff\\extracted_plane_26.tif</td>\n",
       "      <td>{'main': {'var_name_hdf5': 'mov', 'max_shifts': (10, 10), 'strides': (48, 48), 'overlaps': (24, 24), 'max_deviation_...</td>\n",
       "      <td>{'mean-projection-path': 6edd066c-6801-4c96-b71e-a34f3f446514\\6edd066c-6801-4c96-b71e-a34f3f446514_mean_projection.n...</td>\n",
       "      <td>2024-10-01T13:24:33</td>\n",
       "      <td>2024-10-01T14:02:36</td>\n",
       "      <td>80.91 sec</td>\n",
       "      <td>None</td>\n",
       "      <td>6edd066c-6801-4c96-b71e-a34f3f446514</td>\n",
       "    </tr>\n",
       "    <tr>\n",
       "      <th>29</th>\n",
       "      <td>mcorr</td>\n",
       "      <td>plane_27</td>\n",
       "      <td>tiff\\extracted_plane_27.tif</td>\n",
       "      <td>{'main': {'var_name_hdf5': 'mov', 'max_shifts': (10, 10), 'strides': (48, 48), 'overlaps': (24, 24), 'max_deviation_...</td>\n",
       "      <td>{'mean-projection-path': df55466a-8e2e-44d7-93d6-bc2ba0c5ab01\\df55466a-8e2e-44d7-93d6-bc2ba0c5ab01_mean_projection.n...</td>\n",
       "      <td>2024-10-01T13:24:33</td>\n",
       "      <td>2024-10-01T14:03:58</td>\n",
       "      <td>81.79 sec</td>\n",
       "      <td>None</td>\n",
       "      <td>df55466a-8e2e-44d7-93d6-bc2ba0c5ab01</td>\n",
       "    </tr>\n",
       "    <tr>\n",
       "      <th>30</th>\n",
       "      <td>mcorr</td>\n",
       "      <td>plane_28</td>\n",
       "      <td>tiff\\extracted_plane_28.tif</td>\n",
       "      <td>{'main': {'var_name_hdf5': 'mov', 'max_shifts': (10, 10), 'strides': (48, 48), 'overlaps': (24, 24), 'max_deviation_...</td>\n",
       "      <td>{'mean-projection-path': 2f2fa5da-3177-42ac-967c-240a46091e79\\2f2fa5da-3177-42ac-967c-240a46091e79_mean_projection.n...</td>\n",
       "      <td>2024-10-01T13:24:33</td>\n",
       "      <td>2024-10-01T14:05:20</td>\n",
       "      <td>82.38 sec</td>\n",
       "      <td>None</td>\n",
       "      <td>2f2fa5da-3177-42ac-967c-240a46091e79</td>\n",
       "    </tr>\n",
       "  </tbody>\n",
       "</table>\n",
       "</div>"
      ],
      "text/plain": [
       "     algo          item_name  \\\n",
       "0   mcorr  extracted_plane_1   \n",
       "1    cnmf             cnmf_1   \n",
       "2    cnmf             cnmf_1   \n",
       "3   mcorr            plane_1   \n",
       "4   mcorr            plane_2   \n",
       "5   mcorr            plane_3   \n",
       "6   mcorr            plane_4   \n",
       "7   mcorr            plane_5   \n",
       "8   mcorr            plane_6   \n",
       "9   mcorr            plane_7   \n",
       "10  mcorr            plane_8   \n",
       "11  mcorr            plane_9   \n",
       "12  mcorr           plane_10   \n",
       "13  mcorr           plane_11   \n",
       "14  mcorr           plane_12   \n",
       "15  mcorr           plane_13   \n",
       "16  mcorr           plane_14   \n",
       "17  mcorr           plane_15   \n",
       "18  mcorr           plane_16   \n",
       "19  mcorr           plane_17   \n",
       "20  mcorr           plane_18   \n",
       "21  mcorr           plane_19   \n",
       "22  mcorr           plane_20   \n",
       "23  mcorr           plane_21   \n",
       "24  mcorr           plane_22   \n",
       "25  mcorr           plane_23   \n",
       "26  mcorr           plane_24   \n",
       "27  mcorr           plane_25   \n",
       "28  mcorr           plane_26   \n",
       "29  mcorr           plane_27   \n",
       "30  mcorr           plane_28   \n",
       "\n",
       "                                                                                                           input_movie_path  \\\n",
       "0                                                                                                tiff\\extracted_plane_1.tif   \n",
       "1   b32f41bf-a9a5-4965-be7c-e6779e854328\\b32f41bf-a9a5-4965-be7c-e6779e854328-extracted_plane_1_els__d1_583_d2_536_d3_1_...   \n",
       "2   b32f41bf-a9a5-4965-be7c-e6779e854328\\b32f41bf-a9a5-4965-be7c-e6779e854328-extracted_plane_1_els__d1_583_d2_536_d3_1_...   \n",
       "3                                                                                                tiff\\extracted_plane_1.tif   \n",
       "4                                                                                                tiff\\extracted_plane_2.tif   \n",
       "5                                                                                                tiff\\extracted_plane_3.tif   \n",
       "6                                                                                                tiff\\extracted_plane_4.tif   \n",
       "7                                                                                                tiff\\extracted_plane_5.tif   \n",
       "8                                                                                                tiff\\extracted_plane_6.tif   \n",
       "9                                                                                                tiff\\extracted_plane_7.tif   \n",
       "10                                                                                               tiff\\extracted_plane_8.tif   \n",
       "11                                                                                               tiff\\extracted_plane_9.tif   \n",
       "12                                                                                              tiff\\extracted_plane_10.tif   \n",
       "13                                                                                              tiff\\extracted_plane_11.tif   \n",
       "14                                                                                              tiff\\extracted_plane_12.tif   \n",
       "15                                                                                              tiff\\extracted_plane_13.tif   \n",
       "16                                                                                              tiff\\extracted_plane_14.tif   \n",
       "17                                                                                              tiff\\extracted_plane_15.tif   \n",
       "18                                                                                              tiff\\extracted_plane_16.tif   \n",
       "19                                                                                              tiff\\extracted_plane_17.tif   \n",
       "20                                                                                              tiff\\extracted_plane_18.tif   \n",
       "21                                                                                              tiff\\extracted_plane_19.tif   \n",
       "22                                                                                              tiff\\extracted_plane_20.tif   \n",
       "23                                                                                              tiff\\extracted_plane_21.tif   \n",
       "24                                                                                              tiff\\extracted_plane_22.tif   \n",
       "25                                                                                              tiff\\extracted_plane_23.tif   \n",
       "26                                                                                              tiff\\extracted_plane_24.tif   \n",
       "27                                                                                              tiff\\extracted_plane_25.tif   \n",
       "28                                                                                              tiff\\extracted_plane_26.tif   \n",
       "29                                                                                              tiff\\extracted_plane_27.tif   \n",
       "30                                                                                              tiff\\extracted_plane_28.tif   \n",
       "\n",
       "                                                                                                                     params  \\\n",
       "0   {'main': {'var_name_hdf5': 'mov', 'max_shifts': (10, 10), 'strides': (48, 48), 'overlaps': (24, 24), 'max_deviation_...   \n",
       "1   {'main': {'fr': 9.62, 'dxy': (1.0, 1.0), 'decay_time': 0.4, 'strides': (48, 48), 'overlaps': (24, 24), 'max_shifts':...   \n",
       "2   {'main': {'fr': 9.62, 'dxy': (1.0, 1.0), 'decay_time': 0.4, 'p': 2, 'nb': 1, 'rf': 40, 'K': 150, 'gSig': [7.5, 7.5],...   \n",
       "3   {'main': {'var_name_hdf5': 'mov', 'max_shifts': (10, 10), 'strides': (48, 48), 'overlaps': (24, 24), 'max_deviation_...   \n",
       "4   {'main': {'var_name_hdf5': 'mov', 'max_shifts': (10, 10), 'strides': (48, 48), 'overlaps': (24, 24), 'max_deviation_...   \n",
       "5   {'main': {'var_name_hdf5': 'mov', 'max_shifts': (10, 10), 'strides': (48, 48), 'overlaps': (24, 24), 'max_deviation_...   \n",
       "6   {'main': {'var_name_hdf5': 'mov', 'max_shifts': (10, 10), 'strides': (48, 48), 'overlaps': (24, 24), 'max_deviation_...   \n",
       "7   {'main': {'var_name_hdf5': 'mov', 'max_shifts': (10, 10), 'strides': (48, 48), 'overlaps': (24, 24), 'max_deviation_...   \n",
       "8   {'main': {'var_name_hdf5': 'mov', 'max_shifts': (10, 10), 'strides': (48, 48), 'overlaps': (24, 24), 'max_deviation_...   \n",
       "9   {'main': {'var_name_hdf5': 'mov', 'max_shifts': (10, 10), 'strides': (48, 48), 'overlaps': (24, 24), 'max_deviation_...   \n",
       "10  {'main': {'var_name_hdf5': 'mov', 'max_shifts': (10, 10), 'strides': (48, 48), 'overlaps': (24, 24), 'max_deviation_...   \n",
       "11  {'main': {'var_name_hdf5': 'mov', 'max_shifts': (10, 10), 'strides': (48, 48), 'overlaps': (24, 24), 'max_deviation_...   \n",
       "12  {'main': {'var_name_hdf5': 'mov', 'max_shifts': (10, 10), 'strides': (48, 48), 'overlaps': (24, 24), 'max_deviation_...   \n",
       "13  {'main': {'var_name_hdf5': 'mov', 'max_shifts': (10, 10), 'strides': (48, 48), 'overlaps': (24, 24), 'max_deviation_...   \n",
       "14  {'main': {'var_name_hdf5': 'mov', 'max_shifts': (10, 10), 'strides': (48, 48), 'overlaps': (24, 24), 'max_deviation_...   \n",
       "15  {'main': {'var_name_hdf5': 'mov', 'max_shifts': (10, 10), 'strides': (48, 48), 'overlaps': (24, 24), 'max_deviation_...   \n",
       "16  {'main': {'var_name_hdf5': 'mov', 'max_shifts': (10, 10), 'strides': (48, 48), 'overlaps': (24, 24), 'max_deviation_...   \n",
       "17  {'main': {'var_name_hdf5': 'mov', 'max_shifts': (10, 10), 'strides': (48, 48), 'overlaps': (24, 24), 'max_deviation_...   \n",
       "18  {'main': {'var_name_hdf5': 'mov', 'max_shifts': (10, 10), 'strides': (48, 48), 'overlaps': (24, 24), 'max_deviation_...   \n",
       "19  {'main': {'var_name_hdf5': 'mov', 'max_shifts': (10, 10), 'strides': (48, 48), 'overlaps': (24, 24), 'max_deviation_...   \n",
       "20  {'main': {'var_name_hdf5': 'mov', 'max_shifts': (10, 10), 'strides': (48, 48), 'overlaps': (24, 24), 'max_deviation_...   \n",
       "21  {'main': {'var_name_hdf5': 'mov', 'max_shifts': (10, 10), 'strides': (48, 48), 'overlaps': (24, 24), 'max_deviation_...   \n",
       "22  {'main': {'var_name_hdf5': 'mov', 'max_shifts': (10, 10), 'strides': (48, 48), 'overlaps': (24, 24), 'max_deviation_...   \n",
       "23  {'main': {'var_name_hdf5': 'mov', 'max_shifts': (10, 10), 'strides': (48, 48), 'overlaps': (24, 24), 'max_deviation_...   \n",
       "24  {'main': {'var_name_hdf5': 'mov', 'max_shifts': (10, 10), 'strides': (48, 48), 'overlaps': (24, 24), 'max_deviation_...   \n",
       "25  {'main': {'var_name_hdf5': 'mov', 'max_shifts': (10, 10), 'strides': (48, 48), 'overlaps': (24, 24), 'max_deviation_...   \n",
       "26  {'main': {'var_name_hdf5': 'mov', 'max_shifts': (10, 10), 'strides': (48, 48), 'overlaps': (24, 24), 'max_deviation_...   \n",
       "27  {'main': {'var_name_hdf5': 'mov', 'max_shifts': (10, 10), 'strides': (48, 48), 'overlaps': (24, 24), 'max_deviation_...   \n",
       "28  {'main': {'var_name_hdf5': 'mov', 'max_shifts': (10, 10), 'strides': (48, 48), 'overlaps': (24, 24), 'max_deviation_...   \n",
       "29  {'main': {'var_name_hdf5': 'mov', 'max_shifts': (10, 10), 'strides': (48, 48), 'overlaps': (24, 24), 'max_deviation_...   \n",
       "30  {'main': {'var_name_hdf5': 'mov', 'max_shifts': (10, 10), 'strides': (48, 48), 'overlaps': (24, 24), 'max_deviation_...   \n",
       "\n",
       "                                                                                                                    outputs  \\\n",
       "0   {'mean-projection-path': b32f41bf-a9a5-4965-be7c-e6779e854328\\b32f41bf-a9a5-4965-be7c-e6779e854328_mean_projection.n...   \n",
       "1   {'mean-projection-path': a057e39e-a2df-41d3-8217-83c9cd7ffb6d\\a057e39e-a2df-41d3-8217-83c9cd7ffb6d_mean_projection.n...   \n",
       "2   {'mean-projection-path': 0d8d3234-eab7-4f90-9405-53a2ad7917dc\\0d8d3234-eab7-4f90-9405-53a2ad7917dc_mean_projection.n...   \n",
       "3   {'mean-projection-path': c220fb8a-cef9-4784-91a2-84f33d760b75\\c220fb8a-cef9-4784-91a2-84f33d760b75_mean_projection.n...   \n",
       "4   {'mean-projection-path': ecdbaa07-8893-4352-8658-19a8357306b8\\ecdbaa07-8893-4352-8658-19a8357306b8_mean_projection.n...   \n",
       "5   {'mean-projection-path': 48bad9bd-8a15-4d42-ae64-cb199ff498bc\\48bad9bd-8a15-4d42-ae64-cb199ff498bc_mean_projection.n...   \n",
       "6   {'mean-projection-path': 29217cfc-8575-4c35-b8b0-2fb29a4cb416\\29217cfc-8575-4c35-b8b0-2fb29a4cb416_mean_projection.n...   \n",
       "7   {'mean-projection-path': f9e87c87-913e-4027-a3bd-83c4c7182493\\f9e87c87-913e-4027-a3bd-83c4c7182493_mean_projection.n...   \n",
       "8   {'mean-projection-path': baf9fc6a-9159-46fd-a6b8-603d02c30c99\\baf9fc6a-9159-46fd-a6b8-603d02c30c99_mean_projection.n...   \n",
       "9   {'mean-projection-path': 7afd6d4c-7787-4e02-8dfc-fd0ce578164d\\7afd6d4c-7787-4e02-8dfc-fd0ce578164d_mean_projection.n...   \n",
       "10  {'mean-projection-path': 28a3cd15-7671-4a5e-8744-9e8e73e35ee9\\28a3cd15-7671-4a5e-8744-9e8e73e35ee9_mean_projection.n...   \n",
       "11  {'mean-projection-path': 379d8c22-52c6-4a6a-ae8e-69ccd1d5c5ed\\379d8c22-52c6-4a6a-ae8e-69ccd1d5c5ed_mean_projection.n...   \n",
       "12  {'mean-projection-path': 679fe640-ee6c-480c-bc71-e941000b8851\\679fe640-ee6c-480c-bc71-e941000b8851_mean_projection.n...   \n",
       "13  {'mean-projection-path': d5f2446a-0f42-472a-b969-735c7980b96b\\d5f2446a-0f42-472a-b969-735c7980b96b_mean_projection.n...   \n",
       "14  {'mean-projection-path': 888fa033-522f-4fec-bbd6-607f93fffc11\\888fa033-522f-4fec-bbd6-607f93fffc11_mean_projection.n...   \n",
       "15  {'mean-projection-path': 9c53c1bc-e865-4977-89da-1c1bff7d4d21\\9c53c1bc-e865-4977-89da-1c1bff7d4d21_mean_projection.n...   \n",
       "16  {'mean-projection-path': 6f3101c4-9792-497a-939f-5a4780848a0d\\6f3101c4-9792-497a-939f-5a4780848a0d_mean_projection.n...   \n",
       "17  {'mean-projection-path': 41ed61cb-4b3e-4117-9db6-e054b1d8c697\\41ed61cb-4b3e-4117-9db6-e054b1d8c697_mean_projection.n...   \n",
       "18  {'mean-projection-path': 625b34c3-eae3-4ad8-8015-5cc48122c7ec\\625b34c3-eae3-4ad8-8015-5cc48122c7ec_mean_projection.n...   \n",
       "19  {'mean-projection-path': e6a54884-a8a8-447b-be78-70957a62f161\\e6a54884-a8a8-447b-be78-70957a62f161_mean_projection.n...   \n",
       "20  {'mean-projection-path': c21edffc-96ae-4103-b0e7-9ae4af82a6a7\\c21edffc-96ae-4103-b0e7-9ae4af82a6a7_mean_projection.n...   \n",
       "21  {'mean-projection-path': bbcf4810-f29e-4fde-a425-fa81a34e7c14\\bbcf4810-f29e-4fde-a425-fa81a34e7c14_mean_projection.n...   \n",
       "22  {'mean-projection-path': 3f1399d9-951f-46b7-8424-8a5019984015\\3f1399d9-951f-46b7-8424-8a5019984015_mean_projection.n...   \n",
       "23  {'mean-projection-path': 666389a4-64ae-48e1-bcb0-381a48cff336\\666389a4-64ae-48e1-bcb0-381a48cff336_mean_projection.n...   \n",
       "24  {'mean-projection-path': 09e7e82e-3365-409d-b961-33e51d022ba5\\09e7e82e-3365-409d-b961-33e51d022ba5_mean_projection.n...   \n",
       "25  {'mean-projection-path': 450d0648-35c0-4528-b199-c448b4b3de7a\\450d0648-35c0-4528-b199-c448b4b3de7a_mean_projection.n...   \n",
       "26  {'mean-projection-path': 31b2befb-4833-4a1e-83ef-4c177244bd33\\31b2befb-4833-4a1e-83ef-4c177244bd33_mean_projection.n...   \n",
       "27  {'mean-projection-path': b60dc323-4e70-4c7f-88f8-f7255e9252c5\\b60dc323-4e70-4c7f-88f8-f7255e9252c5_mean_projection.n...   \n",
       "28  {'mean-projection-path': 6edd066c-6801-4c96-b71e-a34f3f446514\\6edd066c-6801-4c96-b71e-a34f3f446514_mean_projection.n...   \n",
       "29  {'mean-projection-path': df55466a-8e2e-44d7-93d6-bc2ba0c5ab01\\df55466a-8e2e-44d7-93d6-bc2ba0c5ab01_mean_projection.n...   \n",
       "30  {'mean-projection-path': 2f2fa5da-3177-42ac-967c-240a46091e79\\2f2fa5da-3177-42ac-967c-240a46091e79_mean_projection.n...   \n",
       "\n",
       "             added_time             ran_time algo_duration comments  \\\n",
       "0   2024-09-26T11:56:54  2024-09-26T12:02:55      77.3 sec     None   \n",
       "1   2024-09-26T16:26:20  2024-09-26T16:28:48    143.18 sec     None   \n",
       "2   2024-10-01T12:09:56  2024-10-01T12:26:42    996.44 sec     None   \n",
       "3   2024-10-01T13:24:33  2024-10-01T13:28:06     83.34 sec     None   \n",
       "4   2024-10-01T13:24:33  2024-10-01T13:29:29     83.69 sec     None   \n",
       "5   2024-10-01T13:24:33  2024-10-01T13:30:53     83.81 sec     None   \n",
       "6   2024-10-01T13:24:33  2024-10-01T13:32:17     82.93 sec     None   \n",
       "7   2024-10-01T13:24:33  2024-10-01T13:33:39     82.31 sec     None   \n",
       "8   2024-10-01T13:24:33  2024-10-01T13:35:02     82.48 sec     None   \n",
       "9   2024-10-01T13:24:33  2024-10-01T13:36:24     81.99 sec     None   \n",
       "10  2024-10-01T13:24:33  2024-10-01T13:37:48      83.8 sec     None   \n",
       "11  2024-10-01T13:24:33  2024-10-01T13:39:11     83.03 sec     None   \n",
       "12  2024-10-01T13:24:33  2024-10-01T13:40:33     82.51 sec     None   \n",
       "13  2024-10-01T13:24:33  2024-10-01T13:41:56     82.22 sec     None   \n",
       "14  2024-10-01T13:24:33  2024-10-01T13:43:19     82.73 sec     None   \n",
       "15  2024-10-01T13:24:33  2024-10-01T13:44:41     81.82 sec     None   \n",
       "16  2024-10-01T13:24:33  2024-10-01T13:46:03      82.3 sec     None   \n",
       "17  2024-10-01T13:24:33  2024-10-01T13:47:26     82.44 sec     None   \n",
       "18  2024-10-01T13:24:33  2024-10-01T13:48:48      82.0 sec     None   \n",
       "19  2024-10-01T13:24:33  2024-10-01T13:50:11     83.41 sec     None   \n",
       "20  2024-10-01T13:24:33  2024-10-01T13:51:33      81.7 sec     None   \n",
       "21  2024-10-01T13:24:33  2024-10-01T13:52:56     82.56 sec     None   \n",
       "22  2024-10-01T13:24:33  2024-10-01T13:54:19      83.5 sec     None   \n",
       "23  2024-10-01T13:24:33  2024-10-01T13:55:42     82.36 sec     None   \n",
       "24  2024-10-01T13:24:33  2024-10-01T13:57:06     83.45 sec     None   \n",
       "25  2024-10-01T13:24:33  2024-10-01T13:58:28     82.03 sec     None   \n",
       "26  2024-10-01T13:24:33  2024-10-01T13:59:51     82.94 sec     None   \n",
       "27  2024-10-01T13:24:33  2024-10-01T14:01:15     83.64 sec     None   \n",
       "28  2024-10-01T13:24:33  2024-10-01T14:02:36     80.91 sec     None   \n",
       "29  2024-10-01T13:24:33  2024-10-01T14:03:58     81.79 sec     None   \n",
       "30  2024-10-01T13:24:33  2024-10-01T14:05:20     82.38 sec     None   \n",
       "\n",
       "                                    uuid  \n",
       "0   b32f41bf-a9a5-4965-be7c-e6779e854328  \n",
       "1   a057e39e-a2df-41d3-8217-83c9cd7ffb6d  \n",
       "2   0d8d3234-eab7-4f90-9405-53a2ad7917dc  \n",
       "3   c220fb8a-cef9-4784-91a2-84f33d760b75  \n",
       "4   ecdbaa07-8893-4352-8658-19a8357306b8  \n",
       "5   48bad9bd-8a15-4d42-ae64-cb199ff498bc  \n",
       "6   29217cfc-8575-4c35-b8b0-2fb29a4cb416  \n",
       "7   f9e87c87-913e-4027-a3bd-83c4c7182493  \n",
       "8   baf9fc6a-9159-46fd-a6b8-603d02c30c99  \n",
       "9   7afd6d4c-7787-4e02-8dfc-fd0ce578164d  \n",
       "10  28a3cd15-7671-4a5e-8744-9e8e73e35ee9  \n",
       "11  379d8c22-52c6-4a6a-ae8e-69ccd1d5c5ed  \n",
       "12  679fe640-ee6c-480c-bc71-e941000b8851  \n",
       "13  d5f2446a-0f42-472a-b969-735c7980b96b  \n",
       "14  888fa033-522f-4fec-bbd6-607f93fffc11  \n",
       "15  9c53c1bc-e865-4977-89da-1c1bff7d4d21  \n",
       "16  6f3101c4-9792-497a-939f-5a4780848a0d  \n",
       "17  41ed61cb-4b3e-4117-9db6-e054b1d8c697  \n",
       "18  625b34c3-eae3-4ad8-8015-5cc48122c7ec  \n",
       "19  e6a54884-a8a8-447b-be78-70957a62f161  \n",
       "20  c21edffc-96ae-4103-b0e7-9ae4af82a6a7  \n",
       "21  bbcf4810-f29e-4fde-a425-fa81a34e7c14  \n",
       "22  3f1399d9-951f-46b7-8424-8a5019984015  \n",
       "23  666389a4-64ae-48e1-bcb0-381a48cff336  \n",
       "24  09e7e82e-3365-409d-b961-33e51d022ba5  \n",
       "25  450d0648-35c0-4528-b199-c448b4b3de7a  \n",
       "26  31b2befb-4833-4a1e-83ef-4c177244bd33  \n",
       "27  b60dc323-4e70-4c7f-88f8-f7255e9252c5  \n",
       "28  6edd066c-6801-4c96-b71e-a34f3f446514  \n",
       "29  df55466a-8e2e-44d7-93d6-bc2ba0c5ab01  \n",
       "30  2f2fa5da-3177-42ac-967c-240a46091e79  "
      ]
     },
     "execution_count": 16,
     "metadata": {},
     "output_type": "execute_result"
    }
   ],
   "source": [
    "df = df.caiman.reload_from_disk()\n",
    "df"
   ]
  },
  {
   "cell_type": "code",
   "execution_count": 36,
   "id": "555e7380",
   "metadata": {},
   "outputs": [
    {
     "data": {
      "text/plain": [
       "{'main': {'fr': 9.62,\n",
       "  'dxy': (1.0, 1.0),\n",
       "  'decay_time': 0.4,\n",
       "  'p': 2,\n",
       "  'nb': 1,\n",
       "  'rf': 40,\n",
       "  'K': 150,\n",
       "  'gSig': array([7.5, 7.5]),\n",
       "  'stride': 10,\n",
       "  'method_init': 'greedy_roi',\n",
       "  'rolling_sum': True,\n",
       "  'use_cnn': False,\n",
       "  'ssub': 1,\n",
       "  'tsub': 1,\n",
       "  'merge_thr': 0.8,\n",
       "  'bas_nonneg': True,\n",
       "  'min_SNR': 1.4,\n",
       "  'rval_thr': 0.8},\n",
       " 'refit': True}"
      ]
     },
     "execution_count": 36,
     "metadata": {},
     "output_type": "execute_result"
    }
   ],
   "source": [
    "cnmf_params_all = df.iloc[2].params\n",
    "cnmf_params_all"
   ]
  },
  {
   "cell_type": "code",
   "execution_count": 4,
   "id": "733bbc54",
   "metadata": {
    "ExecuteTime": {
     "end_time": "2024-10-02T13:49:05.595203Z",
     "start_time": "2024-10-02T13:49:05.575782Z"
    }
   },
   "outputs": [],
   "source": [
    "cnmf_batch = parent_path / 'results'\n",
    "cnmf_batch.mkdir(exist_ok=True, parents=True)"
   ]
  },
  {
   "cell_type": "code",
   "execution_count": 5,
   "id": "67e021f2",
   "metadata": {
    "ExecuteTime": {
     "end_time": "2024-10-02T13:49:14.147172Z",
     "start_time": "2024-10-02T13:49:14.118172Z"
    }
   },
   "outputs": [
    {
     "data": {
      "text/html": [
       "<div>\n",
       "<style scoped>\n",
       "    .dataframe tbody tr th:only-of-type {\n",
       "        vertical-align: middle;\n",
       "    }\n",
       "\n",
       "    .dataframe tbody tr th {\n",
       "        vertical-align: top;\n",
       "    }\n",
       "\n",
       "    .dataframe thead th {\n",
       "        text-align: right;\n",
       "    }\n",
       "</style>\n",
       "<table border=\"1\" class=\"dataframe\">\n",
       "  <thead>\n",
       "    <tr style=\"text-align: right;\">\n",
       "      <th></th>\n",
       "      <th>algo</th>\n",
       "      <th>item_name</th>\n",
       "      <th>input_movie_path</th>\n",
       "      <th>params</th>\n",
       "      <th>outputs</th>\n",
       "      <th>added_time</th>\n",
       "      <th>ran_time</th>\n",
       "      <th>algo_duration</th>\n",
       "      <th>comments</th>\n",
       "      <th>uuid</th>\n",
       "    </tr>\n",
       "  </thead>\n",
       "  <tbody>\n",
       "    <tr>\n",
       "      <th>0</th>\n",
       "      <td>cnmf</td>\n",
       "      <td>cnmf_1</td>\n",
       "      <td>tiff\\extracted_plane_1.tif</td>\n",
       "      <td>{'main': {'fr': 9.62, 'dxy': (1.0, 1.0), 'decay_time': 0.4, 'p': 2, 'nb': 1, 'rf': 40, 'K': 150, 'gSig': [7.5, 7.5],...</td>\n",
       "      <td>{'mean-projection-path': faeb27e8-40b9-4e5a-ad8c-b9cc73c03635\\faeb27e8-40b9-4e5a-ad8c-b9cc73c03635_mean_projection.n...</td>\n",
       "      <td>2024-10-01T16:34:44</td>\n",
       "      <td>2024-10-01T16:54:16</td>\n",
       "      <td>946.94 sec</td>\n",
       "      <td>None</td>\n",
       "      <td>faeb27e8-40b9-4e5a-ad8c-b9cc73c03635</td>\n",
       "    </tr>\n",
       "    <tr>\n",
       "      <th>1</th>\n",
       "      <td>cnmf</td>\n",
       "      <td>cnmf_1</td>\n",
       "      <td>tiff\\extracted_plane_2.tif</td>\n",
       "      <td>{'main': {'fr': 9.62, 'dxy': (1.0, 1.0), 'decay_time': 0.4, 'p': 2, 'nb': 1, 'rf': 40, 'K': 150, 'gSig': [7.5, 7.5],...</td>\n",
       "      <td>{'mean-projection-path': 89b676c7-9480-47d7-b190-e4bbc2a5decc\\89b676c7-9480-47d7-b190-e4bbc2a5decc_mean_projection.n...</td>\n",
       "      <td>2024-10-01T16:34:44</td>\n",
       "      <td>2024-10-01T17:10:06</td>\n",
       "      <td>949.6 sec</td>\n",
       "      <td>None</td>\n",
       "      <td>89b676c7-9480-47d7-b190-e4bbc2a5decc</td>\n",
       "    </tr>\n",
       "    <tr>\n",
       "      <th>2</th>\n",
       "      <td>cnmf</td>\n",
       "      <td>cnmf_1</td>\n",
       "      <td>tiff\\extracted_plane_3.tif</td>\n",
       "      <td>{'main': {'fr': 9.62, 'dxy': (1.0, 1.0), 'decay_time': 0.4, 'p': 2, 'nb': 1, 'rf': 40, 'K': 150, 'gSig': [7.5, 7.5],...</td>\n",
       "      <td>{'mean-projection-path': f03ead24-ab13-48e7-87c0-27d5940a7c91\\f03ead24-ab13-48e7-87c0-27d5940a7c91_mean_projection.n...</td>\n",
       "      <td>2024-10-01T16:34:44</td>\n",
       "      <td>2024-10-01T17:28:57</td>\n",
       "      <td>1131.04 sec</td>\n",
       "      <td>None</td>\n",
       "      <td>f03ead24-ab13-48e7-87c0-27d5940a7c91</td>\n",
       "    </tr>\n",
       "    <tr>\n",
       "      <th>3</th>\n",
       "      <td>cnmf</td>\n",
       "      <td>cnmf_1</td>\n",
       "      <td>tiff\\extracted_plane_4.tif</td>\n",
       "      <td>{'main': {'fr': 9.62, 'dxy': (1.0, 1.0), 'decay_time': 0.4, 'p': 2, 'nb': 1, 'rf': 40, 'K': 150, 'gSig': [7.5, 7.5],...</td>\n",
       "      <td>{'mean-projection-path': 585a0fc2-40d4-45f2-badf-ba13d5cc77a6\\585a0fc2-40d4-45f2-badf-ba13d5cc77a6_mean_projection.n...</td>\n",
       "      <td>2024-10-01T16:34:44</td>\n",
       "      <td>2024-10-01T17:51:18</td>\n",
       "      <td>1340.32 sec</td>\n",
       "      <td>None</td>\n",
       "      <td>585a0fc2-40d4-45f2-badf-ba13d5cc77a6</td>\n",
       "    </tr>\n",
       "    <tr>\n",
       "      <th>4</th>\n",
       "      <td>cnmf</td>\n",
       "      <td>cnmf_1</td>\n",
       "      <td>tiff\\extracted_plane_5.tif</td>\n",
       "      <td>{'main': {'fr': 9.62, 'dxy': (1.0, 1.0), 'decay_time': 0.4, 'p': 2, 'nb': 1, 'rf': 40, 'K': 150, 'gSig': [7.5, 7.5],...</td>\n",
       "      <td>{'mean-projection-path': 544c2a52-0b90-4b74-baae-b2ca913c7c2a\\544c2a52-0b90-4b74-baae-b2ca913c7c2a_mean_projection.n...</td>\n",
       "      <td>2024-10-01T16:34:44</td>\n",
       "      <td>2024-10-01T18:08:22</td>\n",
       "      <td>1024.35 sec</td>\n",
       "      <td>None</td>\n",
       "      <td>544c2a52-0b90-4b74-baae-b2ca913c7c2a</td>\n",
       "    </tr>\n",
       "    <tr>\n",
       "      <th>5</th>\n",
       "      <td>cnmf</td>\n",
       "      <td>cnmf_1</td>\n",
       "      <td>tiff\\extracted_plane_6.tif</td>\n",
       "      <td>{'main': {'fr': 9.62, 'dxy': (1.0, 1.0), 'decay_time': 0.4, 'p': 2, 'nb': 1, 'rf': 40, 'K': 150, 'gSig': [7.5, 7.5],...</td>\n",
       "      <td>{'mean-projection-path': d6c3f33c-2b90-4c6d-a4ad-f237dae5f73b\\d6c3f33c-2b90-4c6d-a4ad-f237dae5f73b_mean_projection.n...</td>\n",
       "      <td>2024-10-01T16:34:44</td>\n",
       "      <td>2024-10-01T18:24:00</td>\n",
       "      <td>937.73 sec</td>\n",
       "      <td>None</td>\n",
       "      <td>d6c3f33c-2b90-4c6d-a4ad-f237dae5f73b</td>\n",
       "    </tr>\n",
       "    <tr>\n",
       "      <th>6</th>\n",
       "      <td>cnmf</td>\n",
       "      <td>cnmf_1</td>\n",
       "      <td>tiff\\extracted_plane_7.tif</td>\n",
       "      <td>{'main': {'fr': 9.62, 'dxy': (1.0, 1.0), 'decay_time': 0.4, 'p': 2, 'nb': 1, 'rf': 40, 'K': 150, 'gSig': [7.5, 7.5],...</td>\n",
       "      <td>{'mean-projection-path': ca269a68-06d0-4f96-b508-87160fdf37ab\\ca269a68-06d0-4f96-b508-87160fdf37ab_mean_projection.n...</td>\n",
       "      <td>2024-10-01T16:34:44</td>\n",
       "      <td>2024-10-01T18:39:39</td>\n",
       "      <td>939.58 sec</td>\n",
       "      <td>None</td>\n",
       "      <td>ca269a68-06d0-4f96-b508-87160fdf37ab</td>\n",
       "    </tr>\n",
       "    <tr>\n",
       "      <th>7</th>\n",
       "      <td>cnmf</td>\n",
       "      <td>cnmf_1</td>\n",
       "      <td>tiff\\extracted_plane_8.tif</td>\n",
       "      <td>{'main': {'fr': 9.62, 'dxy': (1.0, 1.0), 'decay_time': 0.4, 'p': 2, 'nb': 1, 'rf': 40, 'K': 150, 'gSig': [7.5, 7.5],...</td>\n",
       "      <td>{'mean-projection-path': a9cb2077-073a-4552-9669-e53ba0c96803\\a9cb2077-073a-4552-9669-e53ba0c96803_mean_projection.n...</td>\n",
       "      <td>2024-10-01T16:34:44</td>\n",
       "      <td>2024-10-01T18:55:09</td>\n",
       "      <td>929.57 sec</td>\n",
       "      <td>None</td>\n",
       "      <td>a9cb2077-073a-4552-9669-e53ba0c96803</td>\n",
       "    </tr>\n",
       "    <tr>\n",
       "      <th>8</th>\n",
       "      <td>cnmf</td>\n",
       "      <td>cnmf_1</td>\n",
       "      <td>tiff\\extracted_plane_9.tif</td>\n",
       "      <td>{'main': {'fr': 9.62, 'dxy': (1.0, 1.0), 'decay_time': 0.4, 'p': 2, 'nb': 1, 'rf': 40, 'K': 150, 'gSig': [7.5, 7.5],...</td>\n",
       "      <td>{'mean-projection-path': c0205f69-ccb6-4304-9cee-18af09d11663\\c0205f69-ccb6-4304-9cee-18af09d11663_mean_projection.n...</td>\n",
       "      <td>2024-10-01T16:34:44</td>\n",
       "      <td>2024-10-01T19:10:49</td>\n",
       "      <td>940.35 sec</td>\n",
       "      <td>None</td>\n",
       "      <td>c0205f69-ccb6-4304-9cee-18af09d11663</td>\n",
       "    </tr>\n",
       "    <tr>\n",
       "      <th>9</th>\n",
       "      <td>cnmf</td>\n",
       "      <td>cnmf_1</td>\n",
       "      <td>tiff\\extracted_plane_10.tif</td>\n",
       "      <td>{'main': {'fr': 9.62, 'dxy': (1.0, 1.0), 'decay_time': 0.4, 'p': 2, 'nb': 1, 'rf': 40, 'K': 150, 'gSig': [7.5, 7.5],...</td>\n",
       "      <td>{'mean-projection-path': 1fac642d-6cef-4a68-9415-737213b4462d\\1fac642d-6cef-4a68-9415-737213b4462d_mean_projection.n...</td>\n",
       "      <td>2024-10-01T16:34:44</td>\n",
       "      <td>2024-10-01T19:28:15</td>\n",
       "      <td>1045.02 sec</td>\n",
       "      <td>None</td>\n",
       "      <td>1fac642d-6cef-4a68-9415-737213b4462d</td>\n",
       "    </tr>\n",
       "    <tr>\n",
       "      <th>10</th>\n",
       "      <td>cnmf</td>\n",
       "      <td>cnmf_1</td>\n",
       "      <td>tiff\\extracted_plane_11.tif</td>\n",
       "      <td>{'main': {'fr': 9.62, 'dxy': (1.0, 1.0), 'decay_time': 0.4, 'p': 2, 'nb': 1, 'rf': 40, 'K': 150, 'gSig': [7.5, 7.5],...</td>\n",
       "      <td>{'mean-projection-path': 97569a0f-b5c4-41b5-9268-b4ddeda9d740\\97569a0f-b5c4-41b5-9268-b4ddeda9d740_mean_projection.n...</td>\n",
       "      <td>2024-10-01T16:34:44</td>\n",
       "      <td>2024-10-01T19:45:46</td>\n",
       "      <td>1051.62 sec</td>\n",
       "      <td>None</td>\n",
       "      <td>97569a0f-b5c4-41b5-9268-b4ddeda9d740</td>\n",
       "    </tr>\n",
       "    <tr>\n",
       "      <th>11</th>\n",
       "      <td>cnmf</td>\n",
       "      <td>cnmf_1</td>\n",
       "      <td>tiff\\extracted_plane_12.tif</td>\n",
       "      <td>{'main': {'fr': 9.62, 'dxy': (1.0, 1.0), 'decay_time': 0.4, 'p': 2, 'nb': 1, 'rf': 40, 'K': 150, 'gSig': [7.5, 7.5],...</td>\n",
       "      <td>{'mean-projection-path': c2d0864d-1313-4ded-8b7f-4a7f02947b2d\\c2d0864d-1313-4ded-8b7f-4a7f02947b2d_mean_projection.n...</td>\n",
       "      <td>2024-10-01T16:34:44</td>\n",
       "      <td>2024-10-01T20:01:40</td>\n",
       "      <td>953.4 sec</td>\n",
       "      <td>None</td>\n",
       "      <td>c2d0864d-1313-4ded-8b7f-4a7f02947b2d</td>\n",
       "    </tr>\n",
       "    <tr>\n",
       "      <th>12</th>\n",
       "      <td>cnmf</td>\n",
       "      <td>cnmf_1</td>\n",
       "      <td>tiff\\extracted_plane_13.tif</td>\n",
       "      <td>{'main': {'fr': 9.62, 'dxy': (1.0, 1.0), 'decay_time': 0.4, 'p': 2, 'nb': 1, 'rf': 40, 'K': 150, 'gSig': [7.5, 7.5],...</td>\n",
       "      <td>{'mean-projection-path': 8301c084-fe7c-4e84-b8d7-db6fcc8893ed\\8301c084-fe7c-4e84-b8d7-db6fcc8893ed_mean_projection.n...</td>\n",
       "      <td>2024-10-01T16:34:44</td>\n",
       "      <td>2024-10-01T20:17:40</td>\n",
       "      <td>960.7 sec</td>\n",
       "      <td>None</td>\n",
       "      <td>8301c084-fe7c-4e84-b8d7-db6fcc8893ed</td>\n",
       "    </tr>\n",
       "    <tr>\n",
       "      <th>13</th>\n",
       "      <td>cnmf</td>\n",
       "      <td>cnmf_1</td>\n",
       "      <td>tiff\\extracted_plane_14.tif</td>\n",
       "      <td>{'main': {'fr': 9.62, 'dxy': (1.0, 1.0), 'decay_time': 0.4, 'p': 2, 'nb': 1, 'rf': 40, 'K': 150, 'gSig': [7.5, 7.5],...</td>\n",
       "      <td>{'mean-projection-path': 1eabd9f9-1a57-4c08-a830-9276371c00a9\\1eabd9f9-1a57-4c08-a830-9276371c00a9_mean_projection.n...</td>\n",
       "      <td>2024-10-01T16:34:44</td>\n",
       "      <td>2024-10-01T20:33:51</td>\n",
       "      <td>970.13 sec</td>\n",
       "      <td>None</td>\n",
       "      <td>1eabd9f9-1a57-4c08-a830-9276371c00a9</td>\n",
       "    </tr>\n",
       "    <tr>\n",
       "      <th>14</th>\n",
       "      <td>cnmf</td>\n",
       "      <td>cnmf_1</td>\n",
       "      <td>tiff\\extracted_plane_15.tif</td>\n",
       "      <td>{'main': {'fr': 9.62, 'dxy': (1.0, 1.0), 'decay_time': 0.4, 'p': 2, 'nb': 1, 'rf': 40, 'K': 150, 'gSig': [7.5, 7.5],...</td>\n",
       "      <td>{'mean-projection-path': 25be7a5b-dd16-42cd-bd4a-1312b4c6e791\\25be7a5b-dd16-42cd-bd4a-1312b4c6e791_mean_projection.n...</td>\n",
       "      <td>2024-10-01T16:34:44</td>\n",
       "      <td>2024-10-01T20:52:06</td>\n",
       "      <td>1095.19 sec</td>\n",
       "      <td>None</td>\n",
       "      <td>25be7a5b-dd16-42cd-bd4a-1312b4c6e791</td>\n",
       "    </tr>\n",
       "    <tr>\n",
       "      <th>15</th>\n",
       "      <td>cnmf</td>\n",
       "      <td>cnmf_1</td>\n",
       "      <td>tiff\\extracted_plane_16.tif</td>\n",
       "      <td>{'main': {'fr': 9.62, 'dxy': (1.0, 1.0), 'decay_time': 0.4, 'p': 2, 'nb': 1, 'rf': 40, 'K': 150, 'gSig': [7.5, 7.5],...</td>\n",
       "      <td>{'mean-projection-path': f87dc096-6bb2-40dd-8dff-20f1362423b0\\f87dc096-6bb2-40dd-8dff-20f1362423b0_mean_projection.n...</td>\n",
       "      <td>2024-10-01T16:34:44</td>\n",
       "      <td>2024-10-01T21:08:23</td>\n",
       "      <td>977.02 sec</td>\n",
       "      <td>None</td>\n",
       "      <td>f87dc096-6bb2-40dd-8dff-20f1362423b0</td>\n",
       "    </tr>\n",
       "    <tr>\n",
       "      <th>16</th>\n",
       "      <td>cnmf</td>\n",
       "      <td>cnmf_1</td>\n",
       "      <td>tiff\\extracted_plane_17.tif</td>\n",
       "      <td>{'main': {'fr': 9.62, 'dxy': (1.0, 1.0), 'decay_time': 0.4, 'p': 2, 'nb': 1, 'rf': 40, 'K': 150, 'gSig': [7.5, 7.5],...</td>\n",
       "      <td>{'mean-projection-path': 0e6f8223-3002-4430-a987-d83a6d7c7bd8\\0e6f8223-3002-4430-a987-d83a6d7c7bd8_mean_projection.n...</td>\n",
       "      <td>2024-10-01T16:34:44</td>\n",
       "      <td>2024-10-01T21:28:21</td>\n",
       "      <td>1197.8 sec</td>\n",
       "      <td>None</td>\n",
       "      <td>0e6f8223-3002-4430-a987-d83a6d7c7bd8</td>\n",
       "    </tr>\n",
       "    <tr>\n",
       "      <th>17</th>\n",
       "      <td>cnmf</td>\n",
       "      <td>cnmf_1</td>\n",
       "      <td>tiff\\extracted_plane_18.tif</td>\n",
       "      <td>{'main': {'fr': 9.62, 'dxy': (1.0, 1.0), 'decay_time': 0.4, 'p': 2, 'nb': 1, 'rf': 40, 'K': 150, 'gSig': [7.5, 7.5],...</td>\n",
       "      <td>{'mean-projection-path': 52ab80e3-880f-4ae5-bd38-711c0138ebe2\\52ab80e3-880f-4ae5-bd38-711c0138ebe2_mean_projection.n...</td>\n",
       "      <td>2024-10-01T16:34:44</td>\n",
       "      <td>2024-10-01T21:46:45</td>\n",
       "      <td>1104.12 sec</td>\n",
       "      <td>None</td>\n",
       "      <td>52ab80e3-880f-4ae5-bd38-711c0138ebe2</td>\n",
       "    </tr>\n",
       "    <tr>\n",
       "      <th>18</th>\n",
       "      <td>cnmf</td>\n",
       "      <td>cnmf_1</td>\n",
       "      <td>tiff\\extracted_plane_19.tif</td>\n",
       "      <td>{'main': {'fr': 9.62, 'dxy': (1.0, 1.0), 'decay_time': 0.4, 'p': 2, 'nb': 1, 'rf': 40, 'K': 150, 'gSig': [7.5, 7.5],...</td>\n",
       "      <td>{'mean-projection-path': 65c8dfa4-2a65-4618-8240-7f08fccce4ad\\65c8dfa4-2a65-4618-8240-7f08fccce4ad_mean_projection.n...</td>\n",
       "      <td>2024-10-01T16:34:44</td>\n",
       "      <td>2024-10-01T22:05:32</td>\n",
       "      <td>1126.88 sec</td>\n",
       "      <td>None</td>\n",
       "      <td>65c8dfa4-2a65-4618-8240-7f08fccce4ad</td>\n",
       "    </tr>\n",
       "    <tr>\n",
       "      <th>19</th>\n",
       "      <td>cnmf</td>\n",
       "      <td>cnmf_1</td>\n",
       "      <td>tiff\\extracted_plane_20.tif</td>\n",
       "      <td>{'main': {'fr': 9.62, 'dxy': (1.0, 1.0), 'decay_time': 0.4, 'p': 2, 'nb': 1, 'rf': 40, 'K': 150, 'gSig': [7.5, 7.5],...</td>\n",
       "      <td>{'mean-projection-path': 473b088b-1b8e-4ecb-97e2-75eb299851b2\\473b088b-1b8e-4ecb-97e2-75eb299851b2_mean_projection.n...</td>\n",
       "      <td>2024-10-01T16:34:44</td>\n",
       "      <td>2024-10-01T22:23:00</td>\n",
       "      <td>1048.28 sec</td>\n",
       "      <td>None</td>\n",
       "      <td>473b088b-1b8e-4ecb-97e2-75eb299851b2</td>\n",
       "    </tr>\n",
       "    <tr>\n",
       "      <th>20</th>\n",
       "      <td>cnmf</td>\n",
       "      <td>cnmf_1</td>\n",
       "      <td>tiff\\extracted_plane_21.tif</td>\n",
       "      <td>{'main': {'fr': 9.62, 'dxy': (1.0, 1.0), 'decay_time': 0.4, 'p': 2, 'nb': 1, 'rf': 40, 'K': 150, 'gSig': [7.5, 7.5],...</td>\n",
       "      <td>{'mean-projection-path': 60d2fc66-20a9-4f00-b6f7-b9e80440efe7\\60d2fc66-20a9-4f00-b6f7-b9e80440efe7_mean_projection.n...</td>\n",
       "      <td>2024-10-01T16:34:44</td>\n",
       "      <td>2024-10-01T22:41:10</td>\n",
       "      <td>1090.04 sec</td>\n",
       "      <td>None</td>\n",
       "      <td>60d2fc66-20a9-4f00-b6f7-b9e80440efe7</td>\n",
       "    </tr>\n",
       "    <tr>\n",
       "      <th>21</th>\n",
       "      <td>cnmf</td>\n",
       "      <td>cnmf_1</td>\n",
       "      <td>tiff\\extracted_plane_22.tif</td>\n",
       "      <td>{'main': {'fr': 9.62, 'dxy': (1.0, 1.0), 'decay_time': 0.4, 'p': 2, 'nb': 1, 'rf': 40, 'K': 150, 'gSig': [7.5, 7.5],...</td>\n",
       "      <td>{'mean-projection-path': 8926526d-cc18-47e2-b599-1496b2c9f03e\\8926526d-cc18-47e2-b599-1496b2c9f03e_mean_projection.n...</td>\n",
       "      <td>2024-10-01T16:34:44</td>\n",
       "      <td>2024-10-01T23:01:26</td>\n",
       "      <td>1215.23 sec</td>\n",
       "      <td>None</td>\n",
       "      <td>8926526d-cc18-47e2-b599-1496b2c9f03e</td>\n",
       "    </tr>\n",
       "    <tr>\n",
       "      <th>22</th>\n",
       "      <td>cnmf</td>\n",
       "      <td>cnmf_1</td>\n",
       "      <td>tiff\\extracted_plane_23.tif</td>\n",
       "      <td>{'main': {'fr': 9.62, 'dxy': (1.0, 1.0), 'decay_time': 0.4, 'p': 2, 'nb': 1, 'rf': 40, 'K': 150, 'gSig': [7.5, 7.5],...</td>\n",
       "      <td>{'mean-projection-path': f2b1c811-e02a-4058-a15b-861ee1128793\\f2b1c811-e02a-4058-a15b-861ee1128793_mean_projection.n...</td>\n",
       "      <td>2024-10-01T16:34:44</td>\n",
       "      <td>2024-10-01T23:20:00</td>\n",
       "      <td>1114.08 sec</td>\n",
       "      <td>None</td>\n",
       "      <td>f2b1c811-e02a-4058-a15b-861ee1128793</td>\n",
       "    </tr>\n",
       "    <tr>\n",
       "      <th>23</th>\n",
       "      <td>cnmf</td>\n",
       "      <td>cnmf_1</td>\n",
       "      <td>tiff\\extracted_plane_24.tif</td>\n",
       "      <td>{'main': {'fr': 9.62, 'dxy': (1.0, 1.0), 'decay_time': 0.4, 'p': 2, 'nb': 1, 'rf': 40, 'K': 150, 'gSig': [7.5, 7.5],...</td>\n",
       "      <td>{'mean-projection-path': 5c9bd42e-fb07-43f0-a18d-0b9e516db4ec\\5c9bd42e-fb07-43f0-a18d-0b9e516db4ec_mean_projection.n...</td>\n",
       "      <td>2024-10-01T16:34:44</td>\n",
       "      <td>2024-10-01T23:38:35</td>\n",
       "      <td>1114.86 sec</td>\n",
       "      <td>None</td>\n",
       "      <td>5c9bd42e-fb07-43f0-a18d-0b9e516db4ec</td>\n",
       "    </tr>\n",
       "    <tr>\n",
       "      <th>24</th>\n",
       "      <td>cnmf</td>\n",
       "      <td>cnmf_1</td>\n",
       "      <td>tiff\\extracted_plane_25.tif</td>\n",
       "      <td>{'main': {'fr': 9.62, 'dxy': (1.0, 1.0), 'decay_time': 0.4, 'p': 2, 'nb': 1, 'rf': 40, 'K': 150, 'gSig': [7.5, 7.5],...</td>\n",
       "      <td>{'mean-projection-path': 84004c56-81c1-474b-ab38-327fbf79bf8c\\84004c56-81c1-474b-ab38-327fbf79bf8c_mean_projection.n...</td>\n",
       "      <td>2024-10-01T16:34:44</td>\n",
       "      <td>2024-10-01T23:57:28</td>\n",
       "      <td>1132.94 sec</td>\n",
       "      <td>None</td>\n",
       "      <td>84004c56-81c1-474b-ab38-327fbf79bf8c</td>\n",
       "    </tr>\n",
       "    <tr>\n",
       "      <th>25</th>\n",
       "      <td>cnmf</td>\n",
       "      <td>cnmf_1</td>\n",
       "      <td>tiff\\extracted_plane_26.tif</td>\n",
       "      <td>{'main': {'fr': 9.62, 'dxy': (1.0, 1.0), 'decay_time': 0.4, 'p': 2, 'nb': 1, 'rf': 40, 'K': 150, 'gSig': [7.5, 7.5],...</td>\n",
       "      <td>{'mean-projection-path': 23521021-6791-4d41-855d-779eefce6840\\23521021-6791-4d41-855d-779eefce6840_mean_projection.n...</td>\n",
       "      <td>2024-10-01T16:34:44</td>\n",
       "      <td>2024-10-02T00:14:28</td>\n",
       "      <td>1019.75 sec</td>\n",
       "      <td>None</td>\n",
       "      <td>23521021-6791-4d41-855d-779eefce6840</td>\n",
       "    </tr>\n",
       "    <tr>\n",
       "      <th>26</th>\n",
       "      <td>cnmf</td>\n",
       "      <td>cnmf_1</td>\n",
       "      <td>tiff\\extracted_plane_27.tif</td>\n",
       "      <td>{'main': {'fr': 9.62, 'dxy': (1.0, 1.0), 'decay_time': 0.4, 'p': 2, 'nb': 1, 'rf': 40, 'K': 150, 'gSig': [7.5, 7.5],...</td>\n",
       "      <td>{'mean-projection-path': 07907a0b-b138-41e3-99a7-f7153738a640\\07907a0b-b138-41e3-99a7-f7153738a640_mean_projection.n...</td>\n",
       "      <td>2024-10-01T16:34:44</td>\n",
       "      <td>2024-10-02T00:34:07</td>\n",
       "      <td>1179.51 sec</td>\n",
       "      <td>None</td>\n",
       "      <td>07907a0b-b138-41e3-99a7-f7153738a640</td>\n",
       "    </tr>\n",
       "    <tr>\n",
       "      <th>27</th>\n",
       "      <td>cnmf</td>\n",
       "      <td>cnmf_1</td>\n",
       "      <td>tiff\\extracted_plane_28.tif</td>\n",
       "      <td>{'main': {'fr': 9.62, 'dxy': (1.0, 1.0), 'decay_time': 0.4, 'p': 2, 'nb': 1, 'rf': 40, 'K': 150, 'gSig': [7.5, 7.5],...</td>\n",
       "      <td>{'mean-projection-path': 8b7cbfb4-7c62-4780-a90c-5275cbe1f318\\8b7cbfb4-7c62-4780-a90c-5275cbe1f318_mean_projection.n...</td>\n",
       "      <td>2024-10-01T16:34:44</td>\n",
       "      <td>2024-10-02T00:49:55</td>\n",
       "      <td>947.96 sec</td>\n",
       "      <td>None</td>\n",
       "      <td>8b7cbfb4-7c62-4780-a90c-5275cbe1f318</td>\n",
       "    </tr>\n",
       "  </tbody>\n",
       "</table>\n",
       "</div>"
      ],
      "text/plain": [
       "    algo item_name             input_movie_path  \\\n",
       "0   cnmf    cnmf_1   tiff\\extracted_plane_1.tif   \n",
       "1   cnmf    cnmf_1   tiff\\extracted_plane_2.tif   \n",
       "2   cnmf    cnmf_1   tiff\\extracted_plane_3.tif   \n",
       "3   cnmf    cnmf_1   tiff\\extracted_plane_4.tif   \n",
       "4   cnmf    cnmf_1   tiff\\extracted_plane_5.tif   \n",
       "5   cnmf    cnmf_1   tiff\\extracted_plane_6.tif   \n",
       "6   cnmf    cnmf_1   tiff\\extracted_plane_7.tif   \n",
       "7   cnmf    cnmf_1   tiff\\extracted_plane_8.tif   \n",
       "8   cnmf    cnmf_1   tiff\\extracted_plane_9.tif   \n",
       "9   cnmf    cnmf_1  tiff\\extracted_plane_10.tif   \n",
       "10  cnmf    cnmf_1  tiff\\extracted_plane_11.tif   \n",
       "11  cnmf    cnmf_1  tiff\\extracted_plane_12.tif   \n",
       "12  cnmf    cnmf_1  tiff\\extracted_plane_13.tif   \n",
       "13  cnmf    cnmf_1  tiff\\extracted_plane_14.tif   \n",
       "14  cnmf    cnmf_1  tiff\\extracted_plane_15.tif   \n",
       "15  cnmf    cnmf_1  tiff\\extracted_plane_16.tif   \n",
       "16  cnmf    cnmf_1  tiff\\extracted_plane_17.tif   \n",
       "17  cnmf    cnmf_1  tiff\\extracted_plane_18.tif   \n",
       "18  cnmf    cnmf_1  tiff\\extracted_plane_19.tif   \n",
       "19  cnmf    cnmf_1  tiff\\extracted_plane_20.tif   \n",
       "20  cnmf    cnmf_1  tiff\\extracted_plane_21.tif   \n",
       "21  cnmf    cnmf_1  tiff\\extracted_plane_22.tif   \n",
       "22  cnmf    cnmf_1  tiff\\extracted_plane_23.tif   \n",
       "23  cnmf    cnmf_1  tiff\\extracted_plane_24.tif   \n",
       "24  cnmf    cnmf_1  tiff\\extracted_plane_25.tif   \n",
       "25  cnmf    cnmf_1  tiff\\extracted_plane_26.tif   \n",
       "26  cnmf    cnmf_1  tiff\\extracted_plane_27.tif   \n",
       "27  cnmf    cnmf_1  tiff\\extracted_plane_28.tif   \n",
       "\n",
       "                                                                                                                     params  \\\n",
       "0   {'main': {'fr': 9.62, 'dxy': (1.0, 1.0), 'decay_time': 0.4, 'p': 2, 'nb': 1, 'rf': 40, 'K': 150, 'gSig': [7.5, 7.5],...   \n",
       "1   {'main': {'fr': 9.62, 'dxy': (1.0, 1.0), 'decay_time': 0.4, 'p': 2, 'nb': 1, 'rf': 40, 'K': 150, 'gSig': [7.5, 7.5],...   \n",
       "2   {'main': {'fr': 9.62, 'dxy': (1.0, 1.0), 'decay_time': 0.4, 'p': 2, 'nb': 1, 'rf': 40, 'K': 150, 'gSig': [7.5, 7.5],...   \n",
       "3   {'main': {'fr': 9.62, 'dxy': (1.0, 1.0), 'decay_time': 0.4, 'p': 2, 'nb': 1, 'rf': 40, 'K': 150, 'gSig': [7.5, 7.5],...   \n",
       "4   {'main': {'fr': 9.62, 'dxy': (1.0, 1.0), 'decay_time': 0.4, 'p': 2, 'nb': 1, 'rf': 40, 'K': 150, 'gSig': [7.5, 7.5],...   \n",
       "5   {'main': {'fr': 9.62, 'dxy': (1.0, 1.0), 'decay_time': 0.4, 'p': 2, 'nb': 1, 'rf': 40, 'K': 150, 'gSig': [7.5, 7.5],...   \n",
       "6   {'main': {'fr': 9.62, 'dxy': (1.0, 1.0), 'decay_time': 0.4, 'p': 2, 'nb': 1, 'rf': 40, 'K': 150, 'gSig': [7.5, 7.5],...   \n",
       "7   {'main': {'fr': 9.62, 'dxy': (1.0, 1.0), 'decay_time': 0.4, 'p': 2, 'nb': 1, 'rf': 40, 'K': 150, 'gSig': [7.5, 7.5],...   \n",
       "8   {'main': {'fr': 9.62, 'dxy': (1.0, 1.0), 'decay_time': 0.4, 'p': 2, 'nb': 1, 'rf': 40, 'K': 150, 'gSig': [7.5, 7.5],...   \n",
       "9   {'main': {'fr': 9.62, 'dxy': (1.0, 1.0), 'decay_time': 0.4, 'p': 2, 'nb': 1, 'rf': 40, 'K': 150, 'gSig': [7.5, 7.5],...   \n",
       "10  {'main': {'fr': 9.62, 'dxy': (1.0, 1.0), 'decay_time': 0.4, 'p': 2, 'nb': 1, 'rf': 40, 'K': 150, 'gSig': [7.5, 7.5],...   \n",
       "11  {'main': {'fr': 9.62, 'dxy': (1.0, 1.0), 'decay_time': 0.4, 'p': 2, 'nb': 1, 'rf': 40, 'K': 150, 'gSig': [7.5, 7.5],...   \n",
       "12  {'main': {'fr': 9.62, 'dxy': (1.0, 1.0), 'decay_time': 0.4, 'p': 2, 'nb': 1, 'rf': 40, 'K': 150, 'gSig': [7.5, 7.5],...   \n",
       "13  {'main': {'fr': 9.62, 'dxy': (1.0, 1.0), 'decay_time': 0.4, 'p': 2, 'nb': 1, 'rf': 40, 'K': 150, 'gSig': [7.5, 7.5],...   \n",
       "14  {'main': {'fr': 9.62, 'dxy': (1.0, 1.0), 'decay_time': 0.4, 'p': 2, 'nb': 1, 'rf': 40, 'K': 150, 'gSig': [7.5, 7.5],...   \n",
       "15  {'main': {'fr': 9.62, 'dxy': (1.0, 1.0), 'decay_time': 0.4, 'p': 2, 'nb': 1, 'rf': 40, 'K': 150, 'gSig': [7.5, 7.5],...   \n",
       "16  {'main': {'fr': 9.62, 'dxy': (1.0, 1.0), 'decay_time': 0.4, 'p': 2, 'nb': 1, 'rf': 40, 'K': 150, 'gSig': [7.5, 7.5],...   \n",
       "17  {'main': {'fr': 9.62, 'dxy': (1.0, 1.0), 'decay_time': 0.4, 'p': 2, 'nb': 1, 'rf': 40, 'K': 150, 'gSig': [7.5, 7.5],...   \n",
       "18  {'main': {'fr': 9.62, 'dxy': (1.0, 1.0), 'decay_time': 0.4, 'p': 2, 'nb': 1, 'rf': 40, 'K': 150, 'gSig': [7.5, 7.5],...   \n",
       "19  {'main': {'fr': 9.62, 'dxy': (1.0, 1.0), 'decay_time': 0.4, 'p': 2, 'nb': 1, 'rf': 40, 'K': 150, 'gSig': [7.5, 7.5],...   \n",
       "20  {'main': {'fr': 9.62, 'dxy': (1.0, 1.0), 'decay_time': 0.4, 'p': 2, 'nb': 1, 'rf': 40, 'K': 150, 'gSig': [7.5, 7.5],...   \n",
       "21  {'main': {'fr': 9.62, 'dxy': (1.0, 1.0), 'decay_time': 0.4, 'p': 2, 'nb': 1, 'rf': 40, 'K': 150, 'gSig': [7.5, 7.5],...   \n",
       "22  {'main': {'fr': 9.62, 'dxy': (1.0, 1.0), 'decay_time': 0.4, 'p': 2, 'nb': 1, 'rf': 40, 'K': 150, 'gSig': [7.5, 7.5],...   \n",
       "23  {'main': {'fr': 9.62, 'dxy': (1.0, 1.0), 'decay_time': 0.4, 'p': 2, 'nb': 1, 'rf': 40, 'K': 150, 'gSig': [7.5, 7.5],...   \n",
       "24  {'main': {'fr': 9.62, 'dxy': (1.0, 1.0), 'decay_time': 0.4, 'p': 2, 'nb': 1, 'rf': 40, 'K': 150, 'gSig': [7.5, 7.5],...   \n",
       "25  {'main': {'fr': 9.62, 'dxy': (1.0, 1.0), 'decay_time': 0.4, 'p': 2, 'nb': 1, 'rf': 40, 'K': 150, 'gSig': [7.5, 7.5],...   \n",
       "26  {'main': {'fr': 9.62, 'dxy': (1.0, 1.0), 'decay_time': 0.4, 'p': 2, 'nb': 1, 'rf': 40, 'K': 150, 'gSig': [7.5, 7.5],...   \n",
       "27  {'main': {'fr': 9.62, 'dxy': (1.0, 1.0), 'decay_time': 0.4, 'p': 2, 'nb': 1, 'rf': 40, 'K': 150, 'gSig': [7.5, 7.5],...   \n",
       "\n",
       "                                                                                                                    outputs  \\\n",
       "0   {'mean-projection-path': faeb27e8-40b9-4e5a-ad8c-b9cc73c03635\\faeb27e8-40b9-4e5a-ad8c-b9cc73c03635_mean_projection.n...   \n",
       "1   {'mean-projection-path': 89b676c7-9480-47d7-b190-e4bbc2a5decc\\89b676c7-9480-47d7-b190-e4bbc2a5decc_mean_projection.n...   \n",
       "2   {'mean-projection-path': f03ead24-ab13-48e7-87c0-27d5940a7c91\\f03ead24-ab13-48e7-87c0-27d5940a7c91_mean_projection.n...   \n",
       "3   {'mean-projection-path': 585a0fc2-40d4-45f2-badf-ba13d5cc77a6\\585a0fc2-40d4-45f2-badf-ba13d5cc77a6_mean_projection.n...   \n",
       "4   {'mean-projection-path': 544c2a52-0b90-4b74-baae-b2ca913c7c2a\\544c2a52-0b90-4b74-baae-b2ca913c7c2a_mean_projection.n...   \n",
       "5   {'mean-projection-path': d6c3f33c-2b90-4c6d-a4ad-f237dae5f73b\\d6c3f33c-2b90-4c6d-a4ad-f237dae5f73b_mean_projection.n...   \n",
       "6   {'mean-projection-path': ca269a68-06d0-4f96-b508-87160fdf37ab\\ca269a68-06d0-4f96-b508-87160fdf37ab_mean_projection.n...   \n",
       "7   {'mean-projection-path': a9cb2077-073a-4552-9669-e53ba0c96803\\a9cb2077-073a-4552-9669-e53ba0c96803_mean_projection.n...   \n",
       "8   {'mean-projection-path': c0205f69-ccb6-4304-9cee-18af09d11663\\c0205f69-ccb6-4304-9cee-18af09d11663_mean_projection.n...   \n",
       "9   {'mean-projection-path': 1fac642d-6cef-4a68-9415-737213b4462d\\1fac642d-6cef-4a68-9415-737213b4462d_mean_projection.n...   \n",
       "10  {'mean-projection-path': 97569a0f-b5c4-41b5-9268-b4ddeda9d740\\97569a0f-b5c4-41b5-9268-b4ddeda9d740_mean_projection.n...   \n",
       "11  {'mean-projection-path': c2d0864d-1313-4ded-8b7f-4a7f02947b2d\\c2d0864d-1313-4ded-8b7f-4a7f02947b2d_mean_projection.n...   \n",
       "12  {'mean-projection-path': 8301c084-fe7c-4e84-b8d7-db6fcc8893ed\\8301c084-fe7c-4e84-b8d7-db6fcc8893ed_mean_projection.n...   \n",
       "13  {'mean-projection-path': 1eabd9f9-1a57-4c08-a830-9276371c00a9\\1eabd9f9-1a57-4c08-a830-9276371c00a9_mean_projection.n...   \n",
       "14  {'mean-projection-path': 25be7a5b-dd16-42cd-bd4a-1312b4c6e791\\25be7a5b-dd16-42cd-bd4a-1312b4c6e791_mean_projection.n...   \n",
       "15  {'mean-projection-path': f87dc096-6bb2-40dd-8dff-20f1362423b0\\f87dc096-6bb2-40dd-8dff-20f1362423b0_mean_projection.n...   \n",
       "16  {'mean-projection-path': 0e6f8223-3002-4430-a987-d83a6d7c7bd8\\0e6f8223-3002-4430-a987-d83a6d7c7bd8_mean_projection.n...   \n",
       "17  {'mean-projection-path': 52ab80e3-880f-4ae5-bd38-711c0138ebe2\\52ab80e3-880f-4ae5-bd38-711c0138ebe2_mean_projection.n...   \n",
       "18  {'mean-projection-path': 65c8dfa4-2a65-4618-8240-7f08fccce4ad\\65c8dfa4-2a65-4618-8240-7f08fccce4ad_mean_projection.n...   \n",
       "19  {'mean-projection-path': 473b088b-1b8e-4ecb-97e2-75eb299851b2\\473b088b-1b8e-4ecb-97e2-75eb299851b2_mean_projection.n...   \n",
       "20  {'mean-projection-path': 60d2fc66-20a9-4f00-b6f7-b9e80440efe7\\60d2fc66-20a9-4f00-b6f7-b9e80440efe7_mean_projection.n...   \n",
       "21  {'mean-projection-path': 8926526d-cc18-47e2-b599-1496b2c9f03e\\8926526d-cc18-47e2-b599-1496b2c9f03e_mean_projection.n...   \n",
       "22  {'mean-projection-path': f2b1c811-e02a-4058-a15b-861ee1128793\\f2b1c811-e02a-4058-a15b-861ee1128793_mean_projection.n...   \n",
       "23  {'mean-projection-path': 5c9bd42e-fb07-43f0-a18d-0b9e516db4ec\\5c9bd42e-fb07-43f0-a18d-0b9e516db4ec_mean_projection.n...   \n",
       "24  {'mean-projection-path': 84004c56-81c1-474b-ab38-327fbf79bf8c\\84004c56-81c1-474b-ab38-327fbf79bf8c_mean_projection.n...   \n",
       "25  {'mean-projection-path': 23521021-6791-4d41-855d-779eefce6840\\23521021-6791-4d41-855d-779eefce6840_mean_projection.n...   \n",
       "26  {'mean-projection-path': 07907a0b-b138-41e3-99a7-f7153738a640\\07907a0b-b138-41e3-99a7-f7153738a640_mean_projection.n...   \n",
       "27  {'mean-projection-path': 8b7cbfb4-7c62-4780-a90c-5275cbe1f318\\8b7cbfb4-7c62-4780-a90c-5275cbe1f318_mean_projection.n...   \n",
       "\n",
       "             added_time             ran_time algo_duration comments  \\\n",
       "0   2024-10-01T16:34:44  2024-10-01T16:54:16    946.94 sec     None   \n",
       "1   2024-10-01T16:34:44  2024-10-01T17:10:06     949.6 sec     None   \n",
       "2   2024-10-01T16:34:44  2024-10-01T17:28:57   1131.04 sec     None   \n",
       "3   2024-10-01T16:34:44  2024-10-01T17:51:18   1340.32 sec     None   \n",
       "4   2024-10-01T16:34:44  2024-10-01T18:08:22   1024.35 sec     None   \n",
       "5   2024-10-01T16:34:44  2024-10-01T18:24:00    937.73 sec     None   \n",
       "6   2024-10-01T16:34:44  2024-10-01T18:39:39    939.58 sec     None   \n",
       "7   2024-10-01T16:34:44  2024-10-01T18:55:09    929.57 sec     None   \n",
       "8   2024-10-01T16:34:44  2024-10-01T19:10:49    940.35 sec     None   \n",
       "9   2024-10-01T16:34:44  2024-10-01T19:28:15   1045.02 sec     None   \n",
       "10  2024-10-01T16:34:44  2024-10-01T19:45:46   1051.62 sec     None   \n",
       "11  2024-10-01T16:34:44  2024-10-01T20:01:40     953.4 sec     None   \n",
       "12  2024-10-01T16:34:44  2024-10-01T20:17:40     960.7 sec     None   \n",
       "13  2024-10-01T16:34:44  2024-10-01T20:33:51    970.13 sec     None   \n",
       "14  2024-10-01T16:34:44  2024-10-01T20:52:06   1095.19 sec     None   \n",
       "15  2024-10-01T16:34:44  2024-10-01T21:08:23    977.02 sec     None   \n",
       "16  2024-10-01T16:34:44  2024-10-01T21:28:21    1197.8 sec     None   \n",
       "17  2024-10-01T16:34:44  2024-10-01T21:46:45   1104.12 sec     None   \n",
       "18  2024-10-01T16:34:44  2024-10-01T22:05:32   1126.88 sec     None   \n",
       "19  2024-10-01T16:34:44  2024-10-01T22:23:00   1048.28 sec     None   \n",
       "20  2024-10-01T16:34:44  2024-10-01T22:41:10   1090.04 sec     None   \n",
       "21  2024-10-01T16:34:44  2024-10-01T23:01:26   1215.23 sec     None   \n",
       "22  2024-10-01T16:34:44  2024-10-01T23:20:00   1114.08 sec     None   \n",
       "23  2024-10-01T16:34:44  2024-10-01T23:38:35   1114.86 sec     None   \n",
       "24  2024-10-01T16:34:44  2024-10-01T23:57:28   1132.94 sec     None   \n",
       "25  2024-10-01T16:34:44  2024-10-02T00:14:28   1019.75 sec     None   \n",
       "26  2024-10-01T16:34:44  2024-10-02T00:34:07   1179.51 sec     None   \n",
       "27  2024-10-01T16:34:44  2024-10-02T00:49:55    947.96 sec     None   \n",
       "\n",
       "                                    uuid  \n",
       "0   faeb27e8-40b9-4e5a-ad8c-b9cc73c03635  \n",
       "1   89b676c7-9480-47d7-b190-e4bbc2a5decc  \n",
       "2   f03ead24-ab13-48e7-87c0-27d5940a7c91  \n",
       "3   585a0fc2-40d4-45f2-badf-ba13d5cc77a6  \n",
       "4   544c2a52-0b90-4b74-baae-b2ca913c7c2a  \n",
       "5   d6c3f33c-2b90-4c6d-a4ad-f237dae5f73b  \n",
       "6   ca269a68-06d0-4f96-b508-87160fdf37ab  \n",
       "7   a9cb2077-073a-4552-9669-e53ba0c96803  \n",
       "8   c0205f69-ccb6-4304-9cee-18af09d11663  \n",
       "9   1fac642d-6cef-4a68-9415-737213b4462d  \n",
       "10  97569a0f-b5c4-41b5-9268-b4ddeda9d740  \n",
       "11  c2d0864d-1313-4ded-8b7f-4a7f02947b2d  \n",
       "12  8301c084-fe7c-4e84-b8d7-db6fcc8893ed  \n",
       "13  1eabd9f9-1a57-4c08-a830-9276371c00a9  \n",
       "14  25be7a5b-dd16-42cd-bd4a-1312b4c6e791  \n",
       "15  f87dc096-6bb2-40dd-8dff-20f1362423b0  \n",
       "16  0e6f8223-3002-4430-a987-d83a6d7c7bd8  \n",
       "17  52ab80e3-880f-4ae5-bd38-711c0138ebe2  \n",
       "18  65c8dfa4-2a65-4618-8240-7f08fccce4ad  \n",
       "19  473b088b-1b8e-4ecb-97e2-75eb299851b2  \n",
       "20  60d2fc66-20a9-4f00-b6f7-b9e80440efe7  \n",
       "21  8926526d-cc18-47e2-b599-1496b2c9f03e  \n",
       "22  f2b1c811-e02a-4058-a15b-861ee1128793  \n",
       "23  5c9bd42e-fb07-43f0-a18d-0b9e516db4ec  \n",
       "24  84004c56-81c1-474b-ab38-327fbf79bf8c  \n",
       "25  23521021-6791-4d41-855d-779eefce6840  \n",
       "26  07907a0b-b138-41e3-99a7-f7153738a640  \n",
       "27  8b7cbfb4-7c62-4780-a90c-5275cbe1f318  "
      ]
     },
     "execution_count": 5,
     "metadata": {},
     "output_type": "execute_result"
    }
   ],
   "source": [
    "cnmf_batch = mc.load_batch(cnmf_batch / 'cnmf_batch.pickle')\n",
    "cnmf_batch"
   ]
  },
  {
   "cell_type": "code",
   "execution_count": 37,
   "id": "5f386095",
   "metadata": {},
   "outputs": [],
   "source": [
    "for i in range(1, 31):\n",
    "    item_name_str = df.iloc[i]['item_name']\n",
    "    if 'plane' in item_name_str:\n",
    "\n",
    "        filename = f'extracted_{item_name_str}.tif'\n",
    "        filepath = parent_path / 'tiff' / filename\n",
    "        # find output that matches item_name_str\n",
    "        cnmf_batch.caiman.add_item(\n",
    "            algo='cnmf',\n",
    "            input_movie_path=filepath,\n",
    "            params=cnmf_params_all,\n",
    "            item_name=f'cnmf_1',\n",
    "        )"
   ]
  },
  {
   "cell_type": "code",
   "execution_count": 1,
   "id": "64567e6e",
   "metadata": {
    "ExecuteTime": {
     "end_time": "2024-10-02T13:48:14.740098Z",
     "start_time": "2024-10-02T13:48:14.542099Z"
    }
   },
   "outputs": [
    {
     "ename": "NameError",
     "evalue": "name 'cnmf_batch' is not defined",
     "output_type": "error",
     "traceback": [
      "\u001B[1;31m---------------------------------------------------------------------------\u001B[0m",
      "\u001B[1;31mNameError\u001B[0m                                 Traceback (most recent call last)",
      "Cell \u001B[1;32mIn[1], line 1\u001B[0m\n\u001B[1;32m----> 1\u001B[0m cnmf_batch \u001B[38;5;241m=\u001B[39m \u001B[43mcnmf_batch\u001B[49m\u001B[38;5;241m.\u001B[39mcaiman\u001B[38;5;241m.\u001B[39mreload_from_disk()\n\u001B[0;32m      2\u001B[0m cnmf_batch\n",
      "\u001B[1;31mNameError\u001B[0m: name 'cnmf_batch' is not defined"
     ]
    }
   ],
   "source": [
    "cnmf_batch = cnmf_batch.caiman.reload_from_disk()\n",
    "cnmf_batch"
   ]
  },
  {
   "cell_type": "code",
   "execution_count": 40,
   "id": "fba1aa92",
   "metadata": {
    "ExecuteTime": {
     "end_time": "2024-10-01T20:08:38.113535Z",
     "start_time": "2024-10-01T20:08:37.924535Z"
    }
   },
   "outputs": [
    {
     "name": "stdout",
     "output_type": "stream",
     "text": [
      "Running faeb27e8-40b9-4e5a-ad8c-b9cc73c03635 with local backend\n",
      "************************************************************************\n",
      "\n",
      "Starting CNMF item:\n",
      "algo                                                                                                                                   cnmf\n",
      "item_name                                                                                                                            cnmf_1\n",
      "input_movie_path                                                                                                 tiff\\extracted_plane_1.tif\n",
      "params              {'main': {'fr': 9.62, 'dxy': (1.0, 1.0), 'decay_time': 0.4, 'p': 2, 'nb': 1, 'rf': 40, 'K': 150, 'gSig': [7.5, 7.5],...\n",
      "outputs                                                                                                                                None\n",
      "added_time                                                                                                              2024-10-01T16:34:44\n",
      "ran_time                                                                                                                               None\n",
      "algo_duration                                                                                                                          None\n",
      "comments                                                                                                                               None\n",
      "uuid                                                                                                   faeb27e8-40b9-4e5a-ad8c-b9cc73c03635\n",
      "Name: 0, dtype: object\n",
      "With params:{'main': {'fr': 9.62, 'dxy': (1.0, 1.0), 'decay_time': 0.4, 'p': 2, 'nb': 1, 'rf': 40, 'K': 150, 'gSig': array([7.5, 7.5]), 'stride': 10, 'method_init': 'greedy_roi', 'rolling_sum': True, 'use_cnn': False, 'ssub': 1, 'tsub': 1, 'merge_thr': 0.8, 'bas_nonneg': True, 'min_SNR': 1.4, 'rval_thr': 0.8}, 'refit': True}\n"
     ]
    },
    {
     "name": "stderr",
     "output_type": "stream",
     "text": [
      "    12963988 [cluster.py:setup_cluster():225] [16596] The local backend is an alias for the multiprocessing backend, and the alias may be removed in some future version of Caiman\n",
      "    12964133 [params.py:change_params():1151] [16596] In setting CNMFParams, non-pathed parameters were used; this is deprecated. In some future version of Caiman, allow_legacy will default to False (and eventually will be removed)\n",
      "<tifffile.TiffFile 'extracted_plane_1.tif'> shaped series axes do not match shape\n"
     ]
    },
    {
     "name": "stdout",
     "output_type": "stream",
     "text": [
      "making memmap\n"
     ]
    },
    {
     "name": "stderr",
     "output_type": "stream",
     "text": [
      "    12977206 [cluster.py:setup_cluster():225] [16596] The local backend is an alias for the multiprocessing backend, and the alias may be removed in some future version of Caiman\n"
     ]
    },
    {
     "name": "stdout",
     "output_type": "stream",
     "text": [
      "performing CNMF\n",
      "fitting images\n",
      "refitting\n",
      "performing eval\n"
     ]
    },
    {
     "name": "stderr",
     "output_type": "stream",
     "text": [
      "    13904154 [estimates.py:evaluate_components():1060] [16596] NaN values detected for space correlation in [8875]. Changing their value to -1.\n"
     ]
    },
    {
     "name": "stdout",
     "output_type": "stream",
     "text": [
      "Running 89b676c7-9480-47d7-b190-e4bbc2a5decc with local backend\n",
      "************************************************************************\n",
      "\n",
      "Starting CNMF item:\n",
      "algo                                                                                                                                   cnmf\n",
      "item_name                                                                                                                            cnmf_1\n",
      "input_movie_path                                                                                                 tiff\\extracted_plane_2.tif\n",
      "params              {'main': {'fr': 9.62, 'dxy': (1.0, 1.0), 'decay_time': 0.4, 'p': 2, 'nb': 1, 'rf': 40, 'K': 150, 'gSig': [7.5, 7.5],...\n",
      "outputs                                                                                                                                None\n",
      "added_time                                                                                                              2024-10-01T16:34:44\n",
      "ran_time                                                                                                                               None\n",
      "algo_duration                                                                                                                          None\n",
      "comments                                                                                                                               None\n",
      "uuid                                                                                                   89b676c7-9480-47d7-b190-e4bbc2a5decc\n",
      "Name: 1, dtype: object\n",
      "With params:{'main': {'fr': 9.62, 'dxy': (1.0, 1.0), 'decay_time': 0.4, 'p': 2, 'nb': 1, 'rf': 40, 'K': 150, 'gSig': array([7.5, 7.5]), 'stride': 10, 'method_init': 'greedy_roi', 'rolling_sum': True, 'use_cnn': False, 'ssub': 1, 'tsub': 1, 'merge_thr': 0.8, 'bas_nonneg': True, 'min_SNR': 1.4, 'rval_thr': 0.8}, 'refit': True}\n"
     ]
    },
    {
     "name": "stderr",
     "output_type": "stream",
     "text": [
      "    13910972 [cluster.py:setup_cluster():225] [16596] The local backend is an alias for the multiprocessing backend, and the alias may be removed in some future version of Caiman\n",
      "    13911069 [params.py:change_params():1151] [16596] In setting CNMFParams, non-pathed parameters were used; this is deprecated. In some future version of Caiman, allow_legacy will default to False (and eventually will be removed)\n",
      "<tifffile.TiffFile 'extracted_plane_2.tif'> shaped series axes do not match shape\n"
     ]
    },
    {
     "name": "stdout",
     "output_type": "stream",
     "text": [
      "making memmap\n"
     ]
    },
    {
     "name": "stderr",
     "output_type": "stream",
     "text": [
      "    13924222 [cluster.py:setup_cluster():225] [16596] The local backend is an alias for the multiprocessing backend, and the alias may be removed in some future version of Caiman\n"
     ]
    },
    {
     "name": "stdout",
     "output_type": "stream",
     "text": [
      "performing CNMF\n",
      "fitting images\n",
      "refitting\n",
      "performing eval\n",
      "Running f03ead24-ab13-48e7-87c0-27d5940a7c91 with local backend\n",
      "************************************************************************\n",
      "\n",
      "Starting CNMF item:\n",
      "algo                                                                                                                                   cnmf\n",
      "item_name                                                                                                                            cnmf_1\n",
      "input_movie_path                                                                                                 tiff\\extracted_plane_3.tif\n",
      "params              {'main': {'fr': 9.62, 'dxy': (1.0, 1.0), 'decay_time': 0.4, 'p': 2, 'nb': 1, 'rf': 40, 'K': 150, 'gSig': [7.5, 7.5],...\n",
      "outputs                                                                                                                                None\n",
      "added_time                                                                                                              2024-10-01T16:34:44\n",
      "ran_time                                                                                                                               None\n",
      "algo_duration                                                                                                                          None\n",
      "comments                                                                                                                               None\n",
      "uuid                                                                                                   f03ead24-ab13-48e7-87c0-27d5940a7c91\n",
      "Name: 2, dtype: object\n",
      "With params:{'main': {'fr': 9.62, 'dxy': (1.0, 1.0), 'decay_time': 0.4, 'p': 2, 'nb': 1, 'rf': 40, 'K': 150, 'gSig': array([7.5, 7.5]), 'stride': 10, 'method_init': 'greedy_roi', 'rolling_sum': True, 'use_cnn': False, 'ssub': 1, 'tsub': 1, 'merge_thr': 0.8, 'bas_nonneg': True, 'min_SNR': 1.4, 'rval_thr': 0.8}, 'refit': True}\n"
     ]
    },
    {
     "name": "stderr",
     "output_type": "stream",
     "text": [
      "    14860679 [cluster.py:setup_cluster():225] [16596] The local backend is an alias for the multiprocessing backend, and the alias may be removed in some future version of Caiman\n",
      "    14860787 [params.py:change_params():1151] [16596] In setting CNMFParams, non-pathed parameters were used; this is deprecated. In some future version of Caiman, allow_legacy will default to False (and eventually will be removed)\n",
      "<tifffile.TiffFile 'extracted_plane_3.tif'> shaped series axes do not match shape\n"
     ]
    },
    {
     "name": "stdout",
     "output_type": "stream",
     "text": [
      "making memmap\n"
     ]
    },
    {
     "name": "stderr",
     "output_type": "stream",
     "text": [
      "    14873610 [cluster.py:setup_cluster():225] [16596] The local backend is an alias for the multiprocessing backend, and the alias may be removed in some future version of Caiman\n"
     ]
    },
    {
     "name": "stdout",
     "output_type": "stream",
     "text": [
      "performing CNMF\n",
      "fitting images\n",
      "refitting\n",
      "performing eval\n",
      "Running 585a0fc2-40d4-45f2-badf-ba13d5cc77a6 with local backend\n",
      "************************************************************************\n",
      "\n",
      "Starting CNMF item:\n",
      "algo                                                                                                                                   cnmf\n",
      "item_name                                                                                                                            cnmf_1\n",
      "input_movie_path                                                                                                 tiff\\extracted_plane_4.tif\n",
      "params              {'main': {'fr': 9.62, 'dxy': (1.0, 1.0), 'decay_time': 0.4, 'p': 2, 'nb': 1, 'rf': 40, 'K': 150, 'gSig': [7.5, 7.5],...\n",
      "outputs                                                                                                                                None\n",
      "added_time                                                                                                              2024-10-01T16:34:44\n",
      "ran_time                                                                                                                               None\n",
      "algo_duration                                                                                                                          None\n",
      "comments                                                                                                                               None\n",
      "uuid                                                                                                   585a0fc2-40d4-45f2-badf-ba13d5cc77a6\n",
      "Name: 3, dtype: object\n",
      "With params:{'main': {'fr': 9.62, 'dxy': (1.0, 1.0), 'decay_time': 0.4, 'p': 2, 'nb': 1, 'rf': 40, 'K': 150, 'gSig': array([7.5, 7.5]), 'stride': 10, 'method_init': 'greedy_roi', 'rolling_sum': True, 'use_cnn': False, 'ssub': 1, 'tsub': 1, 'merge_thr': 0.8, 'bas_nonneg': True, 'min_SNR': 1.4, 'rval_thr': 0.8}, 'refit': True}\n"
     ]
    },
    {
     "name": "stderr",
     "output_type": "stream",
     "text": [
      "    15991797 [cluster.py:setup_cluster():225] [16596] The local backend is an alias for the multiprocessing backend, and the alias may be removed in some future version of Caiman\n",
      "    15991909 [params.py:change_params():1151] [16596] In setting CNMFParams, non-pathed parameters were used; this is deprecated. In some future version of Caiman, allow_legacy will default to False (and eventually will be removed)\n",
      "<tifffile.TiffFile 'extracted_plane_4.tif'> shaped series axes do not match shape\n"
     ]
    },
    {
     "name": "stdout",
     "output_type": "stream",
     "text": [
      "making memmap\n"
     ]
    },
    {
     "name": "stderr",
     "output_type": "stream",
     "text": [
      "    16004684 [cluster.py:setup_cluster():225] [16596] The local backend is an alias for the multiprocessing backend, and the alias may be removed in some future version of Caiman\n"
     ]
    },
    {
     "name": "stdout",
     "output_type": "stream",
     "text": [
      "performing CNMF\n",
      "fitting images\n",
      "refitting\n",
      "performing eval\n",
      "Running 544c2a52-0b90-4b74-baae-b2ca913c7c2a with local backend\n",
      "************************************************************************\n",
      "\n",
      "Starting CNMF item:\n",
      "algo                                                                                                                                   cnmf\n",
      "item_name                                                                                                                            cnmf_1\n",
      "input_movie_path                                                                                                 tiff\\extracted_plane_5.tif\n",
      "params              {'main': {'fr': 9.62, 'dxy': (1.0, 1.0), 'decay_time': 0.4, 'p': 2, 'nb': 1, 'rf': 40, 'K': 150, 'gSig': [7.5, 7.5],...\n",
      "outputs                                                                                                                                None\n",
      "added_time                                                                                                              2024-10-01T16:34:44\n",
      "ran_time                                                                                                                               None\n",
      "algo_duration                                                                                                                          None\n",
      "comments                                                                                                                               None\n",
      "uuid                                                                                                   544c2a52-0b90-4b74-baae-b2ca913c7c2a\n",
      "Name: 4, dtype: object\n",
      "With params:{'main': {'fr': 9.62, 'dxy': (1.0, 1.0), 'decay_time': 0.4, 'p': 2, 'nb': 1, 'rf': 40, 'K': 150, 'gSig': array([7.5, 7.5]), 'stride': 10, 'method_init': 'greedy_roi', 'rolling_sum': True, 'use_cnn': False, 'ssub': 1, 'tsub': 1, 'merge_thr': 0.8, 'bas_nonneg': True, 'min_SNR': 1.4, 'rval_thr': 0.8}, 'refit': True}\n"
     ]
    },
    {
     "name": "stderr",
     "output_type": "stream",
     "text": [
      "    17332164 [cluster.py:setup_cluster():225] [16596] The local backend is an alias for the multiprocessing backend, and the alias may be removed in some future version of Caiman\n",
      "    17332271 [params.py:change_params():1151] [16596] In setting CNMFParams, non-pathed parameters were used; this is deprecated. In some future version of Caiman, allow_legacy will default to False (and eventually will be removed)\n",
      "<tifffile.TiffFile 'extracted_plane_5.tif'> shaped series axes do not match shape\n"
     ]
    },
    {
     "name": "stdout",
     "output_type": "stream",
     "text": [
      "making memmap\n"
     ]
    },
    {
     "name": "stderr",
     "output_type": "stream",
     "text": [
      "    17344985 [cluster.py:setup_cluster():225] [16596] The local backend is an alias for the multiprocessing backend, and the alias may be removed in some future version of Caiman\n"
     ]
    },
    {
     "name": "stdout",
     "output_type": "stream",
     "text": [
      "performing CNMF\n",
      "fitting images\n",
      "refitting\n",
      "performing eval\n"
     ]
    },
    {
     "name": "stderr",
     "output_type": "stream",
     "text": [
      "    18349840 [estimates.py:evaluate_components():1060] [16596] NaN values detected for space correlation in [8732]. Changing their value to -1.\n"
     ]
    },
    {
     "name": "stdout",
     "output_type": "stream",
     "text": [
      "Running d6c3f33c-2b90-4c6d-a4ad-f237dae5f73b with local backend\n",
      "************************************************************************\n",
      "\n",
      "Starting CNMF item:\n",
      "algo                                                                                                                                   cnmf\n",
      "item_name                                                                                                                            cnmf_1\n",
      "input_movie_path                                                                                                 tiff\\extracted_plane_6.tif\n",
      "params              {'main': {'fr': 9.62, 'dxy': (1.0, 1.0), 'decay_time': 0.4, 'p': 2, 'nb': 1, 'rf': 40, 'K': 150, 'gSig': [7.5, 7.5],...\n",
      "outputs                                                                                                                                None\n",
      "added_time                                                                                                              2024-10-01T16:34:44\n",
      "ran_time                                                                                                                               None\n",
      "algo_duration                                                                                                                          None\n",
      "comments                                                                                                                               None\n",
      "uuid                                                                                                   d6c3f33c-2b90-4c6d-a4ad-f237dae5f73b\n",
      "Name: 5, dtype: object\n",
      "With params:{'main': {'fr': 9.62, 'dxy': (1.0, 1.0), 'decay_time': 0.4, 'p': 2, 'nb': 1, 'rf': 40, 'K': 150, 'gSig': array([7.5, 7.5]), 'stride': 10, 'method_init': 'greedy_roi', 'rolling_sum': True, 'use_cnn': False, 'ssub': 1, 'tsub': 1, 'merge_thr': 0.8, 'bas_nonneg': True, 'min_SNR': 1.4, 'rval_thr': 0.8}, 'refit': True}\n"
     ]
    },
    {
     "name": "stderr",
     "output_type": "stream",
     "text": [
      "    18356589 [cluster.py:setup_cluster():225] [16596] The local backend is an alias for the multiprocessing backend, and the alias may be removed in some future version of Caiman\n",
      "    18356697 [params.py:change_params():1151] [16596] In setting CNMFParams, non-pathed parameters were used; this is deprecated. In some future version of Caiman, allow_legacy will default to False (and eventually will be removed)\n",
      "<tifffile.TiffFile 'extracted_plane_6.tif'> shaped series axes do not match shape\n"
     ]
    },
    {
     "name": "stdout",
     "output_type": "stream",
     "text": [
      "making memmap\n"
     ]
    },
    {
     "name": "stderr",
     "output_type": "stream",
     "text": [
      "    18369597 [cluster.py:setup_cluster():225] [16596] The local backend is an alias for the multiprocessing backend, and the alias may be removed in some future version of Caiman\n"
     ]
    },
    {
     "name": "stdout",
     "output_type": "stream",
     "text": [
      "performing CNMF\n",
      "fitting images\n",
      "refitting\n",
      "performing eval\n"
     ]
    },
    {
     "name": "stderr",
     "output_type": "stream",
     "text": [
      "    19287618 [estimates.py:evaluate_components():1060] [16596] NaN values detected for space correlation in [8801]. Changing their value to -1.\n"
     ]
    },
    {
     "name": "stdout",
     "output_type": "stream",
     "text": [
      "Running ca269a68-06d0-4f96-b508-87160fdf37ab with local backend\n",
      "************************************************************************\n",
      "\n",
      "Starting CNMF item:\n",
      "algo                                                                                                                                   cnmf\n",
      "item_name                                                                                                                            cnmf_1\n",
      "input_movie_path                                                                                                 tiff\\extracted_plane_7.tif\n",
      "params              {'main': {'fr': 9.62, 'dxy': (1.0, 1.0), 'decay_time': 0.4, 'p': 2, 'nb': 1, 'rf': 40, 'K': 150, 'gSig': [7.5, 7.5],...\n",
      "outputs                                                                                                                                None\n",
      "added_time                                                                                                              2024-10-01T16:34:44\n",
      "ran_time                                                                                                                               None\n",
      "algo_duration                                                                                                                          None\n",
      "comments                                                                                                                               None\n",
      "uuid                                                                                                   ca269a68-06d0-4f96-b508-87160fdf37ab\n",
      "Name: 6, dtype: object\n",
      "With params:{'main': {'fr': 9.62, 'dxy': (1.0, 1.0), 'decay_time': 0.4, 'p': 2, 'nb': 1, 'rf': 40, 'K': 150, 'gSig': array([7.5, 7.5]), 'stride': 10, 'method_init': 'greedy_roi', 'rolling_sum': True, 'use_cnn': False, 'ssub': 1, 'tsub': 1, 'merge_thr': 0.8, 'bas_nonneg': True, 'min_SNR': 1.4, 'rval_thr': 0.8}, 'refit': True}\n"
     ]
    },
    {
     "name": "stderr",
     "output_type": "stream",
     "text": [
      "    19294349 [cluster.py:setup_cluster():225] [16596] The local backend is an alias for the multiprocessing backend, and the alias may be removed in some future version of Caiman\n",
      "    19294490 [params.py:change_params():1151] [16596] In setting CNMFParams, non-pathed parameters were used; this is deprecated. In some future version of Caiman, allow_legacy will default to False (and eventually will be removed)\n",
      "<tifffile.TiffFile 'extracted_plane_7.tif'> shaped series axes do not match shape\n"
     ]
    },
    {
     "name": "stdout",
     "output_type": "stream",
     "text": [
      "making memmap\n"
     ]
    },
    {
     "name": "stderr",
     "output_type": "stream",
     "text": [
      "    19307355 [cluster.py:setup_cluster():225] [16596] The local backend is an alias for the multiprocessing backend, and the alias may be removed in some future version of Caiman\n"
     ]
    },
    {
     "name": "stdout",
     "output_type": "stream",
     "text": [
      "performing CNMF\n",
      "fitting images\n",
      "refitting\n",
      "performing eval\n"
     ]
    },
    {
     "name": "stderr",
     "output_type": "stream",
     "text": [
      "    20226922 [estimates.py:evaluate_components():1060] [16596] NaN values detected for space correlation in [8772]. Changing their value to -1.\n"
     ]
    },
    {
     "name": "stdout",
     "output_type": "stream",
     "text": [
      "Running a9cb2077-073a-4552-9669-e53ba0c96803 with local backend\n",
      "************************************************************************\n",
      "\n",
      "Starting CNMF item:\n",
      "algo                                                                                                                                   cnmf\n",
      "item_name                                                                                                                            cnmf_1\n",
      "input_movie_path                                                                                                 tiff\\extracted_plane_8.tif\n",
      "params              {'main': {'fr': 9.62, 'dxy': (1.0, 1.0), 'decay_time': 0.4, 'p': 2, 'nb': 1, 'rf': 40, 'K': 150, 'gSig': [7.5, 7.5],...\n",
      "outputs                                                                                                                                None\n",
      "added_time                                                                                                              2024-10-01T16:34:44\n",
      "ran_time                                                                                                                               None\n",
      "algo_duration                                                                                                                          None\n",
      "comments                                                                                                                               None\n",
      "uuid                                                                                                   a9cb2077-073a-4552-9669-e53ba0c96803\n",
      "Name: 7, dtype: object\n",
      "With params:{'main': {'fr': 9.62, 'dxy': (1.0, 1.0), 'decay_time': 0.4, 'p': 2, 'nb': 1, 'rf': 40, 'K': 150, 'gSig': array([7.5, 7.5]), 'stride': 10, 'method_init': 'greedy_roi', 'rolling_sum': True, 'use_cnn': False, 'ssub': 1, 'tsub': 1, 'merge_thr': 0.8, 'bas_nonneg': True, 'min_SNR': 1.4, 'rval_thr': 0.8}, 'refit': True}\n"
     ]
    },
    {
     "name": "stderr",
     "output_type": "stream",
     "text": [
      "    20233980 [cluster.py:setup_cluster():225] [16596] The local backend is an alias for the multiprocessing backend, and the alias may be removed in some future version of Caiman\n",
      "    20234094 [params.py:change_params():1151] [16596] In setting CNMFParams, non-pathed parameters were used; this is deprecated. In some future version of Caiman, allow_legacy will default to False (and eventually will be removed)\n",
      "<tifffile.TiffFile 'extracted_plane_8.tif'> shaped series axes do not match shape\n"
     ]
    },
    {
     "name": "stdout",
     "output_type": "stream",
     "text": [
      "making memmap\n"
     ]
    },
    {
     "name": "stderr",
     "output_type": "stream",
     "text": [
      "    20246734 [cluster.py:setup_cluster():225] [16596] The local backend is an alias for the multiprocessing backend, and the alias may be removed in some future version of Caiman\n"
     ]
    },
    {
     "name": "stdout",
     "output_type": "stream",
     "text": [
      "performing CNMF\n",
      "fitting images\n",
      "refitting\n",
      "performing eval\n"
     ]
    },
    {
     "name": "stderr",
     "output_type": "stream",
     "text": [
      "    21156660 [estimates.py:evaluate_components():1060] [16596] NaN values detected for space correlation in [8804]. Changing their value to -1.\n"
     ]
    },
    {
     "name": "stdout",
     "output_type": "stream",
     "text": [
      "Running c0205f69-ccb6-4304-9cee-18af09d11663 with local backend\n",
      "************************************************************************\n",
      "\n",
      "Starting CNMF item:\n",
      "algo                                                                                                                                   cnmf\n",
      "item_name                                                                                                                            cnmf_1\n",
      "input_movie_path                                                                                                 tiff\\extracted_plane_9.tif\n",
      "params              {'main': {'fr': 9.62, 'dxy': (1.0, 1.0), 'decay_time': 0.4, 'p': 2, 'nb': 1, 'rf': 40, 'K': 150, 'gSig': [7.5, 7.5],...\n",
      "outputs                                                                                                                                None\n",
      "added_time                                                                                                              2024-10-01T16:34:44\n",
      "ran_time                                                                                                                               None\n",
      "algo_duration                                                                                                                          None\n",
      "comments                                                                                                                               None\n",
      "uuid                                                                                                   c0205f69-ccb6-4304-9cee-18af09d11663\n",
      "Name: 8, dtype: object\n",
      "With params:{'main': {'fr': 9.62, 'dxy': (1.0, 1.0), 'decay_time': 0.4, 'p': 2, 'nb': 1, 'rf': 40, 'K': 150, 'gSig': array([7.5, 7.5]), 'stride': 10, 'method_init': 'greedy_roi', 'rolling_sum': True, 'use_cnn': False, 'ssub': 1, 'tsub': 1, 'merge_thr': 0.8, 'bas_nonneg': True, 'min_SNR': 1.4, 'rval_thr': 0.8}, 'refit': True}\n"
     ]
    },
    {
     "name": "stderr",
     "output_type": "stream",
     "text": [
      "    21163606 [cluster.py:setup_cluster():225] [16596] The local backend is an alias for the multiprocessing backend, and the alias may be removed in some future version of Caiman\n",
      "    21163705 [params.py:change_params():1151] [16596] In setting CNMFParams, non-pathed parameters were used; this is deprecated. In some future version of Caiman, allow_legacy will default to False (and eventually will be removed)\n",
      "<tifffile.TiffFile 'extracted_plane_9.tif'> shaped series axes do not match shape\n"
     ]
    },
    {
     "name": "stdout",
     "output_type": "stream",
     "text": [
      "making memmap\n"
     ]
    },
    {
     "name": "stderr",
     "output_type": "stream",
     "text": [
      "    21176421 [cluster.py:setup_cluster():225] [16596] The local backend is an alias for the multiprocessing backend, and the alias may be removed in some future version of Caiman\n"
     ]
    },
    {
     "name": "stdout",
     "output_type": "stream",
     "text": [
      "performing CNMF\n",
      "fitting images\n",
      "refitting\n",
      "performing eval\n"
     ]
    },
    {
     "name": "stderr",
     "output_type": "stream",
     "text": [
      "    22096999 [estimates.py:evaluate_components():1060] [16596] NaN values detected for space correlation in [8836]. Changing their value to -1.\n"
     ]
    },
    {
     "name": "stdout",
     "output_type": "stream",
     "text": [
      "Running 1fac642d-6cef-4a68-9415-737213b4462d with local backend\n",
      "************************************************************************\n",
      "\n",
      "Starting CNMF item:\n",
      "algo                                                                                                                                   cnmf\n",
      "item_name                                                                                                                            cnmf_1\n",
      "input_movie_path                                                                                                tiff\\extracted_plane_10.tif\n",
      "params              {'main': {'fr': 9.62, 'dxy': (1.0, 1.0), 'decay_time': 0.4, 'p': 2, 'nb': 1, 'rf': 40, 'K': 150, 'gSig': [7.5, 7.5],...\n",
      "outputs                                                                                                                                None\n",
      "added_time                                                                                                              2024-10-01T16:34:44\n",
      "ran_time                                                                                                                               None\n",
      "algo_duration                                                                                                                          None\n",
      "comments                                                                                                                               None\n",
      "uuid                                                                                                   1fac642d-6cef-4a68-9415-737213b4462d\n",
      "Name: 9, dtype: object\n",
      "With params:{'main': {'fr': 9.62, 'dxy': (1.0, 1.0), 'decay_time': 0.4, 'p': 2, 'nb': 1, 'rf': 40, 'K': 150, 'gSig': array([7.5, 7.5]), 'stride': 10, 'method_init': 'greedy_roi', 'rolling_sum': True, 'use_cnn': False, 'ssub': 1, 'tsub': 1, 'merge_thr': 0.8, 'bas_nonneg': True, 'min_SNR': 1.4, 'rval_thr': 0.8}, 'refit': True}\n"
     ]
    },
    {
     "name": "stderr",
     "output_type": "stream",
     "text": [
      "    22104019 [cluster.py:setup_cluster():225] [16596] The local backend is an alias for the multiprocessing backend, and the alias may be removed in some future version of Caiman\n",
      "    22104119 [params.py:change_params():1151] [16596] In setting CNMFParams, non-pathed parameters were used; this is deprecated. In some future version of Caiman, allow_legacy will default to False (and eventually will be removed)\n",
      "<tifffile.TiffFile 'extracted_plane_10.tif'> shaped series axes do not match shape\n"
     ]
    },
    {
     "name": "stdout",
     "output_type": "stream",
     "text": [
      "making memmap\n"
     ]
    },
    {
     "name": "stderr",
     "output_type": "stream",
     "text": [
      "    22116719 [cluster.py:setup_cluster():225] [16596] The local backend is an alias for the multiprocessing backend, and the alias may be removed in some future version of Caiman\n"
     ]
    },
    {
     "name": "stdout",
     "output_type": "stream",
     "text": [
      "performing CNMF\n",
      "fitting images\n",
      "refitting\n",
      "performing eval\n",
      "Running 97569a0f-b5c4-41b5-9268-b4ddeda9d740 with local backend\n",
      "************************************************************************\n",
      "\n",
      "Starting CNMF item:\n",
      "algo                                                                                                                                   cnmf\n",
      "item_name                                                                                                                            cnmf_1\n",
      "input_movie_path                                                                                                tiff\\extracted_plane_11.tif\n",
      "params              {'main': {'fr': 9.62, 'dxy': (1.0, 1.0), 'decay_time': 0.4, 'p': 2, 'nb': 1, 'rf': 40, 'K': 150, 'gSig': [7.5, 7.5],...\n",
      "outputs                                                                                                                                None\n",
      "added_time                                                                                                              2024-10-01T16:34:44\n",
      "ran_time                                                                                                                               None\n",
      "algo_duration                                                                                                                          None\n",
      "comments                                                                                                                               None\n",
      "uuid                                                                                                   97569a0f-b5c4-41b5-9268-b4ddeda9d740\n",
      "Name: 10, dtype: object\n",
      "With params:{'main': {'fr': 9.62, 'dxy': (1.0, 1.0), 'decay_time': 0.4, 'p': 2, 'nb': 1, 'rf': 40, 'K': 150, 'gSig': array([7.5, 7.5]), 'stride': 10, 'method_init': 'greedy_roi', 'rolling_sum': True, 'use_cnn': False, 'ssub': 1, 'tsub': 1, 'merge_thr': 0.8, 'bas_nonneg': True, 'min_SNR': 1.4, 'rval_thr': 0.8}, 'refit': True}\n"
     ]
    },
    {
     "name": "stderr",
     "output_type": "stream",
     "text": [
      "    23149086 [cluster.py:setup_cluster():225] [16596] The local backend is an alias for the multiprocessing backend, and the alias may be removed in some future version of Caiman\n",
      "    23149198 [params.py:change_params():1151] [16596] In setting CNMFParams, non-pathed parameters were used; this is deprecated. In some future version of Caiman, allow_legacy will default to False (and eventually will be removed)\n",
      "<tifffile.TiffFile 'extracted_plane_11.tif'> shaped series axes do not match shape\n"
     ]
    },
    {
     "name": "stdout",
     "output_type": "stream",
     "text": [
      "making memmap\n"
     ]
    },
    {
     "name": "stderr",
     "output_type": "stream",
     "text": [
      "    23161891 [cluster.py:setup_cluster():225] [16596] The local backend is an alias for the multiprocessing backend, and the alias may be removed in some future version of Caiman\n"
     ]
    },
    {
     "name": "stdout",
     "output_type": "stream",
     "text": [
      "performing CNMF\n",
      "fitting images\n",
      "refitting\n",
      "performing eval\n",
      "Running c2d0864d-1313-4ded-8b7f-4a7f02947b2d with local backend\n",
      "************************************************************************\n",
      "\n",
      "Starting CNMF item:\n",
      "algo                                                                                                                                   cnmf\n",
      "item_name                                                                                                                            cnmf_1\n",
      "input_movie_path                                                                                                tiff\\extracted_plane_12.tif\n",
      "params              {'main': {'fr': 9.62, 'dxy': (1.0, 1.0), 'decay_time': 0.4, 'p': 2, 'nb': 1, 'rf': 40, 'K': 150, 'gSig': [7.5, 7.5],...\n",
      "outputs                                                                                                                                None\n",
      "added_time                                                                                                              2024-10-01T16:34:44\n",
      "ran_time                                                                                                                               None\n",
      "algo_duration                                                                                                                          None\n",
      "comments                                                                                                                               None\n",
      "uuid                                                                                                   c2d0864d-1313-4ded-8b7f-4a7f02947b2d\n",
      "Name: 11, dtype: object\n",
      "With params:{'main': {'fr': 9.62, 'dxy': (1.0, 1.0), 'decay_time': 0.4, 'p': 2, 'nb': 1, 'rf': 40, 'K': 150, 'gSig': array([7.5, 7.5]), 'stride': 10, 'method_init': 'greedy_roi', 'rolling_sum': True, 'use_cnn': False, 'ssub': 1, 'tsub': 1, 'merge_thr': 0.8, 'bas_nonneg': True, 'min_SNR': 1.4, 'rval_thr': 0.8}, 'refit': True}\n"
     ]
    },
    {
     "name": "stderr",
     "output_type": "stream",
     "text": [
      "    24200760 [cluster.py:setup_cluster():225] [16596] The local backend is an alias for the multiprocessing backend, and the alias may be removed in some future version of Caiman\n",
      "    24200873 [params.py:change_params():1151] [16596] In setting CNMFParams, non-pathed parameters were used; this is deprecated. In some future version of Caiman, allow_legacy will default to False (and eventually will be removed)\n",
      "<tifffile.TiffFile 'extracted_plane_12.tif'> shaped series axes do not match shape\n"
     ]
    },
    {
     "name": "stdout",
     "output_type": "stream",
     "text": [
      "making memmap\n"
     ]
    },
    {
     "name": "stderr",
     "output_type": "stream",
     "text": [
      "    24213260 [cluster.py:setup_cluster():225] [16596] The local backend is an alias for the multiprocessing backend, and the alias may be removed in some future version of Caiman\n"
     ]
    },
    {
     "name": "stdout",
     "output_type": "stream",
     "text": [
      "performing CNMF\n",
      "fitting images\n",
      "refitting\n",
      "performing eval\n",
      "Running 8301c084-fe7c-4e84-b8d7-db6fcc8893ed with local backend\n",
      "************************************************************************\n",
      "\n",
      "Starting CNMF item:\n",
      "algo                                                                                                                                   cnmf\n",
      "item_name                                                                                                                            cnmf_1\n",
      "input_movie_path                                                                                                tiff\\extracted_plane_13.tif\n",
      "params              {'main': {'fr': 9.62, 'dxy': (1.0, 1.0), 'decay_time': 0.4, 'p': 2, 'nb': 1, 'rf': 40, 'K': 150, 'gSig': [7.5, 7.5],...\n",
      "outputs                                                                                                                                None\n",
      "added_time                                                                                                              2024-10-01T16:34:44\n",
      "ran_time                                                                                                                               None\n",
      "algo_duration                                                                                                                          None\n",
      "comments                                                                                                                               None\n",
      "uuid                                                                                                   8301c084-fe7c-4e84-b8d7-db6fcc8893ed\n",
      "Name: 12, dtype: object\n",
      "With params:{'main': {'fr': 9.62, 'dxy': (1.0, 1.0), 'decay_time': 0.4, 'p': 2, 'nb': 1, 'rf': 40, 'K': 150, 'gSig': array([7.5, 7.5]), 'stride': 10, 'method_init': 'greedy_roi', 'rolling_sum': True, 'use_cnn': False, 'ssub': 1, 'tsub': 1, 'merge_thr': 0.8, 'bas_nonneg': True, 'min_SNR': 1.4, 'rval_thr': 0.8}, 'refit': True}\n"
     ]
    },
    {
     "name": "stderr",
     "output_type": "stream",
     "text": [
      "    25154225 [cluster.py:setup_cluster():225] [16596] The local backend is an alias for the multiprocessing backend, and the alias may be removed in some future version of Caiman\n",
      "    25154351 [params.py:change_params():1151] [16596] In setting CNMFParams, non-pathed parameters were used; this is deprecated. In some future version of Caiman, allow_legacy will default to False (and eventually will be removed)\n",
      "<tifffile.TiffFile 'extracted_plane_13.tif'> shaped series axes do not match shape\n"
     ]
    },
    {
     "name": "stdout",
     "output_type": "stream",
     "text": [
      "making memmap\n"
     ]
    },
    {
     "name": "stderr",
     "output_type": "stream",
     "text": [
      "    25166700 [cluster.py:setup_cluster():225] [16596] The local backend is an alias for the multiprocessing backend, and the alias may be removed in some future version of Caiman\n"
     ]
    },
    {
     "name": "stdout",
     "output_type": "stream",
     "text": [
      "performing CNMF\n",
      "fitting images\n",
      "refitting\n",
      "performing eval\n",
      "Running 1eabd9f9-1a57-4c08-a830-9276371c00a9 with local backend\n",
      "************************************************************************\n",
      "\n",
      "Starting CNMF item:\n",
      "algo                                                                                                                                   cnmf\n",
      "item_name                                                                                                                            cnmf_1\n",
      "input_movie_path                                                                                                tiff\\extracted_plane_14.tif\n",
      "params              {'main': {'fr': 9.62, 'dxy': (1.0, 1.0), 'decay_time': 0.4, 'p': 2, 'nb': 1, 'rf': 40, 'K': 150, 'gSig': [7.5, 7.5],...\n",
      "outputs                                                                                                                                None\n",
      "added_time                                                                                                              2024-10-01T16:34:44\n",
      "ran_time                                                                                                                               None\n",
      "algo_duration                                                                                                                          None\n",
      "comments                                                                                                                               None\n",
      "uuid                                                                                                   1eabd9f9-1a57-4c08-a830-9276371c00a9\n",
      "Name: 13, dtype: object\n",
      "With params:{'main': {'fr': 9.62, 'dxy': (1.0, 1.0), 'decay_time': 0.4, 'p': 2, 'nb': 1, 'rf': 40, 'K': 150, 'gSig': array([7.5, 7.5]), 'stride': 10, 'method_init': 'greedy_roi', 'rolling_sum': True, 'use_cnn': False, 'ssub': 1, 'tsub': 1, 'merge_thr': 0.8, 'bas_nonneg': True, 'min_SNR': 1.4, 'rval_thr': 0.8}, 'refit': True}\n"
     ]
    },
    {
     "name": "stderr",
     "output_type": "stream",
     "text": [
      "    26114993 [cluster.py:setup_cluster():225] [16596] The local backend is an alias for the multiprocessing backend, and the alias may be removed in some future version of Caiman\n",
      "    26115098 [params.py:change_params():1151] [16596] In setting CNMFParams, non-pathed parameters were used; this is deprecated. In some future version of Caiman, allow_legacy will default to False (and eventually will be removed)\n",
      "<tifffile.TiffFile 'extracted_plane_14.tif'> shaped series axes do not match shape\n"
     ]
    },
    {
     "name": "stdout",
     "output_type": "stream",
     "text": [
      "making memmap\n"
     ]
    },
    {
     "name": "stderr",
     "output_type": "stream",
     "text": [
      "    26127828 [cluster.py:setup_cluster():225] [16596] The local backend is an alias for the multiprocessing backend, and the alias may be removed in some future version of Caiman\n"
     ]
    },
    {
     "name": "stdout",
     "output_type": "stream",
     "text": [
      "performing CNMF\n",
      "fitting images\n",
      "refitting\n",
      "performing eval\n",
      "Running 25be7a5b-dd16-42cd-bd4a-1312b4c6e791 with local backend\n",
      "************************************************************************\n",
      "\n",
      "Starting CNMF item:\n",
      "algo                                                                                                                                   cnmf\n",
      "item_name                                                                                                                            cnmf_1\n",
      "input_movie_path                                                                                                tiff\\extracted_plane_15.tif\n",
      "params              {'main': {'fr': 9.62, 'dxy': (1.0, 1.0), 'decay_time': 0.4, 'p': 2, 'nb': 1, 'rf': 40, 'K': 150, 'gSig': [7.5, 7.5],...\n",
      "outputs                                                                                                                                None\n",
      "added_time                                                                                                              2024-10-01T16:34:44\n",
      "ran_time                                                                                                                               None\n",
      "algo_duration                                                                                                                          None\n",
      "comments                                                                                                                               None\n",
      "uuid                                                                                                   25be7a5b-dd16-42cd-bd4a-1312b4c6e791\n",
      "Name: 14, dtype: object\n",
      "With params:{'main': {'fr': 9.62, 'dxy': (1.0, 1.0), 'decay_time': 0.4, 'p': 2, 'nb': 1, 'rf': 40, 'K': 150, 'gSig': array([7.5, 7.5]), 'stride': 10, 'method_init': 'greedy_roi', 'rolling_sum': True, 'use_cnn': False, 'ssub': 1, 'tsub': 1, 'merge_thr': 0.8, 'bas_nonneg': True, 'min_SNR': 1.4, 'rval_thr': 0.8}, 'refit': True}\n"
     ]
    },
    {
     "name": "stderr",
     "output_type": "stream",
     "text": [
      "    27085173 [cluster.py:setup_cluster():225] [16596] The local backend is an alias for the multiprocessing backend, and the alias may be removed in some future version of Caiman\n",
      "    27085275 [params.py:change_params():1151] [16596] In setting CNMFParams, non-pathed parameters were used; this is deprecated. In some future version of Caiman, allow_legacy will default to False (and eventually will be removed)\n",
      "<tifffile.TiffFile 'extracted_plane_15.tif'> shaped series axes do not match shape\n"
     ]
    },
    {
     "name": "stdout",
     "output_type": "stream",
     "text": [
      "making memmap\n"
     ]
    },
    {
     "name": "stderr",
     "output_type": "stream",
     "text": [
      "    27097698 [cluster.py:setup_cluster():225] [16596] The local backend is an alias for the multiprocessing backend, and the alias may be removed in some future version of Caiman\n"
     ]
    },
    {
     "name": "stdout",
     "output_type": "stream",
     "text": [
      "performing CNMF\n",
      "fitting images\n",
      "refitting\n",
      "performing eval\n",
      "Running f87dc096-6bb2-40dd-8dff-20f1362423b0 with local backend\n",
      "************************************************************************\n",
      "\n",
      "Starting CNMF item:\n",
      "algo                                                                                                                                   cnmf\n",
      "item_name                                                                                                                            cnmf_1\n",
      "input_movie_path                                                                                                tiff\\extracted_plane_16.tif\n",
      "params              {'main': {'fr': 9.62, 'dxy': (1.0, 1.0), 'decay_time': 0.4, 'p': 2, 'nb': 1, 'rf': 40, 'K': 150, 'gSig': [7.5, 7.5],...\n",
      "outputs                                                                                                                                None\n",
      "added_time                                                                                                              2024-10-01T16:34:44\n",
      "ran_time                                                                                                                               None\n",
      "algo_duration                                                                                                                          None\n",
      "comments                                                                                                                               None\n",
      "uuid                                                                                                   f87dc096-6bb2-40dd-8dff-20f1362423b0\n",
      "Name: 15, dtype: object\n",
      "With params:{'main': {'fr': 9.62, 'dxy': (1.0, 1.0), 'decay_time': 0.4, 'p': 2, 'nb': 1, 'rf': 40, 'K': 150, 'gSig': array([7.5, 7.5]), 'stride': 10, 'method_init': 'greedy_roi', 'rolling_sum': True, 'use_cnn': False, 'ssub': 1, 'tsub': 1, 'merge_thr': 0.8, 'bas_nonneg': True, 'min_SNR': 1.4, 'rval_thr': 0.8}, 'refit': True}\n"
     ]
    },
    {
     "name": "stderr",
     "output_type": "stream",
     "text": [
      "    28180411 [cluster.py:setup_cluster():225] [16596] The local backend is an alias for the multiprocessing backend, and the alias may be removed in some future version of Caiman\n",
      "    28180503 [params.py:change_params():1151] [16596] In setting CNMFParams, non-pathed parameters were used; this is deprecated. In some future version of Caiman, allow_legacy will default to False (and eventually will be removed)\n",
      "<tifffile.TiffFile 'extracted_plane_16.tif'> shaped series axes do not match shape\n"
     ]
    },
    {
     "name": "stdout",
     "output_type": "stream",
     "text": [
      "making memmap\n"
     ]
    },
    {
     "name": "stderr",
     "output_type": "stream",
     "text": [
      "    28193026 [cluster.py:setup_cluster():225] [16596] The local backend is an alias for the multiprocessing backend, and the alias may be removed in some future version of Caiman\n"
     ]
    },
    {
     "name": "stdout",
     "output_type": "stream",
     "text": [
      "performing CNMF\n",
      "fitting images\n",
      "refitting\n",
      "performing eval\n",
      "Running 0e6f8223-3002-4430-a987-d83a6d7c7bd8 with local backend\n",
      "************************************************************************\n",
      "\n",
      "Starting CNMF item:\n",
      "algo                                                                                                                                   cnmf\n",
      "item_name                                                                                                                            cnmf_1\n",
      "input_movie_path                                                                                                tiff\\extracted_plane_17.tif\n",
      "params              {'main': {'fr': 9.62, 'dxy': (1.0, 1.0), 'decay_time': 0.4, 'p': 2, 'nb': 1, 'rf': 40, 'K': 150, 'gSig': [7.5, 7.5],...\n",
      "outputs                                                                                                                                None\n",
      "added_time                                                                                                              2024-10-01T16:34:44\n",
      "ran_time                                                                                                                               None\n",
      "algo_duration                                                                                                                          None\n",
      "comments                                                                                                                               None\n",
      "uuid                                                                                                   0e6f8223-3002-4430-a987-d83a6d7c7bd8\n",
      "Name: 16, dtype: object\n",
      "With params:{'main': {'fr': 9.62, 'dxy': (1.0, 1.0), 'decay_time': 0.4, 'p': 2, 'nb': 1, 'rf': 40, 'K': 150, 'gSig': array([7.5, 7.5]), 'stride': 10, 'method_init': 'greedy_roi', 'rolling_sum': True, 'use_cnn': False, 'ssub': 1, 'tsub': 1, 'merge_thr': 0.8, 'bas_nonneg': True, 'min_SNR': 1.4, 'rval_thr': 0.8}, 'refit': True}\n"
     ]
    },
    {
     "name": "stderr",
     "output_type": "stream",
     "text": [
      "    29157494 [cluster.py:setup_cluster():225] [16596] The local backend is an alias for the multiprocessing backend, and the alias may be removed in some future version of Caiman\n",
      "    29157591 [params.py:change_params():1151] [16596] In setting CNMFParams, non-pathed parameters were used; this is deprecated. In some future version of Caiman, allow_legacy will default to False (and eventually will be removed)\n",
      "<tifffile.TiffFile 'extracted_plane_17.tif'> shaped series axes do not match shape\n"
     ]
    },
    {
     "name": "stdout",
     "output_type": "stream",
     "text": [
      "making memmap\n"
     ]
    },
    {
     "name": "stderr",
     "output_type": "stream",
     "text": [
      "    29170250 [cluster.py:setup_cluster():225] [16596] The local backend is an alias for the multiprocessing backend, and the alias may be removed in some future version of Caiman\n"
     ]
    },
    {
     "name": "stdout",
     "output_type": "stream",
     "text": [
      "performing CNMF\n",
      "fitting images\n",
      "refitting\n",
      "performing eval\n"
     ]
    },
    {
     "name": "stderr",
     "output_type": "stream",
     "text": [
      "    30348548 [estimates.py:evaluate_components():1060] [16596] NaN values detected for space correlation in [ 582 3959]. Changing their value to -1.\n"
     ]
    },
    {
     "name": "stdout",
     "output_type": "stream",
     "text": [
      "Running 52ab80e3-880f-4ae5-bd38-711c0138ebe2 with local backend\n",
      "************************************************************************\n",
      "\n",
      "Starting CNMF item:\n",
      "algo                                                                                                                                   cnmf\n",
      "item_name                                                                                                                            cnmf_1\n",
      "input_movie_path                                                                                                tiff\\extracted_plane_18.tif\n",
      "params              {'main': {'fr': 9.62, 'dxy': (1.0, 1.0), 'decay_time': 0.4, 'p': 2, 'nb': 1, 'rf': 40, 'K': 150, 'gSig': [7.5, 7.5],...\n",
      "outputs                                                                                                                                None\n",
      "added_time                                                                                                              2024-10-01T16:34:44\n",
      "ran_time                                                                                                                               None\n",
      "algo_duration                                                                                                                          None\n",
      "comments                                                                                                                               None\n",
      "uuid                                                                                                   52ab80e3-880f-4ae5-bd38-711c0138ebe2\n",
      "Name: 17, dtype: object\n",
      "With params:{'main': {'fr': 9.62, 'dxy': (1.0, 1.0), 'decay_time': 0.4, 'p': 2, 'nb': 1, 'rf': 40, 'K': 150, 'gSig': array([7.5, 7.5]), 'stride': 10, 'method_init': 'greedy_roi', 'rolling_sum': True, 'use_cnn': False, 'ssub': 1, 'tsub': 1, 'merge_thr': 0.8, 'bas_nonneg': True, 'min_SNR': 1.4, 'rval_thr': 0.8}, 'refit': True}\n"
     ]
    },
    {
     "name": "stderr",
     "output_type": "stream",
     "text": [
      "    30355360 [cluster.py:setup_cluster():225] [16596] The local backend is an alias for the multiprocessing backend, and the alias may be removed in some future version of Caiman\n",
      "    30355468 [params.py:change_params():1151] [16596] In setting CNMFParams, non-pathed parameters were used; this is deprecated. In some future version of Caiman, allow_legacy will default to False (and eventually will be removed)\n",
      "<tifffile.TiffFile 'extracted_plane_18.tif'> shaped series axes do not match shape\n"
     ]
    },
    {
     "name": "stdout",
     "output_type": "stream",
     "text": [
      "making memmap\n"
     ]
    },
    {
     "name": "stderr",
     "output_type": "stream",
     "text": [
      "    30367833 [cluster.py:setup_cluster():225] [16596] The local backend is an alias for the multiprocessing backend, and the alias may be removed in some future version of Caiman\n"
     ]
    },
    {
     "name": "stdout",
     "output_type": "stream",
     "text": [
      "performing CNMF\n",
      "fitting images\n",
      "refitting\n",
      "performing eval\n"
     ]
    },
    {
     "name": "stderr",
     "output_type": "stream",
     "text": [
      "    31452651 [estimates.py:evaluate_components():1060] [16596] NaN values detected for space correlation in [9105]. Changing their value to -1.\n"
     ]
    },
    {
     "name": "stdout",
     "output_type": "stream",
     "text": [
      "Running 65c8dfa4-2a65-4618-8240-7f08fccce4ad with local backend\n",
      "************************************************************************\n",
      "\n",
      "Starting CNMF item:\n",
      "algo                                                                                                                                   cnmf\n",
      "item_name                                                                                                                            cnmf_1\n",
      "input_movie_path                                                                                                tiff\\extracted_plane_19.tif\n",
      "params              {'main': {'fr': 9.62, 'dxy': (1.0, 1.0), 'decay_time': 0.4, 'p': 2, 'nb': 1, 'rf': 40, 'K': 150, 'gSig': [7.5, 7.5],...\n",
      "outputs                                                                                                                                None\n",
      "added_time                                                                                                              2024-10-01T16:34:44\n",
      "ran_time                                                                                                                               None\n",
      "algo_duration                                                                                                                          None\n",
      "comments                                                                                                                               None\n",
      "uuid                                                                                                   65c8dfa4-2a65-4618-8240-7f08fccce4ad\n",
      "Name: 18, dtype: object\n",
      "With params:{'main': {'fr': 9.62, 'dxy': (1.0, 1.0), 'decay_time': 0.4, 'p': 2, 'nb': 1, 'rf': 40, 'K': 150, 'gSig': array([7.5, 7.5]), 'stride': 10, 'method_init': 'greedy_roi', 'rolling_sum': True, 'use_cnn': False, 'ssub': 1, 'tsub': 1, 'merge_thr': 0.8, 'bas_nonneg': True, 'min_SNR': 1.4, 'rval_thr': 0.8}, 'refit': True}\n"
     ]
    },
    {
     "name": "stderr",
     "output_type": "stream",
     "text": [
      "    31459533 [cluster.py:setup_cluster():225] [16596] The local backend is an alias for the multiprocessing backend, and the alias may be removed in some future version of Caiman\n",
      "    31459639 [params.py:change_params():1151] [16596] In setting CNMFParams, non-pathed parameters were used; this is deprecated. In some future version of Caiman, allow_legacy will default to False (and eventually will be removed)\n",
      "<tifffile.TiffFile 'extracted_plane_19.tif'> shaped series axes do not match shape\n"
     ]
    },
    {
     "name": "stdout",
     "output_type": "stream",
     "text": [
      "making memmap\n"
     ]
    },
    {
     "name": "stderr",
     "output_type": "stream",
     "text": [
      "    31472279 [cluster.py:setup_cluster():225] [16596] The local backend is an alias for the multiprocessing backend, and the alias may be removed in some future version of Caiman\n"
     ]
    },
    {
     "name": "stdout",
     "output_type": "stream",
     "text": [
      "performing CNMF\n",
      "fitting images\n",
      "refitting\n",
      "performing eval\n",
      "Running 473b088b-1b8e-4ecb-97e2-75eb299851b2 with local backend\n",
      "************************************************************************\n",
      "\n",
      "Starting CNMF item:\n",
      "algo                                                                                                                                   cnmf\n",
      "item_name                                                                                                                            cnmf_1\n",
      "input_movie_path                                                                                                tiff\\extracted_plane_20.tif\n",
      "params              {'main': {'fr': 9.62, 'dxy': (1.0, 1.0), 'decay_time': 0.4, 'p': 2, 'nb': 1, 'rf': 40, 'K': 150, 'gSig': [7.5, 7.5],...\n",
      "outputs                                                                                                                                None\n",
      "added_time                                                                                                              2024-10-01T16:34:44\n",
      "ran_time                                                                                                                               None\n",
      "algo_duration                                                                                                                          None\n",
      "comments                                                                                                                               None\n",
      "uuid                                                                                                   473b088b-1b8e-4ecb-97e2-75eb299851b2\n",
      "Name: 19, dtype: object\n",
      "With params:{'main': {'fr': 9.62, 'dxy': (1.0, 1.0), 'decay_time': 0.4, 'p': 2, 'nb': 1, 'rf': 40, 'K': 150, 'gSig': array([7.5, 7.5]), 'stride': 10, 'method_init': 'greedy_roi', 'rolling_sum': True, 'use_cnn': False, 'ssub': 1, 'tsub': 1, 'merge_thr': 0.8, 'bas_nonneg': True, 'min_SNR': 1.4, 'rval_thr': 0.8}, 'refit': True}\n"
     ]
    },
    {
     "name": "stderr",
     "output_type": "stream",
     "text": [
      "    32586470 [cluster.py:setup_cluster():225] [16596] The local backend is an alias for the multiprocessing backend, and the alias may be removed in some future version of Caiman\n",
      "    32586579 [params.py:change_params():1151] [16596] In setting CNMFParams, non-pathed parameters were used; this is deprecated. In some future version of Caiman, allow_legacy will default to False (and eventually will be removed)\n",
      "<tifffile.TiffFile 'extracted_plane_20.tif'> shaped series axes do not match shape\n"
     ]
    },
    {
     "name": "stdout",
     "output_type": "stream",
     "text": [
      "making memmap\n"
     ]
    },
    {
     "name": "stderr",
     "output_type": "stream",
     "text": [
      "    32599260 [cluster.py:setup_cluster():225] [16596] The local backend is an alias for the multiprocessing backend, and the alias may be removed in some future version of Caiman\n"
     ]
    },
    {
     "name": "stdout",
     "output_type": "stream",
     "text": [
      "performing CNMF\n",
      "fitting images\n",
      "refitting\n",
      "performing eval\n"
     ]
    },
    {
     "name": "stderr",
     "output_type": "stream",
     "text": [
      "    33628117 [estimates.py:evaluate_components():1060] [16596] NaN values detected for space correlation in [7225 9423]. Changing their value to -1.\n"
     ]
    },
    {
     "name": "stdout",
     "output_type": "stream",
     "text": [
      "Running 60d2fc66-20a9-4f00-b6f7-b9e80440efe7 with local backend\n",
      "************************************************************************\n",
      "\n",
      "Starting CNMF item:\n",
      "algo                                                                                                                                   cnmf\n",
      "item_name                                                                                                                            cnmf_1\n",
      "input_movie_path                                                                                                tiff\\extracted_plane_21.tif\n",
      "params              {'main': {'fr': 9.62, 'dxy': (1.0, 1.0), 'decay_time': 0.4, 'p': 2, 'nb': 1, 'rf': 40, 'K': 150, 'gSig': [7.5, 7.5],...\n",
      "outputs                                                                                                                                None\n",
      "added_time                                                                                                              2024-10-01T16:34:44\n",
      "ran_time                                                                                                                               None\n",
      "algo_duration                                                                                                                          None\n",
      "comments                                                                                                                               None\n",
      "uuid                                                                                                   60d2fc66-20a9-4f00-b6f7-b9e80440efe7\n",
      "Name: 20, dtype: object\n",
      "With params:{'main': {'fr': 9.62, 'dxy': (1.0, 1.0), 'decay_time': 0.4, 'p': 2, 'nb': 1, 'rf': 40, 'K': 150, 'gSig': array([7.5, 7.5]), 'stride': 10, 'method_init': 'greedy_roi', 'rolling_sum': True, 'use_cnn': False, 'ssub': 1, 'tsub': 1, 'merge_thr': 0.8, 'bas_nonneg': True, 'min_SNR': 1.4, 'rval_thr': 0.8}, 'refit': True}\n"
     ]
    },
    {
     "name": "stderr",
     "output_type": "stream",
     "text": [
      "    33634801 [cluster.py:setup_cluster():225] [16596] The local backend is an alias for the multiprocessing backend, and the alias may be removed in some future version of Caiman\n",
      "    33634913 [params.py:change_params():1151] [16596] In setting CNMFParams, non-pathed parameters were used; this is deprecated. In some future version of Caiman, allow_legacy will default to False (and eventually will be removed)\n",
      "<tifffile.TiffFile 'extracted_plane_21.tif'> shaped series axes do not match shape\n"
     ]
    },
    {
     "name": "stdout",
     "output_type": "stream",
     "text": [
      "making memmap\n"
     ]
    },
    {
     "name": "stderr",
     "output_type": "stream",
     "text": [
      "    33647481 [cluster.py:setup_cluster():225] [16596] The local backend is an alias for the multiprocessing backend, and the alias may be removed in some future version of Caiman\n"
     ]
    },
    {
     "name": "stdout",
     "output_type": "stream",
     "text": [
      "performing CNMF\n",
      "fitting images\n",
      "refitting\n",
      "performing eval\n"
     ]
    },
    {
     "name": "stderr",
     "output_type": "stream",
     "text": [
      "    34717794 [estimates.py:evaluate_components():1060] [16596] NaN values detected for space correlation in [9804]. Changing their value to -1.\n"
     ]
    },
    {
     "name": "stdout",
     "output_type": "stream",
     "text": [
      "Running 8926526d-cc18-47e2-b599-1496b2c9f03e with local backend\n",
      "************************************************************************\n",
      "\n",
      "Starting CNMF item:\n",
      "algo                                                                                                                                   cnmf\n",
      "item_name                                                                                                                            cnmf_1\n",
      "input_movie_path                                                                                                tiff\\extracted_plane_22.tif\n",
      "params              {'main': {'fr': 9.62, 'dxy': (1.0, 1.0), 'decay_time': 0.4, 'p': 2, 'nb': 1, 'rf': 40, 'K': 150, 'gSig': [7.5, 7.5],...\n",
      "outputs                                                                                                                                None\n",
      "added_time                                                                                                              2024-10-01T16:34:44\n",
      "ran_time                                                                                                                               None\n",
      "algo_duration                                                                                                                          None\n",
      "comments                                                                                                                               None\n",
      "uuid                                                                                                   8926526d-cc18-47e2-b599-1496b2c9f03e\n",
      "Name: 21, dtype: object\n",
      "With params:{'main': {'fr': 9.62, 'dxy': (1.0, 1.0), 'decay_time': 0.4, 'p': 2, 'nb': 1, 'rf': 40, 'K': 150, 'gSig': array([7.5, 7.5]), 'stride': 10, 'method_init': 'greedy_roi', 'rolling_sum': True, 'use_cnn': False, 'ssub': 1, 'tsub': 1, 'merge_thr': 0.8, 'bas_nonneg': True, 'min_SNR': 1.4, 'rval_thr': 0.8}, 'refit': True}\n"
     ]
    },
    {
     "name": "stderr",
     "output_type": "stream",
     "text": [
      "    34724915 [cluster.py:setup_cluster():225] [16596] The local backend is an alias for the multiprocessing backend, and the alias may be removed in some future version of Caiman\n",
      "    34725027 [params.py:change_params():1151] [16596] In setting CNMFParams, non-pathed parameters were used; this is deprecated. In some future version of Caiman, allow_legacy will default to False (and eventually will be removed)\n",
      "<tifffile.TiffFile 'extracted_plane_22.tif'> shaped series axes do not match shape\n"
     ]
    },
    {
     "name": "stdout",
     "output_type": "stream",
     "text": [
      "making memmap\n"
     ]
    },
    {
     "name": "stderr",
     "output_type": "stream",
     "text": [
      "    34737745 [cluster.py:setup_cluster():225] [16596] The local backend is an alias for the multiprocessing backend, and the alias may be removed in some future version of Caiman\n"
     ]
    },
    {
     "name": "stdout",
     "output_type": "stream",
     "text": [
      "performing CNMF\n",
      "fitting images\n",
      "refitting\n",
      "performing eval\n"
     ]
    },
    {
     "name": "stderr",
     "output_type": "stream",
     "text": [
      "    35933489 [estimates.py:evaluate_components():1060] [16596] NaN values detected for space correlation in [9962]. Changing their value to -1.\n"
     ]
    },
    {
     "name": "stdout",
     "output_type": "stream",
     "text": [
      "Running f2b1c811-e02a-4058-a15b-861ee1128793 with local backend\n",
      "************************************************************************\n",
      "\n",
      "Starting CNMF item:\n",
      "algo                                                                                                                                   cnmf\n",
      "item_name                                                                                                                            cnmf_1\n",
      "input_movie_path                                                                                                tiff\\extracted_plane_23.tif\n",
      "params              {'main': {'fr': 9.62, 'dxy': (1.0, 1.0), 'decay_time': 0.4, 'p': 2, 'nb': 1, 'rf': 40, 'K': 150, 'gSig': [7.5, 7.5],...\n",
      "outputs                                                                                                                                None\n",
      "added_time                                                                                                              2024-10-01T16:34:44\n",
      "ran_time                                                                                                                               None\n",
      "algo_duration                                                                                                                          None\n",
      "comments                                                                                                                               None\n",
      "uuid                                                                                                   f2b1c811-e02a-4058-a15b-861ee1128793\n",
      "Name: 22, dtype: object\n",
      "With params:{'main': {'fr': 9.62, 'dxy': (1.0, 1.0), 'decay_time': 0.4, 'p': 2, 'nb': 1, 'rf': 40, 'K': 150, 'gSig': array([7.5, 7.5]), 'stride': 10, 'method_init': 'greedy_roi', 'rolling_sum': True, 'use_cnn': False, 'ssub': 1, 'tsub': 1, 'merge_thr': 0.8, 'bas_nonneg': True, 'min_SNR': 1.4, 'rval_thr': 0.8}, 'refit': True}\n"
     ]
    },
    {
     "name": "stderr",
     "output_type": "stream",
     "text": [
      "    35940221 [cluster.py:setup_cluster():225] [16596] The local backend is an alias for the multiprocessing backend, and the alias may be removed in some future version of Caiman\n",
      "    35940329 [params.py:change_params():1151] [16596] In setting CNMFParams, non-pathed parameters were used; this is deprecated. In some future version of Caiman, allow_legacy will default to False (and eventually will be removed)\n",
      "<tifffile.TiffFile 'extracted_plane_23.tif'> shaped series axes do not match shape\n"
     ]
    },
    {
     "name": "stdout",
     "output_type": "stream",
     "text": [
      "making memmap\n"
     ]
    },
    {
     "name": "stderr",
     "output_type": "stream",
     "text": [
      "    35953329 [cluster.py:setup_cluster():225] [16596] The local backend is an alias for the multiprocessing backend, and the alias may be removed in some future version of Caiman\n"
     ]
    },
    {
     "name": "stdout",
     "output_type": "stream",
     "text": [
      "performing CNMF\n",
      "fitting images\n",
      "refitting\n",
      "performing eval\n"
     ]
    },
    {
     "name": "stderr",
     "output_type": "stream",
     "text": [
      "    37047605 [estimates.py:evaluate_components():1060] [16596] NaN values detected for space correlation in [10077]. Changing their value to -1.\n"
     ]
    },
    {
     "name": "stdout",
     "output_type": "stream",
     "text": [
      "Running 5c9bd42e-fb07-43f0-a18d-0b9e516db4ec with local backend\n",
      "************************************************************************\n",
      "\n",
      "Starting CNMF item:\n",
      "algo                                                                                                                                   cnmf\n",
      "item_name                                                                                                                            cnmf_1\n",
      "input_movie_path                                                                                                tiff\\extracted_plane_24.tif\n",
      "params              {'main': {'fr': 9.62, 'dxy': (1.0, 1.0), 'decay_time': 0.4, 'p': 2, 'nb': 1, 'rf': 40, 'K': 150, 'gSig': [7.5, 7.5],...\n",
      "outputs                                                                                                                                None\n",
      "added_time                                                                                                              2024-10-01T16:34:44\n",
      "ran_time                                                                                                                               None\n",
      "algo_duration                                                                                                                          None\n",
      "comments                                                                                                                               None\n",
      "uuid                                                                                                   5c9bd42e-fb07-43f0-a18d-0b9e516db4ec\n",
      "Name: 23, dtype: object\n",
      "With params:{'main': {'fr': 9.62, 'dxy': (1.0, 1.0), 'decay_time': 0.4, 'p': 2, 'nb': 1, 'rf': 40, 'K': 150, 'gSig': array([7.5, 7.5]), 'stride': 10, 'method_init': 'greedy_roi', 'rolling_sum': True, 'use_cnn': False, 'ssub': 1, 'tsub': 1, 'merge_thr': 0.8, 'bas_nonneg': True, 'min_SNR': 1.4, 'rval_thr': 0.8}, 'refit': True}\n"
     ]
    },
    {
     "name": "stderr",
     "output_type": "stream",
     "text": [
      "    37054379 [cluster.py:setup_cluster():225] [16596] The local backend is an alias for the multiprocessing backend, and the alias may be removed in some future version of Caiman\n",
      "    37054485 [params.py:change_params():1151] [16596] In setting CNMFParams, non-pathed parameters were used; this is deprecated. In some future version of Caiman, allow_legacy will default to False (and eventually will be removed)\n",
      "<tifffile.TiffFile 'extracted_plane_24.tif'> shaped series axes do not match shape\n"
     ]
    },
    {
     "name": "stdout",
     "output_type": "stream",
     "text": [
      "making memmap\n"
     ]
    },
    {
     "name": "stderr",
     "output_type": "stream",
     "text": [
      "    37067507 [cluster.py:setup_cluster():225] [16596] The local backend is an alias for the multiprocessing backend, and the alias may be removed in some future version of Caiman\n"
     ]
    },
    {
     "name": "stdout",
     "output_type": "stream",
     "text": [
      "performing CNMF\n",
      "fitting images\n",
      "refitting\n",
      "performing eval\n",
      "Running 84004c56-81c1-474b-ab38-327fbf79bf8c with local backend\n",
      "************************************************************************\n",
      "\n",
      "Starting CNMF item:\n",
      "algo                                                                                                                                   cnmf\n",
      "item_name                                                                                                                            cnmf_1\n",
      "input_movie_path                                                                                                tiff\\extracted_plane_25.tif\n",
      "params              {'main': {'fr': 9.62, 'dxy': (1.0, 1.0), 'decay_time': 0.4, 'p': 2, 'nb': 1, 'rf': 40, 'K': 150, 'gSig': [7.5, 7.5],...\n",
      "outputs                                                                                                                                None\n",
      "added_time                                                                                                              2024-10-01T16:34:44\n",
      "ran_time                                                                                                                               None\n",
      "algo_duration                                                                                                                          None\n",
      "comments                                                                                                                               None\n",
      "uuid                                                                                                   84004c56-81c1-474b-ab38-327fbf79bf8c\n",
      "Name: 24, dtype: object\n",
      "With params:{'main': {'fr': 9.62, 'dxy': (1.0, 1.0), 'decay_time': 0.4, 'p': 2, 'nb': 1, 'rf': 40, 'K': 150, 'gSig': array([7.5, 7.5]), 'stride': 10, 'method_init': 'greedy_roi', 'rolling_sum': True, 'use_cnn': False, 'ssub': 1, 'tsub': 1, 'merge_thr': 0.8, 'bas_nonneg': True, 'min_SNR': 1.4, 'rval_thr': 0.8}, 'refit': True}\n"
     ]
    },
    {
     "name": "stderr",
     "output_type": "stream",
     "text": [
      "    38169309 [cluster.py:setup_cluster():225] [16596] The local backend is an alias for the multiprocessing backend, and the alias may be removed in some future version of Caiman\n",
      "    38169411 [params.py:change_params():1151] [16596] In setting CNMFParams, non-pathed parameters were used; this is deprecated. In some future version of Caiman, allow_legacy will default to False (and eventually will be removed)\n",
      "<tifffile.TiffFile 'extracted_plane_25.tif'> shaped series axes do not match shape\n"
     ]
    },
    {
     "name": "stdout",
     "output_type": "stream",
     "text": [
      "making memmap\n"
     ]
    },
    {
     "name": "stderr",
     "output_type": "stream",
     "text": [
      "    38182278 [cluster.py:setup_cluster():225] [16596] The local backend is an alias for the multiprocessing backend, and the alias may be removed in some future version of Caiman\n"
     ]
    },
    {
     "name": "stdout",
     "output_type": "stream",
     "text": [
      "performing CNMF\n",
      "fitting images\n",
      "refitting\n",
      "performing eval\n",
      "Running 23521021-6791-4d41-855d-779eefce6840 with local backend\n",
      "************************************************************************\n",
      "\n",
      "Starting CNMF item:\n",
      "algo                                                                                                                                   cnmf\n",
      "item_name                                                                                                                            cnmf_1\n",
      "input_movie_path                                                                                                tiff\\extracted_plane_26.tif\n",
      "params              {'main': {'fr': 9.62, 'dxy': (1.0, 1.0), 'decay_time': 0.4, 'p': 2, 'nb': 1, 'rf': 40, 'K': 150, 'gSig': [7.5, 7.5],...\n",
      "outputs                                                                                                                                None\n",
      "added_time                                                                                                              2024-10-01T16:34:44\n",
      "ran_time                                                                                                                               None\n",
      "algo_duration                                                                                                                          None\n",
      "comments                                                                                                                               None\n",
      "uuid                                                                                                   23521021-6791-4d41-855d-779eefce6840\n",
      "Name: 25, dtype: object\n",
      "With params:{'main': {'fr': 9.62, 'dxy': (1.0, 1.0), 'decay_time': 0.4, 'p': 2, 'nb': 1, 'rf': 40, 'K': 150, 'gSig': array([7.5, 7.5]), 'stride': 10, 'method_init': 'greedy_roi', 'rolling_sum': True, 'use_cnn': False, 'ssub': 1, 'tsub': 1, 'merge_thr': 0.8, 'bas_nonneg': True, 'min_SNR': 1.4, 'rval_thr': 0.8}, 'refit': True}\n"
     ]
    },
    {
     "name": "stderr",
     "output_type": "stream",
     "text": [
      "    39302316 [cluster.py:setup_cluster():225] [16596] The local backend is an alias for the multiprocessing backend, and the alias may be removed in some future version of Caiman\n",
      "    39302420 [params.py:change_params():1151] [16596] In setting CNMFParams, non-pathed parameters were used; this is deprecated. In some future version of Caiman, allow_legacy will default to False (and eventually will be removed)\n",
      "<tifffile.TiffFile 'extracted_plane_26.tif'> shaped series axes do not match shape\n"
     ]
    },
    {
     "name": "stdout",
     "output_type": "stream",
     "text": [
      "making memmap\n"
     ]
    },
    {
     "name": "stderr",
     "output_type": "stream",
     "text": [
      "    39315055 [cluster.py:setup_cluster():225] [16596] The local backend is an alias for the multiprocessing backend, and the alias may be removed in some future version of Caiman\n"
     ]
    },
    {
     "name": "stdout",
     "output_type": "stream",
     "text": [
      "performing CNMF\n",
      "fitting images\n",
      "refitting\n",
      "performing eval\n"
     ]
    },
    {
     "name": "stderr",
     "output_type": "stream",
     "text": [
      "    40315273 [estimates.py:evaluate_components():1060] [16596] NaN values detected for space correlation in [ 947 1288]. Changing their value to -1.\n"
     ]
    },
    {
     "name": "stdout",
     "output_type": "stream",
     "text": [
      "Running 07907a0b-b138-41e3-99a7-f7153738a640 with local backend\n",
      "************************************************************************\n",
      "\n",
      "Starting CNMF item:\n",
      "algo                                                                                                                                   cnmf\n",
      "item_name                                                                                                                            cnmf_1\n",
      "input_movie_path                                                                                                tiff\\extracted_plane_27.tif\n",
      "params              {'main': {'fr': 9.62, 'dxy': (1.0, 1.0), 'decay_time': 0.4, 'p': 2, 'nb': 1, 'rf': 40, 'K': 150, 'gSig': [7.5, 7.5],...\n",
      "outputs                                                                                                                                None\n",
      "added_time                                                                                                              2024-10-01T16:34:44\n",
      "ran_time                                                                                                                               None\n",
      "algo_duration                                                                                                                          None\n",
      "comments                                                                                                                               None\n",
      "uuid                                                                                                   07907a0b-b138-41e3-99a7-f7153738a640\n",
      "Name: 26, dtype: object\n",
      "With params:{'main': {'fr': 9.62, 'dxy': (1.0, 1.0), 'decay_time': 0.4, 'p': 2, 'nb': 1, 'rf': 40, 'K': 150, 'gSig': array([7.5, 7.5]), 'stride': 10, 'method_init': 'greedy_roi', 'rolling_sum': True, 'use_cnn': False, 'ssub': 1, 'tsub': 1, 'merge_thr': 0.8, 'bas_nonneg': True, 'min_SNR': 1.4, 'rval_thr': 0.8}, 'refit': True}\n"
     ]
    },
    {
     "name": "stderr",
     "output_type": "stream",
     "text": [
      "    40322141 [cluster.py:setup_cluster():225] [16596] The local backend is an alias for the multiprocessing backend, and the alias may be removed in some future version of Caiman\n",
      "    40322241 [params.py:change_params():1151] [16596] In setting CNMFParams, non-pathed parameters were used; this is deprecated. In some future version of Caiman, allow_legacy will default to False (and eventually will be removed)\n",
      "<tifffile.TiffFile 'extracted_plane_27.tif'> shaped series axes do not match shape\n"
     ]
    },
    {
     "name": "stdout",
     "output_type": "stream",
     "text": [
      "making memmap\n"
     ]
    },
    {
     "name": "stderr",
     "output_type": "stream",
     "text": [
      "    40334799 [cluster.py:setup_cluster():225] [16596] The local backend is an alias for the multiprocessing backend, and the alias may be removed in some future version of Caiman\n"
     ]
    },
    {
     "name": "stdout",
     "output_type": "stream",
     "text": [
      "performing CNMF\n",
      "fitting images\n",
      "refitting\n",
      "performing eval\n"
     ]
    },
    {
     "name": "stderr",
     "output_type": "stream",
     "text": [
      "    41494502 [estimates.py:evaluate_components():1060] [16596] NaN values detected for space correlation in [ 891 5310 5924]. Changing their value to -1.\n"
     ]
    },
    {
     "name": "stdout",
     "output_type": "stream",
     "text": [
      "Running 8b7cbfb4-7c62-4780-a90c-5275cbe1f318 with local backend\n",
      "************************************************************************\n",
      "\n",
      "Starting CNMF item:\n",
      "algo                                                                                                                                   cnmf\n",
      "item_name                                                                                                                            cnmf_1\n",
      "input_movie_path                                                                                                tiff\\extracted_plane_28.tif\n",
      "params              {'main': {'fr': 9.62, 'dxy': (1.0, 1.0), 'decay_time': 0.4, 'p': 2, 'nb': 1, 'rf': 40, 'K': 150, 'gSig': [7.5, 7.5],...\n",
      "outputs                                                                                                                                None\n",
      "added_time                                                                                                              2024-10-01T16:34:44\n",
      "ran_time                                                                                                                               None\n",
      "algo_duration                                                                                                                          None\n",
      "comments                                                                                                                               None\n",
      "uuid                                                                                                   8b7cbfb4-7c62-4780-a90c-5275cbe1f318\n",
      "Name: 27, dtype: object\n",
      "With params:{'main': {'fr': 9.62, 'dxy': (1.0, 1.0), 'decay_time': 0.4, 'p': 2, 'nb': 1, 'rf': 40, 'K': 150, 'gSig': array([7.5, 7.5]), 'stride': 10, 'method_init': 'greedy_roi', 'rolling_sum': True, 'use_cnn': False, 'ssub': 1, 'tsub': 1, 'merge_thr': 0.8, 'bas_nonneg': True, 'min_SNR': 1.4, 'rval_thr': 0.8}, 'refit': True}\n"
     ]
    },
    {
     "name": "stderr",
     "output_type": "stream",
     "text": [
      "    41501713 [cluster.py:setup_cluster():225] [16596] The local backend is an alias for the multiprocessing backend, and the alias may be removed in some future version of Caiman\n",
      "    41501811 [params.py:change_params():1151] [16596] In setting CNMFParams, non-pathed parameters were used; this is deprecated. In some future version of Caiman, allow_legacy will default to False (and eventually will be removed)\n",
      "<tifffile.TiffFile 'extracted_plane_28.tif'> shaped series axes do not match shape\n"
     ]
    },
    {
     "name": "stdout",
     "output_type": "stream",
     "text": [
      "making memmap\n"
     ]
    },
    {
     "name": "stderr",
     "output_type": "stream",
     "text": [
      "    41514314 [cluster.py:setup_cluster():225] [16596] The local backend is an alias for the multiprocessing backend, and the alias may be removed in some future version of Caiman\n"
     ]
    },
    {
     "name": "stdout",
     "output_type": "stream",
     "text": [
      "performing CNMF\n",
      "fitting images\n",
      "refitting\n",
      "performing eval\n"
     ]
    },
    {
     "name": "stderr",
     "output_type": "stream",
     "text": [
      "    42442632 [estimates.py:evaluate_components():1060] [16596] NaN values detected for space correlation in [ 4414  4684  7886  8450  8963 10179]. Changing their value to -1.\n"
     ]
    }
   ],
   "source": [
    "for i, row in cnmf_batch.iterrows():\n",
    "    if row[\"outputs\"] is not None:\n",
    "        continue\n",
    "\n",
    "    process = row.caiman.run()\n",
    "\n",
    "    # on Windows you MUST reload the batch dataframe after every iteration because it uses the `local` backend.\n",
    "    # this is unnecessary on Linux & Mac\n",
    "    # \"DummyProcess\" is used for local backend so this is automatic\n",
    "    if process.__class__.__name__ == \"DummyProcess\":\n",
    "        df = cnmf_batch.caiman.reload_from_disk()"
   ]
  },
  {
   "cell_type": "code",
   "execution_count": null,
   "id": "e1c0a39e",
   "metadata": {},
   "outputs": [],
   "source": [
    "import fastplitlib as fpl\n",
    "\n",
    "# create image widget for raw neural activity\n",
    "raw_iw = fpl.Figure()\n",
    "\n",
    "# re-add our identified good components from before using the SNR mapping\n",
    "contours_graphic = raw_iw[0,0].add_line_collection(data=contours, cmap=\"spring\", thickness=2, name=\"contours\")\n",
    "\n",
    "# get temporal components\n",
    "temporal = df.iloc[row_ix].cnmf.get_temporal(component_indices=\"good\")\n",
    "\n",
    "# temporal plot\n",
    "plot_temporal = fpl.Figure(size=(600,100))\n",
    "plot_temporal[0,0].add_line(temporal[0], colors=\"magenta\")\n",
    "\n",
    "# add a linear selector to temporal trace\n",
    "plot_temporal[0,0].graphics[0].add_linear_selector()\n",
    "\n",
    "# show temporal plot and mcorr/rcm plot in ipywidgets VBox\n",
    "sc = Sidecar()\n",
    "\n",
    "# with sc:\n",
    "display(VBox([raw_iw.show(), plot_temporal.show()]))"
   ]
  },
  {
   "cell_type": "code",
   "execution_count": null,
   "id": "751a5717",
   "metadata": {},
   "outputs": [],
   "source": [
    "from ipywidgets import Tab, Text, Button, VBox, interact_manual, interactive\n",
    "@interact_manual(parent_path=str(parent_path), batch_path=str(batch_path))\n",
    "def start_widget(parent_path, batch_path):\n",
    "    mc.set_parent_raw_data_path(parent_path)\n",
    "\n",
    "    df = mc.load_batch(batch_path)\n",
    "\n",
    "    tab = Tab()\n",
    "\n",
    "    # mcorr_container = df.mcorr.viz()\n",
    "    cnmf_container = df.cnmf.viz(start_index=1)\n",
    "\n",
    "    tab.children = [cnmf_container.show()]\n",
    "    tab.titles = [\"cnmf\"]\n",
    "    display(tab)"
   ]
  }
 ],
 "metadata": {
  "kernelspec": {
   "display_name": "lcp",
   "language": "python",
   "name": "python3"
  },
  "language_info": {
   "codemirror_mode": {
    "name": "ipython",
    "version": 3
   },
   "file_extension": ".py",
   "mimetype": "text/x-python",
   "name": "python",
   "nbconvert_exporter": "python",
   "pygments_lexer": "ipython3",
   "version": "3.10.8"
  }
 },
 "nbformat": 4,
 "nbformat_minor": 5
}
