{
 "cells": [
  {
   "cell_type": "markdown",
   "id": "1acd06e5",
   "metadata": {},
   "source": [
    "# LBM Step 3: Segmentation\n",
    "\n",
    "## Segmentation: Extract neuronal locations and planar time-traces.\n",
    "\n",
    "- Apply the constrained nonnegative matrix factorization (CNMF) source separation algorithm to extract initial estimates of neuronal spatial footprints and calcium traces.\n",
    "- Apply quality control metrics to evaluate the initial estimates, and narrow down to the final set of estimates."
   ]
  },
  {
   "cell_type": "markdown",
   "id": "ffcdc48d",
   "metadata": {},
   "source": [
    "# Caiman docs on component eval\n",
    "\n",
    "https://caiman.readthedocs.io/en/latest/Getting_Started.html#component-evaluation\n",
    "\n",
    "> The quality of detected components is evaluated with three parameters:\n",
    ">\n",
    "> Spatial footprint consistency (rval): The spatial footprint of the component is compared with the frames where this component is active. Other component’s signals are subtracted from these frames, and the resulting raw data is correlated against the spatial component. This ensures that the raw data at the spatial footprint aligns with the extracted trace.\n",
    ">\n",
    "> Trace signal-noise-ratio (SNR): Peak SNR is calculated from strong calcium transients and the noise estimate.\n",
    ">\n",
    "> CNN-based classifier (cnn): The shape of components is evaluated by a 4-layered convolutional neural network trained on a manually annotated dataset. The CNN assigns a value of 0-1 to each component depending on its resemblance to a neuronal soma.\n",
    "> \n",
    "> Each parameter has a low threshold:\n",
    "> - (rval_lowest (default -1), SNR_lowest (default 0.5), cnn_lowest (default 0.1))\n",
    ">\n",
    "> and high threshold\n",
    "> \n",
    "> - (rval_thr (default 0.8), min_SNR (default 2.5), min_cnn_thr (default 0.9))\n",
    "> \n",
    "> A component has to exceed ALL low thresholds as well as ONE high threshold to be accepted."
   ]
  },
  {
   "cell_type": "code",
   "execution_count": 2,
   "id": "09288483",
   "metadata": {},
   "outputs": [
    {
     "name": "stderr",
     "output_type": "stream",
     "text": [
      "2024-09-06 02:42:16.355980: E external/local_xla/xla/stream_executor/cuda/cuda_dnn.cc:9261] Unable to register cuDNN factory: Attempting to register factory for plugin cuDNN when one has already been registered\n",
      "2024-09-06 02:42:16.356008: E external/local_xla/xla/stream_executor/cuda/cuda_fft.cc:607] Unable to register cuFFT factory: Attempting to register factory for plugin cuFFT when one has already been registered\n",
      "2024-09-06 02:42:16.356358: E external/local_xla/xla/stream_executor/cuda/cuda_blas.cc:1515] Unable to register cuBLAS factory: Attempting to register factory for plugin cuBLAS when one has already been registered\n"
     ]
    }
   ],
   "source": [
    "import sys\n",
    "from pathlib import Path\n",
    "import os\n",
    "import numpy as np\n",
    "import zarr\n",
    "\n",
    "import logging\n",
    "import mesmerize_core as mc\n",
    "import matplotlib.pyplot as plt\n",
    "\n",
    "try:\n",
    "    import cv2\n",
    "    cv2.setNumThreads(0)\n",
    "except():\n",
    "    pass\n",
    "\n",
    "logging.basicConfig()\n",
    "\n",
    "from mesmerize_core.caiman_extensions.cnmf import cnmf_cache\n",
    "\n",
    "os.environ[\"CONDA_PREFIX_1\"] = \"\"\n",
    "if os.name == \"nt\":\n",
    "    # disable the cache on windows, this will be automatic in a future version\n",
    "    cnmf_cache.set_maxsize(0)\n",
    "\n",
    "raw_data_path = Path().home() / \"caiman_data\"\n",
    "movie_path = raw_data_path / 'animal_01' / \"session_01\" / 'save_gui.zarr'\n"
   ]
  },
  {
   "cell_type": "markdown",
   "id": "c16f235f-703b-4004-9cde-46794cafcf4a",
   "metadata": {
    "pycharm": {
     "name": "#%% md\n"
    },
    "tags": []
   },
   "source": [
    "# Paths (TODO)\n",
    "\n",
    "```\n",
    "/\n",
    "    └── \n",
    "        ├── a\n",
    "        │   ├── \n",
    "        │   │   ├── \n",
    "        │   │   ├── \n",
    "        │   │   └── \n",
    "        │   ├── \n",
    "        │   │   ├── \n",
    "        │   │   └── \n",
    "        │   └── \n",
    "        └── \n",
    "            ├──\n",
    "            │   ├── \n",
    "            │   ├── \n",
    "            │   └── \n",
    "            ├── \n",
    "            └── \n",
    "```\n",
    "\n",
    "**For this demo set the `caiman_data` dir as the parent raw data path**"
   ]
  },
  {
   "cell_type": "markdown",
   "id": "af643600-187a-4812-8fab-d277542aae45",
   "metadata": {},
   "source": [
    "### Batch path, this is where caiman outputs will be organized, same as the previous step\n",
    "\n",
    "This can be anywhere, it does not need to be under the parent raw data path."
   ]
  },
  {
   "cell_type": "code",
   "execution_count": 3,
   "id": "d65b3a8e",
   "metadata": {},
   "outputs": [
    {
     "data": {
      "text/html": [
       "<div>\n",
       "<style scoped>\n",
       "    .dataframe tbody tr th:only-of-type {\n",
       "        vertical-align: middle;\n",
       "    }\n",
       "\n",
       "    .dataframe tbody tr th {\n",
       "        vertical-align: top;\n",
       "    }\n",
       "\n",
       "    .dataframe thead th {\n",
       "        text-align: right;\n",
       "    }\n",
       "</style>\n",
       "<table border=\"1\" class=\"dataframe\">\n",
       "  <thead>\n",
       "    <tr style=\"text-align: right;\">\n",
       "      <th></th>\n",
       "      <th>algo</th>\n",
       "      <th>item_name</th>\n",
       "      <th>input_movie_path</th>\n",
       "      <th>params</th>\n",
       "      <th>outputs</th>\n",
       "      <th>added_time</th>\n",
       "      <th>ran_time</th>\n",
       "      <th>algo_duration</th>\n",
       "      <th>comments</th>\n",
       "      <th>uuid</th>\n",
       "    </tr>\n",
       "  </thead>\n",
       "  <tbody>\n",
       "    <tr>\n",
       "      <th>0</th>\n",
       "      <td>mcorr</td>\n",
       "      <td>save_gui</td>\n",
       "      <td>animal_01/session_01/save_gui.zarr</td>\n",
       "      <td>{'main': {'var_name_hdf5': 'plane_2', 'max_shi...</td>\n",
       "      <td>{'mean-projection-path': 9781250d-22cb-4ebc-9d...</td>\n",
       "      <td>2024-09-06T00:19:51</td>\n",
       "      <td>2024-09-06T00:33:05</td>\n",
       "      <td>764.98 sec</td>\n",
       "      <td>None</td>\n",
       "      <td>9781250d-22cb-4ebc-9de1-ad97e101ddee</td>\n",
       "    </tr>\n",
       "    <tr>\n",
       "      <th>1</th>\n",
       "      <td>mcorr</td>\n",
       "      <td>save_gui</td>\n",
       "      <td>animal_01/session_01/save_gui.zarr</td>\n",
       "      <td>{'main': {'var_name_hdf5': 'plane_2', 'max_shi...</td>\n",
       "      <td>{'mean-projection-path': 5ffcad60-5506-4243-93...</td>\n",
       "      <td>2024-09-06T00:19:51</td>\n",
       "      <td>2024-09-06T00:35:31</td>\n",
       "      <td>142.87 sec</td>\n",
       "      <td>None</td>\n",
       "      <td>5ffcad60-5506-4243-936c-f8473ff4ab50</td>\n",
       "    </tr>\n",
       "    <tr>\n",
       "      <th>2</th>\n",
       "      <td>mcorr</td>\n",
       "      <td>save_gui</td>\n",
       "      <td>animal_01/session_01/save_gui.zarr</td>\n",
       "      <td>{'main': {'var_name_hdf5': 'plane_2', 'max_shi...</td>\n",
       "      <td>{'mean-projection-path': 0a463c4f-985d-47a4-9e...</td>\n",
       "      <td>2024-09-06T00:19:51</td>\n",
       "      <td>2024-09-06T00:48:21</td>\n",
       "      <td>766.17 sec</td>\n",
       "      <td>None</td>\n",
       "      <td>0a463c4f-985d-47a4-9e95-cf776d98a1a3</td>\n",
       "    </tr>\n",
       "    <tr>\n",
       "      <th>3</th>\n",
       "      <td>mcorr</td>\n",
       "      <td>save_gui</td>\n",
       "      <td>animal_01/session_01/save_gui.zarr</td>\n",
       "      <td>{'main': {'var_name_hdf5': 'plane_2', 'max_shi...</td>\n",
       "      <td>{'mean-projection-path': 8cb260f3-ced8-4433-b9...</td>\n",
       "      <td>2024-09-06T00:19:51</td>\n",
       "      <td>2024-09-06T00:50:47</td>\n",
       "      <td>142.94 sec</td>\n",
       "      <td>None</td>\n",
       "      <td>8cb260f3-ced8-4433-b9bf-fd6116b20964</td>\n",
       "    </tr>\n",
       "  </tbody>\n",
       "</table>\n",
       "</div>"
      ],
      "text/plain": [
       "    algo item_name                    input_movie_path  \\\n",
       "0  mcorr  save_gui  animal_01/session_01/save_gui.zarr   \n",
       "1  mcorr  save_gui  animal_01/session_01/save_gui.zarr   \n",
       "2  mcorr  save_gui  animal_01/session_01/save_gui.zarr   \n",
       "3  mcorr  save_gui  animal_01/session_01/save_gui.zarr   \n",
       "\n",
       "                                              params  \\\n",
       "0  {'main': {'var_name_hdf5': 'plane_2', 'max_shi...   \n",
       "1  {'main': {'var_name_hdf5': 'plane_2', 'max_shi...   \n",
       "2  {'main': {'var_name_hdf5': 'plane_2', 'max_shi...   \n",
       "3  {'main': {'var_name_hdf5': 'plane_2', 'max_shi...   \n",
       "\n",
       "                                             outputs           added_time  \\\n",
       "0  {'mean-projection-path': 9781250d-22cb-4ebc-9d...  2024-09-06T00:19:51   \n",
       "1  {'mean-projection-path': 5ffcad60-5506-4243-93...  2024-09-06T00:19:51   \n",
       "2  {'mean-projection-path': 0a463c4f-985d-47a4-9e...  2024-09-06T00:19:51   \n",
       "3  {'mean-projection-path': 8cb260f3-ced8-4433-b9...  2024-09-06T00:19:51   \n",
       "\n",
       "              ran_time algo_duration comments  \\\n",
       "0  2024-09-06T00:33:05    764.98 sec     None   \n",
       "1  2024-09-06T00:35:31    142.87 sec     None   \n",
       "2  2024-09-06T00:48:21    766.17 sec     None   \n",
       "3  2024-09-06T00:50:47    142.94 sec     None   \n",
       "\n",
       "                                   uuid  \n",
       "0  9781250d-22cb-4ebc-9de1-ad97e101ddee  \n",
       "1  5ffcad60-5506-4243-936c-f8473ff4ab50  \n",
       "2  0a463c4f-985d-47a4-9e95-cf776d98a1a3  \n",
       "3  8cb260f3-ced8-4433-b9bf-fd6116b20964  "
      ]
     },
     "execution_count": 3,
     "metadata": {},
     "output_type": "execute_result"
    }
   ],
   "source": [
    "batch_path = raw_data_path / 'batch.pickle'\n",
    "mc.set_parent_raw_data_path(str(raw_data_path))\n",
    "\n",
    "# you could alos load the registration batch and \n",
    "# save this patch in a new dataframe (saved to disk automatically)\n",
    "try:\n",
    "    df = mc.load_batch(batch_path)\n",
    "except (IsADirectoryError, FileNotFoundError):\n",
    "    df = mc.create_batch(batch_path)\n",
    "\n",
    "df=df.caiman.reload_from_disk()\n",
    "df"
   ]
  },
  {
   "cell_type": "markdown",
   "id": "6dc1260b-634c-49cc-b99b-10c44b3af72d",
   "metadata": {
    "pycharm": {
     "name": "#%% md\n"
    }
   },
   "source": [
    "# CNMF\n",
    "\n",
    "Perform CNMF using the mcorr output.\n",
    "\n",
    "Similar to mcorr, put the CNMF params within the `main` key. The `refit` key will perform a second iteration, as shown in the `caiman` `demo_pipeline.ipynb` notebook."
   ]
  },
  {
   "cell_type": "code",
   "execution_count": 4,
   "id": "cc283595-b82a-4270-a51b-f1d9cdc78d19",
   "metadata": {
    "pycharm": {
     "name": "#%%\n"
    }
   },
   "outputs": [],
   "source": [
    "# some params for CNMF\n",
    "params_cnmf = {\n",
    "    'main': # indicates that these are the \"main\" params for the CNMF algo\n",
    "        {\n",
    "            'fr': 30, # framerate, very important!\n",
    "            'p': 1,\n",
    "            'nb': 2,\n",
    "            'merge_thr': 0.85,\n",
    "            'rf': 15,\n",
    "            'stride': 6, # \"stride\" for cnmf, \"strides\" for mcorr\n",
    "            'K': 4,\n",
    "            'gSig': [4, 4],\n",
    "            'ssub': 1,\n",
    "            'tsub': 1,\n",
    "            'method_init': 'greedy_roi',\n",
    "            'min_SNR': 2.0,\n",
    "            'rval_thr': 0.7,\n",
    "            'use_cnn': True,\n",
    "            'min_cnn_thr': 0.8,\n",
    "            'cnn_lowest': 0.1,\n",
    "            'decay_time': 0.4,\n",
    "        },\n",
    "    'refit': True, # If `True`, run a second iteration of CNMF\n",
    "}"
   ]
  },
  {
   "cell_type": "markdown",
   "id": "31ba4f19-8764-446f-895d-7ff59912f604",
   "metadata": {},
   "source": [
    "# Add CNMF item\n",
    "\n",
    "You can provide the mcorr item row to `input_movie_path` and it will resolve the path of the input movie from the entry in the DataFrame."
   ]
  },
  {
   "cell_type": "code",
   "execution_count": 5,
   "id": "29c48dd1-0eb5-48e5-96ab-0b2633983b88",
   "metadata": {
    "pycharm": {
     "name": "#%%\n"
    }
   },
   "outputs": [],
   "source": [
    "good_mcorr_index = 3\n",
    "\n",
    "# add a batch item\n",
    "df.caiman.add_item(\n",
    "    algo='cnmf', # algo is cnmf\n",
    "    input_movie_path=df.iloc[good_mcorr_index],  # use mcorr output from a completed batch item\n",
    "    params=params_cnmf,\n",
    "    item_name=df.iloc[good_mcorr_index][\"item_name\"], # use the same item name\n",
    ")"
   ]
  },
  {
   "cell_type": "markdown",
   "id": "0d34b4eb-e6da-46e8-9899-e322cd64b5f1",
   "metadata": {
    "tags": []
   },
   "source": [
    "See the cnmf item at the bottom of the dataframe"
   ]
  },
  {
   "cell_type": "code",
   "execution_count": 6,
   "id": "10308894-6c71-4471-8cb9-d585a8adf0ea",
   "metadata": {},
   "outputs": [
    {
     "data": {
      "text/html": [
       "<div>\n",
       "<style scoped>\n",
       "    .dataframe tbody tr th:only-of-type {\n",
       "        vertical-align: middle;\n",
       "    }\n",
       "\n",
       "    .dataframe tbody tr th {\n",
       "        vertical-align: top;\n",
       "    }\n",
       "\n",
       "    .dataframe thead th {\n",
       "        text-align: right;\n",
       "    }\n",
       "</style>\n",
       "<table border=\"1\" class=\"dataframe\">\n",
       "  <thead>\n",
       "    <tr style=\"text-align: right;\">\n",
       "      <th></th>\n",
       "      <th>algo</th>\n",
       "      <th>item_name</th>\n",
       "      <th>input_movie_path</th>\n",
       "      <th>params</th>\n",
       "      <th>outputs</th>\n",
       "      <th>added_time</th>\n",
       "      <th>ran_time</th>\n",
       "      <th>algo_duration</th>\n",
       "      <th>comments</th>\n",
       "      <th>uuid</th>\n",
       "    </tr>\n",
       "  </thead>\n",
       "  <tbody>\n",
       "    <tr>\n",
       "      <th>0</th>\n",
       "      <td>mcorr</td>\n",
       "      <td>save_gui</td>\n",
       "      <td>animal_01/session_01/save_gui.zarr</td>\n",
       "      <td>{'main': {'var_name_hdf5': 'plane_2', 'max_shi...</td>\n",
       "      <td>{'mean-projection-path': 9781250d-22cb-4ebc-9d...</td>\n",
       "      <td>2024-09-06T00:19:51</td>\n",
       "      <td>2024-09-06T00:33:05</td>\n",
       "      <td>764.98 sec</td>\n",
       "      <td>None</td>\n",
       "      <td>9781250d-22cb-4ebc-9de1-ad97e101ddee</td>\n",
       "    </tr>\n",
       "    <tr>\n",
       "      <th>1</th>\n",
       "      <td>mcorr</td>\n",
       "      <td>save_gui</td>\n",
       "      <td>animal_01/session_01/save_gui.zarr</td>\n",
       "      <td>{'main': {'var_name_hdf5': 'plane_2', 'max_shi...</td>\n",
       "      <td>{'mean-projection-path': 5ffcad60-5506-4243-93...</td>\n",
       "      <td>2024-09-06T00:19:51</td>\n",
       "      <td>2024-09-06T00:35:31</td>\n",
       "      <td>142.87 sec</td>\n",
       "      <td>None</td>\n",
       "      <td>5ffcad60-5506-4243-936c-f8473ff4ab50</td>\n",
       "    </tr>\n",
       "    <tr>\n",
       "      <th>2</th>\n",
       "      <td>mcorr</td>\n",
       "      <td>save_gui</td>\n",
       "      <td>animal_01/session_01/save_gui.zarr</td>\n",
       "      <td>{'main': {'var_name_hdf5': 'plane_2', 'max_shi...</td>\n",
       "      <td>{'mean-projection-path': 0a463c4f-985d-47a4-9e...</td>\n",
       "      <td>2024-09-06T00:19:51</td>\n",
       "      <td>2024-09-06T00:48:21</td>\n",
       "      <td>766.17 sec</td>\n",
       "      <td>None</td>\n",
       "      <td>0a463c4f-985d-47a4-9e95-cf776d98a1a3</td>\n",
       "    </tr>\n",
       "    <tr>\n",
       "      <th>3</th>\n",
       "      <td>mcorr</td>\n",
       "      <td>save_gui</td>\n",
       "      <td>animal_01/session_01/save_gui.zarr</td>\n",
       "      <td>{'main': {'var_name_hdf5': 'plane_2', 'max_shi...</td>\n",
       "      <td>{'mean-projection-path': 8cb260f3-ced8-4433-b9...</td>\n",
       "      <td>2024-09-06T00:19:51</td>\n",
       "      <td>2024-09-06T00:50:47</td>\n",
       "      <td>142.94 sec</td>\n",
       "      <td>None</td>\n",
       "      <td>8cb260f3-ced8-4433-b9bf-fd6116b20964</td>\n",
       "    </tr>\n",
       "    <tr>\n",
       "      <th>4</th>\n",
       "      <td>cnmf</td>\n",
       "      <td>save_gui</td>\n",
       "      <td>8cb260f3-ced8-4433-b9bf-fd6116b20964/8cb260f3-...</td>\n",
       "      <td>{'main': {'fr': 30, 'p': 1, 'nb': 2, 'merge_th...</td>\n",
       "      <td>None</td>\n",
       "      <td>2024-09-06T02:43:35</td>\n",
       "      <td>None</td>\n",
       "      <td>None</td>\n",
       "      <td>None</td>\n",
       "      <td>2570aef8-1cca-4d71-af88-ce64cfbfaf65</td>\n",
       "    </tr>\n",
       "  </tbody>\n",
       "</table>\n",
       "</div>"
      ],
      "text/plain": [
       "    algo item_name                                   input_movie_path  \\\n",
       "0  mcorr  save_gui                 animal_01/session_01/save_gui.zarr   \n",
       "1  mcorr  save_gui                 animal_01/session_01/save_gui.zarr   \n",
       "2  mcorr  save_gui                 animal_01/session_01/save_gui.zarr   \n",
       "3  mcorr  save_gui                 animal_01/session_01/save_gui.zarr   \n",
       "4   cnmf  save_gui  8cb260f3-ced8-4433-b9bf-fd6116b20964/8cb260f3-...   \n",
       "\n",
       "                                              params  \\\n",
       "0  {'main': {'var_name_hdf5': 'plane_2', 'max_shi...   \n",
       "1  {'main': {'var_name_hdf5': 'plane_2', 'max_shi...   \n",
       "2  {'main': {'var_name_hdf5': 'plane_2', 'max_shi...   \n",
       "3  {'main': {'var_name_hdf5': 'plane_2', 'max_shi...   \n",
       "4  {'main': {'fr': 30, 'p': 1, 'nb': 2, 'merge_th...   \n",
       "\n",
       "                                             outputs           added_time  \\\n",
       "0  {'mean-projection-path': 9781250d-22cb-4ebc-9d...  2024-09-06T00:19:51   \n",
       "1  {'mean-projection-path': 5ffcad60-5506-4243-93...  2024-09-06T00:19:51   \n",
       "2  {'mean-projection-path': 0a463c4f-985d-47a4-9e...  2024-09-06T00:19:51   \n",
       "3  {'mean-projection-path': 8cb260f3-ced8-4433-b9...  2024-09-06T00:19:51   \n",
       "4                                               None  2024-09-06T02:43:35   \n",
       "\n",
       "              ran_time algo_duration comments  \\\n",
       "0  2024-09-06T00:33:05    764.98 sec     None   \n",
       "1  2024-09-06T00:35:31    142.87 sec     None   \n",
       "2  2024-09-06T00:48:21    766.17 sec     None   \n",
       "3  2024-09-06T00:50:47    142.94 sec     None   \n",
       "4                 None          None     None   \n",
       "\n",
       "                                   uuid  \n",
       "0  9781250d-22cb-4ebc-9de1-ad97e101ddee  \n",
       "1  5ffcad60-5506-4243-936c-f8473ff4ab50  \n",
       "2  0a463c4f-985d-47a4-9e95-cf776d98a1a3  \n",
       "3  8cb260f3-ced8-4433-b9bf-fd6116b20964  \n",
       "4  2570aef8-1cca-4d71-af88-ce64cfbfaf65  "
      ]
     },
     "execution_count": 6,
     "metadata": {},
     "output_type": "execute_result"
    }
   ],
   "source": [
    "df"
   ]
  },
  {
   "cell_type": "markdown",
   "id": "2b2c7c16-24a1-4893-976e-e52e7430a9c7",
   "metadata": {},
   "source": [
    "# Run CNMF\n",
    "\n",
    "The API is identical to running mcorr"
   ]
  },
  {
   "cell_type": "code",
   "execution_count": 7,
   "id": "ba02626d-c9cc-4313-93d6-5ea84dc6b6e5",
   "metadata": {},
   "outputs": [
    {
     "name": "stderr",
     "output_type": "stream",
     "text": [
      "2024-09-06 02:43:47.605069: E external/local_xla/xla/stream_executor/cuda/cuda_dnn.cc:9261] Unable to register cuDNN factory: Attempting to register factory for plugin cuDNN when one has already been registered\n",
      "2024-09-06 02:43:47.605096: E external/local_xla/xla/stream_executor/cuda/cuda_fft.cc:607] Unable to register cuFFT factory: Attempting to register factory for plugin cuFFT when one has already been registered\n",
      "2024-09-06 02:43:47.605444: E external/local_xla/xla/stream_executor/cuda/cuda_blas.cc:1515] Unable to register cuBLAS factory: Attempting to register factory for plugin cuBLAS when one has already been registered\n"
     ]
    },
    {
     "name": "stdout",
     "output_type": "stream",
     "text": [
      "************************************************************************\n",
      "\n",
      "Starting CNMF item:\n",
      "algo                                                             cnmf\n",
      "item_name                                                    save_gui\n",
      "input_movie_path    8cb260f3-ced8-4433-b9bf-fd6116b20964/8cb260f3-...\n",
      "params              {'main': {'fr': 30, 'p': 1, 'nb': 2, 'merge_th...\n",
      "outputs                                                          None\n",
      "added_time                                        2024-09-06T02:43:35\n",
      "ran_time                                                         None\n",
      "algo_duration                                                    None\n",
      "comments                                                         None\n",
      "uuid                             2570aef8-1cca-4d71-af88-ce64cfbfaf65\n",
      "Name: 4, dtype: object\n",
      "With params:{'main': {'fr': 30, 'p': 1, 'nb': 2, 'merge_thr': 0.85, 'rf': 15, 'stride': 6, 'K': 4, 'gSig': (4, 4), 'ssub': 1, 'tsub': 1, 'method_init': 'greedy_roi', 'min_SNR': 2.0, 'rval_thr': 0.7, 'use_cnn': True, 'min_cnn_thr': 0.8, 'cnn_lowest': 0.1, 'decay_time': 0.4}, 'refit': True}\n"
     ]
    },
    {
     "name": "stderr",
     "output_type": "stream",
     "text": [
      "The local backend is an alias for the multiprocessing backend, and the alias may be removed in some future version of Caiman\n",
      "WARNING:root:In setting CNMFParams, non-pathed parameters were used; this is deprecated. In some future version of Caiman, allow_legacy will default to False (and eventually will be removed)\n",
      "WARNING:root:Default temporary dir /home/mbo/caiman_data/temp does not exist, creating\n"
     ]
    },
    {
     "name": "stdout",
     "output_type": "stream",
     "text": [
      "making memmap\n"
     ]
    },
    {
     "name": "stderr",
     "output_type": "stream",
     "text": [
      "WARNING:caiman.cluster:The local backend is an alias for the multiprocessing backend, and the alias may be removed in some future version of Caiman\n"
     ]
    },
    {
     "name": "stdout",
     "output_type": "stream",
     "text": [
      "performing CNMF\n",
      "fitting images\n",
      "refitting\n"
     ]
    }
   ],
   "source": [
    "index = -1  # most recently added item\n",
    "df.iloc[index].caiman.run()"
   ]
  },
  {
   "cell_type": "markdown",
   "id": "bc44542f-d653-40b1-821e-6ba68df6826e",
   "metadata": {},
   "source": [
    "# Reload dataframe"
   ]
  },
  {
   "cell_type": "code",
   "execution_count": null,
   "id": "83bcc946-d5b1-4986-86df-b67d15ed9102",
   "metadata": {},
   "outputs": [],
   "source": [
    "df = df.caiman.reload_from_disk()\n",
    "df"
   ]
  },
  {
   "cell_type": "markdown",
   "id": "c1128142-282d-43f7-83c2-0408066b5f66",
   "metadata": {},
   "source": [
    "# CNMF outputs\n",
    "\n",
    "Similar to mcorr, you can use the `mesmerize-core` API to fetch the outputs. The API reference for CNMF is here: https://mesmerize-core.readthedocs.io/en/latest/api/cnmf.html"
   ]
  },
  {
   "cell_type": "code",
   "execution_count": null,
   "id": "34e7f7de-6a70-4d5d-b999-611509953437",
   "metadata": {},
   "outputs": [],
   "source": [
    "index = -1  # index of the cnmf item, last item in the dataframe\n",
    "\n",
    "# temporal components\n",
    "temporal = df.iloc[index].cnmf.get_temporal()"
   ]
  },
  {
   "cell_type": "code",
   "execution_count": null,
   "id": "9f46abe9-ddcf-4a72-b7b2-3664cb3cbccb",
   "metadata": {},
   "outputs": [],
   "source": [
    "temporal.shape"
   ]
  },
  {
   "cell_type": "markdown",
   "id": "75e4d6de-f397-4142-a152-26cb63bf8b55",
   "metadata": {},
   "source": [
    "Many of the cnmf functions take a rich set of arguments"
   ]
  },
  {
   "cell_type": "code",
   "execution_count": null,
   "id": "1e3a23d5-e26d-49b2-962c-fc3eefc5a80f",
   "metadata": {},
   "outputs": [],
   "source": [
    "# get accepted or rejected components\n",
    "temporal_good = df.iloc[index].cnmf.get_temporal(\"good\")\n",
    "\n",
    "# shape is [n_components, n_frames]\n",
    "temporal_good.shape"
   ]
  },
  {
   "cell_type": "code",
   "execution_count": null,
   "id": "f23f01a8-45c4-4dc6-8e58-f50ef534f035",
   "metadata": {},
   "outputs": [],
   "source": [
    "# get specific components\n",
    "df.iloc[index].cnmf.get_temporal(np.array([1, 5, 9]))"
   ]
  },
  {
   "cell_type": "code",
   "execution_count": null,
   "id": "48b6cad9-f7f4-498b-81b7-856dd1b97613",
   "metadata": {},
   "outputs": [],
   "source": [
    "# get temporal with the residuals, i.e. C + YrA\n",
    "temporal_with_residuals = df.iloc[index].cnmf.get_temporal(add_residuals=True)"
   ]
  },
  {
   "cell_type": "code",
   "execution_count": null,
   "id": "0a6963c9-81f8-4922-8bc3-a2ce468052a4",
   "metadata": {},
   "outputs": [],
   "source": [
    "# get contours\n",
    "contours = df.iloc[index].cnmf.get_contours()"
   ]
  },
  {
   "cell_type": "markdown",
   "id": "cff3ce6e-78ce-4a54-85e5-45caaeb9476f",
   "metadata": {},
   "source": [
    "Returns: `(list of np.ndarray of contour coordinates, list of center of mass)`"
   ]
  },
  {
   "cell_type": "code",
   "execution_count": null,
   "id": "f3d1f01a-7366-4073-9f50-051ee38e0097",
   "metadata": {},
   "outputs": [],
   "source": [
    "print(f\"contour 0 coordinates:\\n\\n{contours[0][0]}\\n\\n com: {contours[1][0]}\")"
   ]
  },
  {
   "cell_type": "code",
   "execution_count": null,
   "id": "67f45923-e273-4c54-8a36-5d609e04c880",
   "metadata": {},
   "outputs": [],
   "source": [
    "len(contours)"
   ]
  },
  {
   "cell_type": "code",
   "execution_count": null,
   "id": "3543a94a-5c07-4ff5-b117-cdbf12fc3b6b",
   "metadata": {},
   "outputs": [],
   "source": [
    "# get_contours() also takes arguments\n",
    "contours_good = df.iloc[index].cnmf.get_contours(\"good\")"
   ]
  },
  {
   "cell_type": "code",
   "execution_count": null,
   "id": "fce4858e-d632-4a98-99f4-d10d67dfb94c",
   "metadata": {},
   "outputs": [],
   "source": [
    "len(contours_good[0]) # number of contours"
   ]
  },
  {
   "cell_type": "markdown",
   "id": "1e0af648-f80c-4b71-9164-4aca607e09da",
   "metadata": {},
   "source": [
    "swap_dim"
   ]
  },
  {
   "cell_type": "code",
   "execution_count": null,
   "id": "0bba44b2-644b-4691-a0af-bd820fdac683",
   "metadata": {
    "tags": []
   },
   "outputs": [],
   "source": [
    "# get the first contour using swap_dim=True (default)\n",
    "swap_dim_true = df.iloc[index].cnmf.get_contours()[0][0]"
   ]
  },
  {
   "cell_type": "code",
   "execution_count": null,
   "id": "286bf44b-7b5d-43b5-9741-7ac0e5e21852",
   "metadata": {},
   "outputs": [],
   "source": [
    "# get the first contour  with swap_dim=False\n",
    "swap_dim_false = df.iloc[index].cnmf.get_contours(swap_dim=False)[0][0]"
   ]
  },
  {
   "cell_type": "code",
   "execution_count": null,
   "id": "9231593d-7069-455f-b0d1-409a61d26ccb",
   "metadata": {},
   "outputs": [],
   "source": [
    "plt.plot(\n",
    "    swap_dim_true[:, 0], \n",
    "    swap_dim_true[:, 1], \n",
    "    label=\"swap_dim=True\"\n",
    ")\n",
    "plt.plot(\n",
    "    swap_dim_false[:, 0], \n",
    "    swap_dim_false[:, 1], \n",
    "    label=\"swap_dim=False\"\n",
    ")\n",
    "plt.legend()"
   ]
  },
  {
   "cell_type": "code",
   "execution_count": null,
   "id": "944252d3-d654-4394-acb7-c620ccb01f85",
   "metadata": {},
   "outputs": [],
   "source": [
    "# swap_dim swaps the x and y dims\n",
    "plt.plot(\n",
    "    swap_dim_true[:, 0], \n",
    "    swap_dim_true[:, 1], \n",
    "    linewidth=30\n",
    ")\n",
    "plt.plot(\n",
    "    swap_dim_false[:, 1], \n",
    "    swap_dim_false[:, 0], \n",
    "    linewidth=10\n",
    ")"
   ]
  },
  {
   "cell_type": "markdown",
   "id": "5c6c8e98-13fd-45c6-9afe-7fc3193ed3de",
   "metadata": {},
   "source": [
    "# Reconstructed movie - `A * C`\n",
    "# Reconstructed background - `b * f`\n",
    "# Residuals - `Y - AC - bf` \n",
    "\n",
    "Mesmerize-core provides these outputs as lazy arrays. This allows you to work with arrays that would otherwise be hundreds of gigabytes or terabytes in size."
   ]
  },
  {
   "cell_type": "code",
   "execution_count": null,
   "id": "c58ce87d-4e75-4026-840c-81b826245ba3",
   "metadata": {},
   "outputs": [],
   "source": [
    "rcm = df.iloc[index].cnmf.get_rcm()\n",
    "rcm"
   ]
  },
  {
   "cell_type": "markdown",
   "id": "2722d48c-e433-4a73-8eec-9e37e053f651",
   "metadata": {},
   "source": [
    "LazyArrays behave like numpy arrays"
   ]
  },
  {
   "cell_type": "code",
   "execution_count": null,
   "id": "1b3de689-d734-4534-b36b-4ffb7f061d7a",
   "metadata": {},
   "outputs": [],
   "source": [
    "rcm[42]"
   ]
  },
  {
   "cell_type": "code",
   "execution_count": null,
   "id": "980b03b1-c2d3-44dc-a741-d43dd689abca",
   "metadata": {},
   "outputs": [],
   "source": [
    "rcm[10:20].shape"
   ]
  },
  {
   "cell_type": "markdown",
   "id": "c6fe2ca3-0255-43fd-9ae2-c635b2d0355a",
   "metadata": {},
   "source": [
    "# Using LazyArrays"
   ]
  },
  {
   "cell_type": "code",
   "execution_count": null,
   "id": "cf4f70d3-badc-4339-92f8-1ac0351e64b6",
   "metadata": {},
   "outputs": [],
   "source": [
    "rcm_accepted = df.iloc[index].cnmf.get_rcm(\"good\")\n",
    "rcm_rejected = df.iloc[index].cnmf.get_rcm(\"bad\")"
   ]
  },
  {
   "cell_type": "code",
   "execution_count": null,
   "id": "96b638ee-ce7e-4c58-a2e5-3d46b986d04a",
   "metadata": {},
   "outputs": [],
   "source": [
    "iw_max = fpl.ImageWidget(\n",
    "    data=[rcm_accepted.max_image, rcm_rejected.max_image],\n",
    "    names=[\"accepted\", \"rejected\"],\n",
    "    grid_plot_kwargs={\"size\": (900, 450)},\n",
    "    cmap=\"gnuplot2\"\n",
    ")\n",
    "iw_max.show()"
   ]
  },
  {
   "cell_type": "code",
   "execution_count": null,
   "id": "0517f807-bb71-4152-b1ad-ad785d4108cc",
   "metadata": {},
   "outputs": [],
   "source": [
    "iw_rcm_separated = fpl.ImageWidget(\n",
    "    data=[rcm_accepted, rcm_rejected],\n",
    "    names=[\"accepted\", \"rejected\"],\n",
    "    grid_plot_kwargs={\"size\": (900, 450)},\n",
    "    cmap=\"gnuplot2\"\n",
    ")\n",
    "iw_rcm_separated.show()"
   ]
  },
  {
   "cell_type": "markdown",
   "id": "934dc203-fa0c-4c1e-b8e9-0c6dba91ef3d",
   "metadata": {},
   "source": [
    "# All CNMF LazyArrays"
   ]
  },
  {
   "cell_type": "code",
   "execution_count": null,
   "id": "6e2acd69-bd4b-455e-85fd-b55c588e3057",
   "metadata": {},
   "outputs": [],
   "source": [
    "rcb = df.iloc[index].cnmf.get_rcb()\n",
    "residuals = df.iloc[index].cnmf.get_residuals()\n",
    "input_movie = df.iloc[index].caiman.get_input_movie()"
   ]
  },
  {
   "cell_type": "markdown",
   "id": "fe635528-550a-43cd-b343-931a9a0410b8",
   "metadata": {},
   "source": [
    "`ImageWidget` accepts arrays that are sufficiently numpy-like"
   ]
  },
  {
   "cell_type": "code",
   "execution_count": null,
   "id": "9b3efeec-3578-4863-bff4-0100cc489ccb",
   "metadata": {},
   "outputs": [],
   "source": [
    "iw_rcm = fpl.ImageWidget(\n",
    "    data=[input_movie, rcm, rcb, residuals], \n",
    "    grid_plot_kwargs={\"size\": (800, 600)}, \n",
    "    cmap=\"gnuplot2\"\n",
    ")\n",
    "iw_rcm.show()"
   ]
  },
  {
   "cell_type": "code",
   "execution_count": null,
   "id": "0cbc13a6-11a0-4f98-bc4d-a3c7bb25fc53",
   "metadata": {},
   "outputs": [],
   "source": [
    "iw_rcm.close()"
   ]
  },
  {
   "cell_type": "markdown",
   "id": "d449a312-2af9-423e-94c2-a3ab4fa374e7",
   "metadata": {},
   "source": [
    "# Visualize everything with `mesmerize-viz`"
   ]
  },
  {
   "cell_type": "code",
   "execution_count": null,
   "id": "d4ec1b2f-e992-42b7-902c-14cc78ba8d99",
   "metadata": {},
   "outputs": [],
   "source": [
    "viz_cnmf = df.cnmf.viz()\n",
    "viz_cnmf.show()"
   ]
  },
  {
   "cell_type": "code",
   "execution_count": null,
   "id": "db8c98a1-2d21-400c-9bba-fcd3e450e5da",
   "metadata": {},
   "outputs": [],
   "source": [
    "viz_cnmf.close()"
   ]
  },
  {
   "cell_type": "markdown",
   "id": "ae1b2d80-1d6f-403b-b98a-3471c96f57d6",
   "metadata": {},
   "source": [
    "# Parameter Gridsearch\n",
    "\n",
    "As shown for motion correction, the purpose of `mesmerize-core` is to perform parameter searches"
   ]
  },
  {
   "cell_type": "code",
   "execution_count": null,
   "id": "fc7684d2-3d2c-43ac-9064-ba3997f7a1c8",
   "metadata": {},
   "outputs": [],
   "source": [
    "# itertools.product makes it easy to loop through parameter variants\n",
    "# basically, it's easier to read that deeply nested for loops\n",
    "from itertools import product\n",
    "\n",
    "# variants of several parameters\n",
    "gSig_variants = [4, 6]\n",
    "K_variants = [4, 8]\n",
    "merge_thr_variants = [0.8, 0.95]\n",
    "\n",
    "# always use deepcopy like before\n",
    "new_params_cnmf = deepcopy(params_cnmf)\n",
    "\n",
    "# create a parameter grid\n",
    "parameter_grid = product(gSig_variants, K_variants, merge_thr_variants)\n",
    "\n",
    "# a single for loop to go through all the various parameter combinations\n",
    "for gSig, K, merge_thr in parameter_grid:\n",
    "    # deep copy params dict just like before\n",
    "    new_params_cnmf = deepcopy(new_params_cnmf)\n",
    "    \n",
    "    new_params_cnmf[\"main\"][\"gSig\"] = [gSig, gSig]\n",
    "    new_params_cnmf[\"main\"][\"K\"] = K\n",
    "    new_params_cnmf[\"main\"][\"merge_thr\"] = merge_thr\n",
    "    \n",
    "    # add param combination variant to batch\n",
    "    df.caiman.add_item(\n",
    "        algo=\"cnmf\",\n",
    "        item_name=df.iloc[good_mcorr_index][\"item_name\"],  # good mcorr item\n",
    "        input_movie_path=df.iloc[good_mcorr_index],\n",
    "        params=new_params_cnmf\n",
    "    )"
   ]
  },
  {
   "cell_type": "markdown",
   "id": "5cb21a8e-709d-4888-bbd9-42653f700240",
   "metadata": {},
   "source": [
    "We now have lot of cnmf items"
   ]
  },
  {
   "cell_type": "code",
   "execution_count": null,
   "id": "0fb3f94d-34d2-4eef-ad2d-b4f6db89fa72",
   "metadata": {},
   "outputs": [],
   "source": [
    "df"
   ]
  },
  {
   "cell_type": "markdown",
   "id": "9bf8dce3-b0f7-43b0-b719-774673b6cb25",
   "metadata": {},
   "source": [
    "View the diffs"
   ]
  },
  {
   "cell_type": "code",
   "execution_count": null,
   "id": "80b98249-b3b5-4481-a4e2-dbdcbf8d1ed9",
   "metadata": {},
   "outputs": [],
   "source": [
    "df.caiman.get_params_diffs(algo=\"cnmf\", item_name=df.iloc[-1][\"item_name\"])"
   ]
  },
  {
   "cell_type": "markdown",
   "id": "628a194f-39c3-45a7-a029-53925763cc1e",
   "metadata": {},
   "source": [
    "# Run the `cnmf` batch items"
   ]
  },
  {
   "cell_type": "code",
   "execution_count": null,
   "id": "ee0b9ac5-f66d-4370-842c-8655f5469286",
   "metadata": {},
   "outputs": [],
   "source": [
    "for i, row in df.iterrows():\n",
    "    if row[\"outputs\"] is not None: # item has already been run\n",
    "        continue # skip\n",
    "        \n",
    "    process = row.caiman.run()\n",
    "    \n",
    "    # on Windows you MUST reload the batch dataframe after every iteration because it uses the `local` backend.\n",
    "    # this is unnecessary on Linux & Mac\n",
    "    # \"DummyProcess\" is used for local backend so this is automatic\n",
    "    if process.__class__.__name__ == \"DummyProcess\":\n",
    "        df = df.caiman.reload_from_disk()"
   ]
  },
  {
   "cell_type": "markdown",
   "id": "348d0757-675d-4a2d-a024-559507830e31",
   "metadata": {},
   "source": [
    "# Load outputs"
   ]
  },
  {
   "cell_type": "code",
   "execution_count": null,
   "id": "80f3eca7-916a-4e4e-a109-5906b4c91c7d",
   "metadata": {},
   "outputs": [],
   "source": [
    "df = df.caiman.reload_from_disk()"
   ]
  },
  {
   "cell_type": "code",
   "execution_count": null,
   "id": "c2981938-0583-4407-8035-12d11d1535bc",
   "metadata": {},
   "outputs": [],
   "source": [
    "df"
   ]
  },
  {
   "cell_type": "markdown",
   "id": "597b900e-e47a-4e48-b101-63f9ebf909cd",
   "metadata": {},
   "source": [
    "# Visualize with `mesmerize-viz`"
   ]
  },
  {
   "cell_type": "code",
   "execution_count": null,
   "id": "d4fb527d-0444-4fb4-a703-e9d12f03cfd9",
   "metadata": {},
   "outputs": [],
   "source": [
    "viz_cnmf = df.cnmf.viz()\n",
    "viz_cnmf.show(sidecar=True)"
   ]
  },
  {
   "cell_type": "markdown",
   "id": "b3df8f51-dcc7-4e45-b968-f38147e1e415",
   "metadata": {},
   "source": [
    "# Caiman docs on component eval\n",
    "\n",
    "https://caiman.readthedocs.io/en/latest/Getting_Started.html#component-evaluation\n",
    "\n",
    "> The quality of detected components is evaluated with three parameters:\n",
    ">\n",
    "> Spatial footprint consistency (rval): The spatial footprint of the component is compared with the frames where this component is active. Other component’s signals are subtracted from these frames, and the resulting raw data is correlated against the spatial component. This ensures that the raw data at the spatial footprint aligns with the extracted trace.\n",
    ">\n",
    "> Trace signal-noise-ratio (SNR): Peak SNR is calculated from strong calcium transients and the noise estimate.\n",
    ">\n",
    "> CNN-based classifier (cnn): The shape of components is evaluated by a 4-layered convolutional neural network trained on a manually annotated dataset. The CNN assigns a value of 0-1 to each component depending on its resemblance to a neuronal soma.\n",
    "> \n",
    "> Each parameter has a low threshold:\n",
    "> - (rval_lowest (default -1), SNR_lowest (default 0.5), cnn_lowest (default 0.1))\n",
    ">\n",
    "> and high threshold\n",
    "> \n",
    "> - (rval_thr (default 0.8), min_SNR (default 2.5), min_cnn_thr (default 0.9))\n",
    "> \n",
    "> A component has to exceed ALL low thresholds as well as ONE high threshold to be accepted."
   ]
  },
  {
   "cell_type": "markdown",
   "id": "97566a87-2182-496d-9dfb-83ede10ab95f",
   "metadata": {},
   "source": [
    "# This rich visualization is still customizable!\n",
    "\n",
    "Public attributes:\n",
    "\n",
    "- `image_widget`: the `ImageWidget` in the visualization\n",
    "- `plot_temporal`: the `Plot` with the temporal\n",
    "- `plot_heatmap`: the `Plot` with the heatmap\n",
    "- `cnmf_obj`: The cnmf object currently being visualized. This object gets saved to disk when you click the \"Save Eval to disk\" button.\n",
    "- `component_index`: current component index, `int`\n",
    "\n",
    "A few public methods:\n",
    "- `show()` show the visualization\n",
    "- `set_component_index(index: int)` manually set the component index"
   ]
  },
  {
   "cell_type": "code",
   "execution_count": null,
   "id": "6d8d70d0-eaa4-4ce2-a9f4-e5c0fc9474ed",
   "metadata": {},
   "outputs": [],
   "source": [
    "viz_cnmf.image_widget.cmap = \"gray\""
   ]
  },
  {
   "cell_type": "code",
   "execution_count": null,
   "id": "778a211b-a4a3-4b36-b441-32c9b367a5ce",
   "metadata": {},
   "outputs": [],
   "source": [
    "viz_cnmf.plot_heatmap"
   ]
  },
  {
   "cell_type": "code",
   "execution_count": null,
   "id": "e53a507c-a274-4b41-be16-99530de5006d",
   "metadata": {},
   "outputs": [],
   "source": [
    "viz_cnmf.plot_heatmap[\"heatmap\"].cmap = \"viridis\""
   ]
  },
  {
   "cell_type": "code",
   "execution_count": null,
   "id": "bb2db848-272d-4001-92cc-369e9d2d62b6",
   "metadata": {},
   "outputs": [],
   "source": [
    "viz_cnmf.plot_heatmap[\"heatmap\"].cmap.vmax"
   ]
  },
  {
   "cell_type": "code",
   "execution_count": null,
   "id": "33758ab0-b355-450f-8edc-dc9fa5b7364f",
   "metadata": {},
   "outputs": [],
   "source": [
    "viz_cnmf.plot_heatmap[\"heatmap\"].cmap.vmax = 2_000"
   ]
  },
  {
   "cell_type": "markdown",
   "id": "b60a5224-9945-4f15-9ecb-99d448745942",
   "metadata": {},
   "source": [
    "Customize contours"
   ]
  },
  {
   "cell_type": "code",
   "execution_count": null,
   "id": "7668b133-0431-464e-af1d-0ce353628e6e",
   "metadata": {},
   "outputs": [],
   "source": [
    "for subplot in viz_cnmf.image_widget.gridplot:\n",
    "    subplot[\"contours\"][:].thickness = 1.0"
   ]
  },
  {
   "cell_type": "code",
   "execution_count": null,
   "id": "4e238b53-9f20-44b3-ab99-94332f93b949",
   "metadata": {},
   "outputs": [],
   "source": [
    "for subplot in viz_cnmf.image_widget.gridplot:\n",
    "    subplot[\"contours\"].visible = False"
   ]
  },
  {
   "cell_type": "code",
   "execution_count": null,
   "id": "61508674-8ed6-4ae2-a232-44a55bd4c646",
   "metadata": {},
   "outputs": [],
   "source": [
    "for subplot in viz_cnmf.image_widget.gridplot:\n",
    "    subplot[\"contours\"].visible = True"
   ]
  },
  {
   "cell_type": "code",
   "execution_count": null,
   "id": "29abcc5a-7ecc-4e95-8532-f1a4dcc3e1f2",
   "metadata": {},
   "outputs": [],
   "source": [
    "viz_cnmf.plot_temporal[\"line\"].thickness()"
   ]
  },
  {
   "cell_type": "code",
   "execution_count": null,
   "id": "14ae170b-096c-421d-b47d-13042ab8e4cf",
   "metadata": {},
   "outputs": [],
   "source": [
    "viz_cnmf.plot_temporal[\"line\"].thickness = 1"
   ]
  },
  {
   "cell_type": "markdown",
   "id": "31dd4191-9781-45b4-84cb-35a62597fb6c",
   "metadata": {},
   "source": [
    "# Visualize fewer things"
   ]
  },
  {
   "cell_type": "code",
   "execution_count": null,
   "id": "6581e60e-8827-490d-af5f-3ff8b5308680",
   "metadata": {},
   "outputs": [],
   "source": [
    "viz_simple = df.cnmf.viz(\n",
    "    image_data_options=[\"input\", \"rcm\"],\n",
    ")\n",
    "viz_simple.show(sidecar=True)"
   ]
  },
  {
   "cell_type": "markdown",
   "id": "a5479abd-2f34-4e6e-bd64-702720e25ff4",
   "metadata": {},
   "source": [
    "# More customization of kwargs"
   ]
  },
  {
   "cell_type": "code",
   "execution_count": null,
   "id": "20845bb1-5f27-4c60-8638-2d17a03cff99",
   "metadata": {
    "tags": []
   },
   "outputs": [],
   "source": [
    "viz_more_custom = df.cnmf.viz(\n",
    "    image_data_options=[\"input\", \"rcm\", \"rcm-max\", \"corr\"],\n",
    "    temporal_kwargs={\"add_residuals\": True},\n",
    ")"
   ]
  },
  {
   "cell_type": "code",
   "execution_count": null,
   "id": "1e8f57c5-9f9e-495a-aa44-86f18c886eed",
   "metadata": {},
   "outputs": [],
   "source": [
    "viz_more_custom.show(sidecar=True)"
   ]
  }
 ],
 "metadata": {
  "kernelspec": {
   "display_name": "Python 3 (ipykernel)",
   "language": "python",
   "name": "python3"
  },
  "language_info": {
   "codemirror_mode": {
    "name": "ipython",
    "version": 3
   },
   "file_extension": ".py",
   "mimetype": "text/x-python",
   "name": "python",
   "nbconvert_exporter": "python",
   "pygments_lexer": "ipython3",
   "version": "3.11.9"
  }
 },
 "nbformat": 4,
 "nbformat_minor": 5
}
