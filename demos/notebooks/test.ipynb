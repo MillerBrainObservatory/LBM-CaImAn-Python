{
 "cells": [
  {
   "cell_type": "code",
   "execution_count": 1,
   "id": "initial_id",
   "metadata": {},
   "outputs": [
    {
     "ename": "ImportError",
     "evalue": "cannot import name 'select_adapter' from 'pygfx.renderers.wgpu' (/home/mbo/miniconda3/envs/mbo-caiman/lib/python3.11/site-packages/pygfx/renderers/wgpu/__init__.py)",
     "output_type": "error",
     "traceback": [
      "\u001b[0;31m---------------------------------------------------------------------------\u001b[0m",
      "\u001b[0;31mImportError\u001b[0m                               Traceback (most recent call last)",
      "Cell \u001b[0;32mIn[1], line 13\u001b[0m\n\u001b[1;32m     11\u001b[0m \u001b[38;5;28;01mimport\u001b[39;00m \u001b[38;5;21;01mtifffile\u001b[39;00m\n\u001b[1;32m     12\u001b[0m \u001b[38;5;28;01mfrom\u001b[39;00m \u001b[38;5;21;01mipywidgets\u001b[39;00m \u001b[38;5;28;01mimport\u001b[39;00m IntSlider, VBox\n\u001b[0;32m---> 13\u001b[0m \u001b[38;5;28;01mimport\u001b[39;00m \u001b[38;5;21;01mfastplotlib\u001b[39;00m \u001b[38;5;28;01mas\u001b[39;00m \u001b[38;5;21;01mfpl\u001b[39;00m\n\u001b[1;32m     15\u001b[0m \u001b[38;5;28;01mfrom\u001b[39;00m \u001b[38;5;21;01mcaiman\u001b[39;00m\u001b[38;5;21;01m.\u001b[39;00m\u001b[38;5;21;01mmotion_correction\u001b[39;00m \u001b[38;5;28;01mimport\u001b[39;00m high_pass_filter_space\n\u001b[1;32m     16\u001b[0m \u001b[38;5;28;01mfrom\u001b[39;00m \u001b[38;5;21;01mcaiman\u001b[39;00m\u001b[38;5;21;01m.\u001b[39;00m\u001b[38;5;21;01msummary_images\u001b[39;00m \u001b[38;5;28;01mimport\u001b[39;00m correlation_pnr\n",
      "File \u001b[0;32m~/miniconda3/envs/mbo-caiman/lib/python3.11/site-packages/fastplotlib/__init__.py:3\u001b[0m\n\u001b[1;32m      1\u001b[0m \u001b[38;5;28;01mfrom\u001b[39;00m \u001b[38;5;21;01mpathlib\u001b[39;00m \u001b[38;5;28;01mimport\u001b[39;00m Path\n\u001b[0;32m----> 3\u001b[0m \u001b[38;5;28;01mfrom\u001b[39;00m \u001b[38;5;21;01m.\u001b[39;00m\u001b[38;5;21;01mutils\u001b[39;00m\u001b[38;5;21;01m.\u001b[39;00m\u001b[38;5;21;01mgui\u001b[39;00m \u001b[38;5;28;01mimport\u001b[39;00m run  \u001b[38;5;66;03m# noqa\u001b[39;00m\n\u001b[1;32m      4\u001b[0m \u001b[38;5;28;01mfrom\u001b[39;00m \u001b[38;5;21;01m.\u001b[39;00m\u001b[38;5;21;01mgraphics\u001b[39;00m \u001b[38;5;28;01mimport\u001b[39;00m \u001b[38;5;241m*\u001b[39m\n\u001b[1;32m      5\u001b[0m \u001b[38;5;28;01mfrom\u001b[39;00m \u001b[38;5;21;01m.\u001b[39;00m\u001b[38;5;21;01mgraphics\u001b[39;00m\u001b[38;5;21;01m.\u001b[39;00m\u001b[38;5;21;01mselectors\u001b[39;00m \u001b[38;5;28;01mimport\u001b[39;00m \u001b[38;5;241m*\u001b[39m\n",
      "File \u001b[0;32m~/miniconda3/envs/mbo-caiman/lib/python3.11/site-packages/fastplotlib/utils/__init__.py:5\u001b[0m\n\u001b[1;32m      1\u001b[0m \u001b[38;5;28;01mfrom\u001b[39;00m \u001b[38;5;21;01mdataclasses\u001b[39;00m \u001b[38;5;28;01mimport\u001b[39;00m dataclass\n\u001b[1;32m      4\u001b[0m \u001b[38;5;28;01mfrom\u001b[39;00m \u001b[38;5;21;01m.\u001b[39;00m\u001b[38;5;21;01mfunctions\u001b[39;00m \u001b[38;5;28;01mimport\u001b[39;00m \u001b[38;5;241m*\u001b[39m\n\u001b[0;32m----> 5\u001b[0m \u001b[38;5;28;01mfrom\u001b[39;00m \u001b[38;5;21;01m.\u001b[39;00m\u001b[38;5;21;01mgpu\u001b[39;00m \u001b[38;5;28;01mimport\u001b[39;00m enumerate_adapters, select_adapter, print_wgpu_report\n\u001b[1;32m      6\u001b[0m \u001b[38;5;28;01mfrom\u001b[39;00m \u001b[38;5;21;01m.\u001b[39;00m\u001b[38;5;21;01m_plot_helpers\u001b[39;00m \u001b[38;5;28;01mimport\u001b[39;00m \u001b[38;5;241m*\u001b[39m\n\u001b[1;32m      9\u001b[0m \u001b[38;5;129m@dataclass\u001b[39m\n\u001b[1;32m     10\u001b[0m \u001b[38;5;28;01mclass\u001b[39;00m \u001b[38;5;21;01m_Config\u001b[39;00m:\n",
      "File \u001b[0;32m~/miniconda3/envs/mbo-caiman/lib/python3.11/site-packages/fastplotlib/utils/gpu.py:2\u001b[0m\n\u001b[1;32m      1\u001b[0m \u001b[38;5;28;01mimport\u001b[39;00m \u001b[38;5;21;01mwgpu\u001b[39;00m\n\u001b[0;32m----> 2\u001b[0m \u001b[38;5;28;01mfrom\u001b[39;00m \u001b[38;5;21;01mpygfx\u001b[39;00m\u001b[38;5;21;01m.\u001b[39;00m\u001b[38;5;21;01mrenderers\u001b[39;00m\u001b[38;5;21;01m.\u001b[39;00m\u001b[38;5;21;01mwgpu\u001b[39;00m \u001b[38;5;28;01mimport\u001b[39;00m select_adapter \u001b[38;5;28;01mas\u001b[39;00m pygfx_select_adapter\n\u001b[1;32m      3\u001b[0m \u001b[38;5;28;01mfrom\u001b[39;00m \u001b[38;5;21;01mpygfx\u001b[39;00m \u001b[38;5;28;01mimport\u001b[39;00m print_wgpu_report \u001b[38;5;28;01mas\u001b[39;00m pygfx_print_wgpu_report\n\u001b[1;32m      6\u001b[0m \u001b[38;5;28;01mdef\u001b[39;00m \u001b[38;5;21menumerate_adapters\u001b[39m() \u001b[38;5;241m-\u001b[39m\u001b[38;5;241m>\u001b[39m \u001b[38;5;28mlist\u001b[39m[wgpu\u001b[38;5;241m.\u001b[39mGPUAdapter]:\n",
      "\u001b[0;31mImportError\u001b[0m: cannot import name 'select_adapter' from 'pygfx.renderers.wgpu' (/home/mbo/miniconda3/envs/mbo-caiman/lib/python3.11/site-packages/pygfx/renderers/wgpu/__init__.py)"
     ]
    }
   ],
   "source": [
    "from pathlib import Path\n",
    "from copy import deepcopy\n",
    "import os\n",
    "import zarr\n",
    "import dask.array as da\n",
    "from functools import partial\n",
    "import qtpy\n",
    "\n",
    "import numpy as np\n",
    "import pandas as pd\n",
    "import tifffile\n",
    "from ipywidgets import IntSlider, VBox\n",
    "import fastplotlib as fpl\n",
    "\n",
    "from caiman.motion_correction import high_pass_filter_space\n",
    "from caiman.summary_images import correlation_pnr\n",
    "\n",
    "os.environ['WAYLAND_DISPLAY'] = ''\n",
    "os.environ['RUST_LOG'] = 'info'\n",
    "os.environ['WINIT_UNIX_BACKEND'] = 'x11'\n",
    "\n",
    "import mesmerize_core as mc"
   ]
  },
  {
   "cell_type": "code",
   "execution_count": 2,
   "id": "17f5bc5e",
   "metadata": {},
   "outputs": [],
   "source": [
    "from mesmerize_core.caiman_extensions.cnmf import cnmf_cache\n",
    "\n",
    "if os.name == \"nt\":\n",
    "    # disable the cache on windows, this will be automatic in a future version\n",
    "    cnmf_cache.set_maxsize(0)"
   ]
  },
  {
   "cell_type": "code",
   "execution_count": 3,
   "id": "57513f83",
   "metadata": {},
   "outputs": [
    {
     "data": {
      "text/html": [
       "<div>\n",
       "<style scoped>\n",
       "    .dataframe tbody tr th:only-of-type {\n",
       "        vertical-align: middle;\n",
       "    }\n",
       "\n",
       "    .dataframe tbody tr th {\n",
       "        vertical-align: top;\n",
       "    }\n",
       "\n",
       "    .dataframe thead th {\n",
       "        text-align: right;\n",
       "    }\n",
       "</style>\n",
       "<table border=\"1\" class=\"dataframe\">\n",
       "  <thead>\n",
       "    <tr style=\"text-align: right;\">\n",
       "      <th></th>\n",
       "      <th>algo</th>\n",
       "      <th>item_name</th>\n",
       "      <th>input_movie_path</th>\n",
       "      <th>params</th>\n",
       "      <th>outputs</th>\n",
       "      <th>added_time</th>\n",
       "      <th>ran_time</th>\n",
       "      <th>algo_duration</th>\n",
       "      <th>comments</th>\n",
       "      <th>uuid</th>\n",
       "    </tr>\n",
       "  </thead>\n",
       "  <tbody>\n",
       "    <tr>\n",
       "      <th>0</th>\n",
       "      <td>mcorr</td>\n",
       "      <td>plane_1</td>\n",
       "      <td>animal_01/session_01/plane_1.zarr</td>\n",
       "      <td>{'main': {'var_name_hdf5': 'mov', 'max_shifts'...</td>\n",
       "      <td>{'mean-projection-path': '247620be-d14b-46da-b...</td>\n",
       "      <td>2024-09-09T14:55:09</td>\n",
       "      <td>2024-09-10T09:57:59</td>\n",
       "      <td>42.13 sec</td>\n",
       "      <td>None</td>\n",
       "      <td>247620be-d14b-46da-b6ba-6c73bf607b02</td>\n",
       "    </tr>\n",
       "    <tr>\n",
       "      <th>1</th>\n",
       "      <td>cnmf</td>\n",
       "      <td>caiman_phys</td>\n",
       "      <td>247620be-d14b-46da-b6ba-6c73bf607b02/247620be-...</td>\n",
       "      <td>{'main': {'fr': 9.62, 'dxy': (1.0, 1.0), 'deca...</td>\n",
       "      <td>{'mean-projection-path': 'bee3b92b-c567-4c7c-b...</td>\n",
       "      <td>2024-09-10T12:50:48</td>\n",
       "      <td>2024-09-10T12:52:31</td>\n",
       "      <td>98.29 sec</td>\n",
       "      <td>None</td>\n",
       "      <td>bee3b92b-c567-4c7c-bb29-d460e08fa980</td>\n",
       "    </tr>\n",
       "    <tr>\n",
       "      <th>2</th>\n",
       "      <td>cnmf</td>\n",
       "      <td>caiman_phys</td>\n",
       "      <td>247620be-d14b-46da-b6ba-6c73bf607b02/247620be-...</td>\n",
       "      <td>{'main': {'fr': 9.62, 'dxy': (1.0, 1.0), 'deca...</td>\n",
       "      <td>None</td>\n",
       "      <td>2024-09-12T17:17:46</td>\n",
       "      <td>None</td>\n",
       "      <td>None</td>\n",
       "      <td>None</td>\n",
       "      <td>a2043cde-7b58-49a8-8bbc-376c690af125</td>\n",
       "    </tr>\n",
       "  </tbody>\n",
       "</table>\n",
       "</div>"
      ],
      "text/plain": [
       "    algo    item_name                                   input_movie_path  \\\n",
       "0  mcorr      plane_1                  animal_01/session_01/plane_1.zarr   \n",
       "1   cnmf  caiman_phys  247620be-d14b-46da-b6ba-6c73bf607b02/247620be-...   \n",
       "2   cnmf  caiman_phys  247620be-d14b-46da-b6ba-6c73bf607b02/247620be-...   \n",
       "\n",
       "                                              params  \\\n",
       "0  {'main': {'var_name_hdf5': 'mov', 'max_shifts'...   \n",
       "1  {'main': {'fr': 9.62, 'dxy': (1.0, 1.0), 'deca...   \n",
       "2  {'main': {'fr': 9.62, 'dxy': (1.0, 1.0), 'deca...   \n",
       "\n",
       "                                             outputs           added_time  \\\n",
       "0  {'mean-projection-path': '247620be-d14b-46da-b...  2024-09-09T14:55:09   \n",
       "1  {'mean-projection-path': 'bee3b92b-c567-4c7c-b...  2024-09-10T12:50:48   \n",
       "2                                               None  2024-09-12T17:17:46   \n",
       "\n",
       "              ran_time algo_duration comments  \\\n",
       "0  2024-09-10T09:57:59     42.13 sec     None   \n",
       "1  2024-09-10T12:52:31     98.29 sec     None   \n",
       "2                 None          None     None   \n",
       "\n",
       "                                   uuid  \n",
       "0  247620be-d14b-46da-b6ba-6c73bf607b02  \n",
       "1  bee3b92b-c567-4c7c-bb29-d460e08fa980  \n",
       "2  a2043cde-7b58-49a8-8bbc-376c690af125  "
      ]
     },
     "execution_count": 3,
     "metadata": {},
     "output_type": "execute_result"
    }
   ],
   "source": [
    "parent_path = Path().home() / \"caiman_data_org\"\n",
    "movie_path = parent_path / 'animal_01' / 'session_01' / 'plane_1.zarr'\n",
    "\n",
    "batch_path = parent_path / 'batch.pickle'\n",
    "mc.set_parent_raw_data_path(str(parent_path))\n",
    "\n",
    "# you could alos load the registration batch and\n",
    "# save this patch in a new dataframe (saved to disk automatically)\n",
    "try:\n",
    "    df = mc.load_batch(batch_path)\n",
    "except (IsADirectoryError, FileNotFoundError):\n",
    "    df = mc.create_batch(batch_path)\n",
    "\n",
    "df=df.caiman.reload_from_disk()\n",
    "df"
   ]
  },
  {
   "cell_type": "code",
   "execution_count": 4,
   "id": "6fab7d44",
   "metadata": {},
   "outputs": [],
   "source": [
    "def read_zarr(path):\n",
    "    # return zarr.open(path)['mov']\n",
    "    return da.from_zarr(path, 'mov').compute()"
   ]
  },
  {
   "cell_type": "code",
   "execution_count": 5,
   "id": "6f6c1207",
   "metadata": {},
   "outputs": [
    {
     "data": {
      "application/vnd.jupyter.widget-view+json": {
       "model_id": "0c19a3ae0a5842dfa561cdb84b0c1b01",
       "version_major": 2,
       "version_minor": 0
      },
      "text/plain": [
       "interactive(children=(Text(value='/home/mbo/caiman_data_org', continuous_update=False, description='parent_pat…"
      ]
     },
     "metadata": {},
     "output_type": "display_data"
    }
   ],
   "source": []
  },
  {
   "cell_type": "code",
   "execution_count": null,
   "id": "d71ed198",
   "metadata": {},
   "outputs": [],
   "source": []
  }
 ],
 "metadata": {
  "kernelspec": {
   "display_name": "Python 3 (ipykernel)",
   "language": "python",
   "name": "python3"
  },
  "language_info": {
   "codemirror_mode": {
    "name": "ipython",
    "version": 3
   },
   "file_extension": ".py",
   "mimetype": "text/x-python",
   "name": "python",
   "nbconvert_exporter": "python",
   "pygments_lexer": "ipython3",
   "version": "3.11.9"
  }
 },
 "nbformat": 4,
 "nbformat_minor": 5
}
