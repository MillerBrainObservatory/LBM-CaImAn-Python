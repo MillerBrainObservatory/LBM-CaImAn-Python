{
 "cells": [
  {
   "cell_type": "markdown",
   "id": "3d62244e",
   "metadata": {},
   "source": [
    "## Demo LBM CaImAn Pipeline\n",
    "\n",
    "Processing and exploring the LBM dataset located [here](https://rockefeller-my.sharepoint.com/my?id=%2Fpersonal%2Ffoconnell%5Frockefeller%5Fedu%2FDocuments%2FMBO%2Fdatasets%2Fdemas%5F2023&FolderCTID=0x012000228B6C10491B3546BA7A3CF92268F533I)"
   ]
  },
  {
   "cell_type": "code",
   "execution_count": 1,
   "id": "27af3ad2",
   "metadata": {},
   "outputs": [],
   "source": [
    "import os\n",
    "from pathlib import Path\n",
    "import logging\n",
    "\n",
    "# itertools.product makes it easy to loop through parameter variants\n",
    "# basically, it's easier to read that deeply nested for loops\n",
    "from copy import deepcopy\n",
    "from itertools import product\n",
    "\n",
    "import mesmerize_core as mc\n",
    "from mesmerize_viz import *\n",
    "from mesmerize_core.caiman_extensions.cnmf import cnmf_cache\n",
    "\n",
    "from caiman.source_extraction.cnmf import cnmf, params\n",
    "from caiman.motion_correction import high_pass_filter_space\n",
    "from caiman.summary_images import correlation_pnr\n",
    "\n",
    "import napari\n",
    "\n",
    "import matplotlib.pyplot as plt\n",
    "import pandas as pd\n",
    "import numpy as np\n",
    "import zarr\n",
    "from ipywidgets import IntSlider, VBox\n",
    "from sidecar import Sidecar\n",
    "\n",
    "try:\n",
    "    import cv2\n",
    "    cv2.setNumThreads(0)\n",
    "except():\n",
    "    pass\n",
    "\n",
    "if os.name == \"nt\":\n",
    "    # disable the cache on windows, this will be automatic in a future version\n",
    "    cnmf_cache.set_maxsize(0)\n",
    "\n",
    "pd.options.display.max_colwidth = 120\n",
    "\n",
    "logger = logging.getLogger(\"caiman\")\n",
    "logger.setLevel(logging.DEBUG)\n",
    "handler = logging.StreamHandler()\n",
    "log_format = logging.Formatter(\"%(relativeCreated)12d [%(filename)s:%(funcName)10s():%(lineno)s] [%(process)d] %(message)s\")\n",
    "handler.setFormatter(log_format)\n",
    "logger.addHandler(handler)\n",
    "\n",
    "logging.getLogger(\"caiman\").setLevel(logging.WARNING)"
   ]
  },
  {
   "cell_type": "code",
   "execution_count": 4,
   "id": "4f8b2c1e",
   "metadata": {},
   "outputs": [
    {
     "data": {
      "text/html": [
       "<div>\n",
       "<style scoped>\n",
       "    .dataframe tbody tr th:only-of-type {\n",
       "        vertical-align: middle;\n",
       "    }\n",
       "\n",
       "    .dataframe tbody tr th {\n",
       "        vertical-align: top;\n",
       "    }\n",
       "\n",
       "    .dataframe thead th {\n",
       "        text-align: right;\n",
       "    }\n",
       "</style>\n",
       "<table border=\"1\" class=\"dataframe\">\n",
       "  <thead>\n",
       "    <tr style=\"text-align: right;\">\n",
       "      <th></th>\n",
       "      <th>algo</th>\n",
       "      <th>item_name</th>\n",
       "      <th>input_movie_path</th>\n",
       "      <th>params</th>\n",
       "      <th>outputs</th>\n",
       "      <th>added_time</th>\n",
       "      <th>ran_time</th>\n",
       "      <th>algo_duration</th>\n",
       "      <th>comments</th>\n",
       "      <th>uuid</th>\n",
       "    </tr>\n",
       "  </thead>\n",
       "  <tbody>\n",
       "    <tr>\n",
       "      <th>0</th>\n",
       "      <td>mcorr</td>\n",
       "      <td>extracted_plane_1</td>\n",
       "      <td>tiff\\extracted_plane_1.tif</td>\n",
       "      <td>{'main': {'var_name_hdf5': 'mov', 'max_shifts': (10, 10), 'strides': (48, 48), 'overlaps': (24, 24), 'max_deviation_...</td>\n",
       "      <td>{'mean-projection-path': b32f41bf-a9a5-4965-be7c-e6779e854328\\b32f41bf-a9a5-4965-be7c-e6779e854328_mean_projection.n...</td>\n",
       "      <td>2024-09-26T11:56:54</td>\n",
       "      <td>2024-09-26T12:02:55</td>\n",
       "      <td>77.3 sec</td>\n",
       "      <td>None</td>\n",
       "      <td>b32f41bf-a9a5-4965-be7c-e6779e854328</td>\n",
       "    </tr>\n",
       "    <tr>\n",
       "      <th>1</th>\n",
       "      <td>cnmf</td>\n",
       "      <td>cnmf_1</td>\n",
       "      <td>b32f41bf-a9a5-4965-be7c-e6779e854328\\b32f41bf-a9a5-4965-be7c-e6779e854328-extracted_plane_1_els__d1_583_d2_536_d3_1_...</td>\n",
       "      <td>{'main': {'fr': 9.62, 'dxy': (1.0, 1.0), 'decay_time': 0.4, 'strides': (48, 48), 'overlaps': (24, 24), 'max_shifts':...</td>\n",
       "      <td>{'mean-projection-path': a057e39e-a2df-41d3-8217-83c9cd7ffb6d\\a057e39e-a2df-41d3-8217-83c9cd7ffb6d_mean_projection.n...</td>\n",
       "      <td>2024-09-26T16:26:20</td>\n",
       "      <td>2024-09-26T16:28:48</td>\n",
       "      <td>143.18 sec</td>\n",
       "      <td>None</td>\n",
       "      <td>a057e39e-a2df-41d3-8217-83c9cd7ffb6d</td>\n",
       "    </tr>\n",
       "    <tr>\n",
       "      <th>2</th>\n",
       "      <td>cnmf</td>\n",
       "      <td>extracted_plane_1</td>\n",
       "      <td>b32f41bf-a9a5-4965-be7c-e6779e854328\\b32f41bf-a9a5-4965-be7c-e6779e854328-extracted_plane_1_els__d1_583_d2_536_d3_1_...</td>\n",
       "      <td>{'main': {'fr': 9.62, 'dxy': (1.0, 1.0), 'decay_time': 0.4, 'strides': (48, 48), 'overlaps': (24, 24), 'max_shifts':...</td>\n",
       "      <td>{'mean-projection-path': 5cb543ec-5358-4b35-83cf-bfd19fa06a68\\5cb543ec-5358-4b35-83cf-bfd19fa06a68_mean_projection.n...</td>\n",
       "      <td>2024-09-27T14:48:59</td>\n",
       "      <td>2024-09-27T14:50:30</td>\n",
       "      <td>80.14 sec</td>\n",
       "      <td>None</td>\n",
       "      <td>5cb543ec-5358-4b35-83cf-bfd19fa06a68</td>\n",
       "    </tr>\n",
       "    <tr>\n",
       "      <th>3</th>\n",
       "      <td>cnmf</td>\n",
       "      <td>extracted_plane_1</td>\n",
       "      <td>b32f41bf-a9a5-4965-be7c-e6779e854328\\b32f41bf-a9a5-4965-be7c-e6779e854328-extracted_plane_1_els__d1_583_d2_536_d3_1_...</td>\n",
       "      <td>{'main': {'fr': 9.62, 'dxy': (1.0, 1.0), 'decay_time': 0.4, 'strides': (48, 48), 'overlaps': (24, 24), 'max_shifts':...</td>\n",
       "      <td>{'mean-projection-path': df52a609-d986-4bc0-a0a2-526cbfda057d\\df52a609-d986-4bc0-a0a2-526cbfda057d_mean_projection.n...</td>\n",
       "      <td>2024-09-27T14:48:59</td>\n",
       "      <td>2024-09-27T14:51:46</td>\n",
       "      <td>75.93 sec</td>\n",
       "      <td>None</td>\n",
       "      <td>df52a609-d986-4bc0-a0a2-526cbfda057d</td>\n",
       "    </tr>\n",
       "    <tr>\n",
       "      <th>4</th>\n",
       "      <td>cnmf</td>\n",
       "      <td>extracted_plane_1</td>\n",
       "      <td>b32f41bf-a9a5-4965-be7c-e6779e854328\\b32f41bf-a9a5-4965-be7c-e6779e854328-extracted_plane_1_els__d1_583_d2_536_d3_1_...</td>\n",
       "      <td>{'main': {'fr': 9.62, 'dxy': (1.0, 1.0), 'decay_time': 0.4, 'strides': (48, 48), 'overlaps': (24, 24), 'max_shifts':...</td>\n",
       "      <td>{'mean-projection-path': b68a8efe-1a3b-4392-b6e7-416312f1f945\\b68a8efe-1a3b-4392-b6e7-416312f1f945_mean_projection.n...</td>\n",
       "      <td>2024-09-27T14:48:59</td>\n",
       "      <td>2024-09-30T10:30:15</td>\n",
       "      <td>96.62 sec</td>\n",
       "      <td>None</td>\n",
       "      <td>b68a8efe-1a3b-4392-b6e7-416312f1f945</td>\n",
       "    </tr>\n",
       "    <tr>\n",
       "      <th>5</th>\n",
       "      <td>cnmf</td>\n",
       "      <td>extracted_plane_1</td>\n",
       "      <td>b32f41bf-a9a5-4965-be7c-e6779e854328\\b32f41bf-a9a5-4965-be7c-e6779e854328-extracted_plane_1_els__d1_583_d2_536_d3_1_...</td>\n",
       "      <td>{'main': {'fr': 9.62, 'dxy': (1.0, 1.0), 'decay_time': 0.4, 'strides': (48, 48), 'overlaps': (24, 24), 'max_shifts':...</td>\n",
       "      <td>{'mean-projection-path': 15e6fb81-fac4-457b-96da-dbb8e2d7b669\\15e6fb81-fac4-457b-96da-dbb8e2d7b669_mean_projection.n...</td>\n",
       "      <td>2024-09-27T14:48:59</td>\n",
       "      <td>2024-09-30T11:32:09</td>\n",
       "      <td>89.61 sec</td>\n",
       "      <td>None</td>\n",
       "      <td>15e6fb81-fac4-457b-96da-dbb8e2d7b669</td>\n",
       "    </tr>\n",
       "    <tr>\n",
       "      <th>6</th>\n",
       "      <td>cnmf</td>\n",
       "      <td>k=40</td>\n",
       "      <td>b32f41bf-a9a5-4965-be7c-e6779e854328\\b32f41bf-a9a5-4965-be7c-e6779e854328-extracted_plane_1_els__d1_583_d2_536_d3_1_...</td>\n",
       "      <td>{'main': {'fr': 9.62, 'dxy': (1.0, 1.0), 'decay_time': 0.4, 'strides': (48, 48), 'overlaps': (24, 24), 'max_shifts':...</td>\n",
       "      <td>{'mean-projection-path': abba269d-f2f3-467b-ba40-f1e33aea8461\\abba269d-f2f3-467b-ba40-f1e33aea8461_mean_projection.n...</td>\n",
       "      <td>2024-09-30T14:02:10</td>\n",
       "      <td>2024-09-30T14:05:00</td>\n",
       "      <td>165.71 sec</td>\n",
       "      <td>None</td>\n",
       "      <td>abba269d-f2f3-467b-ba40-f1e33aea8461</td>\n",
       "    </tr>\n",
       "    <tr>\n",
       "      <th>7</th>\n",
       "      <td>cnmf</td>\n",
       "      <td>cnmf_1</td>\n",
       "      <td>b32f41bf-a9a5-4965-be7c-e6779e854328\\b32f41bf-a9a5-4965-be7c-e6779e854328-extracted_plane_1_els__d1_583_d2_536_d3_1_...</td>\n",
       "      <td>{'main': {'fr': 9.62, 'dxy': (1.0, 1.0), 'decay_time': 0.4, 'strides': (48, 48), 'overlaps': (24, 24), 'max_shifts':...</td>\n",
       "      <td>{'mean-projection-path': 9777376d-092c-43db-b14a-c9be1e142e5c\\9777376d-092c-43db-b14a-c9be1e142e5c_mean_projection.n...</td>\n",
       "      <td>2024-09-30T14:36:58</td>\n",
       "      <td>2024-09-30T14:41:40</td>\n",
       "      <td>161.74 sec</td>\n",
       "      <td>None</td>\n",
       "      <td>9777376d-092c-43db-b14a-c9be1e142e5c</td>\n",
       "    </tr>\n",
       "    <tr>\n",
       "      <th>8</th>\n",
       "      <td>cnmf</td>\n",
       "      <td>cnmf_1</td>\n",
       "      <td>b32f41bf-a9a5-4965-be7c-e6779e854328\\b32f41bf-a9a5-4965-be7c-e6779e854328-extracted_plane_1_els__d1_583_d2_536_d3_1_...</td>\n",
       "      <td>{'main': {'fr': 9.62, 'dxy': (1.0, 1.0), 'decay_time': 0.4, 'strides': (48, 48), 'overlaps': (24, 24), 'max_shifts':...</td>\n",
       "      <td>{'mean-projection-path': 88177367-8fbf-499b-940e-1fb9c331b499\\88177367-8fbf-499b-940e-1fb9c331b499_mean_projection.n...</td>\n",
       "      <td>2024-09-30T14:36:58</td>\n",
       "      <td>2024-09-30T14:44:32</td>\n",
       "      <td>172.71 sec</td>\n",
       "      <td>None</td>\n",
       "      <td>88177367-8fbf-499b-940e-1fb9c331b499</td>\n",
       "    </tr>\n",
       "    <tr>\n",
       "      <th>9</th>\n",
       "      <td>cnmf</td>\n",
       "      <td>cnmf_1</td>\n",
       "      <td>b32f41bf-a9a5-4965-be7c-e6779e854328\\b32f41bf-a9a5-4965-be7c-e6779e854328-extracted_plane_1_els__d1_583_d2_536_d3_1_...</td>\n",
       "      <td>{'main': {'fr': 9.62, 'dxy': (1.0, 1.0), 'decay_time': 0.4, 'strides': (48, 48), 'overlaps': (24, 24), 'max_shifts':...</td>\n",
       "      <td>{'mean-projection-path': a3bd82e1-618e-4279-8a67-ae3fe52a10d2\\a3bd82e1-618e-4279-8a67-ae3fe52a10d2_mean_projection.n...</td>\n",
       "      <td>2024-09-30T14:36:58</td>\n",
       "      <td>2024-09-30T14:47:31</td>\n",
       "      <td>179.02 sec</td>\n",
       "      <td>None</td>\n",
       "      <td>a3bd82e1-618e-4279-8a67-ae3fe52a10d2</td>\n",
       "    </tr>\n",
       "    <tr>\n",
       "      <th>10</th>\n",
       "      <td>cnmf</td>\n",
       "      <td>cnmf_1</td>\n",
       "      <td>b32f41bf-a9a5-4965-be7c-e6779e854328\\b32f41bf-a9a5-4965-be7c-e6779e854328-extracted_plane_1_els__d1_583_d2_536_d3_1_...</td>\n",
       "      <td>{'main': {'fr': 9.62, 'dxy': (1.0, 1.0), 'decay_time': 0.4, 'strides': (48, 48), 'overlaps': (24, 24), 'max_shifts':...</td>\n",
       "      <td>{'mean-projection-path': 03f6d9ca-c686-466e-9c8a-8076f787fc7b\\03f6d9ca-c686-466e-9c8a-8076f787fc7b_mean_projection.n...</td>\n",
       "      <td>2024-09-30T14:36:58</td>\n",
       "      <td>2024-09-30T14:50:13</td>\n",
       "      <td>161.89 sec</td>\n",
       "      <td>None</td>\n",
       "      <td>03f6d9ca-c686-466e-9c8a-8076f787fc7b</td>\n",
       "    </tr>\n",
       "    <tr>\n",
       "      <th>11</th>\n",
       "      <td>cnmf</td>\n",
       "      <td>cnmf_1</td>\n",
       "      <td>b32f41bf-a9a5-4965-be7c-e6779e854328\\b32f41bf-a9a5-4965-be7c-e6779e854328-extracted_plane_1_els__d1_583_d2_536_d3_1_...</td>\n",
       "      <td>{'main': {'fr': 9.62, 'dxy': (1.0, 1.0), 'decay_time': 0.4, 'strides': (48, 48), 'overlaps': (24, 24), 'max_shifts':...</td>\n",
       "      <td>{'mean-projection-path': 4bf6de48-8531-448f-b207-5f31299a12da\\4bf6de48-8531-448f-b207-5f31299a12da_mean_projection.n...</td>\n",
       "      <td>2024-09-30T14:36:58</td>\n",
       "      <td>2024-09-30T14:53:04</td>\n",
       "      <td>170.76 sec</td>\n",
       "      <td>None</td>\n",
       "      <td>4bf6de48-8531-448f-b207-5f31299a12da</td>\n",
       "    </tr>\n",
       "    <tr>\n",
       "      <th>12</th>\n",
       "      <td>cnmf</td>\n",
       "      <td>cnmf_1</td>\n",
       "      <td>b32f41bf-a9a5-4965-be7c-e6779e854328\\b32f41bf-a9a5-4965-be7c-e6779e854328-extracted_plane_1_els__d1_583_d2_536_d3_1_...</td>\n",
       "      <td>{'main': {'fr': 9.62, 'dxy': (1.0, 1.0), 'decay_time': 0.4, 'strides': (48, 48), 'overlaps': (24, 24), 'max_shifts':...</td>\n",
       "      <td>{'mean-projection-path': 3b9e8974-9d74-4f69-9370-ae731296203c\\3b9e8974-9d74-4f69-9370-ae731296203c_mean_projection.n...</td>\n",
       "      <td>2024-09-30T14:36:58</td>\n",
       "      <td>2024-09-30T14:56:01</td>\n",
       "      <td>177.33 sec</td>\n",
       "      <td>None</td>\n",
       "      <td>3b9e8974-9d74-4f69-9370-ae731296203c</td>\n",
       "    </tr>\n",
       "    <tr>\n",
       "      <th>13</th>\n",
       "      <td>cnmf</td>\n",
       "      <td>cnmf_1</td>\n",
       "      <td>b32f41bf-a9a5-4965-be7c-e6779e854328\\b32f41bf-a9a5-4965-be7c-e6779e854328-extracted_plane_1_els__d1_583_d2_536_d3_1_...</td>\n",
       "      <td>{'main': {'fr': 9.62, 'dxy': (1.0, 1.0), 'decay_time': 0.4, 'strides': (48, 48), 'overlaps': (24, 24), 'max_shifts':...</td>\n",
       "      <td>{'mean-projection-path': 705e6404-a883-4a19-9162-53a29aa62132\\705e6404-a883-4a19-9162-53a29aa62132_mean_projection.n...</td>\n",
       "      <td>2024-09-30T14:36:58</td>\n",
       "      <td>2024-09-30T14:59:31</td>\n",
       "      <td>209.84 sec</td>\n",
       "      <td>None</td>\n",
       "      <td>705e6404-a883-4a19-9162-53a29aa62132</td>\n",
       "    </tr>\n",
       "    <tr>\n",
       "      <th>14</th>\n",
       "      <td>cnmf</td>\n",
       "      <td>cnmf_1</td>\n",
       "      <td>b32f41bf-a9a5-4965-be7c-e6779e854328\\b32f41bf-a9a5-4965-be7c-e6779e854328-extracted_plane_1_els__d1_583_d2_536_d3_1_...</td>\n",
       "      <td>{'main': {'fr': 9.62, 'dxy': (1.0, 1.0), 'decay_time': 0.4, 'strides': (48, 48), 'overlaps': (24, 24), 'max_shifts':...</td>\n",
       "      <td>{'mean-projection-path': 8bed5bd7-9261-46bb-bc17-091241f3b414\\8bed5bd7-9261-46bb-bc17-091241f3b414_mean_projection.n...</td>\n",
       "      <td>2024-09-30T14:36:58</td>\n",
       "      <td>2024-09-30T15:03:25</td>\n",
       "      <td>234.05 sec</td>\n",
       "      <td>None</td>\n",
       "      <td>8bed5bd7-9261-46bb-bc17-091241f3b414</td>\n",
       "    </tr>\n",
       "    <tr>\n",
       "      <th>15</th>\n",
       "      <td>cnmf</td>\n",
       "      <td>cnmf_1</td>\n",
       "      <td>b32f41bf-a9a5-4965-be7c-e6779e854328\\b32f41bf-a9a5-4965-be7c-e6779e854328-extracted_plane_1_els__d1_583_d2_536_d3_1_...</td>\n",
       "      <td>{'main': {'fr': 9.62, 'dxy': (1.0, 1.0), 'decay_time': 0.4, 'strides': (48, 48), 'overlaps': (24, 24), 'max_shifts':...</td>\n",
       "      <td>{'mean-projection-path': 4cf62c5c-ed76-40ee-bf5c-6ed878aa924b\\4cf62c5c-ed76-40ee-bf5c-6ed878aa924b_mean_projection.n...</td>\n",
       "      <td>2024-09-30T14:36:58</td>\n",
       "      <td>2024-09-30T15:07:23</td>\n",
       "      <td>237.78 sec</td>\n",
       "      <td>None</td>\n",
       "      <td>4cf62c5c-ed76-40ee-bf5c-6ed878aa924b</td>\n",
       "    </tr>\n",
       "    <tr>\n",
       "      <th>16</th>\n",
       "      <td>cnmf</td>\n",
       "      <td>cnmf_1</td>\n",
       "      <td>b32f41bf-a9a5-4965-be7c-e6779e854328\\b32f41bf-a9a5-4965-be7c-e6779e854328-extracted_plane_1_els__d1_583_d2_536_d3_1_...</td>\n",
       "      <td>{'main': {'fr': 9.62, 'dxy': (1.0, 1.0), 'decay_time': 0.4, 'strides': (48, 48), 'overlaps': (24, 24), 'max_shifts':...</td>\n",
       "      <td>{'mean-projection-path': d46488b0-5e55-4e4f-84dc-9bb14dc9db17\\d46488b0-5e55-4e4f-84dc-9bb14dc9db17_mean_projection.n...</td>\n",
       "      <td>2024-09-30T14:36:58</td>\n",
       "      <td>2024-09-30T15:10:50</td>\n",
       "      <td>207.15 sec</td>\n",
       "      <td>None</td>\n",
       "      <td>d46488b0-5e55-4e4f-84dc-9bb14dc9db17</td>\n",
       "    </tr>\n",
       "    <tr>\n",
       "      <th>17</th>\n",
       "      <td>cnmf</td>\n",
       "      <td>cnmf_1</td>\n",
       "      <td>b32f41bf-a9a5-4965-be7c-e6779e854328\\b32f41bf-a9a5-4965-be7c-e6779e854328-extracted_plane_1_els__d1_583_d2_536_d3_1_...</td>\n",
       "      <td>{'main': {'fr': 9.62, 'dxy': (1.0, 1.0), 'decay_time': 0.4, 'strides': (48, 48), 'overlaps': (24, 24), 'max_shifts':...</td>\n",
       "      <td>{'mean-projection-path': 5158332e-9c9a-4395-8044-70667b0ef869\\5158332e-9c9a-4395-8044-70667b0ef869_mean_projection.n...</td>\n",
       "      <td>2024-09-30T14:36:58</td>\n",
       "      <td>2024-09-30T15:14:44</td>\n",
       "      <td>234.05 sec</td>\n",
       "      <td>None</td>\n",
       "      <td>5158332e-9c9a-4395-8044-70667b0ef869</td>\n",
       "    </tr>\n",
       "    <tr>\n",
       "      <th>18</th>\n",
       "      <td>cnmf</td>\n",
       "      <td>cnmf_1</td>\n",
       "      <td>b32f41bf-a9a5-4965-be7c-e6779e854328\\b32f41bf-a9a5-4965-be7c-e6779e854328-extracted_plane_1_els__d1_583_d2_536_d3_1_...</td>\n",
       "      <td>{'main': {'fr': 9.62, 'dxy': (1.0, 1.0), 'decay_time': 0.4, 'strides': (48, 48), 'overlaps': (24, 24), 'max_shifts':...</td>\n",
       "      <td>{'mean-projection-path': f2d0cc26-ab86-4b8b-95ff-9aacf40c1c92\\f2d0cc26-ab86-4b8b-95ff-9aacf40c1c92_mean_projection.n...</td>\n",
       "      <td>2024-09-30T14:36:58</td>\n",
       "      <td>2024-09-30T15:18:44</td>\n",
       "      <td>239.34 sec</td>\n",
       "      <td>None</td>\n",
       "      <td>f2d0cc26-ab86-4b8b-95ff-9aacf40c1c92</td>\n",
       "    </tr>\n",
       "    <tr>\n",
       "      <th>19</th>\n",
       "      <td>cnmf</td>\n",
       "      <td>cnmf_1</td>\n",
       "      <td>b32f41bf-a9a5-4965-be7c-e6779e854328\\b32f41bf-a9a5-4965-be7c-e6779e854328-extracted_plane_1_els__d1_583_d2_536_d3_1_...</td>\n",
       "      <td>{'main': {'fr': 9.62, 'dxy': (1.0, 1.0), 'decay_time': 0.4, 'strides': (48, 48), 'overlaps': (24, 24), 'max_shifts':...</td>\n",
       "      <td>{'mean-projection-path': 683f31bc-fdb2-4d27-b860-2fd272e83172\\683f31bc-fdb2-4d27-b860-2fd272e83172_mean_projection.n...</td>\n",
       "      <td>2024-09-30T14:36:58</td>\n",
       "      <td>2024-09-30T15:23:16</td>\n",
       "      <td>272.6 sec</td>\n",
       "      <td>None</td>\n",
       "      <td>683f31bc-fdb2-4d27-b860-2fd272e83172</td>\n",
       "    </tr>\n",
       "    <tr>\n",
       "      <th>20</th>\n",
       "      <td>cnmf</td>\n",
       "      <td>cnmf_1</td>\n",
       "      <td>b32f41bf-a9a5-4965-be7c-e6779e854328\\b32f41bf-a9a5-4965-be7c-e6779e854328-extracted_plane_1_els__d1_583_d2_536_d3_1_...</td>\n",
       "      <td>{'main': {'fr': 9.62, 'dxy': (1.0, 1.0), 'decay_time': 0.4, 'strides': (48, 48), 'overlaps': (24, 24), 'max_shifts':...</td>\n",
       "      <td>{'mean-projection-path': 05f36389-5168-47d5-9216-3feabe0a64f3\\05f36389-5168-47d5-9216-3feabe0a64f3_mean_projection.n...</td>\n",
       "      <td>2024-09-30T14:36:58</td>\n",
       "      <td>2024-09-30T15:28:07</td>\n",
       "      <td>290.92 sec</td>\n",
       "      <td>None</td>\n",
       "      <td>05f36389-5168-47d5-9216-3feabe0a64f3</td>\n",
       "    </tr>\n",
       "    <tr>\n",
       "      <th>21</th>\n",
       "      <td>cnmf</td>\n",
       "      <td>cnmf_1</td>\n",
       "      <td>b32f41bf-a9a5-4965-be7c-e6779e854328\\b32f41bf-a9a5-4965-be7c-e6779e854328-extracted_plane_1_els__d1_583_d2_536_d3_1_...</td>\n",
       "      <td>{'main': {'fr': 9.62, 'dxy': (1.0, 1.0), 'decay_time': 0.4, 'strides': (48, 48), 'overlaps': (24, 24), 'max_shifts':...</td>\n",
       "      <td>{'mean-projection-path': 79beadbb-7140-4c23-b914-768a4b5b4a4d\\79beadbb-7140-4c23-b914-768a4b5b4a4d_mean_projection.n...</td>\n",
       "      <td>2024-09-30T14:36:58</td>\n",
       "      <td>2024-09-30T15:33:16</td>\n",
       "      <td>308.79 sec</td>\n",
       "      <td>None</td>\n",
       "      <td>79beadbb-7140-4c23-b914-768a4b5b4a4d</td>\n",
       "    </tr>\n",
       "    <tr>\n",
       "      <th>22</th>\n",
       "      <td>cnmf</td>\n",
       "      <td>cnmf_1</td>\n",
       "      <td>b32f41bf-a9a5-4965-be7c-e6779e854328\\b32f41bf-a9a5-4965-be7c-e6779e854328-extracted_plane_1_els__d1_583_d2_536_d3_1_...</td>\n",
       "      <td>{'main': {'fr': 9.62, 'dxy': (1.0, 1.0), 'decay_time': 0.4, 'strides': (48, 48), 'overlaps': (24, 24), 'max_shifts':...</td>\n",
       "      <td>{'mean-projection-path': 926d6546-12c8-43ac-a033-9a4c97817b31\\926d6546-12c8-43ac-a033-9a4c97817b31_mean_projection.n...</td>\n",
       "      <td>2024-09-30T14:36:58</td>\n",
       "      <td>2024-09-30T15:37:50</td>\n",
       "      <td>273.53 sec</td>\n",
       "      <td>None</td>\n",
       "      <td>926d6546-12c8-43ac-a033-9a4c97817b31</td>\n",
       "    </tr>\n",
       "    <tr>\n",
       "      <th>23</th>\n",
       "      <td>cnmf</td>\n",
       "      <td>cnmf_1</td>\n",
       "      <td>b32f41bf-a9a5-4965-be7c-e6779e854328\\b32f41bf-a9a5-4965-be7c-e6779e854328-extracted_plane_1_els__d1_583_d2_536_d3_1_...</td>\n",
       "      <td>{'main': {'fr': 9.62, 'dxy': (1.0, 1.0), 'decay_time': 0.4, 'strides': (48, 48), 'overlaps': (24, 24), 'max_shifts':...</td>\n",
       "      <td>{'mean-projection-path': e1069d70-5735-47c4-8102-594a1f9f1702\\e1069d70-5735-47c4-8102-594a1f9f1702_mean_projection.n...</td>\n",
       "      <td>2024-09-30T14:36:58</td>\n",
       "      <td>2024-09-30T15:42:58</td>\n",
       "      <td>308.31 sec</td>\n",
       "      <td>None</td>\n",
       "      <td>e1069d70-5735-47c4-8102-594a1f9f1702</td>\n",
       "    </tr>\n",
       "  </tbody>\n",
       "</table>\n",
       "</div>"
      ],
      "text/plain": [
       "     algo          item_name  \\\n",
       "0   mcorr  extracted_plane_1   \n",
       "1    cnmf             cnmf_1   \n",
       "2    cnmf  extracted_plane_1   \n",
       "3    cnmf  extracted_plane_1   \n",
       "4    cnmf  extracted_plane_1   \n",
       "5    cnmf  extracted_plane_1   \n",
       "6    cnmf               k=40   \n",
       "7    cnmf             cnmf_1   \n",
       "8    cnmf             cnmf_1   \n",
       "9    cnmf             cnmf_1   \n",
       "10   cnmf             cnmf_1   \n",
       "11   cnmf             cnmf_1   \n",
       "12   cnmf             cnmf_1   \n",
       "13   cnmf             cnmf_1   \n",
       "14   cnmf             cnmf_1   \n",
       "15   cnmf             cnmf_1   \n",
       "16   cnmf             cnmf_1   \n",
       "17   cnmf             cnmf_1   \n",
       "18   cnmf             cnmf_1   \n",
       "19   cnmf             cnmf_1   \n",
       "20   cnmf             cnmf_1   \n",
       "21   cnmf             cnmf_1   \n",
       "22   cnmf             cnmf_1   \n",
       "23   cnmf             cnmf_1   \n",
       "\n",
       "                                                                                                           input_movie_path  \\\n",
       "0                                                                                                tiff\\extracted_plane_1.tif   \n",
       "1   b32f41bf-a9a5-4965-be7c-e6779e854328\\b32f41bf-a9a5-4965-be7c-e6779e854328-extracted_plane_1_els__d1_583_d2_536_d3_1_...   \n",
       "2   b32f41bf-a9a5-4965-be7c-e6779e854328\\b32f41bf-a9a5-4965-be7c-e6779e854328-extracted_plane_1_els__d1_583_d2_536_d3_1_...   \n",
       "3   b32f41bf-a9a5-4965-be7c-e6779e854328\\b32f41bf-a9a5-4965-be7c-e6779e854328-extracted_plane_1_els__d1_583_d2_536_d3_1_...   \n",
       "4   b32f41bf-a9a5-4965-be7c-e6779e854328\\b32f41bf-a9a5-4965-be7c-e6779e854328-extracted_plane_1_els__d1_583_d2_536_d3_1_...   \n",
       "5   b32f41bf-a9a5-4965-be7c-e6779e854328\\b32f41bf-a9a5-4965-be7c-e6779e854328-extracted_plane_1_els__d1_583_d2_536_d3_1_...   \n",
       "6   b32f41bf-a9a5-4965-be7c-e6779e854328\\b32f41bf-a9a5-4965-be7c-e6779e854328-extracted_plane_1_els__d1_583_d2_536_d3_1_...   \n",
       "7   b32f41bf-a9a5-4965-be7c-e6779e854328\\b32f41bf-a9a5-4965-be7c-e6779e854328-extracted_plane_1_els__d1_583_d2_536_d3_1_...   \n",
       "8   b32f41bf-a9a5-4965-be7c-e6779e854328\\b32f41bf-a9a5-4965-be7c-e6779e854328-extracted_plane_1_els__d1_583_d2_536_d3_1_...   \n",
       "9   b32f41bf-a9a5-4965-be7c-e6779e854328\\b32f41bf-a9a5-4965-be7c-e6779e854328-extracted_plane_1_els__d1_583_d2_536_d3_1_...   \n",
       "10  b32f41bf-a9a5-4965-be7c-e6779e854328\\b32f41bf-a9a5-4965-be7c-e6779e854328-extracted_plane_1_els__d1_583_d2_536_d3_1_...   \n",
       "11  b32f41bf-a9a5-4965-be7c-e6779e854328\\b32f41bf-a9a5-4965-be7c-e6779e854328-extracted_plane_1_els__d1_583_d2_536_d3_1_...   \n",
       "12  b32f41bf-a9a5-4965-be7c-e6779e854328\\b32f41bf-a9a5-4965-be7c-e6779e854328-extracted_plane_1_els__d1_583_d2_536_d3_1_...   \n",
       "13  b32f41bf-a9a5-4965-be7c-e6779e854328\\b32f41bf-a9a5-4965-be7c-e6779e854328-extracted_plane_1_els__d1_583_d2_536_d3_1_...   \n",
       "14  b32f41bf-a9a5-4965-be7c-e6779e854328\\b32f41bf-a9a5-4965-be7c-e6779e854328-extracted_plane_1_els__d1_583_d2_536_d3_1_...   \n",
       "15  b32f41bf-a9a5-4965-be7c-e6779e854328\\b32f41bf-a9a5-4965-be7c-e6779e854328-extracted_plane_1_els__d1_583_d2_536_d3_1_...   \n",
       "16  b32f41bf-a9a5-4965-be7c-e6779e854328\\b32f41bf-a9a5-4965-be7c-e6779e854328-extracted_plane_1_els__d1_583_d2_536_d3_1_...   \n",
       "17  b32f41bf-a9a5-4965-be7c-e6779e854328\\b32f41bf-a9a5-4965-be7c-e6779e854328-extracted_plane_1_els__d1_583_d2_536_d3_1_...   \n",
       "18  b32f41bf-a9a5-4965-be7c-e6779e854328\\b32f41bf-a9a5-4965-be7c-e6779e854328-extracted_plane_1_els__d1_583_d2_536_d3_1_...   \n",
       "19  b32f41bf-a9a5-4965-be7c-e6779e854328\\b32f41bf-a9a5-4965-be7c-e6779e854328-extracted_plane_1_els__d1_583_d2_536_d3_1_...   \n",
       "20  b32f41bf-a9a5-4965-be7c-e6779e854328\\b32f41bf-a9a5-4965-be7c-e6779e854328-extracted_plane_1_els__d1_583_d2_536_d3_1_...   \n",
       "21  b32f41bf-a9a5-4965-be7c-e6779e854328\\b32f41bf-a9a5-4965-be7c-e6779e854328-extracted_plane_1_els__d1_583_d2_536_d3_1_...   \n",
       "22  b32f41bf-a9a5-4965-be7c-e6779e854328\\b32f41bf-a9a5-4965-be7c-e6779e854328-extracted_plane_1_els__d1_583_d2_536_d3_1_...   \n",
       "23  b32f41bf-a9a5-4965-be7c-e6779e854328\\b32f41bf-a9a5-4965-be7c-e6779e854328-extracted_plane_1_els__d1_583_d2_536_d3_1_...   \n",
       "\n",
       "                                                                                                                     params  \\\n",
       "0   {'main': {'var_name_hdf5': 'mov', 'max_shifts': (10, 10), 'strides': (48, 48), 'overlaps': (24, 24), 'max_deviation_...   \n",
       "1   {'main': {'fr': 9.62, 'dxy': (1.0, 1.0), 'decay_time': 0.4, 'strides': (48, 48), 'overlaps': (24, 24), 'max_shifts':...   \n",
       "2   {'main': {'fr': 9.62, 'dxy': (1.0, 1.0), 'decay_time': 0.4, 'strides': (48, 48), 'overlaps': (24, 24), 'max_shifts':...   \n",
       "3   {'main': {'fr': 9.62, 'dxy': (1.0, 1.0), 'decay_time': 0.4, 'strides': (48, 48), 'overlaps': (24, 24), 'max_shifts':...   \n",
       "4   {'main': {'fr': 9.62, 'dxy': (1.0, 1.0), 'decay_time': 0.4, 'strides': (48, 48), 'overlaps': (24, 24), 'max_shifts':...   \n",
       "5   {'main': {'fr': 9.62, 'dxy': (1.0, 1.0), 'decay_time': 0.4, 'strides': (48, 48), 'overlaps': (24, 24), 'max_shifts':...   \n",
       "6   {'main': {'fr': 9.62, 'dxy': (1.0, 1.0), 'decay_time': 0.4, 'strides': (48, 48), 'overlaps': (24, 24), 'max_shifts':...   \n",
       "7   {'main': {'fr': 9.62, 'dxy': (1.0, 1.0), 'decay_time': 0.4, 'strides': (48, 48), 'overlaps': (24, 24), 'max_shifts':...   \n",
       "8   {'main': {'fr': 9.62, 'dxy': (1.0, 1.0), 'decay_time': 0.4, 'strides': (48, 48), 'overlaps': (24, 24), 'max_shifts':...   \n",
       "9   {'main': {'fr': 9.62, 'dxy': (1.0, 1.0), 'decay_time': 0.4, 'strides': (48, 48), 'overlaps': (24, 24), 'max_shifts':...   \n",
       "10  {'main': {'fr': 9.62, 'dxy': (1.0, 1.0), 'decay_time': 0.4, 'strides': (48, 48), 'overlaps': (24, 24), 'max_shifts':...   \n",
       "11  {'main': {'fr': 9.62, 'dxy': (1.0, 1.0), 'decay_time': 0.4, 'strides': (48, 48), 'overlaps': (24, 24), 'max_shifts':...   \n",
       "12  {'main': {'fr': 9.62, 'dxy': (1.0, 1.0), 'decay_time': 0.4, 'strides': (48, 48), 'overlaps': (24, 24), 'max_shifts':...   \n",
       "13  {'main': {'fr': 9.62, 'dxy': (1.0, 1.0), 'decay_time': 0.4, 'strides': (48, 48), 'overlaps': (24, 24), 'max_shifts':...   \n",
       "14  {'main': {'fr': 9.62, 'dxy': (1.0, 1.0), 'decay_time': 0.4, 'strides': (48, 48), 'overlaps': (24, 24), 'max_shifts':...   \n",
       "15  {'main': {'fr': 9.62, 'dxy': (1.0, 1.0), 'decay_time': 0.4, 'strides': (48, 48), 'overlaps': (24, 24), 'max_shifts':...   \n",
       "16  {'main': {'fr': 9.62, 'dxy': (1.0, 1.0), 'decay_time': 0.4, 'strides': (48, 48), 'overlaps': (24, 24), 'max_shifts':...   \n",
       "17  {'main': {'fr': 9.62, 'dxy': (1.0, 1.0), 'decay_time': 0.4, 'strides': (48, 48), 'overlaps': (24, 24), 'max_shifts':...   \n",
       "18  {'main': {'fr': 9.62, 'dxy': (1.0, 1.0), 'decay_time': 0.4, 'strides': (48, 48), 'overlaps': (24, 24), 'max_shifts':...   \n",
       "19  {'main': {'fr': 9.62, 'dxy': (1.0, 1.0), 'decay_time': 0.4, 'strides': (48, 48), 'overlaps': (24, 24), 'max_shifts':...   \n",
       "20  {'main': {'fr': 9.62, 'dxy': (1.0, 1.0), 'decay_time': 0.4, 'strides': (48, 48), 'overlaps': (24, 24), 'max_shifts':...   \n",
       "21  {'main': {'fr': 9.62, 'dxy': (1.0, 1.0), 'decay_time': 0.4, 'strides': (48, 48), 'overlaps': (24, 24), 'max_shifts':...   \n",
       "22  {'main': {'fr': 9.62, 'dxy': (1.0, 1.0), 'decay_time': 0.4, 'strides': (48, 48), 'overlaps': (24, 24), 'max_shifts':...   \n",
       "23  {'main': {'fr': 9.62, 'dxy': (1.0, 1.0), 'decay_time': 0.4, 'strides': (48, 48), 'overlaps': (24, 24), 'max_shifts':...   \n",
       "\n",
       "                                                                                                                    outputs  \\\n",
       "0   {'mean-projection-path': b32f41bf-a9a5-4965-be7c-e6779e854328\\b32f41bf-a9a5-4965-be7c-e6779e854328_mean_projection.n...   \n",
       "1   {'mean-projection-path': a057e39e-a2df-41d3-8217-83c9cd7ffb6d\\a057e39e-a2df-41d3-8217-83c9cd7ffb6d_mean_projection.n...   \n",
       "2   {'mean-projection-path': 5cb543ec-5358-4b35-83cf-bfd19fa06a68\\5cb543ec-5358-4b35-83cf-bfd19fa06a68_mean_projection.n...   \n",
       "3   {'mean-projection-path': df52a609-d986-4bc0-a0a2-526cbfda057d\\df52a609-d986-4bc0-a0a2-526cbfda057d_mean_projection.n...   \n",
       "4   {'mean-projection-path': b68a8efe-1a3b-4392-b6e7-416312f1f945\\b68a8efe-1a3b-4392-b6e7-416312f1f945_mean_projection.n...   \n",
       "5   {'mean-projection-path': 15e6fb81-fac4-457b-96da-dbb8e2d7b669\\15e6fb81-fac4-457b-96da-dbb8e2d7b669_mean_projection.n...   \n",
       "6   {'mean-projection-path': abba269d-f2f3-467b-ba40-f1e33aea8461\\abba269d-f2f3-467b-ba40-f1e33aea8461_mean_projection.n...   \n",
       "7   {'mean-projection-path': 9777376d-092c-43db-b14a-c9be1e142e5c\\9777376d-092c-43db-b14a-c9be1e142e5c_mean_projection.n...   \n",
       "8   {'mean-projection-path': 88177367-8fbf-499b-940e-1fb9c331b499\\88177367-8fbf-499b-940e-1fb9c331b499_mean_projection.n...   \n",
       "9   {'mean-projection-path': a3bd82e1-618e-4279-8a67-ae3fe52a10d2\\a3bd82e1-618e-4279-8a67-ae3fe52a10d2_mean_projection.n...   \n",
       "10  {'mean-projection-path': 03f6d9ca-c686-466e-9c8a-8076f787fc7b\\03f6d9ca-c686-466e-9c8a-8076f787fc7b_mean_projection.n...   \n",
       "11  {'mean-projection-path': 4bf6de48-8531-448f-b207-5f31299a12da\\4bf6de48-8531-448f-b207-5f31299a12da_mean_projection.n...   \n",
       "12  {'mean-projection-path': 3b9e8974-9d74-4f69-9370-ae731296203c\\3b9e8974-9d74-4f69-9370-ae731296203c_mean_projection.n...   \n",
       "13  {'mean-projection-path': 705e6404-a883-4a19-9162-53a29aa62132\\705e6404-a883-4a19-9162-53a29aa62132_mean_projection.n...   \n",
       "14  {'mean-projection-path': 8bed5bd7-9261-46bb-bc17-091241f3b414\\8bed5bd7-9261-46bb-bc17-091241f3b414_mean_projection.n...   \n",
       "15  {'mean-projection-path': 4cf62c5c-ed76-40ee-bf5c-6ed878aa924b\\4cf62c5c-ed76-40ee-bf5c-6ed878aa924b_mean_projection.n...   \n",
       "16  {'mean-projection-path': d46488b0-5e55-4e4f-84dc-9bb14dc9db17\\d46488b0-5e55-4e4f-84dc-9bb14dc9db17_mean_projection.n...   \n",
       "17  {'mean-projection-path': 5158332e-9c9a-4395-8044-70667b0ef869\\5158332e-9c9a-4395-8044-70667b0ef869_mean_projection.n...   \n",
       "18  {'mean-projection-path': f2d0cc26-ab86-4b8b-95ff-9aacf40c1c92\\f2d0cc26-ab86-4b8b-95ff-9aacf40c1c92_mean_projection.n...   \n",
       "19  {'mean-projection-path': 683f31bc-fdb2-4d27-b860-2fd272e83172\\683f31bc-fdb2-4d27-b860-2fd272e83172_mean_projection.n...   \n",
       "20  {'mean-projection-path': 05f36389-5168-47d5-9216-3feabe0a64f3\\05f36389-5168-47d5-9216-3feabe0a64f3_mean_projection.n...   \n",
       "21  {'mean-projection-path': 79beadbb-7140-4c23-b914-768a4b5b4a4d\\79beadbb-7140-4c23-b914-768a4b5b4a4d_mean_projection.n...   \n",
       "22  {'mean-projection-path': 926d6546-12c8-43ac-a033-9a4c97817b31\\926d6546-12c8-43ac-a033-9a4c97817b31_mean_projection.n...   \n",
       "23  {'mean-projection-path': e1069d70-5735-47c4-8102-594a1f9f1702\\e1069d70-5735-47c4-8102-594a1f9f1702_mean_projection.n...   \n",
       "\n",
       "             added_time             ran_time algo_duration comments  \\\n",
       "0   2024-09-26T11:56:54  2024-09-26T12:02:55      77.3 sec     None   \n",
       "1   2024-09-26T16:26:20  2024-09-26T16:28:48    143.18 sec     None   \n",
       "2   2024-09-27T14:48:59  2024-09-27T14:50:30     80.14 sec     None   \n",
       "3   2024-09-27T14:48:59  2024-09-27T14:51:46     75.93 sec     None   \n",
       "4   2024-09-27T14:48:59  2024-09-30T10:30:15     96.62 sec     None   \n",
       "5   2024-09-27T14:48:59  2024-09-30T11:32:09     89.61 sec     None   \n",
       "6   2024-09-30T14:02:10  2024-09-30T14:05:00    165.71 sec     None   \n",
       "7   2024-09-30T14:36:58  2024-09-30T14:41:40    161.74 sec     None   \n",
       "8   2024-09-30T14:36:58  2024-09-30T14:44:32    172.71 sec     None   \n",
       "9   2024-09-30T14:36:58  2024-09-30T14:47:31    179.02 sec     None   \n",
       "10  2024-09-30T14:36:58  2024-09-30T14:50:13    161.89 sec     None   \n",
       "11  2024-09-30T14:36:58  2024-09-30T14:53:04    170.76 sec     None   \n",
       "12  2024-09-30T14:36:58  2024-09-30T14:56:01    177.33 sec     None   \n",
       "13  2024-09-30T14:36:58  2024-09-30T14:59:31    209.84 sec     None   \n",
       "14  2024-09-30T14:36:58  2024-09-30T15:03:25    234.05 sec     None   \n",
       "15  2024-09-30T14:36:58  2024-09-30T15:07:23    237.78 sec     None   \n",
       "16  2024-09-30T14:36:58  2024-09-30T15:10:50    207.15 sec     None   \n",
       "17  2024-09-30T14:36:58  2024-09-30T15:14:44    234.05 sec     None   \n",
       "18  2024-09-30T14:36:58  2024-09-30T15:18:44    239.34 sec     None   \n",
       "19  2024-09-30T14:36:58  2024-09-30T15:23:16     272.6 sec     None   \n",
       "20  2024-09-30T14:36:58  2024-09-30T15:28:07    290.92 sec     None   \n",
       "21  2024-09-30T14:36:58  2024-09-30T15:33:16    308.79 sec     None   \n",
       "22  2024-09-30T14:36:58  2024-09-30T15:37:50    273.53 sec     None   \n",
       "23  2024-09-30T14:36:58  2024-09-30T15:42:58    308.31 sec     None   \n",
       "\n",
       "                                    uuid  \n",
       "0   b32f41bf-a9a5-4965-be7c-e6779e854328  \n",
       "1   a057e39e-a2df-41d3-8217-83c9cd7ffb6d  \n",
       "2   5cb543ec-5358-4b35-83cf-bfd19fa06a68  \n",
       "3   df52a609-d986-4bc0-a0a2-526cbfda057d  \n",
       "4   b68a8efe-1a3b-4392-b6e7-416312f1f945  \n",
       "5   15e6fb81-fac4-457b-96da-dbb8e2d7b669  \n",
       "6   abba269d-f2f3-467b-ba40-f1e33aea8461  \n",
       "7   9777376d-092c-43db-b14a-c9be1e142e5c  \n",
       "8   88177367-8fbf-499b-940e-1fb9c331b499  \n",
       "9   a3bd82e1-618e-4279-8a67-ae3fe52a10d2  \n",
       "10  03f6d9ca-c686-466e-9c8a-8076f787fc7b  \n",
       "11  4bf6de48-8531-448f-b207-5f31299a12da  \n",
       "12  3b9e8974-9d74-4f69-9370-ae731296203c  \n",
       "13  705e6404-a883-4a19-9162-53a29aa62132  \n",
       "14  8bed5bd7-9261-46bb-bc17-091241f3b414  \n",
       "15  4cf62c5c-ed76-40ee-bf5c-6ed878aa924b  \n",
       "16  d46488b0-5e55-4e4f-84dc-9bb14dc9db17  \n",
       "17  5158332e-9c9a-4395-8044-70667b0ef869  \n",
       "18  f2d0cc26-ab86-4b8b-95ff-9aacf40c1c92  \n",
       "19  683f31bc-fdb2-4d27-b860-2fd272e83172  \n",
       "20  05f36389-5168-47d5-9216-3feabe0a64f3  \n",
       "21  79beadbb-7140-4c23-b914-768a4b5b4a4d  \n",
       "22  926d6546-12c8-43ac-a033-9a4c97817b31  \n",
       "23  e1069d70-5735-47c4-8102-594a1f9f1702  "
      ]
     },
     "execution_count": 4,
     "metadata": {},
     "output_type": "execute_result"
    }
   ],
   "source": [
    "parent_path = Path().home() / \"caiman_data\" / \"animal_01\" / \"session_01\"\n",
    "\n",
    "batch_path = parent_path / 'batch.pickle'\n",
    "mc.set_parent_raw_data_path(str(parent_path))\n",
    "\n",
    "# you could alos load the registration batch and\n",
    "# save this patch in a new dataframe (saved to disk automatically)\n",
    "\n",
    "try:\n",
    "    df = mc.load_batch(batch_path)\n",
    "except (IsADirectoryError, FileNotFoundError):\n",
    "    df = mc.create_batch(batch_path)\n",
    "\n",
    "df=df.caiman.reload_from_disk()\n",
    "df"
   ]
  },
  {
   "cell_type": "code",
   "execution_count": 4,
   "id": "3381ee51",
   "metadata": {},
   "outputs": [],
   "source": [
    "k = 60\n",
    "\n",
    "# general dataset-dependent parameters\n",
    "fr = 9.62                   # imaging rate in frames per second\n",
    "decay_time = 0.4            # length of a typical transient in seconds\n",
    "dxy = (1., 1.)              # spatial resolution in x and y in (um per pixel)\n",
    "\n",
    "# motion correction parameters\n",
    "strides = (48, 48)          # start a new patch for pw-rigid motion correction every x pixels\n",
    "overlaps = (24, 24)         # overlap between patches (width of patch = strides+overlaps)\n",
    "max_shifts = (6,6)          # maximum allowed rigid shifts (in pixels)\n",
    "max_deviation_rigid = 3     # maximum shifts deviation allowed for patch with respect to rigid shifts\n",
    "pw_rigid = True             # flag for performing non-rigid motion correction\n",
    "\n",
    "# CNMF parameters for source extraction and deconvolution\n",
    "p = 2                       # order of the autoregressive system (set p=2 if there is visible rise time in data)\n",
    "gnb = 1                     # number of global background components (set to 1 or 2)\n",
    "merge_thr = 0.80            # merging threshold, max correlation allowed\n",
    "bas_nonneg = True           # enforce nonnegativity constraint on calcium traces (technically on baseline)\n",
    "rf = 40                     # half-size of the patches in pixels (patch width is rf*2 + 1)\n",
    "stride_cnmf = 10            # amount of overlap between the patches in pixels (overlap is stride_cnmf+1)\n",
    "# K = 780                   # number of components per patch\n",
    "gSig = np.array([6, 6])     # expected half-width of neurons in pixels (Gaussian kernel standard deviation)\n",
    "gSiz = None #2*gSig + 1     # Gaussian kernel width and hight\n",
    "method_init = 'greedy_roi'  # initialization method (if analyzing dendritic data see demo_dendritic.ipynb)\n",
    "ssub = 1                    # spatial subsampling during initialization\n",
    "tsub = 1                    # temporal subsampling during intialization\n",
    "\n",
    "# parameters for component evaluation\n",
    "min_SNR = 1.4               # signal to noise ratio for accepting a component\n",
    "rval_thr = 0.80             # space correlation threshold for accepting a component\n",
    "\n",
    "params_cnmf = {\n",
    "    'main': {\n",
    "        'fr': fr,\n",
    "        'dxy': dxy,\n",
    "        'decay_time': decay_time,\n",
    "        'strides': strides,\n",
    "        'overlaps': overlaps,\n",
    "        'max_shifts': max_shifts,\n",
    "        'max_deviation_rigid': max_deviation_rigid,\n",
    "        'pw_rigid': pw_rigid,\n",
    "        'p': p,\n",
    "        'nb': gnb,\n",
    "        'rf': rf,\n",
    "        'K':  k,\n",
    "        'gSig': gSig,\n",
    "        'gSiz': gSiz,\n",
    "        'stride': stride_cnmf,\n",
    "        'method_init': method_init,\n",
    "        'rolling_sum': True,\n",
    "        'use_cnn': False,\n",
    "        'ssub': ssub,\n",
    "        'tsub': tsub,\n",
    "        'merge_thr': merge_thr,\n",
    "        'bas_nonneg': bas_nonneg,\n",
    "        'min_SNR': min_SNR,\n",
    "        'rval_thr': rval_thr,\n",
    "    },\n",
    "    'refit': True\n",
    "}"
   ]
  },
  {
   "cell_type": "code",
   "execution_count": 7,
   "id": "cb6000cb",
   "metadata": {},
   "outputs": [],
   "source": [
    "# variants of several parameters\n",
    "K_variants = [40, 60, 80]\n",
    "merge_thr_variants = [0.7, 0.8, 0.95]\n",
    "r_val_variants = [0.7, 0.8]\n",
    "g_sig_variants = [6, 8, 10]\n",
    "\n",
    "# always use deepcopy like before\n",
    "new_params_cnmf = deepcopy(params_cnmf)\n",
    "\n",
    "# create a parameter grid\n",
    "parameter_grid = product(g_sig_variants, K_variants, r_val_variants, merge_thr_variants)\n",
    "\n",
    "# a single for loop to go through all the various parameter combinations\n",
    "for gSig, k, r_val, merge_val in parameter_grid:\n",
    "    # deep copy params dict just like before\n",
    "    new_params_cnmf = deepcopy(new_params_cnmf)\n",
    "\n",
    "    new_params_cnmf[\"main\"][\"gSig\"] = [gSig, gSig]\n",
    "    new_params_cnmf[\"main\"][\"K\"] = k\n",
    "    new_params_cnmf[\"main\"][\"merge_thr\"] = merge_val\n",
    "    new_params_cnmf[\"main\"][\"rval_thr\"] = r_val\n",
    "\n",
    "    # add param combination variant to batch\n",
    "    df.caiman.add_item(\n",
    "        algo=\"cnmf\",\n",
    "        item_name=df.iloc[1][\"item_name\"],  # good mcorr item\n",
    "        input_movie_path=df.iloc[0],\n",
    "        params=new_params_cnmf\n",
    "    )"
   ]
  },
  {
   "cell_type": "code",
   "execution_count": 9,
   "id": "e4807be7",
   "metadata": {},
   "outputs": [
    {
     "name": "stdout",
     "output_type": "stream",
     "text": [
      "Running 9777376d-092c-43db-b14a-c9be1e142e5c with local backend\n",
      "************************************************************************\n",
      "\n",
      "Starting CNMF item:\n",
      "algo                                                                                                                                   cnmf\n",
      "item_name                                                                                                                            cnmf_1\n",
      "input_movie_path    b32f41bf-a9a5-4965-be7c-e6779e854328\\b32f41bf-a9a5-4965-be7c-e6779e854328-extracted_plane_1_els__d1_583_d2_536_d3_1_...\n",
      "params              {'main': {'fr': 9.62, 'dxy': (1.0, 1.0), 'decay_time': 0.4, 'strides': (48, 48), 'overlaps': (24, 24), 'max_shifts':...\n",
      "outputs                                                                                                                                None\n",
      "added_time                                                                                                              2024-09-30T14:36:58\n",
      "ran_time                                                                                                                               None\n",
      "algo_duration                                                                                                                          None\n",
      "comments                                                                                                                               None\n",
      "uuid                                                                                                   9777376d-092c-43db-b14a-c9be1e142e5c\n",
      "Name: 7, dtype: object\n",
      "With params:{'main': {'fr': 9.62, 'dxy': (1.0, 1.0), 'decay_time': 0.4, 'strides': (48, 48), 'overlaps': (24, 24), 'max_shifts': (6, 6), 'max_deviation_rigid': 3, 'pw_rigid': True, 'p': 2, 'nb': 1, 'rf': 40, 'K': 40, 'gSig': (6, 6), 'gSiz': None, 'stride': 10, 'method_init': 'greedy_roi', 'rolling_sum': True, 'use_cnn': False, 'ssub': 1, 'tsub': 1, 'merge_thr': 0.7, 'bas_nonneg': True, 'min_SNR': 1.4, 'rval_thr': 0.7}, 'refit': True}\n"
     ]
    },
    {
     "name": "stderr",
     "output_type": "stream",
     "text": [
      "      472727 [cluster.py:setup_cluster():225] [24368] The local backend is an alias for the multiprocessing backend, and the alias may be removed in some future version of Caiman\n",
      "      472727 [cluster.py:setup_cluster():225] [24368] The local backend is an alias for the multiprocessing backend, and the alias may be removed in some future version of Caiman\n",
      "      472830 [params.py:change_params():1151] [24368] In setting CNMFParams, non-pathed parameters were used; this is deprecated. In some future version of Caiman, allow_legacy will default to False (and eventually will be removed)\n",
      "      472830 [params.py:change_params():1151] [24368] In setting CNMFParams, non-pathed parameters were used; this is deprecated. In some future version of Caiman, allow_legacy will default to False (and eventually will be removed)\n"
     ]
    },
    {
     "name": "stdout",
     "output_type": "stream",
     "text": [
      "making memmap\n"
     ]
    },
    {
     "name": "stderr",
     "output_type": "stream",
     "text": [
      "      482847 [cluster.py:setup_cluster():225] [24368] The local backend is an alias for the multiprocessing backend, and the alias may be removed in some future version of Caiman\n",
      "      482847 [cluster.py:setup_cluster():225] [24368] The local backend is an alias for the multiprocessing backend, and the alias may be removed in some future version of Caiman\n"
     ]
    },
    {
     "name": "stdout",
     "output_type": "stream",
     "text": [
      "performing CNMF\n",
      "fitting images\n",
      "refitting\n",
      "performing eval\n",
      "Running 88177367-8fbf-499b-940e-1fb9c331b499 with local backend\n",
      "************************************************************************\n",
      "\n",
      "Starting CNMF item:\n",
      "algo                                                                                                                                   cnmf\n",
      "item_name                                                                                                                            cnmf_1\n",
      "input_movie_path    b32f41bf-a9a5-4965-be7c-e6779e854328\\b32f41bf-a9a5-4965-be7c-e6779e854328-extracted_plane_1_els__d1_583_d2_536_d3_1_...\n",
      "params              {'main': {'fr': 9.62, 'dxy': (1.0, 1.0), 'decay_time': 0.4, 'strides': (48, 48), 'overlaps': (24, 24), 'max_shifts':...\n",
      "outputs                                                                                                                                None\n",
      "added_time                                                                                                              2024-09-30T14:36:58\n",
      "ran_time                                                                                                                               None\n",
      "algo_duration                                                                                                                          None\n",
      "comments                                                                                                                               None\n",
      "uuid                                                                                                   88177367-8fbf-499b-940e-1fb9c331b499\n",
      "Name: 8, dtype: object\n",
      "With params:{'main': {'fr': 9.62, 'dxy': (1.0, 1.0), 'decay_time': 0.4, 'strides': (48, 48), 'overlaps': (24, 24), 'max_shifts': (6, 6), 'max_deviation_rigid': 3, 'pw_rigid': True, 'p': 2, 'nb': 1, 'rf': 40, 'K': 40, 'gSig': (6, 6), 'gSiz': None, 'stride': 10, 'method_init': 'greedy_roi', 'rolling_sum': True, 'use_cnn': False, 'ssub': 1, 'tsub': 1, 'merge_thr': 0.8, 'bas_nonneg': True, 'min_SNR': 1.4, 'rval_thr': 0.7}, 'refit': True}\n"
     ]
    },
    {
     "name": "stderr",
     "output_type": "stream",
     "text": [
      "      634476 [cluster.py:setup_cluster():225] [24368] The local backend is an alias for the multiprocessing backend, and the alias may be removed in some future version of Caiman\n",
      "      634476 [cluster.py:setup_cluster():225] [24368] The local backend is an alias for the multiprocessing backend, and the alias may be removed in some future version of Caiman\n",
      "      634577 [params.py:change_params():1151] [24368] In setting CNMFParams, non-pathed parameters were used; this is deprecated. In some future version of Caiman, allow_legacy will default to False (and eventually will be removed)\n",
      "      634577 [params.py:change_params():1151] [24368] In setting CNMFParams, non-pathed parameters were used; this is deprecated. In some future version of Caiman, allow_legacy will default to False (and eventually will be removed)\n"
     ]
    },
    {
     "name": "stdout",
     "output_type": "stream",
     "text": [
      "making memmap\n"
     ]
    },
    {
     "name": "stderr",
     "output_type": "stream",
     "text": [
      "      644652 [cluster.py:setup_cluster():225] [24368] The local backend is an alias for the multiprocessing backend, and the alias may be removed in some future version of Caiman\n",
      "      644652 [cluster.py:setup_cluster():225] [24368] The local backend is an alias for the multiprocessing backend, and the alias may be removed in some future version of Caiman\n"
     ]
    },
    {
     "name": "stdout",
     "output_type": "stream",
     "text": [
      "performing CNMF\n",
      "fitting images\n",
      "refitting\n",
      "performing eval\n",
      "Running a3bd82e1-618e-4279-8a67-ae3fe52a10d2 with local backend\n",
      "************************************************************************\n",
      "\n",
      "Starting CNMF item:\n",
      "algo                                                                                                                                   cnmf\n",
      "item_name                                                                                                                            cnmf_1\n",
      "input_movie_path    b32f41bf-a9a5-4965-be7c-e6779e854328\\b32f41bf-a9a5-4965-be7c-e6779e854328-extracted_plane_1_els__d1_583_d2_536_d3_1_...\n",
      "params              {'main': {'fr': 9.62, 'dxy': (1.0, 1.0), 'decay_time': 0.4, 'strides': (48, 48), 'overlaps': (24, 24), 'max_shifts':...\n",
      "outputs                                                                                                                                None\n",
      "added_time                                                                                                              2024-09-30T14:36:58\n",
      "ran_time                                                                                                                               None\n",
      "algo_duration                                                                                                                          None\n",
      "comments                                                                                                                               None\n",
      "uuid                                                                                                   a3bd82e1-618e-4279-8a67-ae3fe52a10d2\n",
      "Name: 9, dtype: object\n",
      "With params:{'main': {'fr': 9.62, 'dxy': (1.0, 1.0), 'decay_time': 0.4, 'strides': (48, 48), 'overlaps': (24, 24), 'max_shifts': (6, 6), 'max_deviation_rigid': 3, 'pw_rigid': True, 'p': 2, 'nb': 1, 'rf': 40, 'K': 40, 'gSig': (6, 6), 'gSiz': None, 'stride': 10, 'method_init': 'greedy_roi', 'rolling_sum': True, 'use_cnn': False, 'ssub': 1, 'tsub': 1, 'merge_thr': 0.95, 'bas_nonneg': True, 'min_SNR': 1.4, 'rval_thr': 0.7}, 'refit': True}\n"
     ]
    },
    {
     "name": "stderr",
     "output_type": "stream",
     "text": [
      "      807206 [cluster.py:setup_cluster():225] [24368] The local backend is an alias for the multiprocessing backend, and the alias may be removed in some future version of Caiman\n",
      "      807206 [cluster.py:setup_cluster():225] [24368] The local backend is an alias for the multiprocessing backend, and the alias may be removed in some future version of Caiman\n",
      "      807307 [params.py:change_params():1151] [24368] In setting CNMFParams, non-pathed parameters were used; this is deprecated. In some future version of Caiman, allow_legacy will default to False (and eventually will be removed)\n",
      "      807307 [params.py:change_params():1151] [24368] In setting CNMFParams, non-pathed parameters were used; this is deprecated. In some future version of Caiman, allow_legacy will default to False (and eventually will be removed)\n"
     ]
    },
    {
     "name": "stdout",
     "output_type": "stream",
     "text": [
      "making memmap\n"
     ]
    },
    {
     "name": "stderr",
     "output_type": "stream",
     "text": [
      "      817354 [cluster.py:setup_cluster():225] [24368] The local backend is an alias for the multiprocessing backend, and the alias may be removed in some future version of Caiman\n",
      "      817354 [cluster.py:setup_cluster():225] [24368] The local backend is an alias for the multiprocessing backend, and the alias may be removed in some future version of Caiman\n"
     ]
    },
    {
     "name": "stdout",
     "output_type": "stream",
     "text": [
      "performing CNMF\n",
      "fitting images\n",
      "refitting\n",
      "performing eval\n",
      "Running 03f6d9ca-c686-466e-9c8a-8076f787fc7b with local backend\n",
      "************************************************************************\n",
      "\n",
      "Starting CNMF item:\n",
      "algo                                                                                                                                   cnmf\n",
      "item_name                                                                                                                            cnmf_1\n",
      "input_movie_path    b32f41bf-a9a5-4965-be7c-e6779e854328\\b32f41bf-a9a5-4965-be7c-e6779e854328-extracted_plane_1_els__d1_583_d2_536_d3_1_...\n",
      "params              {'main': {'fr': 9.62, 'dxy': (1.0, 1.0), 'decay_time': 0.4, 'strides': (48, 48), 'overlaps': (24, 24), 'max_shifts':...\n",
      "outputs                                                                                                                                None\n",
      "added_time                                                                                                              2024-09-30T14:36:58\n",
      "ran_time                                                                                                                               None\n",
      "algo_duration                                                                                                                          None\n",
      "comments                                                                                                                               None\n",
      "uuid                                                                                                   03f6d9ca-c686-466e-9c8a-8076f787fc7b\n",
      "Name: 10, dtype: object\n",
      "With params:{'main': {'fr': 9.62, 'dxy': (1.0, 1.0), 'decay_time': 0.4, 'strides': (48, 48), 'overlaps': (24, 24), 'max_shifts': (6, 6), 'max_deviation_rigid': 3, 'pw_rigid': True, 'p': 2, 'nb': 1, 'rf': 40, 'K': 40, 'gSig': (6, 6), 'gSiz': None, 'stride': 10, 'method_init': 'greedy_roi', 'rolling_sum': True, 'use_cnn': False, 'ssub': 1, 'tsub': 1, 'merge_thr': 0.7, 'bas_nonneg': True, 'min_SNR': 1.4, 'rval_thr': 0.8}, 'refit': True}\n"
     ]
    },
    {
     "name": "stderr",
     "output_type": "stream",
     "text": [
      "      986255 [cluster.py:setup_cluster():225] [24368] The local backend is an alias for the multiprocessing backend, and the alias may be removed in some future version of Caiman\n",
      "      986255 [cluster.py:setup_cluster():225] [24368] The local backend is an alias for the multiprocessing backend, and the alias may be removed in some future version of Caiman\n",
      "      986353 [params.py:change_params():1151] [24368] In setting CNMFParams, non-pathed parameters were used; this is deprecated. In some future version of Caiman, allow_legacy will default to False (and eventually will be removed)\n",
      "      986353 [params.py:change_params():1151] [24368] In setting CNMFParams, non-pathed parameters were used; this is deprecated. In some future version of Caiman, allow_legacy will default to False (and eventually will be removed)\n"
     ]
    },
    {
     "name": "stdout",
     "output_type": "stream",
     "text": [
      "making memmap\n"
     ]
    },
    {
     "name": "stderr",
     "output_type": "stream",
     "text": [
      "      996811 [cluster.py:setup_cluster():225] [24368] The local backend is an alias for the multiprocessing backend, and the alias may be removed in some future version of Caiman\n",
      "      996811 [cluster.py:setup_cluster():225] [24368] The local backend is an alias for the multiprocessing backend, and the alias may be removed in some future version of Caiman\n"
     ]
    },
    {
     "name": "stdout",
     "output_type": "stream",
     "text": [
      "performing CNMF\n",
      "fitting images\n",
      "refitting\n",
      "performing eval\n",
      "Running 4bf6de48-8531-448f-b207-5f31299a12da with local backend\n",
      "************************************************************************\n",
      "\n",
      "Starting CNMF item:\n",
      "algo                                                                                                                                   cnmf\n",
      "item_name                                                                                                                            cnmf_1\n",
      "input_movie_path    b32f41bf-a9a5-4965-be7c-e6779e854328\\b32f41bf-a9a5-4965-be7c-e6779e854328-extracted_plane_1_els__d1_583_d2_536_d3_1_...\n",
      "params              {'main': {'fr': 9.62, 'dxy': (1.0, 1.0), 'decay_time': 0.4, 'strides': (48, 48), 'overlaps': (24, 24), 'max_shifts':...\n",
      "outputs                                                                                                                                None\n",
      "added_time                                                                                                              2024-09-30T14:36:58\n",
      "ran_time                                                                                                                               None\n",
      "algo_duration                                                                                                                          None\n",
      "comments                                                                                                                               None\n",
      "uuid                                                                                                   4bf6de48-8531-448f-b207-5f31299a12da\n",
      "Name: 11, dtype: object\n",
      "With params:{'main': {'fr': 9.62, 'dxy': (1.0, 1.0), 'decay_time': 0.4, 'strides': (48, 48), 'overlaps': (24, 24), 'max_shifts': (6, 6), 'max_deviation_rigid': 3, 'pw_rigid': True, 'p': 2, 'nb': 1, 'rf': 40, 'K': 40, 'gSig': (6, 6), 'gSiz': None, 'stride': 10, 'method_init': 'greedy_roi', 'rolling_sum': True, 'use_cnn': False, 'ssub': 1, 'tsub': 1, 'merge_thr': 0.8, 'bas_nonneg': True, 'min_SNR': 1.4, 'rval_thr': 0.8}, 'refit': True}\n"
     ]
    },
    {
     "name": "stderr",
     "output_type": "stream",
     "text": [
      "     1148159 [cluster.py:setup_cluster():225] [24368] The local backend is an alias for the multiprocessing backend, and the alias may be removed in some future version of Caiman\n",
      "     1148159 [cluster.py:setup_cluster():225] [24368] The local backend is an alias for the multiprocessing backend, and the alias may be removed in some future version of Caiman\n",
      "     1148261 [params.py:change_params():1151] [24368] In setting CNMFParams, non-pathed parameters were used; this is deprecated. In some future version of Caiman, allow_legacy will default to False (and eventually will be removed)\n",
      "     1148261 [params.py:change_params():1151] [24368] In setting CNMFParams, non-pathed parameters were used; this is deprecated. In some future version of Caiman, allow_legacy will default to False (and eventually will be removed)\n"
     ]
    },
    {
     "name": "stdout",
     "output_type": "stream",
     "text": [
      "making memmap\n"
     ]
    },
    {
     "name": "stderr",
     "output_type": "stream",
     "text": [
      "     1158346 [cluster.py:setup_cluster():225] [24368] The local backend is an alias for the multiprocessing backend, and the alias may be removed in some future version of Caiman\n",
      "     1158346 [cluster.py:setup_cluster():225] [24368] The local backend is an alias for the multiprocessing backend, and the alias may be removed in some future version of Caiman\n"
     ]
    },
    {
     "name": "stdout",
     "output_type": "stream",
     "text": [
      "performing CNMF\n",
      "fitting images\n",
      "refitting\n",
      "performing eval\n",
      "Running 3b9e8974-9d74-4f69-9370-ae731296203c with local backend\n",
      "************************************************************************\n",
      "\n",
      "Starting CNMF item:\n",
      "algo                                                                                                                                   cnmf\n",
      "item_name                                                                                                                            cnmf_1\n",
      "input_movie_path    b32f41bf-a9a5-4965-be7c-e6779e854328\\b32f41bf-a9a5-4965-be7c-e6779e854328-extracted_plane_1_els__d1_583_d2_536_d3_1_...\n",
      "params              {'main': {'fr': 9.62, 'dxy': (1.0, 1.0), 'decay_time': 0.4, 'strides': (48, 48), 'overlaps': (24, 24), 'max_shifts':...\n",
      "outputs                                                                                                                                None\n",
      "added_time                                                                                                              2024-09-30T14:36:58\n",
      "ran_time                                                                                                                               None\n",
      "algo_duration                                                                                                                          None\n",
      "comments                                                                                                                               None\n",
      "uuid                                                                                                   3b9e8974-9d74-4f69-9370-ae731296203c\n",
      "Name: 12, dtype: object\n",
      "With params:{'main': {'fr': 9.62, 'dxy': (1.0, 1.0), 'decay_time': 0.4, 'strides': (48, 48), 'overlaps': (24, 24), 'max_shifts': (6, 6), 'max_deviation_rigid': 3, 'pw_rigid': True, 'p': 2, 'nb': 1, 'rf': 40, 'K': 40, 'gSig': (6, 6), 'gSiz': None, 'stride': 10, 'method_init': 'greedy_roi', 'rolling_sum': True, 'use_cnn': False, 'ssub': 1, 'tsub': 1, 'merge_thr': 0.95, 'bas_nonneg': True, 'min_SNR': 1.4, 'rval_thr': 0.8}, 'refit': True}\n"
     ]
    },
    {
     "name": "stderr",
     "output_type": "stream",
     "text": [
      "     1318943 [cluster.py:setup_cluster():225] [24368] The local backend is an alias for the multiprocessing backend, and the alias may be removed in some future version of Caiman\n",
      "     1318943 [cluster.py:setup_cluster():225] [24368] The local backend is an alias for the multiprocessing backend, and the alias may be removed in some future version of Caiman\n",
      "     1319048 [params.py:change_params():1151] [24368] In setting CNMFParams, non-pathed parameters were used; this is deprecated. In some future version of Caiman, allow_legacy will default to False (and eventually will be removed)\n",
      "     1319048 [params.py:change_params():1151] [24368] In setting CNMFParams, non-pathed parameters were used; this is deprecated. In some future version of Caiman, allow_legacy will default to False (and eventually will be removed)\n"
     ]
    },
    {
     "name": "stdout",
     "output_type": "stream",
     "text": [
      "making memmap\n"
     ]
    },
    {
     "name": "stderr",
     "output_type": "stream",
     "text": [
      "     1329425 [cluster.py:setup_cluster():225] [24368] The local backend is an alias for the multiprocessing backend, and the alias may be removed in some future version of Caiman\n",
      "     1329425 [cluster.py:setup_cluster():225] [24368] The local backend is an alias for the multiprocessing backend, and the alias may be removed in some future version of Caiman\n"
     ]
    },
    {
     "name": "stdout",
     "output_type": "stream",
     "text": [
      "performing CNMF\n",
      "fitting images\n",
      "refitting\n",
      "performing eval\n",
      "Running 705e6404-a883-4a19-9162-53a29aa62132 with local backend\n",
      "************************************************************************\n",
      "\n",
      "Starting CNMF item:\n",
      "algo                                                                                                                                   cnmf\n",
      "item_name                                                                                                                            cnmf_1\n",
      "input_movie_path    b32f41bf-a9a5-4965-be7c-e6779e854328\\b32f41bf-a9a5-4965-be7c-e6779e854328-extracted_plane_1_els__d1_583_d2_536_d3_1_...\n",
      "params              {'main': {'fr': 9.62, 'dxy': (1.0, 1.0), 'decay_time': 0.4, 'strides': (48, 48), 'overlaps': (24, 24), 'max_shifts':...\n",
      "outputs                                                                                                                                None\n",
      "added_time                                                                                                              2024-09-30T14:36:58\n",
      "ran_time                                                                                                                               None\n",
      "algo_duration                                                                                                                          None\n",
      "comments                                                                                                                               None\n",
      "uuid                                                                                                   705e6404-a883-4a19-9162-53a29aa62132\n",
      "Name: 13, dtype: object\n",
      "With params:{'main': {'fr': 9.62, 'dxy': (1.0, 1.0), 'decay_time': 0.4, 'strides': (48, 48), 'overlaps': (24, 24), 'max_shifts': (6, 6), 'max_deviation_rigid': 3, 'pw_rigid': True, 'p': 2, 'nb': 1, 'rf': 40, 'K': 60, 'gSig': (6, 6), 'gSiz': None, 'stride': 10, 'method_init': 'greedy_roi', 'rolling_sum': True, 'use_cnn': False, 'ssub': 1, 'tsub': 1, 'merge_thr': 0.7, 'bas_nonneg': True, 'min_SNR': 1.4, 'rval_thr': 0.7}, 'refit': True}\n"
     ]
    },
    {
     "name": "stderr",
     "output_type": "stream",
     "text": [
      "     1496288 [cluster.py:setup_cluster():225] [24368] The local backend is an alias for the multiprocessing backend, and the alias may be removed in some future version of Caiman\n",
      "     1496288 [cluster.py:setup_cluster():225] [24368] The local backend is an alias for the multiprocessing backend, and the alias may be removed in some future version of Caiman\n",
      "     1496392 [params.py:change_params():1151] [24368] In setting CNMFParams, non-pathed parameters were used; this is deprecated. In some future version of Caiman, allow_legacy will default to False (and eventually will be removed)\n",
      "     1496392 [params.py:change_params():1151] [24368] In setting CNMFParams, non-pathed parameters were used; this is deprecated. In some future version of Caiman, allow_legacy will default to False (and eventually will be removed)\n"
     ]
    },
    {
     "name": "stdout",
     "output_type": "stream",
     "text": [
      "making memmap\n"
     ]
    },
    {
     "name": "stderr",
     "output_type": "stream",
     "text": [
      "     1506418 [cluster.py:setup_cluster():225] [24368] The local backend is an alias for the multiprocessing backend, and the alias may be removed in some future version of Caiman\n",
      "     1506418 [cluster.py:setup_cluster():225] [24368] The local backend is an alias for the multiprocessing backend, and the alias may be removed in some future version of Caiman\n"
     ]
    },
    {
     "name": "stdout",
     "output_type": "stream",
     "text": [
      "performing CNMF\n",
      "fitting images\n",
      "refitting\n",
      "performing eval\n",
      "Running 8bed5bd7-9261-46bb-bc17-091241f3b414 with local backend\n",
      "************************************************************************\n",
      "\n",
      "Starting CNMF item:\n",
      "algo                                                                                                                                   cnmf\n",
      "item_name                                                                                                                            cnmf_1\n",
      "input_movie_path    b32f41bf-a9a5-4965-be7c-e6779e854328\\b32f41bf-a9a5-4965-be7c-e6779e854328-extracted_plane_1_els__d1_583_d2_536_d3_1_...\n",
      "params              {'main': {'fr': 9.62, 'dxy': (1.0, 1.0), 'decay_time': 0.4, 'strides': (48, 48), 'overlaps': (24, 24), 'max_shifts':...\n",
      "outputs                                                                                                                                None\n",
      "added_time                                                                                                              2024-09-30T14:36:58\n",
      "ran_time                                                                                                                               None\n",
      "algo_duration                                                                                                                          None\n",
      "comments                                                                                                                               None\n",
      "uuid                                                                                                   8bed5bd7-9261-46bb-bc17-091241f3b414\n",
      "Name: 14, dtype: object\n",
      "With params:{'main': {'fr': 9.62, 'dxy': (1.0, 1.0), 'decay_time': 0.4, 'strides': (48, 48), 'overlaps': (24, 24), 'max_shifts': (6, 6), 'max_deviation_rigid': 3, 'pw_rigid': True, 'p': 2, 'nb': 1, 'rf': 40, 'K': 60, 'gSig': (6, 6), 'gSiz': None, 'stride': 10, 'method_init': 'greedy_roi', 'rolling_sum': True, 'use_cnn': False, 'ssub': 1, 'tsub': 1, 'merge_thr': 0.8, 'bas_nonneg': True, 'min_SNR': 1.4, 'rval_thr': 0.7}, 'refit': True}\n"
     ]
    },
    {
     "name": "stderr",
     "output_type": "stream",
     "text": [
      "     1706140 [cluster.py:setup_cluster():225] [24368] The local backend is an alias for the multiprocessing backend, and the alias may be removed in some future version of Caiman\n",
      "     1706140 [cluster.py:setup_cluster():225] [24368] The local backend is an alias for the multiprocessing backend, and the alias may be removed in some future version of Caiman\n",
      "     1706238 [params.py:change_params():1151] [24368] In setting CNMFParams, non-pathed parameters were used; this is deprecated. In some future version of Caiman, allow_legacy will default to False (and eventually will be removed)\n",
      "     1706238 [params.py:change_params():1151] [24368] In setting CNMFParams, non-pathed parameters were used; this is deprecated. In some future version of Caiman, allow_legacy will default to False (and eventually will be removed)\n"
     ]
    },
    {
     "name": "stdout",
     "output_type": "stream",
     "text": [
      "making memmap\n"
     ]
    },
    {
     "name": "stderr",
     "output_type": "stream",
     "text": [
      "     1716351 [cluster.py:setup_cluster():225] [24368] The local backend is an alias for the multiprocessing backend, and the alias may be removed in some future version of Caiman\n",
      "     1716351 [cluster.py:setup_cluster():225] [24368] The local backend is an alias for the multiprocessing backend, and the alias may be removed in some future version of Caiman\n"
     ]
    },
    {
     "name": "stdout",
     "output_type": "stream",
     "text": [
      "performing CNMF\n",
      "fitting images\n",
      "refitting\n",
      "performing eval\n",
      "Running 4cf62c5c-ed76-40ee-bf5c-6ed878aa924b with local backend\n",
      "************************************************************************\n",
      "\n",
      "Starting CNMF item:\n",
      "algo                                                                                                                                   cnmf\n",
      "item_name                                                                                                                            cnmf_1\n",
      "input_movie_path    b32f41bf-a9a5-4965-be7c-e6779e854328\\b32f41bf-a9a5-4965-be7c-e6779e854328-extracted_plane_1_els__d1_583_d2_536_d3_1_...\n",
      "params              {'main': {'fr': 9.62, 'dxy': (1.0, 1.0), 'decay_time': 0.4, 'strides': (48, 48), 'overlaps': (24, 24), 'max_shifts':...\n",
      "outputs                                                                                                                                None\n",
      "added_time                                                                                                              2024-09-30T14:36:58\n",
      "ran_time                                                                                                                               None\n",
      "algo_duration                                                                                                                          None\n",
      "comments                                                                                                                               None\n",
      "uuid                                                                                                   4cf62c5c-ed76-40ee-bf5c-6ed878aa924b\n",
      "Name: 15, dtype: object\n",
      "With params:{'main': {'fr': 9.62, 'dxy': (1.0, 1.0), 'decay_time': 0.4, 'strides': (48, 48), 'overlaps': (24, 24), 'max_shifts': (6, 6), 'max_deviation_rigid': 3, 'pw_rigid': True, 'p': 2, 'nb': 1, 'rf': 40, 'K': 60, 'gSig': (6, 6), 'gSiz': None, 'stride': 10, 'method_init': 'greedy_roi', 'rolling_sum': True, 'use_cnn': False, 'ssub': 1, 'tsub': 1, 'merge_thr': 0.95, 'bas_nonneg': True, 'min_SNR': 1.4, 'rval_thr': 0.7}, 'refit': True}\n"
     ]
    },
    {
     "name": "stderr",
     "output_type": "stream",
     "text": [
      "     1940211 [cluster.py:setup_cluster():225] [24368] The local backend is an alias for the multiprocessing backend, and the alias may be removed in some future version of Caiman\n",
      "     1940211 [cluster.py:setup_cluster():225] [24368] The local backend is an alias for the multiprocessing backend, and the alias may be removed in some future version of Caiman\n",
      "     1940311 [params.py:change_params():1151] [24368] In setting CNMFParams, non-pathed parameters were used; this is deprecated. In some future version of Caiman, allow_legacy will default to False (and eventually will be removed)\n",
      "     1940311 [params.py:change_params():1151] [24368] In setting CNMFParams, non-pathed parameters were used; this is deprecated. In some future version of Caiman, allow_legacy will default to False (and eventually will be removed)\n"
     ]
    },
    {
     "name": "stdout",
     "output_type": "stream",
     "text": [
      "making memmap\n"
     ]
    },
    {
     "name": "stderr",
     "output_type": "stream",
     "text": [
      "     1950329 [cluster.py:setup_cluster():225] [24368] The local backend is an alias for the multiprocessing backend, and the alias may be removed in some future version of Caiman\n",
      "     1950329 [cluster.py:setup_cluster():225] [24368] The local backend is an alias for the multiprocessing backend, and the alias may be removed in some future version of Caiman\n"
     ]
    },
    {
     "name": "stdout",
     "output_type": "stream",
     "text": [
      "performing CNMF\n",
      "fitting images\n",
      "refitting\n",
      "performing eval\n",
      "Running d46488b0-5e55-4e4f-84dc-9bb14dc9db17 with local backend\n",
      "************************************************************************\n",
      "\n",
      "Starting CNMF item:\n",
      "algo                                                                                                                                   cnmf\n",
      "item_name                                                                                                                            cnmf_1\n",
      "input_movie_path    b32f41bf-a9a5-4965-be7c-e6779e854328\\b32f41bf-a9a5-4965-be7c-e6779e854328-extracted_plane_1_els__d1_583_d2_536_d3_1_...\n",
      "params              {'main': {'fr': 9.62, 'dxy': (1.0, 1.0), 'decay_time': 0.4, 'strides': (48, 48), 'overlaps': (24, 24), 'max_shifts':...\n",
      "outputs                                                                                                                                None\n",
      "added_time                                                                                                              2024-09-30T14:36:58\n",
      "ran_time                                                                                                                               None\n",
      "algo_duration                                                                                                                          None\n",
      "comments                                                                                                                               None\n",
      "uuid                                                                                                   d46488b0-5e55-4e4f-84dc-9bb14dc9db17\n",
      "Name: 16, dtype: object\n",
      "With params:{'main': {'fr': 9.62, 'dxy': (1.0, 1.0), 'decay_time': 0.4, 'strides': (48, 48), 'overlaps': (24, 24), 'max_shifts': (6, 6), 'max_deviation_rigid': 3, 'pw_rigid': True, 'p': 2, 'nb': 1, 'rf': 40, 'K': 60, 'gSig': (6, 6), 'gSiz': None, 'stride': 10, 'method_init': 'greedy_roi', 'rolling_sum': True, 'use_cnn': False, 'ssub': 1, 'tsub': 1, 'merge_thr': 0.7, 'bas_nonneg': True, 'min_SNR': 1.4, 'rval_thr': 0.8}, 'refit': True}\n"
     ]
    },
    {
     "name": "stderr",
     "output_type": "stream",
     "text": [
      "     2178016 [cluster.py:setup_cluster():225] [24368] The local backend is an alias for the multiprocessing backend, and the alias may be removed in some future version of Caiman\n",
      "     2178016 [cluster.py:setup_cluster():225] [24368] The local backend is an alias for the multiprocessing backend, and the alias may be removed in some future version of Caiman\n",
      "     2178128 [params.py:change_params():1151] [24368] In setting CNMFParams, non-pathed parameters were used; this is deprecated. In some future version of Caiman, allow_legacy will default to False (and eventually will be removed)\n",
      "     2178128 [params.py:change_params():1151] [24368] In setting CNMFParams, non-pathed parameters were used; this is deprecated. In some future version of Caiman, allow_legacy will default to False (and eventually will be removed)\n"
     ]
    },
    {
     "name": "stdout",
     "output_type": "stream",
     "text": [
      "making memmap\n"
     ]
    },
    {
     "name": "stderr",
     "output_type": "stream",
     "text": [
      "     2188239 [cluster.py:setup_cluster():225] [24368] The local backend is an alias for the multiprocessing backend, and the alias may be removed in some future version of Caiman\n",
      "     2188239 [cluster.py:setup_cluster():225] [24368] The local backend is an alias for the multiprocessing backend, and the alias may be removed in some future version of Caiman\n"
     ]
    },
    {
     "name": "stdout",
     "output_type": "stream",
     "text": [
      "performing CNMF\n",
      "fitting images\n",
      "refitting\n",
      "performing eval\n",
      "Running 5158332e-9c9a-4395-8044-70667b0ef869 with local backend\n",
      "************************************************************************\n",
      "\n",
      "Starting CNMF item:\n",
      "algo                                                                                                                                   cnmf\n",
      "item_name                                                                                                                            cnmf_1\n",
      "input_movie_path    b32f41bf-a9a5-4965-be7c-e6779e854328\\b32f41bf-a9a5-4965-be7c-e6779e854328-extracted_plane_1_els__d1_583_d2_536_d3_1_...\n",
      "params              {'main': {'fr': 9.62, 'dxy': (1.0, 1.0), 'decay_time': 0.4, 'strides': (48, 48), 'overlaps': (24, 24), 'max_shifts':...\n",
      "outputs                                                                                                                                None\n",
      "added_time                                                                                                              2024-09-30T14:36:58\n",
      "ran_time                                                                                                                               None\n",
      "algo_duration                                                                                                                          None\n",
      "comments                                                                                                                               None\n",
      "uuid                                                                                                   5158332e-9c9a-4395-8044-70667b0ef869\n",
      "Name: 17, dtype: object\n",
      "With params:{'main': {'fr': 9.62, 'dxy': (1.0, 1.0), 'decay_time': 0.4, 'strides': (48, 48), 'overlaps': (24, 24), 'max_shifts': (6, 6), 'max_deviation_rigid': 3, 'pw_rigid': True, 'p': 2, 'nb': 1, 'rf': 40, 'K': 60, 'gSig': (6, 6), 'gSiz': None, 'stride': 10, 'method_init': 'greedy_roi', 'rolling_sum': True, 'use_cnn': False, 'ssub': 1, 'tsub': 1, 'merge_thr': 0.8, 'bas_nonneg': True, 'min_SNR': 1.4, 'rval_thr': 0.8}, 'refit': True}\n"
     ]
    },
    {
     "name": "stderr",
     "output_type": "stream",
     "text": [
      "     2385181 [cluster.py:setup_cluster():225] [24368] The local backend is an alias for the multiprocessing backend, and the alias may be removed in some future version of Caiman\n",
      "     2385181 [cluster.py:setup_cluster():225] [24368] The local backend is an alias for the multiprocessing backend, and the alias may be removed in some future version of Caiman\n",
      "     2385284 [params.py:change_params():1151] [24368] In setting CNMFParams, non-pathed parameters were used; this is deprecated. In some future version of Caiman, allow_legacy will default to False (and eventually will be removed)\n",
      "     2385284 [params.py:change_params():1151] [24368] In setting CNMFParams, non-pathed parameters were used; this is deprecated. In some future version of Caiman, allow_legacy will default to False (and eventually will be removed)\n"
     ]
    },
    {
     "name": "stdout",
     "output_type": "stream",
     "text": [
      "making memmap\n"
     ]
    },
    {
     "name": "stderr",
     "output_type": "stream",
     "text": [
      "     2395057 [cluster.py:setup_cluster():225] [24368] The local backend is an alias for the multiprocessing backend, and the alias may be removed in some future version of Caiman\n",
      "     2395057 [cluster.py:setup_cluster():225] [24368] The local backend is an alias for the multiprocessing backend, and the alias may be removed in some future version of Caiman\n"
     ]
    },
    {
     "name": "stdout",
     "output_type": "stream",
     "text": [
      "performing CNMF\n",
      "fitting images\n",
      "refitting\n",
      "performing eval\n",
      "Running f2d0cc26-ab86-4b8b-95ff-9aacf40c1c92 with local backend\n",
      "************************************************************************\n",
      "\n",
      "Starting CNMF item:\n",
      "algo                                                                                                                                   cnmf\n",
      "item_name                                                                                                                            cnmf_1\n",
      "input_movie_path    b32f41bf-a9a5-4965-be7c-e6779e854328\\b32f41bf-a9a5-4965-be7c-e6779e854328-extracted_plane_1_els__d1_583_d2_536_d3_1_...\n",
      "params              {'main': {'fr': 9.62, 'dxy': (1.0, 1.0), 'decay_time': 0.4, 'strides': (48, 48), 'overlaps': (24, 24), 'max_shifts':...\n",
      "outputs                                                                                                                                None\n",
      "added_time                                                                                                              2024-09-30T14:36:58\n",
      "ran_time                                                                                                                               None\n",
      "algo_duration                                                                                                                          None\n",
      "comments                                                                                                                               None\n",
      "uuid                                                                                                   f2d0cc26-ab86-4b8b-95ff-9aacf40c1c92\n",
      "Name: 18, dtype: object\n",
      "With params:{'main': {'fr': 9.62, 'dxy': (1.0, 1.0), 'decay_time': 0.4, 'strides': (48, 48), 'overlaps': (24, 24), 'max_shifts': (6, 6), 'max_deviation_rigid': 3, 'pw_rigid': True, 'p': 2, 'nb': 1, 'rf': 40, 'K': 60, 'gSig': (6, 6), 'gSiz': None, 'stride': 10, 'method_init': 'greedy_roi', 'rolling_sum': True, 'use_cnn': False, 'ssub': 1, 'tsub': 1, 'merge_thr': 0.95, 'bas_nonneg': True, 'min_SNR': 1.4, 'rval_thr': 0.8}, 'refit': True}\n"
     ]
    },
    {
     "name": "stderr",
     "output_type": "stream",
     "text": [
      "     2619255 [cluster.py:setup_cluster():225] [24368] The local backend is an alias for the multiprocessing backend, and the alias may be removed in some future version of Caiman\n",
      "     2619255 [cluster.py:setup_cluster():225] [24368] The local backend is an alias for the multiprocessing backend, and the alias may be removed in some future version of Caiman\n",
      "     2619362 [params.py:change_params():1151] [24368] In setting CNMFParams, non-pathed parameters were used; this is deprecated. In some future version of Caiman, allow_legacy will default to False (and eventually will be removed)\n",
      "     2619362 [params.py:change_params():1151] [24368] In setting CNMFParams, non-pathed parameters were used; this is deprecated. In some future version of Caiman, allow_legacy will default to False (and eventually will be removed)\n"
     ]
    },
    {
     "name": "stdout",
     "output_type": "stream",
     "text": [
      "making memmap\n"
     ]
    },
    {
     "name": "stderr",
     "output_type": "stream",
     "text": [
      "     2629477 [cluster.py:setup_cluster():225] [24368] The local backend is an alias for the multiprocessing backend, and the alias may be removed in some future version of Caiman\n",
      "     2629477 [cluster.py:setup_cluster():225] [24368] The local backend is an alias for the multiprocessing backend, and the alias may be removed in some future version of Caiman\n"
     ]
    },
    {
     "name": "stdout",
     "output_type": "stream",
     "text": [
      "performing CNMF\n",
      "fitting images\n",
      "refitting\n",
      "performing eval\n",
      "Running 683f31bc-fdb2-4d27-b860-2fd272e83172 with local backend\n",
      "************************************************************************\n",
      "\n",
      "Starting CNMF item:\n",
      "algo                                                                                                                                   cnmf\n",
      "item_name                                                                                                                            cnmf_1\n",
      "input_movie_path    b32f41bf-a9a5-4965-be7c-e6779e854328\\b32f41bf-a9a5-4965-be7c-e6779e854328-extracted_plane_1_els__d1_583_d2_536_d3_1_...\n",
      "params              {'main': {'fr': 9.62, 'dxy': (1.0, 1.0), 'decay_time': 0.4, 'strides': (48, 48), 'overlaps': (24, 24), 'max_shifts':...\n",
      "outputs                                                                                                                                None\n",
      "added_time                                                                                                              2024-09-30T14:36:58\n",
      "ran_time                                                                                                                               None\n",
      "algo_duration                                                                                                                          None\n",
      "comments                                                                                                                               None\n",
      "uuid                                                                                                   683f31bc-fdb2-4d27-b860-2fd272e83172\n",
      "Name: 19, dtype: object\n",
      "With params:{'main': {'fr': 9.62, 'dxy': (1.0, 1.0), 'decay_time': 0.4, 'strides': (48, 48), 'overlaps': (24, 24), 'max_shifts': (6, 6), 'max_deviation_rigid': 3, 'pw_rigid': True, 'p': 2, 'nb': 1, 'rf': 40, 'K': 80, 'gSig': (6, 6), 'gSiz': None, 'stride': 10, 'method_init': 'greedy_roi', 'rolling_sum': True, 'use_cnn': False, 'ssub': 1, 'tsub': 1, 'merge_thr': 0.7, 'bas_nonneg': True, 'min_SNR': 1.4, 'rval_thr': 0.7}, 'refit': True}\n"
     ]
    },
    {
     "name": "stderr",
     "output_type": "stream",
     "text": [
      "     2858619 [cluster.py:setup_cluster():225] [24368] The local backend is an alias for the multiprocessing backend, and the alias may be removed in some future version of Caiman\n",
      "     2858619 [cluster.py:setup_cluster():225] [24368] The local backend is an alias for the multiprocessing backend, and the alias may be removed in some future version of Caiman\n",
      "     2858717 [params.py:change_params():1151] [24368] In setting CNMFParams, non-pathed parameters were used; this is deprecated. In some future version of Caiman, allow_legacy will default to False (and eventually will be removed)\n",
      "     2858717 [params.py:change_params():1151] [24368] In setting CNMFParams, non-pathed parameters were used; this is deprecated. In some future version of Caiman, allow_legacy will default to False (and eventually will be removed)\n"
     ]
    },
    {
     "name": "stdout",
     "output_type": "stream",
     "text": [
      "making memmap\n"
     ]
    },
    {
     "name": "stderr",
     "output_type": "stream",
     "text": [
      "     2868635 [cluster.py:setup_cluster():225] [24368] The local backend is an alias for the multiprocessing backend, and the alias may be removed in some future version of Caiman\n",
      "     2868635 [cluster.py:setup_cluster():225] [24368] The local backend is an alias for the multiprocessing backend, and the alias may be removed in some future version of Caiman\n"
     ]
    },
    {
     "name": "stdout",
     "output_type": "stream",
     "text": [
      "performing CNMF\n",
      "fitting images\n",
      "refitting\n",
      "performing eval\n",
      "Running 05f36389-5168-47d5-9216-3feabe0a64f3 with local backend\n",
      "************************************************************************\n",
      "\n",
      "Starting CNMF item:\n",
      "algo                                                                                                                                   cnmf\n",
      "item_name                                                                                                                            cnmf_1\n",
      "input_movie_path    b32f41bf-a9a5-4965-be7c-e6779e854328\\b32f41bf-a9a5-4965-be7c-e6779e854328-extracted_plane_1_els__d1_583_d2_536_d3_1_...\n",
      "params              {'main': {'fr': 9.62, 'dxy': (1.0, 1.0), 'decay_time': 0.4, 'strides': (48, 48), 'overlaps': (24, 24), 'max_shifts':...\n",
      "outputs                                                                                                                                None\n",
      "added_time                                                                                                              2024-09-30T14:36:58\n",
      "ran_time                                                                                                                               None\n",
      "algo_duration                                                                                                                          None\n",
      "comments                                                                                                                               None\n",
      "uuid                                                                                                   05f36389-5168-47d5-9216-3feabe0a64f3\n",
      "Name: 20, dtype: object\n",
      "With params:{'main': {'fr': 9.62, 'dxy': (1.0, 1.0), 'decay_time': 0.4, 'strides': (48, 48), 'overlaps': (24, 24), 'max_shifts': (6, 6), 'max_deviation_rigid': 3, 'pw_rigid': True, 'p': 2, 'nb': 1, 'rf': 40, 'K': 80, 'gSig': (6, 6), 'gSiz': None, 'stride': 10, 'method_init': 'greedy_roi', 'rolling_sum': True, 'use_cnn': False, 'ssub': 1, 'tsub': 1, 'merge_thr': 0.8, 'bas_nonneg': True, 'min_SNR': 1.4, 'rval_thr': 0.7}, 'refit': True}\n"
     ]
    },
    {
     "name": "stderr",
     "output_type": "stream",
     "text": [
      "     3131241 [cluster.py:setup_cluster():225] [24368] The local backend is an alias for the multiprocessing backend, and the alias may be removed in some future version of Caiman\n",
      "     3131241 [cluster.py:setup_cluster():225] [24368] The local backend is an alias for the multiprocessing backend, and the alias may be removed in some future version of Caiman\n",
      "     3131341 [params.py:change_params():1151] [24368] In setting CNMFParams, non-pathed parameters were used; this is deprecated. In some future version of Caiman, allow_legacy will default to False (and eventually will be removed)\n",
      "     3131341 [params.py:change_params():1151] [24368] In setting CNMFParams, non-pathed parameters were used; this is deprecated. In some future version of Caiman, allow_legacy will default to False (and eventually will be removed)\n"
     ]
    },
    {
     "name": "stdout",
     "output_type": "stream",
     "text": [
      "making memmap\n"
     ]
    },
    {
     "name": "stderr",
     "output_type": "stream",
     "text": [
      "     3141455 [cluster.py:setup_cluster():225] [24368] The local backend is an alias for the multiprocessing backend, and the alias may be removed in some future version of Caiman\n",
      "     3141455 [cluster.py:setup_cluster():225] [24368] The local backend is an alias for the multiprocessing backend, and the alias may be removed in some future version of Caiman\n"
     ]
    },
    {
     "name": "stdout",
     "output_type": "stream",
     "text": [
      "performing CNMF\n",
      "fitting images\n",
      "refitting\n",
      "performing eval\n",
      "Running 79beadbb-7140-4c23-b914-768a4b5b4a4d with local backend\n",
      "************************************************************************\n",
      "\n",
      "Starting CNMF item:\n",
      "algo                                                                                                                                   cnmf\n",
      "item_name                                                                                                                            cnmf_1\n",
      "input_movie_path    b32f41bf-a9a5-4965-be7c-e6779e854328\\b32f41bf-a9a5-4965-be7c-e6779e854328-extracted_plane_1_els__d1_583_d2_536_d3_1_...\n",
      "params              {'main': {'fr': 9.62, 'dxy': (1.0, 1.0), 'decay_time': 0.4, 'strides': (48, 48), 'overlaps': (24, 24), 'max_shifts':...\n",
      "outputs                                                                                                                                None\n",
      "added_time                                                                                                              2024-09-30T14:36:58\n",
      "ran_time                                                                                                                               None\n",
      "algo_duration                                                                                                                          None\n",
      "comments                                                                                                                               None\n",
      "uuid                                                                                                   79beadbb-7140-4c23-b914-768a4b5b4a4d\n",
      "Name: 21, dtype: object\n",
      "With params:{'main': {'fr': 9.62, 'dxy': (1.0, 1.0), 'decay_time': 0.4, 'strides': (48, 48), 'overlaps': (24, 24), 'max_shifts': (6, 6), 'max_deviation_rigid': 3, 'pw_rigid': True, 'p': 2, 'nb': 1, 'rf': 40, 'K': 80, 'gSig': (6, 6), 'gSiz': None, 'stride': 10, 'method_init': 'greedy_roi', 'rolling_sum': True, 'use_cnn': False, 'ssub': 1, 'tsub': 1, 'merge_thr': 0.95, 'bas_nonneg': True, 'min_SNR': 1.4, 'rval_thr': 0.7}, 'refit': True}\n"
     ]
    },
    {
     "name": "stderr",
     "output_type": "stream",
     "text": [
      "     3422174 [cluster.py:setup_cluster():225] [24368] The local backend is an alias for the multiprocessing backend, and the alias may be removed in some future version of Caiman\n",
      "     3422174 [cluster.py:setup_cluster():225] [24368] The local backend is an alias for the multiprocessing backend, and the alias may be removed in some future version of Caiman\n",
      "     3422275 [params.py:change_params():1151] [24368] In setting CNMFParams, non-pathed parameters were used; this is deprecated. In some future version of Caiman, allow_legacy will default to False (and eventually will be removed)\n",
      "     3422275 [params.py:change_params():1151] [24368] In setting CNMFParams, non-pathed parameters were used; this is deprecated. In some future version of Caiman, allow_legacy will default to False (and eventually will be removed)\n"
     ]
    },
    {
     "name": "stdout",
     "output_type": "stream",
     "text": [
      "making memmap\n"
     ]
    },
    {
     "name": "stderr",
     "output_type": "stream",
     "text": [
      "     3432343 [cluster.py:setup_cluster():225] [24368] The local backend is an alias for the multiprocessing backend, and the alias may be removed in some future version of Caiman\n",
      "     3432343 [cluster.py:setup_cluster():225] [24368] The local backend is an alias for the multiprocessing backend, and the alias may be removed in some future version of Caiman\n"
     ]
    },
    {
     "name": "stdout",
     "output_type": "stream",
     "text": [
      "performing CNMF\n",
      "fitting images\n",
      "refitting\n",
      "performing eval\n",
      "Running 926d6546-12c8-43ac-a033-9a4c97817b31 with local backend\n",
      "************************************************************************\n",
      "\n",
      "Starting CNMF item:\n",
      "algo                                                                                                                                   cnmf\n",
      "item_name                                                                                                                            cnmf_1\n",
      "input_movie_path    b32f41bf-a9a5-4965-be7c-e6779e854328\\b32f41bf-a9a5-4965-be7c-e6779e854328-extracted_plane_1_els__d1_583_d2_536_d3_1_...\n",
      "params              {'main': {'fr': 9.62, 'dxy': (1.0, 1.0), 'decay_time': 0.4, 'strides': (48, 48), 'overlaps': (24, 24), 'max_shifts':...\n",
      "outputs                                                                                                                                None\n",
      "added_time                                                                                                              2024-09-30T14:36:58\n",
      "ran_time                                                                                                                               None\n",
      "algo_duration                                                                                                                          None\n",
      "comments                                                                                                                               None\n",
      "uuid                                                                                                   926d6546-12c8-43ac-a033-9a4c97817b31\n",
      "Name: 22, dtype: object\n",
      "With params:{'main': {'fr': 9.62, 'dxy': (1.0, 1.0), 'decay_time': 0.4, 'strides': (48, 48), 'overlaps': (24, 24), 'max_shifts': (6, 6), 'max_deviation_rigid': 3, 'pw_rigid': True, 'p': 2, 'nb': 1, 'rf': 40, 'K': 80, 'gSig': (6, 6), 'gSiz': None, 'stride': 10, 'method_init': 'greedy_roi', 'rolling_sum': True, 'use_cnn': False, 'ssub': 1, 'tsub': 1, 'merge_thr': 0.7, 'bas_nonneg': True, 'min_SNR': 1.4, 'rval_thr': 0.8}, 'refit': True}\n"
     ]
    },
    {
     "name": "stderr",
     "output_type": "stream",
     "text": [
      "     3731001 [cluster.py:setup_cluster():225] [24368] The local backend is an alias for the multiprocessing backend, and the alias may be removed in some future version of Caiman\n",
      "     3731001 [cluster.py:setup_cluster():225] [24368] The local backend is an alias for the multiprocessing backend, and the alias may be removed in some future version of Caiman\n",
      "     3731105 [params.py:change_params():1151] [24368] In setting CNMFParams, non-pathed parameters were used; this is deprecated. In some future version of Caiman, allow_legacy will default to False (and eventually will be removed)\n",
      "     3731105 [params.py:change_params():1151] [24368] In setting CNMFParams, non-pathed parameters were used; this is deprecated. In some future version of Caiman, allow_legacy will default to False (and eventually will be removed)\n"
     ]
    },
    {
     "name": "stdout",
     "output_type": "stream",
     "text": [
      "making memmap\n"
     ]
    },
    {
     "name": "stderr",
     "output_type": "stream",
     "text": [
      "     3741290 [cluster.py:setup_cluster():225] [24368] The local backend is an alias for the multiprocessing backend, and the alias may be removed in some future version of Caiman\n",
      "     3741290 [cluster.py:setup_cluster():225] [24368] The local backend is an alias for the multiprocessing backend, and the alias may be removed in some future version of Caiman\n"
     ]
    },
    {
     "name": "stdout",
     "output_type": "stream",
     "text": [
      "performing CNMF\n",
      "fitting images\n",
      "refitting\n",
      "performing eval\n",
      "Running e1069d70-5735-47c4-8102-594a1f9f1702 with local backend\n",
      "************************************************************************\n",
      "\n",
      "Starting CNMF item:\n",
      "algo                                                                                                                                   cnmf\n",
      "item_name                                                                                                                            cnmf_1\n",
      "input_movie_path    b32f41bf-a9a5-4965-be7c-e6779e854328\\b32f41bf-a9a5-4965-be7c-e6779e854328-extracted_plane_1_els__d1_583_d2_536_d3_1_...\n",
      "params              {'main': {'fr': 9.62, 'dxy': (1.0, 1.0), 'decay_time': 0.4, 'strides': (48, 48), 'overlaps': (24, 24), 'max_shifts':...\n",
      "outputs                                                                                                                                None\n",
      "added_time                                                                                                              2024-09-30T14:36:58\n",
      "ran_time                                                                                                                               None\n",
      "algo_duration                                                                                                                          None\n",
      "comments                                                                                                                               None\n",
      "uuid                                                                                                   e1069d70-5735-47c4-8102-594a1f9f1702\n",
      "Name: 23, dtype: object\n",
      "With params:{'main': {'fr': 9.62, 'dxy': (1.0, 1.0), 'decay_time': 0.4, 'strides': (48, 48), 'overlaps': (24, 24), 'max_shifts': (6, 6), 'max_deviation_rigid': 3, 'pw_rigid': True, 'p': 2, 'nb': 1, 'rf': 40, 'K': 80, 'gSig': (6, 6), 'gSiz': None, 'stride': 10, 'method_init': 'greedy_roi', 'rolling_sum': True, 'use_cnn': False, 'ssub': 1, 'tsub': 1, 'merge_thr': 0.8, 'bas_nonneg': True, 'min_SNR': 1.4, 'rval_thr': 0.8}, 'refit': True}\n"
     ]
    },
    {
     "name": "stderr",
     "output_type": "stream",
     "text": [
      "     4004548 [cluster.py:setup_cluster():225] [24368] The local backend is an alias for the multiprocessing backend, and the alias may be removed in some future version of Caiman\n",
      "     4004548 [cluster.py:setup_cluster():225] [24368] The local backend is an alias for the multiprocessing backend, and the alias may be removed in some future version of Caiman\n",
      "     4004660 [params.py:change_params():1151] [24368] In setting CNMFParams, non-pathed parameters were used; this is deprecated. In some future version of Caiman, allow_legacy will default to False (and eventually will be removed)\n",
      "     4004660 [params.py:change_params():1151] [24368] In setting CNMFParams, non-pathed parameters were used; this is deprecated. In some future version of Caiman, allow_legacy will default to False (and eventually will be removed)\n"
     ]
    },
    {
     "name": "stdout",
     "output_type": "stream",
     "text": [
      "making memmap\n"
     ]
    },
    {
     "name": "stderr",
     "output_type": "stream",
     "text": [
      "     4014699 [cluster.py:setup_cluster():225] [24368] The local backend is an alias for the multiprocessing backend, and the alias may be removed in some future version of Caiman\n",
      "     4014699 [cluster.py:setup_cluster():225] [24368] The local backend is an alias for the multiprocessing backend, and the alias may be removed in some future version of Caiman\n"
     ]
    },
    {
     "name": "stdout",
     "output_type": "stream",
     "text": [
      "performing CNMF\n",
      "fitting images\n",
      "refitting\n",
      "performing eval\n",
      "Running 4b6a7355-508e-4505-84ed-95ef3db5e81b with local backend\n",
      "************************************************************************\n",
      "\n",
      "Starting CNMF item:\n",
      "algo                                                                                                                                   cnmf\n",
      "item_name                                                                                                                            cnmf_1\n",
      "input_movie_path    b32f41bf-a9a5-4965-be7c-e6779e854328\\b32f41bf-a9a5-4965-be7c-e6779e854328-extracted_plane_1_els__d1_583_d2_536_d3_1_...\n",
      "params              {'main': {'fr': 9.62, 'dxy': (1.0, 1.0), 'decay_time': 0.4, 'strides': (48, 48), 'overlaps': (24, 24), 'max_shifts':...\n",
      "outputs                                                                                                                                None\n",
      "added_time                                                                                                              2024-09-30T14:36:58\n",
      "ran_time                                                                                                                               None\n",
      "algo_duration                                                                                                                          None\n",
      "comments                                                                                                                               None\n",
      "uuid                                                                                                   4b6a7355-508e-4505-84ed-95ef3db5e81b\n",
      "Name: 24, dtype: object\n",
      "With params:{'main': {'fr': 9.62, 'dxy': (1.0, 1.0), 'decay_time': 0.4, 'strides': (48, 48), 'overlaps': (24, 24), 'max_shifts': (6, 6), 'max_deviation_rigid': 3, 'pw_rigid': True, 'p': 2, 'nb': 1, 'rf': 40, 'K': 80, 'gSig': (6, 6), 'gSiz': None, 'stride': 10, 'method_init': 'greedy_roi', 'rolling_sum': True, 'use_cnn': False, 'ssub': 1, 'tsub': 1, 'merge_thr': 0.95, 'bas_nonneg': True, 'min_SNR': 1.4, 'rval_thr': 0.8}, 'refit': True}\n"
     ]
    },
    {
     "name": "stderr",
     "output_type": "stream",
     "text": [
      "     4312881 [cluster.py:setup_cluster():225] [24368] The local backend is an alias for the multiprocessing backend, and the alias may be removed in some future version of Caiman\n",
      "     4312881 [cluster.py:setup_cluster():225] [24368] The local backend is an alias for the multiprocessing backend, and the alias may be removed in some future version of Caiman\n",
      "     4312983 [params.py:change_params():1151] [24368] In setting CNMFParams, non-pathed parameters were used; this is deprecated. In some future version of Caiman, allow_legacy will default to False (and eventually will be removed)\n",
      "     4312983 [params.py:change_params():1151] [24368] In setting CNMFParams, non-pathed parameters were used; this is deprecated. In some future version of Caiman, allow_legacy will default to False (and eventually will be removed)\n"
     ]
    },
    {
     "name": "stdout",
     "output_type": "stream",
     "text": [
      "making memmap\n"
     ]
    },
    {
     "name": "stderr",
     "output_type": "stream",
     "text": [
      "     4323211 [cluster.py:setup_cluster():225] [24368] The local backend is an alias for the multiprocessing backend, and the alias may be removed in some future version of Caiman\n",
      "     4323211 [cluster.py:setup_cluster():225] [24368] The local backend is an alias for the multiprocessing backend, and the alias may be removed in some future version of Caiman\n"
     ]
    },
    {
     "name": "stdout",
     "output_type": "stream",
     "text": [
      "performing CNMF\n",
      "fitting images\n"
     ]
    }
   ],
   "source": [
    "for i, row in df.iterrows():\n",
    "    if row[\"outputs\"] is not None: # item has already been run\n",
    "        continue # skip\n",
    "\n",
    "    process = row.caiman.run()\n",
    "\n",
    "    # on Windows you MUST reload the batch dataframe after every iteration because it uses the `local` backend.\n",
    "    # this is unnecessary on Linux & Mac\n",
    "    # \"DummyProcess\" is used for local backend so this is automatic\n",
    "    if process.__class__.__name__ == \"DummyProcess\":\n",
    "        df = df.caiman.reload_from_disk()"
   ]
  },
  {
   "cell_type": "code",
   "execution_count": 15,
   "id": "8f835b4e",
   "metadata": {},
   "outputs": [
    {
     "data": {
      "text/plain": [
       "[1314,\n",
       " 188,\n",
       " 208,\n",
       " 357,\n",
       " 413,\n",
       " 1783,\n",
       " 1301,\n",
       " 1783,\n",
       " 2372,\n",
       " 1301,\n",
       " 1783,\n",
       " 2372,\n",
       " 1820,\n",
       " 2681,\n",
       " 3639,\n",
       " 1820,\n",
       " 2681,\n",
       " 3639,\n",
       " 2518,\n",
       " 3664,\n",
       " 4941,\n",
       " 2518,\n",
       " 3664]"
      ]
     },
     "execution_count": 15,
     "metadata": {},
     "output_type": "execute_result"
    }
   ],
   "source": [
    "num_neurons = (df.iloc[i].cnmf.get_temporal() for i, row in df.iterrows() if row['algo'] == 'cnmf')\n",
    "[len(x) for x in num_neurons]"
   ]
  },
  {
   "cell_type": "code",
   "execution_count": null,
   "id": "cf93de53",
   "metadata": {},
   "outputs": [],
   "source": []
  }
 ],
 "metadata": {
  "kernelspec": {
   "display_name": "Python 3 (ipykernel)",
   "language": "python",
   "name": "python3"
  },
  "language_info": {
   "codemirror_mode": {
    "name": "ipython",
    "version": 3
   },
   "file_extension": ".py",
   "mimetype": "text/x-python",
   "name": "python",
   "nbconvert_exporter": "python",
   "pygments_lexer": "ipython3",
   "version": "3.10.8"
  }
 },
 "nbformat": 4,
 "nbformat_minor": 5
}
