{
 "cells": [
  {
   "cell_type": "markdown",
   "id": "dbb6bb2d-6a7e-4578-bc24-d93aa638c7e3",
   "metadata": {},
   "source": [
    "# LBM Step 2: Registration\n",
    "\n",
    "## Registration: Correct for rigid/non-rigid movement\n",
    "\n",
    "- Apply the nonrigid motion correction (NoRMCorre) algorithm for motion correction.\n",
    "- View pre/most correction movie\n",
    "- Use quality metrics to evaluate registration quality"
   ]
  },
  {
   "cell_type": "code",
   "execution_count": 1,
   "id": "8aa5aa21-1f82-4d37-b2ad-1c0239d1d38f",
   "metadata": {
    "execution": {
     "iopub.execute_input": "2024-05-25T04:23:50.439658Z",
     "iopub.status.busy": "2024-05-25T04:23:50.439225Z",
     "iopub.status.idle": "2024-05-25T04:23:58.647432Z",
     "shell.execute_reply": "2024-05-25T04:23:58.646924Z",
     "shell.execute_reply.started": "2024-05-25T04:23:50.439631Z"
    },
    "jupyter": {
     "is_executing": true
    }
   },
   "outputs": [
    {
     "name": "stderr",
     "output_type": "stream",
     "text": [
      "2024-09-05 21:09:31.075440: E external/local_xla/xla/stream_executor/cuda/cuda_dnn.cc:9261] Unable to register cuDNN factory: Attempting to register factory for plugin cuDNN when one has already been registered\n",
      "2024-09-05 21:09:31.075471: E external/local_xla/xla/stream_executor/cuda/cuda_fft.cc:607] Unable to register cuFFT factory: Attempting to register factory for plugin cuFFT when one has already been registered\n",
      "2024-09-05 21:09:31.075846: E external/local_xla/xla/stream_executor/cuda/cuda_blas.cc:1515] Unable to register cuBLAS factory: Attempting to register factory for plugin cuBLAS when one has already been registered\n"
     ]
    }
   ],
   "source": [
    "import sys\n",
    "from pathlib import Path\n",
    "import os\n",
    "import numpy as np\n",
    "import zarr\n",
    "\n",
    "import logging\n",
    "import mesmerize_core as mc\n",
    "import matplotlib.pyplot as plt\n",
    "\n",
    "try:\n",
    "    import cv2\n",
    "    cv2.setNumThreads(0)\n",
    "except():\n",
    "    pass\n",
    "\n",
    "logging.basicConfig()\n",
    "\n",
    "from mesmerize_core.caiman_extensions.cnmf import cnmf_cache\n",
    "\n",
    "if os.name == \"nt\":\n",
    "    # disable the cache on windows, this will be automatic in a future version\n",
    "    cnmf_cache.set_maxsize(0)\n",
    "\n",
    "raw_data_path = Path().home() / \"caiman_data\"\n",
    "movie_path = raw_data_path / 'animal_01' / \"session_01\" / 'save_gui.zarr'\n",
    "# moviepath\n"
   ]
  },
  {
   "cell_type": "markdown",
   "id": "f3d31d51",
   "metadata": {},
   "source": [
    "## (optional): View hardware information"
   ]
  },
  {
   "cell_type": "code",
   "execution_count": 2,
   "id": "1de17a08-4caf-4748-becb-468cb65958f7",
   "metadata": {
    "execution": {
     "iopub.execute_input": "2024-05-25T04:52:27.753189Z",
     "iopub.status.busy": "2024-05-25T04:52:27.752679Z",
     "iopub.status.idle": "2024-05-25T04:52:28.268488Z",
     "shell.execute_reply": "2024-05-25T04:52:28.267808Z",
     "shell.execute_reply.started": "2024-05-25T04:52:27.753133Z"
    }
   },
   "outputs": [
    {
     "name": "stdout",
     "output_type": "stream",
     "text": [
      "*** No help on # dont forget to call it after the install as it sets some defaults\n",
      "+------------------+----------------------------------------------------------------------------------------------+\n",
      "| Attribute        | Value                                                                                        |\n",
      "+------------------+----------------------------------------------------------------------------------------------+\n",
      "| cpu              |                                                                                              |\n",
      "| cpu_cores        | 24                                                                                           |\n",
      "| cpu_count        | 32                                                                                           |\n",
      "| cpu_threads      | 32                                                                                           |\n",
      "| date             | 2024-07-14 09:27:51.602620                                                                   |\n",
      "| frequency        | scpufreq(current=3200.0, min=0.0, max=3200.0)                                                |\n",
      "| mem.available    | 41.9 GiB                                                                                     |\n",
      "| mem.free         | 41.9 GiB                                                                                     |\n",
      "| mem.percent      | 67.2 %                                                                                       |\n",
      "| mem.total        | 127.8 GiB                                                                                    |\n",
      "| mem.used         | 85.9 GiB                                                                                     |\n",
      "| platform.version | ('10', '10.0.19045', 'SP0', 'Multiprocessor Free')                                           |\n",
      "| python           | 3.10.8 | packaged by conda-forge | (main, Nov 22 2022, 08:16:53) [MSC v.1929 64 bit (AMD64)] |\n",
      "| python.pip       | 24.0                                                                                         |\n",
      "| python.version   | 3.10.8                                                                                       |\n",
      "| sys.platform     | win32                                                                                        |\n",
      "| uname.machine    | AMD64                                                                                        |\n",
      "| uname.node       | RBO-C2                                                                                       |\n",
      "| uname.processor  | Intel64 Family 6 Model 183 Stepping 1, GenuineIntel                                          |\n",
      "| uname.release    | 10                                                                                           |\n",
      "| uname.system     | Windows                                                                                      |\n",
      "| uname.version    | 10.0.19045                                                                                   |\n",
      "| user             | RBO                                                                                          |\n",
      "+------------------+----------------------------------------------------------------------------------------------+\n"
     ]
    }
   ],
   "source": [
    "# !pip install cloudmesh-cmd5\n",
    "!cms help # dont forget to call it after the install as it sets some defaults\n",
    "!cms sysinfo"
   ]
  },
  {
   "cell_type": "markdown",
   "id": "c9c56ef1-7536-45c0-ba27-06de0f66242c",
   "metadata": {},
   "source": [
    "## User input: input data path and plane number\n",
    "\n",
    "the same path as [pre_processing](./pre_processing.ipynb)\n",
    "parent_dir = Path().home() / 'caiman_data' / 'animal_01' / 'session_01'"
   ]
  },
  {
   "cell_type": "code",
   "execution_count": 4,
   "id": "f03a00b0",
   "metadata": {},
   "outputs": [
    {
     "data": {
      "text/plain": [
       "PosixPath('/home/mbo/caiman_data')"
      ]
     },
     "execution_count": 4,
     "metadata": {},
     "output_type": "execute_result"
    }
   ],
   "source": [
    "mc.set_parent_raw_data_path(raw_data_path)"
   ]
  },
  {
   "cell_type": "code",
   "execution_count": 2,
   "id": "3fbe7569",
   "metadata": {},
   "outputs": [
    {
     "data": {
      "text/plain": [
       "PosixPath('/home/mbo/caiman_data')"
      ]
     },
     "execution_count": 2,
     "metadata": {},
     "output_type": "execute_result"
    }
   ],
   "source": [
    "batch_path = raw_data_path / 'batch.pickle'\n",
    "mc.set_parent_raw_data_path(str(raw_data_path))"
   ]
  },
  {
   "cell_type": "code",
   "execution_count": 17,
   "id": "f7a407b8",
   "metadata": {},
   "outputs": [
    {
     "data": {
      "text/html": [
       "<div>\n",
       "<style scoped>\n",
       "    .dataframe tbody tr th:only-of-type {\n",
       "        vertical-align: middle;\n",
       "    }\n",
       "\n",
       "    .dataframe tbody tr th {\n",
       "        vertical-align: top;\n",
       "    }\n",
       "\n",
       "    .dataframe thead th {\n",
       "        text-align: right;\n",
       "    }\n",
       "</style>\n",
       "<table border=\"1\" class=\"dataframe\">\n",
       "  <thead>\n",
       "    <tr style=\"text-align: right;\">\n",
       "      <th></th>\n",
       "      <th>algo</th>\n",
       "      <th>item_name</th>\n",
       "      <th>input_movie_path</th>\n",
       "      <th>params</th>\n",
       "      <th>outputs</th>\n",
       "      <th>added_time</th>\n",
       "      <th>ran_time</th>\n",
       "      <th>algo_duration</th>\n",
       "      <th>comments</th>\n",
       "      <th>uuid</th>\n",
       "    </tr>\n",
       "  </thead>\n",
       "  <tbody>\n",
       "  </tbody>\n",
       "</table>\n",
       "</div>"
      ],
      "text/plain": [
       "Empty DataFrame\n",
       "Columns: [algo, item_name, input_movie_path, params, outputs, added_time, ran_time, algo_duration, comments, uuid]\n",
       "Index: []"
      ]
     },
     "execution_count": 17,
     "metadata": {},
     "output_type": "execute_result"
    }
   ],
   "source": [
    "# create a new batch\n",
    "# try:\n",
    "# to load existing batches use `load_batch()`\n",
    "    # df = mc.load_batch(batch_path)\n",
    "# except (IsADirectoryError, FileNotFoundError):\n",
    "df = mc.create_batch(batch_path, remove_existing=True)\n",
    "\n",
    "\n",
    "df=df.caiman.reload_from_disk()\n",
    "df"
   ]
  },
  {
   "cell_type": "code",
   "execution_count": 19,
   "id": "aea4b016",
   "metadata": {},
   "outputs": [],
   "source": [
    "df = df.caiman.reload_from_disk()\n",
    "if df.empty:\n",
    "\n",
    "    mcorr_params = {'main':  # this key is necessary for specifying that these are the \"main\" params for the algorithm\n",
    "        {\n",
    "            'var_name_hdf5': 'plane_1',\n",
    "            'max_shifts': [24, 24],\n",
    "            'strides': [48, 48],\n",
    "            'overlaps': [24, 24],\n",
    "            'max_deviation_rigid': 3,\n",
    "            'border_nan': 'copy',\n",
    "            'pw_rigid': True,\n",
    "            'gSig_filt': None\n",
    "        },\n",
    "    }\n",
    "\n",
    "    df.caiman.add_item(\n",
    "        algo='mcorr',\n",
    "        input_movie_path=movie_path,\n",
    "        params=mcorr_params,\n",
    "        item_name=movie_path.stem,  # filename of the movie, but can be anything\n",
    "    )"
   ]
  },
  {
   "cell_type": "code",
   "execution_count": 20,
   "id": "e78e33a7",
   "metadata": {},
   "outputs": [
    {
     "name": "stderr",
     "output_type": "stream",
     "text": [
      "2024-09-05 21:23:38.447801: E external/local_xla/xla/stream_executor/cuda/cuda_dnn.cc:9261] Unable to register cuDNN factory: Attempting to register factory for plugin cuDNN when one has already been registered\n",
      "2024-09-05 21:23:38.447830: E external/local_xla/xla/stream_executor/cuda/cuda_fft.cc:607] Unable to register cuFFT factory: Attempting to register factory for plugin cuFFT when one has already been registered\n",
      "2024-09-05 21:23:38.448201: E external/local_xla/xla/stream_executor/cuda/cuda_blas.cc:1515] Unable to register cuBLAS factory: Attempting to register factory for plugin cuBLAS when one has already been registered\n"
     ]
    },
    {
     "name": "stdout",
     "output_type": "stream",
     "text": [
      "starting mc\n",
      "plane_1\n",
      "plane_1\n"
     ]
    },
    {
     "name": "stderr",
     "output_type": "stream",
     "text": [
      "WARNING:root:In setting CNMFParams, non-pathed parameters were used; this is deprecated. In some future version of Caiman, allow_legacy will default to False (and eventually will be removed)\n"
     ]
    }
   ],
   "source": [
    "df.iloc[0].caiman.run()"
   ]
  },
  {
   "cell_type": "code",
   "execution_count": 18,
   "id": "b8e74044",
   "metadata": {},
   "outputs": [
    {
     "data": {
      "text/plain": [
       "<Image layer 'Image [1]' at 0x7ff0a84a50d0>"
      ]
     },
     "execution_count": 18,
     "metadata": {},
     "output_type": "execute_result"
    }
   ],
   "source": [
    "import napari\n",
    "napari.view_image(df.iloc[0].mcorr.get_output())\n",
    "napari.current_viewer().add_image(zarr.open(movie_path)['plane_1'])"
   ]
  },
  {
   "cell_type": "code",
   "execution_count": null,
   "id": "9b7d5fb3",
   "metadata": {},
   "outputs": [],
   "source": [
    "corr, pnr = correlation_pnr(mcorr_movie, swap_dim=False)"
   ]
  },
  {
   "cell_type": "markdown",
   "id": "26c8bbdc",
   "metadata": {},
   "source": [
    "# Registration Grid Search\n",
    "\n",
    "More runs with varying parameters, stored on disk in the dataframe batch.pickle"
   ]
  },
  {
   "cell_type": "code",
   "execution_count": 11,
   "id": "6f736309",
   "metadata": {},
   "outputs": [
    {
     "data": {
      "text/html": [
       "<div>\n",
       "<style scoped>\n",
       "    .dataframe tbody tr th:only-of-type {\n",
       "        vertical-align: middle;\n",
       "    }\n",
       "\n",
       "    .dataframe tbody tr th {\n",
       "        vertical-align: top;\n",
       "    }\n",
       "\n",
       "    .dataframe thead th {\n",
       "        text-align: right;\n",
       "    }\n",
       "</style>\n",
       "<table border=\"1\" class=\"dataframe\">\n",
       "  <thead>\n",
       "    <tr style=\"text-align: right;\">\n",
       "      <th></th>\n",
       "      <th>algo</th>\n",
       "      <th>item_name</th>\n",
       "      <th>input_movie_path</th>\n",
       "      <th>params</th>\n",
       "      <th>outputs</th>\n",
       "      <th>added_time</th>\n",
       "      <th>ran_time</th>\n",
       "      <th>algo_duration</th>\n",
       "      <th>comments</th>\n",
       "      <th>uuid</th>\n",
       "    </tr>\n",
       "  </thead>\n",
       "  <tbody>\n",
       "    <tr>\n",
       "      <th>0</th>\n",
       "      <td>mcorr</td>\n",
       "      <td>plane_1</td>\n",
       "      <td>animal_01/session_01/save_gui.zarr</td>\n",
       "      <td>{'main': {'var_name_hdf5': ('plane_1',), 'max_...</td>\n",
       "      <td>None</td>\n",
       "      <td>2024-09-05T21:17:15</td>\n",
       "      <td>None</td>\n",
       "      <td>None</td>\n",
       "      <td>None</td>\n",
       "      <td>e5c7dd26-9583-43da-93c6-74b317115886</td>\n",
       "    </tr>\n",
       "    <tr>\n",
       "      <th>1</th>\n",
       "      <td>mcorr</td>\n",
       "      <td>plane_1</td>\n",
       "      <td>animal_01/session_01/save_gui.zarr</td>\n",
       "      <td>{'main': {'var_name_hdf5': ('plane_1',), 'max_...</td>\n",
       "      <td>None</td>\n",
       "      <td>2024-09-05T21:17:15</td>\n",
       "      <td>None</td>\n",
       "      <td>None</td>\n",
       "      <td>None</td>\n",
       "      <td>1886de10-9f55-4662-9641-9b016d5b5c84</td>\n",
       "    </tr>\n",
       "    <tr>\n",
       "      <th>2</th>\n",
       "      <td>mcorr</td>\n",
       "      <td>plane_1</td>\n",
       "      <td>animal_01/session_01/save_gui.zarr</td>\n",
       "      <td>{'main': {'var_name_hdf5': ('plane_1',), 'max_...</td>\n",
       "      <td>None</td>\n",
       "      <td>2024-09-05T21:17:15</td>\n",
       "      <td>None</td>\n",
       "      <td>None</td>\n",
       "      <td>None</td>\n",
       "      <td>022bd6d4-9b25-4351-9d98-487db3d49cc6</td>\n",
       "    </tr>\n",
       "    <tr>\n",
       "      <th>3</th>\n",
       "      <td>mcorr</td>\n",
       "      <td>plane_1</td>\n",
       "      <td>animal_01/session_01/save_gui.zarr</td>\n",
       "      <td>{'main': {'var_name_hdf5': ('plane_1',), 'max_...</td>\n",
       "      <td>None</td>\n",
       "      <td>2024-09-05T21:17:15</td>\n",
       "      <td>None</td>\n",
       "      <td>None</td>\n",
       "      <td>None</td>\n",
       "      <td>2827c948-0a9a-431a-8dad-c16eaefadb85</td>\n",
       "    </tr>\n",
       "    <tr>\n",
       "      <th>4</th>\n",
       "      <td>mcorr</td>\n",
       "      <td>plane_2</td>\n",
       "      <td>animal_01/session_01/save_gui.zarr</td>\n",
       "      <td>{'main': {'var_name_hdf5': ('plane_2',), 'max_...</td>\n",
       "      <td>None</td>\n",
       "      <td>2024-09-05T21:17:15</td>\n",
       "      <td>None</td>\n",
       "      <td>None</td>\n",
       "      <td>None</td>\n",
       "      <td>a8450478-50f6-4d1e-bea8-e0a7d1b6b505</td>\n",
       "    </tr>\n",
       "    <tr>\n",
       "      <th>5</th>\n",
       "      <td>mcorr</td>\n",
       "      <td>plane_2</td>\n",
       "      <td>animal_01/session_01/save_gui.zarr</td>\n",
       "      <td>{'main': {'var_name_hdf5': ('plane_2',), 'max_...</td>\n",
       "      <td>None</td>\n",
       "      <td>2024-09-05T21:17:15</td>\n",
       "      <td>None</td>\n",
       "      <td>None</td>\n",
       "      <td>None</td>\n",
       "      <td>9a70bcb1-eb39-4218-bc97-21a13419167a</td>\n",
       "    </tr>\n",
       "    <tr>\n",
       "      <th>6</th>\n",
       "      <td>mcorr</td>\n",
       "      <td>plane_2</td>\n",
       "      <td>animal_01/session_01/save_gui.zarr</td>\n",
       "      <td>{'main': {'var_name_hdf5': ('plane_2',), 'max_...</td>\n",
       "      <td>None</td>\n",
       "      <td>2024-09-05T21:17:15</td>\n",
       "      <td>None</td>\n",
       "      <td>None</td>\n",
       "      <td>None</td>\n",
       "      <td>d78fe75c-b837-4872-a7f2-576878bf2b95</td>\n",
       "    </tr>\n",
       "    <tr>\n",
       "      <th>7</th>\n",
       "      <td>mcorr</td>\n",
       "      <td>plane_2</td>\n",
       "      <td>animal_01/session_01/save_gui.zarr</td>\n",
       "      <td>{'main': {'var_name_hdf5': ('plane_2',), 'max_...</td>\n",
       "      <td>None</td>\n",
       "      <td>2024-09-05T21:17:15</td>\n",
       "      <td>None</td>\n",
       "      <td>None</td>\n",
       "      <td>None</td>\n",
       "      <td>816653c1-ecd6-49a1-b57e-3d3a85ce4924</td>\n",
       "    </tr>\n",
       "  </tbody>\n",
       "</table>\n",
       "</div>"
      ],
      "text/plain": [
       "    algo item_name                    input_movie_path  \\\n",
       "0  mcorr   plane_1  animal_01/session_01/save_gui.zarr   \n",
       "1  mcorr   plane_1  animal_01/session_01/save_gui.zarr   \n",
       "2  mcorr   plane_1  animal_01/session_01/save_gui.zarr   \n",
       "3  mcorr   plane_1  animal_01/session_01/save_gui.zarr   \n",
       "4  mcorr   plane_2  animal_01/session_01/save_gui.zarr   \n",
       "5  mcorr   plane_2  animal_01/session_01/save_gui.zarr   \n",
       "6  mcorr   plane_2  animal_01/session_01/save_gui.zarr   \n",
       "7  mcorr   plane_2  animal_01/session_01/save_gui.zarr   \n",
       "\n",
       "                                              params outputs  \\\n",
       "0  {'main': {'var_name_hdf5': ('plane_1',), 'max_...    None   \n",
       "1  {'main': {'var_name_hdf5': ('plane_1',), 'max_...    None   \n",
       "2  {'main': {'var_name_hdf5': ('plane_1',), 'max_...    None   \n",
       "3  {'main': {'var_name_hdf5': ('plane_1',), 'max_...    None   \n",
       "4  {'main': {'var_name_hdf5': ('plane_2',), 'max_...    None   \n",
       "5  {'main': {'var_name_hdf5': ('plane_2',), 'max_...    None   \n",
       "6  {'main': {'var_name_hdf5': ('plane_2',), 'max_...    None   \n",
       "7  {'main': {'var_name_hdf5': ('plane_2',), 'max_...    None   \n",
       "\n",
       "            added_time ran_time algo_duration comments  \\\n",
       "0  2024-09-05T21:17:15     None          None     None   \n",
       "1  2024-09-05T21:17:15     None          None     None   \n",
       "2  2024-09-05T21:17:15     None          None     None   \n",
       "3  2024-09-05T21:17:15     None          None     None   \n",
       "4  2024-09-05T21:17:15     None          None     None   \n",
       "5  2024-09-05T21:17:15     None          None     None   \n",
       "6  2024-09-05T21:17:15     None          None     None   \n",
       "7  2024-09-05T21:17:15     None          None     None   \n",
       "\n",
       "                                   uuid  \n",
       "0  e5c7dd26-9583-43da-93c6-74b317115886  \n",
       "1  1886de10-9f55-4662-9641-9b016d5b5c84  \n",
       "2  022bd6d4-9b25-4351-9d98-487db3d49cc6  \n",
       "3  2827c948-0a9a-431a-8dad-c16eaefadb85  \n",
       "4  a8450478-50f6-4d1e-bea8-e0a7d1b6b505  \n",
       "5  9a70bcb1-eb39-4218-bc97-21a13419167a  \n",
       "6  d78fe75c-b837-4872-a7f2-576878bf2b95  \n",
       "7  816653c1-ecd6-49a1-b57e-3d3a85ce4924  "
      ]
     },
     "execution_count": 11,
     "metadata": {},
     "output_type": "execute_result"
    }
   ],
   "source": [
    "# copy the mcorr_params2 dict to make some changes\n",
    "# dont accidentally run this twice (making a huge dataframe)\n",
    "ran = False\n",
    "if not ran:\n",
    "  from copy import deepcopy\n",
    "\n",
    "  new_params = deepcopy(mcorr_params)\n",
    "  for plane in ['plane_1','plane_2']:\n",
    "    # some variants of max_shifts\n",
    "    for shifts in [2,64]: \n",
    "        for strides in [12,128]:\n",
    "            overlaps = int(strides / 2)\n",
    "            # deep copy is the safest way to copy dicts\n",
    "            new_params = deepcopy(new_params)\n",
    "\n",
    "            # assign the \"max_shifts\"\n",
    "            new_params[\"main\"][\"max_shifts\"] = (shifts, shifts)\n",
    "            new_params[\"main\"][\"strides\"] = (strides, strides)\n",
    "            new_params[\"main\"][\"overlaps\"] = (overlaps, overlaps)\n",
    "            new_params['main']['var_name_hdf5'] = plane,\n",
    "            df.caiman.add_item(\n",
    "              algo='mcorr',\n",
    "              item_name=plane,\n",
    "              input_movie_path=movie_path,\n",
    "              params=new_params\n",
    "            )\n",
    "            \n",
    "df.caiman.reload_from_disk()"
   ]
  },
  {
   "cell_type": "code",
   "execution_count": 9,
   "id": "1dd57a93",
   "metadata": {},
   "outputs": [],
   "source": [
    "for i, row in df.iterrows():\n",
    "    if i in range(0, 86):\n",
    "        df.caiman.remove_item(row.uuid)"
   ]
  },
  {
   "cell_type": "code",
   "execution_count": 10,
   "id": "02ceab4d",
   "metadata": {},
   "outputs": [
    {
     "data": {
      "text/html": [
       "<div>\n",
       "<style scoped>\n",
       "    .dataframe tbody tr th:only-of-type {\n",
       "        vertical-align: middle;\n",
       "    }\n",
       "\n",
       "    .dataframe tbody tr th {\n",
       "        vertical-align: top;\n",
       "    }\n",
       "\n",
       "    .dataframe thead th {\n",
       "        text-align: right;\n",
       "    }\n",
       "</style>\n",
       "<table border=\"1\" class=\"dataframe\">\n",
       "  <thead>\n",
       "    <tr style=\"text-align: right;\">\n",
       "      <th></th>\n",
       "      <th>algo</th>\n",
       "      <th>item_name</th>\n",
       "      <th>input_movie_path</th>\n",
       "      <th>params</th>\n",
       "      <th>outputs</th>\n",
       "      <th>added_time</th>\n",
       "      <th>ran_time</th>\n",
       "      <th>algo_duration</th>\n",
       "      <th>comments</th>\n",
       "      <th>uuid</th>\n",
       "    </tr>\n",
       "  </thead>\n",
       "  <tbody>\n",
       "  </tbody>\n",
       "</table>\n",
       "</div>"
      ],
      "text/plain": [
       "Empty DataFrame\n",
       "Columns: [algo, item_name, input_movie_path, params, outputs, added_time, ran_time, algo_duration, comments, uuid]\n",
       "Index: []"
      ]
     },
     "execution_count": 10,
     "metadata": {},
     "output_type": "execute_result"
    }
   ],
   "source": [
    "df.caiman.reload_from_disk()\n",
    "df"
   ]
  },
  {
   "cell_type": "code",
   "execution_count": 12,
   "id": "5a8878b8",
   "metadata": {},
   "outputs": [
    {
     "name": "stderr",
     "output_type": "stream",
     "text": [
      "2024-09-05 21:17:48.122342: E external/local_xla/xla/stream_executor/cuda/cuda_dnn.cc:9261] Unable to register cuDNN factory: Attempting to register factory for plugin cuDNN when one has already been registered\n",
      "2024-09-05 21:17:48.122379: E external/local_xla/xla/stream_executor/cuda/cuda_fft.cc:607] Unable to register cuFFT factory: Attempting to register factory for plugin cuFFT when one has already been registered\n",
      "2024-09-05 21:17:48.122796: E external/local_xla/xla/stream_executor/cuda/cuda_blas.cc:1515] Unable to register cuBLAS factory: Attempting to register factory for plugin cuBLAS when one has already been registered\n"
     ]
    },
    {
     "name": "stdout",
     "output_type": "stream",
     "text": [
      "starting mc\n",
      "mc failed, stored traceback in output\n"
     ]
    },
    {
     "name": "stderr",
     "output_type": "stream",
     "text": [
      "WARNING:root:In setting CNMFParams, non-pathed parameters were used; this is deprecated. In some future version of Caiman, allow_legacy will default to False (and eventually will be removed)\n",
      "2024-09-05 21:17:51.441055: E external/local_xla/xla/stream_executor/cuda/cuda_dnn.cc:9261] Unable to register cuDNN factory: Attempting to register factory for plugin cuDNN when one has already been registered\n",
      "2024-09-05 21:17:51.441086: E external/local_xla/xla/stream_executor/cuda/cuda_fft.cc:607] Unable to register cuFFT factory: Attempting to register factory for plugin cuFFT when one has already been registered\n",
      "2024-09-05 21:17:51.441541: E external/local_xla/xla/stream_executor/cuda/cuda_blas.cc:1515] Unable to register cuBLAS factory: Attempting to register factory for plugin cuBLAS when one has already been registered\n"
     ]
    },
    {
     "name": "stdout",
     "output_type": "stream",
     "text": [
      "starting mc\n",
      "mc failed, stored traceback in output\n"
     ]
    },
    {
     "name": "stderr",
     "output_type": "stream",
     "text": [
      "WARNING:root:In setting CNMFParams, non-pathed parameters were used; this is deprecated. In some future version of Caiman, allow_legacy will default to False (and eventually will be removed)\n",
      "2024-09-05 21:17:54.755268: E external/local_xla/xla/stream_executor/cuda/cuda_dnn.cc:9261] Unable to register cuDNN factory: Attempting to register factory for plugin cuDNN when one has already been registered\n",
      "2024-09-05 21:17:54.755302: E external/local_xla/xla/stream_executor/cuda/cuda_fft.cc:607] Unable to register cuFFT factory: Attempting to register factory for plugin cuFFT when one has already been registered\n",
      "2024-09-05 21:17:54.755687: E external/local_xla/xla/stream_executor/cuda/cuda_blas.cc:1515] Unable to register cuBLAS factory: Attempting to register factory for plugin cuBLAS when one has already been registered\n"
     ]
    },
    {
     "name": "stdout",
     "output_type": "stream",
     "text": [
      "starting mc\n",
      "mc failed, stored traceback in output\n"
     ]
    },
    {
     "name": "stderr",
     "output_type": "stream",
     "text": [
      "WARNING:root:In setting CNMFParams, non-pathed parameters were used; this is deprecated. In some future version of Caiman, allow_legacy will default to False (and eventually will be removed)\n",
      "2024-09-05 21:17:58.088073: E external/local_xla/xla/stream_executor/cuda/cuda_dnn.cc:9261] Unable to register cuDNN factory: Attempting to register factory for plugin cuDNN when one has already been registered\n",
      "2024-09-05 21:17:58.088107: E external/local_xla/xla/stream_executor/cuda/cuda_fft.cc:607] Unable to register cuFFT factory: Attempting to register factory for plugin cuFFT when one has already been registered\n",
      "2024-09-05 21:17:58.088514: E external/local_xla/xla/stream_executor/cuda/cuda_blas.cc:1515] Unable to register cuBLAS factory: Attempting to register factory for plugin cuBLAS when one has already been registered\n"
     ]
    },
    {
     "name": "stdout",
     "output_type": "stream",
     "text": [
      "starting mc\n",
      "mc failed, stored traceback in output\n"
     ]
    },
    {
     "name": "stderr",
     "output_type": "stream",
     "text": [
      "WARNING:root:In setting CNMFParams, non-pathed parameters were used; this is deprecated. In some future version of Caiman, allow_legacy will default to False (and eventually will be removed)\n",
      "2024-09-05 21:18:01.460784: E external/local_xla/xla/stream_executor/cuda/cuda_dnn.cc:9261] Unable to register cuDNN factory: Attempting to register factory for plugin cuDNN when one has already been registered\n",
      "2024-09-05 21:18:01.460817: E external/local_xla/xla/stream_executor/cuda/cuda_fft.cc:607] Unable to register cuFFT factory: Attempting to register factory for plugin cuFFT when one has already been registered\n",
      "2024-09-05 21:18:01.461207: E external/local_xla/xla/stream_executor/cuda/cuda_blas.cc:1515] Unable to register cuBLAS factory: Attempting to register factory for plugin cuBLAS when one has already been registered\n"
     ]
    },
    {
     "name": "stdout",
     "output_type": "stream",
     "text": [
      "starting mc\n",
      "mc failed, stored traceback in output\n"
     ]
    },
    {
     "name": "stderr",
     "output_type": "stream",
     "text": [
      "WARNING:root:In setting CNMFParams, non-pathed parameters were used; this is deprecated. In some future version of Caiman, allow_legacy will default to False (and eventually will be removed)\n",
      "2024-09-05 21:18:04.869103: E external/local_xla/xla/stream_executor/cuda/cuda_dnn.cc:9261] Unable to register cuDNN factory: Attempting to register factory for plugin cuDNN when one has already been registered\n",
      "2024-09-05 21:18:04.869133: E external/local_xla/xla/stream_executor/cuda/cuda_fft.cc:607] Unable to register cuFFT factory: Attempting to register factory for plugin cuFFT when one has already been registered\n",
      "2024-09-05 21:18:04.869512: E external/local_xla/xla/stream_executor/cuda/cuda_blas.cc:1515] Unable to register cuBLAS factory: Attempting to register factory for plugin cuBLAS when one has already been registered\n"
     ]
    },
    {
     "name": "stdout",
     "output_type": "stream",
     "text": [
      "starting mc\n",
      "mc failed, stored traceback in output\n"
     ]
    },
    {
     "name": "stderr",
     "output_type": "stream",
     "text": [
      "WARNING:root:In setting CNMFParams, non-pathed parameters were used; this is deprecated. In some future version of Caiman, allow_legacy will default to False (and eventually will be removed)\n",
      "2024-09-05 21:18:08.253514: E external/local_xla/xla/stream_executor/cuda/cuda_dnn.cc:9261] Unable to register cuDNN factory: Attempting to register factory for plugin cuDNN when one has already been registered\n",
      "2024-09-05 21:18:08.253549: E external/local_xla/xla/stream_executor/cuda/cuda_fft.cc:607] Unable to register cuFFT factory: Attempting to register factory for plugin cuFFT when one has already been registered\n",
      "2024-09-05 21:18:08.253936: E external/local_xla/xla/stream_executor/cuda/cuda_blas.cc:1515] Unable to register cuBLAS factory: Attempting to register factory for plugin cuBLAS when one has already been registered\n"
     ]
    },
    {
     "name": "stdout",
     "output_type": "stream",
     "text": [
      "starting mc\n",
      "mc failed, stored traceback in output\n"
     ]
    },
    {
     "name": "stderr",
     "output_type": "stream",
     "text": [
      "WARNING:root:In setting CNMFParams, non-pathed parameters were used; this is deprecated. In some future version of Caiman, allow_legacy will default to False (and eventually will be removed)\n",
      "2024-09-05 21:18:11.603943: E external/local_xla/xla/stream_executor/cuda/cuda_dnn.cc:9261] Unable to register cuDNN factory: Attempting to register factory for plugin cuDNN when one has already been registered\n",
      "2024-09-05 21:18:11.603977: E external/local_xla/xla/stream_executor/cuda/cuda_fft.cc:607] Unable to register cuFFT factory: Attempting to register factory for plugin cuFFT when one has already been registered\n",
      "2024-09-05 21:18:11.604384: E external/local_xla/xla/stream_executor/cuda/cuda_blas.cc:1515] Unable to register cuBLAS factory: Attempting to register factory for plugin cuBLAS when one has already been registered\n"
     ]
    },
    {
     "name": "stdout",
     "output_type": "stream",
     "text": [
      "starting mc\n",
      "mc failed, stored traceback in output\n"
     ]
    },
    {
     "name": "stderr",
     "output_type": "stream",
     "text": [
      "WARNING:root:In setting CNMFParams, non-pathed parameters were used; this is deprecated. In some future version of Caiman, allow_legacy will default to False (and eventually will be removed)\n"
     ]
    }
   ],
   "source": [
    "for i, row in df.iterrows():\n",
    "    if row[\"outputs\"] is not None: # item has already been run\n",
    "        continue # skip\n",
    "        \n",
    "    process = row.caiman.run()\n",
    "    \n",
    "    # on Windows you MUST reload the batch dataframe after every iteration because it uses the `local` backend.\n",
    "    # this is unnecessary on Linux & Mac\n",
    "    # \"DummyProcess\" is used for local backend so this is automatic\n",
    "    if process.__class__.__name__ == \"DummyProcess\":\n",
    "        df = df.caiman.reload_from_disk()"
   ]
  },
  {
   "cell_type": "code",
   "execution_count": 16,
   "id": "0bd1bb44",
   "metadata": {},
   "outputs": [
    {
     "name": "stdout",
     "output_type": "stream",
     "text": [
      "{'success': False, 'traceback': 'Traceback (most recent call last):\\n  File \"/home/mbo/miniconda3/envs/mbo-caiman/lib/python3.11/site-packages/mesmerize_core/algorithms/mcorr.py\", line 68, in run_algo\\n    mc.motion_correct(save_movie=True)\\n  File \"/home/mbo/miniconda3/envs/mbo-caiman/lib/python3.11/site-packages/caiman/motion_correction.py\", line 234, in motion_correct\\n    mi = min(mi, next(iterator).min()[()])\\n                 ^^^^^^^^^^^^^^\\n  File \"/home/mbo/miniconda3/envs/mbo-caiman/lib/python3.11/site-packages/caiman/base/movies.py\", line 1901, in load_iter\\n    for y in Y:\\nTypeError: \\'NoneType\\' object is not iterable\\n'}\n"
     ]
    }
   ],
   "source": [
    "df = df.caiman.reload_from_disk()\n",
    "print(df.iloc[0].outputs)"
   ]
  },
  {
   "cell_type": "code",
   "execution_count": 43,
   "id": "b6992c8a-f471-4c90-b69f-fd6ca7660e33",
   "metadata": {
    "execution": {
     "iopub.execute_input": "2024-05-24T04:39:04.885286Z",
     "iopub.status.busy": "2024-05-24T04:39:04.884492Z",
     "iopub.status.idle": "2024-05-24T04:39:05.031454Z",
     "shell.execute_reply": "2024-05-24T04:39:05.025816Z",
     "shell.execute_reply.started": "2024-05-24T04:39:04.885180Z"
    }
   },
   "outputs": [
    {
     "data": {
      "text/plain": [
       "(10, 10)"
      ]
     },
     "execution_count": 43,
     "metadata": {},
     "output_type": "execute_result"
    }
   ],
   "source": [
    "# Now use more physiologically relevant parameter values\n",
    "\n",
    "pix_res = 1\n",
    "\n",
    "mx = 10/pix_res             \n",
    "max_shifts = (int(mx), int(mx))       # maximum allowed rigid shift in pixels (view the movie to get a sense of motion)\n",
    "max_deviation_rigid = 3     # maximum deviation allowed for patch with respect to rigid shifts\n",
    "pw_rigid = True             # flag for performing rigid or piecewise rigid motion correction\n",
    "shifts_opencv = True        # flag for correcting motion using bicubic interpolation (otherwise FFT interpolation is used)\n",
    "border_nan = 'copy'  # replicate values along the boundary (if True, fill in with NaN)\n",
    "max_shifts"
   ]
  },
  {
   "cell_type": "code",
   "execution_count": null,
   "id": "a0f87b83",
   "metadata": {},
   "outputs": [],
   "source": []
  },
  {
   "cell_type": "code",
   "execution_count": null,
   "id": "354b2103",
   "metadata": {},
   "outputs": [],
   "source": []
  },
  {
   "cell_type": "code",
   "execution_count": 44,
   "id": "da40bf2b-003b-4b2f-b795-7c72ed25feaf",
   "metadata": {
    "execution": {
     "iopub.execute_input": "2024-05-24T05:26:35.985029Z",
     "iopub.status.busy": "2024-05-24T05:26:35.983925Z"
    }
   },
   "outputs": [],
   "source": [
    "# Set parameters for rigid motion correction\n",
    "mcorr_params_2 =\\\n",
    "{ 'main':\n",
    "    {\n",
    "        'var_name_hdf5': 'plane_1',\n",
    "        'max_shifts': max_shifts,   # max shift in pixels\n",
    "        'strides': (48, 48),        # create a new patch every x pixels for pw-rigid correction\n",
    "                                    # NOTE: \"stride\" for cnmf, \"strides\" for mcorr\n",
    "        'overlaps': (24, 24),       # overlap between patches (size of patch strides+overlaps)\n",
    "        'max_deviation_rigid': 3,   # maximum deviation allowed for patch with respect to rigid shifts\n",
    "        'pw_rigid': True,          # flag for performing rigid or piecewise rigid motion correction\n",
    "        'shifts_opencv': True,      # flag for correcting motion using bicubic interpolation (otherwise FFT interpolation is used)\n",
    "        'border_nan': 'copy',       # replicate values along the boundary (if True, fill in with NaN)\n",
    "        'nonneg_movie': False,\n",
    "    }\n",
    "}"
   ]
  },
  {
   "cell_type": "code",
   "execution_count": 48,
   "id": "bbceb2ff",
   "metadata": {},
   "outputs": [
    {
     "data": {
      "text/html": [
       "<div>\n",
       "<style scoped>\n",
       "    .dataframe tbody tr th:only-of-type {\n",
       "        vertical-align: middle;\n",
       "    }\n",
       "\n",
       "    .dataframe tbody tr th {\n",
       "        vertical-align: top;\n",
       "    }\n",
       "\n",
       "    .dataframe thead th {\n",
       "        text-align: right;\n",
       "    }\n",
       "</style>\n",
       "<table border=\"1\" class=\"dataframe\">\n",
       "  <thead>\n",
       "    <tr style=\"text-align: right;\">\n",
       "      <th></th>\n",
       "      <th>algo</th>\n",
       "      <th>item_name</th>\n",
       "      <th>input_movie_path</th>\n",
       "      <th>params</th>\n",
       "      <th>outputs</th>\n",
       "      <th>added_time</th>\n",
       "      <th>ran_time</th>\n",
       "      <th>algo_duration</th>\n",
       "      <th>comments</th>\n",
       "      <th>uuid</th>\n",
       "    </tr>\n",
       "  </thead>\n",
       "  <tbody>\n",
       "    <tr>\n",
       "      <th>0</th>\n",
       "      <td>mcorr</td>\n",
       "      <td>plane_1</td>\n",
       "      <td>save_gui</td>\n",
       "      <td>{'main': {'var_name_hdf5': 'plane_1', 'max_shi...</td>\n",
       "      <td>{'success': False, 'traceback': 'Traceback (mo...</td>\n",
       "      <td>2024-09-05T19:30:10</td>\n",
       "      <td>2024-09-05T19:30:35</td>\n",
       "      <td>0.11 sec</td>\n",
       "      <td>None</td>\n",
       "      <td>30b14eb5-9a25-401f-8fda-f89037c58c50</td>\n",
       "    </tr>\n",
       "  </tbody>\n",
       "</table>\n",
       "</div>"
      ],
      "text/plain": [
       "    algo item_name input_movie_path  \\\n",
       "0  mcorr   plane_1         save_gui   \n",
       "\n",
       "                                              params  \\\n",
       "0  {'main': {'var_name_hdf5': 'plane_1', 'max_shi...   \n",
       "\n",
       "                                             outputs           added_time  \\\n",
       "0  {'success': False, 'traceback': 'Traceback (mo...  2024-09-05T19:30:10   \n",
       "\n",
       "              ran_time algo_duration comments  \\\n",
       "0  2024-09-05T19:30:35      0.11 sec     None   \n",
       "\n",
       "                                   uuid  \n",
       "0  30b14eb5-9a25-401f-8fda-f89037c58c50  "
      ]
     },
     "execution_count": 48,
     "metadata": {},
     "output_type": "execute_result"
    }
   ],
   "source": [
    "if df.empty:\n",
    "        # add other param variant to the batch\n",
    "    df.caiman.add_item(\n",
    "    algo='mcorr',\n",
    "    item_name='plane_1',\n",
    "    input_movie_path=parent_dir,\n",
    "    params=mcorr_params\n",
    "    )\n",
    "\n",
    "df = df.caiman.reload_from_disk()\n",
    "df"
   ]
  },
  {
   "cell_type": "code",
   "execution_count": 46,
   "id": "541bafbd",
   "metadata": {},
   "outputs": [
    {
     "name": "stderr",
     "output_type": "stream",
     "text": [
      "2024-09-05 19:30:34.654339: E external/local_xla/xla/stream_executor/cuda/cuda_dnn.cc:9261] Unable to register cuDNN factory: Attempting to register factory for plugin cuDNN when one has already been registered\n",
      "2024-09-05 19:30:34.654368: E external/local_xla/xla/stream_executor/cuda/cuda_fft.cc:607] Unable to register cuFFT factory: Attempting to register factory for plugin cuFFT when one has already been registered\n",
      "2024-09-05 19:30:34.654752: E external/local_xla/xla/stream_executor/cuda/cuda_blas.cc:1515] Unable to register cuBLAS factory: Attempting to register factory for plugin cuBLAS when one has already been registered\n"
     ]
    },
    {
     "name": "stdout",
     "output_type": "stream",
     "text": [
      "starting mc\n",
      "test\n",
      "\n",
      "/home/mbo/caiman_data/animal_01/session_01/save_gui\n",
      "mc failed, stored traceback in output\n"
     ]
    },
    {
     "name": "stderr",
     "output_type": "stream",
     "text": [
      "The local backend is an alias for the multiprocessing backend, and the alias may be removed in some future version of Caiman\n",
      "WARNING:root:In setting CNMFParams, non-pathed parameters were used; this is deprecated. In some future version of Caiman, allow_legacy will default to False (and eventually will be removed)\n"
     ]
    },
    {
     "data": {
      "text/plain": [
       "<Popen: returncode: 0 args: '/home/mbo/caiman_data/animal_01/session_01/save...>"
      ]
     },
     "execution_count": 46,
     "metadata": {},
     "output_type": "execute_result"
    }
   ],
   "source": [
    "df.iloc[0].caiman.run()"
   ]
  },
  {
   "cell_type": "code",
   "execution_count": 49,
   "id": "774bbafd",
   "metadata": {},
   "outputs": [
    {
     "data": {
      "text/plain": [
       "'Traceback (most recent call last):\\n  File \"/home/mbo/miniconda3/envs/mbo-caiman/lib/python3.11/site-packages/mesmerize_core/algorithms/mcorr.py\", line 68, in run_algo\\n    mc.motion_correct(save_movie=True)\\n  File \"/home/mbo/miniconda3/envs/mbo-caiman/lib/python3.11/site-packages/caiman/motion_correction.py\", line 234, in motion_correct\\n    mi = min(mi, next(iterator).min()[()])\\n                 ^^^^^^^^^^^^^^\\n  File \"/home/mbo/miniconda3/envs/mbo-caiman/lib/python3.11/site-packages/caiman/base/movies.py\", line 1916, in load_iter\\n    for y in load(file_name, var_name_hdf5=var_name_hdf5,\\n             ^^^^^^^^^^^^^^^^^^^^^^^^^^^^^^^^^^^^^^^^^^^^\\n  File \"/home/mbo/miniconda3/envs/mbo-caiman/lib/python3.11/site-packages/caiman/base/movies.py\", line 1521, in load\\n    raise Exception(\\'Unknown file type\\')\\nException: Unknown file type\\n'"
      ]
     },
     "execution_count": 49,
     "metadata": {},
     "output_type": "execute_result"
    }
   ],
   "source": [
    "df.iloc[0].outputs['traceback']"
   ]
  },
  {
   "cell_type": "markdown",
   "id": "2de2ca80-79bd-4d2b-b688-d7851981bbf2",
   "metadata": {},
   "source": [
    "### View rigid template"
   ]
  },
  {
   "cell_type": "code",
   "execution_count": null,
   "id": "1764276b-63bb-4622-a0c9-6c324ae8f5fc",
   "metadata": {},
   "outputs": [],
   "source": [
    "# load motion corrected movie\n",
    "m_rig = cm.load(mc_rigid.mmap_file)\n",
    "bord_px_rig = np.ceil(np.max(mc_rigid.shifts_rig)).astype(int)\n",
    "##%% visualize templates\n",
    "plt.figure(figsize = (20,10))\n",
    "plt.imshow(mc_rigid.total_template_rig, cmap = 'gray');"
   ]
  },
  {
   "cell_type": "markdown",
   "id": "539577b4-b2c9-4c73-8e4b-4e875c2aed3c",
   "metadata": {},
   "source": [
    "Rigid-corrected movie"
   ]
  },
  {
   "cell_type": "code",
   "execution_count": null,
   "id": "156cfa3d-9b85-4573-a303-d51a033134fc",
   "metadata": {},
   "outputs": [],
   "source": [
    "##%% inspect movie\n",
    "m_rig.resize(1, 1, downsample_ratio).play(\n",
    "    q_max=99.5, fr=30, magnification=2, bord_px = 0*bord_px_rig) # press q to exit"
   ]
  },
  {
   "cell_type": "markdown",
   "id": "108adc2c-2eab-4642-90ac-9f419e2dc664",
   "metadata": {},
   "source": [
    "Rigid Template shifts"
   ]
  },
  {
   "cell_type": "code",
   "execution_count": null,
   "id": "26c15518-000b-41cc-b1d5-10dceb66ad87",
   "metadata": {
    "execution": {
     "iopub.execute_input": "2024-05-24T05:24:54.182119Z",
     "iopub.status.busy": "2024-05-24T05:24:54.181095Z",
     "iopub.status.idle": "2024-05-24T05:24:55.226221Z",
     "shell.execute_reply": "2024-05-24T05:24:55.224854Z",
     "shell.execute_reply.started": "2024-05-24T05:24:54.181972Z"
    }
   },
   "outputs": [],
   "source": [
    "##%% plot rigid shifts\n",
    "plt.close()\n",
    "plt.figure(figsize = (20,10))\n",
    "plt.plot(mc_rigid.shifts_rig)\n",
    "plt.legend(['x shifts','y shifts'])\n",
    "plt.xlabel('frames')\n",
    "plt.ylabel('pixels');"
   ]
  },
  {
   "cell_type": "code",
   "execution_count": null,
   "id": "0b8c02e6",
   "metadata": {
    "execution": {
     "iopub.execute_input": "2024-05-24T01:26:18.589089Z",
     "iopub.status.busy": "2024-05-24T01:26:18.587920Z",
     "iopub.status.idle": "2024-05-24T01:26:19.924979Z",
     "shell.execute_reply": "2024-05-24T01:26:19.924050Z",
     "shell.execute_reply.started": "2024-05-24T01:26:18.588939Z"
    },
    "scrolled": true
   },
   "outputs": [],
   "source": [
    "# correct for rigid motion correction and save the file (in memory mapped form)\n",
    "mc.motion_correct(save_movie=True)"
   ]
  },
  {
   "cell_type": "markdown",
   "id": "b1f6aa2f-0219-4961-bde1-59dc425bb09d",
   "metadata": {},
   "source": [
    "\n",
    "## Piecewise rigid registration\n",
    "\n",
    "While rigid registration corrected for a lot of the movement, there is still non-uniform motion present in the registered file.\n",
    "\n",
    "- To correct for that we can use piece-wise rigid registration directly in the original file by setting mc.pw_rigid=True.\n",
    "- As before the registered file is saved in a memory mapped format in the location given by mc.mmap_file.\n"
   ]
  },
  {
   "cell_type": "code",
   "execution_count": null,
   "id": "e3df52d6-a545-452f-a197-f273723550eb",
   "metadata": {},
   "outputs": [],
   "source": [
    "%%capture\n",
    "##%% motion correct piecewise rigid\n",
    "mc.pw_rigid = True  # turn the flag to True for pw-rigid motion correction\n",
    "mc.template = mc.mmap_file  # use the template obtained before to save in computation (optional)\n",
    "\n",
    "mc.motion_correct(save_movie=True, template=mc.total_template_rig)\n",
    "m_els = cm.load(mc.fname_tot_els)\n",
    "m_els.resize(1, 1, downsample_ratio).play(\n",
    "    q_max=99.5, fr=30, magnification=2,bord_px = bord_px_rig)"
   ]
  },
  {
   "cell_type": "markdown",
   "id": "65ad4a66",
   "metadata": {},
   "source": [
    "## Correlation metrics\n",
    "\n",
    "Create a couple of summary images of the movie, including:\n",
    "- maximum projection (the maximum value of each pixel) \n",
    "- correlation image (how correlated each pixel is with its neighbors)\n",
    "\n",
    "If a pixel comes from an active neural component it will tend to be highly correlated with its neighbors."
   ]
  },
  {
   "cell_type": "code",
   "execution_count": null,
   "id": "8c9cb191-fa95-4e92-96c2-ffb9b9fc008d",
   "metadata": {},
   "outputs": [],
   "source": [
    "plt.close()\n",
    "plt.figure(figsize = (20,10))\n",
    "plt.subplot(2, 1, 1)\n",
    "plt.plot(mc.x_shifts_els)\n",
    "plt.ylabel('x shifts (pixels)')\n",
    "plt.subplot(2, 1, 2)\n",
    "plt.plot(mc.y_shifts_els)\n",
    "plt.ylabel('y_shifts (pixels)')\n",
    "plt.xlabel('frames')\n",
    "##%% compute borders to exclude\n",
    "bord_px_els = np.ceil(np.maximum(np.max(np.abs(mc.x_shifts_els)),\n",
    "                                 np.max(np.abs(mc.y_shifts_els)))).astype(int)"
   ]
  },
  {
   "cell_type": "markdown",
   "id": "53b7c3cc-fd30-4ce0-9366-ff2b0356573f",
   "metadata": {},
   "source": [
    "## Motion Corretion: Optical Flow"
   ]
  },
  {
   "cell_type": "code",
   "execution_count": null,
   "id": "d74be0b7-41fe-4d4f-a415-184da72283e2",
   "metadata": {},
   "outputs": [],
   "source": [
    "##%% plot the results of Residual Optical Flow\n",
    "fls = [cm.paths.fname_derived_presuffix(mc.fname_tot_els[0], 'metrics', swapsuffix='npz'),\n",
    "       cm.paths.fname_derived_presuffix(mc.fname_tot_rig[0], 'metrics', swapsuffix='npz'),\n",
    "       cm.paths.fname_derived_presuffix(mc.fname[0],         'metrics', swapsuffix='npz'),\n",
    "      ]\n",
    "\n",
    "plt.figure(figsize = (20,10))\n",
    "for cnt, fl, metr in zip(range(len(fls)), fls, ['pw_rigid','rigid','raw']):\n",
    "    with np.load(fl) as ld:\n",
    "        print(ld.keys())\n",
    "        print(fl)\n",
    "        print(str(np.mean(ld['norms'])) + '+/-' + str(np.std(ld['norms'])) +\n",
    "              ' ; ' + str(ld['smoothness']) + ' ; ' + str(ld['smoothness_corr']))\n",
    "        \n",
    "        plt.subplot(len(fls), 3, 1 + 3 * cnt)\n",
    "        plt.ylabel(metr)\n",
    "        print(f\"Loading data with base {fl[:-12]}\")\n",
    "        try:\n",
    "            mean_img = np.mean(\n",
    "            cm.load(fl[:-12] + '.mmap'), 0)[12:-12, 12:-12]\n",
    "        except:\n",
    "            try:\n",
    "                mean_img = np.mean(\n",
    "                    cm.load(fl[:-12] + '.tif'), 0)[12:-12, 12:-12]\n",
    "            except:\n",
    "                mean_img = np.mean(\n",
    "                    cm.load(fl[:-12] + 'hdf5'), 0)[12:-12, 12:-12]\n",
    "                    \n",
    "        lq, hq = np.nanpercentile(mean_img, [.5, 99.5])\n",
    "        plt.imshow(mean_img, vmin=lq, vmax=hq)\n",
    "        plt.title('Mean')\n",
    "        plt.subplot(len(fls), 3, 3 * cnt + 2)\n",
    "        plt.imshow(ld['img_corr'], vmin=0, vmax=.35)\n",
    "        plt.title('Corr image')\n",
    "        plt.subplot(len(fls), 3, 3 * cnt + 3)\n",
    "        flows = ld['flows']\n",
    "        plt.imshow(np.mean(\n",
    "        np.sqrt(flows[:, :, :, 0]**2 + flows[:, :, :, 1]**2), 0), vmin=0, vmax=0.3)\n",
    "        plt.colorbar()\n",
    "        plt.title('Mean optical flow');  "
   ]
  },
  {
   "cell_type": "markdown",
   "id": "760aeaa6-1aeb-45d9-89a9-f5a6c1555ebe",
   "metadata": {},
   "source": [
    "# Cleanup\n",
    "\n",
    "Make sure our parallel cluster is shut down."
   ]
  },
  {
   "cell_type": "code",
   "execution_count": null,
   "id": "d99671c6",
   "metadata": {
    "scrolled": true
   },
   "outputs": [],
   "source": [
    "if 'dview' in locals():\n",
    "    cm.stop_server(dview=dview)\n",
    "elif 'cluster' in locals():\n",
    "    cm.stop_server(dview=cluster)"
   ]
  }
 ],
 "metadata": {
  "kernelspec": {
   "display_name": "Python 3 (ipykernel)",
   "language": "python",
   "name": "python3"
  },
  "language_info": {
   "codemirror_mode": {
    "name": "ipython",
    "version": 3
   },
   "file_extension": ".py",
   "mimetype": "text/x-python",
   "name": "python",
   "nbconvert_exporter": "python",
   "pygments_lexer": "ipython3",
   "version": "3.11.9"
  },
  "widgets": {
   "application/vnd.jupyter.widget-state+json": {
    "state": {},
    "version_major": 2,
    "version_minor": 0
   }
  }
 },
 "nbformat": 4,
 "nbformat_minor": 5
}
