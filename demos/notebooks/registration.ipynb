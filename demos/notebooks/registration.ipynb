{
 "cells": [
  {
   "cell_type": "markdown",
   "id": "dbb6bb2d-6a7e-4578-bc24-d93aa638c7e3",
   "metadata": {},
   "source": [
    "# LBM Step 2: Registration\n",
    "\n",
    "## Registration: Correct for rigid/non-rigid movement\n",
    "\n",
    "- Apply the nonrigid motion correction (NoRMCorre) algorithm for motion correction.\n",
    "- View pre/most correction movie\n",
    "- Use quality metrics to evaluate registration quality"
   ]
  },
  {
   "cell_type": "code",
   "execution_count": 2,
   "id": "8aa5aa21-1f82-4d37-b2ad-1c0239d1d38f",
   "metadata": {
    "execution": {
     "iopub.execute_input": "2024-05-25T04:23:50.439658Z",
     "iopub.status.busy": "2024-05-25T04:23:50.439225Z",
     "iopub.status.idle": "2024-05-25T04:23:58.647432Z",
     "shell.execute_reply": "2024-05-25T04:23:58.646924Z",
     "shell.execute_reply.started": "2024-05-25T04:23:50.439631Z"
    },
    "jupyter": {
     "is_executing": true
    }
   },
   "outputs": [
    {
     "ename": "AttributeError",
     "evalue": "partially initialized module 'caiman' has no attribute 'base' (most likely due to a circular import)",
     "output_type": "error",
     "traceback": [
      "\u001b[0;31m---------------------------------------------------------------------------\u001b[0m",
      "\u001b[0;31mAttributeError\u001b[0m                            Traceback (most recent call last)",
      "Cell \u001b[0;32mIn[2], line 8\u001b[0m\n\u001b[1;32m      5\u001b[0m \u001b[38;5;28;01mimport\u001b[39;00m \u001b[38;5;21;01mcv2\u001b[39;00m\n\u001b[1;32m      7\u001b[0m \u001b[38;5;28;01mimport\u001b[39;00m \u001b[38;5;21;01mlogging\u001b[39;00m\n\u001b[0;32m----> 8\u001b[0m \u001b[38;5;28;01mimport\u001b[39;00m \u001b[38;5;21;01mmesmerize_core\u001b[39;00m \u001b[38;5;28;01mas\u001b[39;00m \u001b[38;5;21;01mmc\u001b[39;00m\n\u001b[1;32m      9\u001b[0m \u001b[38;5;28;01mimport\u001b[39;00m \u001b[38;5;21;01mmatplotlib\u001b[39;00m\u001b[38;5;21;01m.\u001b[39;00m\u001b[38;5;21;01mpyplot\u001b[39;00m \u001b[38;5;28;01mas\u001b[39;00m \u001b[38;5;21;01mplt\u001b[39;00m\n\u001b[1;32m     11\u001b[0m \u001b[38;5;28;01mtry\u001b[39;00m:\n",
      "File \u001b[0;32m~/miniconda3/envs/mbo-caiman/lib/python3.11/site-packages/mesmerize_core/__init__.py:7\u001b[0m\n\u001b[1;32m      1\u001b[0m \u001b[38;5;28;01mfrom\u001b[39;00m \u001b[38;5;21;01m.\u001b[39;00m\u001b[38;5;21;01mbatch_utils\u001b[39;00m \u001b[38;5;28;01mimport\u001b[39;00m (\n\u001b[1;32m      2\u001b[0m     set_parent_raw_data_path,\n\u001b[1;32m      3\u001b[0m     get_parent_raw_data_path,\n\u001b[1;32m      4\u001b[0m     load_batch,\n\u001b[1;32m      5\u001b[0m     create_batch,\n\u001b[1;32m      6\u001b[0m )\n\u001b[0;32m----> 7\u001b[0m \u001b[38;5;28;01mfrom\u001b[39;00m \u001b[38;5;21;01m.\u001b[39;00m\u001b[38;5;21;01mcaiman_extensions\u001b[39;00m \u001b[38;5;28;01mimport\u001b[39;00m \u001b[38;5;241m*\u001b[39m\n\u001b[1;32m      8\u001b[0m \u001b[38;5;28;01mfrom\u001b[39;00m \u001b[38;5;21;01mpathlib\u001b[39;00m \u001b[38;5;28;01mimport\u001b[39;00m Path\n\u001b[1;32m     11\u001b[0m \u001b[38;5;28;01mwith\u001b[39;00m \u001b[38;5;28mopen\u001b[39m(Path(\u001b[38;5;18m__file__\u001b[39m)\u001b[38;5;241m.\u001b[39mparent\u001b[38;5;241m.\u001b[39mjoinpath(\u001b[38;5;124m\"\u001b[39m\u001b[38;5;124mVERSION\u001b[39m\u001b[38;5;124m\"\u001b[39m), \u001b[38;5;124m\"\u001b[39m\u001b[38;5;124mr\u001b[39m\u001b[38;5;124m\"\u001b[39m) \u001b[38;5;28;01mas\u001b[39;00m f:\n",
      "File \u001b[0;32m~/miniconda3/envs/mbo-caiman/lib/python3.11/site-packages/mesmerize_core/caiman_extensions/__init__.py:1\u001b[0m\n\u001b[0;32m----> 1\u001b[0m \u001b[38;5;28;01mfrom\u001b[39;00m \u001b[38;5;21;01m.\u001b[39;00m\u001b[38;5;21;01mcommon\u001b[39;00m \u001b[38;5;28;01mimport\u001b[39;00m CaimanDataFrameExtensions, CaimanSeriesExtensions\n\u001b[1;32m      2\u001b[0m \u001b[38;5;28;01mfrom\u001b[39;00m \u001b[38;5;21;01m.\u001b[39;00m\u001b[38;5;21;01mmcorr\u001b[39;00m \u001b[38;5;28;01mimport\u001b[39;00m MCorrExtensions\n\u001b[1;32m      3\u001b[0m \u001b[38;5;28;01mfrom\u001b[39;00m \u001b[38;5;21;01m.\u001b[39;00m\u001b[38;5;21;01mcnmf\u001b[39;00m \u001b[38;5;28;01mimport\u001b[39;00m CNMFExtensions\n",
      "File \u001b[0;32m~/miniconda3/envs/mbo-caiman/lib/python3.11/site-packages/mesmerize_core/caiman_extensions/common.py:26\u001b[0m\n\u001b[1;32m     18\u001b[0m \u001b[38;5;28;01mfrom\u001b[39;00m \u001b[38;5;21;01m.\u001b[39;00m\u001b[38;5;21;01m.\u001b[39;00m\u001b[38;5;21;01mbatch_utils\u001b[39;00m \u001b[38;5;28;01mimport\u001b[39;00m (\n\u001b[1;32m     19\u001b[0m     COMPUTE_BACKENDS,\n\u001b[1;32m     20\u001b[0m     COMPUTE_BACKEND_SUBPROCESS,\n\u001b[0;32m   (...)\u001b[0m\n\u001b[1;32m     23\u001b[0m     load_batch\n\u001b[1;32m     24\u001b[0m )\n\u001b[1;32m     25\u001b[0m \u001b[38;5;28;01mfrom\u001b[39;00m \u001b[38;5;21;01m.\u001b[39;00m\u001b[38;5;21;01m.\u001b[39;00m\u001b[38;5;21;01mutils\u001b[39;00m \u001b[38;5;28;01mimport\u001b[39;00m validate_path, IS_WINDOWS, make_runfile, warning_experimental\n\u001b[0;32m---> 26\u001b[0m \u001b[38;5;28;01mfrom\u001b[39;00m \u001b[38;5;21;01m.\u001b[39;00m\u001b[38;5;21;01mcnmf\u001b[39;00m \u001b[38;5;28;01mimport\u001b[39;00m cnmf_cache\n\u001b[1;32m     27\u001b[0m \u001b[38;5;28;01mfrom\u001b[39;00m \u001b[38;5;21;01m.\u001b[39;00m\u001b[38;5;21;01m.\u001b[39;00m \u001b[38;5;28;01mimport\u001b[39;00m algorithms\n\u001b[1;32m     28\u001b[0m \u001b[38;5;28;01mfrom\u001b[39;00m \u001b[38;5;21;01m.\u001b[39;00m\u001b[38;5;21;01m.\u001b[39;00m\u001b[38;5;21;01mmovie_readers\u001b[39;00m \u001b[38;5;28;01mimport\u001b[39;00m default_reader\n",
      "File \u001b[0;32m~/miniconda3/envs/mbo-caiman/lib/python3.11/site-packages/mesmerize_core/caiman_extensions/cnmf.py:5\u001b[0m\n\u001b[1;32m      3\u001b[0m \u001b[38;5;28;01mimport\u001b[39;00m \u001b[38;5;21;01mnumpy\u001b[39;00m \u001b[38;5;28;01mas\u001b[39;00m \u001b[38;5;21;01mnp\u001b[39;00m\n\u001b[1;32m      4\u001b[0m \u001b[38;5;28;01mimport\u001b[39;00m \u001b[38;5;21;01mpandas\u001b[39;00m \u001b[38;5;28;01mas\u001b[39;00m \u001b[38;5;21;01mpd\u001b[39;00m\n\u001b[0;32m----> 5\u001b[0m \u001b[38;5;28;01mfrom\u001b[39;00m \u001b[38;5;21;01mcaiman\u001b[39;00m \u001b[38;5;28;01mimport\u001b[39;00m load_memmap\n\u001b[1;32m      6\u001b[0m \u001b[38;5;28;01mfrom\u001b[39;00m \u001b[38;5;21;01mcaiman\u001b[39;00m\u001b[38;5;21;01m.\u001b[39;00m\u001b[38;5;21;01msource_extraction\u001b[39;00m\u001b[38;5;21;01m.\u001b[39;00m\u001b[38;5;21;01mcnmf\u001b[39;00m \u001b[38;5;28;01mimport\u001b[39;00m CNMF\n\u001b[1;32m      7\u001b[0m \u001b[38;5;28;01mfrom\u001b[39;00m \u001b[38;5;21;01mcaiman\u001b[39;00m\u001b[38;5;21;01m.\u001b[39;00m\u001b[38;5;21;01msource_extraction\u001b[39;00m\u001b[38;5;21;01m.\u001b[39;00m\u001b[38;5;21;01mcnmf\u001b[39;00m\u001b[38;5;21;01m.\u001b[39;00m\u001b[38;5;21;01mcnmf\u001b[39;00m \u001b[38;5;28;01mimport\u001b[39;00m load_CNMF\n",
      "File \u001b[0;32m~/miniconda3/envs/mbo-caiman/lib/python3.11/site-packages/caiman/__init__.py:4\u001b[0m\n\u001b[1;32m      1\u001b[0m \u001b[38;5;66;03m#!/usr/bin/env python\u001b[39;00m\n\u001b[1;32m      3\u001b[0m \u001b[38;5;28;01mimport\u001b[39;00m \u001b[38;5;21;01mpkg_resources\u001b[39;00m\n\u001b[0;32m----> 4\u001b[0m \u001b[38;5;28;01mfrom\u001b[39;00m \u001b[38;5;21;01mcaiman\u001b[39;00m\u001b[38;5;21;01m.\u001b[39;00m\u001b[38;5;21;01mbase\u001b[39;00m\u001b[38;5;21;01m.\u001b[39;00m\u001b[38;5;21;01mmovies\u001b[39;00m \u001b[38;5;28;01mimport\u001b[39;00m movie, load, load_movie_chain, _load_behavior, play_movie\n\u001b[1;32m      5\u001b[0m \u001b[38;5;28;01mfrom\u001b[39;00m \u001b[38;5;21;01mcaiman\u001b[39;00m\u001b[38;5;21;01m.\u001b[39;00m\u001b[38;5;21;01mbase\u001b[39;00m\u001b[38;5;21;01m.\u001b[39;00m\u001b[38;5;21;01mtimeseries\u001b[39;00m \u001b[38;5;28;01mimport\u001b[39;00m concatenate\n\u001b[1;32m      6\u001b[0m \u001b[38;5;28;01mfrom\u001b[39;00m \u001b[38;5;21;01mcaiman\u001b[39;00m\u001b[38;5;21;01m.\u001b[39;00m\u001b[38;5;21;01mcluster\u001b[39;00m \u001b[38;5;28;01mimport\u001b[39;00m start_server, stop_server\n",
      "File \u001b[0;32m~/miniconda3/envs/mbo-caiman/lib/python3.11/site-packages/caiman/base/movies.py:45\u001b[0m\n\u001b[1;32m     42\u001b[0m \u001b[38;5;28;01mexcept\u001b[39;00m:\n\u001b[1;32m     43\u001b[0m     \u001b[38;5;28;01mpass\u001b[39;00m\n\u001b[0;32m---> 45\u001b[0m \u001b[38;5;28;01mclass\u001b[39;00m \u001b[38;5;21;01mmovie\u001b[39;00m(\u001b[43mcaiman\u001b[49m\u001b[38;5;241;43m.\u001b[39;49m\u001b[43mbase\u001b[49m\u001b[38;5;241m.\u001b[39mtimeseries\u001b[38;5;241m.\u001b[39mtimeseries):\n\u001b[1;32m     46\u001b[0m \u001b[38;5;250m    \u001b[39m\u001b[38;5;124;03m\"\"\"\u001b[39;00m\n\u001b[1;32m     47\u001b[0m \u001b[38;5;124;03m    Class representing a movie. This class subclasses timeseries,\u001b[39;00m\n\u001b[1;32m     48\u001b[0m \u001b[38;5;124;03m    that in turn subclasses ndarray\u001b[39;00m\n\u001b[0;32m   (...)\u001b[0m\n\u001b[1;32m     59\u001b[0m \u001b[38;5;124;03m    notes on objects that are descended from ndarray\u001b[39;00m\n\u001b[1;32m     60\u001b[0m \u001b[38;5;124;03m    \"\"\"\u001b[39;00m\n\u001b[1;32m     62\u001b[0m     \u001b[38;5;28;01mdef\u001b[39;00m \u001b[38;5;21m__new__\u001b[39m(\u001b[38;5;28mcls\u001b[39m, input_arr, \u001b[38;5;241m*\u001b[39m\u001b[38;5;241m*\u001b[39mkwargs):\n",
      "\u001b[0;31mAttributeError\u001b[0m: partially initialized module 'caiman' has no attribute 'base' (most likely due to a circular import)"
     ]
    }
   ],
   "source": [
    "import sys\n",
    "from pathlib import Path\n",
    "import os\n",
    "import numpy as np\n",
    "import cv2\n",
    "\n",
    "import logging\n",
    "import mesmerize_core as mc\n",
    "import matplotlib.pyplot as plt\n",
    "\n",
    "try:\n",
    "    cv2.setNumThreads(0)\n",
    "except():\n",
    "    pass"
   ]
  },
  {
   "cell_type": "markdown",
   "id": "f3d31d51",
   "metadata": {},
   "source": [
    "## (optional): View hardware information"
   ]
  },
  {
   "cell_type": "code",
   "execution_count": 2,
   "id": "1de17a08-4caf-4748-becb-468cb65958f7",
   "metadata": {
    "execution": {
     "iopub.execute_input": "2024-05-25T04:52:27.753189Z",
     "iopub.status.busy": "2024-05-25T04:52:27.752679Z",
     "iopub.status.idle": "2024-05-25T04:52:28.268488Z",
     "shell.execute_reply": "2024-05-25T04:52:28.267808Z",
     "shell.execute_reply.started": "2024-05-25T04:52:27.753133Z"
    }
   },
   "outputs": [
    {
     "name": "stdout",
     "output_type": "stream",
     "text": [
      "*** No help on # dont forget to call it after the install as it sets some defaults\n",
      "+------------------+----------------------------------------------------------------------------------------------+\n",
      "| Attribute        | Value                                                                                        |\n",
      "+------------------+----------------------------------------------------------------------------------------------+\n",
      "| cpu              |                                                                                              |\n",
      "| cpu_cores        | 24                                                                                           |\n",
      "| cpu_count        | 32                                                                                           |\n",
      "| cpu_threads      | 32                                                                                           |\n",
      "| date             | 2024-07-14 09:27:51.602620                                                                   |\n",
      "| frequency        | scpufreq(current=3200.0, min=0.0, max=3200.0)                                                |\n",
      "| mem.available    | 41.9 GiB                                                                                     |\n",
      "| mem.free         | 41.9 GiB                                                                                     |\n",
      "| mem.percent      | 67.2 %                                                                                       |\n",
      "| mem.total        | 127.8 GiB                                                                                    |\n",
      "| mem.used         | 85.9 GiB                                                                                     |\n",
      "| platform.version | ('10', '10.0.19045', 'SP0', 'Multiprocessor Free')                                           |\n",
      "| python           | 3.10.8 | packaged by conda-forge | (main, Nov 22 2022, 08:16:53) [MSC v.1929 64 bit (AMD64)] |\n",
      "| python.pip       | 24.0                                                                                         |\n",
      "| python.version   | 3.10.8                                                                                       |\n",
      "| sys.platform     | win32                                                                                        |\n",
      "| uname.machine    | AMD64                                                                                        |\n",
      "| uname.node       | RBO-C2                                                                                       |\n",
      "| uname.processor  | Intel64 Family 6 Model 183 Stepping 1, GenuineIntel                                          |\n",
      "| uname.release    | 10                                                                                           |\n",
      "| uname.system     | Windows                                                                                      |\n",
      "| uname.version    | 10.0.19045                                                                                   |\n",
      "| user             | RBO                                                                                          |\n",
      "+------------------+----------------------------------------------------------------------------------------------+\n"
     ]
    }
   ],
   "source": [
    "# !pip install cloudmesh-cmd5\n",
    "!cms help # dont forget to call it after the install as it sets some defaults\n",
    "!cms sysinfo"
   ]
  },
  {
   "cell_type": "markdown",
   "id": "c9c56ef1-7536-45c0-ba27-06de0f66242c",
   "metadata": {},
   "source": [
    "## User input: input data path\n",
    "\n",
    "the same path as [pre_processing](./pre_processing.ipynb)\n",
    "parent_dir = Path().home() / 'caiman_data' / 'animal_01' / 'session_01'"
   ]
  },
  {
   "cell_type": "code",
   "execution_count": 1,
   "id": "275ff214",
   "metadata": {},
   "outputs": [
    {
     "ename": "NameError",
     "evalue": "name 'Path' is not defined",
     "output_type": "error",
     "traceback": [
      "\u001b[0;31m---------------------------------------------------------------------------\u001b[0m",
      "\u001b[0;31mNameError\u001b[0m                                 Traceback (most recent call last)",
      "Cell \u001b[0;32mIn[1], line 1\u001b[0m\n\u001b[0;32m----> 1\u001b[0m parent_dir \u001b[38;5;241m=\u001b[39m \u001b[43mPath\u001b[49m()\u001b[38;5;241m.\u001b[39mhome() \u001b[38;5;241m/\u001b[39m \u001b[38;5;124m'\u001b[39m\u001b[38;5;124mcaiman_data\u001b[39m\u001b[38;5;124m'\u001b[39m \u001b[38;5;241m/\u001b[39m \u001b[38;5;124m'\u001b[39m\u001b[38;5;124manimal_01\u001b[39m\u001b[38;5;124m'\u001b[39m \u001b[38;5;241m/\u001b[39m \u001b[38;5;124m'\u001b[39m\u001b[38;5;124msession_01\u001b[39m\u001b[38;5;124m'\u001b[39m \u001b[38;5;241m/\u001b[39m \u001b[38;5;124m'\u001b[39m\u001b[38;5;124msave_gui\u001b[39m\u001b[38;5;124m'\u001b[39m\n\u001b[1;32m      2\u001b[0m [x \u001b[38;5;28;01mfor\u001b[39;00m x \u001b[38;5;129;01min\u001b[39;00m parent_dir\u001b[38;5;241m.\u001b[39mglob(\u001b[38;5;124m\"\u001b[39m\u001b[38;5;124m*\u001b[39m\u001b[38;5;124m\"\u001b[39m)]\n",
      "\u001b[0;31mNameError\u001b[0m: name 'Path' is not defined"
     ]
    }
   ],
   "source": [
    "parent_dir = Path().home() / 'caiman_data' / 'animal_01' / 'session_01' / 'save_gui'\n",
    "[x for x in parent_dir.glob(\"*\")]"
   ]
  },
  {
   "cell_type": "code",
   "execution_count": null,
   "id": "4da5e57e",
   "metadata": {},
   "outputs": [],
   "source": [
    "\n",
    "raw_tiff_files = [str(x) for x in parent_dir.glob(\"*.tif*\")]\n",
    "\n",
    "\n",
    "data_path = Path().home() / 'Documents' / 'data'\n",
    "raw = [x for x in data_path.glob(f'*.tif*')][0]\n",
    "ext = \"tif\"\n",
    "\n",
    "# initialze a scanreader object\n",
    "reader = sr.read_scan(str(raw))\n",
    "\n",
    "if init:\n",
    "    plane = reader[:,:,:,0,1:501].squeeze()\n",
    "    plane = np.transpose(plane, (2,0,1))\n",
    "else:\n",
    "    fname = \"/home/rbo/caiman_data/test.h5\"\n",
    "\n",
    "Path(fname).is_file()"
   ]
  },
  {
   "cell_type": "markdown",
   "id": "954a5321",
   "metadata": {},
   "source": [
    "## Start a cluster (if a cluster already exists terminate it)"
   ]
  },
  {
   "cell_type": "code",
   "execution_count": null,
   "id": "bdfd7c81",
   "metadata": {
    "execution": {
     "iopub.execute_input": "2024-05-24T05:26:30.570470Z",
     "iopub.status.busy": "2024-05-24T05:26:30.569697Z",
     "iopub.status.idle": "2024-05-24T05:26:32.443920Z",
     "shell.execute_reply": "2024-05-24T05:26:32.442902Z",
     "shell.execute_reply.started": "2024-05-24T05:26:30.570372Z"
    }
   },
   "outputs": [],
   "source": [
    "if 'dview' in locals():\n",
    "    cm.stop_server(dview=dview)\n",
    "c, dview, n_processes = cm.cluster.setup_cluster(\n",
    "    backend='multiprocessing', n_processes=None, single_thread=False)"
   ]
  },
  {
   "cell_type": "code",
   "execution_count": 15,
   "id": "25bc8f0b",
   "metadata": {},
   "outputs": [],
   "source": [
    "movie = cm.load(fname, start_time=2,fr=reader.fps)\n",
    "movie.play()"
   ]
  },
  {
   "cell_type": "code",
   "execution_count": 16,
   "id": "1d86b44b",
   "metadata": {},
   "outputs": [],
   "source": [
    "plt.show()"
   ]
  },
  {
   "cell_type": "markdown",
   "id": "26c8bbdc",
   "metadata": {},
   "source": [
    "# Registration Parameters"
   ]
  },
  {
   "cell_type": "code",
   "execution_count": 13,
   "id": "b6992c8a-f471-4c90-b69f-fd6ca7660e33",
   "metadata": {
    "execution": {
     "iopub.execute_input": "2024-05-24T04:39:04.885286Z",
     "iopub.status.busy": "2024-05-24T04:39:04.884492Z",
     "iopub.status.idle": "2024-05-24T04:39:05.031454Z",
     "shell.execute_reply": "2024-05-24T04:39:05.025816Z",
     "shell.execute_reply.started": "2024-05-24T04:39:04.885180Z"
    }
   },
   "outputs": [],
   "source": [
    "pix_res = 1\n",
    "\n",
    "mx = 10/pix_res\n",
    "max_shifts = (mx, mx)       # maximum allowed rigid shift in pixels (view the movie to get a sense of motion)\n",
    "max_deviation_rigid = 3     # maximum deviation allowed for patch with respect to rigid shifts\n",
    "pw_rigid = True  # flag for performing rigid or piecewise rigid motion correction\n",
    "shifts_opencv = True  # flag for correcting motion using bicubic interpolation (otherwise FFT interpolation is used)\n",
    "border_nan = 'copy'  # replicate values along the boundary (if True, fill in with NaN)"
   ]
  },
  {
   "cell_type": "code",
   "execution_count": 19,
   "id": "da40bf2b-003b-4b2f-b795-7c72ed25feaf",
   "metadata": {
    "execution": {
     "iopub.execute_input": "2024-05-24T05:26:35.985029Z",
     "iopub.status.busy": "2024-05-24T05:26:35.983925Z"
    }
   },
   "outputs": [
    {
     "ename": "PermissionError",
     "evalue": "[WinError 32] The process cannot access the file because it is being used by another process: 'C:\\\\Users\\\\RBO\\\\caiman_data\\\\temp\\\\tmp_mov_mot_corr.hdf5'",
     "output_type": "error",
     "traceback": [
      "\u001b[1;31m---------------------------------------------------------------------------\u001b[0m",
      "\u001b[1;31mPermissionError\u001b[0m                           Traceback (most recent call last)",
      "Cell \u001b[1;32mIn[19], line 13\u001b[0m\n\u001b[0;32m      2\u001b[0m options_rigid \u001b[38;5;241m=\u001b[39m {\n\u001b[0;32m      3\u001b[0m     \u001b[38;5;124m'\u001b[39m\u001b[38;5;124mmax_shifts\u001b[39m\u001b[38;5;124m'\u001b[39m: max_shifts,   \u001b[38;5;66;03m# max shift in pixels\u001b[39;00m\n\u001b[0;32m      4\u001b[0m     \u001b[38;5;124m'\u001b[39m\u001b[38;5;124mstrides\u001b[39m\u001b[38;5;124m'\u001b[39m: (\u001b[38;5;241m48\u001b[39m, \u001b[38;5;241m48\u001b[39m),        \u001b[38;5;66;03m# create a new patch every x pixels for pw-rigid correction\u001b[39;00m\n\u001b[1;32m   (...)\u001b[0m\n\u001b[0;32m     10\u001b[0m     \u001b[38;5;124m'\u001b[39m\u001b[38;5;124mnonneg_movie\u001b[39m\u001b[38;5;124m'\u001b[39m: \u001b[38;5;28;01mFalse\u001b[39;00m        \n\u001b[0;32m     11\u001b[0m }\n\u001b[0;32m     12\u001b[0m \u001b[38;5;66;03m# Run rigid motion correction\u001b[39;00m\n\u001b[1;32m---> 13\u001b[0m mc_rigid \u001b[38;5;241m=\u001b[39m MotionCorrect(movie, dview\u001b[38;5;241m=\u001b[39mdview, \u001b[38;5;241m*\u001b[39m\u001b[38;5;241m*\u001b[39moptions_rigid)\n\u001b[0;32m     14\u001b[0m mc_rigid\u001b[38;5;241m.\u001b[39mmotion_correct(save_movie\u001b[38;5;241m=\u001b[39m\u001b[38;5;28;01mTrue\u001b[39;00m)\n",
      "File \u001b[1;32mc:\\Users\\RBO\\miniconda3\\envs\\mbo-caiman\\lib\\site-packages\\caiman\\motion_correction.py:172\u001b[0m, in \u001b[0;36mMotionCorrect.__init__\u001b[1;34m(self, fname, min_mov, dview, max_shifts, niter_rig, splits_rig, num_splits_to_process_rig, strides, overlaps, splits_els, num_splits_to_process_els, upsample_factor_grid, max_deviation_rigid, shifts_opencv, nonneg_movie, gSig_filt, use_cuda, border_nan, pw_rigid, num_frames_split, var_name_hdf5, is3D, indices)\u001b[0m\n\u001b[0;32m    170\u001b[0m mc_tempfile \u001b[38;5;241m=\u001b[39m caiman\u001b[38;5;241m.\u001b[39mpaths\u001b[38;5;241m.\u001b[39mfn_relocated(\u001b[38;5;124m'\u001b[39m\u001b[38;5;124mtmp_mov_mot_corr.hdf5\u001b[39m\u001b[38;5;124m'\u001b[39m)\n\u001b[0;32m    171\u001b[0m \u001b[38;5;28;01mif\u001b[39;00m os\u001b[38;5;241m.\u001b[39mpath\u001b[38;5;241m.\u001b[39misfile(mc_tempfile):\n\u001b[1;32m--> 172\u001b[0m     \u001b[43mos\u001b[49m\u001b[38;5;241;43m.\u001b[39;49m\u001b[43mremove\u001b[49m\u001b[43m(\u001b[49m\u001b[43mmc_tempfile\u001b[49m\u001b[43m)\u001b[49m\n\u001b[0;32m    173\u001b[0m logging\u001b[38;5;241m.\u001b[39minfo(\u001b[38;5;124mf\u001b[39m\u001b[38;5;124m\"\u001b[39m\u001b[38;5;124mCreating file for motion correction: \u001b[39m\u001b[38;5;132;01m{\u001b[39;00mmc_tempfile\u001b[38;5;132;01m}\u001b[39;00m\u001b[38;5;124m\"\u001b[39m)\n\u001b[0;32m    174\u001b[0m caiman\u001b[38;5;241m.\u001b[39mmovie(fname)\u001b[38;5;241m.\u001b[39msave(mc_tempfile)\n",
      "\u001b[1;31mPermissionError\u001b[0m: [WinError 32] The process cannot access the file because it is being used by another process: 'C:\\\\Users\\\\RBO\\\\caiman_data\\\\temp\\\\tmp_mov_mot_corr.hdf5'"
     ]
    },
    {
     "ename": "",
     "evalue": "",
     "output_type": "error",
     "traceback": [
      "\u001b[1;31mThe Kernel crashed while executing code in the current cell or a previous cell. \n",
      "\u001b[1;31mPlease review the code in the cell(s) to identify a possible cause of the failure. \n",
      "\u001b[1;31mClick <a href='https://aka.ms/vscodeJupyterKernelCrash'>here</a> for more info. \n",
      "\u001b[1;31mView Jupyter <a href='command:jupyter.viewOutput'>log</a> for further details."
     ]
    }
   ],
   "source": [
    "# Set parameters for rigid motion correction\n",
    "options_rigid = {\n",
    "    'max_shifts': max_shifts,   # max shift in pixels\n",
    "    'strides': (48, 48),        # create a new patch every x pixels for pw-rigid correction\n",
    "    'overlaps': (24, 24),       # overlap between patches (size of patch strides+overlaps)\n",
    "    'max_deviation_rigid': 3,   # maximum deviation allowed for patch with respect to rigid shifts\n",
    "    'pw_rigid': False,          # flag for performing rigid or piecewise rigid motion correction\n",
    "    'shifts_opencv': True,      # flag for correcting motion using bicubic interpolation (otherwise FFT interpolation is used)\n",
    "    'border_nan': 'copy',       # replicate values along the boundary (if True, fill in with NaN)\n",
    "    'nonneg_movie': False        \n",
    "}\n",
    "# Run rigid motion correction\n",
    "mc_rigid = MotionCorrect(movie, dview=dview, **options_rigid)\n",
    "mc_rigid.motion_correct(save_movie=True)"
   ]
  },
  {
   "cell_type": "code",
   "execution_count": 17,
   "id": "2eb5ddf5-0798-4b27-8771-69abdc5d1a40",
   "metadata": {},
   "outputs": [
    {
     "data": {
      "text/plain": [
       "<caiman.motion_correction.MotionCorrect at 0x280271b3c70>"
      ]
     },
     "execution_count": 17,
     "metadata": {},
     "output_type": "execute_result"
    }
   ],
   "source": [
    "mc_file = Path().home() / 'Documents' / 'data' / 'high_res' / 'raw_p1_tp.tif'\n",
    "# M1 = mc_rigid.apply_shifts_movie(mc_file)\n",
    "mc_rigid"
   ]
  },
  {
   "cell_type": "markdown",
   "id": "2de2ca80-79bd-4d2b-b688-d7851981bbf2",
   "metadata": {},
   "source": [
    "### View rigid template"
   ]
  },
  {
   "cell_type": "code",
   "execution_count": null,
   "id": "1764276b-63bb-4622-a0c9-6c324ae8f5fc",
   "metadata": {},
   "outputs": [],
   "source": [
    "# load motion corrected movie\n",
    "m_rig = cm.load(mc_rigid.mmap_file)\n",
    "bord_px_rig = np.ceil(np.max(mc_rigid.shifts_rig)).astype(int)\n",
    "##%% visualize templates\n",
    "plt.figure(figsize = (20,10))\n",
    "plt.imshow(mc_rigid.total_template_rig, cmap = 'gray');"
   ]
  },
  {
   "cell_type": "markdown",
   "id": "539577b4-b2c9-4c73-8e4b-4e875c2aed3c",
   "metadata": {},
   "source": [
    "Rigid-corrected movie"
   ]
  },
  {
   "cell_type": "code",
   "execution_count": null,
   "id": "156cfa3d-9b85-4573-a303-d51a033134fc",
   "metadata": {},
   "outputs": [],
   "source": [
    "##%% inspect movie\n",
    "m_rig.resize(1, 1, downsample_ratio).play(\n",
    "    q_max=99.5, fr=30, magnification=2, bord_px = 0*bord_px_rig) # press q to exit"
   ]
  },
  {
   "cell_type": "markdown",
   "id": "108adc2c-2eab-4642-90ac-9f419e2dc664",
   "metadata": {},
   "source": [
    "Rigid Template shifts"
   ]
  },
  {
   "cell_type": "code",
   "execution_count": null,
   "id": "26c15518-000b-41cc-b1d5-10dceb66ad87",
   "metadata": {
    "execution": {
     "iopub.execute_input": "2024-05-24T05:24:54.182119Z",
     "iopub.status.busy": "2024-05-24T05:24:54.181095Z",
     "iopub.status.idle": "2024-05-24T05:24:55.226221Z",
     "shell.execute_reply": "2024-05-24T05:24:55.224854Z",
     "shell.execute_reply.started": "2024-05-24T05:24:54.181972Z"
    }
   },
   "outputs": [],
   "source": [
    "##%% plot rigid shifts\n",
    "plt.close()\n",
    "plt.figure(figsize = (20,10))\n",
    "plt.plot(mc_rigid.shifts_rig)\n",
    "plt.legend(['x shifts','y shifts'])\n",
    "plt.xlabel('frames')\n",
    "plt.ylabel('pixels');"
   ]
  },
  {
   "cell_type": "code",
   "execution_count": null,
   "id": "0b8c02e6",
   "metadata": {
    "execution": {
     "iopub.execute_input": "2024-05-24T01:26:18.589089Z",
     "iopub.status.busy": "2024-05-24T01:26:18.587920Z",
     "iopub.status.idle": "2024-05-24T01:26:19.924979Z",
     "shell.execute_reply": "2024-05-24T01:26:19.924050Z",
     "shell.execute_reply.started": "2024-05-24T01:26:18.588939Z"
    },
    "scrolled": true
   },
   "outputs": [],
   "source": [
    "# correct for rigid motion correction and save the file (in memory mapped form)\n",
    "mc.motion_correct(save_movie=True)"
   ]
  },
  {
   "cell_type": "markdown",
   "id": "b1f6aa2f-0219-4961-bde1-59dc425bb09d",
   "metadata": {},
   "source": [
    "\n",
    "## Piecewise rigid registration\n",
    "\n",
    "While rigid registration corrected for a lot of the movement, there is still non-uniform motion present in the registered file.\n",
    "\n",
    "- To correct for that we can use piece-wise rigid registration directly in the original file by setting mc.pw_rigid=True.\n",
    "- As before the registered file is saved in a memory mapped format in the location given by mc.mmap_file.\n"
   ]
  },
  {
   "cell_type": "code",
   "execution_count": null,
   "id": "e3df52d6-a545-452f-a197-f273723550eb",
   "metadata": {},
   "outputs": [],
   "source": [
    "%%capture\n",
    "##%% motion correct piecewise rigid\n",
    "mc.pw_rigid = True  # turn the flag to True for pw-rigid motion correction\n",
    "mc.template = mc.mmap_file  # use the template obtained before to save in computation (optional)\n",
    "\n",
    "mc.motion_correct(save_movie=True, template=mc.total_template_rig)\n",
    "m_els = cm.load(mc.fname_tot_els)\n",
    "m_els.resize(1, 1, downsample_ratio).play(\n",
    "    q_max=99.5, fr=30, magnification=2,bord_px = bord_px_rig)"
   ]
  },
  {
   "cell_type": "markdown",
   "id": "65ad4a66",
   "metadata": {},
   "source": [
    "## Correlation metrics\n",
    "\n",
    "Create a couple of summary images of the movie, including:\n",
    "- maximum projection (the maximum value of each pixel) \n",
    "- correlation image (how correlated each pixel is with its neighbors)\n",
    "\n",
    "If a pixel comes from an active neural component it will tend to be highly correlated with its neighbors."
   ]
  },
  {
   "cell_type": "code",
   "execution_count": null,
   "id": "8c9cb191-fa95-4e92-96c2-ffb9b9fc008d",
   "metadata": {},
   "outputs": [],
   "source": [
    "plt.close()\n",
    "plt.figure(figsize = (20,10))\n",
    "plt.subplot(2, 1, 1)\n",
    "plt.plot(mc.x_shifts_els)\n",
    "plt.ylabel('x shifts (pixels)')\n",
    "plt.subplot(2, 1, 2)\n",
    "plt.plot(mc.y_shifts_els)\n",
    "plt.ylabel('y_shifts (pixels)')\n",
    "plt.xlabel('frames')\n",
    "##%% compute borders to exclude\n",
    "bord_px_els = np.ceil(np.maximum(np.max(np.abs(mc.x_shifts_els)),\n",
    "                                 np.max(np.abs(mc.y_shifts_els)))).astype(int)"
   ]
  },
  {
   "cell_type": "markdown",
   "id": "53b7c3cc-fd30-4ce0-9366-ff2b0356573f",
   "metadata": {},
   "source": [
    "## Motion Corretion: Optical Flow"
   ]
  },
  {
   "cell_type": "code",
   "execution_count": null,
   "id": "d74be0b7-41fe-4d4f-a415-184da72283e2",
   "metadata": {},
   "outputs": [],
   "source": [
    "##%% plot the results of Residual Optical Flow\n",
    "fls = [cm.paths.fname_derived_presuffix(mc.fname_tot_els[0], 'metrics', swapsuffix='npz'),\n",
    "       cm.paths.fname_derived_presuffix(mc.fname_tot_rig[0], 'metrics', swapsuffix='npz'),\n",
    "       cm.paths.fname_derived_presuffix(mc.fname[0],         'metrics', swapsuffix='npz'),\n",
    "      ]\n",
    "\n",
    "plt.figure(figsize = (20,10))\n",
    "for cnt, fl, metr in zip(range(len(fls)), fls, ['pw_rigid','rigid','raw']):\n",
    "    with np.load(fl) as ld:\n",
    "        print(ld.keys())\n",
    "        print(fl)\n",
    "        print(str(np.mean(ld['norms'])) + '+/-' + str(np.std(ld['norms'])) +\n",
    "              ' ; ' + str(ld['smoothness']) + ' ; ' + str(ld['smoothness_corr']))\n",
    "        \n",
    "        plt.subplot(len(fls), 3, 1 + 3 * cnt)\n",
    "        plt.ylabel(metr)\n",
    "        print(f\"Loading data with base {fl[:-12]}\")\n",
    "        try:\n",
    "            mean_img = np.mean(\n",
    "            cm.load(fl[:-12] + '.mmap'), 0)[12:-12, 12:-12]\n",
    "        except:\n",
    "            try:\n",
    "                mean_img = np.mean(\n",
    "                    cm.load(fl[:-12] + '.tif'), 0)[12:-12, 12:-12]\n",
    "            except:\n",
    "                mean_img = np.mean(\n",
    "                    cm.load(fl[:-12] + 'hdf5'), 0)[12:-12, 12:-12]\n",
    "                    \n",
    "        lq, hq = np.nanpercentile(mean_img, [.5, 99.5])\n",
    "        plt.imshow(mean_img, vmin=lq, vmax=hq)\n",
    "        plt.title('Mean')\n",
    "        plt.subplot(len(fls), 3, 3 * cnt + 2)\n",
    "        plt.imshow(ld['img_corr'], vmin=0, vmax=.35)\n",
    "        plt.title('Corr image')\n",
    "        plt.subplot(len(fls), 3, 3 * cnt + 3)\n",
    "        flows = ld['flows']\n",
    "        plt.imshow(np.mean(\n",
    "        np.sqrt(flows[:, :, :, 0]**2 + flows[:, :, :, 1]**2), 0), vmin=0, vmax=0.3)\n",
    "        plt.colorbar()\n",
    "        plt.title('Mean optical flow');  "
   ]
  },
  {
   "cell_type": "markdown",
   "id": "760aeaa6-1aeb-45d9-89a9-f5a6c1555ebe",
   "metadata": {},
   "source": [
    "# Cleanup\n",
    "\n",
    "Make sure our parallel cluster is shut down."
   ]
  },
  {
   "cell_type": "code",
   "execution_count": null,
   "id": "d99671c6",
   "metadata": {
    "scrolled": true
   },
   "outputs": [],
   "source": [
    "if 'dview' in locals():\n",
    "    cm.stop_server(dview=dview)\n",
    "elif 'cluster' in locals():\n",
    "    cm.stop_server(dview=cluster)"
   ]
  }
 ],
 "metadata": {
  "kernelspec": {
   "display_name": "Python 3 (ipykernel)",
   "language": "python",
   "name": "python3"
  },
  "language_info": {
   "codemirror_mode": {
    "name": "ipython",
    "version": 3
   },
   "file_extension": ".py",
   "mimetype": "text/x-python",
   "name": "python",
   "nbconvert_exporter": "python",
   "pygments_lexer": "ipython3",
   "version": "3.11.9"
  },
  "widgets": {
   "application/vnd.jupyter.widget-state+json": {
    "state": {},
    "version_major": 2,
    "version_minor": 0
   }
  }
 },
 "nbformat": 4,
 "nbformat_minor": 5
}
