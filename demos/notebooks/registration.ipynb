{
 "cells": [
  {
   "cell_type": "markdown",
   "id": "dbb6bb2d-6a7e-4578-bc24-d93aa638c7e3",
   "metadata": {},
   "source": [
    "# LBM Step 2: Registration\n",
    "\n",
    "## Registration: Correct for rigid/non-rigid movement\n",
    "\n",
    "- Apply the nonrigid motion correction (NoRMCorre) algorithm for motion correction.\n",
    "- View pre/most correction movie\n",
    "- Use quality metrics to evaluate registration quality"
   ]
  },
  {
   "cell_type": "code",
   "execution_count": 1,
   "id": "8aa5aa21-1f82-4d37-b2ad-1c0239d1d38f",
   "metadata": {
    "execution": {
     "iopub.execute_input": "2024-05-25T04:23:50.439658Z",
     "iopub.status.busy": "2024-05-25T04:23:50.439225Z",
     "iopub.status.idle": "2024-05-25T04:23:58.647432Z",
     "shell.execute_reply": "2024-05-25T04:23:58.646924Z",
     "shell.execute_reply.started": "2024-05-25T04:23:50.439631Z"
    },
    "jupyter": {
     "is_executing": true
    }
   },
   "outputs": [
    {
     "name": "stderr",
     "output_type": "stream",
     "text": [
      "2024-09-10 09:50:57.051426: E external/local_xla/xla/stream_executor/cuda/cuda_dnn.cc:9261] Unable to register cuDNN factory: Attempting to register factory for plugin cuDNN when one has already been registered\n",
      "2024-09-10 09:50:57.051453: E external/local_xla/xla/stream_executor/cuda/cuda_fft.cc:607] Unable to register cuFFT factory: Attempting to register factory for plugin cuFFT when one has already been registered\n",
      "2024-09-10 09:50:57.051792: E external/local_xla/xla/stream_executor/cuda/cuda_blas.cc:1515] Unable to register cuBLAS factory: Attempting to register factory for plugin cuBLAS when one has already been registered\n",
      "2024-09-10 09:50:57.054715: I tensorflow/core/platform/cpu_feature_guard.cc:182] This TensorFlow binary is optimized to use available CPU instructions in performance-critical operations.\n",
      "To enable the following instructions: SSE4.1 SSE4.2 AVX AVX2 FMA, in other operations, rebuild TensorFlow with the appropriate compiler flags.\n"
     ]
    }
   ],
   "source": [
    "import sys\n",
    "from pathlib import Path\n",
    "import os\n",
    "import numpy as np\n",
    "import zarr\n",
    "import pandas as pd\n",
    "import napari\n",
    "\n",
    "import logging\n",
    "import mesmerize_core as mc\n",
    "from caiman.summary_images import correlation_pnr\n",
    "import matplotlib.pyplot as plt\n",
    "\n",
    "try:\n",
    "    import cv2\n",
    "    cv2.setNumThreads(0)\n",
    "except():\n",
    "    pass\n",
    "\n",
    "logging.basicConfig()\n",
    "\n",
    "from mesmerize_core.caiman_extensions.cnmf import cnmf_cache\n",
    "\n",
    "os.environ[\"CONDA_PREFIX_1\"] = \"\"\n",
    "if os.name == \"nt\":\n",
    "    # disable the cache on windows, this will be automatic in a future version\n",
    "    cnmf_cache.set_maxsize(0)"
   ]
  },
  {
   "cell_type": "markdown",
   "id": "f3d31d51",
   "metadata": {},
   "source": [
    "## (optional): View hardware information"
   ]
  },
  {
   "cell_type": "code",
   "execution_count": 2,
   "id": "a32ccf16",
   "metadata": {},
   "outputs": [],
   "source": [
    "\n",
    "raw_data_path = Path().home() / \"caiman_data_org\"\n",
    "movie_path = raw_data_path / 'animal_01' / \"session_01\" / 'plane_1.zarr'\n",
    "# moviepath\n",
    "\n",
    "pd.options.display.max_colwidth = 120"
   ]
  },
  {
   "cell_type": "code",
   "execution_count": 3,
   "id": "3ef3b326",
   "metadata": {},
   "outputs": [
    {
     "data": {
      "text/html": [
       "<table class=\"zarr-info\"><tbody><tr><th style=\"text-align: left\">Name</th><td style=\"text-align: left\">/</td></tr><tr><th style=\"text-align: left\">Type</th><td style=\"text-align: left\">zarr.hierarchy.Group</td></tr><tr><th style=\"text-align: left\">Read-only</th><td style=\"text-align: left\">False</td></tr><tr><th style=\"text-align: left\">Store type</th><td style=\"text-align: left\">zarr.storage.DirectoryStore</td></tr><tr><th style=\"text-align: left\">No. members</th><td style=\"text-align: left\">1</td></tr><tr><th style=\"text-align: left\">No. arrays</th><td style=\"text-align: left\">1</td></tr><tr><th style=\"text-align: left\">No. groups</th><td style=\"text-align: left\">0</td></tr><tr><th style=\"text-align: left\">Arrays</th><td style=\"text-align: left\">mov</td></tr></tbody></table>"
      ],
      "text/plain": [
       "Name        : /\n",
       "Type        : zarr.hierarchy.Group\n",
       "Read-only   : False\n",
       "Store type  : zarr.storage.DirectoryStore\n",
       "No. members : 1\n",
       "No. arrays  : 1\n",
       "No. groups  : 0\n",
       "Arrays      : mov"
      ]
     },
     "execution_count": 3,
     "metadata": {},
     "output_type": "execute_result"
    }
   ],
   "source": [
    "raw_movie = zarr.open(movie_path).info\n",
    "raw_movie"
   ]
  },
  {
   "cell_type": "code",
   "execution_count": 4,
   "id": "54f02b0f",
   "metadata": {},
   "outputs": [],
   "source": [
    "# set up logging\n",
    "debug = True\n",
    "\n",
    "logger = logging.getLogger(\"caiman\")\n",
    "logger.setLevel(logging.WARNING)\n",
    "handler = logging.StreamHandler()\n",
    "log_format = logging.Formatter(\"%(relativeCreated)12d [%(filename)s:%(funcName)10s():%(lineno)s] [%(process)d] %(message)s\")\n",
    "handler.setFormatter(log_format)\n",
    "logger.addHandler(handler)\n",
    "\n",
    "# set env variables \n",
    "os.environ[\"MKL_NUM_THREADS\"] = \"1\"\n",
    "os.environ[\"OPENBLAS_NUM_THREADS\"] = \"1\"\n",
    "os.environ[\"VECLIB_MAXIMUM_THREADS\"] = \"1\"\n",
    "\n",
    "if debug:\n",
    "   logging.getLogger(\"caiman\").setLevel(logging.DEBUG)"
   ]
  },
  {
   "cell_type": "markdown",
   "id": "f3d31d51",
   "metadata": {},
   "source": [
    "## (optional): View hardware information"
   ]
  },
  {
   "cell_type": "code",
   "execution_count": 5,
   "id": "1de17a08-4caf-4748-becb-468cb65958f7",
   "metadata": {
    "execution": {
     "iopub.execute_input": "2024-05-25T04:52:27.753189Z",
     "iopub.status.busy": "2024-05-25T04:52:27.752679Z",
     "iopub.status.idle": "2024-05-25T04:52:28.268488Z",
     "shell.execute_reply": "2024-05-25T04:52:28.267808Z",
     "shell.execute_reply.started": "2024-05-25T04:52:27.753133Z"
    }
   },
   "outputs": [
    {
     "name": "stdout",
     "output_type": "stream",
     "text": [
      "Sourcing .zshenv...\n",
      "zsh:1: command not found: cms\n",
      "Sourcing .zshenv...\n",
      "zsh:1: command not found: cms\n"
     ]
    }
   ],
   "source": [
    "# !pip install cloudmesh-cmd5\n",
    "!cms help # dont forget to call it after the install as it sets some defaults\n",
    "!cms sysinfo"
   ]
  },
  {
   "cell_type": "markdown",
   "id": "c9c56ef1-7536-45c0-ba27-06de0f66242c",
   "metadata": {},
   "source": [
    "## User input: input data path and plane number\n",
    "\n",
    "the same path as [pre_processing](./pre_processing.ipynb)\n",
    "parent_dir = Path().home() / 'caiman_data' / 'animal_01' / 'session_01'"
   ]
  },
  {
   "cell_type": "code",
   "execution_count": 7,
   "id": "3fbe7569",
   "metadata": {},
   "outputs": [
    {
     "data": {
      "text/plain": [
       "PosixPath('/home/mbo/caiman_data_org/animal_01/session_01/plane_1.zarr')"
      ]
     },
     "execution_count": 7,
     "metadata": {},
     "output_type": "execute_result"
    }
   ],
   "source": [
    "batch_path = raw_data_path / 'batch.pickle'\n",
    "mc.set_parent_raw_data_path(str(movie_path))"
   ]
  },
  {
   "cell_type": "code",
   "execution_count": 18,
   "id": "f7a407b8",
   "metadata": {},
   "outputs": [
    {
     "data": {
      "text/html": [
       "<div>\n",
       "<style scoped>\n",
       "    .dataframe tbody tr th:only-of-type {\n",
       "        vertical-align: middle;\n",
       "    }\n",
       "\n",
       "    .dataframe tbody tr th {\n",
       "        vertical-align: top;\n",
       "    }\n",
       "\n",
       "    .dataframe thead th {\n",
       "        text-align: right;\n",
       "    }\n",
       "</style>\n",
       "<table border=\"1\" class=\"dataframe\">\n",
       "  <thead>\n",
       "    <tr style=\"text-align: right;\">\n",
       "      <th></th>\n",
       "      <th>algo</th>\n",
       "      <th>item_name</th>\n",
       "      <th>input_movie_path</th>\n",
       "      <th>params</th>\n",
       "      <th>outputs</th>\n",
       "      <th>added_time</th>\n",
       "      <th>ran_time</th>\n",
       "      <th>algo_duration</th>\n",
       "      <th>comments</th>\n",
       "      <th>uuid</th>\n",
       "    </tr>\n",
       "  </thead>\n",
       "  <tbody>\n",
       "    <tr>\n",
       "      <th>0</th>\n",
       "      <td>mcorr</td>\n",
       "      <td>plane_1</td>\n",
       "      <td>animal_01/session_01/plane_1</td>\n",
       "      <td>{'main': {'var_name_hdf5': 'mov', 'max_shifts': (10, 10), 'strides': (48, 48), 'overlaps': (24, 24), 'max_deviation_...</td>\n",
       "      <td>{'success': False, 'traceback': 'Traceback (most recent call last):\n",
       "  File \"/home/mbo/repos/mesmerize-core/mesmerize...</td>\n",
       "      <td>2024-09-09T14:50:33</td>\n",
       "      <td>2024-09-10T09:36:52</td>\n",
       "      <td>0.09 sec</td>\n",
       "      <td>None</td>\n",
       "      <td>5ed9532f-a5d9-4ecb-bdae-f14b37fc2ef2</td>\n",
       "    </tr>\n",
       "    <tr>\n",
       "      <th>1</th>\n",
       "      <td>mcorr</td>\n",
       "      <td>plane_1</td>\n",
       "      <td>animal_01/session_01/plane_1</td>\n",
       "      <td>{'main': {'var_name_hdf5': 'mov', 'max_shifts': (10, 10), 'strides': (48, 48), 'overlaps': (24, 24), 'max_deviation_...</td>\n",
       "      <td>None</td>\n",
       "      <td>2024-09-09T14:50:49</td>\n",
       "      <td>None</td>\n",
       "      <td>None</td>\n",
       "      <td>None</td>\n",
       "      <td>aab79e23-ebcc-45cb-a12b-6f7e3eae935c</td>\n",
       "    </tr>\n",
       "    <tr>\n",
       "      <th>2</th>\n",
       "      <td>mcorr</td>\n",
       "      <td>plane_1</td>\n",
       "      <td>animal_01/session_01/plane_1</td>\n",
       "      <td>{'main': {'var_name_hdf5': 'mov', 'max_shifts': (10, 10), 'strides': (48, 48), 'overlaps': (24, 24), 'max_deviation_...</td>\n",
       "      <td>{'success': False, 'traceback': 'Traceback (most recent call last):\n",
       "  File \"/home/mbo/repos/mesmerize-core/mesmerize...</td>\n",
       "      <td>2024-09-09T14:55:09</td>\n",
       "      <td>2024-09-09T16:21:42</td>\n",
       "      <td>0.12 sec</td>\n",
       "      <td>None</td>\n",
       "      <td>247620be-d14b-46da-b6ba-6c73bf607b02</td>\n",
       "    </tr>\n",
       "  </tbody>\n",
       "</table>\n",
       "</div>"
      ],
      "text/plain": [
       "    algo item_name              input_movie_path  \\\n",
       "0  mcorr   plane_1  animal_01/session_01/plane_1   \n",
       "1  mcorr   plane_1  animal_01/session_01/plane_1   \n",
       "2  mcorr   plane_1  animal_01/session_01/plane_1   \n",
       "\n",
       "                                                                                                                    params  \\\n",
       "0  {'main': {'var_name_hdf5': 'mov', 'max_shifts': (10, 10), 'strides': (48, 48), 'overlaps': (24, 24), 'max_deviation_...   \n",
       "1  {'main': {'var_name_hdf5': 'mov', 'max_shifts': (10, 10), 'strides': (48, 48), 'overlaps': (24, 24), 'max_deviation_...   \n",
       "2  {'main': {'var_name_hdf5': 'mov', 'max_shifts': (10, 10), 'strides': (48, 48), 'overlaps': (24, 24), 'max_deviation_...   \n",
       "\n",
       "                                                                                                                   outputs  \\\n",
       "0  {'success': False, 'traceback': 'Traceback (most recent call last):\n",
       "  File \"/home/mbo/repos/mesmerize-core/mesmerize...   \n",
       "1                                                                                                                     None   \n",
       "2  {'success': False, 'traceback': 'Traceback (most recent call last):\n",
       "  File \"/home/mbo/repos/mesmerize-core/mesmerize...   \n",
       "\n",
       "            added_time             ran_time algo_duration comments  \\\n",
       "0  2024-09-09T14:50:33  2024-09-10T09:36:52      0.09 sec     None   \n",
       "1  2024-09-09T14:50:49                 None          None     None   \n",
       "2  2024-09-09T14:55:09  2024-09-09T16:21:42      0.12 sec     None   \n",
       "\n",
       "                                   uuid  \n",
       "0  5ed9532f-a5d9-4ecb-bdae-f14b37fc2ef2  \n",
       "1  aab79e23-ebcc-45cb-a12b-6f7e3eae935c  \n",
       "2  247620be-d14b-46da-b6ba-6c73bf607b02  "
      ]
     },
     "execution_count": 18,
     "metadata": {},
     "output_type": "execute_result"
    }
   ],
   "source": [
    "# create a new batch\n",
    "try:\n",
    "    df = mc.load_batch(batch_path)\n",
    "except (IsADirectoryError, FileNotFoundError):\n",
    "    df = mc.create_batch(batch_path)\n",
    "\n",
    "df=df.caiman.reload_from_disk()\n",
    "df\n"
   ]
  },
  {
   "cell_type": "code",
   "execution_count": 19,
   "id": "84868825",
   "metadata": {},
   "outputs": [],
   "source": [
    "## Correct filenames\n",
    "for idx, row in df.iterrows():\n",
    "    row.input_movie_path = Path(row.input_movie_path).with_suffix('.zarr')\n",
    "df.caiman.save_to_disk()"
   ]
  },
  {
   "cell_type": "code",
   "execution_count": 20,
   "id": "659a6ba1",
   "metadata": {},
   "outputs": [
    {
     "data": {
      "text/html": [
       "<div>\n",
       "<style scoped>\n",
       "    .dataframe tbody tr th:only-of-type {\n",
       "        vertical-align: middle;\n",
       "    }\n",
       "\n",
       "    .dataframe tbody tr th {\n",
       "        vertical-align: top;\n",
       "    }\n",
       "\n",
       "    .dataframe thead th {\n",
       "        text-align: right;\n",
       "    }\n",
       "</style>\n",
       "<table border=\"1\" class=\"dataframe\">\n",
       "  <thead>\n",
       "    <tr style=\"text-align: right;\">\n",
       "      <th></th>\n",
       "      <th>algo</th>\n",
       "      <th>item_name</th>\n",
       "      <th>input_movie_path</th>\n",
       "      <th>params</th>\n",
       "      <th>outputs</th>\n",
       "      <th>added_time</th>\n",
       "      <th>ran_time</th>\n",
       "      <th>algo_duration</th>\n",
       "      <th>comments</th>\n",
       "      <th>uuid</th>\n",
       "    </tr>\n",
       "  </thead>\n",
       "  <tbody>\n",
       "    <tr>\n",
       "      <th>0</th>\n",
       "      <td>mcorr</td>\n",
       "      <td>plane_1</td>\n",
       "      <td>animal_01/session_01/plane_1.zarr</td>\n",
       "      <td>{'main': {'var_name_hdf5': 'mov', 'max_shifts': (10, 10), 'strides': (48, 48), 'overlaps': (24, 24), 'max_deviation_...</td>\n",
       "      <td>{'success': False, 'traceback': 'Traceback (most recent call last):\n",
       "  File \"/home/mbo/repos/mesmerize-core/mesmerize...</td>\n",
       "      <td>2024-09-09T14:50:33</td>\n",
       "      <td>2024-09-10T09:36:52</td>\n",
       "      <td>0.09 sec</td>\n",
       "      <td>None</td>\n",
       "      <td>5ed9532f-a5d9-4ecb-bdae-f14b37fc2ef2</td>\n",
       "    </tr>\n",
       "    <tr>\n",
       "      <th>1</th>\n",
       "      <td>mcorr</td>\n",
       "      <td>plane_1</td>\n",
       "      <td>animal_01/session_01/plane_1.zarr</td>\n",
       "      <td>{'main': {'var_name_hdf5': 'mov', 'max_shifts': (10, 10), 'strides': (48, 48), 'overlaps': (24, 24), 'max_deviation_...</td>\n",
       "      <td>None</td>\n",
       "      <td>2024-09-09T14:50:49</td>\n",
       "      <td>None</td>\n",
       "      <td>None</td>\n",
       "      <td>None</td>\n",
       "      <td>aab79e23-ebcc-45cb-a12b-6f7e3eae935c</td>\n",
       "    </tr>\n",
       "    <tr>\n",
       "      <th>2</th>\n",
       "      <td>mcorr</td>\n",
       "      <td>plane_1</td>\n",
       "      <td>animal_01/session_01/plane_1.zarr</td>\n",
       "      <td>{'main': {'var_name_hdf5': 'mov', 'max_shifts': (10, 10), 'strides': (48, 48), 'overlaps': (24, 24), 'max_deviation_...</td>\n",
       "      <td>{'success': False, 'traceback': 'Traceback (most recent call last):\n",
       "  File \"/home/mbo/repos/mesmerize-core/mesmerize...</td>\n",
       "      <td>2024-09-09T14:55:09</td>\n",
       "      <td>2024-09-09T16:21:42</td>\n",
       "      <td>0.12 sec</td>\n",
       "      <td>None</td>\n",
       "      <td>247620be-d14b-46da-b6ba-6c73bf607b02</td>\n",
       "    </tr>\n",
       "  </tbody>\n",
       "</table>\n",
       "</div>"
      ],
      "text/plain": [
       "    algo item_name                   input_movie_path  \\\n",
       "0  mcorr   plane_1  animal_01/session_01/plane_1.zarr   \n",
       "1  mcorr   plane_1  animal_01/session_01/plane_1.zarr   \n",
       "2  mcorr   plane_1  animal_01/session_01/plane_1.zarr   \n",
       "\n",
       "                                                                                                                    params  \\\n",
       "0  {'main': {'var_name_hdf5': 'mov', 'max_shifts': (10, 10), 'strides': (48, 48), 'overlaps': (24, 24), 'max_deviation_...   \n",
       "1  {'main': {'var_name_hdf5': 'mov', 'max_shifts': (10, 10), 'strides': (48, 48), 'overlaps': (24, 24), 'max_deviation_...   \n",
       "2  {'main': {'var_name_hdf5': 'mov', 'max_shifts': (10, 10), 'strides': (48, 48), 'overlaps': (24, 24), 'max_deviation_...   \n",
       "\n",
       "                                                                                                                   outputs  \\\n",
       "0  {'success': False, 'traceback': 'Traceback (most recent call last):\n",
       "  File \"/home/mbo/repos/mesmerize-core/mesmerize...   \n",
       "1                                                                                                                     None   \n",
       "2  {'success': False, 'traceback': 'Traceback (most recent call last):\n",
       "  File \"/home/mbo/repos/mesmerize-core/mesmerize...   \n",
       "\n",
       "            added_time             ran_time algo_duration comments  \\\n",
       "0  2024-09-09T14:50:33  2024-09-10T09:36:52      0.09 sec     None   \n",
       "1  2024-09-09T14:50:49                 None          None     None   \n",
       "2  2024-09-09T14:55:09  2024-09-09T16:21:42      0.12 sec     None   \n",
       "\n",
       "                                   uuid  \n",
       "0  5ed9532f-a5d9-4ecb-bdae-f14b37fc2ef2  \n",
       "1  aab79e23-ebcc-45cb-a12b-6f7e3eae935c  \n",
       "2  247620be-d14b-46da-b6ba-6c73bf607b02  "
      ]
     },
     "execution_count": 20,
     "metadata": {},
     "output_type": "execute_result"
    }
   ],
   "source": [
    "df=df.caiman.reload_from_disk()\n",
    "df"
   ]
  },
  {
   "cell_type": "code",
   "execution_count": 22,
   "id": "eb184c03",
   "metadata": {},
   "outputs": [
    {
     "name": "stdout",
     "output_type": "stream",
     "text": [
      "/home/mbo/caiman_data_org/aab79e23-ebcc-45cb-a12b-6f7e3eae935c.runfile\n"
     ]
    },
    {
     "name": "stderr",
     "output_type": "stream",
     "text": [
      "2024-09-10 09:56:29.739346: E external/local_xla/xla/stream_executor/cuda/cuda_dnn.cc:9261] Unable to register cuDNN factory: Attempting to register factory for plugin cuDNN when one has already been registered\n",
      "2024-09-10 09:56:29.739377: E external/local_xla/xla/stream_executor/cuda/cuda_fft.cc:607] Unable to register cuFFT factory: Attempting to register factory for plugin cuFFT when one has already been registered\n",
      "2024-09-10 09:56:29.739732: E external/local_xla/xla/stream_executor/cuda/cuda_blas.cc:1515] Unable to register cuBLAS factory: Attempting to register factory for plugin cuBLAS when one has already been registered\n",
      "2024-09-10 09:56:29.742479: I tensorflow/core/platform/cpu_feature_guard.cc:182] This TensorFlow binary is optimized to use available CPU instructions in performance-critical operations.\n",
      "To enable the following instructions: SSE4.1 SSE4.2 AVX AVX2 FMA, in other operations, rebuild TensorFlow with the appropriate compiler flags.\n",
      "The local backend is an alias for the multiprocessing backend, and the alias may be removed in some future version of Caiman\n",
      "In setting CNMFParams, non-pathed parameters were used; this is deprecated. In some future version of Caiman, allow_legacy will default to False (and eventually will be removed)\n",
      "\n",
      "  0%|          | 0/1 [00:00<?, ?it/s]\n",
      "  0%|          | 0/1 [00:00<?, ?it/s]\n",
      "100%|██████████| 1/1 [00:00<00:00,  1.38it/s]\n",
      "100%|██████████| 1/1 [00:00<00:00,  1.38it/s]\n",
      "\n",
      "100%|██████████| 1/1 [00:00<00:00,  1.37it/s]\n",
      "100%|██████████| 1/1 [00:00<00:00,  1.37it/s]\n",
      "\n"
     ]
    },
    {
     "name": "stdout",
     "output_type": "stream",
     "text": [
      "starting mc\n",
      "MotionCorrect() called.\n",
      "/home/mbo/caiman_data_org/animal_01/session_01/plane_1.zarr\n",
      "mov\n",
      "/home/mbo/caiman_data_org/animal_01/session_01/plane_1.zarr\n",
      "mov\n",
      "mc finished successfully!\n",
      "computing projections\n",
      "Computing correlation image\n",
      "finished computing correlation image\n",
      "\n",
      "/home/mbo/caiman_data_org/247620be-d14b-46da-b6ba-6c73bf607b02.runfile\n",
      "starting mc\n",
      "MotionCorrect() called.\n",
      "/home/mbo/caiman_data_org/animal_01/session_01/plane_1.zarr\n",
      "mov\n",
      "/home/mbo/caiman_data_org/animal_01/session_01/plane_1.zarr\n",
      "mov\n",
      "mc finished successfully!\n",
      "computing projections\n",
      "Computing correlation image\n",
      "finished computing correlation image\n",
      "\n"
     ]
    },
    {
     "name": "stderr",
     "output_type": "stream",
     "text": [
      "2024-09-10 09:57:16.060074: E external/local_xla/xla/stream_executor/cuda/cuda_dnn.cc:9261] Unable to register cuDNN factory: Attempting to register factory for plugin cuDNN when one has already been registered\n",
      "2024-09-10 09:57:16.060118: E external/local_xla/xla/stream_executor/cuda/cuda_fft.cc:607] Unable to register cuFFT factory: Attempting to register factory for plugin cuFFT when one has already been registered\n",
      "2024-09-10 09:57:16.060577: E external/local_xla/xla/stream_executor/cuda/cuda_blas.cc:1515] Unable to register cuBLAS factory: Attempting to register factory for plugin cuBLAS when one has already been registered\n",
      "2024-09-10 09:57:16.064468: I tensorflow/core/platform/cpu_feature_guard.cc:182] This TensorFlow binary is optimized to use available CPU instructions in performance-critical operations.\n",
      "To enable the following instructions: SSE4.1 SSE4.2 AVX AVX2 FMA, in other operations, rebuild TensorFlow with the appropriate compiler flags.\n",
      "The local backend is an alias for the multiprocessing backend, and the alias may be removed in some future version of Caiman\n",
      "In setting CNMFParams, non-pathed parameters were used; this is deprecated. In some future version of Caiman, allow_legacy will default to False (and eventually will be removed)\n",
      "\n",
      "  0%|          | 0/1 [00:00<?, ?it/s]\n",
      "  0%|          | 0/1 [00:00<?, ?it/s]\n",
      "100%|██████████| 1/1 [00:00<00:00,  1.24it/s]\n",
      "100%|██████████| 1/1 [00:00<00:00,  1.24it/s]\n",
      "100%|██████████| 1/1 [00:00<00:00,  1.24it/s]\n",
      "100%|██████████| 1/1 [00:00<00:00,  1.24it/s]\n",
      "\n",
      "\n"
     ]
    }
   ],
   "source": [
    "# df.iloc[0].caiman.run()\n",
    "for i in [1, 2]:\n",
    "    df.iloc[i].caiman.run()"
   ]
  },
  {
   "cell_type": "code",
   "execution_count": 26,
   "id": "437e2759",
   "metadata": {},
   "outputs": [],
   "source": [
    "df = df.caiman.reload_from_disk()"
   ]
  },
  {
   "cell_type": "code",
   "execution_count": 27,
   "id": "ed1e4e4a",
   "metadata": {},
   "outputs": [
    {
     "name": "stderr",
     "output_type": "stream",
     "text": [
      "WARNING: WARNING: QApplication was not created in the main() thread.\n",
      "WARNING:vispy:WARNING: QApplication was not created in the main() thread.\n",
      "WARNING: QObject::moveToThread: Current thread (0x55ea57e0ddf0) is not the object's thread (0x55ea57c85570).\n",
      "Cannot move to target thread (0x7faa98ca0e30)\n",
      "\n",
      "WARNING:vispy:QObject::moveToThread: Current thread (0x55ea57e0ddf0) is not the object's thread (0x55ea57c85570).\n",
      "Cannot move to target thread (0x7faa98ca0e30)\n",
      "\n",
      "WARNING: Could not load the Qt platform plugin \"xcb\" in \"/home/mbo/miniconda3/envs/mbo-caiman/lib/python3.11/site-packages/cv2/qt/plugins\" even though it was found.\n",
      "WARNING:vispy:Could not load the Qt platform plugin \"xcb\" in \"/home/mbo/miniconda3/envs/mbo-caiman/lib/python3.11/site-packages/cv2/qt/plugins\" even though it was found.\n",
      "WARNING: This application failed to start because no Qt platform plugin could be initialized. Reinstalling the application may fix this problem.\n",
      "\n",
      "Available platform plugins are: xcb, eglfs, minimal, minimalegl, offscreen, vnc, webgl.\n",
      "\n"
     ]
    },
    {
     "ename": "",
     "evalue": "",
     "output_type": "error",
     "traceback": [
      "\u001b[1;31mThe Kernel crashed while executing code in the current cell or a previous cell. \n",
      "\u001b[1;31mPlease review the code in the cell(s) to identify a possible cause of the failure. \n",
      "\u001b[1;31mClick <a href='https://aka.ms/vscodeJupyterKernelCrash'>here</a> for more info. \n",
      "\u001b[1;31mView Jupyter <a href='command:jupyter.viewOutput'>log</a> for further details."
     ]
    }
   ],
   "source": [
    "import napari\n",
    "napari.view_image(df.iloc[0].caiman.get_projection('mean'))"
   ]
  },
  {
   "cell_type": "markdown",
   "id": "dfa456bf",
   "metadata": {},
   "source": [
    "# Registration parameters \n",
    "\n",
    "The parameters are passed **directly** to `caiman`, this means you need to use the same exact names for the parameters and you can use all the parameters that you can use with `caiman` - because it's just passing them to `caiman`.\n",
    "\n",
    "The parameters dict for a mesmerize batch item must have the following structure. Put all the parameters in a dict under a key called **main**. The **main** dict is then fed directly to `caiman`.\n",
    "\n",
    "```python\n",
    "{\"main\": {... params directly passed to caiman}}\n",
    "```"
   ]
  },
  {
   "cell_type": "code",
   "execution_count": 51,
   "id": "5d3334db",
   "metadata": {},
   "outputs": [
    {
     "data": {
      "text/plain": [
       "'Traceback (most recent call last):\\n  File \"/home/mbo/miniconda3/envs/mbo-caiman/lib/python3.11/site-packages/mesmerize_core/algorithms/mcorr.py\", line 66, in run_algo\\n    mc.motion_correct(save_movie=True)\\n  File \"/home/mbo/miniconda3/envs/mbo-caiman/lib/python3.11/site-packages/caiman/motion_correction.py\", line 234, in motion_correct\\n    mi = min(mi, next(iterator).min()[()])\\n                 ^^^^^^^^^^^^^^\\n  File \"/home/mbo/miniconda3/envs/mbo-caiman/lib/python3.11/site-packages/caiman/base/movies.py\", line 1914, in load_iter\\n    for y in load(file_name, var_name_hdf5=var_name_hdf5,\\n             ^^^^^^^^^^^^^^^^^^^^^^^^^^^^^^^^^^^^^^^^^^^^\\n  File \"/home/mbo/miniconda3/envs/mbo-caiman/lib/python3.11/site-packages/caiman/base/movies.py\", line 1516, in load\\n    raise Exception(\\'Unknown file type\\')\\nException: Unknown file type\\n'"
      ]
     },
     "execution_count": 51,
     "metadata": {},
     "output_type": "execute_result"
    }
   ],
   "source": [
    "df.iloc[0].outputs['traceback']"
   ]
  },
  {
   "cell_type": "code",
   "execution_count": 44,
   "id": "2bd0613b",
   "metadata": {},
   "outputs": [
    {
     "data": {
      "text/html": [
       "<div>\n",
       "<style scoped>\n",
       "    .dataframe tbody tr th:only-of-type {\n",
       "        vertical-align: middle;\n",
       "    }\n",
       "\n",
       "    .dataframe tbody tr th {\n",
       "        vertical-align: top;\n",
       "    }\n",
       "\n",
       "    .dataframe thead th {\n",
       "        text-align: right;\n",
       "    }\n",
       "</style>\n",
       "<table border=\"1\" class=\"dataframe\">\n",
       "  <thead>\n",
       "    <tr style=\"text-align: right;\">\n",
       "      <th></th>\n",
       "      <th>algo</th>\n",
       "      <th>item_name</th>\n",
       "      <th>input_movie_path</th>\n",
       "      <th>params</th>\n",
       "      <th>outputs</th>\n",
       "      <th>added_time</th>\n",
       "      <th>ran_time</th>\n",
       "      <th>algo_duration</th>\n",
       "      <th>comments</th>\n",
       "      <th>uuid</th>\n",
       "    </tr>\n",
       "  </thead>\n",
       "  <tbody>\n",
       "    <tr>\n",
       "      <th>0</th>\n",
       "      <td>mcorr</td>\n",
       "      <td>plane_1</td>\n",
       "      <td>animal_01/session_01/plane_1</td>\n",
       "      <td>{'main': {'var_name_hdf5': 'mov', 'max_shifts': (10, 10), 'strides': (48, 48), 'overlaps': (24, 24), 'max_deviation_...</td>\n",
       "      <td>None</td>\n",
       "      <td>2024-09-09T14:50:33</td>\n",
       "      <td>None</td>\n",
       "      <td>None</td>\n",
       "      <td>None</td>\n",
       "      <td>5ed9532f-a5d9-4ecb-bdae-f14b37fc2ef2</td>\n",
       "    </tr>\n",
       "    <tr>\n",
       "      <th>1</th>\n",
       "      <td>mcorr</td>\n",
       "      <td>plane_1</td>\n",
       "      <td>animal_01/session_01/plane_1</td>\n",
       "      <td>{'main': {'var_name_hdf5': 'mov', 'max_shifts': (10, 10), 'strides': (48, 48), 'overlaps': (24, 24), 'max_deviation_...</td>\n",
       "      <td>None</td>\n",
       "      <td>2024-09-09T14:50:49</td>\n",
       "      <td>None</td>\n",
       "      <td>None</td>\n",
       "      <td>None</td>\n",
       "      <td>aab79e23-ebcc-45cb-a12b-6f7e3eae935c</td>\n",
       "    </tr>\n",
       "  </tbody>\n",
       "</table>\n",
       "</div>"
      ],
      "text/plain": [
       "    algo item_name              input_movie_path  \\\n",
       "0  mcorr   plane_1  animal_01/session_01/plane_1   \n",
       "1  mcorr   plane_1  animal_01/session_01/plane_1   \n",
       "\n",
       "                                                                                                                    params  \\\n",
       "0  {'main': {'var_name_hdf5': 'mov', 'max_shifts': (10, 10), 'strides': (48, 48), 'overlaps': (24, 24), 'max_deviation_...   \n",
       "1  {'main': {'var_name_hdf5': 'mov', 'max_shifts': (10, 10), 'strides': (48, 48), 'overlaps': (24, 24), 'max_deviation_...   \n",
       "\n",
       "  outputs           added_time ran_time algo_duration comments  \\\n",
       "0    None  2024-09-09T14:50:33     None          None     None   \n",
       "1    None  2024-09-09T14:50:49     None          None     None   \n",
       "\n",
       "                                   uuid  \n",
       "0  5ed9532f-a5d9-4ecb-bdae-f14b37fc2ef2  \n",
       "1  aab79e23-ebcc-45cb-a12b-6f7e3eae935c  "
      ]
     },
     "execution_count": 44,
     "metadata": {},
     "output_type": "execute_result"
    }
   ],
   "source": [
    "rows_keep = [df.iloc[n].uuid for n in [0,1]]\n",
    "for i, row in df.iterrows():\n",
    "    if row.uuid not in rows_keep:\n",
    "        df.caiman.remove_item(row.uuid)\n",
    "\n",
    "\n",
    "df = df.caiman.reload_from_disk()\n",
    "df"
   ]
  },
  {
   "cell_type": "markdown",
   "id": "dfa456bf",
   "metadata": {},
   "source": [
    "# Registration parameters \n",
    "\n",
    "The parameters are passed **directly** to `caiman`, this means you need to use the same exact names for the parameters and you can use all the parameters that you can use with `caiman` - because it's just passing them to `caiman`.\n",
    "\n",
    "The parameters dict for a mesmerize batch item must have the following structure. Put all the parameters in a dict under a key called **main**. The **main** dict is then fed directly to `caiman`.\n",
    "\n",
    "```python\n",
    "{\"main\": {... params directly passed to caiman}}\n",
    "```"
   ]
  },
  {
   "cell_type": "code",
   "execution_count": 45,
   "id": "aea4b016",
   "metadata": {},
   "outputs": [],
   "source": [
    "pix_res = 1\n",
    "\n",
    "mx = 10/pix_res             \n",
    "max_shifts = (int(mx), int(mx))       # maximum allowed rigid shift in pixels (view the movie to get a sense of motion)\n",
    "max_deviation_rigid = 3               # maximum deviation allowed for patch with respect to rigid shifts\n",
    "pw_rigid = True                # flag for performing rigid or piecewise rigid motion correction\n",
    "shifts_opencv = True        # flag for correcting motion using bicubic interpolation (otherwise FFT interpolation is used)\n",
    "border_nan = 'copy'         # replicate values along the boundary (if True, fill in with NaN)\n",
    "\n",
    "mcorr_params = {\n",
    "    'main':  # this key is necessary for specifying that these are the \"main\" params for the algorithm\n",
    "    {\n",
    "        'var_name_hdf5': 'mov',\n",
    "        'max_shifts': max_shifts,\n",
    "        'strides': [48, 48],\n",
    "        'overlaps': [24, 24],\n",
    "        'max_deviation_rigid': 3,\n",
    "        'border_nan':border_nan,\n",
    "        'pw_rigid': pw_rigid,\n",
    "        'gSig_filt': None\n",
    "    },\n",
    "}\n",
    "\n",
    "# # Add a \"batch item\" to the DataFrame this is the combination of:\n",
    "# * algorithm to run, `algo`\n",
    "# * input movie to run the algorithm on, `input_movie_path`\n",
    "# * parameters for the specified algorithm, `params`\n",
    "# * a name for you to keep track of things, usually the same as the movie filename, `item_name`\n",
    "df.caiman.add_item(\n",
    "    algo='mcorr',\n",
    "    input_movie_path=movie_path,\n",
    "    params=mcorr_params,\n",
    "    item_name=movie_path.stem,  # filename of the movie, but can be anything\n",
    ")"
   ]
  },
  {
   "cell_type": "code",
   "execution_count": 47,
   "id": "8feff9c7",
   "metadata": {},
   "outputs": [
    {
     "data": {
      "text/html": [
       "<div>\n",
       "<style scoped>\n",
       "    .dataframe tbody tr th:only-of-type {\n",
       "        vertical-align: middle;\n",
       "    }\n",
       "\n",
       "    .dataframe tbody tr th {\n",
       "        vertical-align: top;\n",
       "    }\n",
       "\n",
       "    .dataframe thead th {\n",
       "        text-align: right;\n",
       "    }\n",
       "</style>\n",
       "<table border=\"1\" class=\"dataframe\">\n",
       "  <thead>\n",
       "    <tr style=\"text-align: right;\">\n",
       "      <th></th>\n",
       "      <th>algo</th>\n",
       "      <th>item_name</th>\n",
       "      <th>input_movie_path</th>\n",
       "      <th>params</th>\n",
       "      <th>outputs</th>\n",
       "      <th>added_time</th>\n",
       "      <th>ran_time</th>\n",
       "      <th>algo_duration</th>\n",
       "      <th>comments</th>\n",
       "      <th>uuid</th>\n",
       "    </tr>\n",
       "  </thead>\n",
       "  <tbody>\n",
       "    <tr>\n",
       "      <th>0</th>\n",
       "      <td>mcorr</td>\n",
       "      <td>plane_1</td>\n",
       "      <td>animal_01/session_01/plane_1</td>\n",
       "      <td>{'main': {'var_name_hdf5': 'mov', 'max_shifts': (10, 10), 'strides': (48, 48), 'overlaps': (24, 24), 'max_deviation_...</td>\n",
       "      <td>None</td>\n",
       "      <td>2024-09-09T14:50:33</td>\n",
       "      <td>None</td>\n",
       "      <td>None</td>\n",
       "      <td>None</td>\n",
       "      <td>5ed9532f-a5d9-4ecb-bdae-f14b37fc2ef2</td>\n",
       "    </tr>\n",
       "    <tr>\n",
       "      <th>1</th>\n",
       "      <td>mcorr</td>\n",
       "      <td>plane_1</td>\n",
       "      <td>animal_01/session_01/plane_1</td>\n",
       "      <td>{'main': {'var_name_hdf5': 'mov', 'max_shifts': (10, 10), 'strides': (48, 48), 'overlaps': (24, 24), 'max_deviation_...</td>\n",
       "      <td>None</td>\n",
       "      <td>2024-09-09T14:50:49</td>\n",
       "      <td>None</td>\n",
       "      <td>None</td>\n",
       "      <td>None</td>\n",
       "      <td>aab79e23-ebcc-45cb-a12b-6f7e3eae935c</td>\n",
       "    </tr>\n",
       "    <tr>\n",
       "      <th>2</th>\n",
       "      <td>mcorr</td>\n",
       "      <td>plane_1</td>\n",
       "      <td>animal_01/session_01/plane_1</td>\n",
       "      <td>{'main': {'var_name_hdf5': 'mov', 'max_shifts': (10, 10), 'strides': (48, 48), 'overlaps': (24, 24), 'max_deviation_...</td>\n",
       "      <td>None</td>\n",
       "      <td>2024-09-09T14:55:09</td>\n",
       "      <td>None</td>\n",
       "      <td>None</td>\n",
       "      <td>None</td>\n",
       "      <td>247620be-d14b-46da-b6ba-6c73bf607b02</td>\n",
       "    </tr>\n",
       "  </tbody>\n",
       "</table>\n",
       "</div>"
      ],
      "text/plain": [
       "    algo item_name              input_movie_path  \\\n",
       "0  mcorr   plane_1  animal_01/session_01/plane_1   \n",
       "1  mcorr   plane_1  animal_01/session_01/plane_1   \n",
       "2  mcorr   plane_1  animal_01/session_01/plane_1   \n",
       "\n",
       "                                                                                                                    params  \\\n",
       "0  {'main': {'var_name_hdf5': 'mov', 'max_shifts': (10, 10), 'strides': (48, 48), 'overlaps': (24, 24), 'max_deviation_...   \n",
       "1  {'main': {'var_name_hdf5': 'mov', 'max_shifts': (10, 10), 'strides': (48, 48), 'overlaps': (24, 24), 'max_deviation_...   \n",
       "2  {'main': {'var_name_hdf5': 'mov', 'max_shifts': (10, 10), 'strides': (48, 48), 'overlaps': (24, 24), 'max_deviation_...   \n",
       "\n",
       "  outputs           added_time ran_time algo_duration comments  \\\n",
       "0    None  2024-09-09T14:50:33     None          None     None   \n",
       "1    None  2024-09-09T14:50:49     None          None     None   \n",
       "2    None  2024-09-09T14:55:09     None          None     None   \n",
       "\n",
       "                                   uuid  \n",
       "0  5ed9532f-a5d9-4ecb-bdae-f14b37fc2ef2  \n",
       "1  aab79e23-ebcc-45cb-a12b-6f7e3eae935c  \n",
       "2  247620be-d14b-46da-b6ba-6c73bf607b02  "
      ]
     },
     "execution_count": 47,
     "metadata": {},
     "output_type": "execute_result"
    }
   ],
   "source": [
    "df=df.caiman.reload_from_disk()\n",
    "df"
   ]
  },
  {
   "cell_type": "markdown",
   "id": "7a72602b",
   "metadata": {},
   "source": [
    "## run registration for a single set of parameters\n",
    "\n",
    "Technical notes: On Linux & Mac it will run in subprocess but on Windows it will run in the local kernel."
   ]
  },
  {
   "cell_type": "code",
   "execution_count": 48,
   "id": "e78e33a7",
   "metadata": {},
   "outputs": [
    {
     "name": "stderr",
     "output_type": "stream",
     "text": [
      "2024-09-09 14:55:21.656165: E external/local_xla/xla/stream_executor/cuda/cuda_dnn.cc:9261] Unable to register cuDNN factory: Attempting to register factory for plugin cuDNN when one has already been registered\n",
      "2024-09-09 14:55:21.656193: E external/local_xla/xla/stream_executor/cuda/cuda_fft.cc:607] Unable to register cuFFT factory: Attempting to register factory for plugin cuFFT when one has already been registered\n",
      "2024-09-09 14:55:21.656517: E external/local_xla/xla/stream_executor/cuda/cuda_blas.cc:1515] Unable to register cuBLAS factory: Attempting to register factory for plugin cuBLAS when one has already been registered\n",
      "The local backend is an alias for the multiprocessing backend, and the alias may be removed in some future version of Caiman\n",
      "WARNING:root:In setting CNMFParams, non-pathed parameters were used; this is deprecated. In some future version of Caiman, allow_legacy will default to False (and eventually will be removed)\n"
     ]
    },
    {
     "name": "stdout",
     "output_type": "stream",
     "text": [
      "mc failed, stored traceback in output\n"
     ]
    },
    {
     "data": {
      "text/plain": [
       "<Popen: returncode: 0 args: '/home/mbo/caiman_data_org/5ed9532f-a5d9-4ecb-bd...>"
      ]
     },
     "execution_count": 48,
     "metadata": {},
     "output_type": "execute_result"
    }
   ],
   "source": [
    "df.iloc[0].caiman.run()"
   ]
  },
  {
   "cell_type": "code",
   "execution_count": 11,
   "id": "c0529be0",
   "metadata": {},
   "outputs": [
    {
     "name": "stderr",
     "output_type": "stream",
     "text": [
      "WARNING: Could not find the Qt platform plugin \"wayland\" in \"\"\n",
      "WARNING:vispy:Could not find the Qt platform plugin \"wayland\" in \"\"\n"
     ]
    }
   ],
   "source": [
    "# add the labels\n",
    "viewer = napari.Viewer()\n",
    "viewer.add_image(movie, name='raw_movie')\n",
    "label_layer = viewer.add_labels(labeled, name='segmentation')\n",
    "\n",
    "from scipy import ndimage as ndi\n",
    "movie = zarr.open(movie_path)['plane_1']\n",
    "labeled = ndi.label(movie)[0]\n",
    "# shapes_layer = viewer.add_shapes(\n",
    "#     bbox_rects,\n",
    "#     face_color='transparent',\n",
    "#     edge_color='green',\n",
    "#     features=features,\n",
    "#     text=text_parameters,\n",
    "#     name='bounding box',\n",
    "# )"
   ]
  },
  {
   "cell_type": "code",
   "execution_count": 1,
   "id": "b8e74044",
   "metadata": {},
   "outputs": [
    {
     "ename": "NameError",
     "evalue": "name 'df' is not defined",
     "output_type": "error",
     "traceback": [
      "\u001b[0;31m---------------------------------------------------------------------------\u001b[0m",
      "\u001b[0;31mNameError\u001b[0m                                 Traceback (most recent call last)",
      "Cell \u001b[0;32mIn[1], line 3\u001b[0m\n\u001b[1;32m      1\u001b[0m \u001b[38;5;28;01mimport\u001b[39;00m \u001b[38;5;21;01mnapari\u001b[39;00m\n\u001b[0;32m----> 3\u001b[0m napari\u001b[38;5;241m.\u001b[39mview_image(\u001b[43mdf\u001b[49m\u001b[38;5;241m.\u001b[39miloc[\u001b[38;5;241m0\u001b[39m]\u001b[38;5;241m.\u001b[39mmcorr\u001b[38;5;241m.\u001b[39mget_output())\n\u001b[1;32m      5\u001b[0m napari\u001b[38;5;241m.\u001b[39mcurrent_viewer()\u001b[38;5;241m.\u001b[39madd_image(zarr\u001b[38;5;241m.\u001b[39mopen(movie_path)[\u001b[38;5;124m'\u001b[39m\u001b[38;5;124mplane_1\u001b[39m\u001b[38;5;124m'\u001b[39m])\n",
      "\u001b[0;31mNameError\u001b[0m: name 'df' is not defined"
     ]
    }
   ],
   "source": [
    "import napari\n",
    "\n",
    "napari.view_image(df.iloc[0].mcorr.get_output())\n",
    "\n",
    "napari.current_viewer().add_image(zarr.open(movie_path)['plane_1'])"
   ]
  },
  {
   "cell_type": "code",
   "execution_count": null,
   "id": "9b7d5fb3",
   "metadata": {},
   "outputs": [],
   "source": [
    "corr, pnr = correlation_pnr(mcorr_movie, swap_dim=False)"
   ]
  },
  {
   "cell_type": "markdown",
   "id": "26c8bbdc",
   "metadata": {},
   "source": [
    "# Registration Grid Search\n",
    "\n",
    "More runs with varying parameters, stored on disk in the dataframe batch.pickle"
   ]
  },
  {
   "cell_type": "code",
   "execution_count": 33,
   "id": "6f736309",
   "metadata": {},
   "outputs": [
    {
     "data": {
      "text/html": [
       "<div>\n",
       "<style scoped>\n",
       "    .dataframe tbody tr th:only-of-type {\n",
       "        vertical-align: middle;\n",
       "    }\n",
       "\n",
       "    .dataframe tbody tr th {\n",
       "        vertical-align: top;\n",
       "    }\n",
       "\n",
       "    .dataframe thead th {\n",
       "        text-align: right;\n",
       "    }\n",
       "</style>\n",
       "<table border=\"1\" class=\"dataframe\">\n",
       "  <thead>\n",
       "    <tr style=\"text-align: right;\">\n",
       "      <th></th>\n",
       "      <th>algo</th>\n",
       "      <th>item_name</th>\n",
       "      <th>input_movie_path</th>\n",
       "      <th>params</th>\n",
       "      <th>outputs</th>\n",
       "      <th>added_time</th>\n",
       "      <th>ran_time</th>\n",
       "      <th>algo_duration</th>\n",
       "      <th>comments</th>\n",
       "      <th>uuid</th>\n",
       "    </tr>\n",
       "  </thead>\n",
       "  <tbody>\n",
       "    <tr>\n",
       "      <th>0</th>\n",
       "      <td>mcorr</td>\n",
       "      <td>save_gui</td>\n",
       "      <td>animal_01/session_01/save_gui.zarr</td>\n",
       "      <td>{'main': {'var_name_hdf5': 'plane_2', 'max_shi...</td>\n",
       "      <td>None</td>\n",
       "      <td>2024-09-06T00:19:51</td>\n",
       "      <td>None</td>\n",
       "      <td>None</td>\n",
       "      <td>None</td>\n",
       "      <td>9781250d-22cb-4ebc-9de1-ad97e101ddee</td>\n",
       "    </tr>\n",
       "    <tr>\n",
       "      <th>1</th>\n",
       "      <td>mcorr</td>\n",
       "      <td>save_gui</td>\n",
       "      <td>animal_01/session_01/save_gui.zarr</td>\n",
       "      <td>{'main': {'var_name_hdf5': 'plane_2', 'max_shi...</td>\n",
       "      <td>None</td>\n",
       "      <td>2024-09-06T00:19:51</td>\n",
       "      <td>None</td>\n",
       "      <td>None</td>\n",
       "      <td>None</td>\n",
       "      <td>5ffcad60-5506-4243-936c-f8473ff4ab50</td>\n",
       "    </tr>\n",
       "    <tr>\n",
       "      <th>2</th>\n",
       "      <td>mcorr</td>\n",
       "      <td>save_gui</td>\n",
       "      <td>animal_01/session_01/save_gui.zarr</td>\n",
       "      <td>{'main': {'var_name_hdf5': 'plane_2', 'max_shi...</td>\n",
       "      <td>None</td>\n",
       "      <td>2024-09-06T00:19:51</td>\n",
       "      <td>None</td>\n",
       "      <td>None</td>\n",
       "      <td>None</td>\n",
       "      <td>0a463c4f-985d-47a4-9e95-cf776d98a1a3</td>\n",
       "    </tr>\n",
       "    <tr>\n",
       "      <th>3</th>\n",
       "      <td>mcorr</td>\n",
       "      <td>save_gui</td>\n",
       "      <td>animal_01/session_01/save_gui.zarr</td>\n",
       "      <td>{'main': {'var_name_hdf5': 'plane_2', 'max_shi...</td>\n",
       "      <td>None</td>\n",
       "      <td>2024-09-06T00:19:51</td>\n",
       "      <td>None</td>\n",
       "      <td>None</td>\n",
       "      <td>None</td>\n",
       "      <td>8cb260f3-ced8-4433-b9bf-fd6116b20964</td>\n",
       "    </tr>\n",
       "  </tbody>\n",
       "</table>\n",
       "</div>"
      ],
      "text/plain": [
       "    algo item_name                    input_movie_path  \\\n",
       "0  mcorr  save_gui  animal_01/session_01/save_gui.zarr   \n",
       "1  mcorr  save_gui  animal_01/session_01/save_gui.zarr   \n",
       "2  mcorr  save_gui  animal_01/session_01/save_gui.zarr   \n",
       "3  mcorr  save_gui  animal_01/session_01/save_gui.zarr   \n",
       "\n",
       "                                              params outputs  \\\n",
       "0  {'main': {'var_name_hdf5': 'plane_2', 'max_shi...    None   \n",
       "1  {'main': {'var_name_hdf5': 'plane_2', 'max_shi...    None   \n",
       "2  {'main': {'var_name_hdf5': 'plane_2', 'max_shi...    None   \n",
       "3  {'main': {'var_name_hdf5': 'plane_2', 'max_shi...    None   \n",
       "\n",
       "            added_time ran_time algo_duration comments  \\\n",
       "0  2024-09-06T00:19:51     None          None     None   \n",
       "1  2024-09-06T00:19:51     None          None     None   \n",
       "2  2024-09-06T00:19:51     None          None     None   \n",
       "3  2024-09-06T00:19:51     None          None     None   \n",
       "\n",
       "                                   uuid  \n",
       "0  9781250d-22cb-4ebc-9de1-ad97e101ddee  \n",
       "1  5ffcad60-5506-4243-936c-f8473ff4ab50  \n",
       "2  0a463c4f-985d-47a4-9e95-cf776d98a1a3  \n",
       "3  8cb260f3-ced8-4433-b9bf-fd6116b20964  "
      ]
     },
     "execution_count": 33,
     "metadata": {},
     "output_type": "execute_result"
    }
   ],
   "source": [
    "# copy the mcorr_params2 dict to make some changes\n",
    "\n",
    "# some variants of max_shifts\n",
    "for shifts in [2,32]: \n",
    "    for strides in [12,64]:\n",
    "        overlaps = int(strides / 2)\n",
    "        # deep copy is the safest way to copy dicts\n",
    "        new_params = deepcopy(mcorr_params)\n",
    "\n",
    "        # assign the \"max_shifts\"\n",
    "        new_params[\"main\"][\"max_shifts\"] = (shifts, shifts)\n",
    "        new_params[\"main\"][\"strides\"] = (strides, strides)\n",
    "        new_params[\"main\"][\"overlaps\"] = (overlaps, overlaps)\n",
    "        new_params['main']['var_name_hdf5'] = 'plane_2'\n",
    "        df.caiman.add_item(\n",
    "          algo='mcorr',\n",
    "          item_name=movie_path.stem,\n",
    "          input_movie_path=movie_path,\n",
    "          params=new_params\n",
    "        )\n",
    "            \n",
    "df.caiman.reload_from_disk()"
   ]
  },
  {
   "cell_type": "code",
   "execution_count": 36,
   "id": "5a8878b8",
   "metadata": {},
   "outputs": [
    {
     "name": "stderr",
     "output_type": "stream",
     "text": [
      "2024-09-06 00:20:18.685635: E external/local_xla/xla/stream_executor/cuda/cuda_dnn.cc:9261] Unable to register cuDNN factory: Attempting to register factory for plugin cuDNN when one has already been registered\n",
      "2024-09-06 00:20:18.685664: E external/local_xla/xla/stream_executor/cuda/cuda_fft.cc:607] Unable to register cuFFT factory: Attempting to register factory for plugin cuFFT when one has already been registered\n",
      "2024-09-06 00:20:18.686059: E external/local_xla/xla/stream_executor/cuda/cuda_blas.cc:1515] Unable to register cuBLAS factory: Attempting to register factory for plugin cuBLAS when one has already been registered\n"
     ]
    },
    {
     "name": "stdout",
     "output_type": "stream",
     "text": [
      "starting mc\n",
      "plane_2\n",
      "plane_2\n"
     ]
    },
    {
     "name": "stderr",
     "output_type": "stream",
     "text": [
      "WARNING:root:In setting CNMFParams, non-pathed parameters were used; this is deprecated. In some future version of Caiman, allow_legacy will default to False (and eventually will be removed)\n"
     ]
    },
    {
     "name": "stdout",
     "output_type": "stream",
     "text": [
      "mc finished successfully!\n",
      "computing projections\n",
      "Computing correlation image\n"
     ]
    },
    {
     "name": "stderr",
     "output_type": "stream",
     "text": [
      "100%|██████████| 1/1 [00:00<00:00,  1.89it/s]\n",
      "/home/mbo/miniconda3/envs/mbo-caiman/lib/python3.11/site-packages/caiman/summary_images.py:209: RuntimeWarning: invalid value encountered in divide\n",
      "  w_mov = (Y - np.mean(Y, axis=0)) / np.std(Y, axis=0)\n",
      "100%|██████████| 1/1 [00:00<00:00,  1.65it/s]\n"
     ]
    },
    {
     "name": "stdout",
     "output_type": "stream",
     "text": [
      "finished computing correlation image\n"
     ]
    },
    {
     "name": "stderr",
     "output_type": "stream",
     "text": [
      "2024-09-06 00:33:07.741165: E external/local_xla/xla/stream_executor/cuda/cuda_dnn.cc:9261] Unable to register cuDNN factory: Attempting to register factory for plugin cuDNN when one has already been registered\n",
      "2024-09-06 00:33:07.741197: E external/local_xla/xla/stream_executor/cuda/cuda_fft.cc:607] Unable to register cuFFT factory: Attempting to register factory for plugin cuFFT when one has already been registered\n",
      "2024-09-06 00:33:07.741594: E external/local_xla/xla/stream_executor/cuda/cuda_blas.cc:1515] Unable to register cuBLAS factory: Attempting to register factory for plugin cuBLAS when one has already been registered\n"
     ]
    },
    {
     "name": "stdout",
     "output_type": "stream",
     "text": [
      "starting mc\n",
      "plane_2\n",
      "plane_2\n"
     ]
    },
    {
     "name": "stderr",
     "output_type": "stream",
     "text": [
      "WARNING:root:In setting CNMFParams, non-pathed parameters were used; this is deprecated. In some future version of Caiman, allow_legacy will default to False (and eventually will be removed)\n"
     ]
    },
    {
     "name": "stdout",
     "output_type": "stream",
     "text": [
      "mc finished successfully!\n",
      "computing projections\n",
      "Computing correlation image\n"
     ]
    },
    {
     "name": "stderr",
     "output_type": "stream",
     "text": [
      "100%|██████████| 1/1 [00:00<00:00,  1.33it/s]\n",
      "/home/mbo/miniconda3/envs/mbo-caiman/lib/python3.11/site-packages/caiman/summary_images.py:209: RuntimeWarning: invalid value encountered in divide\n",
      "  w_mov = (Y - np.mean(Y, axis=0)) / np.std(Y, axis=0)\n",
      "100%|██████████| 1/1 [00:00<00:00,  2.14it/s]\n"
     ]
    },
    {
     "name": "stdout",
     "output_type": "stream",
     "text": [
      "finished computing correlation image\n"
     ]
    },
    {
     "name": "stderr",
     "output_type": "stream",
     "text": [
      "2024-09-06 00:35:33.807009: E external/local_xla/xla/stream_executor/cuda/cuda_dnn.cc:9261] Unable to register cuDNN factory: Attempting to register factory for plugin cuDNN when one has already been registered\n",
      "2024-09-06 00:35:33.807036: E external/local_xla/xla/stream_executor/cuda/cuda_fft.cc:607] Unable to register cuFFT factory: Attempting to register factory for plugin cuFFT when one has already been registered\n",
      "2024-09-06 00:35:33.807428: E external/local_xla/xla/stream_executor/cuda/cuda_blas.cc:1515] Unable to register cuBLAS factory: Attempting to register factory for plugin cuBLAS when one has already been registered\n"
     ]
    },
    {
     "name": "stdout",
     "output_type": "stream",
     "text": [
      "starting mc\n",
      "plane_2\n",
      "plane_2\n"
     ]
    },
    {
     "name": "stderr",
     "output_type": "stream",
     "text": [
      "WARNING:root:In setting CNMFParams, non-pathed parameters were used; this is deprecated. In some future version of Caiman, allow_legacy will default to False (and eventually will be removed)\n"
     ]
    },
    {
     "name": "stdout",
     "output_type": "stream",
     "text": [
      "mc finished successfully!\n",
      "computing projections\n",
      "Computing correlation image\n"
     ]
    },
    {
     "name": "stderr",
     "output_type": "stream",
     "text": [
      "100%|██████████| 1/1 [00:00<00:00,  1.66it/s]\n",
      "/home/mbo/miniconda3/envs/mbo-caiman/lib/python3.11/site-packages/caiman/summary_images.py:209: RuntimeWarning: invalid value encountered in divide\n",
      "  w_mov = (Y - np.mean(Y, axis=0)) / np.std(Y, axis=0)\n",
      "100%|██████████| 1/1 [00:00<00:00,  1.66it/s]\n"
     ]
    },
    {
     "name": "stdout",
     "output_type": "stream",
     "text": [
      "finished computing correlation image\n"
     ]
    },
    {
     "name": "stderr",
     "output_type": "stream",
     "text": [
      "2024-09-06 00:48:23.362092: E external/local_xla/xla/stream_executor/cuda/cuda_dnn.cc:9261] Unable to register cuDNN factory: Attempting to register factory for plugin cuDNN when one has already been registered\n",
      "2024-09-06 00:48:23.362126: E external/local_xla/xla/stream_executor/cuda/cuda_fft.cc:607] Unable to register cuFFT factory: Attempting to register factory for plugin cuFFT when one has already been registered\n",
      "2024-09-06 00:48:23.362527: E external/local_xla/xla/stream_executor/cuda/cuda_blas.cc:1515] Unable to register cuBLAS factory: Attempting to register factory for plugin cuBLAS when one has already been registered\n"
     ]
    },
    {
     "name": "stdout",
     "output_type": "stream",
     "text": [
      "starting mc\n",
      "plane_2\n",
      "plane_2\n"
     ]
    },
    {
     "name": "stderr",
     "output_type": "stream",
     "text": [
      "WARNING:root:In setting CNMFParams, non-pathed parameters were used; this is deprecated. In some future version of Caiman, allow_legacy will default to False (and eventually will be removed)\n"
     ]
    },
    {
     "name": "stdout",
     "output_type": "stream",
     "text": [
      "mc finished successfully!\n",
      "computing projections\n",
      "Computing correlation image\n"
     ]
    },
    {
     "name": "stderr",
     "output_type": "stream",
     "text": [
      "100%|██████████| 1/1 [00:00<00:00,  1.67it/s]\n",
      "/home/mbo/miniconda3/envs/mbo-caiman/lib/python3.11/site-packages/caiman/summary_images.py:209: RuntimeWarning: invalid value encountered in divide\n",
      "  w_mov = (Y - np.mean(Y, axis=0)) / np.std(Y, axis=0)\n",
      "100%|██████████| 1/1 [00:00<00:00,  2.13it/s]\n"
     ]
    },
    {
     "name": "stdout",
     "output_type": "stream",
     "text": [
      "finished computing correlation image\n"
     ]
    }
   ],
   "source": [
    "for i, row in df.iterrows():\n",
    "    if row[\"outputs\"] is not None: # item has already been run\n",
    "        continue # skip\n",
    "        \n",
    "    process = row.caiman.run()\n",
    "    \n",
    "    # on Windows you MUST reload the batch dataframe after every iteration because it uses the `local` backend.\n",
    "    # this is unnecessary on Linux & Mac\n",
    "    # \"DummyProcess\" is used for local backend so this is automatic\n",
    "    if process.__class__.__name__ == \"DummyProcess\":\n",
    "        df = df.caiman.reload_from_disk()"
   ]
  },
  {
   "cell_type": "markdown",
   "id": "cf7a3329",
   "metadata": {},
   "source": [
    "\n",
    "# Distinguishing parameter variants\n",
    "\n",
    "We can see that there are many parameter variants, but it is not easy to see the differences in parameters between the rows that have the same `item_name`.\n",
    "\n",
    "We can use the `caiman.get_params_diffs()` to see the unique parameters between rows with the same `item_name`"
   ]
  },
  {
   "cell_type": "code",
   "execution_count": 20,
   "id": "09903b29",
   "metadata": {},
   "outputs": [
    {
     "data": {
      "text/html": [
       "<div>\n",
       "<style scoped>\n",
       "    .dataframe tbody tr th:only-of-type {\n",
       "        vertical-align: middle;\n",
       "    }\n",
       "\n",
       "    .dataframe tbody tr th {\n",
       "        vertical-align: top;\n",
       "    }\n",
       "\n",
       "    .dataframe thead th {\n",
       "        text-align: right;\n",
       "    }\n",
       "</style>\n",
       "<table border=\"1\" class=\"dataframe\">\n",
       "  <thead>\n",
       "    <tr style=\"text-align: right;\">\n",
       "      <th></th>\n",
       "      <th>overlaps</th>\n",
       "      <th>strides</th>\n",
       "      <th>max_shifts</th>\n",
       "    </tr>\n",
       "  </thead>\n",
       "  <tbody>\n",
       "    <tr>\n",
       "      <th>0</th>\n",
       "      <td>(6, 6)</td>\n",
       "      <td>(12, 12)</td>\n",
       "      <td>(2, 2)</td>\n",
       "    </tr>\n",
       "    <tr>\n",
       "      <th>1</th>\n",
       "      <td>(32, 32)</td>\n",
       "      <td>(64, 64)</td>\n",
       "      <td>(2, 2)</td>\n",
       "    </tr>\n",
       "    <tr>\n",
       "      <th>2</th>\n",
       "      <td>(6, 6)</td>\n",
       "      <td>(12, 12)</td>\n",
       "      <td>(32, 32)</td>\n",
       "    </tr>\n",
       "    <tr>\n",
       "      <th>3</th>\n",
       "      <td>(32, 32)</td>\n",
       "      <td>(64, 64)</td>\n",
       "      <td>(32, 32)</td>\n",
       "    </tr>\n",
       "  </tbody>\n",
       "</table>\n",
       "</div>"
      ],
      "text/plain": [
       "   overlaps   strides max_shifts\n",
       "0    (6, 6)  (12, 12)     (2, 2)\n",
       "1  (32, 32)  (64, 64)     (2, 2)\n",
       "2    (6, 6)  (12, 12)   (32, 32)\n",
       "3  (32, 32)  (64, 64)   (32, 32)"
      ]
     },
     "execution_count": 20,
     "metadata": {},
     "output_type": "execute_result"
    }
   ],
   "source": [
    "diffs = df.caiman.get_params_diffs(algo=\"mcorr\", item_name=df.iloc[0][\"item_name\"])\n",
    "diffs"
   ]
  },
  {
   "cell_type": "markdown",
   "id": "b62ca34d",
   "metadata": {},
   "source": [
    "# Use the varients to organize results to run multiple batch items.\n",
    "\n",
    "`df.iterrows()` iterates through rows and returns the numerical index and row for each iteration"
   ]
  },
  {
   "cell_type": "code",
   "execution_count": 21,
   "id": "0b672ddb",
   "metadata": {},
   "outputs": [
    {
     "data": {
      "text/plain": [
       "['raw',\n",
       " 'ix 0: max_sh: 2, str: 12, ove: 6',\n",
       " 'ix 1: max_sh: 2, str: 64, ove: 32',\n",
       " 'ix 2: max_sh: 32, str: 12, ove: 6',\n",
       " 'ix 3: max_sh: 32, str: 64, ove: 32']"
      ]
     },
     "execution_count": 21,
     "metadata": {},
     "output_type": "execute_result"
    }
   ],
   "source": [
    "subplot_names"
   ]
  },
  {
   "cell_type": "code",
   "execution_count": 14,
   "id": "17637deb",
   "metadata": {},
   "outputs": [
    {
     "name": "stdout",
     "output_type": "stream",
     "text": [
      "mcorr\n",
      "mcorr\n",
      "mcorr\n",
      "mcorr\n"
     ]
    }
   ],
   "source": [
    "plane = df.iloc[2].params['main']['var_name_hdf5']\n",
    "\n",
    "# first item is just the raw movie\n",
    "movies = [zarr.open(movie_path)[plane]]\n",
    "subplot_names = [\"raw\"]\n",
    "\n",
    "means = [df.iloc[0].caiman.get_projection(\"mean\")]\n",
    "\n",
    "# get the param diffs to set plot titles\n",
    "param_diffs = df.caiman.get_params_diffs(\"mcorr\", item_name=df.iloc[0][\"item_name\"])\n",
    "\n",
    "# add all the mcorr outputs to the list\n",
    "for i, row in df.iterrows():\n",
    "\n",
    "    if row.algo != 'mcorr':\n",
    "        continue\n",
    "\n",
    "    # add to the list of movies to plot\n",
    "    movies.append(row.mcorr.get_output())\n",
    "\n",
    "    max_shifts = param_diffs.iloc[i][\"max_shifts\"][0]\n",
    "    strides = param_diffs.iloc[i][\"strides\"][0]\n",
    "    overlaps = param_diffs.iloc[i][\"overlaps\"][0]\n",
    "    \n",
    "    # subplot title to show dataframe index\n",
    "    subplot_names.append(f\"ix {i}: max_sh: {max_shifts}, str: {strides}, ove: {overlaps}\")\n",
    "    \n",
    "    # mean images which we'll use later\n",
    "    means.append(row.caiman.get_projection(\"mean\"))"
   ]
  },
  {
   "cell_type": "code",
   "execution_count": 23,
   "id": "fc65a79b",
   "metadata": {},
   "outputs": [
    {
     "data": {
      "text/plain": [
       "Viewer(camera=Camera(center=(0.0, 299.5, 279.5), zoom=1.3079464285714284, angles=(0.0, 0.0, 90.0), perspective=0.0, mouse_pan=True, mouse_zoom=True), cursor=Cursor(position=(864.0, 1.0, 0.0), scaled=True, style=<CursorStyle.STANDARD: 'standard'>, size=1.0), dims=Dims(ndim=3, ndisplay=2, order=(0, 1, 2), axis_labels=('0', '1', '2'), rollable=(True, True, True), range=(RangeTuple(start=0.0, stop=1729.0, step=1.0), RangeTuple(start=0.0, stop=599.0, step=1.0), RangeTuple(start=0.0, stop=559.0, step=1.0)), margin_left=(0.0, 0.0, 0.0), margin_right=(0.0, 0.0, 0.0), point=(864.0, 299.0, 279.0), last_used=0), grid=GridCanvas(stride=1, shape=(-1, -1), enabled=False), layers=[<Image layer 'raw' at 0x7f202c877f50>], help='use <2> for transform', status='Ready', tooltip=Tooltip(visible=False, text=''), theme='dark', title='napari', mouse_over_canvas=False, mouse_move_callbacks=[], mouse_drag_callbacks=[], mouse_double_click_callbacks=[], mouse_wheel_callbacks=[<function dims_scroll at 0x7f22ca409da0>], _persisted_mouse_event={}, _mouse_drag_gen={}, _mouse_wheel_gen={}, _keymap={})"
      ]
     },
     "execution_count": 23,
     "metadata": {},
     "output_type": "execute_result"
    }
   ],
   "source": [
    "napari.view_image(movies[0], name=subplot_names[0])\n",
    "\n",
    "# mcorr_movie = df.iloc[0].mcorr.get_output()\n",
    "# mcorr_movie2 = df.iloc[-1].mcorr.get_output()\n",
    "# corr, pnr = correlation_pnr(mcorr_movie, swap_dim=False)\n",
    "# corr2, pnr2 = correlation_pnr(mcorr_movie2, swap_dim=False)"
   ]
  },
  {
   "cell_type": "code",
   "execution_count": 47,
   "id": "1ee19a36",
   "metadata": {},
   "outputs": [
    {
     "data": {
      "text/plain": [
       "<Image layer 'Mean Correlation2' at 0x7fe77fe5cad0>"
      ]
     },
     "execution_count": 47,
     "metadata": {},
     "output_type": "execute_result"
    }
   ],
   "source": [
    "import napari\n",
    "viewer = napari.Viewer()\n",
    "viewer.add_image(mcorr_movie, name=f'plane_2_a')\n",
    "viewer.add_image(mcorr_movie2, name=f'plane_2_b')\n",
    "viewer.add_image(corr, name=\"Mean Correlation\")\n",
    "viewer.add_image(corr2, name=\"Mean Correlation2\")"
   ]
  },
  {
   "cell_type": "markdown",
   "id": "4c8e971b",
   "metadata": {},
   "source": [
    "## Correlation metrics\n",
    "\n",
    "Create a couple of summary images of the movie, including:\n",
    "- maximum projection (the maximum value of each pixel) \n",
    "- correlation image (how correlated each pixel is with its neighbors)\n",
    "\n",
    "If a pixel comes from an active neural component it will tend to be highly correlated with its neighbors."
   ]
  },
  {
   "cell_type": "code",
   "execution_count": null,
   "id": "1d47519c",
   "metadata": {},
   "outputs": [],
   "source": [
    "row_index = i\n",
    "\n",
    "mean_proj = df.iloc[i].caiman.get_projection(\"mean\")\n",
    "max_proj = df.iloc[i].caiman.get_projection(\"max\")\n",
    "std_proj = df.iloc[i].caiman.get_projection(\"std\")\n",
    "corr_image = df.iloc[i].caiman.get_corr_image()\n",
    "# viewer.add_image(mcorr_movie, rgb=False, multiscale=False)\n",
    "# viewer.add_image(input_movie['plane_1'], rgb=False, multiscale=False)\n",
    "\n",
    "viewer = napari.Viewer()\n",
    "viewer.add_image(mean_proj)\n",
    "viewer.add_image(std_proj)\n",
    "viewer.add_image(max_proj)\n",
    "viewer.add_image(corr_image)"
   ]
  },
  {
   "cell_type": "markdown",
   "id": "55468684",
   "metadata": {},
   "source": [
    "## Pixel Shifts"
   ]
  },
  {
   "cell_type": "code",
   "execution_count": 64,
   "id": "8666a389",
   "metadata": {},
   "outputs": [
    {
     "data": {
      "text/plain": [
       "[<matplotlib.lines.Line2D at 0x7fe7d78e7d10>]"
      ]
     },
     "execution_count": 64,
     "metadata": {},
     "output_type": "execute_result"
    },
    {
     "data": {
      "image/png": "[encoded data removed]",
      "text/plain": [
       "<Figure size 640x480 with 1 Axes>"
      ]
     },
     "metadata": {},
     "output_type": "display_data"
    }
   ],
   "source": [
    "row_idx = 0\n",
    "\n",
    "shifts = df.iloc[row_idx].mcorr.get_shifts()\n",
    "shifts = shifts[1]\n",
    "shiftsx = [x[0] for x in shifts]\n",
    "shiftsy = [x[1] for x in shifts]\n",
    "shiftsx_mean = [np.mean(x) for x in shiftsx]\n",
    "shiftsy_mean = [np.mean(y) for y in shiftsy]\n",
    "#%%\n",
    "xr = list(range(1730))\n",
    "plt.plot(xr, shiftsx_mean)\n",
    "plt.title('X Shifts (pw-rigid mean/patch)') # TODO: std error bars, napari layer\n",
    "plt.xlabel(\"timestep (frames)\")\n",
    "plt.ylabel(\"mean x-displacements\")\n",
    "plt.show()"
   ]
  },
  {
   "cell_type": "code",
   "execution_count": null,
   "id": "74f2e629",
   "metadata": {},
   "outputs": [],
   "source": [
    "xr = list(range(1730))\n",
    "plt.plot(xr, shiftsy_mean)"
   ]
  },
  {
   "cell_type": "markdown",
   "id": "05afae81",
   "metadata": {},
   "source": [
    "# Optional, cleanup DataFrame\n",
    "\n",
    "Use the index that works best and all other items.\n",
    "\n",
    "Remove batch items (i.e. rows) using `df.caiman.remove_item(<item_uuid>)`. This also cleans up the output data in the batch directory.\n",
    "\n",
    "**Note:** On windows calling `remove_item()` will raise a `PermissionError` if you have the memmap file open. The workaround is to shutdown the current kernel and then use `df.caiman.remove_item()`. For example, you can keep another notebook that you use just for cleaning unwanted mcorr items.\n",
    "\n",
    "There is currently no way to close a `numpy.memmap`: https://github.com/numpy/numpy/issues/13510"
   ]
  },
  {
   "cell_type": "markdown",
   "id": "4c7bb2c6",
   "metadata": {},
   "source": [
    "Indices are always reset when you use `caiman.remove_item()`. UUIDs are always preserved."
   ]
  },
  {
   "cell_type": "code",
   "execution_count": 5,
   "id": "4704176d",
   "metadata": {},
   "outputs": [
    {
     "data": {
      "text/html": [
       "<div>\n",
       "<style scoped>\n",
       "    .dataframe tbody tr th:only-of-type {\n",
       "        vertical-align: middle;\n",
       "    }\n",
       "\n",
       "    .dataframe tbody tr th {\n",
       "        vertical-align: top;\n",
       "    }\n",
       "\n",
       "    .dataframe thead th {\n",
       "        text-align: right;\n",
       "    }\n",
       "</style>\n",
       "<table border=\"1\" class=\"dataframe\">\n",
       "  <thead>\n",
       "    <tr style=\"text-align: right;\">\n",
       "      <th></th>\n",
       "      <th>algo</th>\n",
       "      <th>item_name</th>\n",
       "      <th>input_movie_path</th>\n",
       "      <th>params</th>\n",
       "      <th>outputs</th>\n",
       "      <th>added_time</th>\n",
       "      <th>ran_time</th>\n",
       "      <th>algo_duration</th>\n",
       "      <th>comments</th>\n",
       "      <th>uuid</th>\n",
       "    </tr>\n",
       "  </thead>\n",
       "  <tbody>\n",
       "    <tr>\n",
       "      <th>0</th>\n",
       "      <td>mcorr</td>\n",
       "      <td>save_gui</td>\n",
       "      <td>animal_01/session_01/save_gui.zarr</td>\n",
       "      <td>{'main': {'var_name_hdf5': 'plane_2', 'max_shifts': (2, 2), 'strides': (12, 12), 'overlaps': (6, 6), 'max_deviation_...</td>\n",
       "      <td>{'mean-projection-path': 9781250d-22cb-4ebc-9de1-ad97e101ddee/9781250d-22cb-4ebc-9de1-ad97e101ddee_mean_projection.n...</td>\n",
       "      <td>2024-09-06T00:19:51</td>\n",
       "      <td>2024-09-06T00:33:05</td>\n",
       "      <td>764.98 sec</td>\n",
       "      <td>None</td>\n",
       "      <td>9781250d-22cb-4ebc-9de1-ad97e101ddee</td>\n",
       "    </tr>\n",
       "    <tr>\n",
       "      <th>1</th>\n",
       "      <td>mcorr</td>\n",
       "      <td>save_gui</td>\n",
       "      <td>animal_01/session_01/save_gui.zarr</td>\n",
       "      <td>{'main': {'var_name_hdf5': 'plane_2', 'max_shifts': (2, 2), 'strides': (64, 64), 'overlaps': (32, 32), 'max_deviatio...</td>\n",
       "      <td>{'mean-projection-path': 5ffcad60-5506-4243-936c-f8473ff4ab50/5ffcad60-5506-4243-936c-f8473ff4ab50_mean_projection.n...</td>\n",
       "      <td>2024-09-06T00:19:51</td>\n",
       "      <td>2024-09-06T00:35:31</td>\n",
       "      <td>142.87 sec</td>\n",
       "      <td>None</td>\n",
       "      <td>5ffcad60-5506-4243-936c-f8473ff4ab50</td>\n",
       "    </tr>\n",
       "    <tr>\n",
       "      <th>2</th>\n",
       "      <td>mcorr</td>\n",
       "      <td>save_gui</td>\n",
       "      <td>animal_01/session_01/save_gui.zarr</td>\n",
       "      <td>{'main': {'var_name_hdf5': 'plane_2', 'max_shifts': (32, 32), 'strides': (12, 12), 'overlaps': (6, 6), 'max_deviatio...</td>\n",
       "      <td>{'mean-projection-path': 0a463c4f-985d-47a4-9e95-cf776d98a1a3/0a463c4f-985d-47a4-9e95-cf776d98a1a3_mean_projection.n...</td>\n",
       "      <td>2024-09-06T00:19:51</td>\n",
       "      <td>2024-09-06T00:48:21</td>\n",
       "      <td>766.17 sec</td>\n",
       "      <td>None</td>\n",
       "      <td>0a463c4f-985d-47a4-9e95-cf776d98a1a3</td>\n",
       "    </tr>\n",
       "    <tr>\n",
       "      <th>3</th>\n",
       "      <td>mcorr</td>\n",
       "      <td>save_gui</td>\n",
       "      <td>animal_01/session_01/save_gui.zarr</td>\n",
       "      <td>{'main': {'var_name_hdf5': 'plane_2', 'max_shifts': (32, 32), 'strides': (64, 64), 'overlaps': (32, 32), 'max_deviat...</td>\n",
       "      <td>{'mean-projection-path': 8cb260f3-ced8-4433-b9bf-fd6116b20964/8cb260f3-ced8-4433-b9bf-fd6116b20964_mean_projection.n...</td>\n",
       "      <td>2024-09-06T00:19:51</td>\n",
       "      <td>2024-09-06T00:50:47</td>\n",
       "      <td>142.94 sec</td>\n",
       "      <td>None</td>\n",
       "      <td>8cb260f3-ced8-4433-b9bf-fd6116b20964</td>\n",
       "    </tr>\n",
       "    <tr>\n",
       "      <th>4</th>\n",
       "      <td>cnmf</td>\n",
       "      <td>save_gui</td>\n",
       "      <td>8cb260f3-ced8-4433-b9bf-fd6116b20964/8cb260f3-ced8-4433-b9bf-fd6116b20964-save_gui_els__d1_600_d2_560_d3_1_order_F_f...</td>\n",
       "      <td>{'main': {'fr': 30, 'p': 1, 'nb': 2, 'merge_thr': 0.85, 'rf': 15, 'stride': 6, 'K': 4, 'gSig': (4, 4), 'ssub': 1, 't...</td>\n",
       "      <td>{'mean-projection-path': 3db5aac3-b8ab-449c-9b13-be7e6eaa19a7/3db5aac3-b8ab-449c-9b13-be7e6eaa19a7_mean_projection.n...</td>\n",
       "      <td>2024-09-06T02:52:12</td>\n",
       "      <td>2024-09-06T02:54:12</td>\n",
       "      <td>100.68 sec</td>\n",
       "      <td>None</td>\n",
       "      <td>3db5aac3-b8ab-449c-9b13-be7e6eaa19a7</td>\n",
       "    </tr>\n",
       "    <tr>\n",
       "      <th>5</th>\n",
       "      <td>cnmf</td>\n",
       "      <td>save_gui</td>\n",
       "      <td>8cb260f3-ced8-4433-b9bf-fd6116b20964/8cb260f3-ced8-4433-b9bf-fd6116b20964-save_gui_els__d1_600_d2_560_d3_1_order_F_f...</td>\n",
       "      <td>{'main': {'fr': 30, 'p': 1, 'nb': 2, 'merge_thr': 0.8, 'rf': 15, 'stride': 6, 'K': 4, 'gSig': (4, 4), 'ssub': 1, 'ts...</td>\n",
       "      <td>{'mean-projection-path': 796af0f5-678c-4a73-9991-d8d462e9d66a/796af0f5-678c-4a73-9991-d8d462e9d66a_mean_projection.n...</td>\n",
       "      <td>2024-09-06T02:55:26</td>\n",
       "      <td>2024-09-06T02:57:21</td>\n",
       "      <td>100.82 sec</td>\n",
       "      <td>None</td>\n",
       "      <td>796af0f5-678c-4a73-9991-d8d462e9d66a</td>\n",
       "    </tr>\n",
       "  </tbody>\n",
       "</table>\n",
       "</div>"
      ],
      "text/plain": [
       "    algo item_name  \\\n",
       "0  mcorr  save_gui   \n",
       "1  mcorr  save_gui   \n",
       "2  mcorr  save_gui   \n",
       "3  mcorr  save_gui   \n",
       "4   cnmf  save_gui   \n",
       "5   cnmf  save_gui   \n",
       "\n",
       "                                                                                                          input_movie_path  \\\n",
       "0                                                                                       animal_01/session_01/save_gui.zarr   \n",
       "1                                                                                       animal_01/session_01/save_gui.zarr   \n",
       "2                                                                                       animal_01/session_01/save_gui.zarr   \n",
       "3                                                                                       animal_01/session_01/save_gui.zarr   \n",
       "4  8cb260f3-ced8-4433-b9bf-fd6116b20964/8cb260f3-ced8-4433-b9bf-fd6116b20964-save_gui_els__d1_600_d2_560_d3_1_order_F_f...   \n",
       "5  8cb260f3-ced8-4433-b9bf-fd6116b20964/8cb260f3-ced8-4433-b9bf-fd6116b20964-save_gui_els__d1_600_d2_560_d3_1_order_F_f...   \n",
       "\n",
       "                                                                                                                    params  \\\n",
       "0  {'main': {'var_name_hdf5': 'plane_2', 'max_shifts': (2, 2), 'strides': (12, 12), 'overlaps': (6, 6), 'max_deviation_...   \n",
       "1  {'main': {'var_name_hdf5': 'plane_2', 'max_shifts': (2, 2), 'strides': (64, 64), 'overlaps': (32, 32), 'max_deviatio...   \n",
       "2  {'main': {'var_name_hdf5': 'plane_2', 'max_shifts': (32, 32), 'strides': (12, 12), 'overlaps': (6, 6), 'max_deviatio...   \n",
       "3  {'main': {'var_name_hdf5': 'plane_2', 'max_shifts': (32, 32), 'strides': (64, 64), 'overlaps': (32, 32), 'max_deviat...   \n",
       "4  {'main': {'fr': 30, 'p': 1, 'nb': 2, 'merge_thr': 0.85, 'rf': 15, 'stride': 6, 'K': 4, 'gSig': (4, 4), 'ssub': 1, 't...   \n",
       "5  {'main': {'fr': 30, 'p': 1, 'nb': 2, 'merge_thr': 0.8, 'rf': 15, 'stride': 6, 'K': 4, 'gSig': (4, 4), 'ssub': 1, 'ts...   \n",
       "\n",
       "                                                                                                                   outputs  \\\n",
       "0  {'mean-projection-path': 9781250d-22cb-4ebc-9de1-ad97e101ddee/9781250d-22cb-4ebc-9de1-ad97e101ddee_mean_projection.n...   \n",
       "1  {'mean-projection-path': 5ffcad60-5506-4243-936c-f8473ff4ab50/5ffcad60-5506-4243-936c-f8473ff4ab50_mean_projection.n...   \n",
       "2  {'mean-projection-path': 0a463c4f-985d-47a4-9e95-cf776d98a1a3/0a463c4f-985d-47a4-9e95-cf776d98a1a3_mean_projection.n...   \n",
       "3  {'mean-projection-path': 8cb260f3-ced8-4433-b9bf-fd6116b20964/8cb260f3-ced8-4433-b9bf-fd6116b20964_mean_projection.n...   \n",
       "4  {'mean-projection-path': 3db5aac3-b8ab-449c-9b13-be7e6eaa19a7/3db5aac3-b8ab-449c-9b13-be7e6eaa19a7_mean_projection.n...   \n",
       "5  {'mean-projection-path': 796af0f5-678c-4a73-9991-d8d462e9d66a/796af0f5-678c-4a73-9991-d8d462e9d66a_mean_projection.n...   \n",
       "\n",
       "            added_time             ran_time algo_duration comments  \\\n",
       "0  2024-09-06T00:19:51  2024-09-06T00:33:05    764.98 sec     None   \n",
       "1  2024-09-06T00:19:51  2024-09-06T00:35:31    142.87 sec     None   \n",
       "2  2024-09-06T00:19:51  2024-09-06T00:48:21    766.17 sec     None   \n",
       "3  2024-09-06T00:19:51  2024-09-06T00:50:47    142.94 sec     None   \n",
       "4  2024-09-06T02:52:12  2024-09-06T02:54:12    100.68 sec     None   \n",
       "5  2024-09-06T02:55:26  2024-09-06T02:57:21    100.82 sec     None   \n",
       "\n",
       "                                   uuid  \n",
       "0  9781250d-22cb-4ebc-9de1-ad97e101ddee  \n",
       "1  5ffcad60-5506-4243-936c-f8473ff4ab50  \n",
       "2  0a463c4f-985d-47a4-9e95-cf776d98a1a3  \n",
       "3  8cb260f3-ced8-4433-b9bf-fd6116b20964  \n",
       "4  3db5aac3-b8ab-449c-9b13-be7e6eaa19a7  \n",
       "5  796af0f5-678c-4a73-9991-d8d462e9d66a  "
      ]
     },
     "execution_count": 5,
     "metadata": {},
     "output_type": "execute_result"
    }
   ],
   "source": [
    "rows_keep = [0,1,2,3,4,5]\n",
    "for i, row in df.iterrows():\n",
    "    if i not in rows_keep:\n",
    "        df.caiman.remove_item(row.uuid, safe_removal=False)\n",
    "df"
   ]
  },
  {
   "cell_type": "markdown",
   "id": "935f1bba",
   "metadata": {},
   "source": [
    "## TODO: Motion Corretion: Optical Flow"
   ]
  },
  {
   "cell_type": "code",
   "execution_count": null,
   "id": "96ac980d",
   "metadata": {},
   "outputs": [],
   "source": [
    "##%% plot the results of Residual Optical Flow\n",
    "fls = [cm.paths.fname_derived_presuffix(mc.fname_tot_els[0], 'metrics', swapsuffix='npz'),\n",
    "       cm.paths.fname_derived_presuffix(mc.fname_tot_rig[0], 'metrics', swapsuffix='npz'),\n",
    "       cm.paths.fname_derived_presuffix(mc.fname[0],         'metrics', swapsuffix='npz'),\n",
    "      ]\n",
    "\n",
    "plt.figure(figsize = (20,10))\n",
    "for cnt, fl, metr in zip(range(len(fls)), fls, ['pw_rigid','rigid','raw']):\n",
    "    with np.load(fl) as ld:\n",
    "        print(ld.keys())\n",
    "        print(fl)\n",
    "        print(str(np.mean(ld['norms'])) + '+/-' + str(np.std(ld['norms'])) +\n",
    "              ' ; ' + str(ld['smoothness']) + ' ; ' + str(ld['smoothness_corr']))\n",
    "        \n",
    "        plt.subplot(len(fls), 3, 1 + 3 * cnt)\n",
    "        plt.ylabel(metr)\n",
    "        print(f\"Loading data with base {fl[:-12]}\")\n",
    "        try:\n",
    "            mean_img = np.mean(\n",
    "            cm.load(fl[:-12] + '.mmap'), 0)[12:-12, 12:-12]\n",
    "        except:\n",
    "            try:\n",
    "                mean_img = np.mean(\n",
    "                    cm.load(fl[:-12] + '.tif'), 0)[12:-12, 12:-12]\n",
    "            except:\n",
    "                mean_img = np.mean(\n",
    "                    cm.load(fl[:-12] + 'hdf5'), 0)[12:-12, 12:-12]\n",
    "                    \n",
    "        lq, hq = np.nanpercentile(mean_img, [.5, 99.5])\n",
    "        plt.imshow(mean_img, vmin=lq, vmax=hq)\n",
    "        plt.title('Mean')\n",
    "        plt.subplot(len(fls), 3, 3 * cnt + 2)\n",
    "        plt.imshow(ld['img_corr'], vmin=0, vmax=.35)\n",
    "        plt.title('Corr image')\n",
    "        plt.subplot(len(fls), 3, 3 * cnt + 3)\n",
    "        flows = ld['flows']\n",
    "        plt.imshow(np.mean(\n",
    "        np.sqrt(flows[:, :, :, 0]**2 + flows[:, :, :, 1]**2), 0), vmin=0, vmax=0.3)\n",
    "        plt.colorbar()\n",
    "        plt.title('Mean optical flow');  "
   ]
  }
 ],
 "metadata": {
  "kernelspec": {
   "display_name": "Python 3 (ipykernel)",
   "language": "python",
   "name": "python3"
  },
  "language_info": {
   "codemirror_mode": {
    "name": "ipython",
    "version": 3
   },
   "file_extension": ".py",
   "mimetype": "text/x-python",
   "name": "python",
   "nbconvert_exporter": "python",
   "pygments_lexer": "ipython3",
   "version": "3.11.9"
  },
  "widgets": {
   "application/vnd.jupyter.widget-state+json": {
    "state": {},
    "version_major": 2,
    "version_minor": 0
   }
  }
 },
 "nbformat": 4,
 "nbformat_minor": 5
}
