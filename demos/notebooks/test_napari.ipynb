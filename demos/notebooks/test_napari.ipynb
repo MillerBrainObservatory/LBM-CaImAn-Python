{
 "cells": [
  {
   "metadata": {},
   "cell_type": "raw",
   "source": "",
   "id": "bb542d3d6a0d12df"
  },
  {
   "cell_type": "code",
   "id": "initial_id",
   "metadata": {
    "collapsed": true,
    "ExecuteTime": {
     "end_time": "2024-07-22T22:45:29.010832Z",
     "start_time": "2024-07-22T22:45:28.268662Z"
    }
   },
   "source": [
    "from pathlib import Path\n",
    "from napari.qt import thread_worker\n",
    "import napari\n",
    "from napari.types import LabelsData, LayerDataTuple\n",
    "from napari.layers import Image\n",
    "from napari.layers import Labels\n",
    "from qtpy.QtCore import Qt\n",
    "from superqt import QLabeledDoubleRangeSlider\n",
    "\n",
    "import scanreader"
   ],
   "outputs": [],
   "execution_count": 2
  },
  {
   "metadata": {
    "ExecuteTime": {
     "end_time": "2024-07-22T22:45:29.093426Z",
     "start_time": "2024-07-22T22:45:29.011601Z"
    }
   },
   "cell_type": "code",
   "source": [
    "parent = Path('/home/rbo/caiman_data')\n",
    "raw_tiff_name = parent / 'high_res.tif'\n",
    "reader = scanreader.read_scan(str(raw_tiff_name), join_contiguous=True)"
   ],
   "id": "17c946f48a880fb8",
   "outputs": [],
   "execution_count": 3
  },
  {
   "metadata": {
    "ExecuteTime": {
     "end_time": "2024-07-22T23:01:51.043696Z",
     "start_time": "2024-07-22T23:01:51.040381Z"
    }
   },
   "cell_type": "code",
   "source": [
    "def trim(scan, amounts_x):\n",
    "    new_slice_x = [slice(s.start + amounts_x[0], s.stop - amounts_x[1]) for s in scan.fields[0].output_xslices]\n",
    "    return [i for s in new_slice_x for i in range(s.start, s.stop)]\n",
    "\n",
    "def get_slice(reader,y,x,z,t):\n",
    "    return reader[:,y,x,z,t]\n",
    "\n",
    "def update_image(viewer, tleft=0, tright=0):\n",
    "    print('Calling update image')\n",
    "    trim_x = trim(reader, (tleft,tright))\n",
    "    arr = reader[:, :, trim_x, 0, 2]\n",
    "    viewer.layers[0].data = arr\n",
    "    viewer.update()"
   ],
   "id": "18da0322c591014c",
   "outputs": [],
   "execution_count": 7
  },
  {
   "metadata": {
    "ExecuteTime": {
     "end_time": "2024-07-22T23:04:02.949573Z",
     "start_time": "2024-07-22T23:04:00.936156Z"
    }
   },
   "cell_type": "code",
   "source": [
    "from magicgui import magicgui\n",
    "viewer = napari.Viewer()\n",
    "layer = viewer.add_image(reader[:,:,:,0,:].squeeze().transpose(2,0,1), name='image')"
   ],
   "id": "f7c80fe84f747a65",
   "outputs": [
    {
     "name": "stderr",
     "output_type": "stream",
     "text": [
      "/home/rbo/miniconda3/envs/mbo-mesmerize/lib/python3.10/site-packages/napari/plugins/_plugin_manager.py:560: UserWarning: Plugin 'napari-animated-gif-io' has already registered a function widget 'save as animated gif' which has now been overwritten\n",
      "  warn(message=warn_message)\n"
     ]
    }
   ],
   "execution_count": 12
  },
  {
   "metadata": {},
   "cell_type": "code",
   "outputs": [
    {
     "ename": "NameError",
     "evalue": "name 'napari' is not defined",
     "output_type": "error",
     "traceback": [
      "\u001B[0;31m---------------------------------------------------------------------------\u001B[0m",
      "\u001B[0;31mNameError\u001B[0m                                 Traceback (most recent call last)",
      "Cell \u001B[0;32mIn[1], line 21\u001B[0m\n\u001B[1;32m     18\u001B[0m update_image\u001B[38;5;241m.\u001B[39mamounts_x_start\u001B[38;5;241m.\u001B[39mchanged\u001B[38;5;241m.\u001B[39mconnect(\u001B[38;5;28;01mlambda\u001B[39;00m event: update_image())\n\u001B[1;32m     19\u001B[0m update_image\u001B[38;5;241m.\u001B[39mamounts_x_end\u001B[38;5;241m.\u001B[39mchanged\u001B[38;5;241m.\u001B[39mconnect(\u001B[38;5;28;01mlambda\u001B[39;00m event: update_image())\n\u001B[0;32m---> 21\u001B[0m viewer\u001B[38;5;241m=\u001B[39m\u001B[43mnapari\u001B[49m\u001B[38;5;241m.\u001B[39mViewer()\n\u001B[1;32m     22\u001B[0m \u001B[38;5;66;03m# Add the widget to the viewer\u001B[39;00m\n\u001B[1;32m     23\u001B[0m viewer\u001B[38;5;241m.\u001B[39mwindow\u001B[38;5;241m.\u001B[39madd_dock_widget(update_image, area\u001B[38;5;241m=\u001B[39m\u001B[38;5;124m'\u001B[39m\u001B[38;5;124mbottom\u001B[39m\u001B[38;5;124m'\u001B[39m)\n",
      "\u001B[0;31mNameError\u001B[0m: name 'napari' is not defined"
     ]
    }
   ],
   "execution_count": 1,
   "source": [
    "\n",
    "\n",
    "@layer.mouse_drag_callbacks.append\n",
    "def update_layer(layer, event):\n",
    "    layer.data = reader[]\n",
    "\n",
    "def update_image(amounts_x_start: int = 0, amounts_x_end: int = 0):\n",
    "    tx = trim(reader, (amounts_x_start, amounts_x_end))\n",
    "    trimmed = reader[:, :, tx, 0, 2]\n",
    "    \n",
    "    # Update the viewer with the new image data\n",
    "    if 'image' in viewer.layers:\n",
    "        viewer.layers['image'].data = trimmed\n",
    "    else:\n",
    "        viewer.add_image(trimmed, name='image', colormap='gray')\n",
    "\n",
    "# Connect the sliders to the update function directly\n",
    "update_image.amounts_x_start.changed.connect(lambda event: update_image())\n",
    "update_image.amounts_x_end.changed.connect(lambda event: update_image())\n",
    "\n",
    "viewer=napari.Viewer()\n",
    "# Add the widget to the viewer\n",
    "viewer.window.add_dock_widget(update_image, area='bottom')\n"
   ],
   "id": "9a0f679305fb4e2c"
  },
  {
   "metadata": {},
   "cell_type": "code",
   "execution_count": 20,
   "source": [
    "if not viewer:\n",
    "    viewer = napari.viewer()\n",
    "else:\n",
    "    viewer = napari.current_viewer()\n",
    "    viewer.add_image(reader[:,:,:,0,2].squeeze())\n",
    "viewer.window.add_dock_widget(my_slider, area='bottom')"
   ],
   "id": "9bfc824c8c017bd6",
   "outputs": []
  },
  {
   "metadata": {
    "ExecuteTime": {
     "end_time": "2024-07-22T22:17:25.876307Z",
     "start_time": "2024-07-22T22:17:25.596454Z"
    }
   },
   "cell_type": "code",
   "source": [
    "import typing\n",
    "from typing import Annotated\n",
    "from magicgui import magicgui, widgets\n",
    "\n",
    "w1 = widgets.Slider(value=15, max=25, label='Slider:')\n",
    "w2 = widgets.FloatSlider(value=10.5, max=18.5, label='FloatSlider:')\n",
    "w3 = widgets.ProgressBar(value=80, max=100, label='ProgressBar:')\n",
    "container = widgets.Container(widgets=[w1, w2, w3])\n",
    "\n",
    "def re_trim(\n",
    "    layer: 'napari.layers.Image',\n",
    "    xtrim_left: Annotated[float, {'widget_type': 'SpinBox', 'min':0, 'max': 10}] = 0,\n",
    "    xtrim_right: Annotated[float, {'widget_type': 'SpinBox', 'min':0, 'max': 10}] = 0,\n",
    ") -> 'typing.Optional[napari.types.ImageData]':\n",
    "    if layer:\n",
    "        new_trim = trim(reader, (xtrim_left, xtrim_right))\n",
    "        return reader[:,:,new_trim,0,2]\n",
    "    return None\n",
    "\n",
    "# create a viewer and add some images\n",
    "viewer = napari.Viewer()\n",
    "viewer.add_image(reader[:,:,:,0,2].squeeze(), name='astronaut')\n",
    "\n",
    "viewer.window.add_function_widget(re_trim)"
   ],
   "id": "24a2af57fccbdf9e",
   "outputs": [
    {
     "name": "stderr",
     "output_type": "stream",
     "text": [
      "/home/rbo/miniconda3/envs/mbo-mesmerize/lib/python3.10/site-packages/napari/plugins/_plugin_manager.py:560: UserWarning: Plugin 'napari-animated-gif-io' has already registered a function widget 'save as animated gif' which has now been overwritten\n",
      "  warn(message=warn_message)\n"
     ]
    },
    {
     "data": {
      "text/plain": [
       "<napari._qt.widgets.qt_viewer_dock_widget.QtViewerDockWidget at 0x7f5ebe0ebbe0>"
      ]
     },
     "execution_count": 22,
     "metadata": {},
     "output_type": "execute_result"
    }
   ],
   "execution_count": 22
  },
  {
   "metadata": {},
   "cell_type": "code",
   "outputs": [],
   "execution_count": null,
   "source": [
    "\n",
    "w1 = widgets.SpinBox(value=1, max=reader.num_channels, label='z-Plane:')"
   ],
   "id": "c050ea203e4c6b74"
  },
  {
   "metadata": {},
   "cell_type": "code",
   "outputs": [],
   "execution_count": null,
   "source": "",
   "id": "61a07db070dfdae3"
  }
 ],
 "metadata": {
  "kernelspec": {
   "display_name": "Python 3",
   "language": "python",
   "name": "python3"
  },
  "language_info": {
   "codemirror_mode": {
    "name": "ipython",
    "version": 2
   },
   "file_extension": ".py",
   "mimetype": "text/x-python",
   "name": "python",
   "nbconvert_exporter": "python",
   "pygments_lexer": "ipython2",
   "version": "2.7.6"
  }
 },
 "nbformat": 4,
 "nbformat_minor": 5
}
