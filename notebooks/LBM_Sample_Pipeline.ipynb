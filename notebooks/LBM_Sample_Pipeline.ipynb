{
 "cells": [
  {
   "cell_type": "markdown",
   "id": "905d6643-87e7-4b6d-b21d-9d779b19cbab",
   "metadata": {},
   "source": [
    "# Examining the Ground Truth LBM Dataset\n",
    "\n",
    "Input: mh89_hemisphere_00001.tif -> mh89_hemisphere_00010.tif\n",
    "- [25320, 5104, 145]\n",
    "- [Zt, y, x]\n",
    "\n",
    "## 1) Pre-Processing / Motion Correction\n",
    "\n",
    "Output: Fig2_dataset_plane_n.mat, where n = 1:30, containing the following fields:\n",
    "\n",
    "- Y: motion-corrected single plane imaging data [nx,ny,nt]\n",
    "- pixelResolution: pixel sampling [um]\n",
    "- sizY: size of y [nx,ny,nt]\n",
    "- volumeRate: volume rate [Hz]\n",
    "\n",
    "## 2) Segmentation\n",
    "\n",
    "Output: Fig2_collated_caiman_output.mat, containing the following fields:\n",
    "\n",
    "- T_all: raw neuronal traces [K,nt]\n",
    "- nx: neuronal coordinate in the x direction [K,1], [um]\n",
    "- ny: neuronal coordinate in the y direction [K,1], [um]\n",
    "- nz: neuronal coordinate in the z direction [K,1], [um]"
   ]
  },
  {
   "cell_type": "code",
   "execution_count": 2,
   "id": "c5f7ae23-b703-4919-9b55-e51dc12cbdf7",
   "metadata": {
    "execution": {
     "iopub.execute_input": "2024-03-15T20:28:30.826572Z",
     "iopub.status.busy": "2024-03-15T20:28:30.825461Z",
     "iopub.status.idle": "2024-03-15T20:28:30.915480Z",
     "shell.execute_reply": "2024-03-15T20:28:30.905937Z",
     "shell.execute_reply.started": "2024-03-15T20:28:30.826397Z"
    },
    "ExecuteTime": {
     "end_time": "2024-03-25T19:43:47.043362017Z",
     "start_time": "2024-03-25T19:43:46.328648200Z"
    }
   },
   "source": [
    "\n",
    "from pathlib import Path\n",
    "\n",
    "import numpy as np\n",
    "import tifffile\n",
    "\n",
    "\n",
    "def init_params():\n",
    "    \"\"\"\n",
    "    Initializes and returns a dictionary containing parameters for preprocessing, reconstruction,\n",
    "    visualization, and saving of imaging data.\n",
    "\n",
    "    Returns\n",
    "    -------\n",
    "    params : dict\n",
    "        A dictionary with the following keys and default values:\n",
    "        - debug (bool): Enable debug messages.\n",
    "        - chans_order_{n}planes (np.array): Channel or plane reordering array to arrange data by tissue depth for n planes.\n",
    "        - save_output (bool): If True, saves each plane in a separate folder; otherwise, saves the full volume.\n",
    "        - raw_data_dirs (list): List of strings specifying the absolute paths to folders containing data.\n",
    "        - fname_must_contain (str): Filenames must contain this string to be included in analysis.\n",
    "        - fname_must_NOT_contain (str): Filenames must not contain this string to be included in analysis.\n",
    "        - make_template_seams_and_plane_alignment (bool): Flag to indicate whether to start reconstruction.\n",
    "        - reconstruct_all_files (bool): If True, iterate over all files; otherwise, use 'reconstruct_until_this_ifile'.\n",
    "        - reconstruct_until_this_ifile (int): Number of files to process in each directory when 'reconstruct_all_files' is False.\n",
    "        - list_files_for_template (list): Indices of files to use for creating a template.\n",
    "        - seams_overlap (str or int or list): Strategy for calculating overlap. If \"calculate\", dynamically determine the optimal overlap; if int, use as fixed overlap; if list, specify overlap for each plane.\n",
    "        - save_as_volume_or_planes (str): Specifies saving mode, either as \"volume\" or \"planes\".\n",
    "        - concatenate_all_h5_to_tif (bool): If True, concatenate all .h5 files into a single .tif file.\n",
    "        - n_ignored_pixels_sides (int): Number of pixels to ignore on each side of the MROI for overlap calculation.\n",
    "        - min_seam_overlap (int): Minimum seam overlap in pixels for dynamic overlap calculation.\n",
    "        - max_seam_overlap (int): Maximum seam overlap in pixels for dynamic overlap calculation.\n",
    "        - alignment_plot_checks (bool): If True, generate plots to check alignment during processing.\n",
    "        - gaps_columns (int), gaps_rows (int): Gap sizes in pixels for visualization.\n",
    "        - intensity_percentiles (list): Percentiles for intensity scaling in visualization.\n",
    "        - meanf_png_only_first_file (bool), video_only_first_file (bool): Flags to limit certain outputs to the first file processed.\n",
    "        - video_play_speed (int), rolling_average_frames (int), video_duration_secs (int): Parameters for video visualization.\n",
    "        - lateral_align_planes (bool): If True, perform lateral alignment across planes.\n",
    "        - make_nonan_volume (bool): If True, ensure the volume does not contain NaNs by trimming or padding.\n",
    "        - add_1000_for_nonegative_volume (bool): If True, add 1000 to pixel values to ensure non-negative volumes.\n",
    "        - output_dir (Path): The directory where output files should be saved.\n",
    "        - json_logging (bool): Enable JSON format for logging debug and process information.\n",
    "\n",
    "    Notes\n",
    "    -----\n",
    "    This function should be modified to include any additional parameters required by the imaging processing\n",
    "    and analysis pipeline. Users are encouraged to adjust the default values according to their specific needs.\n",
    "\n",
    "    TODO: Implement checks with clear warnings or errors for parameter inconsistencies.\n",
    "          Detect the number of planes based on file metadata instead of relying on filename conventions.\n",
    "    \"\"\"\n",
    "    params = {\n",
    "        \"debug\": True,\n",
    "        \"chans_order_1plane\": np.array([0]),\n",
    "        \"chans_order_15planes\": np.arange(1, 16) - 1,\n",
    "        \"chans_order_30planes\": np.arange(1, 31) - 1,\n",
    "        \"raw_data_dirs\": [\"/v-data4/foconnell/data/lbm/raw\"],\n",
    "        \"output_dir\": \"preprocessed_4\",\n",
    "        \"fname_must_contain\": \"\",\n",
    "        \"fname_must_NOT_contain\": \"\",\n",
    "        \"make_template_seams_and_plane_alignment\": True,\n",
    "        \"reconstruct_all_files\": True,\n",
    "        \"list_files_for_template\": [0],\n",
    "        \"seams_overlap\": \"calculate\",\n",
    "        \"save_output\": True,\n",
    "        \"save_as_volume_or_planes\": \"planes\",\n",
    "        \"concatenate_all_h5_to_tif\": False,\n",
    "        \"n_ignored_pixels_sides\": 5,\n",
    "        \"min_seam_overlap\": 5,\n",
    "        \"max_seam_overlap\": 20,\n",
    "        \"alignment_plot_checks\": False,\n",
    "        \"gaps_columns\": 5,\n",
    "        \"gaps_rows\": 5,\n",
    "        \"intensity_percentiles\": [15, 99.5],\n",
    "        \"save_mp4\": True,\n",
    "        \"save_meanf_png\": True,\n",
    "        \"meanf_png_only_first_file\": True,\n",
    "        \"video_only_first_file\": True,\n",
    "        \"video_play_speed\": 1,\n",
    "        \"rolling_average_frames\": 1,\n",
    "        \"video_duration_secs\": 20,\n",
    "        \"lateral_align_planes\": False,\n",
    "        \"make_nonan_volume\": True,\n",
    "        \"add_1000_for_nonegative_volume\": True,\n",
    "        \"json_logging\": False,\n",
    "    }\n",
    "\n",
    "    return params\n",
    "\n",
    "params = init_params()\n"
   ],
   "outputs": []
  },
  {
   "cell_type": "markdown",
   "id": "92ed100a-cc7e-4ea3-8714-68733ee0530b",
   "metadata": {},
   "source": [
    "### Explore the ScanImage metadata\n"
   ]
  },
  {
   "cell_type": "code",
   "execution_count": 3,
   "id": "3589edd8-5cd4-4bea-ac3f-52e8c107a4f5",
   "metadata": {
    "ExecuteTime": {
     "end_time": "2024-03-25T19:44:47.211474683Z",
     "start_time": "2024-03-25T19:44:46.953837281Z"
    }
   },
   "source": [
    "raw_fnames = Path('/data2/fpo/lbm/sandbox/')\n",
    "files = [x.name for x in raw_fnames]"
   ],
   "outputs": []
  },
  {
   "cell_type": "code",
   "execution_count": 100,
   "id": "082fc9da-2bed-4c70-bb0e-29b05d40d25b",
   "metadata": {
    "editable": true,
    "execution": {
     "iopub.execute_input": "2024-03-15T20:30:02.348154Z",
     "iopub.status.busy": "2024-03-15T20:30:02.346593Z",
     "iopub.status.idle": "2024-03-15T20:30:02.386280Z",
     "shell.execute_reply": "2024-03-15T20:30:02.384526Z",
     "shell.execute_reply.started": "2024-03-15T20:30:02.348012Z"
    },
    "slideshow": {
     "slide_type": ""
    },
    "tags": []
   },
   "source": [
    "with open(raw_fnames[0], 'rb') as fh:\n",
    "    metadata = tifffile.read_scanimage_metadata(fh)\n",
    "    static_metadata = metadata[0]\n",
    "    frame_metadata = metadata[1]['RoiGroups']['imagingRoiGroup']['rois']\n",
    "\n",
    "rois = [x['scanfields'] for x in frame_metadata]\n",
    "\n",
    "print(f'Number of roi: {len(rois)}')"
   ],
   "outputs": []
  },
  {
   "cell_type": "markdown",
   "id": "3da0d764-b880-410c-9bcd-6108984f0576",
   "metadata": {},
   "source": [
    "### Pull out some metadata needed for restitching"
   ]
  },
  {
   "cell_type": "code",
   "execution_count": 98,
   "id": "3b52a523-f6d6-4fba-bc16-5c9bccbb64e9",
   "metadata": {
    "execution": {
     "iopub.execute_input": "2024-03-15T18:48:45.550064Z",
     "iopub.status.busy": "2024-03-15T18:48:45.548502Z",
     "iopub.status.idle": "2024-03-15T18:48:45.585282Z",
     "shell.execute_reply": "2024-03-15T18:48:45.583456Z",
     "shell.execute_reply.started": "2024-03-15T18:48:45.549867Z"
    }
   },
   "source": [
    "centerXY = first['centerXY']\n",
    "sizeXY = first['sizeXY']\n",
    "pixel_resolution_xy = first['pixelResolutionXY']\n",
    "\n",
    "num_frames = static_metadata['SI.hStackManager.framesPerSlice']\n",
    "num_planes = len(static_metadata['SI.hChannels.channelsActive'])\n",
    "frame_rate = static_metadata['SI.hRoiManager.scanVolumeRate']  # scanVolumeRate/scanFrameRate are the same now, but may not always be \n",
    "objective_resolution = static_metadata['SI.objectiveResolution']  # 157.5\n",
    "\n",
    "# Explore:\n",
    "lines_per_frame = static_metadata['SI.hRoiManager.linesPerFrame']\n",
    "print(f'{lines_per_frame} lines/frame')\n",
    "px_per_line = static_metadata['SI.hRoiManager.pixelsPerLine']\n",
    "print(f'{px_per_line} pixels/line')\n",
    "print(f'The difference gives {lines_per_frame - px_per_line} extra px on each strip')\n",
    "print('---')\n",
    "\n",
    "scan_frame_rate = static_metadata['SI.hRoiManager.scanFrameRate']\n",
    "print(f'Volume/frame rate: {scan_volume_rate} / {scan_frame_rate} Hz')\n",
    "scan_zoom_factor = static_metadata['SI.hRoiManager.scanZoomFactor']\n",
    "print(f'{frames_per_tiff} frames/tiff')\n",
    "\n",
    "fov = np.multiply(objective_resolution, sizeXY).astype(int)\n",
    "print(f'objective resolution: {objective_resolution} micron/angle')\n",
    "print(f'sizeXY: {sizeXY} (angle, angle)')\n",
    "print(f'FOV: {fov[0]} um x {fov[1]} um for each strip')\n",
    "print(f'pixelResolutionXY: { pixel_resolution_xy } px, which is really the number of pixels, though called \"resolution\"')\n",
    "\n",
    "\n",
    "# is fov micron/angle and xy to be angle, angle? \n",
    "# obj res micron/angle, angle "
   ],
   "outputs": []
  },
  {
   "cell_type": "code",
   "execution_count": 88,
   "id": "f277af7f-76bb-4d4c-bda6-5af296950253",
   "metadata": {
    "execution": {
     "iopub.execute_input": "2024-03-15T18:11:43.574191Z",
     "iopub.status.busy": "2024-03-15T18:11:43.573155Z",
     "iopub.status.idle": "2024-03-15T18:11:43.605166Z",
     "shell.execute_reply": "2024-03-15T18:11:43.603339Z",
     "shell.execute_reply.started": "2024-03-15T18:11:43.574050Z"
    }
   },
   "source": [
    "datapath = Path('/data2/fpo/lbm/')\n",
    "caiman_path = Path('/data2/fpo/lbm/output/')\n",
    "caiman_files = [x for x in caiman_path.glob('*.mat') if 'caiman_output_plane' in x.name]\n",
    "raw_tiff = [x for x in datapath.glob('*.tif')]\n",
    "mat_files = [x for x in datapath.glob('*.mat')]\n",
    "mc_files = [x for x in mat_files if 'plane' in x.name]\n",
    "\n",
    "caiman_files\n"
   ],
   "outputs": []
  },
  {
   "cell_type": "code",
   "execution_count": 49,
   "id": "83f8e508-9e65-4d7c-875f-64ddb6f9f826",
   "metadata": {
    "ExecuteTime": {
     "end_time": "2024-02-28T22:50:02.107487Z",
     "start_time": "2024-02-28T22:50:02.020803Z"
    },
    "editable": true,
    "execution": {
     "iopub.execute_input": "2024-03-14T17:38:11.268337Z",
     "iopub.status.busy": "2024-03-14T17:38:11.266149Z",
     "iopub.status.idle": "2024-03-14T17:38:55.247379Z",
     "shell.execute_reply": "2024-03-14T17:38:55.246261Z",
     "shell.execute_reply.started": "2024-03-14T17:38:11.268194Z"
    },
    "slideshow": {
     "slide_type": ""
    },
    "tags": []
   },
   "source": [
    "arr = tifffile.imread(\"/data2/fpo/lbm/*.tif\", aszarr=True)\n",
    "arr = dask.array.from_zarr(arr)\n",
    "\n",
    "arr.shape"
   ],
   "outputs": []
  },
  {
   "cell_type": "code",
   "execution_count": 48,
   "id": "e2dcf1c2-5653-46bf-b33c-bc9b3e7de073",
   "metadata": {
    "execution": {
     "iopub.execute_input": "2024-03-14T16:44:49.410866Z",
     "iopub.status.busy": "2024-03-14T16:44:49.407422Z",
     "iopub.status.idle": "2024-03-14T16:44:49.521006Z",
     "shell.execute_reply": "2024-03-14T16:44:49.518534Z",
     "shell.execute_reply.started": "2024-03-14T16:44:49.410620Z"
    }
   },
   "source": [
    "print(f'Data Array size: {arr.nbytes / 1e9} GB')\n",
    "arr"
   ],
   "outputs": []
  }
 ],
 "metadata": {
  "kernelspec": {
   "display_name": "Python 3 (ipykernel)",
   "language": "python",
   "name": "python3"
  },
  "language_info": {
   "codemirror_mode": {
    "name": "ipython",
    "version": 3
   },
   "file_extension": ".py",
   "mimetype": "text/x-python",
   "name": "python",
   "nbconvert_exporter": "python",
   "pygments_lexer": "ipython3",
   "version": "3.9.18"
  },
  "widgets": {
   "application/vnd.jupyter.widget-state+json": {
    "state": {},
    "version_major": 2,
    "version_minor": 0
   }
  }
 },
 "nbformat": 4,
 "nbformat_minor": 5
}
