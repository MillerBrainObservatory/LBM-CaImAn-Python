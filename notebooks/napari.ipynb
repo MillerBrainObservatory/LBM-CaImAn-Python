{
 "cells": [
  {
   "cell_type": "markdown",
   "id": "905d6643-87e7-4b6d-b21d-9d779b19cbab",
   "metadata": {},
   "source": [
    "Examining the LBM data more closely"
   ]
  },
  {
   "cell_type": "code",
   "execution_count": 2,
   "id": "1175393b1c00b405",
   "metadata": {
    "collapsed": false,
    "editable": true,
    "scrolled": true,
    "slideshow": {
     "slide_type": ""
    },
    "tags": [],
    "ExecuteTime": {
     "end_time": "2024-02-16T00:55:57.733279538Z",
     "start_time": "2024-02-16T00:55:57.695799440Z"
    }
   },
   "outputs": [],
   "source": [
    "from pprint import pprint\n",
    "from dask_image.imread import imread\n",
    "import napari\n",
    "import dask_image\n",
    "import dask\n",
    "from pathlib import Path\n",
    "import skimage.io\n",
    "import tifffile\n",
    "import scipy.io\n",
    "import numpy as np\n",
    "\n",
    "try:\n",
    "    from icecream import ic, install, argumentToString\n",
    "    install()\n",
    "except ImportError:  # graceful fallback if icecream isn't installed.\n",
    "    ic = lambda *a: None if not a else (a[0] if len(a) == 1 else a)  # noqa\n",
    "\n",
    "install()\n",
    "\n",
    "filename = \"/v-data2/jeff_demas/Jeffs LBM paper data/Fig2\"\n",
    "raw = \"/v-data2/jeff_demas/Jeffs LBM paper data/Fig2/20191122/mh89_hemisphere_FOV_50_550um_depth_250mW_dual_stimuli_30min_00001/data/mh89_hemisphere_FOV_50_550um_depth_250mW_dual_stimuli_30min_00001_00001.tif\"\n",
    "\n",
    "p = list(Path(filename).glob('**/*.tif'))\n",
    "mats = list(Path(filename).glob('**/*.mat'))"
   ]
  },
  {
   "cell_type": "markdown",
   "id": "17bd46b0-7da8-4507-8911-0f5fa6d09aeb",
   "metadata": {
    "editable": true,
    "slideshow": {
     "slide_type": ""
    },
    "tags": []
   },
   "source": [
    "Fig2_dataset_plane_n.mat, where n = 1:30, containing the following fields:\n",
    "\n",
    "Y: motion-corrected single plane imaging data [nx,ny,nt]\n",
    "pixelResolution: pixel sampling [um]\n",
    "sizY: size of y [nx,ny,nt]\n",
    "volumeRate: volume rate [Hz]\n",
    "\n",
    "Processed data file:\n",
    "\n",
    "Fig2_collated_caiman_output.mat, containing the following fields:\n",
    "\n",
    "T_all: raw neuronal traces [K,nt]\n",
    "nx: neuronal coordinate in the x direction [K,1], [um]\n",
    "ny: neuronal coordinate in the y direction [K,1], [um]\n",
    "nz: neuronal coordinate in the z direction [K,1], [um]\n"
   ]
  },
  {
   "cell_type": "code",
   "execution_count": 3,
   "id": "4194b1c7-46bc-43a7-86e4-8ca1b5513413",
   "metadata": {
    "ExecuteTime": {
     "end_time": "2024-02-16T00:56:04.166204202Z",
     "start_time": "2024-02-16T00:56:03.812754843Z"
    }
   },
   "outputs": [
    {
     "ename": "AttributeError",
     "evalue": "'str' object has no attribute 'rglob'",
     "output_type": "error",
     "traceback": [
      "\u001B[0;31m---------------------------------------------------------------------------\u001B[0m",
      "\u001B[0;31mAttributeError\u001B[0m                            Traceback (most recent call last)",
      "Cell \u001B[0;32mIn[3], line 1\u001B[0m\n\u001B[0;32m----> 1\u001B[0m raw_tiffs \u001B[38;5;241m=\u001B[39m \u001B[43mfilename\u001B[49m\u001B[38;5;241;43m.\u001B[39;49m\u001B[43mrglob\u001B[49m(\u001B[38;5;124m\"\u001B[39m\u001B[38;5;124m**/*.tif\u001B[39m\u001B[38;5;124m\"\u001B[39m)\n\u001B[1;32m      2\u001B[0m caiman_output_planes \u001B[38;5;241m=\u001B[39m [x \u001B[38;5;28;01mfor\u001B[39;00m x \u001B[38;5;129;01min\u001B[39;00m mats \u001B[38;5;28;01mif\u001B[39;00m x\u001B[38;5;241m.\u001B[39mname \u001B[38;5;129;01min\u001B[39;00m [\u001B[38;5;124m'\u001B[39m\u001B[38;5;124mcaiman_output_plane_1.mat\u001B[39m\u001B[38;5;124m'\u001B[39m, \u001B[38;5;124m'\u001B[39m\u001B[38;5;124mcaiman_output_plane_16.mat\u001B[39m\u001B[38;5;124m'\u001B[39m,\u001B[38;5;124m'\u001B[39m\u001B[38;5;124mcaiman_output_plane_30.mat\u001B[39m\u001B[38;5;124m'\u001B[39m]]\n\u001B[1;32m      3\u001B[0m caiman_bg_output_planes \u001B[38;5;241m=\u001B[39m [x \u001B[38;5;28;01mfor\u001B[39;00m x \u001B[38;5;129;01min\u001B[39;00m mats \u001B[38;5;28;01mif\u001B[39;00m x\u001B[38;5;241m.\u001B[39mname \u001B[38;5;129;01min\u001B[39;00m [\u001B[38;5;124m'\u001B[39m\u001B[38;5;124mcaiman_output_plane_1.mat\u001B[39m\u001B[38;5;124m'\u001B[39m, \u001B[38;5;124m'\u001B[39m\u001B[38;5;124mcaiman_output_plane_16.mat\u001B[39m\u001B[38;5;124m'\u001B[39m,\u001B[38;5;124m'\u001B[39m\u001B[38;5;124mcaiman_output_plane_30.mat\u001B[39m\u001B[38;5;124m'\u001B[39m]]\n",
      "\u001B[0;31mAttributeError\u001B[0m: 'str' object has no attribute 'rglob'"
     ]
    }
   ],
   "source": [
    "raw_tiffs = filename.rglob(\"**/*.tif\")\n",
    "caiman_output_planes = [x for x in mats if x.name in ['caiman_output_plane_1.mat', 'caiman_output_plane_16.mat','caiman_output_plane_30.mat']]\n",
    "caiman_bg_output_planes = [x for x in mats if x.name in ['caiman_output_plane_1.mat', 'caiman_output_plane_16.mat','caiman_output_plane_30.mat']]\n",
    "mh89_planes = [x for x in mats if x.name in ['Fig2_dataset_plane_1.mat', 'Fig2_dataset_plane_16.mat', 'Fig2_dataset_plane_30.mat']]\n",
    "output = [x for x in mats if x.name == 'Fig2_collated_caiman_output.mat'][0]"
   ]
  },
  {
   "cell_type": "code",
   "execution_count": 4,
   "id": "0230705d-439a-4a60-bcc6-b954d5abc65a",
   "metadata": {
    "ExecuteTime": {
     "end_time": "2024-02-16T00:56:07.011423964Z",
     "start_time": "2024-02-16T00:56:06.970503821Z"
    }
   },
   "outputs": [
    {
     "ename": "NameError",
     "evalue": "name 'caiman_output_planes' is not defined",
     "output_type": "error",
     "traceback": [
      "\u001B[0;31m---------------------------------------------------------------------------\u001B[0m",
      "\u001B[0;31mNameError\u001B[0m                                 Traceback (most recent call last)",
      "Cell \u001B[0;32mIn[4], line 1\u001B[0m\n\u001B[0;32m----> 1\u001B[0m caiman_output_planes_dict \u001B[38;5;241m=\u001B[39m scipy\u001B[38;5;241m.\u001B[39mio\u001B[38;5;241m.\u001B[39mloadmat(\u001B[43mcaiman_output_planes\u001B[49m[\u001B[38;5;241m0\u001B[39m])\n\u001B[1;32m      2\u001B[0m arr_A_keep \u001B[38;5;241m=\u001B[39m caiman_output_planes_dict[\u001B[38;5;124m'\u001B[39m\u001B[38;5;124mA_keep\u001B[39m\u001B[38;5;124m'\u001B[39m]\n\u001B[1;32m      3\u001B[0m arr_C_keep \u001B[38;5;241m=\u001B[39m caiman_output_planes_dict[\u001B[38;5;124m'\u001B[39m\u001B[38;5;124mC_keep\u001B[39m\u001B[38;5;124m'\u001B[39m]\n",
      "\u001B[0;31mNameError\u001B[0m: name 'caiman_output_planes' is not defined"
     ]
    }
   ],
   "source": [
    "caiman_output_planes_dict = scipy.io.loadmat(caiman_output_planes[0])\n",
    "arr_A_keep = caiman_output_planes_dict['A_keep']\n",
    "arr_C_keep = caiman_output_planes_dict['C_keep']\n",
    "arr_Cn = caiman_output_planes_dict['Cn']"
   ]
  },
  {
   "cell_type": "markdown",
   "id": "cfc48c02-af68-46df-a399-c3792d5bd1a9",
   "metadata": {},
   "source": [
    "This is a nice way to view and retrieve ScanImage metadata."
   ]
  },
  {
   "cell_type": "code",
   "execution_count": null,
   "id": "f9ba1f40-442f-42e7-b2e1-eab60dd658e4",
   "metadata": {},
   "outputs": [],
   "source": [
    "with open(p[0], 'rb') as fh:\n",
    "    metadata = tifffile.read_scanimage_metadata(fh)\n",
    "     #pprint(tifffile.read_scanimage_metadata(fh))"
   ]
  },
  {
   "cell_type": "code",
   "execution_count": null,
   "id": "3a531cce-0d5c-49ba-a3ab-cc87406d8f6c",
   "metadata": {},
   "outputs": [],
   "source": [
    "r_tiff_file = tifffile.imread(p[0], aszarr=True)\n",
    "r_arr = dask.array.from_zrr(tiff_file)"
   ]
  },
  {
   "cell_type": "markdown",
   "id": "025bb347-e9a5-44f5-aa06-75de6baf17e8",
   "metadata": {},
   "source": [
    "## Current Vaziri Implementation"
   ]
  },
  {
   "cell_type": "code",
   "execution_count": 5,
   "id": "38175531-17f3-44cb-bb54-87bda7166c6d",
   "metadata": {},
   "outputs": [],
   "source": [
    "with tifffile.TiffFile(p[0]) as tif:\n",
    "    metadata = {}\n",
    "    for tag in tif.pages[0].tags.values():\n",
    "        tag_name, tag_value = tag.name, tag.value\n",
    "        metadata[tag_name] = tag_value"
   ]
  },
  {
   "cell_type": "code",
   "execution_count": 4,
   "id": "f7d87233-ad50-4a56-9686-4f214987aefe",
   "metadata": {},
   "outputs": [
    {
     "name": "stdout",
     "output_type": "stream",
     "text": [
      "{'ImageLength': 144, 'ImageWidth': 145, 'RowsPerStrip': 144}\n"
     ]
    }
   ],
   "source": [
    "metadims = {}\n",
    "for k, v in metadata.items():\n",
    "    if v in ['145', '144', 145, 144, 5104, '5104']:\n",
    "        metadims[k] = v\n",
    "        \n",
    "pprint(metadims)"
   ]
  },
  {
   "cell_type": "code",
   "execution_count": 5,
   "id": "49f875f5-77b4-4562-803b-acb29f28eaac",
   "metadata": {
    "ExecuteTime": {
     "end_time": "2024-02-16T01:00:56.463112003Z",
     "start_time": "2024-02-16T01:00:56.441175908Z"
    }
   },
   "outputs": [],
   "source": [
    "chans_order = np.array([ 1,  5,  6,  7,  8,  9,  2, 10, 11, 12, 13, 14, 15, 16, 17,\n",
    "                            3, 18, 19, 20, 21, 22, 23,  4, 24, 25, 26, 27, 28, 29, 30]) - 1\n",
    "n_planes = 30"
   ]
  },
  {
   "cell_type": "code",
   "execution_count": 6,
   "id": "3e93061f-efad-420c-870a-4de7f2d4205c",
   "metadata": {
    "ExecuteTime": {
     "end_time": "2024-02-16T01:01:00.398862558Z",
     "start_time": "2024-02-16T01:00:58.772133593Z"
    }
   },
   "outputs": [
    {
     "name": "stderr",
     "output_type": "stream",
     "text": [
      "<tifffile.TiffFile 'pollen_calibrati…M_30x_00001.tif'> asarray failed to reshape (9030, 144, 145) to (6, 50, 30, 144, 145)\n"
     ]
    }
   ],
   "source": [
    "tiff_file = tifffile.imread(p[0])\n",
    "tiff_file = np.reshape(tiff_file, ( int(tiff_file.shape[0]/n_planes), n_planes,tiff_file.shape[1],tiff_file.shape[2]), order='A') # warnings are expected if the recording is split into many files or incomplete\n",
    "tiff_file = np.swapaxes(tiff_file, 1, 3)\n",
    "tiff_file = tiff_file[...,chans_order]"
   ]
  },
  {
   "cell_type": "code",
   "execution_count": 7,
   "id": "eba5d056-0f51-46f4-a90c-cc17c25c1946",
   "metadata": {
    "ExecuteTime": {
     "end_time": "2024-02-16T01:01:05.455127699Z",
     "start_time": "2024-02-16T01:01:05.393197588Z"
    }
   },
   "outputs": [
    {
     "ename": "NameError",
     "evalue": "name 'params' is not defined",
     "output_type": "error",
     "traceback": [
      "\u001B[0;31m---------------------------------------------------------------------------\u001B[0m",
      "\u001B[0;31mNameError\u001B[0m                                 Traceback (most recent call last)",
      "Cell \u001B[0;32mIn[7], line 2\u001B[0m\n\u001B[1;32m      1\u001B[0m path_all_files \u001B[38;5;241m=\u001B[39m []\n\u001B[0;32m----> 2\u001B[0m \u001B[38;5;28;01mfor\u001B[39;00m i_dir \u001B[38;5;129;01min\u001B[39;00m \u001B[43mparams\u001B[49m[\u001B[38;5;124m\"\u001B[39m\u001B[38;5;124mraw_data_dirs\u001B[39m\u001B[38;5;124m\"\u001B[39m]:\n\u001B[1;32m      3\u001B[0m     tmp_paths \u001B[38;5;241m=\u001B[39m \u001B[38;5;28msorted\u001B[39m(glob\u001B[38;5;241m.\u001B[39mglob(i_dir \u001B[38;5;241m+\u001B[39m \u001B[38;5;124m\"\u001B[39m\u001B[38;5;124m/**/*.tif\u001B[39m\u001B[38;5;124m\"\u001B[39m, recursive\u001B[38;5;241m=\u001B[39m\u001B[38;5;28;01mTrue\u001B[39;00m))\n\u001B[1;32m      4\u001B[0m     \u001B[38;5;28;01mfor\u001B[39;00m this_tmp_path \u001B[38;5;129;01min\u001B[39;00m tmp_paths:\n",
      "\u001B[0;31mNameError\u001B[0m: name 'params' is not defined"
     ]
    }
   ],
   "source": [
    "path_all_files = []\n",
    "for i_dir in params[\"raw_data_dirs\"]:\n",
    "    tmp_paths = sorted(glob.glob(i_dir + \"/**/*.tif\", recursive=True))\n",
    "    for this_tmp_path in tmp_paths:\n",
    "        if (\n",
    "                params[\"fname_must_contain\"] in this_tmp_path and\n",
    "                params[\"fname_must_NOT_contain\"] not in this_tmp_path\n",
    "        ):\n",
    "            path_all_files.append(this_tmp_path)\n"
   ]
  },
  {
   "cell_type": "code",
   "outputs": [],
   "source": [],
   "metadata": {
    "collapsed": false
   },
   "id": "eb645d8234985238"
  }
 ],
 "metadata": {
  "kernelspec": {
   "display_name": "Python 3 (ipykernel)",
   "language": "python",
   "name": "python3"
  },
  "language_info": {
   "codemirror_mode": {
    "name": "ipython",
    "version": 3
   },
   "file_extension": ".py",
   "mimetype": "text/x-python",
   "name": "python",
   "nbconvert_exporter": "python",
   "pygments_lexer": "ipython3",
   "version": "3.9.18"
  },
  "widgets": {
   "application/vnd.jupyter.widget-state+json": {
    "state": {},
    "version_major": 2,
    "version_minor": 0
   }
  }
 },
 "nbformat": 4,
 "nbformat_minor": 5
}
