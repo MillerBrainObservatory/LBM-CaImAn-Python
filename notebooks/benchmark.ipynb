{
 "cells": [
  {
   "cell_type": "markdown",
   "id": "cf06365b-4172-4991-8ddb-8d5624eaffdd",
   "metadata": {},
   "source": [
    "## Benchmarking LBM Datasets"
   ]
  },
  {
   "cell_type": "code",
   "execution_count": 17,
   "id": "e158b76c-76bb-4b00-9f10-f1e4ab312cc3",
   "metadata": {
    "execution": {
     "iopub.execute_input": "2024-03-24T04:22:59.531058Z",
     "iopub.status.busy": "2024-03-24T04:22:59.530042Z",
     "iopub.status.idle": "2024-03-24T04:22:59.660700Z",
     "shell.execute_reply": "2024-03-24T04:22:59.653969Z",
     "shell.execute_reply.started": "2024-03-24T04:22:59.530917Z"
    }
   },
   "outputs": [
    {
     "ename": "ModuleNotFoundError",
     "evalue": "No module named 'humansize'",
     "output_type": "error",
     "traceback": [
      "\u001b[0;31m---------------------------------------------------------------------------\u001b[0m",
      "\u001b[0;31mModuleNotFoundError\u001b[0m                       Traceback (most recent call last)",
      "Cell \u001b[0;32mIn[17], line 18\u001b[0m\n\u001b[1;32m     16\u001b[0m \u001b[38;5;28;01mimport\u001b[39;00m \u001b[38;5;21;01mcv2\u001b[39;00m\n\u001b[1;32m     17\u001b[0m \u001b[38;5;28;01mfrom\u001b[39;00m \u001b[38;5;21;01micecream\u001b[39;00m \u001b[38;5;28;01mimport\u001b[39;00m ic\n\u001b[0;32m---> 18\u001b[0m \u001b[38;5;28;01mfrom\u001b[39;00m \u001b[38;5;21;01mhumansize\u001b[39;00m \u001b[38;5;28;01mimport\u001b[39;00m naturalsize\n\u001b[1;32m     19\u001b[0m get_ipython()\u001b[38;5;241m.\u001b[39mrun_line_magic(\u001b[38;5;124m'\u001b[39m\u001b[38;5;124mmatplotlib\u001b[39m\u001b[38;5;124m'\u001b[39m, \u001b[38;5;124m'\u001b[39m\u001b[38;5;124minline\u001b[39m\u001b[38;5;124m'\u001b[39m)\n",
      "\u001b[0;31mModuleNotFoundError\u001b[0m: No module named 'humansize'"
     ]
    }
   ],
   "source": [
    "import os\n",
    "import sys\n",
    "import glob\n",
    "import json\n",
    "import time\n",
    "from datetime import datetime\n",
    "from dateutil import tz\n",
    "from pathlib import Path\n",
    "import h5py\n",
    "\n",
    "import matplotlib.pyplot as plt\n",
    "import numpy as np\n",
    "import h5py\n",
    "import dask.array as da\n",
    "import tifffile\n",
    "import cv2\n",
    "from icecream import ic\n",
    "from humansize import naturalsize\n",
    "%matplotlib inline"
   ]
  },
  {
   "cell_type": "code",
   "execution_count": null,
   "id": "e11d9d5c-baba-4083-95ec-e5297c79fd7d",
   "metadata": {},
   "outputs": [],
   "source": [
    "import sys\n",
    "from humanize import naturalsize\n",
    "\n",
    "for size, name in sorted(\n",
    "    (value.nbytes, name)\n",
    "    for name, value in locals().items()\n",
    "    if isinstance(value, numpy.ndarray)):\n",
    "  print(\"{:>30}: {:>8}\".format(name, naturalsize(size)))"
   ]
  },
  {
   "cell_type": "code",
   "execution_count": 5,
   "id": "e0039126-3767-40c4-8a33-5a7fa3ea4a9a",
   "metadata": {
    "execution": {
     "iopub.execute_input": "2024-03-24T04:08:42.616992Z",
     "iopub.status.busy": "2024-03-24T04:08:42.615736Z",
     "iopub.status.idle": "2024-03-24T04:08:42.625365Z",
     "shell.execute_reply": "2024-03-24T04:08:42.623670Z",
     "shell.execute_reply.started": "2024-03-24T04:08:42.616845Z"
    }
   },
   "outputs": [],
   "source": [
    "#enable or disable logging\n",
    "#ic.disable()\n",
    "ic.enable()"
   ]
  },
  {
   "cell_type": "markdown",
   "id": "201ed175-18a5-45fd-a75d-38585145fd3a",
   "metadata": {},
   "source": [
    "### Data\n",
    "\n",
    "`ScanImage` aquisition software allows users to specify frames to be split between multiple `.tif` files.\n",
    "This is annoying because the metadata and physical state of the data become out-of-sync. One file may contain only 1/10th of the frames, but the metadata will indicate the total frames in the dataset. \n",
    "\n",
    "To demonstrate this, lets take a few multi-file datasets and pull only 1 of the files to analyze. "
   ]
  },
  {
   "cell_type": "code",
   "execution_count": 7,
   "id": "9fb50e1a-758a-4b12-aa27-f0872b26ee82",
   "metadata": {
    "execution": {
     "iopub.execute_input": "2024-03-24T04:09:34.646793Z",
     "iopub.status.busy": "2024-03-24T04:09:34.644657Z",
     "iopub.status.idle": "2024-03-24T04:09:34.665040Z",
     "shell.execute_reply": "2024-03-24T04:09:34.663091Z",
     "shell.execute_reply.started": "2024-03-24T04:09:34.646639Z"
    }
   },
   "outputs": [
    {
     "data": {
      "text/plain": [
       "['mh89_hemisphere_FOV_50_550um_depth_250mW_dual_stimuli_30min_00001_00001.tif',\n",
       " 'mh89_hemisphere_FOV_50_550um_depth_250mW_dual_stimuli_30min_00001_00002.tif',\n",
       " 'mh89_hemisphere_FOV_50_550um_depth_250mW_dual_stimuli_30min_00001_00003.tif',\n",
       " 'mh89_hemisphere_FOV_50_550um_depth_250mW_dual_stimuli_30min_00001_00004.tif',\n",
       " 'mh89_hemisphere_FOV_50_550um_depth_250mW_dual_stimuli_30min_00001_00005.tif',\n",
       " 'mh89_hemisphere_FOV_50_550um_depth_250mW_dual_stimuli_30min_00001_00006.tif',\n",
       " 'mh89_hemisphere_FOV_50_550um_depth_250mW_dual_stimuli_30min_00001_00007.tif',\n",
       " 'mh89_hemisphere_FOV_50_550um_depth_250mW_dual_stimuli_30min_00001_00008.tif',\n",
       " 'mh89_hemisphere_FOV_50_550um_depth_250mW_dual_stimuli_30min_00001_00009.tif',\n",
       " 'mh89_hemisphere_FOV_50_550um_depth_250mW_dual_stimuli_30min_00001_00010.tif']"
      ]
     },
     "execution_count": 7,
     "metadata": {},
     "output_type": "execute_result"
    }
   ],
   "source": [
    "path_input_file = \"/data2/fpo/lbm/3mm_5mm\"\n",
    "files = sorted(glob.glob(path_input_file + '/*.tif', recursive=True))\n",
    "# Notice how each file contains different metadata in the filename, i.e. .9mmx.9mm vs 3mm x 5mm\n",
    "\n",
    "[f\"{Path(x).name}\" for x in files]"
   ]
  },
  {
   "cell_type": "markdown",
   "id": "3ea1d075-38c2-4ed0-89f2-479243c69452",
   "metadata": {
    "execution": {
     "iopub.execute_input": "2024-03-23T01:38:47.381522Z",
     "iopub.status.busy": "2024-03-23T01:38:47.380960Z",
     "iopub.status.idle": "2024-03-23T01:38:47.387596Z",
     "shell.execute_reply": "2024-03-23T01:38:47.385925Z",
     "shell.execute_reply.started": "2024-03-23T01:38:47.381459Z"
    }
   },
   "source": [
    "### Extract metadata without loading the image into memory"
   ]
  },
  {
   "cell_type": "code",
   "execution_count": null,
   "id": "32839daf-7be9-4aa7-a351-65e345e3ceea",
   "metadata": {},
   "outputs": [],
   "source": [
    "#%% Read\n",
    "for file in files:\n",
    "\n",
    "    print(f\"--- Processing: {file}\")\n",
    "    \n",
    "    metadata = {}\n",
    "    with open(file, 'rb') as fh:\n",
    "        metadata = tifffile.read_scanimage_metadata(fh)\n",
    "        static_metadata = metadata[0]\n",
    "        frame_metadata = metadata[1]['RoiGroups']['imagingRoiGroup']['rois']\n",
    "    rois = [x['scanfields'] for x in frame_metadata]\n",
    "    centerXY = rois[0]['centerXY']\n",
    "    print(f\"CenterXY: {(centerXY[0], centerXY[1])}\")\n",
    "    sizeXY = rois[0]['sizeXY']\n",
    "    print(f\"sizeXY: {(sizeXY[0], sizeXY[1])}\")\n",
    "    pixel_resolution_xy = rois[0]['pixelResolutionXY']\n",
    "    \n",
    "    num_frames = static_metadata['SI.hStackManager.framesPerSlice']\n",
    "    print(f\"Alleged Frames: {num_frames}\")\n",
    "    num_planes = len(static_metadata['SI.hChannels.channelsActive'])\n",
    "    print(f\"Planes: {num_planes}\")\n",
    "    frame_rate = static_metadata['SI.hRoiManager.scanVolumeRate']  # scanVolumeRate/scanFrameRate are the same now, but may not always be \n",
    "    print(f\"Volume rate: {frame_rate} Hz\")\n",
    "    objective_resolution = static_metadata['SI.objectiveResolution']  # 157.5\n",
    "    print(f\"Objective resolution: {objective_resolution} deg/um\")\n",
    "    \n",
    "    # Explore:\n",
    "    lines_per_frame = static_metadata['SI.hRoiManager.linesPerFrame']\n",
    "    print(f'{lines_per_frame} lines/frame')\n",
    "    px_per_line = static_metadata['SI.hRoiManager.pixelsPerLine']\n",
    "    print(f'{px_per_line} pixels/line')\n",
    "    r_arr = da.from_zarr(tifffile.imread(file, aszarr=True))\n",
    "    print(f\"Alleged filesize: {r_arr.nbytes / 10**9} GB\")\n",
    "    print(f\"Alleged array dims: {r_arr.shape}\")\n",
    "    print(f\" \")\n",
    "    "
   ]
  },
  {
   "cell_type": "markdown",
   "id": "ea9b784f-fb95-413e-b15e-dfb793afd4db",
   "metadata": {},
   "source": [
    "The below will fail because the metadata stored accounts for 10 files, but only 1 file is in the datapath. \n",
    "\n",
    " Because `tifffile` uses `ScanImageTiffReader` under the hood, it uses the scanimage numberOfFrames attribute and tries to iterate through more frames than are actually in the file."
   ]
  },
  {
   "cell_type": "code",
   "execution_count": null,
   "id": "1a6512cb-a248-4353-9f6d-362d465654e3",
   "metadata": {},
   "outputs": [],
   "source": [
    "try:\n",
    "    print(r_arr.shape)\n",
    "    array_loaded = r_arr.compute()\n",
    "except IndexError:\n",
    "    print(\"Index error! Oops!\")"
   ]
  },
  {
   "cell_type": "markdown",
   "id": "f738bb99-62a5-4954-8a12-6e685c721b76",
   "metadata": {},
   "source": [
    "Instead, lets use cv2, a versatile image reader that has no idea what \"ScanImage\" metadata look like. "
   ]
  },
  {
   "cell_type": "code",
   "execution_count": 9,
   "id": "7a80eb05-2367-4386-be10-defd4897a3bb",
   "metadata": {
    "execution": {
     "iopub.execute_input": "2024-03-24T04:10:28.039978Z",
     "iopub.status.busy": "2024-03-24T04:10:28.039383Z",
     "iopub.status.idle": "2024-03-24T04:10:53.940897Z",
     "shell.execute_reply": "2024-03-24T04:10:53.940088Z",
     "shell.execute_reply.started": "2024-03-24T04:10:28.039907Z"
    }
   },
   "outputs": [
    {
     "name": "stderr",
     "output_type": "stream",
     "text": [
      "<tifffile.TiffFile 'mh89_hemisphere…_00001_00010.tif'> asarray failed to reshape (25320, 5104, 145) to (8440, 30, 5104, 145)\n"
     ]
    }
   ],
   "source": [
    "data = tifffile.imread(file)\n",
    "data = data.reshape(int(data.shape[0] / num_planes), num_planes,  data.shape[1], data.shape[2])\n",
    "data = np.swapaxes(data, 1, 3)"
   ]
  },
  {
   "cell_type": "code",
   "execution_count": 14,
   "id": "929aec49-1e6c-490b-bc5d-75beb151f372",
   "metadata": {
    "execution": {
     "iopub.execute_input": "2024-03-24T04:17:19.908405Z",
     "iopub.status.busy": "2024-03-24T04:17:19.906760Z",
     "iopub.status.idle": "2024-03-24T04:17:19.924963Z",
     "shell.execute_reply": "2024-03-24T04:17:19.923521Z",
     "shell.execute_reply.started": "2024-03-24T04:17:19.908250Z"
    }
   },
   "outputs": [
    {
     "data": {
      "text/plain": [
       "PosixPath('/data2/fpo/lbm/3mm_5mm/mh89_hemisphere_FOV_50_550um_depth_250mW_dual_stimuli_30min_844_145_5104.h5')"
      ]
     },
     "execution_count": 14,
     "metadata": {},
     "output_type": "execute_result"
    }
   ],
   "source": [
    "file = Path(file)\n",
    "new_name = file.name[:-16] + f\"_{data.shape[0]}_{data.shape[1]}_{data.shape[2]}\"\n",
    "new_file = file.parent / Path(new_name).with_suffix('.h5')\n",
    "new_file"
   ]
  },
  {
   "cell_type": "code",
   "execution_count": 15,
   "id": "adaa9789-9101-4675-9dc8-7efa623d64d6",
   "metadata": {
    "execution": {
     "iopub.execute_input": "2024-03-24T04:20:37.213884Z",
     "iopub.status.busy": "2024-03-24T04:20:37.212882Z",
     "iopub.status.idle": "2024-03-24T04:20:37.228661Z",
     "shell.execute_reply": "2024-03-24T04:20:37.226814Z",
     "shell.execute_reply.started": "2024-03-24T04:20:37.213742Z"
    }
   },
   "outputs": [
    {
     "data": {
      "text/plain": [
       "(844, 145, 5104, 30)"
      ]
     },
     "execution_count": 15,
     "metadata": {},
     "output_type": "execute_result"
    }
   ],
   "source": []
  },
  {
   "cell_type": "code",
   "execution_count": null,
   "id": "ebef40ee-6611-4cbc-bc17-bb4274ee4bbf",
   "metadata": {},
   "outputs": [],
   "source": [
    "# Write .tif as h5, with metadata as attributes\n",
    "with h5py.File(new_file, 'w') as f:\n",
    "    f.create_dataset(\"mov\", data=)\n",
    "    f.attrs.create( \"metadata\", str(metadata) )\n",
    "    \n",
    "end = time.time()\n",
    "duration = f\"{end-start:.2f}\"\n",
    "print(f\"{duration_tif} seconds\")"
   ]
  }
 ],
 "metadata": {
  "kernelspec": {
   "display_name": "Python 3 (ipykernel)",
   "language": "python",
   "name": "python3"
  },
  "language_info": {
   "codemirror_mode": {
    "name": "ipython",
    "version": 3
   },
   "file_extension": ".py",
   "mimetype": "text/x-python",
   "name": "python",
   "nbconvert_exporter": "python",
   "pygments_lexer": "ipython3",
   "version": "3.9.18"
  },
  "widgets": {
   "application/vnd.jupyter.widget-state+json": {
    "state": {},
    "version_major": 2,
    "version_minor": 0
   }
  }
 },
 "nbformat": 4,
 "nbformat_minor": 5
}
