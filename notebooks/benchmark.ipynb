{
 "cells": [
  {
   "cell_type": "markdown",
   "id": "cf06365b-4172-4991-8ddb-8d5624eaffdd",
   "metadata": {},
   "source": [
    "LBM Dataset Exploration"
   ]
  },
  {
   "cell_type": "code",
   "execution_count": 6,
   "id": "e158b76c-76bb-4b00-9f10-f1e4ab312cc3",
   "metadata": {
    "execution": {
     "iopub.execute_input": "2024-03-25T17:55:13.632608Z",
     "iopub.status.busy": "2024-03-25T17:55:13.632002Z",
     "iopub.status.idle": "2024-03-25T17:55:14.408613Z",
     "shell.execute_reply": "2024-03-25T17:55:14.407462Z",
     "shell.execute_reply.started": "2024-03-25T17:55:13.632549Z"
    },
    "ExecuteTime": {
     "end_time": "2024-04-26T20:56:34.411911069Z",
     "start_time": "2024-04-26T20:56:34.369301743Z"
    }
   },
   "outputs": [],
   "source": [
    "import glob\n",
    "from pathlib import Path\n",
    "from pprint import pprint\n",
    "\n",
    "import dask.array as da\n",
    "import h5py\n",
    "import tifffile\n",
    "from icecream import ic\n",
    "%matplotlib inline"
   ]
  },
  {
   "cell_type": "markdown",
   "id": "81bf220b-89db-4ae1-be6e-5ba6dfc19c02",
   "metadata": {
    "execution": {
     "iopub.execute_input": "2024-03-24T16:48:31.344304Z",
     "iopub.status.busy": "2024-03-24T16:48:31.343639Z",
     "iopub.status.idle": "2024-03-24T16:48:31.350318Z",
     "shell.execute_reply": "2024-03-24T16:48:31.349108Z",
     "shell.execute_reply.started": "2024-03-24T16:48:31.344248Z"
    }
   },
   "source": []
  },
  {
   "cell_type": "code",
   "execution_count": 7,
   "id": "eccb61dd-d9ea-446e-9501-f42db51aefe1",
   "metadata": {
    "execution": {
     "iopub.execute_input": "2024-03-25T17:55:14.667665Z",
     "iopub.status.busy": "2024-03-25T17:55:14.667261Z",
     "iopub.status.idle": "2024-03-25T17:55:14.676422Z",
     "shell.execute_reply": "2024-03-25T17:55:14.675439Z",
     "shell.execute_reply.started": "2024-03-25T17:55:14.667641Z"
    },
    "ExecuteTime": {
     "end_time": "2024-04-26T20:56:35.868927512Z",
     "start_time": "2024-04-26T20:56:35.851002755Z"
    }
   },
   "outputs": [],
   "source": [
    "#enable or disable logging\n",
    "#ic.disable()\n",
    "ic.enable()\n",
    "\n",
    "def extract_metadata(filename):\n",
    "    metadata = {}\n",
    "    with open(filename, 'rb') as fh:\n",
    "        metadata = tifffile.read_scanimage_metadata(fh)\n",
    "    static_metadata = metadata[0]\n",
    "    frame_metadata = metadata[1]['RoiGroups']['imagingRoiGroup']['rois']\n",
    "    rois = [x['scanfields'] for x in frame_metadata]\n",
    "    raw_arr =  da.from_zarr(tifffile.imread(filename, aszarr=True))\n",
    "    return {\n",
    "        'fname': filename,\n",
    "        'arr': raw_arr,\n",
    "        'center_xy': rois[0]['centerXY'], \n",
    "        'size_xy': rois[0]['sizeXY'],\n",
    "        'pixel_resolution_xy': rois[0]['pixelResolutionXY'],\n",
    "        'num_frames': static_metadata['SI.hStackManager.framesPerSlice'],\n",
    "        'num_planes': len(static_metadata['SI.hChannels.channelsActive']),\n",
    "        'frame_rate': static_metadata['SI.hRoiManager.scanVolumeRate'],\n",
    "        'objective_resolution': static_metadata['SI.objectiveResolution'],\n",
    "        'lines_per_frame': static_metadata['SI.hRoiManager.linesPerFrame'],\n",
    "        'px_per_line': static_metadata['SI.hRoiManager.pixelsPerLine'],\n",
    "        'file_size_gb': raw_arr.nbytes / 10**9,\n",
    "        'array_dims': raw_arr.shape\n",
    "    }\n",
    "    \n",
    "def get_slice_coordinates(arr_shape, square_size=(142, 142)):\n",
    "    \"\"\"Get the start and end coordinates for slicing a square from the center of a 2D array.\"\"\"\n",
    "    # Get the dimensions of the input array\n",
    "    rows, cols = arr_shape\n",
    "    \n",
    "    # grab a square at the center of the array\n",
    "    start_row = (rows - square_size[0]) // 2\n",
    "    end_row = start_row + square_size[0]\n",
    "    start_col = (cols - square_size[1]) // 2\n",
    "    end_col = start_col + square_size[1]\n",
    "    \n",
    "    return (start_row, start_col), (end_row, end_col)    \n"
   ]
  },
  {
   "cell_type": "markdown",
   "id": "201ed175-18a5-45fd-a75d-38585145fd3a",
   "metadata": {},
   "source": [
    "### ScanImage Metadata can lead to erroneous data loaded in memory \n",
    "\n",
    "`ScanImage` aquisition software allows users to specify frames to be split between multiple `.tif` files.\n",
    "This is annoying because the metadata and physical state of the data become out-of-sync. One file may contain only 1/10th of the frames, but the metadata will indicate the total frames in the dataset. \n",
    "\n",
    "To demonstrate this, lets take a few multi-file datasets and pull only 1 of the files to analyze. "
   ]
  },
  {
   "cell_type": "code",
   "execution_count": 8,
   "id": "9fb50e1a-758a-4b12-aa27-f0872b26ee82",
   "metadata": {
    "execution": {
     "iopub.execute_input": "2024-03-25T17:55:16.185734Z",
     "iopub.status.busy": "2024-03-25T17:55:16.185247Z",
     "iopub.status.idle": "2024-03-25T17:55:16.194782Z",
     "shell.execute_reply": "2024-03-25T17:55:16.193546Z",
     "shell.execute_reply.started": "2024-03-25T17:55:16.185693Z"
    },
    "ExecuteTime": {
     "end_time": "2024-04-26T20:56:40.279042826Z",
     "start_time": "2024-04-26T20:56:40.275678773Z"
    }
   },
   "outputs": [
    {
     "name": "stdout",
     "output_type": "stream",
     "text": [
      "['MH70_0p9mm_FOV_50_550um_depth_som_stim_199mW_3min_M1_00001_00001.tif', 'MH70_2mm_FOV_50_550um_depth_som_stim_199mW_3min_M1_00001_00001.tif', 'mh89_hemisphere_FOV_50_550um_depth_250mW_dual_stimuli_30min_00001_00001.tif']\n"
     ]
    }
   ],
   "source": [
    "sandbox_filepath = \"/data2/fpo/lbm/sandbox/\"\n",
    "sandbox_files = sorted(glob.glob(sandbox_filepath + '/*.tif', recursive=True))\n",
    "if len(sandbox_files)<=1: print(f\"No files found in {sandbox_filepath}\") \n",
    "else: print([f\"{Path(x).name}\" for x in sandbox_files])"
   ]
  },
  {
   "cell_type": "markdown",
   "id": "3ea1d075-38c2-4ed0-89f2-479243c69452",
   "metadata": {
    "execution": {
     "iopub.execute_input": "2024-03-23T01:38:47.381522Z",
     "iopub.status.busy": "2024-03-23T01:38:47.380960Z",
     "iopub.status.idle": "2024-03-23T01:38:47.387596Z",
     "shell.execute_reply": "2024-03-23T01:38:47.385925Z",
     "shell.execute_reply.started": "2024-03-23T01:38:47.381459Z"
    }
   },
   "source": [
    "## Extract metadata without loading the image into memory"
   ]
  },
  {
   "cell_type": "code",
   "execution_count": 5,
   "id": "32839daf-7be9-4aa7-a351-65e345e3ceea",
   "metadata": {
    "execution": {
     "iopub.execute_input": "2024-03-25T17:55:18.467622Z",
     "iopub.status.busy": "2024-03-25T17:55:18.466313Z",
     "iopub.status.idle": "2024-03-25T17:55:24.435157Z",
     "shell.execute_reply": "2024-03-25T17:55:24.434076Z",
     "shell.execute_reply.started": "2024-03-25T17:55:18.467566Z"
    },
    "ExecuteTime": {
     "end_time": "2024-04-26T20:55:59.130213830Z",
     "start_time": "2024-04-26T20:55:58.872697459Z"
    }
   },
   "outputs": [
    {
     "ename": "NameError",
     "evalue": "name 'sandbox_files' is not defined",
     "output_type": "error",
     "traceback": [
      "\u001B[0;31m---------------------------------------------------------------------------\u001B[0m",
      "\u001B[0;31mNameError\u001B[0m                                 Traceback (most recent call last)",
      "Cell \u001B[0;32mIn[5], line 1\u001B[0m\n\u001B[0;32m----> 1\u001B[0m sandbox_metadata \u001B[38;5;241m=\u001B[39m extract_metadata(\u001B[43msandbox_files\u001B[49m[\u001B[38;5;241m0\u001B[39m])\n\u001B[1;32m      2\u001B[0m \u001B[38;5;28;01mfor\u001B[39;00m i, filename \u001B[38;5;129;01min\u001B[39;00m \u001B[38;5;28menumerate\u001B[39m(sandbox_files):\n\u001B[1;32m      3\u001B[0m     \u001B[38;5;28mprint\u001B[39m(\u001B[38;5;124mf\u001B[39m\u001B[38;5;124m'\u001B[39m\u001B[38;5;124mFile \u001B[39m\u001B[38;5;132;01m{\u001B[39;00mi\u001B[38;5;241m+\u001B[39m\u001B[38;5;241m1\u001B[39m\u001B[38;5;132;01m}\u001B[39;00m\u001B[38;5;124m'\u001B[39m)\n",
      "\u001B[0;31mNameError\u001B[0m: name 'sandbox_files' is not defined"
     ]
    }
   ],
   "source": [
    "sandbox_metadata = extract_metadata(sandbox_files[0])\n",
    "for i, filename in enumerate(sandbox_files):\n",
    "    print(f'File {i+1}')\n",
    "    pprint(extract_metadata(filename))\n",
    "    print(' ')"
   ]
  },
  {
   "cell_type": "markdown",
   "source": [],
   "metadata": {
    "collapsed": false
   },
   "id": "1fa187d99f8059e1"
  },
  {
   "cell_type": "markdown",
   "id": "086dd54f-a117-403d-bbee-57d67a15cd8a",
   "metadata": {},
   "source": [
    "## Create a sample dataset\n",
    "\n",
    "We need all of the files the were saved with scanimage in the directory, for reasons described above.\n",
    "We can extract metadata from a single file, and use it to slice the whole dataset."
   ]
  },
  {
   "cell_type": "code",
   "execution_count": 4,
   "id": "d9efbdca-0875-4a56-8a05-6652eb2a9e91",
   "metadata": {
    "execution": {
     "iopub.execute_input": "2024-03-24T18:18:22.810241Z",
     "iopub.status.busy": "2024-03-24T18:18:22.809912Z",
     "iopub.status.idle": "2024-03-24T18:18:23.617875Z",
     "shell.execute_reply": "2024-03-24T18:18:23.616942Z",
     "shell.execute_reply.started": "2024-03-24T18:18:22.810212Z"
    },
    "ExecuteTime": {
     "end_time": "2024-03-25T19:41:45.971762359Z",
     "start_time": "2024-03-25T19:41:44.845933759Z"
    }
   },
   "outputs": [
    {
     "name": "stdout",
     "output_type": "stream",
     "text": [
      "['mh89_hemisphere_FOV_50_550um_depth_250mW_dual_stimuli_30min_00001_00001.tif', 'mh89_hemisphere_FOV_50_550um_depth_250mW_dual_stimuli_30min_00001_00002.tif', 'mh89_hemisphere_FOV_50_550um_depth_250mW_dual_stimuli_30min_00001_00003.tif', 'mh89_hemisphere_FOV_50_550um_depth_250mW_dual_stimuli_30min_00001_00004.tif', 'mh89_hemisphere_FOV_50_550um_depth_250mW_dual_stimuli_30min_00001_00005.tif', 'mh89_hemisphere_FOV_50_550um_depth_250mW_dual_stimuli_30min_00001_00006.tif', 'mh89_hemisphere_FOV_50_550um_depth_250mW_dual_stimuli_30min_00001_00007.tif', 'mh89_hemisphere_FOV_50_550um_depth_250mW_dual_stimuli_30min_00001_00008.tif', 'mh89_hemisphere_FOV_50_550um_depth_250mW_dual_stimuli_30min_00001_00009.tif', 'mh89_hemisphere_FOV_50_550um_depth_250mW_dual_stimuli_30min_00001_00010.tif']\n"
     ]
    }
   ],
   "source": [
    "# We should have 10 files, with 844 frames each, totaling 8440 frames as shown in the metadata for this file\n",
    "path_sample_files = \"/data2/fpo/lbm/3mm_5mm/\"\n",
    "sample_files = sorted(glob.glob(path_sample_files + '/*.tif', recursive=True))\n",
    "if len(sample_files)<=1: print(f\"No files found in {path_sample_files}\") \n",
    "else: print([f\"{Path(x).name}\" for x in sample_files])\n",
    "sample_metadata = extract_metadata(sample_files[0])"
   ]
  },
  {
   "cell_type": "code",
   "execution_count": 7,
   "id": "0d65de96-63df-481b-83a2-8c004e43397b",
   "metadata": {
    "execution": {
     "iopub.execute_input": "2024-03-24T18:18:23.619280Z",
     "iopub.status.busy": "2024-03-24T18:18:23.619044Z",
     "iopub.status.idle": "2024-03-24T18:18:45.537608Z",
     "shell.execute_reply": "2024-03-24T18:18:45.537016Z",
     "shell.execute_reply.started": "2024-03-24T18:18:23.619251Z"
    }
   },
   "outputs": [
    {
     "name": "stderr",
     "output_type": "stream",
     "text": [
      "<tifffile.TiffFile 'mh89_hemisphere…_00001_00001.tif'> asarray failed to reshape (25320, 5104, 145) to (8440, 30, 5104, 145)\n"
     ]
    }
   ],
   "source": [
    "data = tifffile.imread(sample_files[0])"
   ]
  },
  {
   "cell_type": "code",
   "execution_count": 8,
   "id": "1bbbdb4a-44c2-4d41-bdfe-73c4cc33f602",
   "metadata": {
    "execution": {
     "iopub.execute_input": "2024-03-24T18:18:45.538845Z",
     "iopub.status.busy": "2024-03-24T18:18:45.538661Z",
     "iopub.status.idle": "2024-03-24T18:18:45.544108Z",
     "shell.execute_reply": "2024-03-24T18:18:45.543591Z",
     "shell.execute_reply.started": "2024-03-24T18:18:45.538827Z"
    }
   },
   "outputs": [
    {
     "name": "stdout",
     "output_type": "stream",
     "text": [
      "(25320, 142, 142)\n"
     ]
    }
   ],
   "source": [
    "start, end = get_slice_coordinates((data.shape[1], data.shape[2]))\n",
    "my_arr = data[:, start[0]:end[0], start[1]:end[1]]\n",
    "print(my_arr.shape)"
   ]
  },
  {
   "cell_type": "code",
   "execution_count": 9,
   "id": "ebef40ee-6611-4cbc-bc17-bb4274ee4bbf",
   "metadata": {
    "execution": {
     "iopub.execute_input": "2024-03-24T18:18:45.544933Z",
     "iopub.status.busy": "2024-03-24T18:18:45.544767Z",
     "iopub.status.idle": "2024-03-24T18:18:45.554827Z",
     "shell.execute_reply": "2024-03-24T18:18:45.554346Z",
     "shell.execute_reply.started": "2024-03-24T18:18:45.544917Z"
    }
   },
   "outputs": [
    {
     "data": {
      "text/plain": [
       "PosixPath('/data2/fpo/lbm/3mm_5mm/mh89_hemisphere_FOV_50_550um_depth_250mW_dual_stimuli_30min_25320_142_142.h5')"
      ]
     },
     "execution_count": 9,
     "metadata": {},
     "output_type": "execute_result"
    }
   ],
   "source": [
    "# Write .tif as h5, with metadata as attributes\n",
    "file = Path(sample_files[0])\n",
    "new_name = file.name[:-16] + f\"_{my_arr.shape[0]}_{my_arr.shape[1]}_{my_arr.shape[2]}\"\n",
    "new_file = file.parent / Path(new_name).with_suffix('.h5')\n",
    "new_file"
   ]
  },
  {
   "cell_type": "code",
   "execution_count": 10,
   "id": "f2a3f82e-5cf2-4529-8097-bef5727b0ce5",
   "metadata": {
    "execution": {
     "iopub.execute_input": "2024-03-24T18:18:45.555605Z",
     "iopub.status.busy": "2024-03-24T18:18:45.555444Z",
     "iopub.status.idle": "2024-03-24T18:18:46.879169Z",
     "shell.execute_reply": "2024-03-24T18:18:46.878435Z",
     "shell.execute_reply.started": "2024-03-24T18:18:45.555589Z"
    }
   },
   "outputs": [],
   "source": [
    "with h5py.File(new_file, 'w') as f:\n",
    "    f.create_dataset(\"mov\", data=my_arr)\n",
    "    f.attrs.create( \"metadata\", str(sample_metadata))"
   ]
  },
  {
   "cell_type": "markdown",
   "id": "a5a7d248-7299-482c-a498-787b90850496",
   "metadata": {},
   "source": [
    "## Create sample dataset from processed .mat files\n",
    "\n",
    "The LBM pipeline doesn't work non-sequentially, meaning registration wont work without the proper variables `volume_size`, `volume_rate`, `mean_image` being extracted and living as datasets in the .mat file. Here, we start from the .mat file "
   ]
  },
  {
   "cell_type": "code",
   "execution_count": 11,
   "id": "d50e6432-4d64-46ac-9557-f6286b940183",
   "metadata": {
    "execution": {
     "iopub.execute_input": "2024-03-24T18:18:46.880168Z",
     "iopub.status.busy": "2024-03-24T18:18:46.879964Z",
     "iopub.status.idle": "2024-03-24T18:18:46.884476Z",
     "shell.execute_reply": "2024-03-24T18:18:46.883975Z",
     "shell.execute_reply.started": "2024-03-24T18:18:46.880149Z"
    }
   },
   "outputs": [],
   "source": [
    "matfile = [x for x in Path('/data2/fpo/lbm/3mm_5mm/TMP/').glob('*.mat')]\n",
    "assert matfile[0].is_file()"
   ]
  },
  {
   "cell_type": "code",
   "execution_count": 12,
   "id": "30d97eb2-674a-4143-9a26-056afc872aa8",
   "metadata": {
    "execution": {
     "iopub.execute_input": "2024-03-24T18:18:46.885456Z",
     "iopub.status.busy": "2024-03-24T18:18:46.885293Z",
     "iopub.status.idle": "2024-03-24T18:18:46.891120Z",
     "shell.execute_reply": "2024-03-24T18:18:46.890557Z",
     "shell.execute_reply.started": "2024-03-24T18:18:46.885440Z"
    }
   },
   "outputs": [],
   "source": [
    "fh = h5py.File(matfile[0])"
   ]
  },
  {
   "cell_type": "code",
   "execution_count": 13,
   "id": "a5198d33-e7ca-4cde-8d63-3f1ab501f68c",
   "metadata": {
    "execution": {
     "iopub.execute_input": "2024-03-25T18:01:20.321607Z",
     "iopub.status.busy": "2024-03-25T18:01:20.321244Z",
     "iopub.status.idle": "2024-03-25T18:01:20.331172Z",
     "shell.execute_reply": "2024-03-25T18:01:20.330387Z",
     "shell.execute_reply.started": "2024-03-25T18:01:20.321580Z"
    }
   },
   "outputs": [],
   "source": [
    "h5path = [x for x in Path('/data2/fpo/lbm/sandbox/').glob('*.h5')]\n",
    "with h5py.File(h5path[0]) as f:\n",
    "    data = f['data']\n",
    "    data = data[1, 1, :, :]"
   ]
  },
  {
   "cell_type": "code",
   "execution_count": 20,
   "id": "d06d3ed1-6d14-48ab-90d4-a1a79693628e",
   "metadata": {
    "execution": {
     "iopub.execute_input": "2024-03-25T18:02:11.554776Z",
     "iopub.status.busy": "2024-03-25T18:02:11.553683Z",
     "iopub.status.idle": "2024-03-25T18:02:11.568597Z",
     "shell.execute_reply": "2024-03-25T18:02:11.566678Z",
     "shell.execute_reply.started": "2024-03-25T18:02:11.554630Z"
    }
   },
   "outputs": [
    {
     "data": {
      "text/plain": [
       "740080"
      ]
     },
     "execution_count": 20,
     "metadata": {},
     "output_type": "execute_result"
    }
   ],
   "source": [
    "data.size"
   ]
  },
  {
   "cell_type": "code",
   "execution_count": null,
   "id": "7e7e90bb-4f02-4f15-b98f-6322c7a4000a",
   "metadata": {},
   "outputs": [],
   "source": []
  }
 ],
 "metadata": {
  "kernelspec": {
   "display_name": "Python 3 (ipykernel)",
   "language": "python",
   "name": "python3"
  },
  "language_info": {
   "codemirror_mode": {
    "name": "ipython",
    "version": 3
   },
   "file_extension": ".py",
   "mimetype": "text/x-python",
   "name": "python",
   "nbconvert_exporter": "python",
   "pygments_lexer": "ipython3",
   "version": "3.9.18"
  },
  "widgets": {
   "application/vnd.jupyter.widget-state+json": {
    "state": {},
    "version_major": 2,
    "version_minor": 0
   }
  }
 },
 "nbformat": 4,
 "nbformat_minor": 5
}
