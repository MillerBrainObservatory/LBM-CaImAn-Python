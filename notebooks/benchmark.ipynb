{
 "cells": [
  {
   "cell_type": "markdown",
   "id": "cf06365b-4172-4991-8ddb-8d5624eaffdd",
   "metadata": {},
   "source": [
    "## Benchmarking tif, h5, nwb, zarr IO"
   ]
  },
  {
   "cell_type": "code",
   "execution_count": 1,
   "id": "e158b76c-76bb-4b00-9f10-f1e4ab312cc3",
   "metadata": {},
   "outputs": [
    {
     "ename": "ModuleNotFoundError",
     "evalue": "No module named 'neuroconv'",
     "output_type": "error",
     "traceback": [
      "\u001b[0;31m---------------------------------------------------------------------------\u001b[0m",
      "\u001b[0;31mModuleNotFoundError\u001b[0m                       Traceback (most recent call last)",
      "Cell \u001b[0;32mIn[1], line 8\u001b[0m\n\u001b[1;32m      6\u001b[0m \u001b[38;5;28;01mfrom\u001b[39;00m \u001b[38;5;21;01mdateutil\u001b[39;00m \u001b[38;5;28;01mimport\u001b[39;00m tz\n\u001b[1;32m      7\u001b[0m \u001b[38;5;28;01mfrom\u001b[39;00m \u001b[38;5;21;01mpathlib\u001b[39;00m \u001b[38;5;28;01mimport\u001b[39;00m Path\n\u001b[0;32m----> 8\u001b[0m \u001b[38;5;28;01mimport\u001b[39;00m \u001b[38;5;21;01mneuroconv\u001b[39;00m\n\u001b[1;32m      9\u001b[0m \u001b[38;5;28;01mimport\u001b[39;00m \u001b[38;5;21;01mh5py\u001b[39;00m\n\u001b[1;32m     10\u001b[0m \u001b[38;5;28;01mimport\u001b[39;00m \u001b[38;5;21;01mnexusformat\u001b[39;00m\u001b[38;5;21;01m.\u001b[39;00m\u001b[38;5;21;01mnexus\u001b[39;00m \u001b[38;5;28;01mas\u001b[39;00m \u001b[38;5;21;01mnx\u001b[39;00m\n",
      "\u001b[0;31mModuleNotFoundError\u001b[0m: No module named 'neuroconv'"
     ]
    }
   ],
   "source": [
    "import os\n",
    "import glob\n",
    "import json\n",
    "import time\n",
    "from datetime import datetime\n",
    "from dateutil import tz\n",
    "from pathlib import Path\n",
    "import neuroconv\n",
    "import h5py\n",
    "import nexusformat.nexus as nx\n",
    "#from neuroconv.datainterfaces import ScanImageImagingInterface, ScanImageTiffMultiPlaneImagingInterface, Hdf5ImagingInterface\n",
    "\n",
    "import matplotlib.pyplot as plt\n",
    "import numpy as np\n",
    "import h5py\n",
    "import dask_image\n",
    "import tifffile\n",
    "\n",
    "plt.rcParams['figure.dpi'] = 900\n",
    "\n",
    "params = dict()\n",
    "chan_order = np.array([ 1,  5,  6,  7,  8,  9,  2, 10, 11, 12, 13, 14, 15, 16, 17,\n",
    "                                            3, 18, 19, 20, 21, 22, 23,  4, 24, 25, 26, 27, 28, 29, 30]) - 1\n",
    "# Parameters output planes/volumes\n",
    "params['save_output'] = True\n",
    "if params['save_output']:\n",
    "    params['save_as_volume_or_planes'] = 'planes' # 'planes' will save individual planes in subfolders -- 'volume' will save a whole 4D hdf5 volume\n",
    "    if params['save_as_volume_or_planes'] == 'planes':\n",
    "        params['concatenate_all_h5_to_tif'] = False # If True, it will take all the time-chunked h5 files, concatenate, and save them as a single .tif\n",
    "\n",
    "params['make_nonan_volume'] = True # Whether to trim the edges so the output does not have nans. Also affects output as planes if lateral_aligned_planes==True (to compensate for X-Y shifts of MAxiMuM) or params['identical_mroi_overlaps_across_planes']==False (if seams from different planes are merged differently, then some planes will end up being larger than others)\n",
    "params['lateral_align_planes'] = False # Calculates and compensates the X-Y of MAxiMuM\n",
    "params['add_1000_for_nonegative_volume'] = True\n",
    "\n",
    "# Parameters MROIs seams\n",
    "params['seams_overlap'] = 'calculate' # Should be either 'calculate', an integer, or a list of integers with length=n_planes\n",
    "if params['seams_overlap'] == 'calculate':\n",
    "    params['n_ignored_pixels_sides'] = 5 # Useful if there is a delay or incorrect phase for when the EOM turns the laser on/off at the start/end of a resonant-scanner line\n",
    "    params['min_seam_overlap'] = 5\n",
    "    params['max_seam_overlap'] = 20 # Used if params['seams_overlap']_setting = 'calculate'\n",
    "    params['alignment_plot_checks'] = False\n"
   ]
  },
  {
   "cell_type": "code",
   "execution_count": 9,
   "id": "6ddc87d1-11b2-40e0-b86d-6d286ef3a6c1",
   "metadata": {},
   "outputs": [],
   "source": [
    "#%% Look for files used to:\n",
    "# 1) Make a template to do seam-overlap handling and X-Y shift alignment\n",
    "# 2) Reconstruct MROI volumes\n",
    "path_input_file = \"/v-data4/foconnell/data/lbm/raw\"\n",
    "files = sorted(glob.glob(path_input_file + '/**/*.tif', recursive=True))\n",
    "file = files[0]\n",
    "n_planes = 30\n",
    "rows, columns = 6, 5\n",
    "\n",
    "#%% Load Metadata\n",
    "with tifffile.TiffFile(file) as tif:\n",
    "    metadata = {}\n",
    "    for tag in tif.pages[0].tags.values():\n",
    "        tag_name, tag_value = tag.name, tag.value\n",
    "        metadata[tag_name] = tag_value\n",
    "\n",
    "mrois_si_raw = json.loads(metadata[\"Artist\"])['RoiGroups']['imagingRoiGroup']['rois']\n",
    "if type(mrois_si_raw) != dict:\n",
    "    mrois_si = []\n",
    "    for roi in mrois_si_raw:\n",
    "        if type(roi['scanfields']) != list:\n",
    "            scanfield = roi['scanfields']\n",
    "        else:\n",
    "            scanfield = roi['scanfields'][np.where(np.array(roi['zs'])==0)[0][0]]\n",
    "        roi_dict = {}\n",
    "        roi_dict['center'] = np.array(scanfield['centerXY'])\n",
    "        roi_dict['sizeXY'] = np.array(scanfield['sizeXY'])\n",
    "        roi_dict['pixXY'] = np.array(scanfield['pixelResolutionXY'])\n",
    "        mrois_si.append(roi_dict)\n",
    "else:\n",
    "    scanfield = mrois_si_raw['scanfields']\n",
    "    roi_dict = {}\n",
    "    roi_dict['center'] = np.array(scanfield['centerXY'])\n",
    "    roi_dict['sizeXY'] = np.array(scanfield['sizeXY'])\n",
    "    roi_dict['pixXY'] = np.array(scanfield['pixelResolutionXY'])\n",
    "    mrois_si = [roi_dict]\n",
    "\n",
    "mrois_centers_si = np.array([mroi_si['center'] for mroi_si in mrois_si])\n",
    "x_sorted = np.argsort(mrois_centers_si[:, 0])\n",
    "mrois_si_sorted_x = [mrois_si[i] for i in x_sorted]\n",
    "mrois_centers_si_sorted_x = [mrois_centers_si[i] for i in x_sorted]\n"
   ]
  },
  {
   "cell_type": "code",
   "execution_count": 14,
   "id": "32839daf-7be9-4aa7-a351-65e345e3ceea",
   "metadata": {},
   "outputs": [
    {
     "name": "stderr",
     "output_type": "stream",
     "text": [
      "<tifffile.TiffFile 'mh89_hemisphere…_00001_00001.tif'> asarray failed to reshape (25320, 5104, 145) to (8440, 30, 5104, 145)\n"
     ]
    },
    {
     "name": "stdout",
     "output_type": "stream",
     "text": [
      "209.27\n"
     ]
    }
   ],
   "source": [
    "#%% Read\n",
    "start = time.time()\n",
    "tiff_file = tifffile.imread(file)\n",
    "end = time.time()\n",
    "duration_tif = f\"{end-start:.2f}\"\n",
    "print(f\"{duration_tif} seconds\")"
   ]
  },
  {
   "cell_type": "code",
   "execution_count": 15,
   "id": "2751313d-ced5-4264-b3f2-5477597e37e6",
   "metadata": {},
   "outputs": [
    {
     "name": "stdout",
     "output_type": "stream",
     "text": [
      "1.97\n"
     ]
    }
   ],
   "source": [
    "#%% Load Zarr\n",
    "start = time.time()\n",
    "tiff_file_zarr = tifffile.imread(file, aszarr=True)\n",
    "end = time.time()\n",
    "duration_tif = f\"{end-start:.2f}\"\n",
    "print(f\"{duration_tif} seconds\")"
   ]
  },
  {
   "cell_type": "code",
   "execution_count": 24,
   "id": "ebef40ee-6611-4cbc-bc17-bb4274ee4bbf",
   "metadata": {},
   "outputs": [
    {
     "name": "stdout",
     "output_type": "stream",
     "text": [
      "1.97 seconds\n"
     ]
    }
   ],
   "source": [
    "# Write .tif as h5, with metadata as attributes\n",
    "start = time.time()\n",
    "save_dir = os.path.dirname(path_input_file)\n",
    "path_output_file = path_input_file[:-4] + \"_preprocessed_bm.h5\"\n",
    "with h5py.File(path_output_file, 'w') as f:\n",
    "    f.create_dataset(\"mov\", data=tiff_file)\n",
    "    f.attrs.create( \"metadata\", str(metadata) )\n",
    "    \n",
    "end = time.time()\n",
    "duration = f\"{end-start:.2f}\"\n",
    "print(f\"{duration_tif} seconds\")"
   ]
  },
  {
   "cell_type": "code",
   "execution_count": null,
   "id": "3495e89d-39cb-4ef3-b8e9-3d4c6247fe36",
   "metadata": {},
   "outputs": [],
   "source": []
  }
 ],
 "metadata": {
  "kernelspec": {
   "display_name": "Python 3 (ipykernel)",
   "language": "python",
   "name": "python3"
  },
  "language_info": {
   "codemirror_mode": {
    "name": "ipython",
    "version": 3
   },
   "file_extension": ".py",
   "mimetype": "text/x-python",
   "name": "python",
   "nbconvert_exporter": "python",
   "pygments_lexer": "ipython3",
   "version": "3.9.18"
  },
  "widgets": {
   "application/vnd.jupyter.widget-state+json": {
    "state": {},
    "version_major": 2,
    "version_minor": 0
   }
  }
 },
 "nbformat": 4,
 "nbformat_minor": 5
}
