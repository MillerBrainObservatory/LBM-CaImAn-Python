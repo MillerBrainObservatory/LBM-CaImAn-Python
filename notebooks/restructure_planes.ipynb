{
 "cells": [
  {
   "cell_type": "code",
   "execution_count": 1,
   "id": "initial_id",
   "metadata": {
    "collapsed": true,
    "ExecuteTime": {
     "end_time": "2024-02-04T21:04:30.126024985Z",
     "start_time": "2024-02-04T21:04:29.257437355Z"
    }
   },
   "outputs": [],
   "source": [
    "import copy\n",
    "import cv2\n",
    "import datetime\n",
    "import glob\n",
    "import h5py\n",
    "import json\n",
    "import logging\n",
    "import matplotlib.pyplot as plt\n",
    "import numpy as np\n",
    "import os\n",
    "import scipy\n",
    "import scipy.signal\n",
    "import skimage\n",
    "import sys\n",
    "import tifffile\n",
    "import time\n",
    "from pathlib import Path\n",
    "from lbm_util import init_params\n",
    "plt.rcParams[\"figure.dpi\"] = 900\n",
    "\n",
    "try:\n",
    "    from icecream import ic, install, argumentToString\n",
    "    install()\n",
    "except ImportError:  # graceful fallback if icecream isn't installed.\n",
    "    ic = lambda *a: None if not a else (a[0] if len(a) == 1 else a)  # noqa\n",
    "\n",
    "@argumentToString.register(np.ndarray)\n",
    "def _(obj):\n",
    "    \"\"\"Format our return for the icecream debug statement.\"\"\"\n",
    "    return f\"ndarray, shape={obj.shape}, dtype={obj.dtype}\"\n",
    "\n",
    "params = init_params()\n",
    "\n",
    "if params['debug']:\n",
    "    ic.enable()\n",
    "    ic.configureOutput(prefix='RBO Debugger -> ', includeContext=True, contextAbsPath=True)\n",
    "    ic()\n",
    "else:\n",
    "    ic.disable()\n",
    "    ic()\n"
   ]
  },
  {
   "cell_type": "code",
   "outputs": [
    {
     "ename": "NameError",
     "evalue": "name 'params' is not defined",
     "output_type": "error",
     "traceback": [
      "\u001B[0;31m---------------------------------------------------------------------------\u001B[0m",
      "\u001B[0;31mNameError\u001B[0m                                 Traceback (most recent call last)",
      "Cell \u001B[0;32mIn[2], line 1\u001B[0m\n\u001B[0;32m----> 1\u001B[0m \u001B[38;5;28;01mif\u001B[39;00m \u001B[43mparams\u001B[49m[\u001B[38;5;124m\"\u001B[39m\u001B[38;5;124msave_output\u001B[39m\u001B[38;5;124m\"\u001B[39m]:\n\u001B[1;32m      2\u001B[0m     \u001B[38;5;66;03m# 'planes' will save individual planes in subfolders -- 'volume' will save a whole 4D hdf5 volume\u001B[39;00m\n\u001B[1;32m      3\u001B[0m     params[\u001B[38;5;124m\"\u001B[39m\u001B[38;5;124msave_as_volume_or_planes\u001B[39m\u001B[38;5;124m\"\u001B[39m] \u001B[38;5;241m=\u001B[39m \u001B[38;5;124m\"\u001B[39m\u001B[38;5;124mplanes\u001B[39m\u001B[38;5;124m\"\u001B[39m\n\u001B[1;32m      4\u001B[0m     \u001B[38;5;28;01mif\u001B[39;00m params[\u001B[38;5;124m\"\u001B[39m\u001B[38;5;124msave_as_volume_or_planes\u001B[39m\u001B[38;5;124m\"\u001B[39m] \u001B[38;5;241m==\u001B[39m \u001B[38;5;124m\"\u001B[39m\u001B[38;5;124mplanes\u001B[39m\u001B[38;5;124m\"\u001B[39m:\n\u001B[1;32m      5\u001B[0m         \u001B[38;5;66;03m# If True, it will take all the time-chunked h5 files, concatenate, and save them as a single .tif\u001B[39;00m\n",
      "\u001B[0;31mNameError\u001B[0m: name 'params' is not defined"
     ]
    }
   ],
   "source": [
    "if params[\"save_output\"]:\n",
    "    # 'planes' will save individual planes in subfolders -- 'volume' will save a whole 4D hdf5 volume\n",
    "    params[\"save_as_volume_or_planes\"] = \"planes\"\n",
    "    if params[\"save_as_volume_or_planes\"] == \"planes\":\n",
    "        # If True, it will take all the time-chunked h5 files, concatenate, and save them as a single .tif\n",
    "        params[\"concatenate_all_h5_to_tif\"] = False\n",
    "\n",
    "if params[\"seams_overlap\"] == \"calculate\":\n",
    "    # correct delay or incorrect phase when EOM turns the laser on/off at the start/end of a resonant-scanner line\n",
    "    params[\"n_ignored_pixels_sides\"] = 5\n",
    "    params[\"min_seam_overlap\"] = 5\n",
    "    params[\"max_seam_overlap\"] = 20\n",
    "    params[\"alignment_plot_checks\"] = False\n",
    "if not params[\"reconstruct_all_files\"]:\n",
    "    params[\"reconstruct_until_this_ifile\"] = 10\n",
    "if params[\"save_mp4\"] or params[\"save_meanf_png\"]:\n",
    "    params[\"gaps_columns\"] = 5\n",
    "    params[\"gaps_rows\"] = 5\n",
    "    params[\"intensity_percentiles\"] = [15, 99.5]\n",
    "    if params[\"save_meanf_png\"]:\n",
    "        params[\"meanf_png_only_first_file\"] = True\n",
    "    if params[\"save_mp4\"]:\n",
    "        params[\"video_only_first_file\"] = True\n",
    "        params[\"video_play_speed\"] = 1\n",
    "        params[\"rolling_average_frames\"] = 1\n",
    "        params[\"video_duration_secs\"] = 20\n",
    "        \n",
    "if not params[\"lateral_align_planes\"]:\n",
    "    initialize_volume_with_nans = False\n",
    "    convert_volume_float32_to_int16 = True\n",
    "    params[\"make_nonan_volume\"] = False\n",
    "elif params[\"make_nonan_volume\"]:\n",
    "    initialize_volume_with_nans = True\n",
    "    convert_volume_float32_to_int16 = True\n",
    "else:\n",
    "    initialize_volume_with_nans = True\n",
    "    convert_volume_float32_to_int16 = False"
   ],
   "metadata": {
    "collapsed": false,
    "ExecuteTime": {
     "end_time": "2024-02-04T22:56:13.597093340Z",
     "start_time": "2024-02-04T22:56:13.343348104Z"
    }
   },
   "id": "1247e227915ee076",
   "execution_count": 2
  },
  {
   "cell_type": "code",
   "outputs": [],
   "source": [
    "# %% Look for files used to: 1) make a template and do seam-overlap handling and X-Y shift alignment; 2) pre-process\n",
    "path_all_files = []\n",
    "for i_dir in params[\"raw_data_dirs\"]:\n",
    "    tmp_paths = sorted(glob.glob(i_dir + \"/**/*.tif\", recursive=True))\n",
    "    for this_tmp_path in tmp_paths:\n",
    "        if (\n",
    "                params[\"fname_must_contain\"] in this_tmp_path and\n",
    "                params[\"fname_must_NOT_contain\"] not in this_tmp_path\n",
    "        ):\n",
    "            path_all_files.append(this_tmp_path)\n",
    "\n",
    "if params[\"debug\"]:\n",
    "    ic(path_all_files)\n",
    "\n",
    "n_template_files = len(params[\"list_files_for_template\"])\n",
    "ic(n_template_files)\n",
    "path_template_files = [path_all_files[file_idx] for file_idx in params[\"list_files_for_template\"]]\n",
    "\n",
    "del (\n",
    "    i_dir,\n",
    "    params[\"raw_data_dirs\"],\n",
    "    params[\"fname_must_contain\"],\n",
    "    params[\"fname_must_NOT_contain\"],\n",
    ")\n",
    "\n",
    "pipeline_steps = []\n",
    "if params[\"make_template_seams_and_plane_alignment\"]:\n",
    "    pipeline_steps.append(\"make_template\")\n",
    "if params[\"reconstruct_all_files\"]:\n",
    "    pipeline_steps.append(\"reconstruct_all\")\n"
   ],
   "metadata": {
    "collapsed": false
   },
   "id": "ed813e2c8305ec59"
  }
 ],
 "metadata": {
  "kernelspec": {
   "display_name": "Python 3",
   "language": "python",
   "name": "python3"
  },
  "language_info": {
   "codemirror_mode": {
    "name": "ipython",
    "version": 2
   },
   "file_extension": ".py",
   "mimetype": "text/x-python",
   "name": "python",
   "nbconvert_exporter": "python",
   "pygments_lexer": "ipython2",
   "version": "2.7.6"
  }
 },
 "nbformat": 4,
 "nbformat_minor": 5
}
