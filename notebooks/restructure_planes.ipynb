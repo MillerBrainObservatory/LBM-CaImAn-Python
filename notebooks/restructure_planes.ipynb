{
 "cells": [
  {
   "cell_type": "markdown",
   "id": "7b7653b0",
   "metadata": {},
   "source": [
    "# Preprocessing Steps for Light Beads Microscopy Data\n",
    "\n",
    "### Steps\n",
    "1. Load raw .tif file\n",
    "2. Pull ScanImage ROI's and Metadata\n",
    "3. Restructure Planes\n",
    "4. Save processed data\n",
    "\n",
    "sorts the z-planes (LBM)\n",
    "uses metadata to place MROIs and reconstruct the frames\n",
    "calculates and corrects the MROI overlaps and seams\n",
    "calculates and corrects the X-Y shifts across planes (LBM)\n",
    "outputs data as t-x-y planes or t-x-y-z volumes\n",
    "saves a .png with the average frame of all planes\n",
    "saves a short .mp4 clip"
   ]
  },
  {
   "cell_type": "code",
   "execution_count": 3,
   "id": "initial_id",
   "metadata": {
    "ExecuteTime": {
     "end_time": "2024-02-05T01:07:18.914791049Z",
     "start_time": "2024-02-05T01:07:17.832208008Z"
    },
    "editable": true,
    "slideshow": {
     "slide_type": ""
    },
    "tags": []
   },
   "outputs": [
    {
     "name": "stderr",
     "output_type": "stream",
     "text": [
      "RBO Debugger -> /tmp/ipykernel_127276/257540432.py:41 in <module> at 14:40:34.431\n"
     ]
    }
   ],
   "source": [
    "import copy\n",
    "import cv2\n",
    "import datetime\n",
    "import glob\n",
    "import h5py\n",
    "import json\n",
    "import logging\n",
    "import matplotlib.pyplot as plt\n",
    "import numpy as np\n",
    "import os\n",
    "import scipy\n",
    "import scipy.signal\n",
    "import skimage\n",
    "import sys\n",
    "import tifffile\n",
    "import time\n",
    "from pathlib import Path\n",
    "\n",
    "mod_path = Path(os.getcwd()) / '..'\n",
    "if str(mod_path) not in sys.path:\n",
    "    sys.path.append(str(mod_path))\n",
    "import params\n",
    "plt.rcParams[\"figure.dpi\"] = 900\n",
    "\n",
    "try:\n",
    "    from icecream import ic, install, argumentToString\n",
    "    install()\n",
    "except ImportError:  # graceful fallback if icecream isn't installed.\n",
    "    ic = lambda *a: None if not a else (a[0] if len(a) == 1 else a)  # noqa\n",
    "\n",
    "@argumentToString.register(np.ndarray)\n",
    "def _(obj):\n",
    "    \"\"\"Format our return for the icecream debug statement.\"\"\"\n",
    "    return f\"ndarray, shape={obj.shape}, dtype={obj.dtype}\"\n",
    "\n",
    "params = params.init_params()\n",
    "\n",
    "if params['debug']:\n",
    "    ic.enable()\n",
    "    ic.configureOutput(prefix='RBO Debugger -> ', includeContext=True, contextAbsPath=True)\n",
    "    ic()\n",
    "else:\n",
    "    ic.disable()\n",
    "    ic()\n"
   ]
  },
  {
   "cell_type": "code",
   "execution_count": 4,
   "id": "1247e227915ee076",
   "metadata": {
    "ExecuteTime": {
     "end_time": "2024-02-05T01:07:22.307946256Z",
     "start_time": "2024-02-05T01:07:22.283769390Z"
    },
    "collapsed": false
   },
   "outputs": [],
   "source": [
    "if params[\"save_output\"]:\n",
    "    # 'planes' will save individual planes in subfolders -- 'volume' will save a whole 4D hdf5 volume\n",
    "    params[\"save_as_volume_or_planes\"] = \"planes\"\n",
    "    if params[\"save_as_volume_or_planes\"] == \"planes\":\n",
    "        # If True, it will take all the time-chunked h5 files, concatenate, and save them as a single .tif\n",
    "        params[\"concatenate_all_h5_to_tif\"] = False\n",
    "\n",
    "if params[\"seams_overlap\"] == \"calculate\":\n",
    "    # correct delay or incorrect phase when EOM turns the laser on/off at the start/end of a resonant-scanner line\n",
    "    params[\"n_ignored_pixels_sides\"] = 5\n",
    "    params[\"min_seam_overlap\"] = 5\n",
    "    params[\"max_seam_overlap\"] = 20\n",
    "    params[\"alignment_plot_checks\"] = False\n",
    "if not params[\"reconstruct_all_files\"]:\n",
    "    params[\"reconstruct_until_this_ifile\"] = 10\n",
    "if params[\"save_mp4\"] or params[\"save_meanf_png\"]:\n",
    "    params[\"gaps_columns\"] = 5\n",
    "    params[\"gaps_rows\"] = 5\n",
    "    params[\"intensity_percentiles\"] = [15, 99.5]\n",
    "    if params[\"save_meanf_png\"]:\n",
    "        params[\"meanf_png_only_first_file\"] = True\n",
    "    if params[\"save_mp4\"]:\n",
    "        params[\"video_only_first_file\"] = True\n",
    "        params[\"video_play_speed\"] = 1\n",
    "        params[\"rolling_average_frames\"] = 1\n",
    "        params[\"video_duration_secs\"] = 20\n",
    "        \n",
    "if not params[\"lateral_align_planes\"]:\n",
    "    initialize_volume_with_nans = False\n",
    "    convert_volume_float32_to_int16 = True\n",
    "    params[\"make_nonan_volume\"] = False\n",
    "elif params[\"make_nonan_volume\"]:\n",
    "    initialize_volume_with_nans = True\n",
    "    convert_volume_float32_to_int16 = True\n",
    "else:\n",
    "    initialize_volume_with_nans = True\n",
    "    convert_volume_float32_to_int16 = False"
   ]
  },
  {
   "cell_type": "markdown",
   "id": "d3bef5ac55e97db9",
   "metadata": {
    "collapsed": false
   },
   "source": [
    "Retrieve files from the given data directory, any files that match `.tif`, recursively."
   ]
  },
  {
   "cell_type": "code",
   "execution_count": 5,
   "id": "ed813e2c8305ec59",
   "metadata": {
    "ExecuteTime": {
     "end_time": "2024-02-05T01:07:32.203589291Z",
     "start_time": "2024-02-05T01:07:32.053641789Z"
    },
    "collapsed": false
   },
   "outputs": [
    {
     "name": "stderr",
     "output_type": "stream",
     "text": [
      "RBO Debugger -> /tmp/ipykernel_127276/934981101.py:13 in <module>\n",
      "                path_all_files: ['/v-data4/foconnell/data/lbm/raw/mh89_hemisphere_FOV_50_550um_depth_250mW_dual_stimuli_30min_00001_00001.tif']\n",
      "RBO Debugger -> /tmp/ipykernel_127276/934981101.py:16 in <module>\n",
      "                n_template_files: 1\n"
     ]
    }
   ],
   "source": [
    "# %% Look for files used to: 1) make a template and do seam-overlap handling and X-Y shift alignment; 2) pre-process\n",
    "path_all_files = []\n",
    "for i_dir in params[\"raw_data_dirs\"]:\n",
    "    tmp_paths = sorted(glob.glob(i_dir + \"/**/*.tif\", recursive=True))\n",
    "    for this_tmp_path in tmp_paths:\n",
    "        if (\n",
    "                params[\"fname_must_contain\"] in this_tmp_path and\n",
    "                params[\"fname_must_NOT_contain\"] not in this_tmp_path\n",
    "        ):\n",
    "            path_all_files.append(this_tmp_path)\n",
    "\n",
    "if params[\"debug\"]:\n",
    "    ic(path_all_files)\n",
    "\n",
    "n_template_files = len(params[\"list_files_for_template\"])\n",
    "ic(n_template_files)\n",
    "path_template_files = [path_all_files[file_idx] for file_idx in params[\"list_files_for_template\"]]\n",
    "\n",
    "del (\n",
    "    i_dir,\n",
    "    params[\"raw_data_dirs\"],\n",
    "    params[\"fname_must_contain\"],\n",
    "    params[\"fname_must_NOT_contain\"],\n",
    ")\n",
    "\n",
    "pipeline_steps = []\n",
    "if params[\"make_template_seams_and_plane_alignment\"]:\n",
    "    pipeline_steps.append(\"make_template\")\n",
    "if params[\"reconstruct_all_files\"]:\n",
    "    pipeline_steps.append(\"reconstruct_all\")\n"
   ]
  },
  {
   "cell_type": "code",
   "execution_count": 6,
   "id": "ec126e49508a7b69",
   "metadata": {
    "ExecuteTime": {
     "end_time": "2024-02-05T01:16:29.829856760Z",
     "start_time": "2024-02-05T01:11:31.892940926Z"
    },
    "collapsed": false
   },
   "outputs": [
    {
     "name": "stderr",
     "output_type": "stream",
     "text": [
      "RBO Debugger -> /tmp/ipykernel_127276/2386270191.py:15 in <module>\n",
      "                \"Start Reconstruction\": 'Start Reconstruction'\n",
      "                path_input_file: '/v-data4/foconnell/data/lbm/raw/mh89_hemisphere_FOV_50_550um_depth_250mW_dual_stimuli_30min_00001_00001.tif'\n",
      "RBO Debugger -> /tmp/ipykernel_127276/2386270191.py:39 in <module>\n",
      "                n_planes: 30\n",
      "RBO Debugger -> /tmp/ipykernel_127276/2386270191.py:78 in <module>\n",
      "                \"Loading file (expect warning for multi-file recording)\": 'Loading file (expect warning for multi-file recording)'\n",
      "<tifffile.TiffFile 'mh89_hemisphere…_00001_00001.tif'> asarray failed to reshape (25320, 5104, 145) to (8440, 30, 5104, 145)\n",
      "RBO Debugger -> /tmp/ipykernel_127276/2386270191.py:15 in <module>\n",
      "                \"Start Reconstruction\": 'Start Reconstruction'\n",
      "                path_input_file: '/v-data4/foconnell/data/lbm/raw/mh89_hemisphere_FOV_50_550um_depth_250mW_dual_stimuli_30min_00001_00001.tif'\n",
      "RBO Debugger -> /tmp/ipykernel_127276/2386270191.py:39 in <module>\n",
      "                n_planes: 30\n",
      "RBO Debugger -> /tmp/ipykernel_127276/2386270191.py:78 in <module>\n",
      "                \"Loading file (expect warning for multi-file recording)\": 'Loading file (expect warning for multi-file recording)'\n",
      "<tifffile.TiffFile 'mh89_hemisphere…_00001_00001.tif'> asarray failed to reshape (25320, 5104, 145) to (8440, 30, 5104, 145)\n"
     ]
    }
   ],
   "source": [
    "for current_pipeline_step in pipeline_steps:\n",
    "    if current_pipeline_step == \"make_template\":\n",
    "        path_input_files = path_template_files\n",
    "    elif current_pipeline_step == \"reconstruct_all\":\n",
    "        path_input_files = path_all_files\n",
    "\n",
    "    if params[\"reconstruct_all_files\"]:\n",
    "        list_files_for_reconstruction = range(len(path_input_files))\n",
    "    else:\n",
    "        list_files_for_reconstruction = range(params[\"reconstruct_until_this_ifile\"])\n",
    "\n",
    "    for i_file in list_files_for_reconstruction:\n",
    "        tic = time.time()\n",
    "        path_input_file = path_input_files[i_file]\n",
    "        ic(\"Start Reconstruction\", path_input_file)\n",
    "        \n",
    "        if i_file == 0:\n",
    "            if \"SP\" in path_input_file:\n",
    "                n_planes = 1\n",
    "            elif \"Max15\" in path_input_file:\n",
    "                n_planes = 15\n",
    "            elif \"Max30\" in path_input_file:\n",
    "                n_planes = 30\n",
    "            elif params[\"flynn_temp_param\"]:\n",
    "                n_planes = 30\n",
    "            else:\n",
    "                n_planes = int(input(\"Check filename... Number of planes?\"))\n",
    "\n",
    "            if n_planes == 1:\n",
    "                chans_order = params[\"chans_order_1plane\"]\n",
    "                rows, columns = 1, 1  # For png and mp4\n",
    "            elif n_planes == 15:\n",
    "                chans_order = params[\"chans_order_15planes\"]\n",
    "                rows, columns = 3, 5\n",
    "            elif n_planes == 30:\n",
    "                chans_order = params[\"chans_order_30planes\"]\n",
    "                rows, columns = 6, 5\n",
    "\n",
    "            ic(n_planes)\n",
    "\n",
    "            # %% Get MROI info from tif metadata\n",
    "            with tifffile.TiffFile(path_input_file) as tif:\n",
    "                metadata = {}\n",
    "                for tag in tif.pages[0].tags.values():\n",
    "                    tag_name, tag_value = tag.name, tag.value\n",
    "                    metadata[tag_name] = tag_value\n",
    "\n",
    "            mrois_si_raw = json.loads(metadata[\"Artist\"])[\"RoiGroups\"][\"imagingRoiGroup\"][\"rois\"]\n",
    "            if type(mrois_si_raw) != dict:\n",
    "                mrois_si = []\n",
    "                for roi in mrois_si_raw:\n",
    "                    if type(roi[\"scanfields\"]) != list:\n",
    "                        scanfield = roi[\"scanfields\"]\n",
    "                    else:\n",
    "                        scanfield = roi[\"scanfields\"][\n",
    "                            np.where(np.array(roi[\"zs\"]) == 0)[0][0]\n",
    "                        ]\n",
    "                    roi_dict = {}\n",
    "                    roi_dict[\"center\"] = np.array(scanfield[\"centerXY\"])\n",
    "                    roi_dict[\"sizeXY\"] = np.array(scanfield[\"sizeXY\"])\n",
    "                    roi_dict[\"pixXY\"] = np.array(scanfield[\"pixelResolutionXY\"])\n",
    "                    mrois_si.append(roi_dict)\n",
    "            else:\n",
    "                scanfield = mrois_si_raw[\"scanfields\"]\n",
    "                roi_dict = {}\n",
    "                roi_dict[\"center\"] = np.array(scanfield[\"centerXY\"])\n",
    "                roi_dict[\"sizeXY\"] = np.array(scanfield[\"sizeXY\"])\n",
    "                roi_dict[\"pixXY\"] = np.array(scanfield[\"pixelResolutionXY\"])\n",
    "                mrois_si = [roi_dict]\n",
    "\n",
    "            # Sort MROIs so they go from left-to-right (but keep the un-sorted because that matches how they were acquired and saved in the long-tif-strip)\n",
    "            mrois_centers_si = np.array([mroi_si[\"center\"] for mroi_si in mrois_si])\n",
    "            x_sorted = np.argsort(mrois_centers_si[:, 0])\n",
    "            mrois_si_sorted_x = [mrois_si[i] for i in x_sorted]\n",
    "            mrois_centers_si_sorted_x = [mrois_centers_si[i] for i in x_sorted]\n",
    "        # ----\n",
    "        # %% Load, reshape (so time and planes are 2 independent dimensions) and re-order (planes, fix Jeff's order)\n",
    "        ic(\"Loading file (expect warning for multi-file recording)\")\n",
    "\n",
    "        tiff_file = tifffile.imread(path_input_file)\n",
    "        dim1 = tiff_file.shape[0]\n",
    "        dim2 = tiff_file.shape[1]\n",
    "        dim3 = tiff_file.shape[2]\n",
    "\n",
    "        tiff_file = tifffile.imread(path_input_file)\n",
    "        \n",
    "        if n_planes > 1: \n",
    "            tiff_file = np.reshape(tiff_file, ( int(tiff_file.shape[0]/n_planes), n_planes,tiff_file.shape[1],tiff_file.shape[2]), order='A') # warnings are expected if the recording is split into many files or incomplete\n",
    "        else:\n",
    "            tiff_file = np.expand_dims(tiff_file,1)\n",
    "        tiff_file = np.swapaxes(tiff_file, 1, 3)\n",
    "        tiff_file = tiff_file[...,chans_order]\n",
    "        \n",
    "        if current_pipeline_step == 'make_template':\n",
    "            tiff_file = np.mean(tiff_file, axis = 0, keepdims = True)\n",
    "        \n",
    "        #%% Separate tif into MROIs\n",
    "        \n",
    "        # Get the Y coordinates for mrois (and not flybacks)\n",
    "        if i_file == 0:\n",
    "            n_mrois = len(mrois_si)\n",
    "            tif_pixels_Y = tiff_file.shape[2]\n",
    "            mrois_pixels_Y = np.array([mroi_si['pixXY'][1] for mroi_si in mrois_si])\n",
    "            each_flyback_pixels_Y = (tif_pixels_Y - mrois_pixels_Y.sum())//(n_mrois - 1)\n",
    "        \n",
    "        if params['json_logging']: json_logger.debug(json.dumps({'debug_message':'Separating tif into individual MROIs'}))\n",
    "        \n",
    "        # Divide long stripe into mrois\n",
    "        planes_mrois = np.empty((n_planes,n_mrois), dtype=np.ndarray)\n",
    "        for i_plane in range(n_planes):\n",
    "            y_start = 0\n",
    "            for i_mroi in range(n_mrois): # We go over the order in which they were acquired\n",
    "                planes_mrois[i_plane, i_mroi] = tiff_file[:, :, y_start:y_start+mrois_pixels_Y[x_sorted[i_mroi]], i_plane]\n",
    "                y_start += mrois_pixels_Y[i_mroi] + each_flyback_pixels_Y\n",
    "        \n",
    "        del tiff_file\n"
   ]
  },
  {
   "cell_type": "code",
   "execution_count": 7,
   "id": "5d4edf6c7d8cdb34",
   "metadata": {
    "collapsed": false
   },
   "outputs": [
    {
     "ename": "TypeError",
     "evalue": "'module' object is not callable",
     "output_type": "error",
     "traceback": [
      "\u001b[0;31m---------------------------------------------------------------------------\u001b[0m",
      "\u001b[0;31mTypeError\u001b[0m                                 Traceback (most recent call last)",
      "Cell \u001b[0;32mIn[7], line 1\u001b[0m\n\u001b[0;32m----> 1\u001b[0m data \u001b[38;5;241m=\u001b[39m \u001b[43mtifffile\u001b[49m\u001b[38;5;241;43m.\u001b[39;49m\u001b[43mtifffile\u001b[49m\u001b[43m(\u001b[49m\u001b[43m)\u001b[49m\n",
      "\u001b[0;31mTypeError\u001b[0m: 'module' object is not callable"
     ]
    }
   ],
   "source": [
    "#   #   #\n",
    "        "
   ]
  }
 ],
 "metadata": {
  "kernelspec": {
   "display_name": "Python 3 (ipykernel)",
   "language": "python",
   "name": "python3"
  },
  "language_info": {
   "codemirror_mode": {
    "name": "ipython",
    "version": 3
   },
   "file_extension": ".py",
   "mimetype": "text/x-python",
   "name": "python",
   "nbconvert_exporter": "python",
   "pygments_lexer": "ipython3",
   "version": "3.9.18"
  }
 },
 "nbformat": 4,
 "nbformat_minor": 5
}
